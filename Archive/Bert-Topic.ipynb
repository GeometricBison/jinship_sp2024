{
 "cells": [
  {
   "cell_type": "code",
   "execution_count": 3,
   "metadata": {},
   "outputs": [
    {
     "name": "stdout",
     "output_type": "stream",
     "text": [
      "Requirement already satisfied: datasets in /Users/ayushjain/Development/DisruptionLab/jinship_sp2024/.venv/lib/python3.9/site-packages (2.17.1)\n",
      "Requirement already satisfied: filelock in /Users/ayushjain/Development/DisruptionLab/jinship_sp2024/.venv/lib/python3.9/site-packages (from datasets) (3.13.1)\n",
      "Requirement already satisfied: numpy>=1.17 in /Users/ayushjain/Development/DisruptionLab/jinship_sp2024/.venv/lib/python3.9/site-packages (from datasets) (1.26.4)\n",
      "Requirement already satisfied: pyarrow>=12.0.0 in /Users/ayushjain/Development/DisruptionLab/jinship_sp2024/.venv/lib/python3.9/site-packages (from datasets) (15.0.0)\n",
      "Requirement already satisfied: pyarrow-hotfix in /Users/ayushjain/Development/DisruptionLab/jinship_sp2024/.venv/lib/python3.9/site-packages (from datasets) (0.6)\n",
      "Requirement already satisfied: dill<0.3.9,>=0.3.0 in /Users/ayushjain/Development/DisruptionLab/jinship_sp2024/.venv/lib/python3.9/site-packages (from datasets) (0.3.8)\n",
      "Requirement already satisfied: pandas in /Users/ayushjain/Development/DisruptionLab/jinship_sp2024/.venv/lib/python3.9/site-packages (from datasets) (2.2.1)\n",
      "Requirement already satisfied: requests>=2.19.0 in /Users/ayushjain/Development/DisruptionLab/jinship_sp2024/.venv/lib/python3.9/site-packages (from datasets) (2.31.0)\n",
      "Requirement already satisfied: tqdm>=4.62.1 in /Users/ayushjain/Development/DisruptionLab/jinship_sp2024/.venv/lib/python3.9/site-packages (from datasets) (4.66.2)\n",
      "Requirement already satisfied: xxhash in /Users/ayushjain/Development/DisruptionLab/jinship_sp2024/.venv/lib/python3.9/site-packages (from datasets) (3.4.1)\n",
      "Requirement already satisfied: multiprocess in /Users/ayushjain/Development/DisruptionLab/jinship_sp2024/.venv/lib/python3.9/site-packages (from datasets) (0.70.16)\n",
      "Requirement already satisfied: fsspec<=2023.10.0,>=2023.1.0 in /Users/ayushjain/Development/DisruptionLab/jinship_sp2024/.venv/lib/python3.9/site-packages (from fsspec[http]<=2023.10.0,>=2023.1.0->datasets) (2023.10.0)\n",
      "Requirement already satisfied: aiohttp in /Users/ayushjain/Development/DisruptionLab/jinship_sp2024/.venv/lib/python3.9/site-packages (from datasets) (3.9.3)\n",
      "Requirement already satisfied: huggingface-hub>=0.19.4 in /Users/ayushjain/Development/DisruptionLab/jinship_sp2024/.venv/lib/python3.9/site-packages (from datasets) (0.20.3)\n",
      "Requirement already satisfied: packaging in /Users/ayushjain/Development/DisruptionLab/jinship_sp2024/.venv/lib/python3.9/site-packages (from datasets) (23.2)\n",
      "Requirement already satisfied: pyyaml>=5.1 in /Users/ayushjain/Development/DisruptionLab/jinship_sp2024/.venv/lib/python3.9/site-packages (from datasets) (6.0.1)\n",
      "Requirement already satisfied: aiosignal>=1.1.2 in /Users/ayushjain/Development/DisruptionLab/jinship_sp2024/.venv/lib/python3.9/site-packages (from aiohttp->datasets) (1.3.1)\n",
      "Requirement already satisfied: attrs>=17.3.0 in /Users/ayushjain/Development/DisruptionLab/jinship_sp2024/.venv/lib/python3.9/site-packages (from aiohttp->datasets) (23.2.0)\n",
      "Requirement already satisfied: frozenlist>=1.1.1 in /Users/ayushjain/Development/DisruptionLab/jinship_sp2024/.venv/lib/python3.9/site-packages (from aiohttp->datasets) (1.4.1)\n",
      "Requirement already satisfied: multidict<7.0,>=4.5 in /Users/ayushjain/Development/DisruptionLab/jinship_sp2024/.venv/lib/python3.9/site-packages (from aiohttp->datasets) (6.0.5)\n",
      "Requirement already satisfied: yarl<2.0,>=1.0 in /Users/ayushjain/Development/DisruptionLab/jinship_sp2024/.venv/lib/python3.9/site-packages (from aiohttp->datasets) (1.9.4)\n",
      "Requirement already satisfied: async-timeout<5.0,>=4.0 in /Users/ayushjain/Development/DisruptionLab/jinship_sp2024/.venv/lib/python3.9/site-packages (from aiohttp->datasets) (4.0.3)\n",
      "Requirement already satisfied: typing-extensions>=3.7.4.3 in /Users/ayushjain/Development/DisruptionLab/jinship_sp2024/.venv/lib/python3.9/site-packages (from huggingface-hub>=0.19.4->datasets) (4.10.0)\n",
      "Requirement already satisfied: charset-normalizer<4,>=2 in /Users/ayushjain/Development/DisruptionLab/jinship_sp2024/.venv/lib/python3.9/site-packages (from requests>=2.19.0->datasets) (3.3.2)\n",
      "Requirement already satisfied: idna<4,>=2.5 in /Users/ayushjain/Development/DisruptionLab/jinship_sp2024/.venv/lib/python3.9/site-packages (from requests>=2.19.0->datasets) (3.6)\n",
      "Requirement already satisfied: urllib3<3,>=1.21.1 in /Users/ayushjain/Development/DisruptionLab/jinship_sp2024/.venv/lib/python3.9/site-packages (from requests>=2.19.0->datasets) (2.2.1)\n",
      "Requirement already satisfied: certifi>=2017.4.17 in /Users/ayushjain/Development/DisruptionLab/jinship_sp2024/.venv/lib/python3.9/site-packages (from requests>=2.19.0->datasets) (2024.2.2)\n",
      "Requirement already satisfied: python-dateutil>=2.8.2 in /Users/ayushjain/Development/DisruptionLab/jinship_sp2024/.venv/lib/python3.9/site-packages (from pandas->datasets) (2.8.2)\n",
      "Requirement already satisfied: pytz>=2020.1 in /Users/ayushjain/Development/DisruptionLab/jinship_sp2024/.venv/lib/python3.9/site-packages (from pandas->datasets) (2024.1)\n",
      "Requirement already satisfied: tzdata>=2022.7 in /Users/ayushjain/Development/DisruptionLab/jinship_sp2024/.venv/lib/python3.9/site-packages (from pandas->datasets) (2024.1)\n",
      "Requirement already satisfied: six>=1.5 in /Users/ayushjain/Development/DisruptionLab/jinship_sp2024/.venv/lib/python3.9/site-packages (from python-dateutil>=2.8.2->pandas->datasets) (1.16.0)\n",
      "Requirement already satisfied: bertopic in /Users/ayushjain/Development/DisruptionLab/jinship_sp2024/.venv/lib/python3.9/site-packages (0.16.0)\n",
      "Requirement already satisfied: numpy>=1.20.0 in /Users/ayushjain/Development/DisruptionLab/jinship_sp2024/.venv/lib/python3.9/site-packages (from bertopic) (1.26.4)\n",
      "Requirement already satisfied: hdbscan>=0.8.29 in /Users/ayushjain/Development/DisruptionLab/jinship_sp2024/.venv/lib/python3.9/site-packages (from bertopic) (0.8.33)\n",
      "Requirement already satisfied: umap-learn>=0.5.0 in /Users/ayushjain/Development/DisruptionLab/jinship_sp2024/.venv/lib/python3.9/site-packages (from bertopic) (0.5.5)\n",
      "Requirement already satisfied: pandas>=1.1.5 in /Users/ayushjain/Development/DisruptionLab/jinship_sp2024/.venv/lib/python3.9/site-packages (from bertopic) (2.2.1)\n",
      "Requirement already satisfied: scikit-learn>=0.22.2.post1 in /Users/ayushjain/Development/DisruptionLab/jinship_sp2024/.venv/lib/python3.9/site-packages (from bertopic) (1.4.1.post1)\n",
      "Requirement already satisfied: tqdm>=4.41.1 in /Users/ayushjain/Development/DisruptionLab/jinship_sp2024/.venv/lib/python3.9/site-packages (from bertopic) (4.66.2)\n",
      "Requirement already satisfied: sentence-transformers>=0.4.1 in /Users/ayushjain/Development/DisruptionLab/jinship_sp2024/.venv/lib/python3.9/site-packages (from bertopic) (2.4.0)\n",
      "Requirement already satisfied: plotly>=4.7.0 in /Users/ayushjain/Development/DisruptionLab/jinship_sp2024/.venv/lib/python3.9/site-packages (from bertopic) (5.19.0)\n",
      "Requirement already satisfied: cython<3,>=0.27 in /Users/ayushjain/Development/DisruptionLab/jinship_sp2024/.venv/lib/python3.9/site-packages (from hdbscan>=0.8.29->bertopic) (0.29.37)\n",
      "Requirement already satisfied: scipy>=1.0 in /Users/ayushjain/Development/DisruptionLab/jinship_sp2024/.venv/lib/python3.9/site-packages (from hdbscan>=0.8.29->bertopic) (1.12.0)\n",
      "Requirement already satisfied: joblib>=1.0 in /Users/ayushjain/Development/DisruptionLab/jinship_sp2024/.venv/lib/python3.9/site-packages (from hdbscan>=0.8.29->bertopic) (1.3.2)\n",
      "Requirement already satisfied: python-dateutil>=2.8.2 in /Users/ayushjain/Development/DisruptionLab/jinship_sp2024/.venv/lib/python3.9/site-packages (from pandas>=1.1.5->bertopic) (2.8.2)\n",
      "Requirement already satisfied: pytz>=2020.1 in /Users/ayushjain/Development/DisruptionLab/jinship_sp2024/.venv/lib/python3.9/site-packages (from pandas>=1.1.5->bertopic) (2024.1)\n",
      "Requirement already satisfied: tzdata>=2022.7 in /Users/ayushjain/Development/DisruptionLab/jinship_sp2024/.venv/lib/python3.9/site-packages (from pandas>=1.1.5->bertopic) (2024.1)\n",
      "Requirement already satisfied: tenacity>=6.2.0 in /Users/ayushjain/Development/DisruptionLab/jinship_sp2024/.venv/lib/python3.9/site-packages (from plotly>=4.7.0->bertopic) (8.2.3)\n",
      "Requirement already satisfied: packaging in /Users/ayushjain/Development/DisruptionLab/jinship_sp2024/.venv/lib/python3.9/site-packages (from plotly>=4.7.0->bertopic) (23.2)\n",
      "Requirement already satisfied: threadpoolctl>=2.0.0 in /Users/ayushjain/Development/DisruptionLab/jinship_sp2024/.venv/lib/python3.9/site-packages (from scikit-learn>=0.22.2.post1->bertopic) (3.3.0)\n",
      "Requirement already satisfied: transformers<5.0.0,>=4.32.0 in /Users/ayushjain/Development/DisruptionLab/jinship_sp2024/.venv/lib/python3.9/site-packages (from sentence-transformers>=0.4.1->bertopic) (4.38.1)\n",
      "Requirement already satisfied: torch>=1.11.0 in /Users/ayushjain/Development/DisruptionLab/jinship_sp2024/.venv/lib/python3.9/site-packages (from sentence-transformers>=0.4.1->bertopic) (2.2.1)\n",
      "Requirement already satisfied: huggingface-hub>=0.15.1 in /Users/ayushjain/Development/DisruptionLab/jinship_sp2024/.venv/lib/python3.9/site-packages (from sentence-transformers>=0.4.1->bertopic) (0.20.3)\n",
      "Requirement already satisfied: Pillow in /Users/ayushjain/Development/DisruptionLab/jinship_sp2024/.venv/lib/python3.9/site-packages (from sentence-transformers>=0.4.1->bertopic) (10.2.0)\n",
      "Requirement already satisfied: numba>=0.51.2 in /Users/ayushjain/Development/DisruptionLab/jinship_sp2024/.venv/lib/python3.9/site-packages (from umap-learn>=0.5.0->bertopic) (0.59.0)\n",
      "Requirement already satisfied: pynndescent>=0.5 in /Users/ayushjain/Development/DisruptionLab/jinship_sp2024/.venv/lib/python3.9/site-packages (from umap-learn>=0.5.0->bertopic) (0.5.11)\n",
      "Requirement already satisfied: filelock in /Users/ayushjain/Development/DisruptionLab/jinship_sp2024/.venv/lib/python3.9/site-packages (from huggingface-hub>=0.15.1->sentence-transformers>=0.4.1->bertopic) (3.13.1)\n",
      "Requirement already satisfied: fsspec>=2023.5.0 in /Users/ayushjain/Development/DisruptionLab/jinship_sp2024/.venv/lib/python3.9/site-packages (from huggingface-hub>=0.15.1->sentence-transformers>=0.4.1->bertopic) (2023.10.0)\n",
      "Requirement already satisfied: requests in /Users/ayushjain/Development/DisruptionLab/jinship_sp2024/.venv/lib/python3.9/site-packages (from huggingface-hub>=0.15.1->sentence-transformers>=0.4.1->bertopic) (2.31.0)\n",
      "Requirement already satisfied: pyyaml>=5.1 in /Users/ayushjain/Development/DisruptionLab/jinship_sp2024/.venv/lib/python3.9/site-packages (from huggingface-hub>=0.15.1->sentence-transformers>=0.4.1->bertopic) (6.0.1)\n",
      "Requirement already satisfied: typing-extensions>=3.7.4.3 in /Users/ayushjain/Development/DisruptionLab/jinship_sp2024/.venv/lib/python3.9/site-packages (from huggingface-hub>=0.15.1->sentence-transformers>=0.4.1->bertopic) (4.10.0)\n",
      "Requirement already satisfied: llvmlite<0.43,>=0.42.0dev0 in /Users/ayushjain/Development/DisruptionLab/jinship_sp2024/.venv/lib/python3.9/site-packages (from numba>=0.51.2->umap-learn>=0.5.0->bertopic) (0.42.0)\n",
      "Requirement already satisfied: six>=1.5 in /Users/ayushjain/Development/DisruptionLab/jinship_sp2024/.venv/lib/python3.9/site-packages (from python-dateutil>=2.8.2->pandas>=1.1.5->bertopic) (1.16.0)\n",
      "Requirement already satisfied: sympy in /Users/ayushjain/Development/DisruptionLab/jinship_sp2024/.venv/lib/python3.9/site-packages (from torch>=1.11.0->sentence-transformers>=0.4.1->bertopic) (1.12)\n",
      "Requirement already satisfied: networkx in /Users/ayushjain/Development/DisruptionLab/jinship_sp2024/.venv/lib/python3.9/site-packages (from torch>=1.11.0->sentence-transformers>=0.4.1->bertopic) (3.2.1)\n",
      "Requirement already satisfied: jinja2 in /Users/ayushjain/Development/DisruptionLab/jinship_sp2024/.venv/lib/python3.9/site-packages (from torch>=1.11.0->sentence-transformers>=0.4.1->bertopic) (3.1.3)\n",
      "Requirement already satisfied: regex!=2019.12.17 in /Users/ayushjain/Development/DisruptionLab/jinship_sp2024/.venv/lib/python3.9/site-packages (from transformers<5.0.0,>=4.32.0->sentence-transformers>=0.4.1->bertopic) (2023.12.25)\n",
      "Requirement already satisfied: tokenizers<0.19,>=0.14 in /Users/ayushjain/Development/DisruptionLab/jinship_sp2024/.venv/lib/python3.9/site-packages (from transformers<5.0.0,>=4.32.0->sentence-transformers>=0.4.1->bertopic) (0.15.2)\n",
      "Requirement already satisfied: safetensors>=0.4.1 in /Users/ayushjain/Development/DisruptionLab/jinship_sp2024/.venv/lib/python3.9/site-packages (from transformers<5.0.0,>=4.32.0->sentence-transformers>=0.4.1->bertopic) (0.4.2)\n",
      "Requirement already satisfied: MarkupSafe>=2.0 in /Users/ayushjain/Development/DisruptionLab/jinship_sp2024/.venv/lib/python3.9/site-packages (from jinja2->torch>=1.11.0->sentence-transformers>=0.4.1->bertopic) (2.1.5)\n",
      "Requirement already satisfied: charset-normalizer<4,>=2 in /Users/ayushjain/Development/DisruptionLab/jinship_sp2024/.venv/lib/python3.9/site-packages (from requests->huggingface-hub>=0.15.1->sentence-transformers>=0.4.1->bertopic) (3.3.2)\n",
      "Requirement already satisfied: idna<4,>=2.5 in /Users/ayushjain/Development/DisruptionLab/jinship_sp2024/.venv/lib/python3.9/site-packages (from requests->huggingface-hub>=0.15.1->sentence-transformers>=0.4.1->bertopic) (3.6)\n",
      "Requirement already satisfied: urllib3<3,>=1.21.1 in /Users/ayushjain/Development/DisruptionLab/jinship_sp2024/.venv/lib/python3.9/site-packages (from requests->huggingface-hub>=0.15.1->sentence-transformers>=0.4.1->bertopic) (2.2.1)\n",
      "Requirement already satisfied: certifi>=2017.4.17 in /Users/ayushjain/Development/DisruptionLab/jinship_sp2024/.venv/lib/python3.9/site-packages (from requests->huggingface-hub>=0.15.1->sentence-transformers>=0.4.1->bertopic) (2024.2.2)\n",
      "Requirement already satisfied: mpmath>=0.19 in /Users/ayushjain/Development/DisruptionLab/jinship_sp2024/.venv/lib/python3.9/site-packages (from sympy->torch>=1.11.0->sentence-transformers>=0.4.1->bertopic) (1.3.0)\n",
      "Requirement already satisfied: langchain in /Users/ayushjain/Development/DisruptionLab/jinship_sp2024/.venv/lib/python3.9/site-packages (0.1.9)\n",
      "Requirement already satisfied: PyYAML>=5.3 in /Users/ayushjain/Development/DisruptionLab/jinship_sp2024/.venv/lib/python3.9/site-packages (from langchain) (6.0.1)\n",
      "Requirement already satisfied: SQLAlchemy<3,>=1.4 in /Users/ayushjain/Development/DisruptionLab/jinship_sp2024/.venv/lib/python3.9/site-packages (from langchain) (2.0.27)\n",
      "Requirement already satisfied: aiohttp<4.0.0,>=3.8.3 in /Users/ayushjain/Development/DisruptionLab/jinship_sp2024/.venv/lib/python3.9/site-packages (from langchain) (3.9.3)\n",
      "Requirement already satisfied: async-timeout<5.0.0,>=4.0.0 in /Users/ayushjain/Development/DisruptionLab/jinship_sp2024/.venv/lib/python3.9/site-packages (from langchain) (4.0.3)\n",
      "Requirement already satisfied: dataclasses-json<0.7,>=0.5.7 in /Users/ayushjain/Development/DisruptionLab/jinship_sp2024/.venv/lib/python3.9/site-packages (from langchain) (0.6.4)\n",
      "Requirement already satisfied: jsonpatch<2.0,>=1.33 in /Users/ayushjain/Development/DisruptionLab/jinship_sp2024/.venv/lib/python3.9/site-packages (from langchain) (1.33)\n",
      "Requirement already satisfied: langchain-community<0.1,>=0.0.21 in /Users/ayushjain/Development/DisruptionLab/jinship_sp2024/.venv/lib/python3.9/site-packages (from langchain) (0.0.24)\n",
      "Requirement already satisfied: langchain-core<0.2,>=0.1.26 in /Users/ayushjain/Development/DisruptionLab/jinship_sp2024/.venv/lib/python3.9/site-packages (from langchain) (0.1.27)\n",
      "Requirement already satisfied: langsmith<0.2.0,>=0.1.0 in /Users/ayushjain/Development/DisruptionLab/jinship_sp2024/.venv/lib/python3.9/site-packages (from langchain) (0.1.10)\n",
      "Requirement already satisfied: numpy<2,>=1 in /Users/ayushjain/Development/DisruptionLab/jinship_sp2024/.venv/lib/python3.9/site-packages (from langchain) (1.26.4)\n",
      "Requirement already satisfied: pydantic<3,>=1 in /Users/ayushjain/Development/DisruptionLab/jinship_sp2024/.venv/lib/python3.9/site-packages (from langchain) (2.6.2)\n",
      "Requirement already satisfied: requests<3,>=2 in /Users/ayushjain/Development/DisruptionLab/jinship_sp2024/.venv/lib/python3.9/site-packages (from langchain) (2.31.0)\n",
      "Requirement already satisfied: tenacity<9.0.0,>=8.1.0 in /Users/ayushjain/Development/DisruptionLab/jinship_sp2024/.venv/lib/python3.9/site-packages (from langchain) (8.2.3)\n",
      "Requirement already satisfied: aiosignal>=1.1.2 in /Users/ayushjain/Development/DisruptionLab/jinship_sp2024/.venv/lib/python3.9/site-packages (from aiohttp<4.0.0,>=3.8.3->langchain) (1.3.1)\n",
      "Requirement already satisfied: attrs>=17.3.0 in /Users/ayushjain/Development/DisruptionLab/jinship_sp2024/.venv/lib/python3.9/site-packages (from aiohttp<4.0.0,>=3.8.3->langchain) (23.2.0)\n",
      "Requirement already satisfied: frozenlist>=1.1.1 in /Users/ayushjain/Development/DisruptionLab/jinship_sp2024/.venv/lib/python3.9/site-packages (from aiohttp<4.0.0,>=3.8.3->langchain) (1.4.1)\n",
      "Requirement already satisfied: multidict<7.0,>=4.5 in /Users/ayushjain/Development/DisruptionLab/jinship_sp2024/.venv/lib/python3.9/site-packages (from aiohttp<4.0.0,>=3.8.3->langchain) (6.0.5)\n",
      "Requirement already satisfied: yarl<2.0,>=1.0 in /Users/ayushjain/Development/DisruptionLab/jinship_sp2024/.venv/lib/python3.9/site-packages (from aiohttp<4.0.0,>=3.8.3->langchain) (1.9.4)\n",
      "Requirement already satisfied: marshmallow<4.0.0,>=3.18.0 in /Users/ayushjain/Development/DisruptionLab/jinship_sp2024/.venv/lib/python3.9/site-packages (from dataclasses-json<0.7,>=0.5.7->langchain) (3.21.0)\n",
      "Requirement already satisfied: typing-inspect<1,>=0.4.0 in /Users/ayushjain/Development/DisruptionLab/jinship_sp2024/.venv/lib/python3.9/site-packages (from dataclasses-json<0.7,>=0.5.7->langchain) (0.9.0)\n",
      "Requirement already satisfied: jsonpointer>=1.9 in /Users/ayushjain/Development/DisruptionLab/jinship_sp2024/.venv/lib/python3.9/site-packages (from jsonpatch<2.0,>=1.33->langchain) (2.4)\n",
      "Requirement already satisfied: anyio<5,>=3 in /Users/ayushjain/Development/DisruptionLab/jinship_sp2024/.venv/lib/python3.9/site-packages (from langchain-core<0.2,>=0.1.26->langchain) (4.3.0)\n",
      "Requirement already satisfied: packaging<24.0,>=23.2 in /Users/ayushjain/Development/DisruptionLab/jinship_sp2024/.venv/lib/python3.9/site-packages (from langchain-core<0.2,>=0.1.26->langchain) (23.2)\n",
      "Requirement already satisfied: orjson<4.0.0,>=3.9.14 in /Users/ayushjain/Development/DisruptionLab/jinship_sp2024/.venv/lib/python3.9/site-packages (from langsmith<0.2.0,>=0.1.0->langchain) (3.9.15)\n",
      "Requirement already satisfied: annotated-types>=0.4.0 in /Users/ayushjain/Development/DisruptionLab/jinship_sp2024/.venv/lib/python3.9/site-packages (from pydantic<3,>=1->langchain) (0.6.0)\n",
      "Requirement already satisfied: pydantic-core==2.16.3 in /Users/ayushjain/Development/DisruptionLab/jinship_sp2024/.venv/lib/python3.9/site-packages (from pydantic<3,>=1->langchain) (2.16.3)\n",
      "Requirement already satisfied: typing-extensions>=4.6.1 in /Users/ayushjain/Development/DisruptionLab/jinship_sp2024/.venv/lib/python3.9/site-packages (from pydantic<3,>=1->langchain) (4.10.0)\n",
      "Requirement already satisfied: charset-normalizer<4,>=2 in /Users/ayushjain/Development/DisruptionLab/jinship_sp2024/.venv/lib/python3.9/site-packages (from requests<3,>=2->langchain) (3.3.2)\n",
      "Requirement already satisfied: idna<4,>=2.5 in /Users/ayushjain/Development/DisruptionLab/jinship_sp2024/.venv/lib/python3.9/site-packages (from requests<3,>=2->langchain) (3.6)\n",
      "Requirement already satisfied: urllib3<3,>=1.21.1 in /Users/ayushjain/Development/DisruptionLab/jinship_sp2024/.venv/lib/python3.9/site-packages (from requests<3,>=2->langchain) (2.2.1)\n",
      "Requirement already satisfied: certifi>=2017.4.17 in /Users/ayushjain/Development/DisruptionLab/jinship_sp2024/.venv/lib/python3.9/site-packages (from requests<3,>=2->langchain) (2024.2.2)\n",
      "Requirement already satisfied: sniffio>=1.1 in /Users/ayushjain/Development/DisruptionLab/jinship_sp2024/.venv/lib/python3.9/site-packages (from anyio<5,>=3->langchain-core<0.2,>=0.1.26->langchain) (1.3.1)\n",
      "Requirement already satisfied: exceptiongroup>=1.0.2 in /Users/ayushjain/Development/DisruptionLab/jinship_sp2024/.venv/lib/python3.9/site-packages (from anyio<5,>=3->langchain-core<0.2,>=0.1.26->langchain) (1.2.0)\n",
      "Requirement already satisfied: mypy-extensions>=0.3.0 in /Users/ayushjain/Development/DisruptionLab/jinship_sp2024/.venv/lib/python3.9/site-packages (from typing-inspect<1,>=0.4.0->dataclasses-json<0.7,>=0.5.7->langchain) (1.0.0)\n",
      "Requirement already satisfied: ctransformers in /Users/ayushjain/Development/DisruptionLab/jinship_sp2024/.venv/lib/python3.9/site-packages (0.2.27)\n",
      "Requirement already satisfied: huggingface-hub in /Users/ayushjain/Development/DisruptionLab/jinship_sp2024/.venv/lib/python3.9/site-packages (from ctransformers) (0.20.3)\n",
      "Requirement already satisfied: py-cpuinfo<10.0.0,>=9.0.0 in /Users/ayushjain/Development/DisruptionLab/jinship_sp2024/.venv/lib/python3.9/site-packages (from ctransformers) (9.0.0)\n",
      "Requirement already satisfied: filelock in /Users/ayushjain/Development/DisruptionLab/jinship_sp2024/.venv/lib/python3.9/site-packages (from huggingface-hub->ctransformers) (3.13.1)\n",
      "Requirement already satisfied: fsspec>=2023.5.0 in /Users/ayushjain/Development/DisruptionLab/jinship_sp2024/.venv/lib/python3.9/site-packages (from huggingface-hub->ctransformers) (2023.10.0)\n",
      "Requirement already satisfied: requests in /Users/ayushjain/Development/DisruptionLab/jinship_sp2024/.venv/lib/python3.9/site-packages (from huggingface-hub->ctransformers) (2.31.0)\n",
      "Requirement already satisfied: tqdm>=4.42.1 in /Users/ayushjain/Development/DisruptionLab/jinship_sp2024/.venv/lib/python3.9/site-packages (from huggingface-hub->ctransformers) (4.66.2)\n",
      "Requirement already satisfied: pyyaml>=5.1 in /Users/ayushjain/Development/DisruptionLab/jinship_sp2024/.venv/lib/python3.9/site-packages (from huggingface-hub->ctransformers) (6.0.1)\n",
      "Requirement already satisfied: typing-extensions>=3.7.4.3 in /Users/ayushjain/Development/DisruptionLab/jinship_sp2024/.venv/lib/python3.9/site-packages (from huggingface-hub->ctransformers) (4.10.0)\n",
      "Requirement already satisfied: packaging>=20.9 in /Users/ayushjain/Development/DisruptionLab/jinship_sp2024/.venv/lib/python3.9/site-packages (from huggingface-hub->ctransformers) (23.2)\n",
      "Requirement already satisfied: charset-normalizer<4,>=2 in /Users/ayushjain/Development/DisruptionLab/jinship_sp2024/.venv/lib/python3.9/site-packages (from requests->huggingface-hub->ctransformers) (3.3.2)\n",
      "Requirement already satisfied: idna<4,>=2.5 in /Users/ayushjain/Development/DisruptionLab/jinship_sp2024/.venv/lib/python3.9/site-packages (from requests->huggingface-hub->ctransformers) (3.6)\n",
      "Requirement already satisfied: urllib3<3,>=1.21.1 in /Users/ayushjain/Development/DisruptionLab/jinship_sp2024/.venv/lib/python3.9/site-packages (from requests->huggingface-hub->ctransformers) (2.2.1)\n",
      "Requirement already satisfied: certifi>=2017.4.17 in /Users/ayushjain/Development/DisruptionLab/jinship_sp2024/.venv/lib/python3.9/site-packages (from requests->huggingface-hub->ctransformers) (2024.2.2)\n",
      "Requirement already satisfied: nltk in /Users/ayushjain/Development/DisruptionLab/jinship_sp2024/.venv/lib/python3.9/site-packages (3.8.1)\n",
      "Requirement already satisfied: click in /Users/ayushjain/Development/DisruptionLab/jinship_sp2024/.venv/lib/python3.9/site-packages (from nltk) (8.1.7)\n",
      "Requirement already satisfied: joblib in /Users/ayushjain/Development/DisruptionLab/jinship_sp2024/.venv/lib/python3.9/site-packages (from nltk) (1.3.2)\n",
      "Requirement already satisfied: regex>=2021.8.3 in /Users/ayushjain/Development/DisruptionLab/jinship_sp2024/.venv/lib/python3.9/site-packages (from nltk) (2023.12.25)\n",
      "Requirement already satisfied: tqdm in /Users/ayushjain/Development/DisruptionLab/jinship_sp2024/.venv/lib/python3.9/site-packages (from nltk) (4.66.2)\n"
     ]
    }
   ],
   "source": [
    "!pip install datasets\n",
    "!pip install bertopic\n",
    "!pip install langchain\n",
    "!pip install ctransformers\n",
    "!pip install nltk"
   ]
  },
  {
   "cell_type": "markdown",
   "metadata": {},
   "source": [
    "# Pulled from Anish's Branch Bert Topic Modeling "
   ]
  },
  {
   "cell_type": "code",
   "execution_count": 4,
   "metadata": {},
   "outputs": [
    {
     "name": "stderr",
     "output_type": "stream",
     "text": [
      "/Users/ayushjain/Development/DisruptionLab/jinship_sp2024/.venv/lib/python3.9/site-packages/urllib3/__init__.py:35: NotOpenSSLWarning: urllib3 v2 only supports OpenSSL 1.1.1+, currently the 'ssl' module is compiled with 'LibreSSL 2.8.3'. See: https://github.com/urllib3/urllib3/issues/3020\n",
      "  warnings.warn(\n",
      "/Users/ayushjain/Development/DisruptionLab/jinship_sp2024/.venv/lib/python3.9/site-packages/tqdm/auto.py:21: TqdmWarning: IProgress not found. Please update jupyter and ipywidgets. See https://ipywidgets.readthedocs.io/en/stable/user_install.html\n",
      "  from .autonotebook import tqdm as notebook_tqdm\n"
     ]
    }
   ],
   "source": [
    "from datasets import load_dataset\n",
    "from bertopic import BERTopic\n",
    "from langchain.llms import CTransformers\n",
    "from langchain.prompts import PromptTemplate\n",
    "\n",
    "dataset = load_dataset(\"hugginglearners/netflix-shows\", split=\"train\")"
   ]
  },
  {
   "cell_type": "code",
   "execution_count": 5,
   "metadata": {},
   "outputs": [],
   "source": [
    "topic_model = BERTopic(nr_topics=20)\n",
    "topics, probabilities = topic_model.fit_transform(dataset['description'])"
   ]
  },
  {
   "cell_type": "code",
   "execution_count": 6,
   "metadata": {},
   "outputs": [
    {
     "data": {
      "text/html": [
       "<div>\n",
       "<style scoped>\n",
       "    .dataframe tbody tr th:only-of-type {\n",
       "        vertical-align: middle;\n",
       "    }\n",
       "\n",
       "    .dataframe tbody tr th {\n",
       "        vertical-align: top;\n",
       "    }\n",
       "\n",
       "    .dataframe thead th {\n",
       "        text-align: right;\n",
       "    }\n",
       "</style>\n",
       "<table border=\"1\" class=\"dataframe\">\n",
       "  <thead>\n",
       "    <tr style=\"text-align: right;\">\n",
       "      <th></th>\n",
       "      <th>Topic</th>\n",
       "      <th>Count</th>\n",
       "      <th>Name</th>\n",
       "      <th>Representation</th>\n",
       "      <th>Representative_Docs</th>\n",
       "    </tr>\n",
       "  </thead>\n",
       "  <tbody>\n",
       "    <tr>\n",
       "      <th>0</th>\n",
       "      <td>-1</td>\n",
       "      <td>4450</td>\n",
       "      <td>-1_the_to_and_of</td>\n",
       "      <td>[the, to, and, of, in, his, her, with, an, when]</td>\n",
       "      <td>[On the run from Indian police, a mysterious m...</td>\n",
       "    </tr>\n",
       "    <tr>\n",
       "      <th>1</th>\n",
       "      <td>0</td>\n",
       "      <td>977</td>\n",
       "      <td>0_and_the_in_of</td>\n",
       "      <td>[and, the, in, of, this, standup, his, comedia...</td>\n",
       "      <td>[Stand-up comedy star Kevin Hart delivers his ...</td>\n",
       "    </tr>\n",
       "    <tr>\n",
       "      <th>2</th>\n",
       "      <td>1</td>\n",
       "      <td>615</td>\n",
       "      <td>1_to_the_of_in</td>\n",
       "      <td>[to, the, of, in, his, an, murder, detective, ...</td>\n",
       "      <td>[A gifted detective takes a job in a small tow...</td>\n",
       "    </tr>\n",
       "    <tr>\n",
       "      <th>3</th>\n",
       "      <td>2</td>\n",
       "      <td>419</td>\n",
       "      <td>2_to_his_and_love</td>\n",
       "      <td>[to, his, and, love, their, her, the, an, in, of]</td>\n",
       "      <td>[Bored in their happy marriage, a couple decid...</td>\n",
       "    </tr>\n",
       "    <tr>\n",
       "      <th>4</th>\n",
       "      <td>3</td>\n",
       "      <td>346</td>\n",
       "      <td>3_her_their_to_and</td>\n",
       "      <td>[her, their, to, and, father, his, when, mothe...</td>\n",
       "      <td>[In 1979, single bohemian mom Dorothea, hoping...</td>\n",
       "    </tr>\n",
       "    <tr>\n",
       "      <th>5</th>\n",
       "      <td>4</td>\n",
       "      <td>312</td>\n",
       "      <td>4_school_high_student_to</td>\n",
       "      <td>[school, high, student, to, of, and, the, her,...</td>\n",
       "      <td>[A grieving teen finds an unexpected connectio...</td>\n",
       "    </tr>\n",
       "    <tr>\n",
       "      <th>6</th>\n",
       "      <td>5</td>\n",
       "      <td>302</td>\n",
       "      <td>5_and_christmas_the_to</td>\n",
       "      <td>[and, christmas, the, to, of, friends, with, i...</td>\n",
       "      <td>[A new pack of Pup Star pooches stumbles upon ...</td>\n",
       "    </tr>\n",
       "    <tr>\n",
       "      <th>7</th>\n",
       "      <td>6</td>\n",
       "      <td>285</td>\n",
       "      <td>6_to_the_of_and</td>\n",
       "      <td>[to, the, of, and, her, in, by, an, haunted, w...</td>\n",
       "      <td>[Paranormal activity at a lush, abandoned prop...</td>\n",
       "    </tr>\n",
       "    <tr>\n",
       "      <th>8</th>\n",
       "      <td>7</td>\n",
       "      <td>271</td>\n",
       "      <td>7_the_to_his_bheem</td>\n",
       "      <td>[the, to, his, bheem, of, and, rangers, in, fr...</td>\n",
       "      <td>[To save the kingdom of Valhalla from invasion...</td>\n",
       "    </tr>\n",
       "    <tr>\n",
       "      <th>9</th>\n",
       "      <td>8</td>\n",
       "      <td>213</td>\n",
       "      <td>8_the_and_soccer_of</td>\n",
       "      <td>[the, and, soccer, of, this, in, team, to, gam...</td>\n",
       "      <td>[In this long-running reality competition seri...</td>\n",
       "    </tr>\n",
       "    <tr>\n",
       "      <th>10</th>\n",
       "      <td>9</td>\n",
       "      <td>133</td>\n",
       "      <td>9_documentary_the_this_of</td>\n",
       "      <td>[documentary, the, this, of, and, in, series, ...</td>\n",
       "      <td>[Activists around the world fight injustice an...</td>\n",
       "    </tr>\n",
       "    <tr>\n",
       "      <th>11</th>\n",
       "      <td>10</td>\n",
       "      <td>99</td>\n",
       "      <td>10_drug_the_of_and</td>\n",
       "      <td>[drug, the, of, and, in, this, mexican, to, pa...</td>\n",
       "      <td>[Through rare interviews, images and wiretap a...</td>\n",
       "    </tr>\n",
       "    <tr>\n",
       "      <th>12</th>\n",
       "      <td>11</td>\n",
       "      <td>93</td>\n",
       "      <td>11_chef_food_and_the</td>\n",
       "      <td>[chef, food, and, the, chefs, cooking, of, dis...</td>\n",
       "      <td>[A female food blogger is hired as a personal ...</td>\n",
       "    </tr>\n",
       "    <tr>\n",
       "      <th>13</th>\n",
       "      <td>12</td>\n",
       "      <td>89</td>\n",
       "      <td>12_war_ii_nazi_of</td>\n",
       "      <td>[war, ii, nazi, of, the, world, documentary, t...</td>\n",
       "      <td>[Footage of the most dramatic moments from Wor...</td>\n",
       "    </tr>\n",
       "    <tr>\n",
       "      <th>14</th>\n",
       "      <td>13</td>\n",
       "      <td>48</td>\n",
       "      <td>13_earth_space_crew_the</td>\n",
       "      <td>[earth, space, crew, the, to, on, mars, missio...</td>\n",
       "      <td>[Two astronauts attempt to brave a life in Ear...</td>\n",
       "    </tr>\n",
       "    <tr>\n",
       "      <th>15</th>\n",
       "      <td>14</td>\n",
       "      <td>45</td>\n",
       "      <td>14_shark_the_mermaid_underwater</td>\n",
       "      <td>[shark, the, mermaid, underwater, octonauts, s...</td>\n",
       "      <td>[Four years after the last deadly shark attack...</td>\n",
       "    </tr>\n",
       "    <tr>\n",
       "      <th>16</th>\n",
       "      <td>15</td>\n",
       "      <td>36</td>\n",
       "      <td>15_russian_the_of_jerusalem</td>\n",
       "      <td>[russian, the, of, jerusalem, in, revolution, ...</td>\n",
       "      <td>[A Turkish lieutenant and the daughter of Russ...</td>\n",
       "    </tr>\n",
       "    <tr>\n",
       "      <th>17</th>\n",
       "      <td>16</td>\n",
       "      <td>36</td>\n",
       "      <td>16_the_bus_racing_drivers</td>\n",
       "      <td>[the, bus, racing, drivers, cars, ms, and, for...</td>\n",
       "      <td>[This fast-paced documentary profiles Ayrton S...</td>\n",
       "    </tr>\n",
       "    <tr>\n",
       "      <th>18</th>\n",
       "      <td>17</td>\n",
       "      <td>28</td>\n",
       "      <td>17_village_his_muslim_in</td>\n",
       "      <td>[village, his, muslim, in, to, india, poverty,...</td>\n",
       "      <td>[After learning he was adopted from a Muslim c...</td>\n",
       "    </tr>\n",
       "    <tr>\n",
       "      <th>19</th>\n",
       "      <td>18</td>\n",
       "      <td>10</td>\n",
       "      <td>18_town_singleton_barbary_28</td>\n",
       "      <td>[town, singleton, barbary, 28, woman, ann, mov...</td>\n",
       "      <td>[When a secretive woman breezes into a quiet t...</td>\n",
       "    </tr>\n",
       "  </tbody>\n",
       "</table>\n",
       "</div>"
      ],
      "text/plain": [
       "    Topic  Count                             Name  \\\n",
       "0      -1   4450                 -1_the_to_and_of   \n",
       "1       0    977                  0_and_the_in_of   \n",
       "2       1    615                   1_to_the_of_in   \n",
       "3       2    419                2_to_his_and_love   \n",
       "4       3    346               3_her_their_to_and   \n",
       "5       4    312         4_school_high_student_to   \n",
       "6       5    302           5_and_christmas_the_to   \n",
       "7       6    285                  6_to_the_of_and   \n",
       "8       7    271               7_the_to_his_bheem   \n",
       "9       8    213              8_the_and_soccer_of   \n",
       "10      9    133        9_documentary_the_this_of   \n",
       "11     10     99               10_drug_the_of_and   \n",
       "12     11     93             11_chef_food_and_the   \n",
       "13     12     89                12_war_ii_nazi_of   \n",
       "14     13     48          13_earth_space_crew_the   \n",
       "15     14     45  14_shark_the_mermaid_underwater   \n",
       "16     15     36      15_russian_the_of_jerusalem   \n",
       "17     16     36        16_the_bus_racing_drivers   \n",
       "18     17     28         17_village_his_muslim_in   \n",
       "19     18     10     18_town_singleton_barbary_28   \n",
       "\n",
       "                                       Representation  \\\n",
       "0    [the, to, and, of, in, his, her, with, an, when]   \n",
       "1   [and, the, in, of, this, standup, his, comedia...   \n",
       "2   [to, the, of, in, his, an, murder, detective, ...   \n",
       "3   [to, his, and, love, their, her, the, an, in, of]   \n",
       "4   [her, their, to, and, father, his, when, mothe...   \n",
       "5   [school, high, student, to, of, and, the, her,...   \n",
       "6   [and, christmas, the, to, of, friends, with, i...   \n",
       "7   [to, the, of, and, her, in, by, an, haunted, w...   \n",
       "8   [the, to, his, bheem, of, and, rangers, in, fr...   \n",
       "9   [the, and, soccer, of, this, in, team, to, gam...   \n",
       "10  [documentary, the, this, of, and, in, series, ...   \n",
       "11  [drug, the, of, and, in, this, mexican, to, pa...   \n",
       "12  [chef, food, and, the, chefs, cooking, of, dis...   \n",
       "13  [war, ii, nazi, of, the, world, documentary, t...   \n",
       "14  [earth, space, crew, the, to, on, mars, missio...   \n",
       "15  [shark, the, mermaid, underwater, octonauts, s...   \n",
       "16  [russian, the, of, jerusalem, in, revolution, ...   \n",
       "17  [the, bus, racing, drivers, cars, ms, and, for...   \n",
       "18  [village, his, muslim, in, to, india, poverty,...   \n",
       "19  [town, singleton, barbary, 28, woman, ann, mov...   \n",
       "\n",
       "                                  Representative_Docs  \n",
       "0   [On the run from Indian police, a mysterious m...  \n",
       "1   [Stand-up comedy star Kevin Hart delivers his ...  \n",
       "2   [A gifted detective takes a job in a small tow...  \n",
       "3   [Bored in their happy marriage, a couple decid...  \n",
       "4   [In 1979, single bohemian mom Dorothea, hoping...  \n",
       "5   [A grieving teen finds an unexpected connectio...  \n",
       "6   [A new pack of Pup Star pooches stumbles upon ...  \n",
       "7   [Paranormal activity at a lush, abandoned prop...  \n",
       "8   [To save the kingdom of Valhalla from invasion...  \n",
       "9   [In this long-running reality competition seri...  \n",
       "10  [Activists around the world fight injustice an...  \n",
       "11  [Through rare interviews, images and wiretap a...  \n",
       "12  [A female food blogger is hired as a personal ...  \n",
       "13  [Footage of the most dramatic moments from Wor...  \n",
       "14  [Two astronauts attempt to brave a life in Ear...  \n",
       "15  [Four years after the last deadly shark attack...  \n",
       "16  [A Turkish lieutenant and the daughter of Russ...  \n",
       "17  [This fast-paced documentary profiles Ayrton S...  \n",
       "18  [After learning he was adopted from a Muslim c...  \n",
       "19  [When a secretive woman breezes into a quiet t...  "
      ]
     },
     "execution_count": 6,
     "metadata": {},
     "output_type": "execute_result"
    }
   ],
   "source": [
    "topic_model.get_topic_info()"
   ]
  },
  {
   "cell_type": "code",
   "execution_count": 7,
   "metadata": {},
   "outputs": [
    {
     "name": "stderr",
     "output_type": "stream",
     "text": [
      "[nltk_data] Downloading package stopwords to\n",
      "[nltk_data]     /Users/ayushjain/nltk_data...\n",
      "[nltk_data]   Package stopwords is already up-to-date!\n"
     ]
    },
    {
     "data": {
      "text/plain": [
       "['father nears end life, filmmaker Kirsten Johnson stages death inventive comical ways help face inevitable.',\n",
       " 'After crossing paths party, Cape Town teen sets prove whether private-school swimming star sister abducted birth.',\n",
       " 'protect family powerful drug lord, skilled thief Mehdi expert team robbers pulled violent deadly turf war.',\n",
       " 'Feuds, flirtations toilet talk go among incarcerated women Orleans Justice Center New Orleans gritty reality series.',\n",
       " 'city coaching centers known train India’s finest collegiate minds, earnest unexceptional student friends navigate campus life.',\n",
       " 'arrival charismatic young priest brings glorious miracles, ominous mysteries renewed religious fervor dying town desperate believe.',\n",
       " \"Equestria's divided. But bright-eyed hero believes Earth Ponies, Pegasi Unicorns pals — and, hoof heart, she’s determined prove it.\",\n",
       " 'On photo shoot Ghana, American model slips back time, becomes enslaved plantation bears witness agony ancestral past.',\n",
       " \"talented batch amateur bakers face 10-week competition, whipping best dishes hopes named U.K.'s best.\",\n",
       " \"woman adjusting life loss contends feisty bird that's taken garden — husband who's struggling find way forward.\"]"
      ]
     },
     "execution_count": 7,
     "metadata": {},
     "output_type": "execute_result"
    }
   ],
   "source": [
    "import nltk\n",
    "from nltk.corpus import stopwords\n",
    "nltk.download('stopwords')\n",
    "\n",
    "stopwords = stopwords.words('english')\n",
    "stopwords.append('the')\n",
    "stopwords.append('and')\n",
    "stopwords.append('to')\n",
    "stopwords.append('of')\n",
    "stopwords.append('in')\n",
    "stopwords.append('with')\n",
    "stopwords.append('an')\n",
    "stopwords.append('The')\n",
    "stopwords.append('And')\n",
    "stopwords.append('To')\n",
    "stopwords.append('Of')\n",
    "stopwords.append('In')\n",
    "stopwords.append('With')\n",
    "stopwords.append('An')\n",
    "stopwords.append('A')\n",
    "stopwords.append('As')\n",
    "stopwords.append('as')\n",
    "\n",
    "descriptions = dataset['description']\n",
    "\n",
    "def remove_stopwords(text):\n",
    "    output= ' '.join([i for i in text.split() if i not in stopwords])\n",
    "    return output\n",
    "\n",
    "processed_descriptions = [remove_stopwords(text) for text in descriptions]\n",
    "processed_descriptions[:10]"
   ]
  },
  {
   "cell_type": "code",
   "execution_count": 8,
   "metadata": {},
   "outputs": [
    {
     "data": {
      "text/html": [
       "<div>\n",
       "<style scoped>\n",
       "    .dataframe tbody tr th:only-of-type {\n",
       "        vertical-align: middle;\n",
       "    }\n",
       "\n",
       "    .dataframe tbody tr th {\n",
       "        vertical-align: top;\n",
       "    }\n",
       "\n",
       "    .dataframe thead th {\n",
       "        text-align: right;\n",
       "    }\n",
       "</style>\n",
       "<table border=\"1\" class=\"dataframe\">\n",
       "  <thead>\n",
       "    <tr style=\"text-align: right;\">\n",
       "      <th></th>\n",
       "      <th>Topic</th>\n",
       "      <th>Count</th>\n",
       "      <th>Name</th>\n",
       "      <th>Representation</th>\n",
       "      <th>Representative_Docs</th>\n",
       "    </tr>\n",
       "  </thead>\n",
       "  <tbody>\n",
       "    <tr>\n",
       "      <th>0</th>\n",
       "      <td>-1</td>\n",
       "      <td>4786</td>\n",
       "      <td>-1_young_when_life_family</td>\n",
       "      <td>[young, when, life, family, love, new, after, ...</td>\n",
       "      <td>[When young girl killed suspicious train accid...</td>\n",
       "    </tr>\n",
       "    <tr>\n",
       "      <th>1</th>\n",
       "      <td>0</td>\n",
       "      <td>915</td>\n",
       "      <td>0_woman_young_father_marriage</td>\n",
       "      <td>[woman, young, father, marriage, family, daugh...</td>\n",
       "      <td>[After death wife, teacher son move new city, ...</td>\n",
       "    </tr>\n",
       "    <tr>\n",
       "      <th>2</th>\n",
       "      <td>1</td>\n",
       "      <td>777</td>\n",
       "      <td>1_standup_comedian_comedy_special</td>\n",
       "      <td>[standup, comedian, comedy, special, documenta...</td>\n",
       "      <td>[Ronny Chieng (\"The Daily Show,\" \"Crazy Rich A...</td>\n",
       "    </tr>\n",
       "    <tr>\n",
       "      <th>3</th>\n",
       "      <td>2</td>\n",
       "      <td>564</td>\n",
       "      <td>2_murder_detective_agent_drug</td>\n",
       "      <td>[murder, detective, agent, drug, case, police,...</td>\n",
       "      <td>[murder investigation leads police photo suspe...</td>\n",
       "    </tr>\n",
       "    <tr>\n",
       "      <th>4</th>\n",
       "      <td>3</td>\n",
       "      <td>410</td>\n",
       "      <td>3_soccer_team_football_compete</td>\n",
       "      <td>[soccer, team, football, compete, martial, doc...</td>\n",
       "      <td>[After witnessing child’s death violent clash,...</td>\n",
       "    </tr>\n",
       "    <tr>\n",
       "      <th>5</th>\n",
       "      <td>4</td>\n",
       "      <td>257</td>\n",
       "      <td>4_earth_space_planet_science</td>\n",
       "      <td>[earth, space, planet, science, scientists, cr...</td>\n",
       "      <td>[Little animals embark big adventures across U...</td>\n",
       "    </tr>\n",
       "    <tr>\n",
       "      <th>6</th>\n",
       "      <td>5</td>\n",
       "      <td>223</td>\n",
       "      <td>5_school_high_student_students</td>\n",
       "      <td>[school, high, student, students, friends, tea...</td>\n",
       "      <td>[high school girl finally gets apartment, shar...</td>\n",
       "    </tr>\n",
       "    <tr>\n",
       "      <th>7</th>\n",
       "      <td>6</td>\n",
       "      <td>206</td>\n",
       "      <td>6_haunted_vampire_eerie_home</td>\n",
       "      <td>[haunted, vampire, eerie, home, horror, parano...</td>\n",
       "      <td>[Paranormal activity lush, abandoned property ...</td>\n",
       "    </tr>\n",
       "    <tr>\n",
       "      <th>8</th>\n",
       "      <td>7</td>\n",
       "      <td>186</td>\n",
       "      <td>7_christmas_holiday_santa_dog</td>\n",
       "      <td>[christmas, holiday, santa, dog, friends, fun,...</td>\n",
       "      <td>[warm-hearted tale, young boy's faith holiday ...</td>\n",
       "    </tr>\n",
       "    <tr>\n",
       "      <th>9</th>\n",
       "      <td>8</td>\n",
       "      <td>138</td>\n",
       "      <td>8_bheem_evil_rangers_save</td>\n",
       "      <td>[bheem, evil, rangers, save, power, kingdom, k...</td>\n",
       "      <td>[mysterious \"time master\" future unites unlike...</td>\n",
       "    </tr>\n",
       "    <tr>\n",
       "      <th>10</th>\n",
       "      <td>9</td>\n",
       "      <td>111</td>\n",
       "      <td>9_chef_food_cooking_chefs</td>\n",
       "      <td>[chef, food, cooking, chefs, dishes, culinary,...</td>\n",
       "      <td>[female food blogger hired personal chef young...</td>\n",
       "    </tr>\n",
       "    <tr>\n",
       "      <th>11</th>\n",
       "      <td>10</td>\n",
       "      <td>77</td>\n",
       "      <td>10_nazi_war_ii_world</td>\n",
       "      <td>[nazi, war, ii, world, this, documentary, nazi...</td>\n",
       "      <td>[During World War II, British forces launch at...</td>\n",
       "    </tr>\n",
       "    <tr>\n",
       "      <th>12</th>\n",
       "      <td>11</td>\n",
       "      <td>59</td>\n",
       "      <td>11_dance_dancer_barbie_ballet</td>\n",
       "      <td>[dance, dancer, barbie, ballet, dancing, compe...</td>\n",
       "      <td>[Despite discouragement loved ones, talented s...</td>\n",
       "    </tr>\n",
       "    <tr>\n",
       "      <th>13</th>\n",
       "      <td>12</td>\n",
       "      <td>26</td>\n",
       "      <td>12_india_indias_hindu_british</td>\n",
       "      <td>[india, indias, hindu, british, muslim, villag...</td>\n",
       "      <td>[When authorities jail son rejecting religious...</td>\n",
       "    </tr>\n",
       "    <tr>\n",
       "      <th>14</th>\n",
       "      <td>13</td>\n",
       "      <td>18</td>\n",
       "      <td>13_lebanese_beirut_war_syrian</td>\n",
       "      <td>[lebanese, beirut, war, syrian, lebanons, syri...</td>\n",
       "      <td>[Abducted Lebanese Civil War 50s, Ramez finall...</td>\n",
       "    </tr>\n",
       "    <tr>\n",
       "      <th>15</th>\n",
       "      <td>14</td>\n",
       "      <td>11</td>\n",
       "      <td>14_marijuana_smokers_hong_kong</td>\n",
       "      <td>[marijuana, smokers, hong, kong, hardcore, fac...</td>\n",
       "      <td>[This documentary investigates surge vaping cu...</td>\n",
       "    </tr>\n",
       "    <tr>\n",
       "      <th>16</th>\n",
       "      <td>15</td>\n",
       "      <td>11</td>\n",
       "      <td>15_civil_war_frontier_western</td>\n",
       "      <td>[civil, war, frontier, western, railroad, outl...</td>\n",
       "      <td>[offbeat foursome takes wild journey Southern ...</td>\n",
       "    </tr>\n",
       "    <tr>\n",
       "      <th>17</th>\n",
       "      <td>16</td>\n",
       "      <td>11</td>\n",
       "      <td>16_virtual_reality_game_video</td>\n",
       "      <td>[virtual, reality, game, video, users, dark, f...</td>\n",
       "      <td>[lonely young woman hooked virtual reality gam...</td>\n",
       "    </tr>\n",
       "    <tr>\n",
       "      <th>18</th>\n",
       "      <td>17</td>\n",
       "      <td>11</td>\n",
       "      <td>17_missing_report_cryptic_husband</td>\n",
       "      <td>[missing, report, cryptic, husband, husbands, ...</td>\n",
       "      <td>[Multiple women report husbands missing appear...</td>\n",
       "    </tr>\n",
       "    <tr>\n",
       "      <th>19</th>\n",
       "      <td>18</td>\n",
       "      <td>10</td>\n",
       "      <td>18_politics_feminist_leadership_countrys</td>\n",
       "      <td>[politics, feminist, leadership, countrys, pri...</td>\n",
       "      <td>[\"Queen Sleaze\" feminist pioneer? Powerhouse n...</td>\n",
       "    </tr>\n",
       "  </tbody>\n",
       "</table>\n",
       "</div>"
      ],
      "text/plain": [
       "    Topic  Count                                      Name  \\\n",
       "0      -1   4786                 -1_young_when_life_family   \n",
       "1       0    915             0_woman_young_father_marriage   \n",
       "2       1    777         1_standup_comedian_comedy_special   \n",
       "3       2    564             2_murder_detective_agent_drug   \n",
       "4       3    410            3_soccer_team_football_compete   \n",
       "5       4    257              4_earth_space_planet_science   \n",
       "6       5    223            5_school_high_student_students   \n",
       "7       6    206              6_haunted_vampire_eerie_home   \n",
       "8       7    186             7_christmas_holiday_santa_dog   \n",
       "9       8    138                 8_bheem_evil_rangers_save   \n",
       "10      9    111                 9_chef_food_cooking_chefs   \n",
       "11     10     77                      10_nazi_war_ii_world   \n",
       "12     11     59             11_dance_dancer_barbie_ballet   \n",
       "13     12     26             12_india_indias_hindu_british   \n",
       "14     13     18             13_lebanese_beirut_war_syrian   \n",
       "15     14     11            14_marijuana_smokers_hong_kong   \n",
       "16     15     11             15_civil_war_frontier_western   \n",
       "17     16     11             16_virtual_reality_game_video   \n",
       "18     17     11         17_missing_report_cryptic_husband   \n",
       "19     18     10  18_politics_feminist_leadership_countrys   \n",
       "\n",
       "                                       Representation  \\\n",
       "0   [young, when, life, family, love, new, after, ...   \n",
       "1   [woman, young, father, marriage, family, daugh...   \n",
       "2   [standup, comedian, comedy, special, documenta...   \n",
       "3   [murder, detective, agent, drug, case, police,...   \n",
       "4   [soccer, team, football, compete, martial, doc...   \n",
       "5   [earth, space, planet, science, scientists, cr...   \n",
       "6   [school, high, student, students, friends, tea...   \n",
       "7   [haunted, vampire, eerie, home, horror, parano...   \n",
       "8   [christmas, holiday, santa, dog, friends, fun,...   \n",
       "9   [bheem, evil, rangers, save, power, kingdom, k...   \n",
       "10  [chef, food, cooking, chefs, dishes, culinary,...   \n",
       "11  [nazi, war, ii, world, this, documentary, nazi...   \n",
       "12  [dance, dancer, barbie, ballet, dancing, compe...   \n",
       "13  [india, indias, hindu, british, muslim, villag...   \n",
       "14  [lebanese, beirut, war, syrian, lebanons, syri...   \n",
       "15  [marijuana, smokers, hong, kong, hardcore, fac...   \n",
       "16  [civil, war, frontier, western, railroad, outl...   \n",
       "17  [virtual, reality, game, video, users, dark, f...   \n",
       "18  [missing, report, cryptic, husband, husbands, ...   \n",
       "19  [politics, feminist, leadership, countrys, pri...   \n",
       "\n",
       "                                  Representative_Docs  \n",
       "0   [When young girl killed suspicious train accid...  \n",
       "1   [After death wife, teacher son move new city, ...  \n",
       "2   [Ronny Chieng (\"The Daily Show,\" \"Crazy Rich A...  \n",
       "3   [murder investigation leads police photo suspe...  \n",
       "4   [After witnessing child’s death violent clash,...  \n",
       "5   [Little animals embark big adventures across U...  \n",
       "6   [high school girl finally gets apartment, shar...  \n",
       "7   [Paranormal activity lush, abandoned property ...  \n",
       "8   [warm-hearted tale, young boy's faith holiday ...  \n",
       "9   [mysterious \"time master\" future unites unlike...  \n",
       "10  [female food blogger hired personal chef young...  \n",
       "11  [During World War II, British forces launch at...  \n",
       "12  [Despite discouragement loved ones, talented s...  \n",
       "13  [When authorities jail son rejecting religious...  \n",
       "14  [Abducted Lebanese Civil War 50s, Ramez finall...  \n",
       "15  [This documentary investigates surge vaping cu...  \n",
       "16  [offbeat foursome takes wild journey Southern ...  \n",
       "17  [lonely young woman hooked virtual reality gam...  \n",
       "18  [Multiple women report husbands missing appear...  \n",
       "19  [\"Queen Sleaze\" feminist pioneer? Powerhouse n...  "
      ]
     },
     "execution_count": 8,
     "metadata": {},
     "output_type": "execute_result"
    }
   ],
   "source": [
    "updated_topic_model = BERTopic(nr_topics=20)\n",
    "topics, probabilities = updated_topic_model.fit_transform(processed_descriptions)\n",
    "updated_topic_model.get_topic_info()"
   ]
  },
  {
   "cell_type": "code",
   "execution_count": 9,
   "metadata": {},
   "outputs": [
    {
     "data": {
      "text/html": [
       "<div>\n",
       "<style scoped>\n",
       "    .dataframe tbody tr th:only-of-type {\n",
       "        vertical-align: middle;\n",
       "    }\n",
       "\n",
       "    .dataframe tbody tr th {\n",
       "        vertical-align: top;\n",
       "    }\n",
       "\n",
       "    .dataframe thead th {\n",
       "        text-align: right;\n",
       "    }\n",
       "</style>\n",
       "<table border=\"1\" class=\"dataframe\">\n",
       "  <thead>\n",
       "    <tr style=\"text-align: right;\">\n",
       "      <th></th>\n",
       "      <th>Topic</th>\n",
       "      <th>Count</th>\n",
       "      <th>Name</th>\n",
       "      <th>Representation</th>\n",
       "      <th>Representative_Docs</th>\n",
       "    </tr>\n",
       "  </thead>\n",
       "  <tbody>\n",
       "    <tr>\n",
       "      <th>0</th>\n",
       "      <td>-1</td>\n",
       "      <td>4573</td>\n",
       "      <td>-1_young_life_man_woman</td>\n",
       "      <td>[young, life, man, woman, love, family, new, w...</td>\n",
       "      <td>[After becoming separated from her family, a y...</td>\n",
       "    </tr>\n",
       "    <tr>\n",
       "      <th>1</th>\n",
       "      <td>0</td>\n",
       "      <td>489</td>\n",
       "      <td>0_standup_comedian_comedy_special</td>\n",
       "      <td>[standup, comedian, comedy, special, comic, st...</td>\n",
       "      <td>[Stand-up comedy star Kevin Hart delivers his ...</td>\n",
       "    </tr>\n",
       "    <tr>\n",
       "      <th>2</th>\n",
       "      <td>1</td>\n",
       "      <td>249</td>\n",
       "      <td>1_music_band_singer_musical</td>\n",
       "      <td>[music, band, singer, musical, rock, concert, ...</td>\n",
       "      <td>[In addition to concert scenes and studio reco...</td>\n",
       "    </tr>\n",
       "    <tr>\n",
       "      <th>3</th>\n",
       "      <td>2</td>\n",
       "      <td>168</td>\n",
       "      <td>2_detective_murder_killer_case</td>\n",
       "      <td>[detective, murder, killer, case, serial, case...</td>\n",
       "      <td>[A detective and a psychologist investigating ...</td>\n",
       "    </tr>\n",
       "    <tr>\n",
       "      <th>4</th>\n",
       "      <td>3</td>\n",
       "      <td>151</td>\n",
       "      <td>3_dog_cat_animal_adventures</td>\n",
       "      <td>[dog, cat, animal, adventures, fun, adorable, ...</td>\n",
       "      <td>[Cat-crazy host Jo Brand follows vets and anim...</td>\n",
       "    </tr>\n",
       "    <tr>\n",
       "      <th>...</th>\n",
       "      <td>...</td>\n",
       "      <td>...</td>\n",
       "      <td>...</td>\n",
       "      <td>...</td>\n",
       "      <td>...</td>\n",
       "    </tr>\n",
       "    <tr>\n",
       "      <th>91</th>\n",
       "      <td>90</td>\n",
       "      <td>11</td>\n",
       "      <td>90_draven_procedure_grave_wakes</td>\n",
       "      <td>[draven, procedure, grave, wakes, revenge, mur...</td>\n",
       "      <td>[Revived by an experimental procedure, a hit m...</td>\n",
       "    </tr>\n",
       "    <tr>\n",
       "      <th>92</th>\n",
       "      <td>91</td>\n",
       "      <td>11</td>\n",
       "      <td>91_date_blind_woman_texted</td>\n",
       "      <td>[date, blind, woman, texted, shattering, cring...</td>\n",
       "      <td>[Tired of swiping through the dating scene wit...</td>\n",
       "    </tr>\n",
       "    <tr>\n",
       "      <th>93</th>\n",
       "      <td>92</td>\n",
       "      <td>11</td>\n",
       "      <td>92_organized_crime_mafia_sprawling</td>\n",
       "      <td>[organized, crime, mafia, sprawling, ruled, ga...</td>\n",
       "      <td>[Organized crime came to London in the 1930s, ...</td>\n",
       "    </tr>\n",
       "    <tr>\n",
       "      <th>94</th>\n",
       "      <td>93</td>\n",
       "      <td>11</td>\n",
       "      <td>93_biopic_thackeray_bal_sena</td>\n",
       "      <td>[biopic, thackeray, bal, sena, maps, farright,...</td>\n",
       "      <td>[This biopic maps the meteoric rise of far-rig...</td>\n",
       "    </tr>\n",
       "    <tr>\n",
       "      <th>95</th>\n",
       "      <td>94</td>\n",
       "      <td>10</td>\n",
       "      <td>94_superheroes_saving_superhero_defend</td>\n",
       "      <td>[superheroes, saving, superhero, defend, zatan...</td>\n",
       "      <td>[In this adult animated series, three gay co-w...</td>\n",
       "    </tr>\n",
       "  </tbody>\n",
       "</table>\n",
       "<p>96 rows × 5 columns</p>\n",
       "</div>"
      ],
      "text/plain": [
       "    Topic  Count                                    Name  \\\n",
       "0      -1   4573                 -1_young_life_man_woman   \n",
       "1       0    489       0_standup_comedian_comedy_special   \n",
       "2       1    249             1_music_band_singer_musical   \n",
       "3       2    168          2_detective_murder_killer_case   \n",
       "4       3    151             3_dog_cat_animal_adventures   \n",
       "..    ...    ...                                     ...   \n",
       "91     90     11         90_draven_procedure_grave_wakes   \n",
       "92     91     11              91_date_blind_woman_texted   \n",
       "93     92     11      92_organized_crime_mafia_sprawling   \n",
       "94     93     11            93_biopic_thackeray_bal_sena   \n",
       "95     94     10  94_superheroes_saving_superhero_defend   \n",
       "\n",
       "                                       Representation  \\\n",
       "0   [young, life, man, woman, love, family, new, w...   \n",
       "1   [standup, comedian, comedy, special, comic, st...   \n",
       "2   [music, band, singer, musical, rock, concert, ...   \n",
       "3   [detective, murder, killer, case, serial, case...   \n",
       "4   [dog, cat, animal, adventures, fun, adorable, ...   \n",
       "..                                                ...   \n",
       "91  [draven, procedure, grave, wakes, revenge, mur...   \n",
       "92  [date, blind, woman, texted, shattering, cring...   \n",
       "93  [organized, crime, mafia, sprawling, ruled, ga...   \n",
       "94  [biopic, thackeray, bal, sena, maps, farright,...   \n",
       "95  [superheroes, saving, superhero, defend, zatan...   \n",
       "\n",
       "                                  Representative_Docs  \n",
       "0   [After becoming separated from her family, a y...  \n",
       "1   [Stand-up comedy star Kevin Hart delivers his ...  \n",
       "2   [In addition to concert scenes and studio reco...  \n",
       "3   [A detective and a psychologist investigating ...  \n",
       "4   [Cat-crazy host Jo Brand follows vets and anim...  \n",
       "..                                                ...  \n",
       "91  [Revived by an experimental procedure, a hit m...  \n",
       "92  [Tired of swiping through the dating scene wit...  \n",
       "93  [Organized crime came to London in the 1930s, ...  \n",
       "94  [This biopic maps the meteoric rise of far-rig...  \n",
       "95  [In this adult animated series, three gay co-w...  \n",
       "\n",
       "[96 rows x 5 columns]"
      ]
     },
     "execution_count": 9,
     "metadata": {},
     "output_type": "execute_result"
    }
   ],
   "source": [
    "from sklearn.feature_extraction.text import CountVectorizer\n",
    "\n",
    "topic_multilabel = BERTopic(vectorizer_model = CountVectorizer(stop_words=\"english\")\n",
    ")\n",
    "topic_multilabel.fit(descriptions)\n",
    "topic_multilabel.get_topic_info()"
   ]
  },
  {
   "cell_type": "code",
   "execution_count": 10,
   "metadata": {},
   "outputs": [],
   "source": [
    "#an array with the probability of it being each topic \n",
    "topic_distr, _ = topic_multilabel.approximate_distribution(processed_descriptions)"
   ]
  },
  {
   "cell_type": "code",
   "execution_count": 11,
   "metadata": {},
   "outputs": [
    {
     "data": {
      "application/vnd.plotly.v1+json": {
       "config": {
        "plotlyServerURL": "https://plot.ly"
       },
       "data": [
        {
         "marker": {
          "color": "#C8D2D7",
          "line": {
           "color": "#6E8484",
           "width": 1
          }
         },
         "orientation": "h",
         "type": "bar",
         "x": [
          0.20633849033220125,
          0.2373333161714293,
          0.3959034597360921,
          0.16042473376027747
         ],
         "y": [
          "<b>Topic 4</b>: school_teacher_high_stud...",
          "<b>Topic 14</b>: high_crush_college_stud...",
          "<b>Topic 16</b>: friends_best_party_coll...",
          "<b>Topic 73</b>: bus_train_ms_thomas_rid..."
         ]
        }
       ],
       "layout": {
        "height": 600,
        "hoverlabel": {
         "bgcolor": "white",
         "font": {
          "family": "Rockwell",
          "size": 16
         }
        },
        "template": {
         "data": {
          "bar": [
           {
            "error_x": {
             "color": "rgb(36,36,36)"
            },
            "error_y": {
             "color": "rgb(36,36,36)"
            },
            "marker": {
             "line": {
              "color": "white",
              "width": 0.5
             },
             "pattern": {
              "fillmode": "overlay",
              "size": 10,
              "solidity": 0.2
             }
            },
            "type": "bar"
           }
          ],
          "barpolar": [
           {
            "marker": {
             "line": {
              "color": "white",
              "width": 0.5
             },
             "pattern": {
              "fillmode": "overlay",
              "size": 10,
              "solidity": 0.2
             }
            },
            "type": "barpolar"
           }
          ],
          "carpet": [
           {
            "aaxis": {
             "endlinecolor": "rgb(36,36,36)",
             "gridcolor": "white",
             "linecolor": "white",
             "minorgridcolor": "white",
             "startlinecolor": "rgb(36,36,36)"
            },
            "baxis": {
             "endlinecolor": "rgb(36,36,36)",
             "gridcolor": "white",
             "linecolor": "white",
             "minorgridcolor": "white",
             "startlinecolor": "rgb(36,36,36)"
            },
            "type": "carpet"
           }
          ],
          "choropleth": [
           {
            "colorbar": {
             "outlinewidth": 1,
             "tickcolor": "rgb(36,36,36)",
             "ticks": "outside"
            },
            "type": "choropleth"
           }
          ],
          "contour": [
           {
            "colorbar": {
             "outlinewidth": 1,
             "tickcolor": "rgb(36,36,36)",
             "ticks": "outside"
            },
            "colorscale": [
             [
              0,
              "#440154"
             ],
             [
              0.1111111111111111,
              "#482878"
             ],
             [
              0.2222222222222222,
              "#3e4989"
             ],
             [
              0.3333333333333333,
              "#31688e"
             ],
             [
              0.4444444444444444,
              "#26828e"
             ],
             [
              0.5555555555555556,
              "#1f9e89"
             ],
             [
              0.6666666666666666,
              "#35b779"
             ],
             [
              0.7777777777777778,
              "#6ece58"
             ],
             [
              0.8888888888888888,
              "#b5de2b"
             ],
             [
              1,
              "#fde725"
             ]
            ],
            "type": "contour"
           }
          ],
          "contourcarpet": [
           {
            "colorbar": {
             "outlinewidth": 1,
             "tickcolor": "rgb(36,36,36)",
             "ticks": "outside"
            },
            "type": "contourcarpet"
           }
          ],
          "heatmap": [
           {
            "colorbar": {
             "outlinewidth": 1,
             "tickcolor": "rgb(36,36,36)",
             "ticks": "outside"
            },
            "colorscale": [
             [
              0,
              "#440154"
             ],
             [
              0.1111111111111111,
              "#482878"
             ],
             [
              0.2222222222222222,
              "#3e4989"
             ],
             [
              0.3333333333333333,
              "#31688e"
             ],
             [
              0.4444444444444444,
              "#26828e"
             ],
             [
              0.5555555555555556,
              "#1f9e89"
             ],
             [
              0.6666666666666666,
              "#35b779"
             ],
             [
              0.7777777777777778,
              "#6ece58"
             ],
             [
              0.8888888888888888,
              "#b5de2b"
             ],
             [
              1,
              "#fde725"
             ]
            ],
            "type": "heatmap"
           }
          ],
          "heatmapgl": [
           {
            "colorbar": {
             "outlinewidth": 1,
             "tickcolor": "rgb(36,36,36)",
             "ticks": "outside"
            },
            "colorscale": [
             [
              0,
              "#440154"
             ],
             [
              0.1111111111111111,
              "#482878"
             ],
             [
              0.2222222222222222,
              "#3e4989"
             ],
             [
              0.3333333333333333,
              "#31688e"
             ],
             [
              0.4444444444444444,
              "#26828e"
             ],
             [
              0.5555555555555556,
              "#1f9e89"
             ],
             [
              0.6666666666666666,
              "#35b779"
             ],
             [
              0.7777777777777778,
              "#6ece58"
             ],
             [
              0.8888888888888888,
              "#b5de2b"
             ],
             [
              1,
              "#fde725"
             ]
            ],
            "type": "heatmapgl"
           }
          ],
          "histogram": [
           {
            "marker": {
             "line": {
              "color": "white",
              "width": 0.6
             }
            },
            "type": "histogram"
           }
          ],
          "histogram2d": [
           {
            "colorbar": {
             "outlinewidth": 1,
             "tickcolor": "rgb(36,36,36)",
             "ticks": "outside"
            },
            "colorscale": [
             [
              0,
              "#440154"
             ],
             [
              0.1111111111111111,
              "#482878"
             ],
             [
              0.2222222222222222,
              "#3e4989"
             ],
             [
              0.3333333333333333,
              "#31688e"
             ],
             [
              0.4444444444444444,
              "#26828e"
             ],
             [
              0.5555555555555556,
              "#1f9e89"
             ],
             [
              0.6666666666666666,
              "#35b779"
             ],
             [
              0.7777777777777778,
              "#6ece58"
             ],
             [
              0.8888888888888888,
              "#b5de2b"
             ],
             [
              1,
              "#fde725"
             ]
            ],
            "type": "histogram2d"
           }
          ],
          "histogram2dcontour": [
           {
            "colorbar": {
             "outlinewidth": 1,
             "tickcolor": "rgb(36,36,36)",
             "ticks": "outside"
            },
            "colorscale": [
             [
              0,
              "#440154"
             ],
             [
              0.1111111111111111,
              "#482878"
             ],
             [
              0.2222222222222222,
              "#3e4989"
             ],
             [
              0.3333333333333333,
              "#31688e"
             ],
             [
              0.4444444444444444,
              "#26828e"
             ],
             [
              0.5555555555555556,
              "#1f9e89"
             ],
             [
              0.6666666666666666,
              "#35b779"
             ],
             [
              0.7777777777777778,
              "#6ece58"
             ],
             [
              0.8888888888888888,
              "#b5de2b"
             ],
             [
              1,
              "#fde725"
             ]
            ],
            "type": "histogram2dcontour"
           }
          ],
          "mesh3d": [
           {
            "colorbar": {
             "outlinewidth": 1,
             "tickcolor": "rgb(36,36,36)",
             "ticks": "outside"
            },
            "type": "mesh3d"
           }
          ],
          "parcoords": [
           {
            "line": {
             "colorbar": {
              "outlinewidth": 1,
              "tickcolor": "rgb(36,36,36)",
              "ticks": "outside"
             }
            },
            "type": "parcoords"
           }
          ],
          "pie": [
           {
            "automargin": true,
            "type": "pie"
           }
          ],
          "scatter": [
           {
            "fillpattern": {
             "fillmode": "overlay",
             "size": 10,
             "solidity": 0.2
            },
            "type": "scatter"
           }
          ],
          "scatter3d": [
           {
            "line": {
             "colorbar": {
              "outlinewidth": 1,
              "tickcolor": "rgb(36,36,36)",
              "ticks": "outside"
             }
            },
            "marker": {
             "colorbar": {
              "outlinewidth": 1,
              "tickcolor": "rgb(36,36,36)",
              "ticks": "outside"
             }
            },
            "type": "scatter3d"
           }
          ],
          "scattercarpet": [
           {
            "marker": {
             "colorbar": {
              "outlinewidth": 1,
              "tickcolor": "rgb(36,36,36)",
              "ticks": "outside"
             }
            },
            "type": "scattercarpet"
           }
          ],
          "scattergeo": [
           {
            "marker": {
             "colorbar": {
              "outlinewidth": 1,
              "tickcolor": "rgb(36,36,36)",
              "ticks": "outside"
             }
            },
            "type": "scattergeo"
           }
          ],
          "scattergl": [
           {
            "marker": {
             "colorbar": {
              "outlinewidth": 1,
              "tickcolor": "rgb(36,36,36)",
              "ticks": "outside"
             }
            },
            "type": "scattergl"
           }
          ],
          "scattermapbox": [
           {
            "marker": {
             "colorbar": {
              "outlinewidth": 1,
              "tickcolor": "rgb(36,36,36)",
              "ticks": "outside"
             }
            },
            "type": "scattermapbox"
           }
          ],
          "scatterpolar": [
           {
            "marker": {
             "colorbar": {
              "outlinewidth": 1,
              "tickcolor": "rgb(36,36,36)",
              "ticks": "outside"
             }
            },
            "type": "scatterpolar"
           }
          ],
          "scatterpolargl": [
           {
            "marker": {
             "colorbar": {
              "outlinewidth": 1,
              "tickcolor": "rgb(36,36,36)",
              "ticks": "outside"
             }
            },
            "type": "scatterpolargl"
           }
          ],
          "scatterternary": [
           {
            "marker": {
             "colorbar": {
              "outlinewidth": 1,
              "tickcolor": "rgb(36,36,36)",
              "ticks": "outside"
             }
            },
            "type": "scatterternary"
           }
          ],
          "surface": [
           {
            "colorbar": {
             "outlinewidth": 1,
             "tickcolor": "rgb(36,36,36)",
             "ticks": "outside"
            },
            "colorscale": [
             [
              0,
              "#440154"
             ],
             [
              0.1111111111111111,
              "#482878"
             ],
             [
              0.2222222222222222,
              "#3e4989"
             ],
             [
              0.3333333333333333,
              "#31688e"
             ],
             [
              0.4444444444444444,
              "#26828e"
             ],
             [
              0.5555555555555556,
              "#1f9e89"
             ],
             [
              0.6666666666666666,
              "#35b779"
             ],
             [
              0.7777777777777778,
              "#6ece58"
             ],
             [
              0.8888888888888888,
              "#b5de2b"
             ],
             [
              1,
              "#fde725"
             ]
            ],
            "type": "surface"
           }
          ],
          "table": [
           {
            "cells": {
             "fill": {
              "color": "rgb(237,237,237)"
             },
             "line": {
              "color": "white"
             }
            },
            "header": {
             "fill": {
              "color": "rgb(217,217,217)"
             },
             "line": {
              "color": "white"
             }
            },
            "type": "table"
           }
          ]
         },
         "layout": {
          "annotationdefaults": {
           "arrowhead": 0,
           "arrowwidth": 1
          },
          "autotypenumbers": "strict",
          "coloraxis": {
           "colorbar": {
            "outlinewidth": 1,
            "tickcolor": "rgb(36,36,36)",
            "ticks": "outside"
           }
          },
          "colorscale": {
           "diverging": [
            [
             0,
             "rgb(103,0,31)"
            ],
            [
             0.1,
             "rgb(178,24,43)"
            ],
            [
             0.2,
             "rgb(214,96,77)"
            ],
            [
             0.3,
             "rgb(244,165,130)"
            ],
            [
             0.4,
             "rgb(253,219,199)"
            ],
            [
             0.5,
             "rgb(247,247,247)"
            ],
            [
             0.6,
             "rgb(209,229,240)"
            ],
            [
             0.7,
             "rgb(146,197,222)"
            ],
            [
             0.8,
             "rgb(67,147,195)"
            ],
            [
             0.9,
             "rgb(33,102,172)"
            ],
            [
             1,
             "rgb(5,48,97)"
            ]
           ],
           "sequential": [
            [
             0,
             "#440154"
            ],
            [
             0.1111111111111111,
             "#482878"
            ],
            [
             0.2222222222222222,
             "#3e4989"
            ],
            [
             0.3333333333333333,
             "#31688e"
            ],
            [
             0.4444444444444444,
             "#26828e"
            ],
            [
             0.5555555555555556,
             "#1f9e89"
            ],
            [
             0.6666666666666666,
             "#35b779"
            ],
            [
             0.7777777777777778,
             "#6ece58"
            ],
            [
             0.8888888888888888,
             "#b5de2b"
            ],
            [
             1,
             "#fde725"
            ]
           ],
           "sequentialminus": [
            [
             0,
             "#440154"
            ],
            [
             0.1111111111111111,
             "#482878"
            ],
            [
             0.2222222222222222,
             "#3e4989"
            ],
            [
             0.3333333333333333,
             "#31688e"
            ],
            [
             0.4444444444444444,
             "#26828e"
            ],
            [
             0.5555555555555556,
             "#1f9e89"
            ],
            [
             0.6666666666666666,
             "#35b779"
            ],
            [
             0.7777777777777778,
             "#6ece58"
            ],
            [
             0.8888888888888888,
             "#b5de2b"
            ],
            [
             1,
             "#fde725"
            ]
           ]
          },
          "colorway": [
           "#1F77B4",
           "#FF7F0E",
           "#2CA02C",
           "#D62728",
           "#9467BD",
           "#8C564B",
           "#E377C2",
           "#7F7F7F",
           "#BCBD22",
           "#17BECF"
          ],
          "font": {
           "color": "rgb(36,36,36)"
          },
          "geo": {
           "bgcolor": "white",
           "lakecolor": "white",
           "landcolor": "white",
           "showlakes": true,
           "showland": true,
           "subunitcolor": "white"
          },
          "hoverlabel": {
           "align": "left"
          },
          "hovermode": "closest",
          "mapbox": {
           "style": "light"
          },
          "paper_bgcolor": "white",
          "plot_bgcolor": "white",
          "polar": {
           "angularaxis": {
            "gridcolor": "rgb(232,232,232)",
            "linecolor": "rgb(36,36,36)",
            "showgrid": false,
            "showline": true,
            "ticks": "outside"
           },
           "bgcolor": "white",
           "radialaxis": {
            "gridcolor": "rgb(232,232,232)",
            "linecolor": "rgb(36,36,36)",
            "showgrid": false,
            "showline": true,
            "ticks": "outside"
           }
          },
          "scene": {
           "xaxis": {
            "backgroundcolor": "white",
            "gridcolor": "rgb(232,232,232)",
            "gridwidth": 2,
            "linecolor": "rgb(36,36,36)",
            "showbackground": true,
            "showgrid": false,
            "showline": true,
            "ticks": "outside",
            "zeroline": false,
            "zerolinecolor": "rgb(36,36,36)"
           },
           "yaxis": {
            "backgroundcolor": "white",
            "gridcolor": "rgb(232,232,232)",
            "gridwidth": 2,
            "linecolor": "rgb(36,36,36)",
            "showbackground": true,
            "showgrid": false,
            "showline": true,
            "ticks": "outside",
            "zeroline": false,
            "zerolinecolor": "rgb(36,36,36)"
           },
           "zaxis": {
            "backgroundcolor": "white",
            "gridcolor": "rgb(232,232,232)",
            "gridwidth": 2,
            "linecolor": "rgb(36,36,36)",
            "showbackground": true,
            "showgrid": false,
            "showline": true,
            "ticks": "outside",
            "zeroline": false,
            "zerolinecolor": "rgb(36,36,36)"
           }
          },
          "shapedefaults": {
           "fillcolor": "black",
           "line": {
            "width": 0
           },
           "opacity": 0.3
          },
          "ternary": {
           "aaxis": {
            "gridcolor": "rgb(232,232,232)",
            "linecolor": "rgb(36,36,36)",
            "showgrid": false,
            "showline": true,
            "ticks": "outside"
           },
           "baxis": {
            "gridcolor": "rgb(232,232,232)",
            "linecolor": "rgb(36,36,36)",
            "showgrid": false,
            "showline": true,
            "ticks": "outside"
           },
           "bgcolor": "white",
           "caxis": {
            "gridcolor": "rgb(232,232,232)",
            "linecolor": "rgb(36,36,36)",
            "showgrid": false,
            "showline": true,
            "ticks": "outside"
           }
          },
          "title": {
           "x": 0.05
          },
          "xaxis": {
           "automargin": true,
           "gridcolor": "rgb(232,232,232)",
           "linecolor": "rgb(36,36,36)",
           "showgrid": false,
           "showline": true,
           "ticks": "outside",
           "title": {
            "standoff": 15
           },
           "zeroline": false,
           "zerolinecolor": "rgb(36,36,36)"
          },
          "yaxis": {
           "automargin": true,
           "gridcolor": "rgb(232,232,232)",
           "linecolor": "rgb(36,36,36)",
           "showgrid": false,
           "showline": true,
           "ticks": "outside",
           "title": {
            "standoff": 15
           },
           "zeroline": false,
           "zerolinecolor": "rgb(36,36,36)"
          }
         }
        },
        "title": {
         "font": {
          "color": "Black",
          "size": 22
         },
         "text": "<b>Topic Probability Distribution</b>",
         "x": 0.5,
         "xanchor": "center",
         "y": 0.95,
         "yanchor": "top"
        },
        "width": 800,
        "xaxis": {
         "title": {
          "text": "Probability"
         }
        }
       }
      }
     },
     "metadata": {},
     "output_type": "display_data"
    }
   ],
   "source": [
    "topic_multilabel.visualize_distribution(topic_distr[4])"
   ]
  },
  {
   "cell_type": "code",
   "execution_count": 12,
   "metadata": {},
   "outputs": [],
   "source": [
    "#automodal causal from pretrained (use path , dont need to download)\n",
    "def generate_topic_name(list_of_words):\n",
    "\n",
    "    llm = CTransformers(model='TheBloke/Llama-2-7B-Chat-GGUF',\n",
    "                        model_type='llama',\n",
    "                        config={'max_new_tokens': 256,\n",
    "                                'temperature': 0.01})\n",
    "## Topk > 0 and 10 and temperature = 0 as well as higher \n",
    "##try vicuna model, mistral-instruct\n",
    "    words = ', '.join([i for i in list_of_words])\n",
    "\n",
    "    template = \"\"\"\n",
    "Given the following words that describe a genre of Netflix shows\\films, return a one to two word name for the genre. Your response\n",
    "should be one to two words with no other text:\\n\\\"{words}\\\"\n",
    "    \"\"\"\n",
    "\n",
    "    prompt = PromptTemplate(input_variables = ['words'], template=template)\n",
    "\n",
    "    response = llm(prompt.format(words=words))\n",
    "\n",
    "    return response\n"
   ]
  },
  {
   "cell_type": "code",
   "execution_count": 13,
   "metadata": {},
   "outputs": [
    {
     "name": "stderr",
     "output_type": "stream",
     "text": [
      "Fetching 1 files: 100%|██████████| 1/1 [00:00<00:00, 27776.85it/s]\n",
      "Fetching 1 files: 100%|██████████| 1/1 [00:00<00:00, 15363.75it/s]\n",
      "/Users/ayushjain/Development/DisruptionLab/jinship_sp2024/.venv/lib/python3.9/site-packages/langchain_core/_api/deprecation.py:117: LangChainDeprecationWarning:\n",
      "\n",
      "The function `__call__` was deprecated in LangChain 0.1.7 and will be removed in 0.2.0. Use invoke instead.\n",
      "\n",
      "Fetching 1 files: 100%|██████████| 1/1 [00:00<00:00, 22192.08it/s]\n",
      "Fetching 1 files: 100%|██████████| 1/1 [00:00<00:00, 16710.37it/s]\n",
      "Fetching 1 files: 100%|██████████| 1/1 [00:00<00:00, 24385.49it/s]\n",
      "Fetching 1 files: 100%|██████████| 1/1 [00:00<00:00, 14315.03it/s]\n",
      "Fetching 1 files: 100%|██████████| 1/1 [00:00<00:00, 20460.02it/s]\n",
      "Fetching 1 files: 100%|██████████| 1/1 [00:00<00:00, 16320.25it/s]\n",
      "Fetching 1 files: 100%|██████████| 1/1 [00:00<00:00, 16844.59it/s]\n",
      "Fetching 1 files: 100%|██████████| 1/1 [00:00<00:00, 11618.57it/s]\n",
      "Fetching 1 files: 100%|██████████| 1/1 [00:00<00:00, 11915.64it/s]\n",
      "Fetching 1 files: 100%|██████████| 1/1 [00:00<00:00, 10645.44it/s]\n",
      "Fetching 1 files: 100%|██████████| 1/1 [00:00<00:00, 12483.05it/s]\n",
      "Fetching 1 files: 100%|██████████| 1/1 [00:00<00:00, 11125.47it/s]\n",
      "Fetching 1 files: 100%|██████████| 1/1 [00:00<00:00, 5236.33it/s]\n",
      "Fetching 1 files: 100%|██████████| 1/1 [00:00<00:00, 12671.61it/s]\n",
      "Fetching 1 files: 100%|██████████| 1/1 [00:00<00:00, 14463.12it/s]\n",
      "Fetching 1 files: 100%|██████████| 1/1 [00:00<00:00, 7049.25it/s]\n",
      "Fetching 1 files: 100%|██████████| 1/1 [00:00<00:00, 20763.88it/s]\n",
      "Fetching 1 files: 100%|██████████| 1/1 [00:00<00:00, 9258.95it/s]\n",
      "Fetching 1 files: 100%|██████████| 1/1 [00:00<00:00, 22192.08it/s]\n",
      "Fetching 1 files: 100%|██████████| 1/1 [00:00<00:00, 23301.69it/s]\n",
      "Fetching 1 files: 100%|██████████| 1/1 [00:00<00:00, 25731.93it/s]\n",
      "Fetching 1 files: 100%|██████████| 1/1 [00:00<00:00, 28728.11it/s]\n",
      "Fetching 1 files: 100%|██████████| 1/1 [00:00<00:00, 27776.85it/s]\n",
      "Fetching 1 files: 100%|██████████| 1/1 [00:00<00:00, 23301.69it/s]\n",
      "Fetching 1 files: 100%|██████████| 1/1 [00:00<00:00, 23831.27it/s]\n",
      "Fetching 1 files: 100%|██████████| 1/1 [00:00<00:00, 23301.69it/s]\n",
      "Fetching 1 files: 100%|██████████| 1/1 [00:00<00:00, 15592.21it/s]\n",
      "Fetching 1 files: 100%|██████████| 1/1 [00:00<00:00, 30174.85it/s]\n",
      "Fetching 1 files: 100%|██████████| 1/1 [00:00<00:00, 12336.19it/s]\n",
      "Fetching 1 files: 100%|██████████| 1/1 [00:00<00:00, 9000.65it/s]\n",
      "Fetching 1 files: 100%|██████████| 1/1 [00:00<00:00, 11491.24it/s]\n",
      "Fetching 1 files: 100%|██████████| 1/1 [00:00<00:00, 5343.06it/s]\n",
      "Fetching 1 files: 100%|██████████| 1/1 [00:00<00:00, 16980.99it/s]\n",
      "Fetching 1 files: 100%|██████████| 1/1 [00:00<00:00, 18157.16it/s]\n",
      "Fetching 1 files: 100%|██████████| 1/1 [00:00<00:00, 13357.66it/s]\n",
      "Fetching 1 files: 100%|██████████| 1/1 [00:00<00:00, 15827.56it/s]\n",
      "Fetching 1 files: 100%|██████████| 1/1 [00:00<00:00, 19691.57it/s]\n",
      "Fetching 1 files: 100%|██████████| 1/1 [00:00<00:00, 20360.70it/s]\n",
      "Fetching 1 files: 100%|██████████| 1/1 [00:00<00:00, 10230.01it/s]\n",
      "Fetching 1 files: 100%|██████████| 1/1 [00:00<00:00, 14979.66it/s]\n",
      "Fetching 1 files: 100%|██████████| 1/1 [00:00<00:00, 10305.42it/s]\n",
      "Fetching 1 files: 100%|██████████| 1/1 [00:00<00:00, 9986.44it/s]\n",
      "Fetching 1 files: 100%|██████████| 1/1 [00:00<00:00, 8192.00it/s]\n",
      "Fetching 1 files: 100%|██████████| 1/1 [00:00<00:00, 9446.63it/s]\n",
      "Fetching 1 files: 100%|██████████| 1/1 [00:00<00:00, 17050.02it/s]\n",
      "Fetching 1 files: 100%|██████████| 1/1 [00:00<00:00, 8683.86it/s]\n",
      "Fetching 1 files: 100%|██████████| 1/1 [00:00<00:00, 18477.11it/s]\n",
      "Fetching 1 files: 100%|██████████| 1/1 [00:00<00:00, 14074.85it/s]\n",
      "Fetching 1 files: 100%|██████████| 1/1 [00:00<00:00, 12052.60it/s]\n",
      "Fetching 1 files: 100%|██████████| 1/1 [00:00<00:00, 15827.56it/s]\n",
      "Fetching 1 files: 100%|██████████| 1/1 [00:00<00:00, 22795.13it/s]\n",
      "Fetching 1 files: 100%|██████████| 1/1 [00:00<00:00, 19239.93it/s]\n",
      "Fetching 1 files: 100%|██████████| 1/1 [00:00<00:00, 6898.53it/s]\n",
      "Fetching 1 files: 100%|██████████| 1/1 [00:00<00:00, 14266.34it/s]\n",
      "Fetching 1 files: 100%|██████████| 1/1 [00:00<00:00, 22192.08it/s]\n",
      "Fetching 1 files: 100%|██████████| 1/1 [00:00<00:00, 11335.96it/s]\n",
      "Fetching 1 files: 100%|██████████| 1/1 [00:00<00:00, 16194.22it/s]\n",
      "Fetching 1 files: 100%|██████████| 1/1 [00:00<00:00, 15592.21it/s]\n",
      "Fetching 1 files: 100%|██████████| 1/1 [00:00<00:00, 14027.77it/s]\n",
      "Fetching 1 files: 100%|██████████| 1/1 [00:00<00:00, 2644.58it/s]\n",
      "Fetching 1 files: 100%|██████████| 1/1 [00:00<00:00, 12372.58it/s]\n",
      "Fetching 1 files: 100%|██████████| 1/1 [00:00<00:00, 7476.48it/s]\n",
      "Fetching 1 files: 100%|██████████| 1/1 [00:00<00:00, 22671.91it/s]\n",
      "Fetching 1 files: 100%|██████████| 1/1 [00:00<00:00, 15141.89it/s]\n",
      "Fetching 1 files: 100%|██████████| 1/1 [00:00<00:00, 18477.11it/s]\n",
      "Fetching 1 files: 100%|██████████| 1/1 [00:00<00:00, 12483.05it/s]\n",
      "Fetching 1 files: 100%|██████████| 1/1 [00:00<00:00, 21620.12it/s]\n",
      "Fetching 1 files: 100%|██████████| 1/1 [00:00<00:00, 10894.30it/s]\n",
      "Fetching 1 files: 100%|██████████| 1/1 [00:00<00:00, 16448.25it/s]\n",
      "Fetching 1 files: 100%|██████████| 1/1 [00:00<00:00, 14513.16it/s]\n",
      "Fetching 1 files: 100%|██████████| 1/1 [00:00<00:00, 17331.83it/s]\n",
      "Fetching 1 files: 100%|██████████| 1/1 [00:00<00:00, 12372.58it/s]\n",
      "Fetching 1 files: 100%|██████████| 1/1 [00:00<00:00, 23831.27it/s]\n",
      "Fetching 1 files: 100%|██████████| 1/1 [00:00<00:00, 15592.21it/s]\n",
      "Fetching 1 files: 100%|██████████| 1/1 [00:00<00:00, 17549.39it/s]\n",
      "Fetching 1 files: 100%|██████████| 1/1 [00:00<00:00, 13706.88it/s]\n",
      "Fetching 1 files: 100%|██████████| 1/1 [00:00<00:00, 18477.11it/s]\n",
      "Fetching 1 files: 100%|██████████| 1/1 [00:00<00:00, 12157.40it/s]\n",
      "Fetching 1 files: 100%|██████████| 1/1 [00:00<00:00, 29537.35it/s]\n",
      "Fetching 1 files: 100%|██████████| 1/1 [00:00<00:00, 29330.80it/s]\n",
      "Fetching 1 files: 100%|██████████| 1/1 [00:00<00:00, 28532.68it/s]\n",
      "Fetching 1 files: 100%|██████████| 1/1 [00:00<00:00, 25731.93it/s]\n",
      "Fetching 1 files: 100%|██████████| 1/1 [00:00<00:00, 16912.52it/s]\n",
      "Fetching 1 files: 100%|██████████| 1/1 [00:00<00:00, 20460.02it/s]\n",
      "Fetching 1 files: 100%|██████████| 1/1 [00:00<00:00, 19599.55it/s]\n",
      "Fetching 1 files: 100%|██████████| 1/1 [00:00<00:00, 12483.05it/s]\n",
      "Fetching 1 files: 100%|██████████| 1/1 [00:00<00:00, 15363.75it/s]\n",
      "Fetching 1 files: 100%|██████████| 1/1 [00:00<00:00, 16448.25it/s]\n",
      "Fetching 1 files: 100%|██████████| 1/1 [00:00<00:00, 14873.42it/s]\n",
      "Fetching 1 files: 100%|██████████| 1/1 [00:00<00:00, 12633.45it/s]\n",
      "Fetching 1 files: 100%|██████████| 1/1 [00:00<00:00, 21183.35it/s]\n",
      "Fetching 1 files: 100%|██████████| 1/1 [00:00<00:00, 10407.70it/s]\n",
      "Fetching 1 files: 100%|██████████| 1/1 [00:00<00:00, 28532.68it/s]\n",
      "Fetching 1 files: 100%|██████████| 1/1 [00:00<00:00, 27060.03it/s]\n",
      "Fetching 1 files: 100%|██████████| 1/1 [00:00<00:00, 24385.49it/s]\n",
      "Fetching 1 files: 100%|██████████| 1/1 [00:00<00:00, 10010.27it/s]\n",
      "Fetching 1 files: 100%|██████████| 1/1 [00:00<00:00, 18893.26it/s]\n",
      "Fetching 1 files: 100%|██████████| 1/1 [00:00<00:00, 14217.98it/s]\n",
      "Fetching 1 files: 100%|██████████| 1/1 [00:00<00:00, 32263.88it/s]\n",
      "Fetching 1 files: 100%|██████████| 1/1 [00:00<00:00, 31300.78it/s]\n",
      "Fetching 1 files: 100%|██████████| 1/1 [00:00<00:00, 19691.57it/s]\n",
      "Fetching 1 files: 100%|██████████| 1/1 [00:00<00:00, 11125.47it/s]\n",
      "Fetching 1 files: 100%|██████████| 1/1 [00:00<00:00, 28728.11it/s]\n",
      "Fetching 1 files: 100%|██████████| 1/1 [00:00<00:00, 25731.93it/s]\n",
      "Fetching 1 files: 100%|██████████| 1/1 [00:00<00:00, 20763.88it/s]\n",
      "Fetching 1 files: 100%|██████████| 1/1 [00:00<00:00, 13148.29it/s]\n",
      "Fetching 1 files: 100%|██████████| 1/1 [00:00<00:00, 11618.57it/s]\n",
      "Fetching 1 files: 100%|██████████| 1/1 [00:00<00:00, 12483.05it/s]\n",
      "Fetching 1 files: 100%|██████████| 1/1 [00:00<00:00, 18157.16it/s]\n",
      "Fetching 1 files: 100%|██████████| 1/1 [00:00<00:00, 9098.27it/s]\n",
      "Fetching 1 files: 100%|██████████| 1/1 [00:00<00:00, 20068.44it/s]\n",
      "Fetching 1 files: 100%|██████████| 1/1 [00:00<00:00, 14563.56it/s]\n",
      "Fetching 1 files: 100%|██████████| 1/1 [00:00<00:00, 17549.39it/s]\n",
      "Fetching 1 files: 100%|██████████| 1/1 [00:00<00:00, 14027.77it/s]\n",
      "Fetching 1 files: 100%|██████████| 1/1 [00:00<00:00, 12483.05it/s]\n",
      "Fetching 1 files: 100%|██████████| 1/1 [00:00<00:00, 9822.73it/s]\n",
      "Fetching 1 files: 100%|██████████| 1/1 [00:00<00:00, 20867.18it/s]\n",
      "Fetching 1 files: 100%|██████████| 1/1 [00:00<00:00, 14563.56it/s]\n",
      "Fetching 1 files: 100%|██████████| 1/1 [00:00<00:00, 21290.88it/s]\n",
      "Fetching 1 files: 100%|██████████| 1/1 [00:00<00:00, 9341.43it/s]\n",
      "Fetching 1 files: 100%|██████████| 1/1 [00:00<00:00, 10979.85it/s]\n",
      "Fetching 1 files: 100%|██████████| 1/1 [00:00<00:00, 10356.31it/s]\n",
      "Fetching 1 files: 100%|██████████| 1/1 [00:00<00:00, 9078.58it/s]\n",
      "Fetching 1 files: 100%|██████████| 1/1 [00:00<00:00, 10754.63it/s]\n",
      "Fetching 1 files: 100%|██████████| 1/1 [00:00<00:00, 16448.25it/s]\n",
      "Fetching 1 files: 100%|██████████| 1/1 [00:00<00:00, 10837.99it/s]\n",
      "Fetching 1 files: 100%|██████████| 1/1 [00:00<00:00, 21620.12it/s]\n",
      "Fetching 1 files: 100%|██████████| 1/1 [00:00<00:00, 9986.44it/s]\n",
      "Fetching 1 files: 100%|██████████| 1/1 [00:00<00:00, 19599.55it/s]\n",
      "Fetching 1 files: 100%|██████████| 1/1 [00:00<00:00, 14873.42it/s]\n",
      "Fetching 1 files: 100%|██████████| 1/1 [00:00<00:00, 18808.54it/s]\n",
      "Fetching 1 files: 100%|██████████| 1/1 [00:00<00:00, 11491.24it/s]\n",
      "Fetching 1 files: 100%|██████████| 1/1 [00:00<00:00, 8943.08it/s]\n",
      "Fetching 1 files: 100%|██████████| 1/1 [00:00<00:00, 10407.70it/s]\n",
      "Fetching 1 files: 100%|██████████| 1/1 [00:00<00:00, 12228.29it/s]\n",
      "Fetching 1 files: 100%|██████████| 1/1 [00:00<00:00, 14513.16it/s]\n",
      "Fetching 1 files: 100%|██████████| 1/1 [00:00<00:00, 12520.31it/s]\n",
      "Fetching 1 files: 100%|██████████| 1/1 [00:00<00:00, 8081.51it/s]\n",
      "Fetching 1 files: 100%|██████████| 1/1 [00:00<00:00, 12018.06it/s]\n",
      "Fetching 1 files: 100%|██████████| 1/1 [00:00<00:00, 11491.24it/s]\n",
      "Fetching 1 files: 100%|██████████| 1/1 [00:00<00:00, 16644.06it/s]\n",
      "Fetching 1 files: 100%|██████████| 1/1 [00:00<00:00, 10754.63it/s]\n",
      "Fetching 1 files: 100%|██████████| 1/1 [00:00<00:00, 23301.69it/s]\n",
      "Fetching 1 files: 100%|██████████| 1/1 [00:00<00:00, 14563.56it/s]\n",
      "Fetching 1 files: 100%|██████████| 1/1 [00:00<00:00, 16912.52it/s]\n",
      "Fetching 1 files: 100%|██████████| 1/1 [00:00<00:00, 9986.44it/s]\n",
      "Fetching 1 files: 100%|██████████| 1/1 [00:00<00:00, 14074.85it/s]\n",
      "Fetching 1 files: 100%|██████████| 1/1 [00:00<00:00, 13842.59it/s]\n",
      "Fetching 1 files: 100%|██████████| 1/1 [00:00<00:00, 14027.77it/s]\n",
      "Fetching 1 files: 100%|██████████| 1/1 [00:00<00:00, 10979.85it/s]\n",
      "Fetching 1 files: 100%|██████████| 1/1 [00:00<00:00, 21732.15it/s]\n",
      "Fetching 1 files: 100%|██████████| 1/1 [00:00<00:00, 10407.70it/s]\n",
      "Fetching 1 files: 100%|██████████| 1/1 [00:00<00:00, 15363.75it/s]\n",
      "Fetching 1 files: 100%|██████████| 1/1 [00:00<00:00, 8004.40it/s]\n",
      "Fetching 1 files: 100%|██████████| 1/1 [00:00<00:00, 23172.95it/s]\n",
      "Fetching 1 files: 100%|██████████| 1/1 [00:00<00:00, 14122.24it/s]\n",
      "Fetching 1 files: 100%|██████████| 1/1 [00:00<00:00, 14716.86it/s]\n",
      "Fetching 1 files: 100%|██████████| 1/1 [00:00<00:00, 9157.87it/s]\n",
      "Fetching 1 files: 100%|██████████| 1/1 [00:00<00:00, 21290.88it/s]\n",
      "Fetching 1 files: 100%|██████████| 1/1 [00:00<00:00, 7358.43it/s]\n",
      "Fetching 1 files: 100%|██████████| 1/1 [00:00<00:00, 22192.08it/s]\n",
      "Fetching 1 files: 100%|██████████| 1/1 [00:00<00:00, 9000.65it/s]\n",
      "Fetching 1 files: 100%|██████████| 1/1 [00:00<00:00, 11397.57it/s]\n",
      "Fetching 1 files: 100%|██████████| 1/1 [00:00<00:00, 9892.23it/s]\n",
      "Fetching 1 files: 100%|██████████| 1/1 [00:00<00:00, 6710.89it/s]\n",
      "Fetching 1 files: 100%|██████████| 1/1 [00:00<00:00, 12192.74it/s]\n",
      "Fetching 1 files: 100%|██████████| 1/1 [00:00<00:00, 7463.17it/s]\n",
      "Fetching 1 files: 100%|██████████| 1/1 [00:00<00:00, 16644.06it/s]\n",
      "Fetching 1 files: 100%|██████████| 1/1 [00:00<00:00, 9822.73it/s]\n",
      "Fetching 1 files: 100%|██████████| 1/1 [00:00<00:00, 23831.27it/s]\n",
      "Fetching 1 files: 100%|██████████| 1/1 [00:00<00:00, 11522.81it/s]\n",
      "Fetching 1 files: 100%|██████████| 1/1 [00:00<00:00, 10106.76it/s]\n",
      "Fetching 1 files: 100%|██████████| 1/1 [00:00<00:00, 10082.46it/s]\n",
      "Fetching 1 files: 100%|██████████| 1/1 [00:00<00:00, 17549.39it/s]\n",
      "Fetching 1 files: 100%|██████████| 1/1 [00:00<00:00, 8943.08it/s]\n",
      "Fetching 1 files: 100%|██████████| 1/1 [00:00<00:00, 20360.70it/s]\n",
      "Fetching 1 files: 100%|██████████| 1/1 [00:00<00:00, 7307.15it/s]\n",
      "Fetching 1 files: 100%|██████████| 1/1 [00:00<00:00, 18893.26it/s]\n",
      "Fetching 1 files: 100%|██████████| 1/1 [00:00<00:00, 9157.87it/s]\n",
      "Fetching 1 files: 100%|██████████| 1/1 [00:00<00:00, 22192.08it/s]\n",
      "Fetching 1 files: 100%|██████████| 1/1 [00:00<00:00, 8128.50it/s]\n",
      "Fetching 1 files: 100%|██████████| 1/1 [00:00<00:00, 16644.06it/s]\n",
      "Fetching 1 files: 100%|██████████| 1/1 [00:00<00:00, 8004.40it/s]\n",
      "Fetching 1 files: 100%|██████████| 1/1 [00:00<00:00, 8559.80it/s]\n",
      "Fetching 1 files: 100%|██████████| 1/1 [00:00<00:00, 9892.23it/s]\n",
      "Fetching 1 files: 100%|██████████| 1/1 [00:00<00:00, 21290.88it/s]\n",
      "Fetching 1 files: 100%|██████████| 1/1 [00:00<00:00, 11781.75it/s]\n"
     ]
    },
    {
     "ename": "KeyError",
     "evalue": "95",
     "output_type": "error",
     "traceback": [
      "\u001b[0;31m---------------------------------------------------------------------------\u001b[0m",
      "\u001b[0;31mKeyError\u001b[0m                                  Traceback (most recent call last)",
      "Cell \u001b[0;32mIn[13], line 5\u001b[0m\n\u001b[1;32m      3\u001b[0m \u001b[38;5;28;01mfor\u001b[39;00m i \u001b[38;5;129;01min\u001b[39;00m \u001b[38;5;28mrange\u001b[39m(\u001b[38;5;241m100\u001b[39m):\n\u001b[1;32m      4\u001b[0m     list_of_words \u001b[38;5;241m=\u001b[39m []\n\u001b[0;32m----> 5\u001b[0m     \u001b[38;5;28;01mfor\u001b[39;00m word \u001b[38;5;129;01min\u001b[39;00m \u001b[43mall_topics\u001b[49m\u001b[43m[\u001b[49m\u001b[43mi\u001b[49m\u001b[43m]\u001b[49m:\n\u001b[1;32m      6\u001b[0m         list_of_words\u001b[38;5;241m.\u001b[39mappend(word[\u001b[38;5;241m0\u001b[39m])\n\u001b[1;32m      7\u001b[0m     topic_names\u001b[38;5;241m.\u001b[39mappend(generate_topic_name(list_of_words))\n",
      "\u001b[0;31mKeyError\u001b[0m: 95"
     ]
    }
   ],
   "source": [
    "topic_names = []\n",
    "all_topics = topic_multilabel.get_topics()\n",
    "for i in range(100):\n",
    "    list_of_words = []\n",
    "    for word in all_topics[i]:\n",
    "        list_of_words.append(word[0])\n",
    "    topic_names.append(generate_topic_name(list_of_words))"
   ]
  },
  {
   "cell_type": "code",
   "execution_count": null,
   "metadata": {},
   "outputs": [
    {
     "ename": "NameError",
     "evalue": "name 'topic_names' is not defined",
     "output_type": "error",
     "traceback": [
      "\u001b[0;31m---------------------------------------------------------------------------\u001b[0m",
      "\u001b[0;31mNameError\u001b[0m                                 Traceback (most recent call last)",
      "Cell \u001b[0;32mIn[2], line 1\u001b[0m\n\u001b[0;32m----> 1\u001b[0m \u001b[43mtopic_names\u001b[49m[\u001b[38;5;241m0\u001b[39m]\n",
      "\u001b[0;31mNameError\u001b[0m: name 'topic_names' is not defined"
     ]
    }
   ],
   "source": [
    "topic_names[0]"
   ]
  },
  {
   "cell_type": "code",
   "execution_count": null,
   "metadata": {},
   "outputs": [
    {
     "ename": "NameError",
     "evalue": "name 'topic_names' is not defined",
     "output_type": "error",
     "traceback": [
      "\u001b[0;31m---------------------------------------------------------------------------\u001b[0m",
      "\u001b[0;31mNameError\u001b[0m                                 Traceback (most recent call last)",
      "Cell \u001b[0;32mIn[1], line 2\u001b[0m\n\u001b[1;32m      1\u001b[0m \u001b[38;5;28;01mimport\u001b[39;00m \u001b[38;5;21;01mpprint\u001b[39;00m\n\u001b[0;32m----> 2\u001b[0m pprint\u001b[38;5;241m.\u001b[39mpprint(\u001b[43mtopic_names\u001b[49m[\u001b[38;5;241m1\u001b[39m])\n",
      "\u001b[0;31mNameError\u001b[0m: name 'topic_names' is not defined"
     ]
    }
   ],
   "source": [
    "import pprint\n",
    "pprint.pprint(topic_names[1])"
   ]
  },
  {
   "cell_type": "markdown",
   "metadata": {},
   "source": [
    "Ideas: \n",
    "1. Set temperature to .1\n",
    "2. Experiemnt with other models\n",
    "3. Find most common tags \n",
    "4. For outlier tags send it to a meodl with temperature 0 to see if its tag list can fit into the most frequent tags \n",
    "     to f- ind a method to distinguish between a bad outlier and a good outlier \n",
    "5. "
   ]
  },
  {
   "cell_type": "code",
   "execution_count": null,
   "metadata": {},
   "outputs": [
    {
     "data": {
      "text/plain": [
       "['1. Stand-up\\n    2. Comedy',\n",
       " '1. Rock\\n    2. Musical\\n    3. Documentary\\n    4. Singer\\n    5. Concert\\n    6. Band\\n    7. Tour\\n    8. Songs',\n",
       " '1. Funny\\n    2. Animals\\n    3. Adventure',\n",
       " ' Please let me know if you need any additional information or clarification.',\n",
       " ' \"thriller, suspense, crime, mystery, detective, murder, violence, action\"\\n     \"romance, love, relationships, drama, passion, kiss, hug, wedding\"\\n     \"comedy, funny, humor, laughter, slapstick, parody, satire\"\\n     \"drama, emotional, intense, character, development, plot, twists\"\\n     \"horror, scary, spooky, ghost, monster, supernatural\"\\nPlease let me know if you need any additional information.',\n",
       " '1. Drama\\n    2. Comedy\\n    3. Romance\\n    4. Thriller\\n    5. Horror\\n    6. Sci-Fi\\n    7. Fantasy\\n    8. Crime\\n    9. Mystery\\n    10. Adventure',\n",
       " '1. Sci-Fi\\n2. Space Opera\\n3. Action Adventure\\n4. Thriller\\n5. Drama\\n6. Mystery\\n7. Comedy\\n8. Fantasy\\n9. Horror\\n10. Romance',\n",
       " '1. Wildlife\\n    2. Nature Doc',\n",
       " '1. Horror\\n    2. Supernatural\\n    3. Thriller',\n",
       " '1. Film\\n    2. Documentary\\n    3. Women\\n    4. Career\\n    5. Director',\n",
       " '1. Christmas\\n    2. Holiday',\n",
       " '1. Thriller\\n    2. Drama\\n    3. Action\\n    4. Crime\\n    5. Mystery\\n    6. Romance\\n    7. Horror\\n    8. Adventure\\nPlease let me know if you need any additional information or clarification.',\n",
       " '\\n\\nName of the genre:  Crime Drama',\n",
       " ' \"thriller, crime, mystery, detective, police, violence, action, suspense\"\\n     \"romance, love, relationship, heartbreak, kissing, wedding, honeymoon\"\\n     \"comedy, funny, humor, laughter, slapstick, parody, satire\"\\n     \"drama, emotion, feelings, family, relationships, trauma, grief\"\\nPlease let me know if you need any additional information.',\n",
       " '\\n\\nI would suggest the following genres:\\n\\n* Action\\n* Martial Arts\\n* Adventure\\n* Drama\\n* Fantasy\\n* Historical Drama\\n* Romance\\n* Thriller',\n",
       " \"1. Adventure\\n    2. Children's\\n    3. Animated\\n    4. Fantasy\\n    5. Family-Friendly\\n    6. Underwater\\n    7. Nature-Documentary\\n    8. Comedy\\n    9. Educational\\n    10. Reality-TV\",\n",
       " '1. Art\\n    2. Photographer\\n    3. Painter\\n    4. Inspiration\\n    5. Gallery\\n    6. Beauty\\n    7. Calendar\\n    8. Velvet\\n    9. Artist\\n    10. Chances',\n",
       " '1. Horror\\n    2. Thriller\\n    3. Drama\\n    4. Fantasy\\n    5. Comedy\\n    6. Romance\\n    7. Mystery\\n    8. Sci-Fi\\nPlease let me know if you need any additional information or clarification.',\n",
       " '\\n\\nThe genre of Netflix shows is... (two words)\\n1. Crime Drama\\n2. Thriller',\n",
       " ' at 10/23/20 10:47 AM (GMT-05:00)\\n\\n\\nAnswer: Crime',\n",
       " '1. Ballet\\n    2. Dance',\n",
       " '1. Romance\\n    2. Drama\\n    3. Comedy\\n    4. Thriller\\n    5. Horror\\n    6. Sci-Fi\\n    7. Fantasy\\n    8. Mystery',\n",
       " '1. Crime\\n    2. Thriller\\n    3. Action\\n    4. Drama\\n    5. Comedy\\n    6. Adventure\\n    7. Mystery\\n    8. Suspense\\nPlease let me know if you need anything else!',\n",
       " '\\n\\nAnswer:\\nHistorical Drama',\n",
       " '\\n\\nName: Sports Docu-Drama',\n",
       " '1. Drama\\n    2. Comedy\\n    3. Romance\\n    4. Thriller\\n    5. Family\\n    6. Teen\\n    7. Mystery\\n    8. Crime\\n    9. Fantasy\\n    10. Sci-Fi',\n",
       " '1. Thriller\\n    2. Drama\\n    3. Comedy\\n    4. Crime\\n    5. Romance\\n    6. Horror\\n    7. Sci-Fi\\n    8. Fantasy\\n    9. Mystery\\n    10. Adventure',\n",
       " '1. Sports\\n    2. Drama\\n    3. Action\\n    4. Comedy\\n    5. Romance\\n    6. Thriller\\n    7. Horror\\n    8. Sci-Fi\\n    9. Fantasy\\n    10. Mystery',\n",
       " '1. Chick Flick\\n2. Teen Drama\\n3. Coming of Age\\n4. Romantic Comedy\\n5. Dramedy\\n6. Friendship Flicks\\n7. Young Adult\\n8. Heartwarming Films\\n9. Life Lessons\\n10. College Kids ',\n",
       " '1. Superhero\\n    2. Marvel',\n",
       " '1. Romance\\n    2. Reality\\n    3. Comedy\\n    4. Drama\\n    5. Lifestyle\\n    6. Relationship\\nPlease let me know if you need anything else!',\n",
       " '\\nThe genre of Netflix shows is \"competition\".',\n",
       " '1. Thriller\\n2. Drama\\n3. Mystery\\n4. Romance\\n5. Comedy\\n6. Crime\\n7. Action\\n8. Adventure',\n",
       " '1. Thriller\\n2. Mystery\\n3. Drama\\n4. Crime\\n5. Romance\\n6. Family\\n7. Adventure\\n8. Comedy\\n9. Horror\\n10. Sci-Fi',\n",
       " '1. Epic\\n    2. Fantasy\\n    3. Adventure\\n    4. Drama\\n    5. Historical\\n    6. Romance\\n    7. Comedy\\n    8. Horror\\n    9. Sci-Fi\\n    10. Thriller',\n",
       " ' Documentary Riot Activists',\n",
       " '1. Bollywood\\n    2. Indian Drama\\n    3. Hindi Film\\n    4. South Asian\\n    5. Village Life\\n    6. Indian Culture\\n    7. Business Drama\\n    8. Foremost Flicks',\n",
       " '\\nThe genre of Netflix shows is: Adventure',\n",
       " '1. Romance\\n    2. Drama\\n    3. Comedy\\n    4. Thriller\\n    5. Action\\n    6. Fantasy\\n    7. Horror\\n    8. Sci-Fi',\n",
       " '1. Sports\\n    2. Teen Drama',\n",
       " '1. Thriller\\n2. Crime Drama\\n3. Legal Drama\\n4. Mystery\\n5. Suspense\\n6. Courtroom Drama',\n",
       " '1. Romance\\n    2. Drama\\n    3. Comedy\\n    4. Thriller\\n    5. Horror\\n    6. Mystery\\n    7. Sci-Fi\\n    8. Fantasy\\n    9. Crime\\n    10. Family',\n",
       " '1. Drama\\n    2. Thriller\\n    3. Comedy\\n    4. Romance\\n    5. Horror\\n    6. Mystery\\n    7. Sci-Fi\\n    8. Fantasy\\n    9. Action\\n    10. Adventure',\n",
       " '1. Boxing\\n    2. Action\\n    3. Sports\\n    4. Drama\\n    5. Thriller\\n    6. Adventure\\n    7. Biopic\\n    8. Comedy\\n    9. Romance\\n    10. Family\\nPlease let me know if you need anything else!',\n",
       " '1. Horror\\n    2. Anthology',\n",
       " '1. Drama\\n    2. Romance\\n    3. Comedy\\n    4. Thriller\\n    5. Action\\n    6. Crime\\n    7. Mystery\\n    8. Sci-Fi\\n    9. Fantasy\\n    10. Horror',\n",
       " '1. Action\\n    2. Adventure\\n    3. Fantasy\\n    4. Anime\\n    5. Martial Arts\\n    6. Supernatural\\n    7. Comedy\\n    8. Romance\\n    9. Drama\\n    10. Mystery',\n",
       " '1. Business\\n    2. Bar\\n    3. Hotel',\n",
       " '1. Bollywood\\n2. Indian Cinema\\n3. South Asian\\n4. Folk Tales\\n5. Classical Indian\\n6. Regional Focus\\n7. International Co-Production\\n8. Cultural Diversity\\n9. Nostalgic Viewing\\n10. Art House',\n",
       " '1. Doco\\n    2. Cultural Explore\\n    3. Decade Deep\\n    4. Cash Cow\\n    5. Focused Impact\\n    6. Spent Series',\n",
       " '1. Action\\n    2. Adventure\\n    3. Comedy\\n    4. Drama\\n    5. Fantasy\\n    6. Historical\\n    7. Horror\\n    8. Mystery\\n    9. Romance\\n    10. Sci-Fi',\n",
       " '\\n\\nThe genre of Netflix shows is... (one to two words)',\n",
       " '\\n\\nI would call it \"Race Flix\"',\n",
       " '1. Rom-Com\\n    2. Dating Shows\\n    3. Love Stories\\n    4. Matchmaking\\n    5. Single Life\\n    6. Romantic Comedies\\n    7. Date Nights\\n    8. Woman-Centric\\nPlease let me know if you need anything else!',\n",
       " '1. Biology\\n    2. Marvels\\n    3. Mysteries',\n",
       " '1. Romance\\n    2. Drama\\n    3. Comedy\\n    4. Thriller\\n    5. Horror\\n    6. Sci-Fi\\n    7. Fantasy\\n    8. Crime\\n    9. Mystery\\n    10. Family\\nPlease let me know if you need any additional information or clarification.',\n",
       " \"1. Rom-Com\\n    2. Action Flicks\\n    3. Drama Queens\\n    4. International Intrigue\\n    5. Lusty Adventures\\n    6. Women's Empowerment\\n    7. Hong Kong Heroes\\n    8. Korean K-Town\\n    9. Fantasy Favorites\\n    10. Family Fun\",\n",
       " '1. Horror\\n    2. Thriller\\n    3. Drama\\n    4. Sci-Fi\\n    5. Action\\n    6. Comedy\\n    7. Romance\\n    8. Mystery\\nPlease let me know if you need anything else!',\n",
       " '\\n\\nThe genres are:\\n\\n1. Thriller\\n2. Drama\\n3. Romance\\n4. Horror\\n5. Comedy\\n6. Crime\\n7. Historical Drama\\n8. Mystery\\n9. Sci-Fi\\n10. Fantasy',\n",
       " '1. War\\n    2. Nostalgic\\n    3. Lebanese\\n    4. Syrian\\n    5. Beirut\\n    6. Revolt\\n    7. Nations',\n",
       " '1. Vampire\\n    2. Supernatural\\n    3. Fantasy\\n    4. Romance\\n    5. Horror\\n    6. Adventure\\n    7. Drama\\n    8. Mystery\\n    9. Comedy\\n    10. Sci-Fi',\n",
       " '1. Political Drama\\n    2. Thriller\\n    3. Comedy\\n    4. Crime Drama\\n    5. Satire\\n    6. Historical Drama\\n    7. Action Thriller\\n    8. Dark Comedy\\n    9. Legal Drama\\n    10. Espionage Thriller',\n",
       " '1. Action\\n    2. Drama\\n    3. Thriller\\n    4. Crime\\n    5. Mystery\\n    6. Romance\\n    7. Comedy\\n    8. Horror\\nPlease let me know if you need any additional information or have any questions.',\n",
       " '1. Thriller\\n    2. Dark\\n    3. Obsession\\n    4. Rest\\n    5. Hold\\n    6. Twisted\\n    7. Act\\n    8. Cop',\n",
       " '1. Civil War\\n    2. Western\\n    3. Frontier',\n",
       " \"1. Kids' Show\\n2. Musical Comedy\\n3. Educational Program\\n4. Animation Genre\\n5. Children's Favorites\",\n",
       " '1. creature feature\\n    2. sci-fi\\n    3. horror\\n    4. action\\n    5. adventure\\n    6. comedy\\n    7. drama\\n    8. fantasy\\n    9. thriller\\n    10. romance',\n",
       " '1. Action\\n    2. Adventure\\n    3. Fantasy\\n    4. Science Fiction\\n    5. Martial Arts\\n    6. Superhero\\nPlease let me know if you need any additional information or have any questions.',\n",
       " '1. Crime Drama\\n    2. True Crime\\n    3. Documentary',\n",
       " '1. Action\\n    2. Drama\\n    3. Fantasy\\n    4. Adventure\\n    5. Thriller\\n    6. Historical\\n    7. Romance\\n    8. Horror\\n    9. Sci-Fi\\n    10. Mystery',\n",
       " '\\nThe genre of Netflix shows is:\\nWAR DRAMA',\n",
       " '1. Romance\\n    2. Drama\\n    3. Comedy\\n    4. Thriller\\n    5. Horror\\n    6. Mystery\\n    7. Family\\n    8. Adventure\\n    9. Fantasy\\n    10. Sci-Fi',\n",
       " '1. Historical Drama\\n    2. Royalty Drama\\n    3. Period Drama\\n    4. Lavish Production\\n    5. Biographical Drama',\n",
       " '1. Horror\\n2. Fantasy\\n3. Comedy\\n4. Drama\\n5. Thriller\\n6. Adventure\\n7. Romance\\n8. Sci-Fi\\n9. Mystery\\n10. Family',\n",
       " '1. Supernatural\\n    2. Teen Drama\\n    3. Fantasy\\n    4. Horror\\n    5. Science Fiction\\n    6. Comedy\\n    7. Thriller\\n    8. Mystery\\n    9. Adventure\\n    10. Romance',\n",
       " '1. Drama\\n    2. Romance\\n    3. Comedy\\n    4. Thriller\\n    5. Horror\\n    6. Action\\n    7. Mystery\\n    8. Sci-Fi\\n    9. Fantasy\\n    10. Documentary',\n",
       " \"\\nThe genre of Netflix shows is...\\n(Spoiler alert: I'm just an AI and don't have access to any real-time information)\",\n",
       " '1. Gamer\\n    2. Prize\\n    3. Loop\\n    4. Compete\\n    5. Tournament\\n    6. Contest\\n    7. Championship\\n    8. High-stakes\\n    9. Thrown\\n    10. Win',\n",
       " '1. Thriller\\n2. Drama\\n3. Mystery\\n4. Romance\\n5. Comedy\\n6. Horror\\n7. Sci-Fi\\n8. Fantasy\\n9. Crime\\n10. Adventure',\n",
       " '1. Rainbow\\n    2. Kingdom',\n",
       " '1. Romance\\n    2. Drama\\n    3. Action\\n    4. Historical\\n    5. Comedy\\n    6. Thriller\\n    7. Fantasy\\n    8. Horror\\nPlease let me know if you need anything else!',\n",
       " '1. Animated\\n    2. Princess\\n    3. Summer\\n    4. Royal',\n",
       " '\\n\\nThe genre of Netflix shows is... (one to two words)',\n",
       " '1. Horror\\n    2. Sci-Fi\\n    3. Fantasy\\n    4. Adventure\\n    5. Thriller\\n    6. Mystery\\n    7. Drama\\n    8. Romance\\nPlease let me know if you need anything else!',\n",
       " '1. Historical Drama\\n    2. Period Drama\\n    3. Costume Drama\\n    4. Historical Fiction\\n    5. Genre Fusion\\nPlease let me know if you need any additional information or clarification.',\n",
       " '1. Monty Python\\n    2. Sketch Comedy',\n",
       " '1. War\\n    2. Documentary',\n",
       " '1. Drama\\n    2. Romance\\n    3. Comedy\\n    4. Thriller\\n    5. Horror\\n    6. Mystery\\n    7. Sci-Fi\\n    8. Fantasy\\nPlease let me know if you need any additional information or clarification.',\n",
       " '1. Psychological Thriller\\n    2. Horror Movie\\n    3. Drama Series\\n    4. Comedy Film\\n    5. Action Flick\\n    6. Mystery Box\\n    7. Romantic Comedy\\n    8. Sci-Fi Epic\\n    9. Historical Drama\\n    10. Animated Adventure',\n",
       " \"1. Post-Disaster Drama\\n2. Alien Invasion Thriller\\n3. Once Fruitful World\\n4. Adult Survival Drama\\n5. Foreboding Mars Expedition\\n6. Devolved Civilization\\n7. Earth's Last Stand\",\n",
       " '1. Zom - 2\\n    2. Hor - 2\\n    3. Fan - 1\\n    4. Thr - 2\\n    5. Slash - 2\\n    6. Splat - 1\\n    7. Killer - 1\\n    8. Monster - 1\\n    9. Bloody - 1\\n    10. Gore - 1',\n",
       " '1. Romantic\\n    2. Drama\\n    3. Thriller\\n    4. Comedy\\n    5. Action\\n    6. Horror\\n    7. Sci-Fi\\n    8. Fantasy\\n    9. Crime\\n    10. Mystery',\n",
       " '1. Stash\\n    2. Drug\\n    3. Dea\\n    4. Weed\\n    5. Undercover\\n    6. Agents\\n    7. Weekends\\n    8. Upstart\\n    9. Potfueled\\n    10. Stylin',\n",
       " '1. Psychological Thriller\\n    2. Supernatural Drama\\n    3. Fantasy Adventure\\n    4. Horror Comedy\\n    5. Sci-Fi Action\\n    6. Teen Drama\\n    7. Historical Drama\\n    8. Animated Series\\n    9. Crime Drama\\n    10. Romantic Comedy',\n",
       " '1. Action\\n    2. Thriller\\n    3. Drama\\n    4. Comedy\\n    5. Crime\\n    6. Adventure\\n    7. Mystery\\n    8. Romance\\n    9. Horror\\n    10. Sci-Fi']"
      ]
     },
     "execution_count": 28,
     "metadata": {},
     "output_type": "execute_result"
    }
   ],
   "source": [
    "topic_names"
   ]
  },
  {
   "cell_type": "code",
   "execution_count": null,
   "metadata": {},
   "outputs": [],
   "source": []
  }
 ],
 "metadata": {
  "kernelspec": {
   "display_name": ".venv",
   "language": "python",
   "name": "python3"
  },
  "language_info": {
   "codemirror_mode": {
    "name": "ipython",
    "version": 3
   },
   "file_extension": ".py",
   "mimetype": "text/x-python",
   "name": "python",
   "nbconvert_exporter": "python",
   "pygments_lexer": "ipython3",
   "version": "3.9.6"
  }
 },
 "nbformat": 4,
 "nbformat_minor": 2
}
