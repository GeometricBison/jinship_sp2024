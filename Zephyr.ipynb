{
 "cells": [
  {
   "cell_type": "code",
   "execution_count": null,
   "metadata": {},
   "outputs": [],
   "source": [
    "!pip install ctransformers[cuda]\n",
    "!pip install --upgrade git+https://github.com/huggingface/transformers"
   ]
  },
  {
   "cell_type": "code",
   "execution_count": 10,
   "metadata": {},
   "outputs": [
    {
     "name": "stdout",
     "output_type": "stream",
     "text": [
      "Collecting einops\n",
      "  Downloading einops-0.7.0-py3-none-any.whl.metadata (13 kB)\n",
      "Downloading einops-0.7.0-py3-none-any.whl (44 kB)\n",
      "\u001b[2K   \u001b[90m━━━━━━━━━━━━━━━━━━━━━━━━━━━━━━━━━━━━━━━━\u001b[0m \u001b[32m44.6/44.6 kB\u001b[0m \u001b[31m1.1 MB/s\u001b[0m eta \u001b[36m0:00:00\u001b[0m\n",
      "\u001b[?25hInstalling collected packages: einops\n",
      "Successfully installed einops-0.7.0\n"
     ]
    }
   ],
   "source": [
    "!pip install einops"
   ]
  },
  {
   "cell_type": "code",
   "execution_count": 2,
   "metadata": {},
   "outputs": [
    {
     "name": "stderr",
     "output_type": "stream",
     "text": [
      "/Users/ayushjain/Development/DisruptionLab/jinship_sp2024/.venv/lib/python3.9/site-packages/urllib3/__init__.py:35: NotOpenSSLWarning: urllib3 v2 only supports OpenSSL 1.1.1+, currently the 'ssl' module is compiled with 'LibreSSL 2.8.3'. See: https://github.com/urllib3/urllib3/issues/3020\n",
      "  warnings.warn(\n",
      "/Users/ayushjain/Development/DisruptionLab/jinship_sp2024/.venv/lib/python3.9/site-packages/tqdm/auto.py:21: TqdmWarning: IProgress not found. Please update jupyter and ipywidgets. See https://ipywidgets.readthedocs.io/en/stable/user_install.html\n",
      "  from .autonotebook import tqdm as notebook_tqdm\n",
      "Fetching 1 files: 100%|██████████| 1/1 [00:00<00:00, 16644.06it/s]\n",
      "Fetching 1 files: 100%|██████████| 1/1 [00:00<00:00, 15650.39it/s]\n"
     ]
    }
   ],
   "source": [
    "from ctransformers import AutoModelForCausalLM\n",
    "from transformers import AutoTokenizer, pipeline\n",
    "\n",
    "# Set gpu_layers to the number of layers to offload to GPU. Set to 0 if no GPU acceleration is available on your system.\n",
    "model = AutoModelForCausalLM.from_pretrained(\n",
    "    \"TheBloke/zephyr-7B-alpha-GGUF\",\n",
    "    model_file=\"zephyr-7b-alpha.Q4_K_M.gguf\",\n",
    "    model_type=\"mistral\",\n",
    "    gpu_layers=0,\n",
    "    hf=True\n",
    ")\n",
    "tokenizer = AutoTokenizer.from_pretrained(\"HuggingFaceH4/zephyr-7b-alpha\")\n",
    "\n",
    "# Pipeline\n",
    "generator = pipeline(\n",
    "    model=model, tokenizer=tokenizer,\n",
    "    task='text-generation',\n",
    "    max_new_tokens=50,\n",
    "    repetition_penalty=1.1\n",
    ")"
   ]
  },
  {
   "cell_type": "code",
   "execution_count": 3,
   "metadata": {},
   "outputs": [],
   "source": [
    "prompt = \"\"\"<|system|>You are a helpful, respectful and honest assistant for labeling topics..</s>\n",
    "<|user|>\n",
    "I have a topic that contains the following documents:\n",
    "[DOCUMENTS]\n",
    "\n",
    "The topic is described by the following keywords: '[KEYWORDS]'.\n",
    "\n",
    "Based on the information about the topic above, please create a short label of this topic. Make sure you to only return the label and nothing more.</s>\n",
    "<|assistant|>\"\"\"\n"
   ]
  },
  {
   "cell_type": "code",
   "execution_count": 4,
   "metadata": {},
   "outputs": [],
   "source": [
    "from bertopic.representation import TextGeneration\n",
    "from bertopic import BERTopic\n",
    "\n",
    "# Text generation with Zephyr\n",
    "zephyr = TextGeneration(generator, prompt=prompt)\n",
    "representation_model = {\"Zephyr\": zephyr}\n",
    "\n",
    "\n",
    "# Topic Modeling\n",
    "topic_model = BERTopic(representation_model=representation_model, verbose=True)"
   ]
  },
  {
   "cell_type": "code",
   "execution_count": 5,
   "metadata": {},
   "outputs": [],
   "source": [
    "from datasets import load_dataset\n",
    "from transformers import BertTokenizer\n",
    "import numpy as np\n",
    "\n",
    "\n",
    "dataset = load_dataset(\"valurank/Topic_Classification\")[\"train\"]\n",
    "# Extract abstracts to train on and corresponding titles\n",
    "descriptions = dataset[\"article_text\"]\n",
    "topics = dataset[\"topic\"]"
   ]
  },
  {
   "cell_type": "code",
   "execution_count": 6,
   "metadata": {},
   "outputs": [
    {
     "name": "stderr",
     "output_type": "stream",
     "text": [
      "[nltk_data] Downloading package punkt to /Users/ayushjain/nltk_data...\n",
      "[nltk_data]   Package punkt is already up-to-date!\n"
     ]
    }
   ],
   "source": [
    "from nltk.tokenize import sent_tokenize, word_tokenize\n",
    "import nltk\n",
    "\n",
    "nltk.download('punkt')\n",
    "\n",
    "sentences = [sent_tokenize(desc) if isinstance(desc, str) else [] for desc in descriptions[:10]]\n",
    "sentences = [sentence for doc in sentences for sentence in doc]"
   ]
  },
  {
   "cell_type": "code",
   "execution_count": 7,
   "metadata": {},
   "outputs": [
    {
     "data": {
      "text/plain": [
       "['NEWYou can now listen to Fox News articles!',\n",
       " 'The Mercedes-Benz S-Class has always been a special car.Before it started using that name in 1972, brand’s top model was known as the Sonderklasse, which is German for \"Special Class,\" denoting its position as the flagship of the fleet.It’s been used as a showcase for the latest technologies including new engines, airbags, anti-lock brakes and traction control, and the newest \"S\" follows in that tradition.Not the redesigned S-Class that launched last year, but the EQS sedan that’s now in showrooms and is Mercedes-Benz’s first purpose-built electric car.',\n",
       " 'The EQS is the first purpose-built electric car from Mercedes-Benz (Mercedes-Benz)The automaker has made other electric vehicles, but on platforms shared with internal combustion engine models.',\n",
       " 'The EQS is the first built on a dedicated EV chassis that will spawn other lines in the years to come.The EQS starts at $103,360, and no one would call that cheap, but it is around $9,000 less than the lowest-priced S-Class, and that’s before factoring in the $7,500 federal tax credit it qualifies for.',\n",
       " 'An annual estimated fuel savings of $2,700 for a typical driver just keeps racking up the savings.',\n",
       " \"You've got to have money to make money, as they say.\",\n",
       " 'The EQS starts at $103,360.',\n",
       " '(Mercedes-Benz)The two cars are similar in size, which is enormous, but the EQS has an entirely different look.',\n",
       " 'It features a ‘cab-forward\" design with a low sleek nose that flows into the windshield and over the roof to a hatchback rear end.',\n",
       " 'The somewhat aquatic shape gives the EQS the lowest drag coefficient of any vehicle on sale today.Aerodynamic efficiency is particularly important for electric cars as they need to stretch their electrons as far as they will go, due to how long it takes to recharge, even at the most powerful public stations.',\n",
       " 'The EQS is a four-door hatchback.',\n",
       " '(Mercedes-Benz)The EQS does do it quicker than many and can charge its 107-kilowatt-hour battery from 10% to 80% in as few as 31 minutes.',\n",
       " 'All fast chargers slow down above 80% to avoid stressing the batteries too much, which can reduce their lifespan.',\n",
       " 'A full charge on a 240-volt charger, like those used at home, is an 11-hour affair.Filled to the brim, the entry-level 329 hp rear-wheel-drive EQS 450+ has an EPA rated range of 350 miles, while the 516 hp all-wheel-drive EQS 580 4Matic can make it 340 miles between charging stops at the equivalent of 95 mpg.',\n",
       " 'My real-world test of the EQS 580 4Matic suggested the figures are fairly accurate, and anything above 300 miles per charge reduces \"range anxiety\" significantly.CLICK HERE FOR MORE FOX NEWS CAR REVIEWSThe EQS comes standard with an adaptive air suspension that gives it an almost eerily smooth ride on rough city streets plus a four-wheel-steering system that can turn the rear wheels up to 10 degrees in the opposite direction as the fronts at low speeds.',\n",
       " 'This effectively \"shrinks\" the car by allowing it to make turns as tightly as a compact Mercedes-Benz A-Class.',\n",
       " 'On the highway, the lane-centering radar cruise control locks the vehicle within the middle of the lines, but requires you to keep a hand touching the wheel.',\n",
       " 'The EQS is equipped with four-wheel steering.',\n",
       " '(Fox News Autos)Despite its three-ton weight, the EQS 450+ can accelerate to 60 mph in six seconds and the EQS 580 4Matic needs just four.',\n",
       " 'Holes in traffic are instantly filled when you hit the accelerator, which is accompanied by a choice of two computer-generated motor noises.',\n",
       " 'One sounds more like a combustion engine, the other like a spaceship.',\n",
       " 'Such enhancements are often unconvincing and annoying in many electric cars, but I never felt the need to look for an \"off\" button in the EQS.',\n",
       " 'That’s good, because there isn’t one.',\n",
       " 'The Hyperscreen covers three digital displays.',\n",
       " '(Mercedes-Benz)The EQS also debuts Mercedes-Benz’s new Hyperscreen instrument panel.',\n",
       " 'It’s a door-to-door single pane of glass that covers three digital displays.',\n",
       " \"There’s the gauge cluster, a central touchscreen infotainment system and a secondary screen in front of the passenger that allows them to control several functions without having to reach all the way over to the middle of the dashboard.HERE'S WHY A MERCEDES-BENZ SOLD FOR A RECORD $143 MILLIONIt is a stretch as the EQS is as spacious as a concert hall.\",\n",
       " \"All outboard passengers are provided with heated and cooled reclining seats and there's a removable tablet in the fold-down rear center armrest that can be used to adjust the temperature, volume and do a couple of other things.\",\n",
       " 'The EQS is as spacious as an S-Class.',\n",
       " '(Mercedes-Benz)The Hyperscreen generally works pretty well, but it and the other touch-sensitive controls on the front armrest and steering wheel are occasionally finicky to operate.',\n",
       " \"The interior is also dressed in miles of LED strips and ambient lights that can be adjusted to any color or set to cycle through all of them, putting on a show worthy of an EDM festival, especially when the 15-speaker Burmeister surround sound audio system is cranked up.Mercedes-Benz really went out of its way to make the EQS feel like the future and succeeded in creating a dazzling alternative to the sportier, but smaller Tesla Model S. You probably can’t afford one, but if history is any guide, a lot of what it has to offer will find its way into more affordable vehicles in the coming years.CLICK HERE TO GET THE FOX NEWS APPIn the meantime, considering the aggressive price point compared to the S-Class, and the fact that many of those are used as limousines and never stray too far from home, I think you can expect to see a lot of people who can afford it cruising around your downtown financial and nightlife districts in the EQS sooner than that.----------2022 Mercedes-Benz EQSBase price: $103,360Type: 5-passenger, 4-door, all-wheel-drive hatchbackDrivetrain: Dual electric motorsPower: 516 hp/631 lb-ftTransmission: single-speed automaticMPGe: 95 combined Gary Gastelu is FoxNews.com's Automotive Editor covering the car industry and racing @foxnewsautos\",\n",
       " 'A second Love Island star has already exited the villa in a savage recoupling twist.',\n",
       " \"It follows on from Liam Llewellyn's exit from the ITV2 show earlier this weekA second Love Island star has already exited the villa in a savage recoupling twist.\",\n",
       " \"It follows on from Liam Llewellyn's exit from the ITV2 show earlier this week Another Love Island star has already left the villa in a huge recoupling twist.\",\n",
       " \"It has been reported that one more contestant has said goodbye to the ITV2 show, with the dramatic exit reportedly set to air on Tuesday night's show.\",\n",
       " \"It comes hot off the heels of Liam Llewellyn's exit from the programme after he decided he just wasn't able to be himself during his time in the Majorcan villa.\",\n",
       " \"We'll be bringing you the latest updates on this breaking showbiz news story.\",\n",
       " 'Please check back regularly for updates on this developing story HERE .',\n",
       " 'Get email updates on the day’s biggest stories straight to your inbox by signing up for our newsletters .',\n",
       " 'Get all the big headlines, pictures, analysis, opinion and video on the stories that matter to you by following The Mirror every time you see our name.',\n",
       " 'Follow The Mirror on Google News - CLICK HERE and click the star Follow The Mirror on Apple News - CLICK HERE available on Apple devices Follow The Mirror on Flipboard - CLICK HERE and click follow You can sign up for Twitter alerts for breaking news here @MirrorBreaking_ and follow us @MirrorCeleb for all the latest updates.',\n",
       " 'Keep up-to-date with your must-see news, features, videos and pictures throughout the day by following us on Facebook at facebook.com/MirrorCeleb See all our social accounts you can follow here: mirror.co.uk/social',\n",
       " 'Lord Lloyd-Webber received boos on the closing night of his West End production of Cinderella as audience members responded to a letter read out on his behalf.Lloyd-Webber did not attend the final performance at the Gillian Lynne Theatre on Sunday evening, but sent a message in which he described the production as “a costly mistake”.The composer’s letter was read to the audience by Laurence Connor, director of the show, which ran for less than a year.“I am hugely sorry not to be able to be with you today, but I want to thank everyone from our fabulous cast, crew and musicians, the superb creative team, Laurence,” Lloyd-Webber said in the letter.',\n",
       " '“I keep thinking if only we had opened three months later,',\n",
       " 'Ozzy Osbourne, 73, to undergo major surgery that could \\'determine the rest of his life\\', says wife Sharon as she jets to Los Angeles to be by his sideOzzy was last publicly seen in May with the frail singer leaning on a cane as he walked The rocker has Parkinson\\'s disease and previously suffered a nasty fall and dislodged metal rods placed in his spine following a quad-bike accident in 2003 Ozzy previously opened up about his Parkinson’s diagnosis in a candid interview on US TV, in which he admitted the condition is \\'just another thing on my plate\\'He said: \\'Well the one question from me was, \"Is it a terminal illness?',\n",
       " '\", and the guy says, \"No, but life is\" Published: 19:10 EDT, 12 June 2022 | Updated: 08:25 EDT, 13 June 2022 Ozzy Osbourne is having major surgery on Monday, which will \\'determine the rest of his life\\'.The Dreamer hitmaker\\'s wife Sharon revealed her plans to head back to Los Angeles from London to be there for her spouse as he undergoes the life-changing operation.',\n",
       " \"The 73-year-old rocker, who was diagnosed with Parkinson's disease in 2019, was last publicly seen in May - with the frail singer leaning on a cane as he walked.Speaking on the UK's The Talk on TalkTV, Sharon said: '[Ozzy] has a very major operation on Monday, and I have to be there.\",\n",
       " \"Medical attention: Ozzy Osbourne, 73, is having major surgery on Monday, which will 'determine the rest of his life' (pictured May 2022)'It’s really going to determine the rest of his life.\",\n",
       " \"'MailOnline has contacted a representative for Ozzy for comment.\",\n",
       " 'During her show Sharon, 69, added that the star still had plenty to look forward to after his operation as their son Jack’s baby daughter with fiancée Aree Gearheart is due ‘in about three weeks’.Meanwhile, the music manager and Ozzy will be celebrating their 40th wedding anniversary on July 1.',\n",
       " \"Couple: The Dreamer hitmaker's wife Sharon has revealed she is heading back to Los Angeles from London to be there for her spouse as he undergoes the life-changing operation next week (pictured January 2020) Honest: Speaking on the UK's The Talk on TalkTV, she said: '[Ozzy] has a very major operation on Monday, and I have to be there' Ozzy revealed in January 2020 that he had been diagnosed with Parkin 2 - a form of Parkinson's which he said is the cause of nerve pain and leaves his legs cold.\",\n",
       " \"The No More Tears hitmaker's operation comes after the musician previously suffered a nasty fall and dislodged metal rods placed in his spine following a quad-bike accident in 2003.However, it was already known that he was due to undergo one more surgery.\",\n",
       " \"In April, Piers Morgan asked pal Sharon on Piers Morgan Uncensored on TalkTV: 'How is Ozzy, my great man?\",\n",
       " \"Born to perform: Ozzy, pictured here on stage with Black Sabbath in 1978, was fired from the band in 1979 due to alcohol and drug problems Making music: Ozzy went on to have a successful solo career, releasing 12 studio albums, and has since reunited with Black Sabbath on numerous occasions (pictured 2010)'He is just one of my favourite people in the world.\",\n",
       " \"Been through the health wars a bit, how’s he doing?'\",\n",
       " \"PARKINSON'S: THE INCURABLE NERVE DISEASE THAT AFFECTS MILLIONS Parkinson’s disease affects one million Americans a year.\",\n",
       " 'It causes muscle stiffness, slowness of movement, tremors, sleep disturbance, chronic fatigue, an impaired quality of life and can lead to severe disability.It is a progressive neurological condition that destroys cells in the part of the brain that controls movement.Sufferers are known to have diminished supplies of dopamine because nerve cells that make it have died.There is currently no cure and no way of stopping the progression of the disease, but hundreds of scientific trials are underway to try and change that.',\n",
       " \"In the US, physicians consider it largely one type of condition with various stages; young onset Parkinson's or atypical Parkinson's.\",\n",
       " 'In Europe, some doctors and researchers specify different types of the condition.',\n",
       " 'Treatment is mostly made up of medication.',\n",
       " 'In some cases, doctors perform Deep Brain Stimulation surgery to try to hit the nerves more directly.',\n",
       " \"Sharon said the Black Sabbath rocker is keen to move back to England after his latest surgery.She replied: 'He’s doing okay, he sends you his love.\",\n",
       " 'He’s got one more operation left to do and then he’s dying to come back home.',\n",
       " \"'Sharon's Ozzy health update comes after it was reported that they've applied for permission to build a rehab wing at their home in the UK.The Crazy Train hitmaker lodged an application requesting the green light for renovations at his Buckinghamshire mansion.The extension will feature a self-contained nurse’s flat as well as 'discreet grab rails and aids' and 'an abundance of stopping and sitting spaces'.The plans also include a 'health and exercise studio' as well as a 'pool house orangery' and 'garden room'.Architect Lynne Walker wrote in the plans: 'It is the ambition that the design creates a transition of flowing inside outside garden spaces, largely lit by natural light with folding doors opening up views.\",\n",
       " \"'A spokesperson for the Paranoid hitmaker has yet to comment on the renovation reports, but confirmed Ozzy - who was badly injured following his fall at home three years ago - is gearing up for another surgery on his 'back or neck'.Sharon recently admitted she now has to care for Ozzy 'a lot' because of his health issues.She said: 'It’s very difficult, because the combination of the Parkinson’s and his accident, you go, well, which one is this?\",\n",
       " 'Why’s this happening?',\n",
       " 'Why’s that happening?',\n",
       " '\\'Ozzy previously opened up about his Parkinson’s diagnosis in a candid interview on US TV, in which he admitted the condition is \\'just another thing on my plate\\'.He said: \\'Well the one question from me was, \"Is it a terminal illness?',\n",
       " '\", and the guy says, \"No, but life is\".',\n",
       " \"'It’s just another thing on my plate I have got to deal with.\",\n",
       " 'I’m not in the slightest worried about it.',\n",
       " 'I’ve not got any secrets.',\n",
       " 'The initial shock is I’ve got Parkinson’s.',\n",
       " \"'Nobody knows what the f*** it is.\",\n",
       " 'I didn’t know anything about it apart from the name.',\n",
       " \"'Ozzy was previously diagnosed with Parkin Syndrome in 2005.\",\n",
       " \"It has similar symptoms to Parkinson's.\",\n",
       " 'Making changes: Sharon, 69, said the Black Sabbath rocker is keen to move back to England after his latest surgery (pictured with daughter Kelly in January 2020) Advertisement',\n",
       " 'NEWYou can now listen to Fox News articles!',\n",
       " 'Joe Maddon reportedly had an idea to ease the tension in the Los Angeles Angels’ dugout amid the team’s 12-game losing streak – change up his hairstyle.Maddon was going to show up last Tuesday with a mohawk in hopes of sparking the team’s turnaround, ESPN reported Sunday.',\n",
       " 'But he was fired before he could show it off.CLICK HERE FOR MORE SPORTS COVERAGE ON FOXNEWS.COM Joe Maddon of the Los Angeles Angels reacts during the fifth inning against the Phillies at Citizens Bank Park on June 5, 2022, in Philadelphia.',\n",
       " '(Tim Nwachukwu/Getty Images)\"After consecutive loss number 12, Maddon got a mohawk haircut to try to awaken his team,\" ESPN’s Tim Kurkjian said during the \"Sunday Night Baseball\" telecast.',\n",
       " '\"But the players never saw it, he was fired.',\n",
       " '\"Angels general manager Perry Minasian recommended making the move to team owner Arte Moreno and then drove to Maddon’s home to deliver the news.',\n",
       " 'Los Angeles third base coach Phil Nevin was named the interim manager.',\n",
       " 'Joe Maddon of the Los Angeles Angels watches during the Texas Rangers game at Globe Life Field on May 16, 2022, in Arlington, Texas.',\n",
       " '(Richard Rodriguez/Getty Images)YANKEES\\' KYLE HIGASHIOKA TEES OFF ON 35 MPH PITCH, NEW YORK RAILROADS CUBS\"Looking at the last couple of days is really when I started thinking about making a change.',\n",
       " 'And I’m trying not to make emotional decisions.',\n",
       " 'I’ll be honest, I’ve been emotional the past couple of days.',\n",
       " 'There have been some really tough losses,\" Minasian said.Los Angeles was on a 14-game losing streak before snapping it against the Boston Red Sox Thursday.',\n",
       " 'The team also defeated the New York Mets on Saturday.',\n",
       " 'Los Angeles Angels manager Joe Maddon during batting practice prior to the Phillies game on June 5, 2022, at Citizens Bank Park in Philadelphia.',\n",
       " '(Rich Graessle/Icon Sportswire via Getty Images)CLICK HERE TO GET THE FOX NEWS APPMaddon was 157-172 in more than two seasons with the Angels.',\n",
       " 'He was fired in 2020 after five seasons with the Chicago Cubs, which included a World Series title.The Associated Press contributed to this report.',\n",
       " 'Ryan Gaydos is the sports editor for Fox News and Fox Business.',\n",
       " 'Story tips can be sent to Ryan.Gaydos@fox.com.',\n",
       " 'Double Take: Is there something to be learned from this latest dip into the stretched-thin world of IP, \"tennis ball tension,\" and \"Spielberg porn\"?',\n",
       " 'This past weekend saw the release of Colin Trevorrow’s final chapter in the “Jurassic World” trilogy.',\n",
       " 'While the film earned nearly $150 million at the domestic box office this weekend, reviews weren’t kind (including IndieWire’s own) and the film currently sits at a dismal 30 percent on Rotten Tomatoes (the lowest of any film in this trilogy or the previous one).',\n",
       " 'While the return of the original trilogy’s core trio delighted plenty of audience members, fans and critics alike balked at the film’s convoluted story, its resistance to digging into more dino-centric action, and a truly bizarre choice to make some other creepy animal its main baddie.',\n",
       " 'Both IndieWire executive editor and VP of editorial strategy Eric Kohn and executive editor, film Kate Erbland emerged from the latest jaunt to the underworld of dino DNA gone wild feeling increasingly worried about the current state of blockbusters.',\n",
       " 'But is there something to be learned from this latest dip into the stretched-thin world of IP, “tennis ball tension,” and “Spielberg porn”?',\n",
       " 'ERIC KOHN: There’s an excellent new movie in theaters that confronts difficult questions about what happens when humankind exploits technology to change the natural course of evolution.',\n",
       " 'It’s called “Crimes of the Future,” and everyone should see it.',\n",
       " 'And then there’s “Jurassic World: Dominion,” a movie that reduces those same questions to blockbuster putty of the worst kind.',\n",
       " 'I know we agree with the general consensus that “Dominion” is a dud, the worst entry in the second trilogy of a franchise that never came close to matching the appeal of the original “Jurassic Park.” Director Colin Trevorrow has assembled an ambitious ensemble of new and old faces to weave together nearly 30 years of dinosaur survival stories, the result is a mess of ridiculous plot twists and cheeky fan service with an overabundance of monster movie CGI.',\n",
       " 'The failings of “Dominion” shouldn’t come as a surprise.',\n",
       " 'All three entries of the “Jurassic World” trilogy swap awe for kitsch and make the original Steven Spielberg movie look downright subtle.',\n",
       " 'To me, however, this outcome is also a historic inevitability for a few reasons.',\n",
       " 'A decade ago, Trevorrow was among the notable Sundance breakouts catapulted the low-budget arena to the studios after a single well-received feature, the quirky Mark Duplass time travel comedy “Safety Not Guaranteed.”\\n“Jurassic World: Dominion”Universal Pictures\\nI have lambasted this tendency many times over the years, because most filmmakers aren’t Taika Waititi and don’t flourish creatively within the confines of the studio system.',\n",
       " 'Trevorrow may not have flourished creatively anywhere, judging by his confounding “Jurassic World” follow-up “The Book of Henry,” and a parting with Lucasfilm over a gig to direct the third “Star Wars” movie.',\n",
       " 'But “Safety Not Guaranteed” remains a sweet and innovative genre blend that in theory could have led to further original riffs on existing storytelling tropes.',\n",
       " 'But that impulse was never going to blossom within the context of the “Jurassic World” franchise.',\n",
       " 'Though J.A.',\n",
       " 'Bayona’s “Jurassic World: Fallen Kingdom” at least upped the ante for outrageous action sequences, overall, you could probably invent a more cohesive franchise cash-grab with magnetic poetry.',\n",
       " 'Clones, bioweapons, theme parks, oh my!',\n",
       " '“Dominion” is overflowing with attempts to rejuvenate the ideas of the original, lacing it all together with obvious callbacks to Spielberg’s direction that reduce it to an algorithm.',\n",
       " 'And that includes the return of mighty dino-fighting trio Jeff Goldblum, Sam Neill, and of course Laura Dern, who would work wonders on a podcast together but here look as puzzled to be wandering around a cheap imitation of “Jurassic Park” as we are.',\n",
       " 'Then again, Goldblum’s Dr. Ian Malcolm has cashed in on his fame that came out of the first “Jurassic Park” fiasco, which is probably on-target self-criticism by this movie even if it wasn’t intended this way.',\n",
       " 'Let’s find a constructive way through this.',\n",
       " 'What’s your take on the failings of “Dominion”?',\n",
       " 'Has the writing been on the compound walls all this time or were you expecting better?',\n",
       " 'KATE ERBLAND: More than anything, I walked away from “Jurassic World: Dominion” feeling depressed.',\n",
       " 'I’m an infamously enthusiastic movie-goer, just as excited about the possibilities of a new Marvel joint or the latest film from Jane Campion, and while I’ve seen, understood, and acknowledged that bone-deep “is this what movies are now?” feeling that many other film fans have experienced through the past few years of the studio-sanctioned, spreadsheet-created, cookie-cutter franchise boom, I’ve never quite felt it so acutely.',\n",
       " '“Jurassic World: Dominion” made me sad, because it’s stuffed to the brim with all the worst tendencies of blockbuster filmmaking: endless callbacks, dumb-bunny winks, moments that seem to hold specifically for an audience to cheer or at least sigh “I recognize that reference,” made all the worse by occasional good ideas and intermittently interesting questions.',\n",
       " 'I might have felt better about the entire thing if the whole movie was such a bomb, but again, there’s some good stuff here — when you see an animatronic dinosaur, your brain knows it, recognizes it as somehow “real,” delights in it!',\n",
       " 'But the CGI?',\n",
       " 'Call it tennis ball tension, because I am sick to death of watching massive set pieces in which you just know the stars are doing nothing but reacting to tennis balls on poles.',\n",
       " 'Your brain knows that too, and mine is done with it (does it only hurt that “Top Gun: Maverick,” a genuinely great blockbuster also out now, eschews such tendencies?',\n",
       " 'yes).',\n",
       " '“Jurassic World: Dominion”Universal Pictures\\nBut that breach between the “real” and the “movie magic” feels even worse within the context of this franchise, which started with a film filled with genuine wonder.',\n",
       " 'And while the subsequent films in the original franchise never, ever matched that joy and actual magic that Spielberg and company conjured up so expertly, I was hoping this new trilogy would somehow find its way back there.',\n",
       " '“Jurassic World” wasn’t horrible, but it was just retread, and despite all the big ideas it presented — and the possibility of turning wonder into terror — they’ve never been fully fleshed out in a way that screams, “this is a movie to see!” Also disheartening: Colin Trevorrow’s stance on not simply presenting a film in which dinosaurs — now free!',\n",
       " '— run roughshod on the human population does actually feel scientifically sound.',\n",
       " 'I totally understand his viewpoint and logic.',\n",
       " 'But none of that adds up to an entertaining film, or even a franchise, worthy of the “Jurassic” name.',\n",
       " 'Or, put more plainly: what do you think of the film’s real bad guys, THE GIANT LOCUSTS?!',\n",
       " 'KOHN: The locusts looked like goth grasshoppers.',\n",
       " '“Tennis ball tension” is a great term that should be taped to the walls of VFX studios everywhere, because it’s a reminder of the contradiction tied to this kind of technologically-based spectacle: The more you can spend to make something look real, the faker it gets.',\n",
       " 'You can practically see the pixels sparkling in the sunlight when those giant bugs speed through Texas.',\n",
       " 'Film scholar Tom Gunning coined the term “cinema of attractions” to describe the kind of movie that delights or thrills us more than it tries to tell a cohesive story, but that potential is squandered when we can see the cracks in the design.',\n",
       " 'The only sequence that held mild intrigue for me was an action-packed showdown between most of the main cast and a giant dino that finds them climbing a ladder and teaming up to deter the attacks.',\n",
       " 'There’s genuine choreography energized by a deft blend of camerawork and editing, even if it transforms Goldblum’s character into a macho action star out of nowhere.',\n",
       " 'But so much of “Dominion” and its precedents hark back to Ian Malcolm’s ominous decree in the original about the people in charge being “so preoccupied with whether they could, they didn’t stop to think if they should.”\\n“Jurassic World: Dominion”Universal Pictures\\nLook, none of this is surprising to me.',\n",
       " 'I have rolled my eyes through a lot of bad blockbusters over the years.',\n",
       " 'They come and go with the cold efficiency of tax season: Painful in the moment but easy enough to forget when they aren’t staring you in the face.',\n",
       " 'Anyone remember “Prince of Persia”?',\n",
       " '“The Mummy”?',\n",
       " 'But “Dominion” frustrates because it arrives at a moment when the global film industry needs every type of movie that contributes to the broader ecosystem to thrive, and instead it provides a reminder of why the system keeps shooting itself in the foot.',\n",
       " 'I watched this movie in the midst of making my way through the latest season of “Stranger Things,” which reportedly cost $30 million per episode.',\n",
       " 'You can see the money on the screen, but not the substance, which is stretched out like silly putty to feature length in almost every episode.',\n",
       " 'As long as we’ve had cinema, we’ve had special effects, and the potential to amaze audiences with narratives built around them.',\n",
       " 'But at some point, this potential was equated with costliness, and the ability to throw money at the screen mucks up any question — or concern — about what’s being put there in the first place.',\n",
       " 'Fix it in post, or don’t fix it all…who cares!',\n",
       " 'The whole enterprise of modern blockbuster filmmaking reeks of indifference.',\n",
       " 'Georges Melies spent $10,000 francs on “A Trip to the Moon” in 1902 and we’re still talking about it 120 years later.',\n",
       " 'I wouldn’t begin to predict what sort of moving image experience we’ll be talking about in 2142, but I reckon it won’t be “Jurassic World: Dominion.”\\nERBLAND: Jeez, I hope it won’t be!',\n",
       " 'As you mention, the timing on this is maybe the worst part, because yes, the global box office needs every hit it can find, and I am doubting that “Dominion” will follow in the steps of (again!)',\n",
       " 'my current favorite, “Top Gun: Maverick,” and keep a happy and healthy second-week audience.',\n",
       " 'People need to be reminded of the magic of the movies, but this film only reminded me of the facetiousness of them.',\n",
       " 'I’m all for spectacle and whiz-bang, but that’s in short supply here, all whiz, no bang.',\n",
       " '“Jurassic Park”\\nPart of that might be due to the last couple of years of in-home viewing, during which I’ve caught way back up on some of the wacky hits of the ‘80s and ‘90s, where CGI wasn’t de rigeur and real stunts reigned.',\n",
       " 'My eyes changed, or maybe they just returned to the childlike wonder the movies used to inspire in me as but a tiny child.',\n",
       " 'Whatever the case is, I’m tapped out on the fake stuff and, as so often happens in “Dominion,” when that’s paired with lacking emotion or coherency, I’m all the way done.',\n",
       " 'There is still absolutely a place for large-scale movies at the multiplex, hell, that might be the only place for them right now, but that shouldn’t mean that Hollywood should keep making the mistakes of “Dominion” and its ilk.',\n",
       " 'As we’ve learned with every subsequent “Jurassic” film, even the most well-meaning of creative exercises can forever change the equilibrium of the world, and not for the better.',\n",
       " 'A Universal Pictures release, “Jurassic World: Dominion” is now in theaters.',\n",
       " 'Sign Up: Stay on top of the latest breaking film and TV news!',\n",
       " 'Sign up for our Email Newsletters here.',\n",
       " 'By Steffan PowellGaming reporterPublished4 hours agocommentsCommentsImage source, BethesdaImage caption, Starfield will be released next year, although no exact release date has been announcedMore than 35 new experiences for the Xbox have been announced as Microsoft brought a busy period of console gaming news conferences to an end.Gameplay footage of Starfield, a space exploration game from the creators of Fallout and Skyrim, was finally shown.The game was announced in 2018 and its release recently delayed until 2023 - so this was the first time the public have been able to see it in action.Its developers have described it as \"Nasa meets Indiana Jones\".Players will be able to craft their own spaceships and explore over 1,000 planets in the game.Image source, MicrosoftImage caption, Minecraft Legends will be the next instalment in the hugely popular game seriesMicrosoft also revealed a new child-friendly action strategy game made by Swedish developer Mojang called Minecraft Legends.Sunday\\'s 90-minute showcase showcase focused only on titles that will be playable in the next 12 months - although no exact release date was given for Starfield or Minecraft Legends.The latter invites gamers to \"inspire their allies and lead them in strategy battles to save the Overworld\" following a Piglin invasion.Ok just a few more months to finish up every other game so I can dedicate my life to Starfield— Cadaea (@sophiekeen) June 12, 2022\\nThe BBC is not responsible for the content of external sites.View original tweet on TwitterMeanwhile, new strategic partnerships with developers like League of Legends creators Riot Games and Kojima Productions were also unveiled.It follows a similar virtual conference held earlier this month by Sony and the Summer Games Fest - an event that saw a variety of different game developers make announcements.',\n",
       " 'In the gaming industry calendar, June has become the month where big announcements are often made.',\n",
       " 'That is because they have historically tied in with the annual E3 games event.',\n",
       " \"Although some companies have stopped taking part in E3 in recent years, and despite the convention's cancellation this year, companies have still decided to make June the time to show off what they're working on.\",\n",
       " 'In its 30-minute event earlier this month, Sony showcased unseen footage for forthcoming titles, banking on a string of well-established franchises to encourage gamers to buy consoles as availability of the PlayStation 5 improves.Street Fighter 6 is set to be playable in 2023, with legendary characters Ryu and Chun-Li taking centre stage for the next iteration of the fighting game franchise.',\n",
       " 'Less clear is whether a new game mode based on exploration and character development will be as popular as the traditional button-bashing elements.Starfield looked better in concept form somehow.',\n",
       " \"Just wasn't blown away.\",\n",
       " 'Very choppy, ps3/xbox 360 Era facial animation.',\n",
       " 'Looked like fallout in space.— oti (@Oti09280470) June 12, 2022\\nThe BBC is not responsible for the content of external sites.View original tweet on TwitterResident Evil 4, originally released in 2005, is the latest title form the horror franchise to be remade for modern devices.',\n",
       " \"And the gameplay showcased in the trailer for Final Fantasy 16 showed a focus more on action set-pieces than the roleplaying elements that the franchise is famous for.Those titles won't hit the shelves until 2023, which will frustrate some as there has been a criticism that the latest PlayStation console is still light on the number of games designed exclusively for its unique technology.Microsoft used its showcase to reveal footage from a variety of experiences - , to driving simulator Forza Motorsport, the latest in the realistic car racing series.\",\n",
       " 'Image source, MicrosoftImage caption, Forza Motorsport is due to be released next springBy announcing so many experiences in one night, Microsoft tried to tackle the traditional criticism labelled against its consoles - that there are not enough exclusive titles to play on Xbox machines.As well as a long list of new games, there were partnership announcements.',\n",
       " \"A deal with Riot Games sees League of Legends content coming to Microsoft's subscription game service Gamepass.\",\n",
       " 'Both companies will hope the deal introduces new gamers to their products.While there were no details of what legendary games designer Hideo Kojima is working on with Microsoft, to have struck a deal with someone so closely associated with Sony in the past is a coup for Xbox.',\n",
       " 'As ever with big gaming conferences, there are always those disappointed by what was left out.',\n",
       " \"Sony's State of Play event didn't include any more information about the sequel to 2018 smash hit God of War, which is due to be released this year.\",\n",
       " 'The lack of an update on the latest game in the Fable franchise of role-playing adventures was the elephant in room during the Xbox showcase.',\n",
       " 'In 2020, Microsoft bought games studio Bethesda, the studio behind Starfield and the creators of some of the most popular games of all time.For the first time, the two companies shared the same platform, and the first title on display was Bethesda\\'s co-operative survival shooting game Redfall, which kicked off the event with frantic, fast-paced, first-person action gameplay.For Harvey Smith, studio director of its developer Arkane Austin, being part of an event where many games are showcased is \"exciting\", but there\\'s \"always a lot of pressure\".Redfall\\'s multiplayer vampire slaying is a metaphor for the world\\'s inequalities, he said.',\n",
       " '\"A tiny percentage of people in the world have all the power.',\n",
       " '\"In order to live like they live, they need others to be incredibly poor.',\n",
       " 'They have drained the resources, the life and a joy from other people to accrue their wealth - so that they can live in the clouds.',\n",
       " '\"Vampires are always metaphors - it\\'s something that you choose to become.',\n",
       " \"Because of the way that you want to live, it's incredibly selfish, but that is super compelling to me.\",\n",
       " '\"Like video games?',\n",
       " 'Listen to Press X to Continue - the BBC Sounds gaming Podcast',\n",
       " 'SAN FRANCISCO — How do you become an elite rebounder when two of your teammates are among the NBA’s best shooters ever?',\n",
       " 'Kevon Looney is showing how in these playoffs and now the NBA Finals.',\n",
       " '“I’ve kind of got it down to a science,” Looney said ahead of Monday’s Game 5 against the Celtics.',\n",
       " 'Thanks to years of up-close viewing when Steph Curry and Klay Thompson shoot, Looney’s learned how to position his body, use his strengths and anticipate how the ball might bounce his way.',\n",
       " '“It’s from getting used to where Steph’s going to shoot it from, where Klay’s going to shoot it from, and how their misses are going to come off (the rim),” Looney said.',\n",
       " '“It definitely comes from experience, just playing with them for such a long time, knowing what spots they like to get to.”\\nHow Curry and Thompson shoot likely will determine if the Warriors will win their fourth NBA championship.',\n",
       " 'How Looney rebounds their misses — and those of the Celtics and other Warriors — is also greatly factoring into the equation.',\n",
       " 'Looney is coming off an 11-rebound effort in the Warriors’ Game 4 win Friday in Boston, where the series got even at 2-2.',\n",
       " 'He came through with 18 rebounds in Game 5 of the Western Conference finals, when the Warriors finished off the Dallas Mavericks at Chase Center.',\n",
       " 'And he had 22 rebounds there when the Warriors eliminated the Memphis Grizzlies in Game 6 of the conference semis.',\n",
       " 'Looney’s career ascent has been a hot topic, and he’s been arguably the best supporting actor in this playoff cast, where Curry remains the marquee headliner and Thompson the sentimental, comeback hero.',\n",
       " 'Looney’s 6-foot-9 frame has shown a propensity to anticipate where their shots and others might veer off the mark.',\n",
       " '“They’re some of the greatest shooters ever, so they’re not going to have a lot of bad misses,” Looney said.',\n",
       " '“So it’s just knowing where their misses are going to go to, knowing when Steph is going to drive and shoot a step-back.',\n",
       " '“You just learn from watching and playing with them.',\n",
       " 'You get a great feel for how things are going to go.',\n",
       " 'It helps me with offensive rebounds and knowing when I should attack.”\\nWhat’s it like to know when Curry is dead-on accurate, like his 43-point barrage in Friday’s Game 4 win at Boston?',\n",
       " '“I know Steph’s going to make it so I don’t have to go (to the boards) some time,” Looney added.',\n",
       " '“A lot of times he gives you a hint, because he just turns around before it goes in.',\n",
       " 'Usually when he does that, it goes in.”\\nLooney has played in every game on the schedule, a total of 102 that leads all NBA players this season.',\n",
       " 'Kerr wouldn’t say if Looney will start or come off the bench for more grunt work Monday night.',\n",
       " '“Part of this series for us, and part of the whole playoffs, frankly, has been trying to figure out rotations,” Kerr said.',\n",
       " '“We didn’t have our whole team together until Game 1 of the Denver series, and then Gary (Payton) got hurt.',\n",
       " 'Andre (Iguodala) got hurt.',\n",
       " 'So it feels like almost every series, we have had to search a little bit for combinations and for substitution patterns.”\\nThe Celtics are looking to go 8-0 following a loss in these playoffs.',\n",
       " 'Looney is expecting another physical battle in the paint.',\n",
       " '“It’s physical down there,” Looney said.',\n",
       " '“I usually hit first.',\n",
       " 'But a lot of times this series I’ve been getting hit first.',\n",
       " 'They do a great job.',\n",
       " 'Sometimes I’ve got the ball and the guards come in and dig it out.',\n",
       " 'It’s been real physical.”\\n“… We are both great teams, and I think we both have been showing that all year, that whenever you lose or get punched in the mouth, we always come back and impose our will.',\n",
       " 'We have to protect home court, and we know what they are built of and made of.',\n",
       " 'We know they are not going to lay down.”\\nYou know what else Looney knows?',\n",
       " 'Where the ball might go when it isn’t bouncing the Warriors’ way through the net in case Curry or Thompson, you know, miss.',\n",
       " '1.6 billion stars.',\n",
       " '11.4 million galaxies.',\n",
       " '158,000 asteroids.',\n",
       " 'One spacecraft.',\n",
       " 'The European Space Agency’s Gaia space observatory, which launched in 2013, has long surpassed its goal of charting more than a billion stars in the Milky Way (SN: 10/15/16).',\n",
       " 'On June 13, the mission extended that map into new dimensions, releasing more detailed measurements of hundreds of millions of stars, plus — for the first time — asteroids, galaxies and the dusty medium between stars.',\n",
       " 'Sign Up For the Latest from Science News Headlines and summaries of the latest Science News articles, delivered to your inbox “Suddenly you have a flood of data,” says Laurent Eyer, an astrophysicist at the University of Geneva who has worked on Gaia for years.',\n",
       " 'For some topics in astronomy, the new results effectively replace all the observations that were taken before, Eyer says.',\n",
       " '“The data is better.',\n",
       " 'It’s amazing.” Data in the new survey, which were collected from 2014 to 2017, are already leading to some discoveries — including the presence of surprisingly massive  “starquakes” on the surfaces of thousands of stars (SN: 8/2/19).',\n",
       " 'But more than anything, the release is a new tool for astronomers, one that will aid their efforts to understand how stars, planets and entire galaxies form and evolve.',\n",
       " 'Here are a few of the long-standing puzzles the data could help solve.',\n",
       " 'Asteroid mishmash The asteroid belt between Mars and Jupiter is a mess of history.',\n",
       " 'After the Earth and other planets formed, the rocky building blocks that were left over smashed into each other, leaving behind jumbled fragments.',\n",
       " 'But if scientists know enough about individual asteroids, they can reconstruct when and where they came from (SN: 4/13/19).',\n",
       " 'And that can provide a peek into the solar system’s earliest days.',\n",
       " 'Using new Gaia data, astronomers plotted the June 13, 2022, positions of 156,000 asteroids.',\n",
       " 'The trails show their orbits for the last 10 days, and the colors mark different groups of asteroids based on their location (blue, inner solar system; green, the main asteroid belt between Mars and Jupiter; orange, the Trojan asteroids near Jupiter).DPAC/Gaia/ESA, CC BY-SA 3.0 IGO Gaia’s massive new dataset may help solve this puzzle, says Federica Spoto, an astrophysicist at the Harvard-Smithsonian Center for Astrophysics in Cambridge, Mass.',\n",
       " 'It includes data on the chemical makeup of over 60,000 asteroids — six times more than researchers had such details on before using other tools.',\n",
       " 'That information can be essential for tracing asteroids back to their shattering origins.',\n",
       " '“You can go back in time and try to understand all the formation and evolution of the solar system,” says Spoto, a Gaia collaborator.',\n",
       " '“That’s something huge that before Gaia we couldn’t even think about.”  Asteroids aren’t just pieces of the past, though; they’re also dangerous.',\n",
       " 'The new data could reveal asteroids that are next to impossible to spot from Earth because they orbit too close to the sun, says Thomas Burbine, a planetary scientist at Mount Holyoke College in South Hadley, Mass., who is not involved with the mission (SN: 2/15/20).',\n",
       " 'Since these asteroids would have originally come from farther out (say, the asteroid belt), they can tell us about the rocks going past Earth that can potentially hit us.',\n",
       " '“We’ll know our neighborhood better,” Burbine says.',\n",
       " 'Dating a star It is notoriously difficult to measure the age of stars (SN: 7/23/21).',\n",
       " '“It’s not uncommon to have uncertainty of more than a billion years,” says Alessandro Savino, an astrophysicist at the University of California, Berkeley who is not involved with Gaia.',\n",
       " 'Unlike brightness or location, age is not directly visible.',\n",
       " 'Astronomers have to rely on theories of how stars evolve to predict ages from what they can measure.',\n",
       " 'If past versions of the Gaia survey were like a photograph of stars, the new release is like shifting the photograph from black and white to color.',\n",
       " 'It provides a deeper look at hundreds of millions of stars by measuring their temperature, gravity and chemistry.',\n",
       " '“You imagine the star as this point in space, but then they have so many properties,” Spoto says.',\n",
       " '“That’s what Gaia is giving you.” Although these kinds of measurements are far from new, they have never been collected in the Milky Way on such a scale before.',\n",
       " 'Those data could provide more insight into how stars evolve.',\n",
       " '“We can improve the resolution of our clocks,” Savino says.',\n",
       " 'Milky Way snacks Though it may seem unchanging, the Milky Way is actually gorging on a steady diet of smaller galaxies —it’s even in the process of eating one right now.',\n",
       " 'But for decades, predictions of when and how these cosmic mergers happen have been at odds with evidence from our galaxy, says Bertrand Goldman, an astrophysicist at the International Space University in Strasbourg, France, who is not involved in the Gaia data release.',\n",
       " '“That has been controversial for a long time,” Goldman says, “but I think that Gaia will certainly shed light.” The key is to be able to pick apart different structures in the Milky Way and see how old they are (SN: 1/10/20).',\n",
       " 'Gaia’s latest release helps in two ways: By mapping the chemistry of stars and by measuring their motion.',\n",
       " 'Previous versions of the survey described how millions of stars were moving, but mostly in two dimensions.',\n",
       " 'The new catalog quadruples the number of stars with full 3-D trajectories from 7 million to 33 million.',\n",
       " 'This has implications beyond our neighborhood.',\n",
       " 'Most of the mass in the universe is contained in galaxies like the Milky Way, so knowing how our own galaxy works goes a long way to understanding space on the largest scales.',\n",
       " 'And the more scientists understand the parts of galaxies they can see, the more they can learn about dark matter, the mysterious substance that exerts gravity but doesn’t interact with light (SN: 6/25/21).',\n",
       " 'Even as astronomers mine this latest dataset, they are already looking ahead to future treasure hunts.',\n",
       " 'The next round is years off, but it is expected to enable the discovery of thousands of exoplanets, produce rare measurements of black holes and help astronomers clock how fast the universe is expanding.',\n",
       " 'In part, this is because Gaia is designed to track the motion of objects in space, and that gets easier as more time passes.',\n",
       " 'So Gaia’s observations can only get more powerful.',\n",
       " '“Like good wine, they age very, very well,” Savino says.',\n",
       " 'NEWYou can now listen to Fox News articles!',\n",
       " 'Los Angeles Angels star Mike Trout talked about the fantasy football \"confusion\" during ESPN’s broadcast Sunday night as his team was playing the New York Mets.Trout had been thrust into the middle of a controversy between Cincinnati Reds outfielder Tommy Pham and San Francisco Giants outfielder Joc Pederson.',\n",
       " 'The two players got into a pregame altercation last month that ended with Pham slapping Pederson across the face.CLICK HERE FOR MORE SPORTS COVERAGE ON FOXNEWS.COM Los Angeles Angels designated hitter Mike Trout hits a run-scoring single against the New York Mets in Anaheim, California, Sunday, June 12, 2022.',\n",
       " '(AP Photo/Alex Gallardo)It was later revealed the incident was over an issue with fantasy football and Trout was the commissioner of their league.',\n",
       " 'He was asked Sunday whether they were playing an ESPN league.',\n",
       " '\"I think that’s what we ran,\" Trout said.',\n",
       " '\"Yeah, I think that’s what we ran.',\n",
       " 'I think that’s why there was some confusion.',\n",
       " 'Because that website wasn’t… Ah, I can’t say that right now it’s an ESPN game.',\n",
       " '\"Trout appeared to save himself from going off on the ESPN fantasy game during the broadcast.The Angels star said Houston Astros third baseman Alex Bregman won his fantasy football league.',\n",
       " 'He said there were 12 people in the league.',\n",
       " \"Los Angeles Angels' Mike Trout celebrates with Shohei Ohtani after hitting a two-run homer against the New York Mets Saturday, June 11, 2022, in Anaheim, California.\",\n",
       " '(AP Photo/Mark J. Terrill)WHITE SOX FANS CALL FOR TONY LA RUSSA\\'S FIRING DURING LOSS TO RANGERS\"I\\'ll tell ya right now, probably gettin\\' another commissioner,\" Trout said.Pederson said last month the slap from Pham was over fantasy football.',\n",
       " '\"He kinda came up and said, \\'You remember from last year?’ And I was like, ‘fantasy football?’ and he was like, ‘Yeah.’\" He added: \"We were in a fantasy league together.',\n",
       " 'I put somebody – a player – on the injured reserve when they were listed as out and added another player.',\n",
       " 'And then there was a text message in the group saying that I was cheating because I was stashing players on the bench.\"',\n",
       " 'Tommy Pham of the Cincinnati Reds runs out an RBI single against the Guardians at Progressive Field on May 17, 2022, in Cleveland, Ohio.',\n",
       " '(Jason Miller/Getty Images)Pham said the slap was about more than just the fantasy games.',\n",
       " 'He said Pederson texted him some \"disrespectful s---\" and he called him out on it.CLICK HERE TO GET THE FOX NEWS APPPham was suspended three games for the slapping incident.Fox News’ Paulina Dedaj contributed to this report.',\n",
       " 'Ryan Gaydos is the sports editor for Fox News and Fox Business.',\n",
       " 'Story tips can be sent to Ryan.Gaydos@fox.com.']"
      ]
     },
     "execution_count": 7,
     "metadata": {},
     "output_type": "execute_result"
    }
   ],
   "source": [
    "sentences"
   ]
  },
  {
   "cell_type": "code",
   "execution_count": 8,
   "metadata": {},
   "outputs": [
    {
     "name": "stderr",
     "output_type": "stream",
     "text": [
      "2024-03-07 16:46:59,671 - BERTopic - Embedding - Transforming documents to embeddings.\n",
      "Batches: 100%|██████████| 10/10 [00:01<00:00,  7.98it/s]\n",
      "2024-03-07 16:47:02,395 - BERTopic - Embedding - Completed ✓\n",
      "2024-03-07 16:47:02,395 - BERTopic - Dimensionality - Fitting the dimensionality reduction algorithm\n",
      "2024-03-07 16:47:06,095 - BERTopic - Dimensionality - Completed ✓\n",
      "2024-03-07 16:47:06,095 - BERTopic - Cluster - Start clustering the reduced embeddings\n",
      "2024-03-07 16:47:06,105 - BERTopic - Cluster - Completed ✓\n",
      "2024-03-07 16:47:06,109 - BERTopic - Representation - Extracting topics from clusters using representation models.\n",
      " 56%|█████▌    | 5/9 [01:40<01:26, 21.74s/it]Number of tokens (611) exceeded maximum context length (512).\n",
      "Number of tokens (612) exceeded maximum context length (512).\n",
      "Number of tokens (613) exceeded maximum context length (512).\n",
      "Number of tokens (614) exceeded maximum context length (512).\n",
      "Number of tokens (615) exceeded maximum context length (512).\n",
      "Number of tokens (616) exceeded maximum context length (512).\n",
      "Number of tokens (617) exceeded maximum context length (512).\n",
      "Number of tokens (618) exceeded maximum context length (512).\n",
      "Number of tokens (619) exceeded maximum context length (512).\n",
      "Number of tokens (620) exceeded maximum context length (512).\n",
      "Number of tokens (621) exceeded maximum context length (512).\n",
      "Number of tokens (622) exceeded maximum context length (512).\n",
      "Number of tokens (623) exceeded maximum context length (512).\n",
      "Number of tokens (624) exceeded maximum context length (512).\n",
      "Number of tokens (625) exceeded maximum context length (512).\n",
      "Number of tokens (626) exceeded maximum context length (512).\n",
      "Number of tokens (627) exceeded maximum context length (512).\n",
      "Number of tokens (628) exceeded maximum context length (512).\n",
      "Number of tokens (629) exceeded maximum context length (512).\n",
      "Number of tokens (630) exceeded maximum context length (512).\n",
      "Number of tokens (631) exceeded maximum context length (512).\n",
      "Number of tokens (632) exceeded maximum context length (512).\n",
      "Number of tokens (633) exceeded maximum context length (512).\n",
      "Number of tokens (634) exceeded maximum context length (512).\n",
      "Number of tokens (635) exceeded maximum context length (512).\n",
      "Number of tokens (636) exceeded maximum context length (512).\n",
      "Number of tokens (637) exceeded maximum context length (512).\n",
      "Number of tokens (638) exceeded maximum context length (512).\n",
      "Number of tokens (639) exceeded maximum context length (512).\n",
      "Number of tokens (640) exceeded maximum context length (512).\n",
      "Number of tokens (641) exceeded maximum context length (512).\n",
      "Number of tokens (642) exceeded maximum context length (512).\n",
      "Number of tokens (643) exceeded maximum context length (512).\n",
      "Number of tokens (644) exceeded maximum context length (512).\n",
      "Number of tokens (645) exceeded maximum context length (512).\n",
      "Number of tokens (646) exceeded maximum context length (512).\n",
      "Number of tokens (647) exceeded maximum context length (512).\n",
      "Number of tokens (648) exceeded maximum context length (512).\n",
      "Number of tokens (649) exceeded maximum context length (512).\n",
      "Number of tokens (650) exceeded maximum context length (512).\n",
      "Number of tokens (651) exceeded maximum context length (512).\n",
      "Number of tokens (652) exceeded maximum context length (512).\n",
      "Number of tokens (653) exceeded maximum context length (512).\n",
      "Number of tokens (654) exceeded maximum context length (512).\n",
      "Number of tokens (655) exceeded maximum context length (512).\n",
      "Number of tokens (656) exceeded maximum context length (512).\n",
      "Number of tokens (657) exceeded maximum context length (512).\n",
      "Number of tokens (658) exceeded maximum context length (512).\n",
      "Number of tokens (659) exceeded maximum context length (512).\n",
      "Number of tokens (660) exceeded maximum context length (512).\n",
      " 67%|██████▋   | 6/9 [02:18<01:21, 27.29s/it]Number of tokens (810) exceeded maximum context length (512).\n",
      "Number of tokens (811) exceeded maximum context length (512).\n",
      "Number of tokens (812) exceeded maximum context length (512).\n",
      "Number of tokens (813) exceeded maximum context length (512).\n",
      "Number of tokens (814) exceeded maximum context length (512).\n",
      "Number of tokens (815) exceeded maximum context length (512).\n",
      "Number of tokens (816) exceeded maximum context length (512).\n",
      "Number of tokens (817) exceeded maximum context length (512).\n",
      "Number of tokens (818) exceeded maximum context length (512).\n",
      "Number of tokens (819) exceeded maximum context length (512).\n",
      "Number of tokens (820) exceeded maximum context length (512).\n",
      "Number of tokens (821) exceeded maximum context length (512).\n",
      "Number of tokens (822) exceeded maximum context length (512).\n",
      "Number of tokens (823) exceeded maximum context length (512).\n",
      "Number of tokens (824) exceeded maximum context length (512).\n",
      "Number of tokens (825) exceeded maximum context length (512).\n",
      "Number of tokens (826) exceeded maximum context length (512).\n",
      "Number of tokens (827) exceeded maximum context length (512).\n",
      "Number of tokens (828) exceeded maximum context length (512).\n",
      "Number of tokens (829) exceeded maximum context length (512).\n",
      "Number of tokens (830) exceeded maximum context length (512).\n",
      "Number of tokens (831) exceeded maximum context length (512).\n",
      "Number of tokens (832) exceeded maximum context length (512).\n",
      "Number of tokens (833) exceeded maximum context length (512).\n",
      "Number of tokens (834) exceeded maximum context length (512).\n",
      "Number of tokens (835) exceeded maximum context length (512).\n",
      "Number of tokens (836) exceeded maximum context length (512).\n",
      "Number of tokens (837) exceeded maximum context length (512).\n",
      "Number of tokens (838) exceeded maximum context length (512).\n",
      "Number of tokens (839) exceeded maximum context length (512).\n",
      "Number of tokens (840) exceeded maximum context length (512).\n",
      "Number of tokens (841) exceeded maximum context length (512).\n",
      "Number of tokens (842) exceeded maximum context length (512).\n",
      "Number of tokens (843) exceeded maximum context length (512).\n",
      "Number of tokens (844) exceeded maximum context length (512).\n",
      "Number of tokens (845) exceeded maximum context length (512).\n",
      "Number of tokens (846) exceeded maximum context length (512).\n",
      "Number of tokens (847) exceeded maximum context length (512).\n",
      "Number of tokens (848) exceeded maximum context length (512).\n",
      "Number of tokens (849) exceeded maximum context length (512).\n",
      "Number of tokens (850) exceeded maximum context length (512).\n",
      "Number of tokens (851) exceeded maximum context length (512).\n",
      "Number of tokens (852) exceeded maximum context length (512).\n",
      "Number of tokens (853) exceeded maximum context length (512).\n",
      "Number of tokens (854) exceeded maximum context length (512).\n",
      "Number of tokens (855) exceeded maximum context length (512).\n",
      "Number of tokens (856) exceeded maximum context length (512).\n",
      "Number of tokens (857) exceeded maximum context length (512).\n",
      "Number of tokens (858) exceeded maximum context length (512).\n",
      "Number of tokens (859) exceeded maximum context length (512).\n",
      " 89%|████████▉ | 8/9 [03:24<00:28, 28.84s/it]Number of tokens (935) exceeded maximum context length (512).\n",
      "Number of tokens (936) exceeded maximum context length (512).\n",
      "Number of tokens (937) exceeded maximum context length (512).\n",
      "Number of tokens (938) exceeded maximum context length (512).\n",
      "Number of tokens (939) exceeded maximum context length (512).\n",
      "Number of tokens (940) exceeded maximum context length (512).\n",
      "Number of tokens (941) exceeded maximum context length (512).\n",
      "Number of tokens (942) exceeded maximum context length (512).\n",
      "Number of tokens (943) exceeded maximum context length (512).\n",
      "Number of tokens (944) exceeded maximum context length (512).\n",
      "Number of tokens (945) exceeded maximum context length (512).\n",
      "Number of tokens (946) exceeded maximum context length (512).\n",
      "Number of tokens (947) exceeded maximum context length (512).\n",
      "Number of tokens (948) exceeded maximum context length (512).\n",
      "Number of tokens (949) exceeded maximum context length (512).\n",
      "Number of tokens (950) exceeded maximum context length (512).\n",
      "Number of tokens (951) exceeded maximum context length (512).\n",
      "Number of tokens (952) exceeded maximum context length (512).\n",
      "Number of tokens (953) exceeded maximum context length (512).\n",
      "Number of tokens (954) exceeded maximum context length (512).\n",
      "Number of tokens (955) exceeded maximum context length (512).\n",
      "Number of tokens (956) exceeded maximum context length (512).\n",
      "Number of tokens (957) exceeded maximum context length (512).\n",
      "Number of tokens (958) exceeded maximum context length (512).\n",
      "Number of tokens (959) exceeded maximum context length (512).\n",
      "Number of tokens (960) exceeded maximum context length (512).\n",
      "Number of tokens (961) exceeded maximum context length (512).\n",
      "Number of tokens (962) exceeded maximum context length (512).\n",
      "Number of tokens (963) exceeded maximum context length (512).\n",
      "Number of tokens (964) exceeded maximum context length (512).\n",
      "Number of tokens (965) exceeded maximum context length (512).\n",
      "Number of tokens (966) exceeded maximum context length (512).\n",
      "Number of tokens (967) exceeded maximum context length (512).\n",
      "Number of tokens (968) exceeded maximum context length (512).\n",
      "Number of tokens (969) exceeded maximum context length (512).\n",
      "Number of tokens (970) exceeded maximum context length (512).\n",
      "Number of tokens (971) exceeded maximum context length (512).\n",
      "Number of tokens (972) exceeded maximum context length (512).\n",
      "Number of tokens (973) exceeded maximum context length (512).\n",
      "Number of tokens (974) exceeded maximum context length (512).\n",
      "Number of tokens (975) exceeded maximum context length (512).\n",
      "Number of tokens (976) exceeded maximum context length (512).\n",
      "Number of tokens (977) exceeded maximum context length (512).\n",
      "Number of tokens (978) exceeded maximum context length (512).\n",
      "Number of tokens (979) exceeded maximum context length (512).\n",
      "Number of tokens (980) exceeded maximum context length (512).\n",
      "Number of tokens (981) exceeded maximum context length (512).\n",
      "Number of tokens (982) exceeded maximum context length (512).\n",
      "Number of tokens (983) exceeded maximum context length (512).\n",
      "Number of tokens (984) exceeded maximum context length (512).\n",
      "100%|██████████| 9/9 [04:22<00:00, 29.21s/it]\n",
      "2024-03-07 16:51:29,005 - BERTopic - Representation - Completed ✓\n"
     ]
    },
    {
     "data": {
      "text/plain": [
       "<bertopic._bertopic.BERTopic at 0x104b80af0>"
      ]
     },
     "execution_count": 8,
     "metadata": {},
     "output_type": "execute_result"
    }
   ],
   "source": [
    "topic_model.fit(sentences)"
   ]
  },
  {
   "cell_type": "code",
   "execution_count": 11,
   "metadata": {},
   "outputs": [
    {
     "name": "stderr",
     "output_type": "stream",
     "text": [
      "100%|██████████| 1/1 [00:00<00:00, 29.82it/s]\n"
     ]
    }
   ],
   "source": [
    "topic_distr, _ = topic_model.approximate_distribution(sentences)"
   ]
  },
  {
   "cell_type": "code",
   "execution_count": 24,
   "metadata": {},
   "outputs": [],
   "source": [
    "#saved topic_distr to a file \n",
    "import numpy as np\n",
    "\n",
    "np.save('topic_distr.npy', topic_distr)"
   ]
  },
  {
   "cell_type": "code",
   "execution_count": 25,
   "metadata": {},
   "outputs": [],
   "source": [
    "topic_distr = np.load('topic_distr.npy')"
   ]
  },
  {
   "cell_type": "code",
   "execution_count": 58,
   "metadata": {},
   "outputs": [
    {
     "data": {
      "text/html": [
       "<div>\n",
       "<style scoped>\n",
       "    .dataframe tbody tr th:only-of-type {\n",
       "        vertical-align: middle;\n",
       "    }\n",
       "\n",
       "    .dataframe tbody tr th {\n",
       "        vertical-align: top;\n",
       "    }\n",
       "\n",
       "    .dataframe thead th {\n",
       "        text-align: right;\n",
       "    }\n",
       "</style>\n",
       "<table border=\"1\" class=\"dataframe\">\n",
       "  <thead>\n",
       "    <tr style=\"text-align: right;\">\n",
       "      <th></th>\n",
       "      <th>Topic</th>\n",
       "      <th>Count</th>\n",
       "      <th>Name</th>\n",
       "      <th>Representation</th>\n",
       "      <th>Zephyr</th>\n",
       "      <th>Representative_Docs</th>\n",
       "    </tr>\n",
       "  </thead>\n",
       "  <tbody>\n",
       "    <tr>\n",
       "      <th>0</th>\n",
       "      <td>-1</td>\n",
       "      <td>1</td>\n",
       "      <td>-1_tennis_nothing_balls_sick</td>\n",
       "      <td>[tennis, nothing, balls, sick, reacting, poles...</td>\n",
       "      <td>[\\n\"Tennis Ball Tension: Watching Reactions to...</td>\n",
       "      <td>[Call it tennis ball tension, because I am sic...</td>\n",
       "    </tr>\n",
       "    <tr>\n",
       "      <th>1</th>\n",
       "      <td>0</td>\n",
       "      <td>65</td>\n",
       "      <td>0_the_of_and_to</td>\n",
       "      <td>[the, of, and, to, jurassic, that, world, but,...</td>\n",
       "      <td>[\\n\"Jurassic World: Dominion - Critical Analys...</td>\n",
       "      <td>[“Jurassic World” wasn’t horrible, but it was ...</td>\n",
       "    </tr>\n",
       "    <tr>\n",
       "      <th>2</th>\n",
       "      <td>1</td>\n",
       "      <td>49</td>\n",
       "      <td>1_news_you_to_the</td>\n",
       "      <td>[news, you, to, the, fox, follow, on, here, th...</td>\n",
       "      <td>[\\n\"Fox News Listening &amp; News Alert Signups\", ...</td>\n",
       "      <td>[NEWYou can now listen to Fox News articles!, ...</td>\n",
       "    </tr>\n",
       "    <tr>\n",
       "      <th>3</th>\n",
       "      <td>2</td>\n",
       "      <td>48</td>\n",
       "      <td>2_the_of_stars_gaia</td>\n",
       "      <td>[the, of, stars, gaia, asteroids, says, data, ...</td>\n",
       "      <td>[\\n\"Gaia's Asteroid and Star Data\", , , , , , ...</td>\n",
       "      <td>[On June 13, the mission extended that map int...</td>\n",
       "    </tr>\n",
       "    <tr>\n",
       "      <th>4</th>\n",
       "      <td>3</td>\n",
       "      <td>35</td>\n",
       "      <td>3_was_the_angels_angeles</td>\n",
       "      <td>[was, the, angels, angeles, he, fantasy, los, ...</td>\n",
       "      <td>[\\nFantasy Football Controversy Involving LA A...</td>\n",
       "      <td>[The two players got into a pregame altercatio...</td>\n",
       "    </tr>\n",
       "  </tbody>\n",
       "</table>\n",
       "</div>"
      ],
      "text/plain": [
       "   Topic  Count                          Name  \\\n",
       "0     -1      1  -1_tennis_nothing_balls_sick   \n",
       "1      0     65               0_the_of_and_to   \n",
       "2      1     49             1_news_you_to_the   \n",
       "3      2     48           2_the_of_stars_gaia   \n",
       "4      3     35      3_was_the_angels_angeles   \n",
       "\n",
       "                                      Representation  \\\n",
       "0  [tennis, nothing, balls, sick, reacting, poles...   \n",
       "1  [the, of, and, to, jurassic, that, world, but,...   \n",
       "2  [news, you, to, the, fox, follow, on, here, th...   \n",
       "3  [the, of, stars, gaia, asteroids, says, data, ...   \n",
       "4  [was, the, angels, angeles, he, fantasy, los, ...   \n",
       "\n",
       "                                              Zephyr  \\\n",
       "0  [\\n\"Tennis Ball Tension: Watching Reactions to...   \n",
       "1  [\\n\"Jurassic World: Dominion - Critical Analys...   \n",
       "2  [\\n\"Fox News Listening & News Alert Signups\", ...   \n",
       "3  [\\n\"Gaia's Asteroid and Star Data\", , , , , , ...   \n",
       "4  [\\nFantasy Football Controversy Involving LA A...   \n",
       "\n",
       "                                 Representative_Docs  \n",
       "0  [Call it tennis ball tension, because I am sic...  \n",
       "1  [“Jurassic World” wasn’t horrible, but it was ...  \n",
       "2  [NEWYou can now listen to Fox News articles!, ...  \n",
       "3  [On June 13, the mission extended that map int...  \n",
       "4  [The two players got into a pregame altercatio...  "
      ]
     },
     "execution_count": 58,
     "metadata": {},
     "output_type": "execute_result"
    }
   ],
   "source": [
    "#it is of type data frame\n",
    "topic_model.get_topic_info()"
   ]
  },
  {
   "cell_type": "code",
   "execution_count": 41,
   "metadata": {},
   "outputs": [
    {
     "ename": "ValueError",
     "evalue": "Mime type rendering requires nbformat>=4.2.0 but it is not installed",
     "output_type": "error",
     "traceback": [
      "\u001b[0;31m---------------------------------------------------------------------------\u001b[0m",
      "\u001b[0;31mValueError\u001b[0m                                Traceback (most recent call last)",
      "File \u001b[0;32m~/Development/DisruptionLab/jinship_sp2024/.venv/lib/python3.9/site-packages/IPython/core/formatters.py:922\u001b[0m, in \u001b[0;36mIPythonDisplayFormatter.__call__\u001b[0;34m(self, obj)\u001b[0m\n\u001b[1;32m    920\u001b[0m method \u001b[38;5;241m=\u001b[39m get_real_method(obj, \u001b[38;5;28mself\u001b[39m\u001b[38;5;241m.\u001b[39mprint_method)\n\u001b[1;32m    921\u001b[0m \u001b[38;5;28;01mif\u001b[39;00m method \u001b[38;5;129;01mis\u001b[39;00m \u001b[38;5;129;01mnot\u001b[39;00m \u001b[38;5;28;01mNone\u001b[39;00m:\n\u001b[0;32m--> 922\u001b[0m     \u001b[43mmethod\u001b[49m\u001b[43m(\u001b[49m\u001b[43m)\u001b[49m\n\u001b[1;32m    923\u001b[0m     \u001b[38;5;28;01mreturn\u001b[39;00m \u001b[38;5;28;01mTrue\u001b[39;00m\n",
      "File \u001b[0;32m~/Development/DisruptionLab/jinship_sp2024/.venv/lib/python3.9/site-packages/plotly/basedatatypes.py:832\u001b[0m, in \u001b[0;36mBaseFigure._ipython_display_\u001b[0;34m(self)\u001b[0m\n\u001b[1;32m    829\u001b[0m \u001b[38;5;28;01mimport\u001b[39;00m \u001b[38;5;21;01mplotly\u001b[39;00m\u001b[38;5;21;01m.\u001b[39;00m\u001b[38;5;21;01mio\u001b[39;00m \u001b[38;5;28;01mas\u001b[39;00m \u001b[38;5;21;01mpio\u001b[39;00m\n\u001b[1;32m    831\u001b[0m \u001b[38;5;28;01mif\u001b[39;00m pio\u001b[38;5;241m.\u001b[39mrenderers\u001b[38;5;241m.\u001b[39mrender_on_display \u001b[38;5;129;01mand\u001b[39;00m pio\u001b[38;5;241m.\u001b[39mrenderers\u001b[38;5;241m.\u001b[39mdefault:\n\u001b[0;32m--> 832\u001b[0m     \u001b[43mpio\u001b[49m\u001b[38;5;241;43m.\u001b[39;49m\u001b[43mshow\u001b[49m\u001b[43m(\u001b[49m\u001b[38;5;28;43mself\u001b[39;49m\u001b[43m)\u001b[49m\n\u001b[1;32m    833\u001b[0m \u001b[38;5;28;01melse\u001b[39;00m:\n\u001b[1;32m    834\u001b[0m     \u001b[38;5;28mprint\u001b[39m(\u001b[38;5;28mrepr\u001b[39m(\u001b[38;5;28mself\u001b[39m))\n",
      "File \u001b[0;32m~/Development/DisruptionLab/jinship_sp2024/.venv/lib/python3.9/site-packages/plotly/io/_renderers.py:394\u001b[0m, in \u001b[0;36mshow\u001b[0;34m(fig, renderer, validate, **kwargs)\u001b[0m\n\u001b[1;32m    389\u001b[0m         \u001b[38;5;28;01mraise\u001b[39;00m \u001b[38;5;167;01mValueError\u001b[39;00m(\n\u001b[1;32m    390\u001b[0m             \u001b[38;5;124m\"\u001b[39m\u001b[38;5;124mMime type rendering requires ipython but it is not installed\u001b[39m\u001b[38;5;124m\"\u001b[39m\n\u001b[1;32m    391\u001b[0m         )\n\u001b[1;32m    393\u001b[0m     \u001b[38;5;28;01mif\u001b[39;00m \u001b[38;5;129;01mnot\u001b[39;00m nbformat \u001b[38;5;129;01mor\u001b[39;00m Version(nbformat\u001b[38;5;241m.\u001b[39m__version__) \u001b[38;5;241m<\u001b[39m Version(\u001b[38;5;124m\"\u001b[39m\u001b[38;5;124m4.2.0\u001b[39m\u001b[38;5;124m\"\u001b[39m):\n\u001b[0;32m--> 394\u001b[0m         \u001b[38;5;28;01mraise\u001b[39;00m \u001b[38;5;167;01mValueError\u001b[39;00m(\n\u001b[1;32m    395\u001b[0m             \u001b[38;5;124m\"\u001b[39m\u001b[38;5;124mMime type rendering requires nbformat>=4.2.0 but it is not installed\u001b[39m\u001b[38;5;124m\"\u001b[39m\n\u001b[1;32m    396\u001b[0m         )\n\u001b[1;32m    398\u001b[0m     ipython_display\u001b[38;5;241m.\u001b[39mdisplay(bundle, raw\u001b[38;5;241m=\u001b[39m\u001b[38;5;28;01mTrue\u001b[39;00m)\n\u001b[1;32m    400\u001b[0m \u001b[38;5;66;03m# external renderers\u001b[39;00m\n",
      "\u001b[0;31mValueError\u001b[0m: Mime type rendering requires nbformat>=4.2.0 but it is not installed"
     ]
    },
    {
     "data": {
      "application/vnd.plotly.v1+json": {
       "config": {
        "plotlyServerURL": "https://plot.ly"
       },
       "data": [
        {
         "marker": {
          "color": "#C8D2D7",
          "line": {
           "color": "#6E8484",
           "width": 1
          }
         },
         "orientation": "h",
         "type": "bar",
         "x": [
          0.17908442727060772,
          0.05169965733714621,
          0.08011432576480919,
          0.0337564307861664,
          0.075475998139297,
          0.38987960186115383,
          0.05226168624539661,
          0.13772787259542305
         ],
         "y": [
          "<b>Topic 0</b>: the_of_and_to_jurassic",
          "<b>Topic 1</b>: news_you_to_the_fox",
          "<b>Topic 2</b>: the_of_stars_gaia_astero...",
          "<b>Topic 3</b>: was_the_angels_angeles_h...",
          "<b>Topic 4</b>: ozzy_his_the_on_to",
          "<b>Topic 5</b>: eqs_the_as_to_is",
          "<b>Topic 6</b>: looney_to_and_when_going",
          "<b>Topic 7</b>: the_games_game_of_in"
         ]
        }
       ],
       "layout": {
        "height": 600,
        "hoverlabel": {
         "bgcolor": "white",
         "font": {
          "family": "Rockwell",
          "size": 16
         }
        },
        "template": {
         "data": {
          "bar": [
           {
            "error_x": {
             "color": "rgb(36,36,36)"
            },
            "error_y": {
             "color": "rgb(36,36,36)"
            },
            "marker": {
             "line": {
              "color": "white",
              "width": 0.5
             },
             "pattern": {
              "fillmode": "overlay",
              "size": 10,
              "solidity": 0.2
             }
            },
            "type": "bar"
           }
          ],
          "barpolar": [
           {
            "marker": {
             "line": {
              "color": "white",
              "width": 0.5
             },
             "pattern": {
              "fillmode": "overlay",
              "size": 10,
              "solidity": 0.2
             }
            },
            "type": "barpolar"
           }
          ],
          "carpet": [
           {
            "aaxis": {
             "endlinecolor": "rgb(36,36,36)",
             "gridcolor": "white",
             "linecolor": "white",
             "minorgridcolor": "white",
             "startlinecolor": "rgb(36,36,36)"
            },
            "baxis": {
             "endlinecolor": "rgb(36,36,36)",
             "gridcolor": "white",
             "linecolor": "white",
             "minorgridcolor": "white",
             "startlinecolor": "rgb(36,36,36)"
            },
            "type": "carpet"
           }
          ],
          "choropleth": [
           {
            "colorbar": {
             "outlinewidth": 1,
             "tickcolor": "rgb(36,36,36)",
             "ticks": "outside"
            },
            "type": "choropleth"
           }
          ],
          "contour": [
           {
            "colorbar": {
             "outlinewidth": 1,
             "tickcolor": "rgb(36,36,36)",
             "ticks": "outside"
            },
            "colorscale": [
             [
              0,
              "#440154"
             ],
             [
              0.1111111111111111,
              "#482878"
             ],
             [
              0.2222222222222222,
              "#3e4989"
             ],
             [
              0.3333333333333333,
              "#31688e"
             ],
             [
              0.4444444444444444,
              "#26828e"
             ],
             [
              0.5555555555555556,
              "#1f9e89"
             ],
             [
              0.6666666666666666,
              "#35b779"
             ],
             [
              0.7777777777777778,
              "#6ece58"
             ],
             [
              0.8888888888888888,
              "#b5de2b"
             ],
             [
              1,
              "#fde725"
             ]
            ],
            "type": "contour"
           }
          ],
          "contourcarpet": [
           {
            "colorbar": {
             "outlinewidth": 1,
             "tickcolor": "rgb(36,36,36)",
             "ticks": "outside"
            },
            "type": "contourcarpet"
           }
          ],
          "heatmap": [
           {
            "colorbar": {
             "outlinewidth": 1,
             "tickcolor": "rgb(36,36,36)",
             "ticks": "outside"
            },
            "colorscale": [
             [
              0,
              "#440154"
             ],
             [
              0.1111111111111111,
              "#482878"
             ],
             [
              0.2222222222222222,
              "#3e4989"
             ],
             [
              0.3333333333333333,
              "#31688e"
             ],
             [
              0.4444444444444444,
              "#26828e"
             ],
             [
              0.5555555555555556,
              "#1f9e89"
             ],
             [
              0.6666666666666666,
              "#35b779"
             ],
             [
              0.7777777777777778,
              "#6ece58"
             ],
             [
              0.8888888888888888,
              "#b5de2b"
             ],
             [
              1,
              "#fde725"
             ]
            ],
            "type": "heatmap"
           }
          ],
          "heatmapgl": [
           {
            "colorbar": {
             "outlinewidth": 1,
             "tickcolor": "rgb(36,36,36)",
             "ticks": "outside"
            },
            "colorscale": [
             [
              0,
              "#440154"
             ],
             [
              0.1111111111111111,
              "#482878"
             ],
             [
              0.2222222222222222,
              "#3e4989"
             ],
             [
              0.3333333333333333,
              "#31688e"
             ],
             [
              0.4444444444444444,
              "#26828e"
             ],
             [
              0.5555555555555556,
              "#1f9e89"
             ],
             [
              0.6666666666666666,
              "#35b779"
             ],
             [
              0.7777777777777778,
              "#6ece58"
             ],
             [
              0.8888888888888888,
              "#b5de2b"
             ],
             [
              1,
              "#fde725"
             ]
            ],
            "type": "heatmapgl"
           }
          ],
          "histogram": [
           {
            "marker": {
             "line": {
              "color": "white",
              "width": 0.6
             }
            },
            "type": "histogram"
           }
          ],
          "histogram2d": [
           {
            "colorbar": {
             "outlinewidth": 1,
             "tickcolor": "rgb(36,36,36)",
             "ticks": "outside"
            },
            "colorscale": [
             [
              0,
              "#440154"
             ],
             [
              0.1111111111111111,
              "#482878"
             ],
             [
              0.2222222222222222,
              "#3e4989"
             ],
             [
              0.3333333333333333,
              "#31688e"
             ],
             [
              0.4444444444444444,
              "#26828e"
             ],
             [
              0.5555555555555556,
              "#1f9e89"
             ],
             [
              0.6666666666666666,
              "#35b779"
             ],
             [
              0.7777777777777778,
              "#6ece58"
             ],
             [
              0.8888888888888888,
              "#b5de2b"
             ],
             [
              1,
              "#fde725"
             ]
            ],
            "type": "histogram2d"
           }
          ],
          "histogram2dcontour": [
           {
            "colorbar": {
             "outlinewidth": 1,
             "tickcolor": "rgb(36,36,36)",
             "ticks": "outside"
            },
            "colorscale": [
             [
              0,
              "#440154"
             ],
             [
              0.1111111111111111,
              "#482878"
             ],
             [
              0.2222222222222222,
              "#3e4989"
             ],
             [
              0.3333333333333333,
              "#31688e"
             ],
             [
              0.4444444444444444,
              "#26828e"
             ],
             [
              0.5555555555555556,
              "#1f9e89"
             ],
             [
              0.6666666666666666,
              "#35b779"
             ],
             [
              0.7777777777777778,
              "#6ece58"
             ],
             [
              0.8888888888888888,
              "#b5de2b"
             ],
             [
              1,
              "#fde725"
             ]
            ],
            "type": "histogram2dcontour"
           }
          ],
          "mesh3d": [
           {
            "colorbar": {
             "outlinewidth": 1,
             "tickcolor": "rgb(36,36,36)",
             "ticks": "outside"
            },
            "type": "mesh3d"
           }
          ],
          "parcoords": [
           {
            "line": {
             "colorbar": {
              "outlinewidth": 1,
              "tickcolor": "rgb(36,36,36)",
              "ticks": "outside"
             }
            },
            "type": "parcoords"
           }
          ],
          "pie": [
           {
            "automargin": true,
            "type": "pie"
           }
          ],
          "scatter": [
           {
            "fillpattern": {
             "fillmode": "overlay",
             "size": 10,
             "solidity": 0.2
            },
            "type": "scatter"
           }
          ],
          "scatter3d": [
           {
            "line": {
             "colorbar": {
              "outlinewidth": 1,
              "tickcolor": "rgb(36,36,36)",
              "ticks": "outside"
             }
            },
            "marker": {
             "colorbar": {
              "outlinewidth": 1,
              "tickcolor": "rgb(36,36,36)",
              "ticks": "outside"
             }
            },
            "type": "scatter3d"
           }
          ],
          "scattercarpet": [
           {
            "marker": {
             "colorbar": {
              "outlinewidth": 1,
              "tickcolor": "rgb(36,36,36)",
              "ticks": "outside"
             }
            },
            "type": "scattercarpet"
           }
          ],
          "scattergeo": [
           {
            "marker": {
             "colorbar": {
              "outlinewidth": 1,
              "tickcolor": "rgb(36,36,36)",
              "ticks": "outside"
             }
            },
            "type": "scattergeo"
           }
          ],
          "scattergl": [
           {
            "marker": {
             "colorbar": {
              "outlinewidth": 1,
              "tickcolor": "rgb(36,36,36)",
              "ticks": "outside"
             }
            },
            "type": "scattergl"
           }
          ],
          "scattermapbox": [
           {
            "marker": {
             "colorbar": {
              "outlinewidth": 1,
              "tickcolor": "rgb(36,36,36)",
              "ticks": "outside"
             }
            },
            "type": "scattermapbox"
           }
          ],
          "scatterpolar": [
           {
            "marker": {
             "colorbar": {
              "outlinewidth": 1,
              "tickcolor": "rgb(36,36,36)",
              "ticks": "outside"
             }
            },
            "type": "scatterpolar"
           }
          ],
          "scatterpolargl": [
           {
            "marker": {
             "colorbar": {
              "outlinewidth": 1,
              "tickcolor": "rgb(36,36,36)",
              "ticks": "outside"
             }
            },
            "type": "scatterpolargl"
           }
          ],
          "scatterternary": [
           {
            "marker": {
             "colorbar": {
              "outlinewidth": 1,
              "tickcolor": "rgb(36,36,36)",
              "ticks": "outside"
             }
            },
            "type": "scatterternary"
           }
          ],
          "surface": [
           {
            "colorbar": {
             "outlinewidth": 1,
             "tickcolor": "rgb(36,36,36)",
             "ticks": "outside"
            },
            "colorscale": [
             [
              0,
              "#440154"
             ],
             [
              0.1111111111111111,
              "#482878"
             ],
             [
              0.2222222222222222,
              "#3e4989"
             ],
             [
              0.3333333333333333,
              "#31688e"
             ],
             [
              0.4444444444444444,
              "#26828e"
             ],
             [
              0.5555555555555556,
              "#1f9e89"
             ],
             [
              0.6666666666666666,
              "#35b779"
             ],
             [
              0.7777777777777778,
              "#6ece58"
             ],
             [
              0.8888888888888888,
              "#b5de2b"
             ],
             [
              1,
              "#fde725"
             ]
            ],
            "type": "surface"
           }
          ],
          "table": [
           {
            "cells": {
             "fill": {
              "color": "rgb(237,237,237)"
             },
             "line": {
              "color": "white"
             }
            },
            "header": {
             "fill": {
              "color": "rgb(217,217,217)"
             },
             "line": {
              "color": "white"
             }
            },
            "type": "table"
           }
          ]
         },
         "layout": {
          "annotationdefaults": {
           "arrowhead": 0,
           "arrowwidth": 1
          },
          "autotypenumbers": "strict",
          "coloraxis": {
           "colorbar": {
            "outlinewidth": 1,
            "tickcolor": "rgb(36,36,36)",
            "ticks": "outside"
           }
          },
          "colorscale": {
           "diverging": [
            [
             0,
             "rgb(103,0,31)"
            ],
            [
             0.1,
             "rgb(178,24,43)"
            ],
            [
             0.2,
             "rgb(214,96,77)"
            ],
            [
             0.3,
             "rgb(244,165,130)"
            ],
            [
             0.4,
             "rgb(253,219,199)"
            ],
            [
             0.5,
             "rgb(247,247,247)"
            ],
            [
             0.6,
             "rgb(209,229,240)"
            ],
            [
             0.7,
             "rgb(146,197,222)"
            ],
            [
             0.8,
             "rgb(67,147,195)"
            ],
            [
             0.9,
             "rgb(33,102,172)"
            ],
            [
             1,
             "rgb(5,48,97)"
            ]
           ],
           "sequential": [
            [
             0,
             "#440154"
            ],
            [
             0.1111111111111111,
             "#482878"
            ],
            [
             0.2222222222222222,
             "#3e4989"
            ],
            [
             0.3333333333333333,
             "#31688e"
            ],
            [
             0.4444444444444444,
             "#26828e"
            ],
            [
             0.5555555555555556,
             "#1f9e89"
            ],
            [
             0.6666666666666666,
             "#35b779"
            ],
            [
             0.7777777777777778,
             "#6ece58"
            ],
            [
             0.8888888888888888,
             "#b5de2b"
            ],
            [
             1,
             "#fde725"
            ]
           ],
           "sequentialminus": [
            [
             0,
             "#440154"
            ],
            [
             0.1111111111111111,
             "#482878"
            ],
            [
             0.2222222222222222,
             "#3e4989"
            ],
            [
             0.3333333333333333,
             "#31688e"
            ],
            [
             0.4444444444444444,
             "#26828e"
            ],
            [
             0.5555555555555556,
             "#1f9e89"
            ],
            [
             0.6666666666666666,
             "#35b779"
            ],
            [
             0.7777777777777778,
             "#6ece58"
            ],
            [
             0.8888888888888888,
             "#b5de2b"
            ],
            [
             1,
             "#fde725"
            ]
           ]
          },
          "colorway": [
           "#1F77B4",
           "#FF7F0E",
           "#2CA02C",
           "#D62728",
           "#9467BD",
           "#8C564B",
           "#E377C2",
           "#7F7F7F",
           "#BCBD22",
           "#17BECF"
          ],
          "font": {
           "color": "rgb(36,36,36)"
          },
          "geo": {
           "bgcolor": "white",
           "lakecolor": "white",
           "landcolor": "white",
           "showlakes": true,
           "showland": true,
           "subunitcolor": "white"
          },
          "hoverlabel": {
           "align": "left"
          },
          "hovermode": "closest",
          "mapbox": {
           "style": "light"
          },
          "paper_bgcolor": "white",
          "plot_bgcolor": "white",
          "polar": {
           "angularaxis": {
            "gridcolor": "rgb(232,232,232)",
            "linecolor": "rgb(36,36,36)",
            "showgrid": false,
            "showline": true,
            "ticks": "outside"
           },
           "bgcolor": "white",
           "radialaxis": {
            "gridcolor": "rgb(232,232,232)",
            "linecolor": "rgb(36,36,36)",
            "showgrid": false,
            "showline": true,
            "ticks": "outside"
           }
          },
          "scene": {
           "xaxis": {
            "backgroundcolor": "white",
            "gridcolor": "rgb(232,232,232)",
            "gridwidth": 2,
            "linecolor": "rgb(36,36,36)",
            "showbackground": true,
            "showgrid": false,
            "showline": true,
            "ticks": "outside",
            "zeroline": false,
            "zerolinecolor": "rgb(36,36,36)"
           },
           "yaxis": {
            "backgroundcolor": "white",
            "gridcolor": "rgb(232,232,232)",
            "gridwidth": 2,
            "linecolor": "rgb(36,36,36)",
            "showbackground": true,
            "showgrid": false,
            "showline": true,
            "ticks": "outside",
            "zeroline": false,
            "zerolinecolor": "rgb(36,36,36)"
           },
           "zaxis": {
            "backgroundcolor": "white",
            "gridcolor": "rgb(232,232,232)",
            "gridwidth": 2,
            "linecolor": "rgb(36,36,36)",
            "showbackground": true,
            "showgrid": false,
            "showline": true,
            "ticks": "outside",
            "zeroline": false,
            "zerolinecolor": "rgb(36,36,36)"
           }
          },
          "shapedefaults": {
           "fillcolor": "black",
           "line": {
            "width": 0
           },
           "opacity": 0.3
          },
          "ternary": {
           "aaxis": {
            "gridcolor": "rgb(232,232,232)",
            "linecolor": "rgb(36,36,36)",
            "showgrid": false,
            "showline": true,
            "ticks": "outside"
           },
           "baxis": {
            "gridcolor": "rgb(232,232,232)",
            "linecolor": "rgb(36,36,36)",
            "showgrid": false,
            "showline": true,
            "ticks": "outside"
           },
           "bgcolor": "white",
           "caxis": {
            "gridcolor": "rgb(232,232,232)",
            "linecolor": "rgb(36,36,36)",
            "showgrid": false,
            "showline": true,
            "ticks": "outside"
           }
          },
          "title": {
           "x": 0.05
          },
          "xaxis": {
           "automargin": true,
           "gridcolor": "rgb(232,232,232)",
           "linecolor": "rgb(36,36,36)",
           "showgrid": false,
           "showline": true,
           "ticks": "outside",
           "title": {
            "standoff": 15
           },
           "zeroline": false,
           "zerolinecolor": "rgb(36,36,36)"
          },
          "yaxis": {
           "automargin": true,
           "gridcolor": "rgb(232,232,232)",
           "linecolor": "rgb(36,36,36)",
           "showgrid": false,
           "showline": true,
           "ticks": "outside",
           "title": {
            "standoff": 15
           },
           "zeroline": false,
           "zerolinecolor": "rgb(36,36,36)"
          }
         }
        },
        "title": {
         "font": {
          "color": "Black",
          "size": 22
         },
         "text": "<b>Topic Probability Distribution</b>",
         "x": 0.5,
         "xanchor": "center",
         "y": 0.95,
         "yanchor": "top"
        },
        "width": 800,
        "xaxis": {
         "title": {
          "text": "Probability"
         }
        }
       }
      },
      "text/html": [
       "<div>                        <script type=\"text/javascript\">window.PlotlyConfig = {MathJaxConfig: 'local'};</script>\n",
       "        <script charset=\"utf-8\" src=\"https://cdn.plot.ly/plotly-2.29.1.min.js\"></script>                <div id=\"62297058-e1d3-4568-bd40-7f3bd1b15398\" class=\"plotly-graph-div\" style=\"height:600px; width:800px;\"></div>            <script type=\"text/javascript\">                                    window.PLOTLYENV=window.PLOTLYENV || {};                                    if (document.getElementById(\"62297058-e1d3-4568-bd40-7f3bd1b15398\")) {                    Plotly.newPlot(                        \"62297058-e1d3-4568-bd40-7f3bd1b15398\",                        [{\"marker\":{\"color\":\"#C8D2D7\",\"line\":{\"color\":\"#6E8484\",\"width\":1}},\"orientation\":\"h\",\"x\":[0.17908442727060772,0.05169965733714621,0.08011432576480919,0.0337564307861664,0.075475998139297,0.38987960186115383,0.05226168624539661,0.13772787259542305],\"y\":[\"\\u003cb\\u003eTopic 0\\u003c\\u002fb\\u003e: the_of_and_to_jurassic\",\"\\u003cb\\u003eTopic 1\\u003c\\u002fb\\u003e: news_you_to_the_fox\",\"\\u003cb\\u003eTopic 2\\u003c\\u002fb\\u003e: the_of_stars_gaia_astero...\",\"\\u003cb\\u003eTopic 3\\u003c\\u002fb\\u003e: was_the_angels_angeles_h...\",\"\\u003cb\\u003eTopic 4\\u003c\\u002fb\\u003e: ozzy_his_the_on_to\",\"\\u003cb\\u003eTopic 5\\u003c\\u002fb\\u003e: eqs_the_as_to_is\",\"\\u003cb\\u003eTopic 6\\u003c\\u002fb\\u003e: looney_to_and_when_going\",\"\\u003cb\\u003eTopic 7\\u003c\\u002fb\\u003e: the_games_game_of_in\"],\"type\":\"bar\"}],                        {\"template\":{\"data\":{\"barpolar\":[{\"marker\":{\"line\":{\"color\":\"white\",\"width\":0.5},\"pattern\":{\"fillmode\":\"overlay\",\"size\":10,\"solidity\":0.2}},\"type\":\"barpolar\"}],\"bar\":[{\"error_x\":{\"color\":\"rgb(36,36,36)\"},\"error_y\":{\"color\":\"rgb(36,36,36)\"},\"marker\":{\"line\":{\"color\":\"white\",\"width\":0.5},\"pattern\":{\"fillmode\":\"overlay\",\"size\":10,\"solidity\":0.2}},\"type\":\"bar\"}],\"carpet\":[{\"aaxis\":{\"endlinecolor\":\"rgb(36,36,36)\",\"gridcolor\":\"white\",\"linecolor\":\"white\",\"minorgridcolor\":\"white\",\"startlinecolor\":\"rgb(36,36,36)\"},\"baxis\":{\"endlinecolor\":\"rgb(36,36,36)\",\"gridcolor\":\"white\",\"linecolor\":\"white\",\"minorgridcolor\":\"white\",\"startlinecolor\":\"rgb(36,36,36)\"},\"type\":\"carpet\"}],\"choropleth\":[{\"colorbar\":{\"outlinewidth\":1,\"tickcolor\":\"rgb(36,36,36)\",\"ticks\":\"outside\"},\"type\":\"choropleth\"}],\"contourcarpet\":[{\"colorbar\":{\"outlinewidth\":1,\"tickcolor\":\"rgb(36,36,36)\",\"ticks\":\"outside\"},\"type\":\"contourcarpet\"}],\"contour\":[{\"colorbar\":{\"outlinewidth\":1,\"tickcolor\":\"rgb(36,36,36)\",\"ticks\":\"outside\"},\"colorscale\":[[0.0,\"#440154\"],[0.1111111111111111,\"#482878\"],[0.2222222222222222,\"#3e4989\"],[0.3333333333333333,\"#31688e\"],[0.4444444444444444,\"#26828e\"],[0.5555555555555556,\"#1f9e89\"],[0.6666666666666666,\"#35b779\"],[0.7777777777777778,\"#6ece58\"],[0.8888888888888888,\"#b5de2b\"],[1.0,\"#fde725\"]],\"type\":\"contour\"}],\"heatmapgl\":[{\"colorbar\":{\"outlinewidth\":1,\"tickcolor\":\"rgb(36,36,36)\",\"ticks\":\"outside\"},\"colorscale\":[[0.0,\"#440154\"],[0.1111111111111111,\"#482878\"],[0.2222222222222222,\"#3e4989\"],[0.3333333333333333,\"#31688e\"],[0.4444444444444444,\"#26828e\"],[0.5555555555555556,\"#1f9e89\"],[0.6666666666666666,\"#35b779\"],[0.7777777777777778,\"#6ece58\"],[0.8888888888888888,\"#b5de2b\"],[1.0,\"#fde725\"]],\"type\":\"heatmapgl\"}],\"heatmap\":[{\"colorbar\":{\"outlinewidth\":1,\"tickcolor\":\"rgb(36,36,36)\",\"ticks\":\"outside\"},\"colorscale\":[[0.0,\"#440154\"],[0.1111111111111111,\"#482878\"],[0.2222222222222222,\"#3e4989\"],[0.3333333333333333,\"#31688e\"],[0.4444444444444444,\"#26828e\"],[0.5555555555555556,\"#1f9e89\"],[0.6666666666666666,\"#35b779\"],[0.7777777777777778,\"#6ece58\"],[0.8888888888888888,\"#b5de2b\"],[1.0,\"#fde725\"]],\"type\":\"heatmap\"}],\"histogram2dcontour\":[{\"colorbar\":{\"outlinewidth\":1,\"tickcolor\":\"rgb(36,36,36)\",\"ticks\":\"outside\"},\"colorscale\":[[0.0,\"#440154\"],[0.1111111111111111,\"#482878\"],[0.2222222222222222,\"#3e4989\"],[0.3333333333333333,\"#31688e\"],[0.4444444444444444,\"#26828e\"],[0.5555555555555556,\"#1f9e89\"],[0.6666666666666666,\"#35b779\"],[0.7777777777777778,\"#6ece58\"],[0.8888888888888888,\"#b5de2b\"],[1.0,\"#fde725\"]],\"type\":\"histogram2dcontour\"}],\"histogram2d\":[{\"colorbar\":{\"outlinewidth\":1,\"tickcolor\":\"rgb(36,36,36)\",\"ticks\":\"outside\"},\"colorscale\":[[0.0,\"#440154\"],[0.1111111111111111,\"#482878\"],[0.2222222222222222,\"#3e4989\"],[0.3333333333333333,\"#31688e\"],[0.4444444444444444,\"#26828e\"],[0.5555555555555556,\"#1f9e89\"],[0.6666666666666666,\"#35b779\"],[0.7777777777777778,\"#6ece58\"],[0.8888888888888888,\"#b5de2b\"],[1.0,\"#fde725\"]],\"type\":\"histogram2d\"}],\"histogram\":[{\"marker\":{\"line\":{\"color\":\"white\",\"width\":0.6}},\"type\":\"histogram\"}],\"mesh3d\":[{\"colorbar\":{\"outlinewidth\":1,\"tickcolor\":\"rgb(36,36,36)\",\"ticks\":\"outside\"},\"type\":\"mesh3d\"}],\"parcoords\":[{\"line\":{\"colorbar\":{\"outlinewidth\":1,\"tickcolor\":\"rgb(36,36,36)\",\"ticks\":\"outside\"}},\"type\":\"parcoords\"}],\"pie\":[{\"automargin\":true,\"type\":\"pie\"}],\"scatter3d\":[{\"line\":{\"colorbar\":{\"outlinewidth\":1,\"tickcolor\":\"rgb(36,36,36)\",\"ticks\":\"outside\"}},\"marker\":{\"colorbar\":{\"outlinewidth\":1,\"tickcolor\":\"rgb(36,36,36)\",\"ticks\":\"outside\"}},\"type\":\"scatter3d\"}],\"scattercarpet\":[{\"marker\":{\"colorbar\":{\"outlinewidth\":1,\"tickcolor\":\"rgb(36,36,36)\",\"ticks\":\"outside\"}},\"type\":\"scattercarpet\"}],\"scattergeo\":[{\"marker\":{\"colorbar\":{\"outlinewidth\":1,\"tickcolor\":\"rgb(36,36,36)\",\"ticks\":\"outside\"}},\"type\":\"scattergeo\"}],\"scattergl\":[{\"marker\":{\"colorbar\":{\"outlinewidth\":1,\"tickcolor\":\"rgb(36,36,36)\",\"ticks\":\"outside\"}},\"type\":\"scattergl\"}],\"scattermapbox\":[{\"marker\":{\"colorbar\":{\"outlinewidth\":1,\"tickcolor\":\"rgb(36,36,36)\",\"ticks\":\"outside\"}},\"type\":\"scattermapbox\"}],\"scatterpolargl\":[{\"marker\":{\"colorbar\":{\"outlinewidth\":1,\"tickcolor\":\"rgb(36,36,36)\",\"ticks\":\"outside\"}},\"type\":\"scatterpolargl\"}],\"scatterpolar\":[{\"marker\":{\"colorbar\":{\"outlinewidth\":1,\"tickcolor\":\"rgb(36,36,36)\",\"ticks\":\"outside\"}},\"type\":\"scatterpolar\"}],\"scatter\":[{\"fillpattern\":{\"fillmode\":\"overlay\",\"size\":10,\"solidity\":0.2},\"type\":\"scatter\"}],\"scatterternary\":[{\"marker\":{\"colorbar\":{\"outlinewidth\":1,\"tickcolor\":\"rgb(36,36,36)\",\"ticks\":\"outside\"}},\"type\":\"scatterternary\"}],\"surface\":[{\"colorbar\":{\"outlinewidth\":1,\"tickcolor\":\"rgb(36,36,36)\",\"ticks\":\"outside\"},\"colorscale\":[[0.0,\"#440154\"],[0.1111111111111111,\"#482878\"],[0.2222222222222222,\"#3e4989\"],[0.3333333333333333,\"#31688e\"],[0.4444444444444444,\"#26828e\"],[0.5555555555555556,\"#1f9e89\"],[0.6666666666666666,\"#35b779\"],[0.7777777777777778,\"#6ece58\"],[0.8888888888888888,\"#b5de2b\"],[1.0,\"#fde725\"]],\"type\":\"surface\"}],\"table\":[{\"cells\":{\"fill\":{\"color\":\"rgb(237,237,237)\"},\"line\":{\"color\":\"white\"}},\"header\":{\"fill\":{\"color\":\"rgb(217,217,217)\"},\"line\":{\"color\":\"white\"}},\"type\":\"table\"}]},\"layout\":{\"annotationdefaults\":{\"arrowhead\":0,\"arrowwidth\":1},\"autotypenumbers\":\"strict\",\"coloraxis\":{\"colorbar\":{\"outlinewidth\":1,\"tickcolor\":\"rgb(36,36,36)\",\"ticks\":\"outside\"}},\"colorscale\":{\"diverging\":[[0.0,\"rgb(103,0,31)\"],[0.1,\"rgb(178,24,43)\"],[0.2,\"rgb(214,96,77)\"],[0.3,\"rgb(244,165,130)\"],[0.4,\"rgb(253,219,199)\"],[0.5,\"rgb(247,247,247)\"],[0.6,\"rgb(209,229,240)\"],[0.7,\"rgb(146,197,222)\"],[0.8,\"rgb(67,147,195)\"],[0.9,\"rgb(33,102,172)\"],[1.0,\"rgb(5,48,97)\"]],\"sequential\":[[0.0,\"#440154\"],[0.1111111111111111,\"#482878\"],[0.2222222222222222,\"#3e4989\"],[0.3333333333333333,\"#31688e\"],[0.4444444444444444,\"#26828e\"],[0.5555555555555556,\"#1f9e89\"],[0.6666666666666666,\"#35b779\"],[0.7777777777777778,\"#6ece58\"],[0.8888888888888888,\"#b5de2b\"],[1.0,\"#fde725\"]],\"sequentialminus\":[[0.0,\"#440154\"],[0.1111111111111111,\"#482878\"],[0.2222222222222222,\"#3e4989\"],[0.3333333333333333,\"#31688e\"],[0.4444444444444444,\"#26828e\"],[0.5555555555555556,\"#1f9e89\"],[0.6666666666666666,\"#35b779\"],[0.7777777777777778,\"#6ece58\"],[0.8888888888888888,\"#b5de2b\"],[1.0,\"#fde725\"]]},\"colorway\":[\"#1F77B4\",\"#FF7F0E\",\"#2CA02C\",\"#D62728\",\"#9467BD\",\"#8C564B\",\"#E377C2\",\"#7F7F7F\",\"#BCBD22\",\"#17BECF\"],\"font\":{\"color\":\"rgb(36,36,36)\"},\"geo\":{\"bgcolor\":\"white\",\"lakecolor\":\"white\",\"landcolor\":\"white\",\"showlakes\":true,\"showland\":true,\"subunitcolor\":\"white\"},\"hoverlabel\":{\"align\":\"left\"},\"hovermode\":\"closest\",\"mapbox\":{\"style\":\"light\"},\"paper_bgcolor\":\"white\",\"plot_bgcolor\":\"white\",\"polar\":{\"angularaxis\":{\"gridcolor\":\"rgb(232,232,232)\",\"linecolor\":\"rgb(36,36,36)\",\"showgrid\":false,\"showline\":true,\"ticks\":\"outside\"},\"bgcolor\":\"white\",\"radialaxis\":{\"gridcolor\":\"rgb(232,232,232)\",\"linecolor\":\"rgb(36,36,36)\",\"showgrid\":false,\"showline\":true,\"ticks\":\"outside\"}},\"scene\":{\"xaxis\":{\"backgroundcolor\":\"white\",\"gridcolor\":\"rgb(232,232,232)\",\"gridwidth\":2,\"linecolor\":\"rgb(36,36,36)\",\"showbackground\":true,\"showgrid\":false,\"showline\":true,\"ticks\":\"outside\",\"zeroline\":false,\"zerolinecolor\":\"rgb(36,36,36)\"},\"yaxis\":{\"backgroundcolor\":\"white\",\"gridcolor\":\"rgb(232,232,232)\",\"gridwidth\":2,\"linecolor\":\"rgb(36,36,36)\",\"showbackground\":true,\"showgrid\":false,\"showline\":true,\"ticks\":\"outside\",\"zeroline\":false,\"zerolinecolor\":\"rgb(36,36,36)\"},\"zaxis\":{\"backgroundcolor\":\"white\",\"gridcolor\":\"rgb(232,232,232)\",\"gridwidth\":2,\"linecolor\":\"rgb(36,36,36)\",\"showbackground\":true,\"showgrid\":false,\"showline\":true,\"ticks\":\"outside\",\"zeroline\":false,\"zerolinecolor\":\"rgb(36,36,36)\"}},\"shapedefaults\":{\"fillcolor\":\"black\",\"line\":{\"width\":0},\"opacity\":0.3},\"ternary\":{\"aaxis\":{\"gridcolor\":\"rgb(232,232,232)\",\"linecolor\":\"rgb(36,36,36)\",\"showgrid\":false,\"showline\":true,\"ticks\":\"outside\"},\"baxis\":{\"gridcolor\":\"rgb(232,232,232)\",\"linecolor\":\"rgb(36,36,36)\",\"showgrid\":false,\"showline\":true,\"ticks\":\"outside\"},\"bgcolor\":\"white\",\"caxis\":{\"gridcolor\":\"rgb(232,232,232)\",\"linecolor\":\"rgb(36,36,36)\",\"showgrid\":false,\"showline\":true,\"ticks\":\"outside\"}},\"title\":{\"x\":0.05},\"xaxis\":{\"automargin\":true,\"gridcolor\":\"rgb(232,232,232)\",\"linecolor\":\"rgb(36,36,36)\",\"showgrid\":false,\"showline\":true,\"ticks\":\"outside\",\"title\":{\"standoff\":15},\"zeroline\":false,\"zerolinecolor\":\"rgb(36,36,36)\"},\"yaxis\":{\"automargin\":true,\"gridcolor\":\"rgb(232,232,232)\",\"linecolor\":\"rgb(36,36,36)\",\"showgrid\":false,\"showline\":true,\"ticks\":\"outside\",\"title\":{\"standoff\":15},\"zeroline\":false,\"zerolinecolor\":\"rgb(36,36,36)\"}}},\"title\":{\"font\":{\"size\":22,\"color\":\"Black\"},\"text\":\"\\u003cb\\u003eTopic Probability Distribution\\u003c\\u002fb\\u003e\",\"y\":0.95,\"x\":0.5,\"xanchor\":\"center\",\"yanchor\":\"top\"},\"hoverlabel\":{\"font\":{\"size\":16,\"family\":\"Rockwell\"},\"bgcolor\":\"white\"},\"xaxis\":{\"title\":{\"text\":\"Probability\"}},\"width\":800,\"height\":600},                        {\"responsive\": true}                    )                };                            </script>        </div>"
      ],
      "text/plain": [
       "Figure({\n",
       "    'data': [{'marker': {'color': '#C8D2D7', 'line': {'color': '#6E8484', 'width': 1}},\n",
       "              'orientation': 'h',\n",
       "              'type': 'bar',\n",
       "              'x': [0.17908442727060772, 0.05169965733714621, 0.08011432576480919,\n",
       "                    0.0337564307861664, 0.075475998139297, 0.38987960186115383,\n",
       "                    0.05226168624539661, 0.13772787259542305],\n",
       "              'y': [<b>Topic 0</b>: the_of_and_to_jurassic, <b>Topic 1</b>:\n",
       "                    news_you_to_the_fox, <b>Topic 2</b>:\n",
       "                    the_of_stars_gaia_astero..., <b>Topic 3</b>:\n",
       "                    was_the_angels_angeles_h..., <b>Topic 4</b>:\n",
       "                    ozzy_his_the_on_to, <b>Topic 5</b>: eqs_the_as_to_is, <b>Topic\n",
       "                    6</b>: looney_to_and_when_going, <b>Topic 7</b>:\n",
       "                    the_games_game_of_in]}],\n",
       "    'layout': {'height': 600,\n",
       "               'hoverlabel': {'bgcolor': 'white', 'font': {'family': 'Rockwell', 'size': 16}},\n",
       "               'template': '...',\n",
       "               'title': {'font': {'color': 'Black', 'size': 22},\n",
       "                         'text': '<b>Topic Probability Distribution</b>',\n",
       "                         'x': 0.5,\n",
       "                         'xanchor': 'center',\n",
       "                         'y': 0.95,\n",
       "                         'yanchor': 'top'},\n",
       "               'width': 800,\n",
       "               'xaxis': {'title': {'text': 'Probability'}}}\n",
       "})"
      ]
     },
     "execution_count": 41,
     "metadata": {},
     "output_type": "execute_result"
    }
   ],
   "source": [
    "topic_model.visualize_distribution(topic_distr[1])"
   ]
  }
 ],
 "metadata": {
  "kernelspec": {
   "display_name": ".venv",
   "language": "python",
   "name": "python3"
  },
  "language_info": {
   "codemirror_mode": {
    "name": "ipython",
    "version": 3
   },
   "file_extension": ".py",
   "mimetype": "text/x-python",
   "name": "python",
   "nbconvert_exporter": "python",
   "pygments_lexer": "ipython3",
   "version": "3.9.6"
  }
 },
 "nbformat": 4,
 "nbformat_minor": 2
}
