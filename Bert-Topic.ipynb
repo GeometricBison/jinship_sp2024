{
 "cells": [
  {
   "cell_type": "code",
   "execution_count": 3,
   "metadata": {},
   "outputs": [
    {
     "name": "stdout",
     "output_type": "stream",
     "text": [
      "Requirement already satisfied: datasets in ./.venv/lib/python3.9/site-packages (2.17.1)\n",
      "Requirement already satisfied: filelock in ./.venv/lib/python3.9/site-packages (from datasets) (3.13.1)\n",
      "Requirement already satisfied: numpy>=1.17 in ./.venv/lib/python3.9/site-packages (from datasets) (1.26.4)\n",
      "Requirement already satisfied: pyarrow>=12.0.0 in ./.venv/lib/python3.9/site-packages (from datasets) (15.0.0)\n",
      "Requirement already satisfied: pyarrow-hotfix in ./.venv/lib/python3.9/site-packages (from datasets) (0.6)\n",
      "Requirement already satisfied: dill<0.3.9,>=0.3.0 in ./.venv/lib/python3.9/site-packages (from datasets) (0.3.8)\n",
      "Requirement already satisfied: pandas in ./.venv/lib/python3.9/site-packages (from datasets) (2.2.1)\n",
      "Requirement already satisfied: requests>=2.19.0 in ./.venv/lib/python3.9/site-packages (from datasets) (2.31.0)\n",
      "Requirement already satisfied: tqdm>=4.62.1 in ./.venv/lib/python3.9/site-packages (from datasets) (4.66.2)\n",
      "Requirement already satisfied: xxhash in ./.venv/lib/python3.9/site-packages (from datasets) (3.4.1)\n",
      "Requirement already satisfied: multiprocess in ./.venv/lib/python3.9/site-packages (from datasets) (0.70.16)\n",
      "Requirement already satisfied: fsspec<=2023.10.0,>=2023.1.0 in ./.venv/lib/python3.9/site-packages (from fsspec[http]<=2023.10.0,>=2023.1.0->datasets) (2023.10.0)\n",
      "Requirement already satisfied: aiohttp in ./.venv/lib/python3.9/site-packages (from datasets) (3.9.3)\n",
      "Requirement already satisfied: huggingface-hub>=0.19.4 in ./.venv/lib/python3.9/site-packages (from datasets) (0.20.3)\n",
      "Requirement already satisfied: packaging in ./.venv/lib/python3.9/site-packages (from datasets) (23.2)\n",
      "Requirement already satisfied: pyyaml>=5.1 in ./.venv/lib/python3.9/site-packages (from datasets) (6.0.1)\n",
      "Requirement already satisfied: aiosignal>=1.1.2 in ./.venv/lib/python3.9/site-packages (from aiohttp->datasets) (1.3.1)\n",
      "Requirement already satisfied: attrs>=17.3.0 in ./.venv/lib/python3.9/site-packages (from aiohttp->datasets) (23.2.0)\n",
      "Requirement already satisfied: frozenlist>=1.1.1 in ./.venv/lib/python3.9/site-packages (from aiohttp->datasets) (1.4.1)\n",
      "Requirement already satisfied: multidict<7.0,>=4.5 in ./.venv/lib/python3.9/site-packages (from aiohttp->datasets) (6.0.5)\n",
      "Requirement already satisfied: yarl<2.0,>=1.0 in ./.venv/lib/python3.9/site-packages (from aiohttp->datasets) (1.9.4)\n",
      "Requirement already satisfied: async-timeout<5.0,>=4.0 in ./.venv/lib/python3.9/site-packages (from aiohttp->datasets) (4.0.3)\n",
      "Requirement already satisfied: typing-extensions>=3.7.4.3 in ./.venv/lib/python3.9/site-packages (from huggingface-hub>=0.19.4->datasets) (4.10.0)\n",
      "Requirement already satisfied: charset-normalizer<4,>=2 in ./.venv/lib/python3.9/site-packages (from requests>=2.19.0->datasets) (3.3.2)\n",
      "Requirement already satisfied: idna<4,>=2.5 in ./.venv/lib/python3.9/site-packages (from requests>=2.19.0->datasets) (3.6)\n",
      "Requirement already satisfied: urllib3<3,>=1.21.1 in ./.venv/lib/python3.9/site-packages (from requests>=2.19.0->datasets) (2.2.1)\n",
      "Requirement already satisfied: certifi>=2017.4.17 in ./.venv/lib/python3.9/site-packages (from requests>=2.19.0->datasets) (2024.2.2)\n",
      "Requirement already satisfied: python-dateutil>=2.8.2 in ./.venv/lib/python3.9/site-packages (from pandas->datasets) (2.8.2)\n",
      "Requirement already satisfied: pytz>=2020.1 in ./.venv/lib/python3.9/site-packages (from pandas->datasets) (2024.1)\n",
      "Requirement already satisfied: tzdata>=2022.7 in ./.venv/lib/python3.9/site-packages (from pandas->datasets) (2024.1)\n",
      "Requirement already satisfied: six>=1.5 in ./.venv/lib/python3.9/site-packages (from python-dateutil>=2.8.2->pandas->datasets) (1.16.0)\n",
      "Requirement already satisfied: bertopic in ./.venv/lib/python3.9/site-packages (0.16.0)\n",
      "Requirement already satisfied: numpy>=1.20.0 in ./.venv/lib/python3.9/site-packages (from bertopic) (1.26.4)\n",
      "Requirement already satisfied: hdbscan>=0.8.29 in ./.venv/lib/python3.9/site-packages (from bertopic) (0.8.33)\n",
      "Requirement already satisfied: umap-learn>=0.5.0 in ./.venv/lib/python3.9/site-packages (from bertopic) (0.5.5)\n",
      "Requirement already satisfied: pandas>=1.1.5 in ./.venv/lib/python3.9/site-packages (from bertopic) (2.2.1)\n",
      "Requirement already satisfied: scikit-learn>=0.22.2.post1 in ./.venv/lib/python3.9/site-packages (from bertopic) (1.4.1.post1)\n",
      "Requirement already satisfied: tqdm>=4.41.1 in ./.venv/lib/python3.9/site-packages (from bertopic) (4.66.2)\n",
      "Requirement already satisfied: sentence-transformers>=0.4.1 in ./.venv/lib/python3.9/site-packages (from bertopic) (2.4.0)\n",
      "Requirement already satisfied: plotly>=4.7.0 in ./.venv/lib/python3.9/site-packages (from bertopic) (5.19.0)\n",
      "Requirement already satisfied: cython<3,>=0.27 in ./.venv/lib/python3.9/site-packages (from hdbscan>=0.8.29->bertopic) (0.29.37)\n",
      "Requirement already satisfied: scipy>=1.0 in ./.venv/lib/python3.9/site-packages (from hdbscan>=0.8.29->bertopic) (1.12.0)\n",
      "Requirement already satisfied: joblib>=1.0 in ./.venv/lib/python3.9/site-packages (from hdbscan>=0.8.29->bertopic) (1.3.2)\n",
      "Requirement already satisfied: python-dateutil>=2.8.2 in ./.venv/lib/python3.9/site-packages (from pandas>=1.1.5->bertopic) (2.8.2)\n",
      "Requirement already satisfied: pytz>=2020.1 in ./.venv/lib/python3.9/site-packages (from pandas>=1.1.5->bertopic) (2024.1)\n",
      "Requirement already satisfied: tzdata>=2022.7 in ./.venv/lib/python3.9/site-packages (from pandas>=1.1.5->bertopic) (2024.1)\n",
      "Requirement already satisfied: tenacity>=6.2.0 in ./.venv/lib/python3.9/site-packages (from plotly>=4.7.0->bertopic) (8.2.3)\n",
      "Requirement already satisfied: packaging in ./.venv/lib/python3.9/site-packages (from plotly>=4.7.0->bertopic) (23.2)\n",
      "Requirement already satisfied: threadpoolctl>=2.0.0 in ./.venv/lib/python3.9/site-packages (from scikit-learn>=0.22.2.post1->bertopic) (3.3.0)\n",
      "Requirement already satisfied: transformers<5.0.0,>=4.32.0 in ./.venv/lib/python3.9/site-packages (from sentence-transformers>=0.4.1->bertopic) (4.38.1)\n",
      "Requirement already satisfied: torch>=1.11.0 in ./.venv/lib/python3.9/site-packages (from sentence-transformers>=0.4.1->bertopic) (2.2.1)\n",
      "Requirement already satisfied: huggingface-hub>=0.15.1 in ./.venv/lib/python3.9/site-packages (from sentence-transformers>=0.4.1->bertopic) (0.20.3)\n",
      "Requirement already satisfied: Pillow in ./.venv/lib/python3.9/site-packages (from sentence-transformers>=0.4.1->bertopic) (10.2.0)\n",
      "Requirement already satisfied: numba>=0.51.2 in ./.venv/lib/python3.9/site-packages (from umap-learn>=0.5.0->bertopic) (0.59.0)\n",
      "Requirement already satisfied: pynndescent>=0.5 in ./.venv/lib/python3.9/site-packages (from umap-learn>=0.5.0->bertopic) (0.5.11)\n",
      "Requirement already satisfied: filelock in ./.venv/lib/python3.9/site-packages (from huggingface-hub>=0.15.1->sentence-transformers>=0.4.1->bertopic) (3.13.1)\n",
      "Requirement already satisfied: fsspec>=2023.5.0 in ./.venv/lib/python3.9/site-packages (from huggingface-hub>=0.15.1->sentence-transformers>=0.4.1->bertopic) (2023.10.0)\n",
      "Requirement already satisfied: requests in ./.venv/lib/python3.9/site-packages (from huggingface-hub>=0.15.1->sentence-transformers>=0.4.1->bertopic) (2.31.0)\n",
      "Requirement already satisfied: pyyaml>=5.1 in ./.venv/lib/python3.9/site-packages (from huggingface-hub>=0.15.1->sentence-transformers>=0.4.1->bertopic) (6.0.1)\n",
      "Requirement already satisfied: typing-extensions>=3.7.4.3 in ./.venv/lib/python3.9/site-packages (from huggingface-hub>=0.15.1->sentence-transformers>=0.4.1->bertopic) (4.10.0)\n",
      "Requirement already satisfied: llvmlite<0.43,>=0.42.0dev0 in ./.venv/lib/python3.9/site-packages (from numba>=0.51.2->umap-learn>=0.5.0->bertopic) (0.42.0)\n",
      "Requirement already satisfied: six>=1.5 in ./.venv/lib/python3.9/site-packages (from python-dateutil>=2.8.2->pandas>=1.1.5->bertopic) (1.16.0)\n",
      "Requirement already satisfied: sympy in ./.venv/lib/python3.9/site-packages (from torch>=1.11.0->sentence-transformers>=0.4.1->bertopic) (1.12)\n",
      "Requirement already satisfied: networkx in ./.venv/lib/python3.9/site-packages (from torch>=1.11.0->sentence-transformers>=0.4.1->bertopic) (3.2.1)\n",
      "Requirement already satisfied: jinja2 in ./.venv/lib/python3.9/site-packages (from torch>=1.11.0->sentence-transformers>=0.4.1->bertopic) (3.1.3)\n",
      "Requirement already satisfied: regex!=2019.12.17 in ./.venv/lib/python3.9/site-packages (from transformers<5.0.0,>=4.32.0->sentence-transformers>=0.4.1->bertopic) (2023.12.25)\n",
      "Requirement already satisfied: tokenizers<0.19,>=0.14 in ./.venv/lib/python3.9/site-packages (from transformers<5.0.0,>=4.32.0->sentence-transformers>=0.4.1->bertopic) (0.15.2)\n",
      "Requirement already satisfied: safetensors>=0.4.1 in ./.venv/lib/python3.9/site-packages (from transformers<5.0.0,>=4.32.0->sentence-transformers>=0.4.1->bertopic) (0.4.2)\n",
      "Requirement already satisfied: MarkupSafe>=2.0 in ./.venv/lib/python3.9/site-packages (from jinja2->torch>=1.11.0->sentence-transformers>=0.4.1->bertopic) (2.1.5)\n",
      "Requirement already satisfied: charset-normalizer<4,>=2 in ./.venv/lib/python3.9/site-packages (from requests->huggingface-hub>=0.15.1->sentence-transformers>=0.4.1->bertopic) (3.3.2)\n",
      "Requirement already satisfied: idna<4,>=2.5 in ./.venv/lib/python3.9/site-packages (from requests->huggingface-hub>=0.15.1->sentence-transformers>=0.4.1->bertopic) (3.6)\n",
      "Requirement already satisfied: urllib3<3,>=1.21.1 in ./.venv/lib/python3.9/site-packages (from requests->huggingface-hub>=0.15.1->sentence-transformers>=0.4.1->bertopic) (2.2.1)\n",
      "Requirement already satisfied: certifi>=2017.4.17 in ./.venv/lib/python3.9/site-packages (from requests->huggingface-hub>=0.15.1->sentence-transformers>=0.4.1->bertopic) (2024.2.2)\n",
      "Requirement already satisfied: mpmath>=0.19 in ./.venv/lib/python3.9/site-packages (from sympy->torch>=1.11.0->sentence-transformers>=0.4.1->bertopic) (1.3.0)\n",
      "Requirement already satisfied: langchain in ./.venv/lib/python3.9/site-packages (0.1.9)\n",
      "Requirement already satisfied: PyYAML>=5.3 in ./.venv/lib/python3.9/site-packages (from langchain) (6.0.1)\n",
      "Requirement already satisfied: SQLAlchemy<3,>=1.4 in ./.venv/lib/python3.9/site-packages (from langchain) (2.0.27)\n",
      "Requirement already satisfied: aiohttp<4.0.0,>=3.8.3 in ./.venv/lib/python3.9/site-packages (from langchain) (3.9.3)\n",
      "Requirement already satisfied: async-timeout<5.0.0,>=4.0.0 in ./.venv/lib/python3.9/site-packages (from langchain) (4.0.3)\n",
      "Requirement already satisfied: dataclasses-json<0.7,>=0.5.7 in ./.venv/lib/python3.9/site-packages (from langchain) (0.6.4)\n",
      "Requirement already satisfied: jsonpatch<2.0,>=1.33 in ./.venv/lib/python3.9/site-packages (from langchain) (1.33)\n",
      "Requirement already satisfied: langchain-community<0.1,>=0.0.21 in ./.venv/lib/python3.9/site-packages (from langchain) (0.0.24)\n",
      "Requirement already satisfied: langchain-core<0.2,>=0.1.26 in ./.venv/lib/python3.9/site-packages (from langchain) (0.1.27)\n",
      "Requirement already satisfied: langsmith<0.2.0,>=0.1.0 in ./.venv/lib/python3.9/site-packages (from langchain) (0.1.10)\n",
      "Requirement already satisfied: numpy<2,>=1 in ./.venv/lib/python3.9/site-packages (from langchain) (1.26.4)\n",
      "Requirement already satisfied: pydantic<3,>=1 in ./.venv/lib/python3.9/site-packages (from langchain) (2.6.2)\n",
      "Requirement already satisfied: requests<3,>=2 in ./.venv/lib/python3.9/site-packages (from langchain) (2.31.0)\n",
      "Requirement already satisfied: tenacity<9.0.0,>=8.1.0 in ./.venv/lib/python3.9/site-packages (from langchain) (8.2.3)\n",
      "Requirement already satisfied: aiosignal>=1.1.2 in ./.venv/lib/python3.9/site-packages (from aiohttp<4.0.0,>=3.8.3->langchain) (1.3.1)\n",
      "Requirement already satisfied: attrs>=17.3.0 in ./.venv/lib/python3.9/site-packages (from aiohttp<4.0.0,>=3.8.3->langchain) (23.2.0)\n",
      "Requirement already satisfied: frozenlist>=1.1.1 in ./.venv/lib/python3.9/site-packages (from aiohttp<4.0.0,>=3.8.3->langchain) (1.4.1)\n",
      "Requirement already satisfied: multidict<7.0,>=4.5 in ./.venv/lib/python3.9/site-packages (from aiohttp<4.0.0,>=3.8.3->langchain) (6.0.5)\n",
      "Requirement already satisfied: yarl<2.0,>=1.0 in ./.venv/lib/python3.9/site-packages (from aiohttp<4.0.0,>=3.8.3->langchain) (1.9.4)\n",
      "Requirement already satisfied: marshmallow<4.0.0,>=3.18.0 in ./.venv/lib/python3.9/site-packages (from dataclasses-json<0.7,>=0.5.7->langchain) (3.21.0)\n",
      "Requirement already satisfied: typing-inspect<1,>=0.4.0 in ./.venv/lib/python3.9/site-packages (from dataclasses-json<0.7,>=0.5.7->langchain) (0.9.0)\n",
      "Requirement already satisfied: jsonpointer>=1.9 in ./.venv/lib/python3.9/site-packages (from jsonpatch<2.0,>=1.33->langchain) (2.4)\n",
      "Requirement already satisfied: anyio<5,>=3 in ./.venv/lib/python3.9/site-packages (from langchain-core<0.2,>=0.1.26->langchain) (4.3.0)\n",
      "Requirement already satisfied: packaging<24.0,>=23.2 in ./.venv/lib/python3.9/site-packages (from langchain-core<0.2,>=0.1.26->langchain) (23.2)\n",
      "Requirement already satisfied: orjson<4.0.0,>=3.9.14 in ./.venv/lib/python3.9/site-packages (from langsmith<0.2.0,>=0.1.0->langchain) (3.9.15)\n",
      "Requirement already satisfied: annotated-types>=0.4.0 in ./.venv/lib/python3.9/site-packages (from pydantic<3,>=1->langchain) (0.6.0)\n",
      "Requirement already satisfied: pydantic-core==2.16.3 in ./.venv/lib/python3.9/site-packages (from pydantic<3,>=1->langchain) (2.16.3)\n",
      "Requirement already satisfied: typing-extensions>=4.6.1 in ./.venv/lib/python3.9/site-packages (from pydantic<3,>=1->langchain) (4.10.0)\n",
      "Requirement already satisfied: charset-normalizer<4,>=2 in ./.venv/lib/python3.9/site-packages (from requests<3,>=2->langchain) (3.3.2)\n",
      "Requirement already satisfied: idna<4,>=2.5 in ./.venv/lib/python3.9/site-packages (from requests<3,>=2->langchain) (3.6)\n",
      "Requirement already satisfied: urllib3<3,>=1.21.1 in ./.venv/lib/python3.9/site-packages (from requests<3,>=2->langchain) (2.2.1)\n",
      "Requirement already satisfied: certifi>=2017.4.17 in ./.venv/lib/python3.9/site-packages (from requests<3,>=2->langchain) (2024.2.2)\n",
      "Requirement already satisfied: sniffio>=1.1 in ./.venv/lib/python3.9/site-packages (from anyio<5,>=3->langchain-core<0.2,>=0.1.26->langchain) (1.3.1)\n",
      "Requirement already satisfied: exceptiongroup>=1.0.2 in ./.venv/lib/python3.9/site-packages (from anyio<5,>=3->langchain-core<0.2,>=0.1.26->langchain) (1.2.0)\n",
      "Requirement already satisfied: mypy-extensions>=0.3.0 in ./.venv/lib/python3.9/site-packages (from typing-inspect<1,>=0.4.0->dataclasses-json<0.7,>=0.5.7->langchain) (1.0.0)\n",
      "Requirement already satisfied: ctransformers in ./.venv/lib/python3.9/site-packages (0.2.27)\n",
      "Requirement already satisfied: huggingface-hub in ./.venv/lib/python3.9/site-packages (from ctransformers) (0.20.3)\n",
      "Requirement already satisfied: py-cpuinfo<10.0.0,>=9.0.0 in ./.venv/lib/python3.9/site-packages (from ctransformers) (9.0.0)\n",
      "Requirement already satisfied: filelock in ./.venv/lib/python3.9/site-packages (from huggingface-hub->ctransformers) (3.13.1)\n",
      "Requirement already satisfied: fsspec>=2023.5.0 in ./.venv/lib/python3.9/site-packages (from huggingface-hub->ctransformers) (2023.10.0)\n",
      "Requirement already satisfied: requests in ./.venv/lib/python3.9/site-packages (from huggingface-hub->ctransformers) (2.31.0)\n",
      "Requirement already satisfied: tqdm>=4.42.1 in ./.venv/lib/python3.9/site-packages (from huggingface-hub->ctransformers) (4.66.2)\n",
      "Requirement already satisfied: pyyaml>=5.1 in ./.venv/lib/python3.9/site-packages (from huggingface-hub->ctransformers) (6.0.1)\n",
      "Requirement already satisfied: typing-extensions>=3.7.4.3 in ./.venv/lib/python3.9/site-packages (from huggingface-hub->ctransformers) (4.10.0)\n",
      "Requirement already satisfied: packaging>=20.9 in ./.venv/lib/python3.9/site-packages (from huggingface-hub->ctransformers) (23.2)\n",
      "Requirement already satisfied: charset-normalizer<4,>=2 in ./.venv/lib/python3.9/site-packages (from requests->huggingface-hub->ctransformers) (3.3.2)\n",
      "Requirement already satisfied: idna<4,>=2.5 in ./.venv/lib/python3.9/site-packages (from requests->huggingface-hub->ctransformers) (3.6)\n",
      "Requirement already satisfied: urllib3<3,>=1.21.1 in ./.venv/lib/python3.9/site-packages (from requests->huggingface-hub->ctransformers) (2.2.1)\n",
      "Requirement already satisfied: certifi>=2017.4.17 in ./.venv/lib/python3.9/site-packages (from requests->huggingface-hub->ctransformers) (2024.2.2)\n",
      "Requirement already satisfied: nltk in ./.venv/lib/python3.9/site-packages (3.8.1)\n",
      "Requirement already satisfied: click in ./.venv/lib/python3.9/site-packages (from nltk) (8.1.7)\n",
      "Requirement already satisfied: joblib in ./.venv/lib/python3.9/site-packages (from nltk) (1.3.2)\n",
      "Requirement already satisfied: regex>=2021.8.3 in ./.venv/lib/python3.9/site-packages (from nltk) (2023.12.25)\n",
      "Requirement already satisfied: tqdm in ./.venv/lib/python3.9/site-packages (from nltk) (4.66.2)\n"
     ]
    }
   ],
   "source": [
    "!pip install datasets\n",
    "!pip install bertopic\n",
    "!pip install langchain\n",
    "!pip install ctransformers\n",
    "!pip install nltk"
   ]
  },
  {
   "cell_type": "markdown",
   "metadata": {},
   "source": [
    "# Pulled from Anish's Branch Bert Topic Modeling "
   ]
  },
  {
   "cell_type": "code",
   "execution_count": 20,
   "metadata": {},
   "outputs": [],
   "source": [
    "from datasets import load_dataset\n",
    "from bertopic import BERTopic\n",
    "from langchain.llms import CTransformers\n",
    "from langchain.prompts import PromptTemplate\n",
    "\n",
    "dataset = load_dataset(\"hugginglearners/netflix-shows\", split=\"train\")"
   ]
  },
  {
   "cell_type": "code",
   "execution_count": 5,
   "metadata": {},
   "outputs": [],
   "source": [
    "topic_model = BERTopic(nr_topics=20)\n",
    "topics, probabilities = topic_model.fit_transform(dataset['description'])"
   ]
  },
  {
   "cell_type": "code",
   "execution_count": 6,
   "metadata": {},
   "outputs": [
    {
     "data": {
      "text/html": [
       "<div>\n",
       "<style scoped>\n",
       "    .dataframe tbody tr th:only-of-type {\n",
       "        vertical-align: middle;\n",
       "    }\n",
       "\n",
       "    .dataframe tbody tr th {\n",
       "        vertical-align: top;\n",
       "    }\n",
       "\n",
       "    .dataframe thead th {\n",
       "        text-align: right;\n",
       "    }\n",
       "</style>\n",
       "<table border=\"1\" class=\"dataframe\">\n",
       "  <thead>\n",
       "    <tr style=\"text-align: right;\">\n",
       "      <th></th>\n",
       "      <th>Topic</th>\n",
       "      <th>Count</th>\n",
       "      <th>Name</th>\n",
       "      <th>Representation</th>\n",
       "      <th>Representative_Docs</th>\n",
       "    </tr>\n",
       "  </thead>\n",
       "  <tbody>\n",
       "    <tr>\n",
       "      <th>0</th>\n",
       "      <td>-1</td>\n",
       "      <td>4503</td>\n",
       "      <td>-1_to_the_and_of</td>\n",
       "      <td>[to, the, and, of, in, his, her, with, an, for]</td>\n",
       "      <td>[An ex-boxer falls in love with a blind woman ...</td>\n",
       "    </tr>\n",
       "    <tr>\n",
       "      <th>1</th>\n",
       "      <td>0</td>\n",
       "      <td>576</td>\n",
       "      <td>0_standup_and_comedian_comedy</td>\n",
       "      <td>[standup, and, comedian, comedy, in, special, ...</td>\n",
       "      <td>[Former \"Saturday Night Live\" star Rob Schneid...</td>\n",
       "    </tr>\n",
       "    <tr>\n",
       "      <th>2</th>\n",
       "      <td>1</td>\n",
       "      <td>550</td>\n",
       "      <td>1_of_the_to_in</td>\n",
       "      <td>[of, the, to, in, detective, murder, and, his,...</td>\n",
       "      <td>[A lawyer defends his childhood friend – and g...</td>\n",
       "    </tr>\n",
       "    <tr>\n",
       "      <th>3</th>\n",
       "      <td>2</td>\n",
       "      <td>327</td>\n",
       "      <td>2_and_the_christmas_to</td>\n",
       "      <td>[and, the, christmas, to, of, friends, with, o...</td>\n",
       "      <td>[An elite team of elves – and their furry fox ...</td>\n",
       "    </tr>\n",
       "    <tr>\n",
       "      <th>4</th>\n",
       "      <td>3</td>\n",
       "      <td>320</td>\n",
       "      <td>3_her_their_to_his</td>\n",
       "      <td>[her, their, to, his, and, family, when, fathe...</td>\n",
       "      <td>[Two brothers clash with their half-siblings w...</td>\n",
       "    </tr>\n",
       "    <tr>\n",
       "      <th>5</th>\n",
       "      <td>4</td>\n",
       "      <td>307</td>\n",
       "      <td>4_the_to_and_his</td>\n",
       "      <td>[the, to, and, his, of, bheem, rangers, in, ma...</td>\n",
       "      <td>[When Dholakpur’s princess is kidnapped, Bheem...</td>\n",
       "    </tr>\n",
       "    <tr>\n",
       "      <th>6</th>\n",
       "      <td>5</td>\n",
       "      <td>300</td>\n",
       "      <td>5_music_the_and_of</td>\n",
       "      <td>[music, the, and, of, this, band, documentary,...</td>\n",
       "      <td>[Featuring interviews, concert footage and beh...</td>\n",
       "    </tr>\n",
       "    <tr>\n",
       "      <th>7</th>\n",
       "      <td>6</td>\n",
       "      <td>259</td>\n",
       "      <td>6_school_high_student_and</td>\n",
       "      <td>[school, high, student, and, of, to, friends, ...</td>\n",
       "      <td>[The life of a seemingly ordinary high school ...</td>\n",
       "    </tr>\n",
       "    <tr>\n",
       "      <th>8</th>\n",
       "      <td>7</td>\n",
       "      <td>249</td>\n",
       "      <td>7_his_to_in_an</td>\n",
       "      <td>[his, to, in, an, and, the, of, when, he, by]</td>\n",
       "      <td>[A newspaper seller bemoans his lack of succes...</td>\n",
       "    </tr>\n",
       "    <tr>\n",
       "      <th>9</th>\n",
       "      <td>8</td>\n",
       "      <td>234</td>\n",
       "      <td>8_to_the_of_her</td>\n",
       "      <td>[to, the, of, her, by, in, and, an, when, home]</td>\n",
       "      <td>[Paranormal activity at a lush, abandoned prop...</td>\n",
       "    </tr>\n",
       "    <tr>\n",
       "      <th>10</th>\n",
       "      <td>9</td>\n",
       "      <td>224</td>\n",
       "      <td>9_the_soccer_of_and</td>\n",
       "      <td>[the, soccer, of, and, this, team, in, footbal...</td>\n",
       "      <td>[A former footballer tries to make it as a pla...</td>\n",
       "    </tr>\n",
       "    <tr>\n",
       "      <th>11</th>\n",
       "      <td>10</td>\n",
       "      <td>222</td>\n",
       "      <td>10_the_of_and_this</td>\n",
       "      <td>[the, of, and, this, to, earth, on, documentar...</td>\n",
       "      <td>[In this sequel to the Emmy-winning \"Planet Ea...</td>\n",
       "    </tr>\n",
       "    <tr>\n",
       "      <th>12</th>\n",
       "      <td>11</td>\n",
       "      <td>213</td>\n",
       "      <td>11_the_war_of_to</td>\n",
       "      <td>[the, war, of, to, agent, in, ii, terrorist, m...</td>\n",
       "      <td>[During World War II, British forces launch an...</td>\n",
       "    </tr>\n",
       "    <tr>\n",
       "      <th>13</th>\n",
       "      <td>12</td>\n",
       "      <td>156</td>\n",
       "      <td>12_their_couple_love_and</td>\n",
       "      <td>[their, couple, love, and, couples, to, but, e...</td>\n",
       "      <td>[A dating couple is forced to spend their firs...</td>\n",
       "    </tr>\n",
       "    <tr>\n",
       "      <th>14</th>\n",
       "      <td>13</td>\n",
       "      <td>119</td>\n",
       "      <td>13_chef_food_and_the</td>\n",
       "      <td>[chef, food, and, the, chefs, cooking, of, to,...</td>\n",
       "      <td>[A female food blogger is hired as a personal ...</td>\n",
       "    </tr>\n",
       "    <tr>\n",
       "      <th>15</th>\n",
       "      <td>14</td>\n",
       "      <td>78</td>\n",
       "      <td>14_drug_the_of_and</td>\n",
       "      <td>[drug, the, of, and, marijuana, in, pablo, coc...</td>\n",
       "      <td>[On the run from the police, an Arizona man cr...</td>\n",
       "    </tr>\n",
       "    <tr>\n",
       "      <th>16</th>\n",
       "      <td>15</td>\n",
       "      <td>74</td>\n",
       "      <td>15_doctor_patients_medical_hospital</td>\n",
       "      <td>[doctor, patients, medical, hospital, doctors,...</td>\n",
       "      <td>[Four doctors at New York's storied Lenox Hill...</td>\n",
       "    </tr>\n",
       "    <tr>\n",
       "      <th>17</th>\n",
       "      <td>16</td>\n",
       "      <td>48</td>\n",
       "      <td>16_shark_the_ocean_mermaid</td>\n",
       "      <td>[shark, the, ocean, mermaid, underwater, octon...</td>\n",
       "      <td>[Four years after the last deadly shark attack...</td>\n",
       "    </tr>\n",
       "    <tr>\n",
       "      <th>18</th>\n",
       "      <td>17</td>\n",
       "      <td>36</td>\n",
       "      <td>17_the_racing_cars_bus</td>\n",
       "      <td>[the, racing, cars, bus, and, train, ride, wit...</td>\n",
       "      <td>[Beep, beep – go, go! Buckle up for fun and ad...</td>\n",
       "    </tr>\n",
       "    <tr>\n",
       "      <th>19</th>\n",
       "      <td>18</td>\n",
       "      <td>12</td>\n",
       "      <td>18_missing_cryptic_report_husbands</td>\n",
       "      <td>[missing, cryptic, report, husbands, police, a...</td>\n",
       "      <td>[Multiple women report their husbands as missi...</td>\n",
       "    </tr>\n",
       "  </tbody>\n",
       "</table>\n",
       "</div>"
      ],
      "text/plain": [
       "    Topic  Count                                 Name  \\\n",
       "0      -1   4503                     -1_to_the_and_of   \n",
       "1       0    576        0_standup_and_comedian_comedy   \n",
       "2       1    550                       1_of_the_to_in   \n",
       "3       2    327               2_and_the_christmas_to   \n",
       "4       3    320                   3_her_their_to_his   \n",
       "5       4    307                     4_the_to_and_his   \n",
       "6       5    300                   5_music_the_and_of   \n",
       "7       6    259            6_school_high_student_and   \n",
       "8       7    249                       7_his_to_in_an   \n",
       "9       8    234                      8_to_the_of_her   \n",
       "10      9    224                  9_the_soccer_of_and   \n",
       "11     10    222                   10_the_of_and_this   \n",
       "12     11    213                     11_the_war_of_to   \n",
       "13     12    156             12_their_couple_love_and   \n",
       "14     13    119                 13_chef_food_and_the   \n",
       "15     14     78                   14_drug_the_of_and   \n",
       "16     15     74  15_doctor_patients_medical_hospital   \n",
       "17     16     48           16_shark_the_ocean_mermaid   \n",
       "18     17     36               17_the_racing_cars_bus   \n",
       "19     18     12   18_missing_cryptic_report_husbands   \n",
       "\n",
       "                                       Representation  \\\n",
       "0     [to, the, and, of, in, his, her, with, an, for]   \n",
       "1   [standup, and, comedian, comedy, in, special, ...   \n",
       "2   [of, the, to, in, detective, murder, and, his,...   \n",
       "3   [and, the, christmas, to, of, friends, with, o...   \n",
       "4   [her, their, to, his, and, family, when, fathe...   \n",
       "5   [the, to, and, his, of, bheem, rangers, in, ma...   \n",
       "6   [music, the, and, of, this, band, documentary,...   \n",
       "7   [school, high, student, and, of, to, friends, ...   \n",
       "8       [his, to, in, an, and, the, of, when, he, by]   \n",
       "9     [to, the, of, her, by, in, and, an, when, home]   \n",
       "10  [the, soccer, of, and, this, team, in, footbal...   \n",
       "11  [the, of, and, this, to, earth, on, documentar...   \n",
       "12  [the, war, of, to, agent, in, ii, terrorist, m...   \n",
       "13  [their, couple, love, and, couples, to, but, e...   \n",
       "14  [chef, food, and, the, chefs, cooking, of, to,...   \n",
       "15  [drug, the, of, and, marijuana, in, pablo, coc...   \n",
       "16  [doctor, patients, medical, hospital, doctors,...   \n",
       "17  [shark, the, ocean, mermaid, underwater, octon...   \n",
       "18  [the, racing, cars, bus, and, train, ride, wit...   \n",
       "19  [missing, cryptic, report, husbands, police, a...   \n",
       "\n",
       "                                  Representative_Docs  \n",
       "0   [An ex-boxer falls in love with a blind woman ...  \n",
       "1   [Former \"Saturday Night Live\" star Rob Schneid...  \n",
       "2   [A lawyer defends his childhood friend – and g...  \n",
       "3   [An elite team of elves – and their furry fox ...  \n",
       "4   [Two brothers clash with their half-siblings w...  \n",
       "5   [When Dholakpur’s princess is kidnapped, Bheem...  \n",
       "6   [Featuring interviews, concert footage and beh...  \n",
       "7   [The life of a seemingly ordinary high school ...  \n",
       "8   [A newspaper seller bemoans his lack of succes...  \n",
       "9   [Paranormal activity at a lush, abandoned prop...  \n",
       "10  [A former footballer tries to make it as a pla...  \n",
       "11  [In this sequel to the Emmy-winning \"Planet Ea...  \n",
       "12  [During World War II, British forces launch an...  \n",
       "13  [A dating couple is forced to spend their firs...  \n",
       "14  [A female food blogger is hired as a personal ...  \n",
       "15  [On the run from the police, an Arizona man cr...  \n",
       "16  [Four doctors at New York's storied Lenox Hill...  \n",
       "17  [Four years after the last deadly shark attack...  \n",
       "18  [Beep, beep – go, go! Buckle up for fun and ad...  \n",
       "19  [Multiple women report their husbands as missi...  "
      ]
     },
     "execution_count": 6,
     "metadata": {},
     "output_type": "execute_result"
    }
   ],
   "source": [
    "topic_model.get_topic_info()"
   ]
  },
  {
   "cell_type": "code",
   "execution_count": 7,
   "metadata": {},
   "outputs": [
    {
     "name": "stderr",
     "output_type": "stream",
     "text": [
      "[nltk_data] Downloading package stopwords to\n",
      "[nltk_data]     /Users/ayushjain/nltk_data...\n",
      "[nltk_data]   Package stopwords is already up-to-date!\n"
     ]
    },
    {
     "data": {
      "text/plain": [
       "['father nears end life, filmmaker Kirsten Johnson stages death inventive comical ways help face inevitable.',\n",
       " 'After crossing paths party, Cape Town teen sets prove whether private-school swimming star sister abducted birth.',\n",
       " 'protect family powerful drug lord, skilled thief Mehdi expert team robbers pulled violent deadly turf war.',\n",
       " 'Feuds, flirtations toilet talk go among incarcerated women Orleans Justice Center New Orleans gritty reality series.',\n",
       " 'city coaching centers known train India’s finest collegiate minds, earnest unexceptional student friends navigate campus life.',\n",
       " 'arrival charismatic young priest brings glorious miracles, ominous mysteries renewed religious fervor dying town desperate believe.',\n",
       " \"Equestria's divided. But bright-eyed hero believes Earth Ponies, Pegasi Unicorns pals — and, hoof heart, she’s determined prove it.\",\n",
       " 'On photo shoot Ghana, American model slips back time, becomes enslaved plantation bears witness agony ancestral past.',\n",
       " \"talented batch amateur bakers face 10-week competition, whipping best dishes hopes named U.K.'s best.\",\n",
       " \"woman adjusting life loss contends feisty bird that's taken garden — husband who's struggling find way forward.\"]"
      ]
     },
     "execution_count": 7,
     "metadata": {},
     "output_type": "execute_result"
    }
   ],
   "source": [
    "import nltk\n",
    "from nltk.corpus import stopwords\n",
    "nltk.download('stopwords')\n",
    "\n",
    "stopwords = stopwords.words('english')\n",
    "stopwords.append('the')\n",
    "stopwords.append('and')\n",
    "stopwords.append('to')\n",
    "stopwords.append('of')\n",
    "stopwords.append('in')\n",
    "stopwords.append('with')\n",
    "stopwords.append('an')\n",
    "stopwords.append('The')\n",
    "stopwords.append('And')\n",
    "stopwords.append('To')\n",
    "stopwords.append('Of')\n",
    "stopwords.append('In')\n",
    "stopwords.append('With')\n",
    "stopwords.append('An')\n",
    "stopwords.append('A')\n",
    "stopwords.append('As')\n",
    "stopwords.append('as')\n",
    "\n",
    "descriptions = dataset['description']\n",
    "\n",
    "def remove_stopwords(text):\n",
    "    output= ' '.join([i for i in text.split() if i not in stopwords])\n",
    "    return output\n",
    "\n",
    "processed_descriptions = [remove_stopwords(text) for text in descriptions]\n",
    "processed_descriptions[:10]"
   ]
  },
  {
   "cell_type": "code",
   "execution_count": 8,
   "metadata": {},
   "outputs": [
    {
     "data": {
      "text/html": [
       "<div>\n",
       "<style scoped>\n",
       "    .dataframe tbody tr th:only-of-type {\n",
       "        vertical-align: middle;\n",
       "    }\n",
       "\n",
       "    .dataframe tbody tr th {\n",
       "        vertical-align: top;\n",
       "    }\n",
       "\n",
       "    .dataframe thead th {\n",
       "        text-align: right;\n",
       "    }\n",
       "</style>\n",
       "<table border=\"1\" class=\"dataframe\">\n",
       "  <thead>\n",
       "    <tr style=\"text-align: right;\">\n",
       "      <th></th>\n",
       "      <th>Topic</th>\n",
       "      <th>Count</th>\n",
       "      <th>Name</th>\n",
       "      <th>Representation</th>\n",
       "      <th>Representative_Docs</th>\n",
       "    </tr>\n",
       "  </thead>\n",
       "  <tbody>\n",
       "    <tr>\n",
       "      <th>0</th>\n",
       "      <td>-1</td>\n",
       "      <td>4803</td>\n",
       "      <td>-1_life_young_when_family</td>\n",
       "      <td>[life, young, when, family, love, new, woman, ...</td>\n",
       "      <td>[Wealthy spoiled, young man finds something fi...</td>\n",
       "    </tr>\n",
       "    <tr>\n",
       "      <th>1</th>\n",
       "      <td>0</td>\n",
       "      <td>829</td>\n",
       "      <td>0_standup_comedian_comedy_special</td>\n",
       "      <td>[standup, comedian, comedy, special, music, co...</td>\n",
       "      <td>[Comedian Trump lip-synching sensation Sarah C...</td>\n",
       "    </tr>\n",
       "    <tr>\n",
       "      <th>2</th>\n",
       "      <td>1</td>\n",
       "      <td>594</td>\n",
       "      <td>1_love_school_high_new</td>\n",
       "      <td>[love, school, high, new, after, relationship,...</td>\n",
       "      <td>[life seemingly ordinary high school student m...</td>\n",
       "    </tr>\n",
       "    <tr>\n",
       "      <th>3</th>\n",
       "      <td>2</td>\n",
       "      <td>453</td>\n",
       "      <td>2_murder_detective_crime_case</td>\n",
       "      <td>[murder, detective, crime, case, police, priso...</td>\n",
       "      <td>[detective cold murder case discovers famous w...</td>\n",
       "    </tr>\n",
       "    <tr>\n",
       "      <th>4</th>\n",
       "      <td>3</td>\n",
       "      <td>313</td>\n",
       "      <td>3_war_agent_terrorist_this</td>\n",
       "      <td>[war, agent, terrorist, this, documentary, ii,...</td>\n",
       "      <td>[When retired CIA agent kidnapped, son, govern...</td>\n",
       "    </tr>\n",
       "    <tr>\n",
       "      <th>5</th>\n",
       "      <td>4</td>\n",
       "      <td>304</td>\n",
       "      <td>4_earth_planet_scientists_documentary</td>\n",
       "      <td>[earth, planet, scientists, documentary, alien...</td>\n",
       "      <td>[On Voyager's 75-year journey back Earth, crew...</td>\n",
       "    </tr>\n",
       "    <tr>\n",
       "      <th>6</th>\n",
       "      <td>5</td>\n",
       "      <td>287</td>\n",
       "      <td>5_christmas_dog_holiday_friends</td>\n",
       "      <td>[christmas, dog, holiday, friends, santa, adve...</td>\n",
       "      <td>[When Santa crash-lands junkyard Christmas Eve...</td>\n",
       "    </tr>\n",
       "    <tr>\n",
       "      <th>7</th>\n",
       "      <td>6</td>\n",
       "      <td>269</td>\n",
       "      <td>6_daughter_father_family_missing</td>\n",
       "      <td>[daughter, father, family, missing, mother, wh...</td>\n",
       "      <td>[Pregnant alone city Kolkata, woman begins rel...</td>\n",
       "    </tr>\n",
       "    <tr>\n",
       "      <th>8</th>\n",
       "      <td>7</td>\n",
       "      <td>245</td>\n",
       "      <td>7_martial_arts_bheem_rangers</td>\n",
       "      <td>[martial, arts, bheem, rangers, master, save, ...</td>\n",
       "      <td>[new generation Power Rangers must master Symb...</td>\n",
       "    </tr>\n",
       "    <tr>\n",
       "      <th>9</th>\n",
       "      <td>8</td>\n",
       "      <td>212</td>\n",
       "      <td>8_haunted_horror_vampire_home</td>\n",
       "      <td>[haunted, horror, vampire, home, eerie, spirit...</td>\n",
       "      <td>[Paranormal activity lush, abandoned property ...</td>\n",
       "    </tr>\n",
       "    <tr>\n",
       "      <th>10</th>\n",
       "      <td>9</td>\n",
       "      <td>121</td>\n",
       "      <td>9_hospital_doctor_medical_patients</td>\n",
       "      <td>[hospital, doctor, medical, patients, cancer, ...</td>\n",
       "      <td>[At Korea's top university medical center, ide...</td>\n",
       "    </tr>\n",
       "    <tr>\n",
       "      <th>11</th>\n",
       "      <td>10</td>\n",
       "      <td>117</td>\n",
       "      <td>10_chef_food_cooking_chefs</td>\n",
       "      <td>[chef, food, cooking, chefs, dishes, restauran...</td>\n",
       "      <td>[female food blogger hired personal chef young...</td>\n",
       "    </tr>\n",
       "    <tr>\n",
       "      <th>12</th>\n",
       "      <td>11</td>\n",
       "      <td>78</td>\n",
       "      <td>11_soccer_athletes_football_team</td>\n",
       "      <td>[soccer, athletes, football, team, player, bas...</td>\n",
       "      <td>[Wishing settle old score, promising soccer pl...</td>\n",
       "    </tr>\n",
       "    <tr>\n",
       "      <th>13</th>\n",
       "      <td>12</td>\n",
       "      <td>55</td>\n",
       "      <td>12_prize_game_artists_contestants</td>\n",
       "      <td>[prize, game, artists, contestants, compete, s...</td>\n",
       "      <td>[eyes grand prize, amateur designers push crea...</td>\n",
       "    </tr>\n",
       "    <tr>\n",
       "      <th>14</th>\n",
       "      <td>13</td>\n",
       "      <td>52</td>\n",
       "      <td>13_russian_indian_four_directors</td>\n",
       "      <td>[russian, indian, four, directors, revolution,...</td>\n",
       "      <td>[Inspired classic contemporary literature, fou...</td>\n",
       "    </tr>\n",
       "    <tr>\n",
       "      <th>15</th>\n",
       "      <td>14</td>\n",
       "      <td>27</td>\n",
       "      <td>14_queen_elizabeth_politics_dianas</td>\n",
       "      <td>[queen, elizabeth, politics, dianas, royal, pr...</td>\n",
       "      <td>[blend royal family's intimate recollections r...</td>\n",
       "    </tr>\n",
       "    <tr>\n",
       "      <th>16</th>\n",
       "      <td>15</td>\n",
       "      <td>16</td>\n",
       "      <td>15_cars_racing_drivers_racers</td>\n",
       "      <td>[cars, racing, drivers, racers, ferrari, ford,...</td>\n",
       "      <td>[Drivers, managers team owners live life fast ...</td>\n",
       "    </tr>\n",
       "    <tr>\n",
       "      <th>17</th>\n",
       "      <td>16</td>\n",
       "      <td>11</td>\n",
       "      <td>16_politician_interfere_devious_crooked</td>\n",
       "      <td>[politician, interfere, devious, crooked, rank...</td>\n",
       "      <td>[Rising disadvantage become state leader, tena...</td>\n",
       "    </tr>\n",
       "    <tr>\n",
       "      <th>18</th>\n",
       "      <td>17</td>\n",
       "      <td>11</td>\n",
       "      <td>17_monty_python_pythons_troupe</td>\n",
       "      <td>[monty, python, pythons, troupe, sketches, com...</td>\n",
       "      <td>[Discover six seemingly ordinary supremely tal...</td>\n",
       "    </tr>\n",
       "    <tr>\n",
       "      <th>19</th>\n",
       "      <td>18</td>\n",
       "      <td>10</td>\n",
       "      <td>18_abuse_sexual_docuseries_survivors</td>\n",
       "      <td>[abuse, sexual, docuseries, survivors, allegat...</td>\n",
       "      <td>[Former Scientology members share detailed acc...</td>\n",
       "    </tr>\n",
       "  </tbody>\n",
       "</table>\n",
       "</div>"
      ],
      "text/plain": [
       "    Topic  Count                                     Name  \\\n",
       "0      -1   4803                -1_life_young_when_family   \n",
       "1       0    829        0_standup_comedian_comedy_special   \n",
       "2       1    594                   1_love_school_high_new   \n",
       "3       2    453            2_murder_detective_crime_case   \n",
       "4       3    313               3_war_agent_terrorist_this   \n",
       "5       4    304    4_earth_planet_scientists_documentary   \n",
       "6       5    287          5_christmas_dog_holiday_friends   \n",
       "7       6    269         6_daughter_father_family_missing   \n",
       "8       7    245             7_martial_arts_bheem_rangers   \n",
       "9       8    212            8_haunted_horror_vampire_home   \n",
       "10      9    121       9_hospital_doctor_medical_patients   \n",
       "11     10    117               10_chef_food_cooking_chefs   \n",
       "12     11     78         11_soccer_athletes_football_team   \n",
       "13     12     55        12_prize_game_artists_contestants   \n",
       "14     13     52         13_russian_indian_four_directors   \n",
       "15     14     27       14_queen_elizabeth_politics_dianas   \n",
       "16     15     16            15_cars_racing_drivers_racers   \n",
       "17     16     11  16_politician_interfere_devious_crooked   \n",
       "18     17     11           17_monty_python_pythons_troupe   \n",
       "19     18     10     18_abuse_sexual_docuseries_survivors   \n",
       "\n",
       "                                       Representation  \\\n",
       "0   [life, young, when, family, love, new, woman, ...   \n",
       "1   [standup, comedian, comedy, special, music, co...   \n",
       "2   [love, school, high, new, after, relationship,...   \n",
       "3   [murder, detective, crime, case, police, priso...   \n",
       "4   [war, agent, terrorist, this, documentary, ii,...   \n",
       "5   [earth, planet, scientists, documentary, alien...   \n",
       "6   [christmas, dog, holiday, friends, santa, adve...   \n",
       "7   [daughter, father, family, missing, mother, wh...   \n",
       "8   [martial, arts, bheem, rangers, master, save, ...   \n",
       "9   [haunted, horror, vampire, home, eerie, spirit...   \n",
       "10  [hospital, doctor, medical, patients, cancer, ...   \n",
       "11  [chef, food, cooking, chefs, dishes, restauran...   \n",
       "12  [soccer, athletes, football, team, player, bas...   \n",
       "13  [prize, game, artists, contestants, compete, s...   \n",
       "14  [russian, indian, four, directors, revolution,...   \n",
       "15  [queen, elizabeth, politics, dianas, royal, pr...   \n",
       "16  [cars, racing, drivers, racers, ferrari, ford,...   \n",
       "17  [politician, interfere, devious, crooked, rank...   \n",
       "18  [monty, python, pythons, troupe, sketches, com...   \n",
       "19  [abuse, sexual, docuseries, survivors, allegat...   \n",
       "\n",
       "                                  Representative_Docs  \n",
       "0   [Wealthy spoiled, young man finds something fi...  \n",
       "1   [Comedian Trump lip-synching sensation Sarah C...  \n",
       "2   [life seemingly ordinary high school student m...  \n",
       "3   [detective cold murder case discovers famous w...  \n",
       "4   [When retired CIA agent kidnapped, son, govern...  \n",
       "5   [On Voyager's 75-year journey back Earth, crew...  \n",
       "6   [When Santa crash-lands junkyard Christmas Eve...  \n",
       "7   [Pregnant alone city Kolkata, woman begins rel...  \n",
       "8   [new generation Power Rangers must master Symb...  \n",
       "9   [Paranormal activity lush, abandoned property ...  \n",
       "10  [At Korea's top university medical center, ide...  \n",
       "11  [female food blogger hired personal chef young...  \n",
       "12  [Wishing settle old score, promising soccer pl...  \n",
       "13  [eyes grand prize, amateur designers push crea...  \n",
       "14  [Inspired classic contemporary literature, fou...  \n",
       "15  [blend royal family's intimate recollections r...  \n",
       "16  [Drivers, managers team owners live life fast ...  \n",
       "17  [Rising disadvantage become state leader, tena...  \n",
       "18  [Discover six seemingly ordinary supremely tal...  \n",
       "19  [Former Scientology members share detailed acc...  "
      ]
     },
     "execution_count": 8,
     "metadata": {},
     "output_type": "execute_result"
    }
   ],
   "source": [
    "updated_topic_model = BERTopic(nr_topics=20)\n",
    "topics, probabilities = updated_topic_model.fit_transform(processed_descriptions)\n",
    "updated_topic_model.get_topic_info()"
   ]
  },
  {
   "cell_type": "code",
   "execution_count": 9,
   "metadata": {},
   "outputs": [
    {
     "data": {
      "text/html": [
       "<div>\n",
       "<style scoped>\n",
       "    .dataframe tbody tr th:only-of-type {\n",
       "        vertical-align: middle;\n",
       "    }\n",
       "\n",
       "    .dataframe tbody tr th {\n",
       "        vertical-align: top;\n",
       "    }\n",
       "\n",
       "    .dataframe thead th {\n",
       "        text-align: right;\n",
       "    }\n",
       "</style>\n",
       "<table border=\"1\" class=\"dataframe\">\n",
       "  <thead>\n",
       "    <tr style=\"text-align: right;\">\n",
       "      <th></th>\n",
       "      <th>Topic</th>\n",
       "      <th>Count</th>\n",
       "      <th>Name</th>\n",
       "      <th>Representation</th>\n",
       "      <th>Representative_Docs</th>\n",
       "    </tr>\n",
       "  </thead>\n",
       "  <tbody>\n",
       "    <tr>\n",
       "      <th>0</th>\n",
       "      <td>-1</td>\n",
       "      <td>4921</td>\n",
       "      <td>-1_young_family_life_man</td>\n",
       "      <td>[young, family, life, man, love, woman, new, f...</td>\n",
       "      <td>[young woman faces pressure marry brother-in-l...</td>\n",
       "    </tr>\n",
       "    <tr>\n",
       "      <th>1</th>\n",
       "      <td>0</td>\n",
       "      <td>457</td>\n",
       "      <td>0_standup_comedian_comedy_special</td>\n",
       "      <td>[standup, comedian, comedy, special, comic, st...</td>\n",
       "      <td>[Members comedy group Na Stojáka take stage mi...</td>\n",
       "    </tr>\n",
       "    <tr>\n",
       "      <th>2</th>\n",
       "      <td>1</td>\n",
       "      <td>285</td>\n",
       "      <td>1_music_musical_band_documentary</td>\n",
       "      <td>[music, musical, band, documentary, singer, co...</td>\n",
       "      <td>[Featuring mix film footage special performanc...</td>\n",
       "    </tr>\n",
       "    <tr>\n",
       "      <th>3</th>\n",
       "      <td>2</td>\n",
       "      <td>168</td>\n",
       "      <td>2_dog_cat_adventures_animal</td>\n",
       "      <td>[dog, cat, adventures, animal, fun, friends, m...</td>\n",
       "      <td>[magical Little Kingdom, friends Ben Elf fairy...</td>\n",
       "    </tr>\n",
       "    <tr>\n",
       "      <th>4</th>\n",
       "      <td>3</td>\n",
       "      <td>140</td>\n",
       "      <td>3_terrorist_agent_cia_mission</td>\n",
       "      <td>[terrorist, agent, cia, mission, attack, intel...</td>\n",
       "      <td>[When imprisoned terrorist cell hijacks high-s...</td>\n",
       "    </tr>\n",
       "    <tr>\n",
       "      <th>...</th>\n",
       "      <td>...</td>\n",
       "      <td>...</td>\n",
       "      <td>...</td>\n",
       "      <td>...</td>\n",
       "      <td>...</td>\n",
       "    </tr>\n",
       "    <tr>\n",
       "      <th>91</th>\n",
       "      <td>90</td>\n",
       "      <td>11</td>\n",
       "      <td>90_teens_teenagers_group_waking</td>\n",
       "      <td>[teens, teenagers, group, waking, discovers, b...</td>\n",
       "      <td>[After ignoring superstitions, group teenagers...</td>\n",
       "    </tr>\n",
       "    <tr>\n",
       "      <th>92</th>\n",
       "      <td>91</td>\n",
       "      <td>10</td>\n",
       "      <td>91_school_best_high_spend</td>\n",
       "      <td>[school, best, high, spend, middle, occasional...</td>\n",
       "      <td>[Opting stay campus Thanksgiving holiday, coed...</td>\n",
       "    </tr>\n",
       "    <tr>\n",
       "      <th>93</th>\n",
       "      <td>92</td>\n",
       "      <td>10</td>\n",
       "      <td>92_reality_tidying_kondo_clutter</td>\n",
       "      <td>[reality, tidying, kondo, clutter, clients, ma...</td>\n",
       "      <td>[Expert home organizers Clea Joanna help celeb...</td>\n",
       "    </tr>\n",
       "    <tr>\n",
       "      <th>94</th>\n",
       "      <td>93</td>\n",
       "      <td>10</td>\n",
       "      <td>93_drug_kingpins_cops_weed</td>\n",
       "      <td>[drug, kingpins, cops, weed, narcotics, miami,...</td>\n",
       "      <td>[Discovering location vault drug ring keeps ri...</td>\n",
       "    </tr>\n",
       "    <tr>\n",
       "      <th>95</th>\n",
       "      <td>94</td>\n",
       "      <td>10</td>\n",
       "      <td>94_basketball_rugby_players_nba</td>\n",
       "      <td>[basketball, rugby, players, nba, countries, c...</td>\n",
       "      <td>[This documentary follows three players Miami ...</td>\n",
       "    </tr>\n",
       "  </tbody>\n",
       "</table>\n",
       "<p>96 rows × 5 columns</p>\n",
       "</div>"
      ],
      "text/plain": [
       "    Topic  Count                               Name  \\\n",
       "0      -1   4921           -1_young_family_life_man   \n",
       "1       0    457  0_standup_comedian_comedy_special   \n",
       "2       1    285   1_music_musical_band_documentary   \n",
       "3       2    168        2_dog_cat_adventures_animal   \n",
       "4       3    140      3_terrorist_agent_cia_mission   \n",
       "..    ...    ...                                ...   \n",
       "91     90     11    90_teens_teenagers_group_waking   \n",
       "92     91     10          91_school_best_high_spend   \n",
       "93     92     10   92_reality_tidying_kondo_clutter   \n",
       "94     93     10         93_drug_kingpins_cops_weed   \n",
       "95     94     10    94_basketball_rugby_players_nba   \n",
       "\n",
       "                                       Representation  \\\n",
       "0   [young, family, life, man, love, woman, new, f...   \n",
       "1   [standup, comedian, comedy, special, comic, st...   \n",
       "2   [music, musical, band, documentary, singer, co...   \n",
       "3   [dog, cat, adventures, animal, fun, friends, m...   \n",
       "4   [terrorist, agent, cia, mission, attack, intel...   \n",
       "..                                                ...   \n",
       "91  [teens, teenagers, group, waking, discovers, b...   \n",
       "92  [school, best, high, spend, middle, occasional...   \n",
       "93  [reality, tidying, kondo, clutter, clients, ma...   \n",
       "94  [drug, kingpins, cops, weed, narcotics, miami,...   \n",
       "95  [basketball, rugby, players, nba, countries, c...   \n",
       "\n",
       "                                  Representative_Docs  \n",
       "0   [young woman faces pressure marry brother-in-l...  \n",
       "1   [Members comedy group Na Stojáka take stage mi...  \n",
       "2   [Featuring mix film footage special performanc...  \n",
       "3   [magical Little Kingdom, friends Ben Elf fairy...  \n",
       "4   [When imprisoned terrorist cell hijacks high-s...  \n",
       "..                                                ...  \n",
       "91  [After ignoring superstitions, group teenagers...  \n",
       "92  [Opting stay campus Thanksgiving holiday, coed...  \n",
       "93  [Expert home organizers Clea Joanna help celeb...  \n",
       "94  [Discovering location vault drug ring keeps ri...  \n",
       "95  [This documentary follows three players Miami ...  \n",
       "\n",
       "[96 rows x 5 columns]"
      ]
     },
     "execution_count": 9,
     "metadata": {},
     "output_type": "execute_result"
    }
   ],
   "source": [
    "from sklearn.feature_extraction.text import CountVectorizer\n",
    "\n",
    "topic_multilabel = BERTopic(vectorizer_model = CountVectorizer(stop_words=\"english\")\n",
    ")\n",
    "topic_multilabel.fit(processed_descriptions)\n",
    "topic_multilabel.get_topic_info()"
   ]
  },
  {
   "cell_type": "code",
   "execution_count": 10,
   "metadata": {},
   "outputs": [],
   "source": [
    "#an array with the probability of it being each topic \n",
    "topic_distr, _ = topic_multilabel.approximate_distribution(processed_descriptions)"
   ]
  },
  {
   "cell_type": "code",
   "execution_count": 11,
   "metadata": {},
   "outputs": [
    {
     "data": {
      "application/vnd.plotly.v1+json": {
       "config": {
        "plotlyServerURL": "https://plot.ly"
       },
       "data": [
        {
         "marker": {
          "color": "#C8D2D7",
          "line": {
           "color": "#6E8484",
           "width": 1
          }
         },
         "orientation": "h",
         "type": "bar",
         "x": [
          0.15480170465484355,
          0.15849204715698914,
          0.14603600303313247,
          0.16123205826086498,
          0.3794381868941698
         ],
         "y": [
          "<b>Topic 7</b>: school_teacher_high_stud...",
          "<b>Topic 49</b>: college_friends_shared_...",
          "<b>Topic 86</b>: train_bus_frizzle_deliv...",
          "<b>Topic 89</b>: india_british_indias_co...",
          "<b>Topic 91</b>: school_best_high_spend_..."
         ]
        }
       ],
       "layout": {
        "height": 600,
        "hoverlabel": {
         "bgcolor": "white",
         "font": {
          "family": "Rockwell",
          "size": 16
         }
        },
        "template": {
         "data": {
          "bar": [
           {
            "error_x": {
             "color": "rgb(36,36,36)"
            },
            "error_y": {
             "color": "rgb(36,36,36)"
            },
            "marker": {
             "line": {
              "color": "white",
              "width": 0.5
             },
             "pattern": {
              "fillmode": "overlay",
              "size": 10,
              "solidity": 0.2
             }
            },
            "type": "bar"
           }
          ],
          "barpolar": [
           {
            "marker": {
             "line": {
              "color": "white",
              "width": 0.5
             },
             "pattern": {
              "fillmode": "overlay",
              "size": 10,
              "solidity": 0.2
             }
            },
            "type": "barpolar"
           }
          ],
          "carpet": [
           {
            "aaxis": {
             "endlinecolor": "rgb(36,36,36)",
             "gridcolor": "white",
             "linecolor": "white",
             "minorgridcolor": "white",
             "startlinecolor": "rgb(36,36,36)"
            },
            "baxis": {
             "endlinecolor": "rgb(36,36,36)",
             "gridcolor": "white",
             "linecolor": "white",
             "minorgridcolor": "white",
             "startlinecolor": "rgb(36,36,36)"
            },
            "type": "carpet"
           }
          ],
          "choropleth": [
           {
            "colorbar": {
             "outlinewidth": 1,
             "tickcolor": "rgb(36,36,36)",
             "ticks": "outside"
            },
            "type": "choropleth"
           }
          ],
          "contour": [
           {
            "colorbar": {
             "outlinewidth": 1,
             "tickcolor": "rgb(36,36,36)",
             "ticks": "outside"
            },
            "colorscale": [
             [
              0,
              "#440154"
             ],
             [
              0.1111111111111111,
              "#482878"
             ],
             [
              0.2222222222222222,
              "#3e4989"
             ],
             [
              0.3333333333333333,
              "#31688e"
             ],
             [
              0.4444444444444444,
              "#26828e"
             ],
             [
              0.5555555555555556,
              "#1f9e89"
             ],
             [
              0.6666666666666666,
              "#35b779"
             ],
             [
              0.7777777777777778,
              "#6ece58"
             ],
             [
              0.8888888888888888,
              "#b5de2b"
             ],
             [
              1,
              "#fde725"
             ]
            ],
            "type": "contour"
           }
          ],
          "contourcarpet": [
           {
            "colorbar": {
             "outlinewidth": 1,
             "tickcolor": "rgb(36,36,36)",
             "ticks": "outside"
            },
            "type": "contourcarpet"
           }
          ],
          "heatmap": [
           {
            "colorbar": {
             "outlinewidth": 1,
             "tickcolor": "rgb(36,36,36)",
             "ticks": "outside"
            },
            "colorscale": [
             [
              0,
              "#440154"
             ],
             [
              0.1111111111111111,
              "#482878"
             ],
             [
              0.2222222222222222,
              "#3e4989"
             ],
             [
              0.3333333333333333,
              "#31688e"
             ],
             [
              0.4444444444444444,
              "#26828e"
             ],
             [
              0.5555555555555556,
              "#1f9e89"
             ],
             [
              0.6666666666666666,
              "#35b779"
             ],
             [
              0.7777777777777778,
              "#6ece58"
             ],
             [
              0.8888888888888888,
              "#b5de2b"
             ],
             [
              1,
              "#fde725"
             ]
            ],
            "type": "heatmap"
           }
          ],
          "heatmapgl": [
           {
            "colorbar": {
             "outlinewidth": 1,
             "tickcolor": "rgb(36,36,36)",
             "ticks": "outside"
            },
            "colorscale": [
             [
              0,
              "#440154"
             ],
             [
              0.1111111111111111,
              "#482878"
             ],
             [
              0.2222222222222222,
              "#3e4989"
             ],
             [
              0.3333333333333333,
              "#31688e"
             ],
             [
              0.4444444444444444,
              "#26828e"
             ],
             [
              0.5555555555555556,
              "#1f9e89"
             ],
             [
              0.6666666666666666,
              "#35b779"
             ],
             [
              0.7777777777777778,
              "#6ece58"
             ],
             [
              0.8888888888888888,
              "#b5de2b"
             ],
             [
              1,
              "#fde725"
             ]
            ],
            "type": "heatmapgl"
           }
          ],
          "histogram": [
           {
            "marker": {
             "line": {
              "color": "white",
              "width": 0.6
             }
            },
            "type": "histogram"
           }
          ],
          "histogram2d": [
           {
            "colorbar": {
             "outlinewidth": 1,
             "tickcolor": "rgb(36,36,36)",
             "ticks": "outside"
            },
            "colorscale": [
             [
              0,
              "#440154"
             ],
             [
              0.1111111111111111,
              "#482878"
             ],
             [
              0.2222222222222222,
              "#3e4989"
             ],
             [
              0.3333333333333333,
              "#31688e"
             ],
             [
              0.4444444444444444,
              "#26828e"
             ],
             [
              0.5555555555555556,
              "#1f9e89"
             ],
             [
              0.6666666666666666,
              "#35b779"
             ],
             [
              0.7777777777777778,
              "#6ece58"
             ],
             [
              0.8888888888888888,
              "#b5de2b"
             ],
             [
              1,
              "#fde725"
             ]
            ],
            "type": "histogram2d"
           }
          ],
          "histogram2dcontour": [
           {
            "colorbar": {
             "outlinewidth": 1,
             "tickcolor": "rgb(36,36,36)",
             "ticks": "outside"
            },
            "colorscale": [
             [
              0,
              "#440154"
             ],
             [
              0.1111111111111111,
              "#482878"
             ],
             [
              0.2222222222222222,
              "#3e4989"
             ],
             [
              0.3333333333333333,
              "#31688e"
             ],
             [
              0.4444444444444444,
              "#26828e"
             ],
             [
              0.5555555555555556,
              "#1f9e89"
             ],
             [
              0.6666666666666666,
              "#35b779"
             ],
             [
              0.7777777777777778,
              "#6ece58"
             ],
             [
              0.8888888888888888,
              "#b5de2b"
             ],
             [
              1,
              "#fde725"
             ]
            ],
            "type": "histogram2dcontour"
           }
          ],
          "mesh3d": [
           {
            "colorbar": {
             "outlinewidth": 1,
             "tickcolor": "rgb(36,36,36)",
             "ticks": "outside"
            },
            "type": "mesh3d"
           }
          ],
          "parcoords": [
           {
            "line": {
             "colorbar": {
              "outlinewidth": 1,
              "tickcolor": "rgb(36,36,36)",
              "ticks": "outside"
             }
            },
            "type": "parcoords"
           }
          ],
          "pie": [
           {
            "automargin": true,
            "type": "pie"
           }
          ],
          "scatter": [
           {
            "fillpattern": {
             "fillmode": "overlay",
             "size": 10,
             "solidity": 0.2
            },
            "type": "scatter"
           }
          ],
          "scatter3d": [
           {
            "line": {
             "colorbar": {
              "outlinewidth": 1,
              "tickcolor": "rgb(36,36,36)",
              "ticks": "outside"
             }
            },
            "marker": {
             "colorbar": {
              "outlinewidth": 1,
              "tickcolor": "rgb(36,36,36)",
              "ticks": "outside"
             }
            },
            "type": "scatter3d"
           }
          ],
          "scattercarpet": [
           {
            "marker": {
             "colorbar": {
              "outlinewidth": 1,
              "tickcolor": "rgb(36,36,36)",
              "ticks": "outside"
             }
            },
            "type": "scattercarpet"
           }
          ],
          "scattergeo": [
           {
            "marker": {
             "colorbar": {
              "outlinewidth": 1,
              "tickcolor": "rgb(36,36,36)",
              "ticks": "outside"
             }
            },
            "type": "scattergeo"
           }
          ],
          "scattergl": [
           {
            "marker": {
             "colorbar": {
              "outlinewidth": 1,
              "tickcolor": "rgb(36,36,36)",
              "ticks": "outside"
             }
            },
            "type": "scattergl"
           }
          ],
          "scattermapbox": [
           {
            "marker": {
             "colorbar": {
              "outlinewidth": 1,
              "tickcolor": "rgb(36,36,36)",
              "ticks": "outside"
             }
            },
            "type": "scattermapbox"
           }
          ],
          "scatterpolar": [
           {
            "marker": {
             "colorbar": {
              "outlinewidth": 1,
              "tickcolor": "rgb(36,36,36)",
              "ticks": "outside"
             }
            },
            "type": "scatterpolar"
           }
          ],
          "scatterpolargl": [
           {
            "marker": {
             "colorbar": {
              "outlinewidth": 1,
              "tickcolor": "rgb(36,36,36)",
              "ticks": "outside"
             }
            },
            "type": "scatterpolargl"
           }
          ],
          "scatterternary": [
           {
            "marker": {
             "colorbar": {
              "outlinewidth": 1,
              "tickcolor": "rgb(36,36,36)",
              "ticks": "outside"
             }
            },
            "type": "scatterternary"
           }
          ],
          "surface": [
           {
            "colorbar": {
             "outlinewidth": 1,
             "tickcolor": "rgb(36,36,36)",
             "ticks": "outside"
            },
            "colorscale": [
             [
              0,
              "#440154"
             ],
             [
              0.1111111111111111,
              "#482878"
             ],
             [
              0.2222222222222222,
              "#3e4989"
             ],
             [
              0.3333333333333333,
              "#31688e"
             ],
             [
              0.4444444444444444,
              "#26828e"
             ],
             [
              0.5555555555555556,
              "#1f9e89"
             ],
             [
              0.6666666666666666,
              "#35b779"
             ],
             [
              0.7777777777777778,
              "#6ece58"
             ],
             [
              0.8888888888888888,
              "#b5de2b"
             ],
             [
              1,
              "#fde725"
             ]
            ],
            "type": "surface"
           }
          ],
          "table": [
           {
            "cells": {
             "fill": {
              "color": "rgb(237,237,237)"
             },
             "line": {
              "color": "white"
             }
            },
            "header": {
             "fill": {
              "color": "rgb(217,217,217)"
             },
             "line": {
              "color": "white"
             }
            },
            "type": "table"
           }
          ]
         },
         "layout": {
          "annotationdefaults": {
           "arrowhead": 0,
           "arrowwidth": 1
          },
          "autotypenumbers": "strict",
          "coloraxis": {
           "colorbar": {
            "outlinewidth": 1,
            "tickcolor": "rgb(36,36,36)",
            "ticks": "outside"
           }
          },
          "colorscale": {
           "diverging": [
            [
             0,
             "rgb(103,0,31)"
            ],
            [
             0.1,
             "rgb(178,24,43)"
            ],
            [
             0.2,
             "rgb(214,96,77)"
            ],
            [
             0.3,
             "rgb(244,165,130)"
            ],
            [
             0.4,
             "rgb(253,219,199)"
            ],
            [
             0.5,
             "rgb(247,247,247)"
            ],
            [
             0.6,
             "rgb(209,229,240)"
            ],
            [
             0.7,
             "rgb(146,197,222)"
            ],
            [
             0.8,
             "rgb(67,147,195)"
            ],
            [
             0.9,
             "rgb(33,102,172)"
            ],
            [
             1,
             "rgb(5,48,97)"
            ]
           ],
           "sequential": [
            [
             0,
             "#440154"
            ],
            [
             0.1111111111111111,
             "#482878"
            ],
            [
             0.2222222222222222,
             "#3e4989"
            ],
            [
             0.3333333333333333,
             "#31688e"
            ],
            [
             0.4444444444444444,
             "#26828e"
            ],
            [
             0.5555555555555556,
             "#1f9e89"
            ],
            [
             0.6666666666666666,
             "#35b779"
            ],
            [
             0.7777777777777778,
             "#6ece58"
            ],
            [
             0.8888888888888888,
             "#b5de2b"
            ],
            [
             1,
             "#fde725"
            ]
           ],
           "sequentialminus": [
            [
             0,
             "#440154"
            ],
            [
             0.1111111111111111,
             "#482878"
            ],
            [
             0.2222222222222222,
             "#3e4989"
            ],
            [
             0.3333333333333333,
             "#31688e"
            ],
            [
             0.4444444444444444,
             "#26828e"
            ],
            [
             0.5555555555555556,
             "#1f9e89"
            ],
            [
             0.6666666666666666,
             "#35b779"
            ],
            [
             0.7777777777777778,
             "#6ece58"
            ],
            [
             0.8888888888888888,
             "#b5de2b"
            ],
            [
             1,
             "#fde725"
            ]
           ]
          },
          "colorway": [
           "#1F77B4",
           "#FF7F0E",
           "#2CA02C",
           "#D62728",
           "#9467BD",
           "#8C564B",
           "#E377C2",
           "#7F7F7F",
           "#BCBD22",
           "#17BECF"
          ],
          "font": {
           "color": "rgb(36,36,36)"
          },
          "geo": {
           "bgcolor": "white",
           "lakecolor": "white",
           "landcolor": "white",
           "showlakes": true,
           "showland": true,
           "subunitcolor": "white"
          },
          "hoverlabel": {
           "align": "left"
          },
          "hovermode": "closest",
          "mapbox": {
           "style": "light"
          },
          "paper_bgcolor": "white",
          "plot_bgcolor": "white",
          "polar": {
           "angularaxis": {
            "gridcolor": "rgb(232,232,232)",
            "linecolor": "rgb(36,36,36)",
            "showgrid": false,
            "showline": true,
            "ticks": "outside"
           },
           "bgcolor": "white",
           "radialaxis": {
            "gridcolor": "rgb(232,232,232)",
            "linecolor": "rgb(36,36,36)",
            "showgrid": false,
            "showline": true,
            "ticks": "outside"
           }
          },
          "scene": {
           "xaxis": {
            "backgroundcolor": "white",
            "gridcolor": "rgb(232,232,232)",
            "gridwidth": 2,
            "linecolor": "rgb(36,36,36)",
            "showbackground": true,
            "showgrid": false,
            "showline": true,
            "ticks": "outside",
            "zeroline": false,
            "zerolinecolor": "rgb(36,36,36)"
           },
           "yaxis": {
            "backgroundcolor": "white",
            "gridcolor": "rgb(232,232,232)",
            "gridwidth": 2,
            "linecolor": "rgb(36,36,36)",
            "showbackground": true,
            "showgrid": false,
            "showline": true,
            "ticks": "outside",
            "zeroline": false,
            "zerolinecolor": "rgb(36,36,36)"
           },
           "zaxis": {
            "backgroundcolor": "white",
            "gridcolor": "rgb(232,232,232)",
            "gridwidth": 2,
            "linecolor": "rgb(36,36,36)",
            "showbackground": true,
            "showgrid": false,
            "showline": true,
            "ticks": "outside",
            "zeroline": false,
            "zerolinecolor": "rgb(36,36,36)"
           }
          },
          "shapedefaults": {
           "fillcolor": "black",
           "line": {
            "width": 0
           },
           "opacity": 0.3
          },
          "ternary": {
           "aaxis": {
            "gridcolor": "rgb(232,232,232)",
            "linecolor": "rgb(36,36,36)",
            "showgrid": false,
            "showline": true,
            "ticks": "outside"
           },
           "baxis": {
            "gridcolor": "rgb(232,232,232)",
            "linecolor": "rgb(36,36,36)",
            "showgrid": false,
            "showline": true,
            "ticks": "outside"
           },
           "bgcolor": "white",
           "caxis": {
            "gridcolor": "rgb(232,232,232)",
            "linecolor": "rgb(36,36,36)",
            "showgrid": false,
            "showline": true,
            "ticks": "outside"
           }
          },
          "title": {
           "x": 0.05
          },
          "xaxis": {
           "automargin": true,
           "gridcolor": "rgb(232,232,232)",
           "linecolor": "rgb(36,36,36)",
           "showgrid": false,
           "showline": true,
           "ticks": "outside",
           "title": {
            "standoff": 15
           },
           "zeroline": false,
           "zerolinecolor": "rgb(36,36,36)"
          },
          "yaxis": {
           "automargin": true,
           "gridcolor": "rgb(232,232,232)",
           "linecolor": "rgb(36,36,36)",
           "showgrid": false,
           "showline": true,
           "ticks": "outside",
           "title": {
            "standoff": 15
           },
           "zeroline": false,
           "zerolinecolor": "rgb(36,36,36)"
          }
         }
        },
        "title": {
         "font": {
          "color": "Black",
          "size": 22
         },
         "text": "<b>Topic Probability Distribution</b>",
         "x": 0.5,
         "xanchor": "center",
         "y": 0.95,
         "yanchor": "top"
        },
        "width": 800,
        "xaxis": {
         "title": {
          "text": "Probability"
         }
        }
       }
      }
     },
     "metadata": {},
     "output_type": "display_data"
    }
   ],
   "source": [
    "topic_multilabel.visualize_distribution(topic_distr[4])"
   ]
  },
  {
   "cell_type": "code",
   "execution_count": 21,
   "metadata": {},
   "outputs": [],
   "source": [
    "#automodal causal from pretrained (use path , dont need to download)\n",
    "def generate_topic_name(list_of_words):\n",
    "\n",
    "    llm = CTransformers(model='models\\llama-2-7b-chat.ggmlv3.q8_0.bin',\n",
    "                        model_type='llama',\n",
    "                        config={'max_new_tokens': 256,\n",
    "                                'temperature': 0.01})\n",
    "\n",
    "    words = ', '.join([i for i in list_of_words])\n",
    "\n",
    "    template = \"\"\"\n",
    "Given the following words that describe a genre of Netflix shows\\films, return a one to two word name for the genre. Your response\n",
    "should be one to two words with no other text:\\n\\\"{words}\\\"\n",
    "    \"\"\"\n",
    "\n",
    "    prompt = PromptTemplate(input_variables = ['words'], template=template)\n",
    "\n",
    "    response = llm(prompt.format(words=words))\n",
    "\n",
    "    return response\n"
   ]
  },
  {
   "cell_type": "code",
   "execution_count": 22,
   "metadata": {},
   "outputs": [
    {
     "ename": "ValidationError",
     "evalue": "1 validation error for CTransformers\n__root__\n  Model path 'models\\llama-2-7b-chat.ggmlv3.q8_0.bin' doesn't exist. (type=value_error)",
     "output_type": "error",
     "traceback": [
      "\u001b[0;31m---------------------------------------------------------------------------\u001b[0m",
      "\u001b[0;31mValidationError\u001b[0m                           Traceback (most recent call last)",
      "Cell \u001b[0;32mIn[22], line 7\u001b[0m\n\u001b[1;32m      5\u001b[0m \u001b[38;5;28;01mfor\u001b[39;00m word \u001b[38;5;129;01min\u001b[39;00m all_topics[i]:\n\u001b[1;32m      6\u001b[0m     list_of_words\u001b[38;5;241m.\u001b[39mappend(word[\u001b[38;5;241m0\u001b[39m])\n\u001b[0;32m----> 7\u001b[0m topic_names\u001b[38;5;241m.\u001b[39mappend(\u001b[43mgenerate_topic_name\u001b[49m\u001b[43m(\u001b[49m\u001b[43mlist_of_words\u001b[49m\u001b[43m)\u001b[49m)\n",
      "Cell \u001b[0;32mIn[21], line 4\u001b[0m, in \u001b[0;36mgenerate_topic_name\u001b[0;34m(list_of_words)\u001b[0m\n\u001b[1;32m      2\u001b[0m \u001b[38;5;28;01mdef\u001b[39;00m \u001b[38;5;21mgenerate_topic_name\u001b[39m(list_of_words):\n\u001b[0;32m----> 4\u001b[0m     llm \u001b[38;5;241m=\u001b[39m \u001b[43mCTransformers\u001b[49m\u001b[43m(\u001b[49m\u001b[43mmodel\u001b[49m\u001b[38;5;241;43m=\u001b[39;49m\u001b[38;5;124;43m'\u001b[39;49m\u001b[38;5;124;43mmodels\u001b[39;49m\u001b[38;5;124;43m\\\u001b[39;49m\u001b[38;5;124;43mllama-2-7b-chat.ggmlv3.q8_0.bin\u001b[39;49m\u001b[38;5;124;43m'\u001b[39;49m\u001b[43m,\u001b[49m\n\u001b[1;32m      5\u001b[0m \u001b[43m                        \u001b[49m\u001b[43mmodel_type\u001b[49m\u001b[38;5;241;43m=\u001b[39;49m\u001b[38;5;124;43m'\u001b[39;49m\u001b[38;5;124;43mllama\u001b[39;49m\u001b[38;5;124;43m'\u001b[39;49m\u001b[43m,\u001b[49m\n\u001b[1;32m      6\u001b[0m \u001b[43m                        \u001b[49m\u001b[43mconfig\u001b[49m\u001b[38;5;241;43m=\u001b[39;49m\u001b[43m{\u001b[49m\u001b[38;5;124;43m'\u001b[39;49m\u001b[38;5;124;43mmax_new_tokens\u001b[39;49m\u001b[38;5;124;43m'\u001b[39;49m\u001b[43m:\u001b[49m\u001b[43m \u001b[49m\u001b[38;5;241;43m256\u001b[39;49m\u001b[43m,\u001b[49m\n\u001b[1;32m      7\u001b[0m \u001b[43m                                \u001b[49m\u001b[38;5;124;43m'\u001b[39;49m\u001b[38;5;124;43mtemperature\u001b[39;49m\u001b[38;5;124;43m'\u001b[39;49m\u001b[43m:\u001b[49m\u001b[43m \u001b[49m\u001b[38;5;241;43m0.01\u001b[39;49m\u001b[43m}\u001b[49m\u001b[43m)\u001b[49m\n\u001b[1;32m      9\u001b[0m     words \u001b[38;5;241m=\u001b[39m \u001b[38;5;124m'\u001b[39m\u001b[38;5;124m, \u001b[39m\u001b[38;5;124m'\u001b[39m\u001b[38;5;241m.\u001b[39mjoin([i \u001b[38;5;28;01mfor\u001b[39;00m i \u001b[38;5;129;01min\u001b[39;00m list_of_words])\n\u001b[1;32m     11\u001b[0m     template \u001b[38;5;241m=\u001b[39m \u001b[38;5;124m\"\"\"\u001b[39m\n\u001b[1;32m     12\u001b[0m \u001b[38;5;124mGiven the following words that describe a genre of Netflix shows\u001b[39m\u001b[38;5;130;01m\\f\u001b[39;00m\u001b[38;5;124milms, return a one to two word name for the genre. Your response\u001b[39m\n\u001b[1;32m     13\u001b[0m \u001b[38;5;124mshould be one to two words with no other text:\u001b[39m\u001b[38;5;130;01m\\n\u001b[39;00m\u001b[38;5;130;01m\\\"\u001b[39;00m\u001b[38;5;132;01m{words}\u001b[39;00m\u001b[38;5;130;01m\\\"\u001b[39;00m\n\u001b[1;32m     14\u001b[0m \u001b[38;5;124m    \u001b[39m\u001b[38;5;124m\"\"\"\u001b[39m\n",
      "File \u001b[0;32m~/Development/DisruptionLab/jinship_sp2024/.venv/lib/python3.9/site-packages/langchain_core/load/serializable.py:120\u001b[0m, in \u001b[0;36mSerializable.__init__\u001b[0;34m(self, **kwargs)\u001b[0m\n\u001b[1;32m    119\u001b[0m \u001b[38;5;28;01mdef\u001b[39;00m \u001b[38;5;21m__init__\u001b[39m(\u001b[38;5;28mself\u001b[39m, \u001b[38;5;241m*\u001b[39m\u001b[38;5;241m*\u001b[39mkwargs: Any) \u001b[38;5;241m-\u001b[39m\u001b[38;5;241m>\u001b[39m \u001b[38;5;28;01mNone\u001b[39;00m:\n\u001b[0;32m--> 120\u001b[0m     \u001b[38;5;28;43msuper\u001b[39;49m\u001b[43m(\u001b[49m\u001b[43m)\u001b[49m\u001b[38;5;241;43m.\u001b[39;49m\u001b[38;5;21;43m__init__\u001b[39;49m\u001b[43m(\u001b[49m\u001b[38;5;241;43m*\u001b[39;49m\u001b[38;5;241;43m*\u001b[39;49m\u001b[43mkwargs\u001b[49m\u001b[43m)\u001b[49m\n\u001b[1;32m    121\u001b[0m     \u001b[38;5;28mself\u001b[39m\u001b[38;5;241m.\u001b[39m_lc_kwargs \u001b[38;5;241m=\u001b[39m kwargs\n",
      "File \u001b[0;32m~/Development/DisruptionLab/jinship_sp2024/.venv/lib/python3.9/site-packages/pydantic/v1/main.py:341\u001b[0m, in \u001b[0;36mBaseModel.__init__\u001b[0;34m(__pydantic_self__, **data)\u001b[0m\n\u001b[1;32m    339\u001b[0m values, fields_set, validation_error \u001b[38;5;241m=\u001b[39m validate_model(__pydantic_self__\u001b[38;5;241m.\u001b[39m\u001b[38;5;18m__class__\u001b[39m, data)\n\u001b[1;32m    340\u001b[0m \u001b[38;5;28;01mif\u001b[39;00m validation_error:\n\u001b[0;32m--> 341\u001b[0m     \u001b[38;5;28;01mraise\u001b[39;00m validation_error\n\u001b[1;32m    342\u001b[0m \u001b[38;5;28;01mtry\u001b[39;00m:\n\u001b[1;32m    343\u001b[0m     object_setattr(__pydantic_self__, \u001b[38;5;124m'\u001b[39m\u001b[38;5;124m__dict__\u001b[39m\u001b[38;5;124m'\u001b[39m, values)\n",
      "\u001b[0;31mValidationError\u001b[0m: 1 validation error for CTransformers\n__root__\n  Model path 'models\\llama-2-7b-chat.ggmlv3.q8_0.bin' doesn't exist. (type=value_error)"
     ]
    }
   ],
   "source": [
    "topic_names = []\n",
    "all_topics = topic_model.get_topics()\n",
    "for i in range(len(all_topics) - 1):\n",
    "    list_of_words = []\n",
    "    for word in all_topics[i]:\n",
    "        list_of_words.append(word[0])\n",
    "    topic_names.append(generate_topic_name(list_of_words))"
   ]
  },
  {
   "cell_type": "code",
   "execution_count": null,
   "metadata": {},
   "outputs": [],
   "source": []
  }
 ],
 "metadata": {
  "kernelspec": {
   "display_name": ".venv",
   "language": "python",
   "name": "python3"
  },
  "language_info": {
   "codemirror_mode": {
    "name": "ipython",
    "version": 3
   },
   "file_extension": ".py",
   "mimetype": "text/x-python",
   "name": "python",
   "nbconvert_exporter": "python",
   "pygments_lexer": "ipython3",
   "version": "3.9.6"
  }
 },
 "nbformat": 4,
 "nbformat_minor": 2
}
