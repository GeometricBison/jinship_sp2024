{
 "cells": [
  {
   "cell_type": "code",
   "execution_count": 14,
   "metadata": {},
   "outputs": [
    {
     "name": "stderr",
     "output_type": "stream",
     "text": [
      "huggingface/tokenizers: The current process just got forked, after parallelism has already been used. Disabling parallelism to avoid deadlocks...\n",
      "To disable this warning, you can either:\n",
      "\t- Avoid using `tokenizers` before the fork if possible\n",
      "\t- Explicitly set the environment variable TOKENIZERS_PARALLELISM=(true | false)\n"
     ]
    },
    {
     "name": "stdout",
     "output_type": "stream",
     "text": [
      "Requirement already satisfied: datasets in ./.venv/lib/python3.9/site-packages (2.17.1)\n",
      "Requirement already satisfied: filelock in ./.venv/lib/python3.9/site-packages (from datasets) (3.13.1)\n",
      "Requirement already satisfied: numpy>=1.17 in ./.venv/lib/python3.9/site-packages (from datasets) (1.26.4)\n",
      "Requirement already satisfied: pyarrow>=12.0.0 in ./.venv/lib/python3.9/site-packages (from datasets) (15.0.0)\n",
      "Requirement already satisfied: pyarrow-hotfix in ./.venv/lib/python3.9/site-packages (from datasets) (0.6)\n",
      "Requirement already satisfied: dill<0.3.9,>=0.3.0 in ./.venv/lib/python3.9/site-packages (from datasets) (0.3.8)\n",
      "Requirement already satisfied: pandas in ./.venv/lib/python3.9/site-packages (from datasets) (2.2.1)\n",
      "Requirement already satisfied: requests>=2.19.0 in ./.venv/lib/python3.9/site-packages (from datasets) (2.31.0)\n",
      "Requirement already satisfied: tqdm>=4.62.1 in ./.venv/lib/python3.9/site-packages (from datasets) (4.66.2)\n",
      "Requirement already satisfied: xxhash in ./.venv/lib/python3.9/site-packages (from datasets) (3.4.1)\n",
      "Requirement already satisfied: multiprocess in ./.venv/lib/python3.9/site-packages (from datasets) (0.70.16)\n",
      "Requirement already satisfied: fsspec<=2023.10.0,>=2023.1.0 in ./.venv/lib/python3.9/site-packages (from fsspec[http]<=2023.10.0,>=2023.1.0->datasets) (2023.10.0)\n",
      "Requirement already satisfied: aiohttp in ./.venv/lib/python3.9/site-packages (from datasets) (3.9.3)\n",
      "Requirement already satisfied: huggingface-hub>=0.19.4 in ./.venv/lib/python3.9/site-packages (from datasets) (0.20.3)\n",
      "Requirement already satisfied: packaging in ./.venv/lib/python3.9/site-packages (from datasets) (23.2)\n",
      "Requirement already satisfied: pyyaml>=5.1 in ./.venv/lib/python3.9/site-packages (from datasets) (6.0.1)\n",
      "Requirement already satisfied: aiosignal>=1.1.2 in ./.venv/lib/python3.9/site-packages (from aiohttp->datasets) (1.3.1)\n",
      "Requirement already satisfied: attrs>=17.3.0 in ./.venv/lib/python3.9/site-packages (from aiohttp->datasets) (23.2.0)\n",
      "Requirement already satisfied: frozenlist>=1.1.1 in ./.venv/lib/python3.9/site-packages (from aiohttp->datasets) (1.4.1)\n",
      "Requirement already satisfied: multidict<7.0,>=4.5 in ./.venv/lib/python3.9/site-packages (from aiohttp->datasets) (6.0.5)\n",
      "Requirement already satisfied: yarl<2.0,>=1.0 in ./.venv/lib/python3.9/site-packages (from aiohttp->datasets) (1.9.4)\n",
      "Requirement already satisfied: async-timeout<5.0,>=4.0 in ./.venv/lib/python3.9/site-packages (from aiohttp->datasets) (4.0.3)\n",
      "Requirement already satisfied: typing-extensions>=3.7.4.3 in ./.venv/lib/python3.9/site-packages (from huggingface-hub>=0.19.4->datasets) (4.10.0)\n",
      "Requirement already satisfied: charset-normalizer<4,>=2 in ./.venv/lib/python3.9/site-packages (from requests>=2.19.0->datasets) (3.3.2)\n",
      "Requirement already satisfied: idna<4,>=2.5 in ./.venv/lib/python3.9/site-packages (from requests>=2.19.0->datasets) (3.6)\n",
      "Requirement already satisfied: urllib3<3,>=1.21.1 in ./.venv/lib/python3.9/site-packages (from requests>=2.19.0->datasets) (2.2.1)\n",
      "Requirement already satisfied: certifi>=2017.4.17 in ./.venv/lib/python3.9/site-packages (from requests>=2.19.0->datasets) (2024.2.2)\n",
      "Requirement already satisfied: python-dateutil>=2.8.2 in ./.venv/lib/python3.9/site-packages (from pandas->datasets) (2.8.2)\n",
      "Requirement already satisfied: pytz>=2020.1 in ./.venv/lib/python3.9/site-packages (from pandas->datasets) (2024.1)\n",
      "Requirement already satisfied: tzdata>=2022.7 in ./.venv/lib/python3.9/site-packages (from pandas->datasets) (2024.1)\n",
      "Requirement already satisfied: six>=1.5 in ./.venv/lib/python3.9/site-packages (from python-dateutil>=2.8.2->pandas->datasets) (1.16.0)\n"
     ]
    },
    {
     "name": "stderr",
     "output_type": "stream",
     "text": [
      "huggingface/tokenizers: The current process just got forked, after parallelism has already been used. Disabling parallelism to avoid deadlocks...\n",
      "To disable this warning, you can either:\n",
      "\t- Avoid using `tokenizers` before the fork if possible\n",
      "\t- Explicitly set the environment variable TOKENIZERS_PARALLELISM=(true | false)\n"
     ]
    },
    {
     "name": "stdout",
     "output_type": "stream",
     "text": [
      "Requirement already satisfied: bertopic in ./.venv/lib/python3.9/site-packages (0.16.0)\n",
      "Requirement already satisfied: numpy>=1.20.0 in ./.venv/lib/python3.9/site-packages (from bertopic) (1.26.4)\n",
      "Requirement already satisfied: hdbscan>=0.8.29 in ./.venv/lib/python3.9/site-packages (from bertopic) (0.8.33)\n",
      "Requirement already satisfied: umap-learn>=0.5.0 in ./.venv/lib/python3.9/site-packages (from bertopic) (0.5.5)\n",
      "Requirement already satisfied: pandas>=1.1.5 in ./.venv/lib/python3.9/site-packages (from bertopic) (2.2.1)\n",
      "Requirement already satisfied: scikit-learn>=0.22.2.post1 in ./.venv/lib/python3.9/site-packages (from bertopic) (1.4.1.post1)\n",
      "Requirement already satisfied: tqdm>=4.41.1 in ./.venv/lib/python3.9/site-packages (from bertopic) (4.66.2)\n",
      "Requirement already satisfied: sentence-transformers>=0.4.1 in ./.venv/lib/python3.9/site-packages (from bertopic) (2.4.0)\n",
      "Requirement already satisfied: plotly>=4.7.0 in ./.venv/lib/python3.9/site-packages (from bertopic) (5.19.0)\n",
      "Requirement already satisfied: cython<3,>=0.27 in ./.venv/lib/python3.9/site-packages (from hdbscan>=0.8.29->bertopic) (0.29.37)\n",
      "Requirement already satisfied: scipy>=1.0 in ./.venv/lib/python3.9/site-packages (from hdbscan>=0.8.29->bertopic) (1.12.0)\n",
      "Requirement already satisfied: joblib>=1.0 in ./.venv/lib/python3.9/site-packages (from hdbscan>=0.8.29->bertopic) (1.3.2)\n",
      "Requirement already satisfied: python-dateutil>=2.8.2 in ./.venv/lib/python3.9/site-packages (from pandas>=1.1.5->bertopic) (2.8.2)\n",
      "Requirement already satisfied: pytz>=2020.1 in ./.venv/lib/python3.9/site-packages (from pandas>=1.1.5->bertopic) (2024.1)\n",
      "Requirement already satisfied: tzdata>=2022.7 in ./.venv/lib/python3.9/site-packages (from pandas>=1.1.5->bertopic) (2024.1)\n",
      "Requirement already satisfied: tenacity>=6.2.0 in ./.venv/lib/python3.9/site-packages (from plotly>=4.7.0->bertopic) (8.2.3)\n",
      "Requirement already satisfied: packaging in ./.venv/lib/python3.9/site-packages (from plotly>=4.7.0->bertopic) (23.2)\n",
      "Requirement already satisfied: threadpoolctl>=2.0.0 in ./.venv/lib/python3.9/site-packages (from scikit-learn>=0.22.2.post1->bertopic) (3.3.0)\n",
      "Requirement already satisfied: transformers<5.0.0,>=4.32.0 in ./.venv/lib/python3.9/site-packages (from sentence-transformers>=0.4.1->bertopic) (4.38.1)\n",
      "Requirement already satisfied: torch>=1.11.0 in ./.venv/lib/python3.9/site-packages (from sentence-transformers>=0.4.1->bertopic) (2.2.1)\n",
      "Requirement already satisfied: huggingface-hub>=0.15.1 in ./.venv/lib/python3.9/site-packages (from sentence-transformers>=0.4.1->bertopic) (0.20.3)\n",
      "Requirement already satisfied: Pillow in ./.venv/lib/python3.9/site-packages (from sentence-transformers>=0.4.1->bertopic) (10.2.0)\n",
      "Requirement already satisfied: numba>=0.51.2 in ./.venv/lib/python3.9/site-packages (from umap-learn>=0.5.0->bertopic) (0.59.0)\n",
      "Requirement already satisfied: pynndescent>=0.5 in ./.venv/lib/python3.9/site-packages (from umap-learn>=0.5.0->bertopic) (0.5.11)\n",
      "Requirement already satisfied: filelock in ./.venv/lib/python3.9/site-packages (from huggingface-hub>=0.15.1->sentence-transformers>=0.4.1->bertopic) (3.13.1)\n",
      "Requirement already satisfied: fsspec>=2023.5.0 in ./.venv/lib/python3.9/site-packages (from huggingface-hub>=0.15.1->sentence-transformers>=0.4.1->bertopic) (2023.10.0)\n",
      "Requirement already satisfied: requests in ./.venv/lib/python3.9/site-packages (from huggingface-hub>=0.15.1->sentence-transformers>=0.4.1->bertopic) (2.31.0)\n",
      "Requirement already satisfied: pyyaml>=5.1 in ./.venv/lib/python3.9/site-packages (from huggingface-hub>=0.15.1->sentence-transformers>=0.4.1->bertopic) (6.0.1)\n",
      "Requirement already satisfied: typing-extensions>=3.7.4.3 in ./.venv/lib/python3.9/site-packages (from huggingface-hub>=0.15.1->sentence-transformers>=0.4.1->bertopic) (4.10.0)\n",
      "Requirement already satisfied: llvmlite<0.43,>=0.42.0dev0 in ./.venv/lib/python3.9/site-packages (from numba>=0.51.2->umap-learn>=0.5.0->bertopic) (0.42.0)\n",
      "Requirement already satisfied: six>=1.5 in ./.venv/lib/python3.9/site-packages (from python-dateutil>=2.8.2->pandas>=1.1.5->bertopic) (1.16.0)\n",
      "Requirement already satisfied: sympy in ./.venv/lib/python3.9/site-packages (from torch>=1.11.0->sentence-transformers>=0.4.1->bertopic) (1.12)\n",
      "Requirement already satisfied: networkx in ./.venv/lib/python3.9/site-packages (from torch>=1.11.0->sentence-transformers>=0.4.1->bertopic) (3.2.1)\n",
      "Requirement already satisfied: jinja2 in ./.venv/lib/python3.9/site-packages (from torch>=1.11.0->sentence-transformers>=0.4.1->bertopic) (3.1.3)\n",
      "Requirement already satisfied: regex!=2019.12.17 in ./.venv/lib/python3.9/site-packages (from transformers<5.0.0,>=4.32.0->sentence-transformers>=0.4.1->bertopic) (2023.12.25)\n",
      "Requirement already satisfied: tokenizers<0.19,>=0.14 in ./.venv/lib/python3.9/site-packages (from transformers<5.0.0,>=4.32.0->sentence-transformers>=0.4.1->bertopic) (0.15.2)\n",
      "Requirement already satisfied: safetensors>=0.4.1 in ./.venv/lib/python3.9/site-packages (from transformers<5.0.0,>=4.32.0->sentence-transformers>=0.4.1->bertopic) (0.4.2)\n",
      "Requirement already satisfied: MarkupSafe>=2.0 in ./.venv/lib/python3.9/site-packages (from jinja2->torch>=1.11.0->sentence-transformers>=0.4.1->bertopic) (2.1.5)\n",
      "Requirement already satisfied: charset-normalizer<4,>=2 in ./.venv/lib/python3.9/site-packages (from requests->huggingface-hub>=0.15.1->sentence-transformers>=0.4.1->bertopic) (3.3.2)\n",
      "Requirement already satisfied: idna<4,>=2.5 in ./.venv/lib/python3.9/site-packages (from requests->huggingface-hub>=0.15.1->sentence-transformers>=0.4.1->bertopic) (3.6)\n",
      "Requirement already satisfied: urllib3<3,>=1.21.1 in ./.venv/lib/python3.9/site-packages (from requests->huggingface-hub>=0.15.1->sentence-transformers>=0.4.1->bertopic) (2.2.1)\n",
      "Requirement already satisfied: certifi>=2017.4.17 in ./.venv/lib/python3.9/site-packages (from requests->huggingface-hub>=0.15.1->sentence-transformers>=0.4.1->bertopic) (2024.2.2)\n",
      "Requirement already satisfied: mpmath>=0.19 in ./.venv/lib/python3.9/site-packages (from sympy->torch>=1.11.0->sentence-transformers>=0.4.1->bertopic) (1.3.0)\n"
     ]
    },
    {
     "name": "stderr",
     "output_type": "stream",
     "text": [
      "huggingface/tokenizers: The current process just got forked, after parallelism has already been used. Disabling parallelism to avoid deadlocks...\n",
      "To disable this warning, you can either:\n",
      "\t- Avoid using `tokenizers` before the fork if possible\n",
      "\t- Explicitly set the environment variable TOKENIZERS_PARALLELISM=(true | false)\n"
     ]
    },
    {
     "name": "stdout",
     "output_type": "stream",
     "text": [
      "Requirement already satisfied: langchain in ./.venv/lib/python3.9/site-packages (0.1.9)\n",
      "Requirement already satisfied: PyYAML>=5.3 in ./.venv/lib/python3.9/site-packages (from langchain) (6.0.1)\n",
      "Requirement already satisfied: SQLAlchemy<3,>=1.4 in ./.venv/lib/python3.9/site-packages (from langchain) (2.0.27)\n",
      "Requirement already satisfied: aiohttp<4.0.0,>=3.8.3 in ./.venv/lib/python3.9/site-packages (from langchain) (3.9.3)\n",
      "Requirement already satisfied: async-timeout<5.0.0,>=4.0.0 in ./.venv/lib/python3.9/site-packages (from langchain) (4.0.3)\n",
      "Requirement already satisfied: dataclasses-json<0.7,>=0.5.7 in ./.venv/lib/python3.9/site-packages (from langchain) (0.6.4)\n",
      "Requirement already satisfied: jsonpatch<2.0,>=1.33 in ./.venv/lib/python3.9/site-packages (from langchain) (1.33)\n",
      "Requirement already satisfied: langchain-community<0.1,>=0.0.21 in ./.venv/lib/python3.9/site-packages (from langchain) (0.0.24)\n",
      "Requirement already satisfied: langchain-core<0.2,>=0.1.26 in ./.venv/lib/python3.9/site-packages (from langchain) (0.1.27)\n",
      "Requirement already satisfied: langsmith<0.2.0,>=0.1.0 in ./.venv/lib/python3.9/site-packages (from langchain) (0.1.10)\n",
      "Requirement already satisfied: numpy<2,>=1 in ./.venv/lib/python3.9/site-packages (from langchain) (1.26.4)\n",
      "Requirement already satisfied: pydantic<3,>=1 in ./.venv/lib/python3.9/site-packages (from langchain) (2.6.2)\n",
      "Requirement already satisfied: requests<3,>=2 in ./.venv/lib/python3.9/site-packages (from langchain) (2.31.0)\n",
      "Requirement already satisfied: tenacity<9.0.0,>=8.1.0 in ./.venv/lib/python3.9/site-packages (from langchain) (8.2.3)\n",
      "Requirement already satisfied: aiosignal>=1.1.2 in ./.venv/lib/python3.9/site-packages (from aiohttp<4.0.0,>=3.8.3->langchain) (1.3.1)\n",
      "Requirement already satisfied: attrs>=17.3.0 in ./.venv/lib/python3.9/site-packages (from aiohttp<4.0.0,>=3.8.3->langchain) (23.2.0)\n",
      "Requirement already satisfied: frozenlist>=1.1.1 in ./.venv/lib/python3.9/site-packages (from aiohttp<4.0.0,>=3.8.3->langchain) (1.4.1)\n",
      "Requirement already satisfied: multidict<7.0,>=4.5 in ./.venv/lib/python3.9/site-packages (from aiohttp<4.0.0,>=3.8.3->langchain) (6.0.5)\n",
      "Requirement already satisfied: yarl<2.0,>=1.0 in ./.venv/lib/python3.9/site-packages (from aiohttp<4.0.0,>=3.8.3->langchain) (1.9.4)\n",
      "Requirement already satisfied: marshmallow<4.0.0,>=3.18.0 in ./.venv/lib/python3.9/site-packages (from dataclasses-json<0.7,>=0.5.7->langchain) (3.21.0)\n",
      "Requirement already satisfied: typing-inspect<1,>=0.4.0 in ./.venv/lib/python3.9/site-packages (from dataclasses-json<0.7,>=0.5.7->langchain) (0.9.0)\n",
      "Requirement already satisfied: jsonpointer>=1.9 in ./.venv/lib/python3.9/site-packages (from jsonpatch<2.0,>=1.33->langchain) (2.4)\n",
      "Requirement already satisfied: anyio<5,>=3 in ./.venv/lib/python3.9/site-packages (from langchain-core<0.2,>=0.1.26->langchain) (4.3.0)\n",
      "Requirement already satisfied: packaging<24.0,>=23.2 in ./.venv/lib/python3.9/site-packages (from langchain-core<0.2,>=0.1.26->langchain) (23.2)\n",
      "Requirement already satisfied: orjson<4.0.0,>=3.9.14 in ./.venv/lib/python3.9/site-packages (from langsmith<0.2.0,>=0.1.0->langchain) (3.9.15)\n",
      "Requirement already satisfied: annotated-types>=0.4.0 in ./.venv/lib/python3.9/site-packages (from pydantic<3,>=1->langchain) (0.6.0)\n",
      "Requirement already satisfied: pydantic-core==2.16.3 in ./.venv/lib/python3.9/site-packages (from pydantic<3,>=1->langchain) (2.16.3)\n",
      "Requirement already satisfied: typing-extensions>=4.6.1 in ./.venv/lib/python3.9/site-packages (from pydantic<3,>=1->langchain) (4.10.0)\n",
      "Requirement already satisfied: charset-normalizer<4,>=2 in ./.venv/lib/python3.9/site-packages (from requests<3,>=2->langchain) (3.3.2)\n",
      "Requirement already satisfied: idna<4,>=2.5 in ./.venv/lib/python3.9/site-packages (from requests<3,>=2->langchain) (3.6)\n",
      "Requirement already satisfied: urllib3<3,>=1.21.1 in ./.venv/lib/python3.9/site-packages (from requests<3,>=2->langchain) (2.2.1)\n",
      "Requirement already satisfied: certifi>=2017.4.17 in ./.venv/lib/python3.9/site-packages (from requests<3,>=2->langchain) (2024.2.2)\n",
      "Requirement already satisfied: sniffio>=1.1 in ./.venv/lib/python3.9/site-packages (from anyio<5,>=3->langchain-core<0.2,>=0.1.26->langchain) (1.3.1)\n",
      "Requirement already satisfied: exceptiongroup>=1.0.2 in ./.venv/lib/python3.9/site-packages (from anyio<5,>=3->langchain-core<0.2,>=0.1.26->langchain) (1.2.0)\n",
      "Requirement already satisfied: mypy-extensions>=0.3.0 in ./.venv/lib/python3.9/site-packages (from typing-inspect<1,>=0.4.0->dataclasses-json<0.7,>=0.5.7->langchain) (1.0.0)\n"
     ]
    },
    {
     "name": "stderr",
     "output_type": "stream",
     "text": [
      "huggingface/tokenizers: The current process just got forked, after parallelism has already been used. Disabling parallelism to avoid deadlocks...\n",
      "To disable this warning, you can either:\n",
      "\t- Avoid using `tokenizers` before the fork if possible\n",
      "\t- Explicitly set the environment variable TOKENIZERS_PARALLELISM=(true | false)\n"
     ]
    },
    {
     "name": "stdout",
     "output_type": "stream",
     "text": [
      "Requirement already satisfied: ctransformers in ./.venv/lib/python3.9/site-packages (0.2.27)\n",
      "Requirement already satisfied: huggingface-hub in ./.venv/lib/python3.9/site-packages (from ctransformers) (0.20.3)\n",
      "Requirement already satisfied: py-cpuinfo<10.0.0,>=9.0.0 in ./.venv/lib/python3.9/site-packages (from ctransformers) (9.0.0)\n",
      "Requirement already satisfied: filelock in ./.venv/lib/python3.9/site-packages (from huggingface-hub->ctransformers) (3.13.1)\n",
      "Requirement already satisfied: fsspec>=2023.5.0 in ./.venv/lib/python3.9/site-packages (from huggingface-hub->ctransformers) (2023.10.0)\n",
      "Requirement already satisfied: requests in ./.venv/lib/python3.9/site-packages (from huggingface-hub->ctransformers) (2.31.0)\n",
      "Requirement already satisfied: tqdm>=4.42.1 in ./.venv/lib/python3.9/site-packages (from huggingface-hub->ctransformers) (4.66.2)\n",
      "Requirement already satisfied: pyyaml>=5.1 in ./.venv/lib/python3.9/site-packages (from huggingface-hub->ctransformers) (6.0.1)\n",
      "Requirement already satisfied: typing-extensions>=3.7.4.3 in ./.venv/lib/python3.9/site-packages (from huggingface-hub->ctransformers) (4.10.0)\n",
      "Requirement already satisfied: packaging>=20.9 in ./.venv/lib/python3.9/site-packages (from huggingface-hub->ctransformers) (23.2)\n",
      "Requirement already satisfied: charset-normalizer<4,>=2 in ./.venv/lib/python3.9/site-packages (from requests->huggingface-hub->ctransformers) (3.3.2)\n",
      "Requirement already satisfied: idna<4,>=2.5 in ./.venv/lib/python3.9/site-packages (from requests->huggingface-hub->ctransformers) (3.6)\n",
      "Requirement already satisfied: urllib3<3,>=1.21.1 in ./.venv/lib/python3.9/site-packages (from requests->huggingface-hub->ctransformers) (2.2.1)\n",
      "Requirement already satisfied: certifi>=2017.4.17 in ./.venv/lib/python3.9/site-packages (from requests->huggingface-hub->ctransformers) (2024.2.2)\n"
     ]
    },
    {
     "name": "stderr",
     "output_type": "stream",
     "text": [
      "huggingface/tokenizers: The current process just got forked, after parallelism has already been used. Disabling parallelism to avoid deadlocks...\n",
      "To disable this warning, you can either:\n",
      "\t- Avoid using `tokenizers` before the fork if possible\n",
      "\t- Explicitly set the environment variable TOKENIZERS_PARALLELISM=(true | false)\n"
     ]
    },
    {
     "name": "stdout",
     "output_type": "stream",
     "text": [
      "Requirement already satisfied: nltk in ./.venv/lib/python3.9/site-packages (3.8.1)\n",
      "Requirement already satisfied: click in ./.venv/lib/python3.9/site-packages (from nltk) (8.1.7)\n",
      "Requirement already satisfied: joblib in ./.venv/lib/python3.9/site-packages (from nltk) (1.3.2)\n",
      "Requirement already satisfied: regex>=2021.8.3 in ./.venv/lib/python3.9/site-packages (from nltk) (2023.12.25)\n",
      "Requirement already satisfied: tqdm in ./.venv/lib/python3.9/site-packages (from nltk) (4.66.2)\n"
     ]
    }
   ],
   "source": [
    "!pip install datasets\n",
    "!pip install bertopic\n",
    "!pip install langchain\n",
    "!pip install ctransformers\n",
    "!pip install nltk"
   ]
  },
  {
   "cell_type": "markdown",
   "metadata": {},
   "source": [
    "# Pulled from Anish's Branch Bert Topic Modeling "
   ]
  },
  {
   "cell_type": "code",
   "execution_count": 15,
   "metadata": {},
   "outputs": [],
   "source": [
    "from datasets import load_dataset\n",
    "from bertopic import BERTopic\n",
    "from langchain.llms import CTransformers\n",
    "from langchain.prompts import PromptTemplate\n",
    "\n",
    "dataset = load_dataset(\"hugginglearners/netflix-shows\", split=\"train\")"
   ]
  },
  {
   "cell_type": "code",
   "execution_count": 16,
   "metadata": {},
   "outputs": [],
   "source": [
    "topic_model = BERTopic(nr_topics=20)\n",
    "topics, probabilities = topic_model.fit_transform(dataset['description'])"
   ]
  },
  {
   "cell_type": "code",
   "execution_count": 17,
   "metadata": {},
   "outputs": [
    {
     "data": {
      "text/html": [
       "<div>\n",
       "<style scoped>\n",
       "    .dataframe tbody tr th:only-of-type {\n",
       "        vertical-align: middle;\n",
       "    }\n",
       "\n",
       "    .dataframe tbody tr th {\n",
       "        vertical-align: top;\n",
       "    }\n",
       "\n",
       "    .dataframe thead th {\n",
       "        text-align: right;\n",
       "    }\n",
       "</style>\n",
       "<table border=\"1\" class=\"dataframe\">\n",
       "  <thead>\n",
       "    <tr style=\"text-align: right;\">\n",
       "      <th></th>\n",
       "      <th>Topic</th>\n",
       "      <th>Count</th>\n",
       "      <th>Name</th>\n",
       "      <th>Representation</th>\n",
       "      <th>Representative_Docs</th>\n",
       "    </tr>\n",
       "  </thead>\n",
       "  <tbody>\n",
       "    <tr>\n",
       "      <th>0</th>\n",
       "      <td>-1</td>\n",
       "      <td>4483</td>\n",
       "      <td>-1_the_to_and_of</td>\n",
       "      <td>[the, to, and, of, in, his, her, with, an, for]</td>\n",
       "      <td>[Following the mysterious death of his parents...</td>\n",
       "    </tr>\n",
       "    <tr>\n",
       "      <th>1</th>\n",
       "      <td>0</td>\n",
       "      <td>968</td>\n",
       "      <td>0_and_the_in_this</td>\n",
       "      <td>[and, the, in, this, of, standup, his, comedy,...</td>\n",
       "      <td>[With his uproarious tirade on modern behavior...</td>\n",
       "    </tr>\n",
       "    <tr>\n",
       "      <th>2</th>\n",
       "      <td>1</td>\n",
       "      <td>722</td>\n",
       "      <td>1_his_to_of_the</td>\n",
       "      <td>[his, to, of, the, in, an, and, with, murder, is]</td>\n",
       "      <td>[A lawyer defends his childhood friend – and g...</td>\n",
       "    </tr>\n",
       "    <tr>\n",
       "      <th>3</th>\n",
       "      <td>2</td>\n",
       "      <td>535</td>\n",
       "      <td>2_to_their_her_the</td>\n",
       "      <td>[to, their, her, the, and, in, of, when, with,...</td>\n",
       "      <td>[When a young man leaves home to fulfill the w...</td>\n",
       "    </tr>\n",
       "    <tr>\n",
       "      <th>4</th>\n",
       "      <td>3</td>\n",
       "      <td>287</td>\n",
       "      <td>3_and_christmas_the_to</td>\n",
       "      <td>[and, christmas, the, to, of, friends, with, i...</td>\n",
       "      <td>[On the first night of spring, the Super Monst...</td>\n",
       "    </tr>\n",
       "    <tr>\n",
       "      <th>5</th>\n",
       "      <td>4</td>\n",
       "      <td>285</td>\n",
       "      <td>4_the_of_war_to</td>\n",
       "      <td>[the, of, war, to, agent, in, terrorist, missi...</td>\n",
       "      <td>[A Secret Service agent is drawn into a terror...</td>\n",
       "    </tr>\n",
       "    <tr>\n",
       "      <th>6</th>\n",
       "      <td>5</td>\n",
       "      <td>238</td>\n",
       "      <td>5_the_of_and_to</td>\n",
       "      <td>[the, of, and, to, this, on, earth, in, docume...</td>\n",
       "      <td>[This five-part nature series chronicles fasci...</td>\n",
       "    </tr>\n",
       "    <tr>\n",
       "      <th>7</th>\n",
       "      <td>6</td>\n",
       "      <td>218</td>\n",
       "      <td>6_the_to_rangers_his</td>\n",
       "      <td>[the, to, rangers, his, and, of, he, in, marti...</td>\n",
       "      <td>[A new generation of Power Rangers must master...</td>\n",
       "    </tr>\n",
       "    <tr>\n",
       "      <th>8</th>\n",
       "      <td>7</td>\n",
       "      <td>215</td>\n",
       "      <td>7_their_couple_to_love</td>\n",
       "      <td>[their, couple, to, love, and, but, for, coupl...</td>\n",
       "      <td>[Bored in their happy marriage, a couple decid...</td>\n",
       "    </tr>\n",
       "    <tr>\n",
       "      <th>9</th>\n",
       "      <td>8</td>\n",
       "      <td>206</td>\n",
       "      <td>8_school_high_student_and</td>\n",
       "      <td>[school, high, student, and, to, teacher, of, ...</td>\n",
       "      <td>[A quirk of fate sends an ordinary, sweet-natu...</td>\n",
       "    </tr>\n",
       "    <tr>\n",
       "      <th>10</th>\n",
       "      <td>9</td>\n",
       "      <td>121</td>\n",
       "      <td>9_soccer_the_team_football</td>\n",
       "      <td>[soccer, the, team, football, player, athletes...</td>\n",
       "      <td>[The development of professional soccer worldw...</td>\n",
       "    </tr>\n",
       "    <tr>\n",
       "      <th>11</th>\n",
       "      <td>10</td>\n",
       "      <td>118</td>\n",
       "      <td>10_chef_food_and_the</td>\n",
       "      <td>[chef, food, and, the, chefs, cooking, of, dis...</td>\n",
       "      <td>[A female food blogger is hired as a personal ...</td>\n",
       "    </tr>\n",
       "    <tr>\n",
       "      <th>12</th>\n",
       "      <td>11</td>\n",
       "      <td>88</td>\n",
       "      <td>11_drug_the_of_and</td>\n",
       "      <td>[drug, the, of, and, in, mexican, marijuana, t...</td>\n",
       "      <td>[A petty smuggler from Busan dives headfirst i...</td>\n",
       "    </tr>\n",
       "    <tr>\n",
       "      <th>13</th>\n",
       "      <td>12</td>\n",
       "      <td>86</td>\n",
       "      <td>12_doctor_medical_patients_and</td>\n",
       "      <td>[doctor, medical, patients, and, her, hospital...</td>\n",
       "      <td>[In this new take on a classic tale, an ancien...</td>\n",
       "    </tr>\n",
       "    <tr>\n",
       "      <th>14</th>\n",
       "      <td>13</td>\n",
       "      <td>68</td>\n",
       "      <td>13_demon_the_his_of</td>\n",
       "      <td>[demon, the, his, of, priest, is, to, jesus, i...</td>\n",
       "      <td>[A powerful demon has been sealed away for 200...</td>\n",
       "    </tr>\n",
       "    <tr>\n",
       "      <th>15</th>\n",
       "      <td>14</td>\n",
       "      <td>57</td>\n",
       "      <td>14_dance_dancer_barbie_her</td>\n",
       "      <td>[dance, dancer, barbie, her, ballet, dancing, ...</td>\n",
       "      <td>[A gifted young ballet dancer struggles to fin...</td>\n",
       "    </tr>\n",
       "    <tr>\n",
       "      <th>16</th>\n",
       "      <td>15</td>\n",
       "      <td>36</td>\n",
       "      <td>15_bheem_chhota_the_save</td>\n",
       "      <td>[bheem, chhota, the, save, can, to, from, bhee...</td>\n",
       "      <td>[When Dholakpur’s princess is kidnapped, Bheem...</td>\n",
       "    </tr>\n",
       "    <tr>\n",
       "      <th>17</th>\n",
       "      <td>16</td>\n",
       "      <td>34</td>\n",
       "      <td>16_racing_the_cars_drivers</td>\n",
       "      <td>[racing, the, cars, drivers, bus, and, train, ...</td>\n",
       "      <td>[Life in the garage swerves off track for a NA...</td>\n",
       "    </tr>\n",
       "    <tr>\n",
       "      <th>18</th>\n",
       "      <td>17</td>\n",
       "      <td>27</td>\n",
       "      <td>17_his_to_indian_india</td>\n",
       "      <td>[his, to, indian, india, muslim, indias, hindu...</td>\n",
       "      <td>[An intelligent boy born into poverty befriend...</td>\n",
       "    </tr>\n",
       "    <tr>\n",
       "      <th>19</th>\n",
       "      <td>18</td>\n",
       "      <td>15</td>\n",
       "      <td>18_of_royal_queen_englands</td>\n",
       "      <td>[of, royal, queen, englands, elizabeth, the, a...</td>\n",
       "      <td>[This drama follows the political rivalries an...</td>\n",
       "    </tr>\n",
       "  </tbody>\n",
       "</table>\n",
       "</div>"
      ],
      "text/plain": [
       "    Topic  Count                            Name  \\\n",
       "0      -1   4483                -1_the_to_and_of   \n",
       "1       0    968               0_and_the_in_this   \n",
       "2       1    722                 1_his_to_of_the   \n",
       "3       2    535              2_to_their_her_the   \n",
       "4       3    287          3_and_christmas_the_to   \n",
       "5       4    285                 4_the_of_war_to   \n",
       "6       5    238                 5_the_of_and_to   \n",
       "7       6    218            6_the_to_rangers_his   \n",
       "8       7    215          7_their_couple_to_love   \n",
       "9       8    206       8_school_high_student_and   \n",
       "10      9    121      9_soccer_the_team_football   \n",
       "11     10    118            10_chef_food_and_the   \n",
       "12     11     88              11_drug_the_of_and   \n",
       "13     12     86  12_doctor_medical_patients_and   \n",
       "14     13     68             13_demon_the_his_of   \n",
       "15     14     57      14_dance_dancer_barbie_her   \n",
       "16     15     36        15_bheem_chhota_the_save   \n",
       "17     16     34      16_racing_the_cars_drivers   \n",
       "18     17     27          17_his_to_indian_india   \n",
       "19     18     15      18_of_royal_queen_englands   \n",
       "\n",
       "                                       Representation  \\\n",
       "0     [the, to, and, of, in, his, her, with, an, for]   \n",
       "1   [and, the, in, this, of, standup, his, comedy,...   \n",
       "2   [his, to, of, the, in, an, and, with, murder, is]   \n",
       "3   [to, their, her, the, and, in, of, when, with,...   \n",
       "4   [and, christmas, the, to, of, friends, with, i...   \n",
       "5   [the, of, war, to, agent, in, terrorist, missi...   \n",
       "6   [the, of, and, to, this, on, earth, in, docume...   \n",
       "7   [the, to, rangers, his, and, of, he, in, marti...   \n",
       "8   [their, couple, to, love, and, but, for, coupl...   \n",
       "9   [school, high, student, and, to, teacher, of, ...   \n",
       "10  [soccer, the, team, football, player, athletes...   \n",
       "11  [chef, food, and, the, chefs, cooking, of, dis...   \n",
       "12  [drug, the, of, and, in, mexican, marijuana, t...   \n",
       "13  [doctor, medical, patients, and, her, hospital...   \n",
       "14  [demon, the, his, of, priest, is, to, jesus, i...   \n",
       "15  [dance, dancer, barbie, her, ballet, dancing, ...   \n",
       "16  [bheem, chhota, the, save, can, to, from, bhee...   \n",
       "17  [racing, the, cars, drivers, bus, and, train, ...   \n",
       "18  [his, to, indian, india, muslim, indias, hindu...   \n",
       "19  [of, royal, queen, englands, elizabeth, the, a...   \n",
       "\n",
       "                                  Representative_Docs  \n",
       "0   [Following the mysterious death of his parents...  \n",
       "1   [With his uproarious tirade on modern behavior...  \n",
       "2   [A lawyer defends his childhood friend – and g...  \n",
       "3   [When a young man leaves home to fulfill the w...  \n",
       "4   [On the first night of spring, the Super Monst...  \n",
       "5   [A Secret Service agent is drawn into a terror...  \n",
       "6   [This five-part nature series chronicles fasci...  \n",
       "7   [A new generation of Power Rangers must master...  \n",
       "8   [Bored in their happy marriage, a couple decid...  \n",
       "9   [A quirk of fate sends an ordinary, sweet-natu...  \n",
       "10  [The development of professional soccer worldw...  \n",
       "11  [A female food blogger is hired as a personal ...  \n",
       "12  [A petty smuggler from Busan dives headfirst i...  \n",
       "13  [In this new take on a classic tale, an ancien...  \n",
       "14  [A powerful demon has been sealed away for 200...  \n",
       "15  [A gifted young ballet dancer struggles to fin...  \n",
       "16  [When Dholakpur’s princess is kidnapped, Bheem...  \n",
       "17  [Life in the garage swerves off track for a NA...  \n",
       "18  [An intelligent boy born into poverty befriend...  \n",
       "19  [This drama follows the political rivalries an...  "
      ]
     },
     "execution_count": 17,
     "metadata": {},
     "output_type": "execute_result"
    }
   ],
   "source": [
    "topic_model.get_topic_info()"
   ]
  },
  {
   "cell_type": "code",
   "execution_count": 18,
   "metadata": {},
   "outputs": [
    {
     "name": "stderr",
     "output_type": "stream",
     "text": [
      "[nltk_data] Downloading package stopwords to\n",
      "[nltk_data]     /Users/ayushjain/nltk_data...\n",
      "[nltk_data]   Package stopwords is already up-to-date!\n"
     ]
    },
    {
     "data": {
      "text/plain": [
       "['father nears end life, filmmaker Kirsten Johnson stages death inventive comical ways help face inevitable.',\n",
       " 'After crossing paths party, Cape Town teen sets prove whether private-school swimming star sister abducted birth.',\n",
       " 'protect family powerful drug lord, skilled thief Mehdi expert team robbers pulled violent deadly turf war.',\n",
       " 'Feuds, flirtations toilet talk go among incarcerated women Orleans Justice Center New Orleans gritty reality series.',\n",
       " 'city coaching centers known train India’s finest collegiate minds, earnest unexceptional student friends navigate campus life.',\n",
       " 'arrival charismatic young priest brings glorious miracles, ominous mysteries renewed religious fervor dying town desperate believe.',\n",
       " \"Equestria's divided. But bright-eyed hero believes Earth Ponies, Pegasi Unicorns pals — and, hoof heart, she’s determined prove it.\",\n",
       " 'On photo shoot Ghana, American model slips back time, becomes enslaved plantation bears witness agony ancestral past.',\n",
       " \"talented batch amateur bakers face 10-week competition, whipping best dishes hopes named U.K.'s best.\",\n",
       " \"woman adjusting life loss contends feisty bird that's taken garden — husband who's struggling find way forward.\"]"
      ]
     },
     "execution_count": 18,
     "metadata": {},
     "output_type": "execute_result"
    }
   ],
   "source": [
    "import nltk\n",
    "from nltk.corpus import stopwords\n",
    "nltk.download('stopwords')\n",
    "\n",
    "stopwords = stopwords.words('english')\n",
    "stopwords.append('the')\n",
    "stopwords.append('and')\n",
    "stopwords.append('to')\n",
    "stopwords.append('of')\n",
    "stopwords.append('in')\n",
    "stopwords.append('with')\n",
    "stopwords.append('an')\n",
    "stopwords.append('The')\n",
    "stopwords.append('And')\n",
    "stopwords.append('To')\n",
    "stopwords.append('Of')\n",
    "stopwords.append('In')\n",
    "stopwords.append('With')\n",
    "stopwords.append('An')\n",
    "stopwords.append('A')\n",
    "stopwords.append('As')\n",
    "stopwords.append('as')\n",
    "\n",
    "descriptions = dataset['description']\n",
    "\n",
    "def remove_stopwords(text):\n",
    "    output= ' '.join([i for i in text.split() if i not in stopwords])\n",
    "    return output\n",
    "\n",
    "processed_descriptions = [remove_stopwords(text) for text in descriptions]\n",
    "processed_descriptions[:10]"
   ]
  },
  {
   "cell_type": "code",
   "execution_count": 19,
   "metadata": {},
   "outputs": [
    {
     "data": {
      "text/html": [
       "<div>\n",
       "<style scoped>\n",
       "    .dataframe tbody tr th:only-of-type {\n",
       "        vertical-align: middle;\n",
       "    }\n",
       "\n",
       "    .dataframe tbody tr th {\n",
       "        vertical-align: top;\n",
       "    }\n",
       "\n",
       "    .dataframe thead th {\n",
       "        text-align: right;\n",
       "    }\n",
       "</style>\n",
       "<table border=\"1\" class=\"dataframe\">\n",
       "  <thead>\n",
       "    <tr style=\"text-align: right;\">\n",
       "      <th></th>\n",
       "      <th>Topic</th>\n",
       "      <th>Count</th>\n",
       "      <th>Name</th>\n",
       "      <th>Representation</th>\n",
       "      <th>Representative_Docs</th>\n",
       "    </tr>\n",
       "  </thead>\n",
       "  <tbody>\n",
       "    <tr>\n",
       "      <th>0</th>\n",
       "      <td>-1</td>\n",
       "      <td>4847</td>\n",
       "      <td>-1_young_life_when_family</td>\n",
       "      <td>[young, life, when, family, after, love, new, ...</td>\n",
       "      <td>[Married two women – unaware – man finds doubl...</td>\n",
       "    </tr>\n",
       "    <tr>\n",
       "      <th>1</th>\n",
       "      <td>0</td>\n",
       "      <td>1051</td>\n",
       "      <td>0_standup_comedian_comedy_special</td>\n",
       "      <td>[standup, comedian, comedy, special, documenta...</td>\n",
       "      <td>[Members comedy group Na Stojáka take stage mi...</td>\n",
       "    </tr>\n",
       "    <tr>\n",
       "      <th>2</th>\n",
       "      <td>1</td>\n",
       "      <td>647</td>\n",
       "      <td>1_love_woman_young_family</td>\n",
       "      <td>[love, woman, young, family, life, new, when, ...</td>\n",
       "      <td>[1979, single bohemian mom Dorothea, hoping he...</td>\n",
       "    </tr>\n",
       "    <tr>\n",
       "      <th>3</th>\n",
       "      <td>2</td>\n",
       "      <td>463</td>\n",
       "      <td>2_murder_detective_crime_police</td>\n",
       "      <td>[murder, detective, crime, police, daughter, p...</td>\n",
       "      <td>[reporter must hunt truth behind strange murde...</td>\n",
       "    </tr>\n",
       "    <tr>\n",
       "      <th>4</th>\n",
       "      <td>3</td>\n",
       "      <td>296</td>\n",
       "      <td>3_christmas_dog_holiday_friends</td>\n",
       "      <td>[christmas, dog, holiday, friends, santa, adve...</td>\n",
       "      <td>[When Santa crash-lands junkyard Christmas Eve...</td>\n",
       "    </tr>\n",
       "    <tr>\n",
       "      <th>5</th>\n",
       "      <td>4</td>\n",
       "      <td>280</td>\n",
       "      <td>4_mission_earth_agent_terrorist</td>\n",
       "      <td>[mission, earth, agent, terrorist, space, plan...</td>\n",
       "      <td>[government agent wrongly accused crime gets s...</td>\n",
       "    </tr>\n",
       "    <tr>\n",
       "      <th>6</th>\n",
       "      <td>5</td>\n",
       "      <td>252</td>\n",
       "      <td>5_school_haunted_high_teacher</td>\n",
       "      <td>[school, haunted, high, teacher, horror, new, ...</td>\n",
       "      <td>[After one high school students attacks him, d...</td>\n",
       "    </tr>\n",
       "    <tr>\n",
       "      <th>7</th>\n",
       "      <td>6</td>\n",
       "      <td>231</td>\n",
       "      <td>6_soccer_dance_team_dancer</td>\n",
       "      <td>[soccer, dance, team, dancer, compete, win, co...</td>\n",
       "      <td>[This drama series follows young dancers Next ...</td>\n",
       "    </tr>\n",
       "    <tr>\n",
       "      <th>8</th>\n",
       "      <td>7</td>\n",
       "      <td>196</td>\n",
       "      <td>7_animals_sea_documentary_shark</td>\n",
       "      <td>[animals, sea, documentary, shark, ocean, crea...</td>\n",
       "      <td>[Octonauts expand exploration beyond sea — ont...</td>\n",
       "    </tr>\n",
       "    <tr>\n",
       "      <th>9</th>\n",
       "      <td>8</td>\n",
       "      <td>117</td>\n",
       "      <td>8_martial_arts_fu_kung</td>\n",
       "      <td>[martial, arts, fu, kung, boxer, master, fight...</td>\n",
       "      <td>[Martial arts master Ip springs action son's s...</td>\n",
       "    </tr>\n",
       "    <tr>\n",
       "      <th>10</th>\n",
       "      <td>9</td>\n",
       "      <td>114</td>\n",
       "      <td>9_bheem_rangers_power_evil</td>\n",
       "      <td>[bheem, rangers, power, evil, kingdom, king, n...</td>\n",
       "      <td>[Bheem King Indraverma travel Rome trading ven...</td>\n",
       "    </tr>\n",
       "    <tr>\n",
       "      <th>11</th>\n",
       "      <td>10</td>\n",
       "      <td>83</td>\n",
       "      <td>10_nazi_war_ii_world</td>\n",
       "      <td>[nazi, war, ii, world, this, documentary, jewi...</td>\n",
       "      <td>[1943, staff Berlin's Charité hospital struggl...</td>\n",
       "    </tr>\n",
       "    <tr>\n",
       "      <th>12</th>\n",
       "      <td>11</td>\n",
       "      <td>58</td>\n",
       "      <td>11_zombie_survivors_virus_earthquake</td>\n",
       "      <td>[zombie, survivors, virus, earthquake, outbrea...</td>\n",
       "      <td>[When finally encounters two survivors, woman ...</td>\n",
       "    </tr>\n",
       "    <tr>\n",
       "      <th>13</th>\n",
       "      <td>12</td>\n",
       "      <td>57</td>\n",
       "      <td>12_drug_mexican_pablo_mexico</td>\n",
       "      <td>[drug, mexican, pablo, mexico, spanish, cartel...</td>\n",
       "      <td>[true story Colombia's infamously violent powe...</td>\n",
       "    </tr>\n",
       "    <tr>\n",
       "      <th>14</th>\n",
       "      <td>13</td>\n",
       "      <td>32</td>\n",
       "      <td>13_politician_political_journalists_corruption</td>\n",
       "      <td>[politician, political, journalists, corruptio...</td>\n",
       "      <td>[After accepting colossal bribe, powerful TV c...</td>\n",
       "    </tr>\n",
       "    <tr>\n",
       "      <th>15</th>\n",
       "      <td>14</td>\n",
       "      <td>21</td>\n",
       "      <td>14_science_infants_scientist_from</td>\n",
       "      <td>[science, infants, scientist, from, lab, nurtu...</td>\n",
       "      <td>[From breakthrough science boundaries morality...</td>\n",
       "    </tr>\n",
       "    <tr>\n",
       "      <th>16</th>\n",
       "      <td>15</td>\n",
       "      <td>20</td>\n",
       "      <td>15_beirut_lebanese_war_lebanons</td>\n",
       "      <td>[beirut, lebanese, war, lebanons, syrian, syri...</td>\n",
       "      <td>[Abducted Lebanese Civil War 50s, Ramez finall...</td>\n",
       "    </tr>\n",
       "    <tr>\n",
       "      <th>17</th>\n",
       "      <td>16</td>\n",
       "      <td>18</td>\n",
       "      <td>16_riots_police_racial_documentary</td>\n",
       "      <td>[riots, police, racial, documentary, movement,...</td>\n",
       "      <td>[Roger Guenveur Smith gives voice man center b...</td>\n",
       "    </tr>\n",
       "    <tr>\n",
       "      <th>18</th>\n",
       "      <td>17</td>\n",
       "      <td>12</td>\n",
       "      <td>17_missing_cryptic_report_husband</td>\n",
       "      <td>[missing, cryptic, report, husband, husbands, ...</td>\n",
       "      <td>[Multiple women report husbands missing appear...</td>\n",
       "    </tr>\n",
       "    <tr>\n",
       "      <th>19</th>\n",
       "      <td>18</td>\n",
       "      <td>12</td>\n",
       "      <td>18_monty_python_pythons_troupe</td>\n",
       "      <td>[monty, python, pythons, troupe, sketches, com...</td>\n",
       "      <td>[Discover six seemingly ordinary supremely tal...</td>\n",
       "    </tr>\n",
       "  </tbody>\n",
       "</table>\n",
       "</div>"
      ],
      "text/plain": [
       "    Topic  Count                                            Name  \\\n",
       "0      -1   4847                       -1_young_life_when_family   \n",
       "1       0   1051               0_standup_comedian_comedy_special   \n",
       "2       1    647                       1_love_woman_young_family   \n",
       "3       2    463                 2_murder_detective_crime_police   \n",
       "4       3    296                 3_christmas_dog_holiday_friends   \n",
       "5       4    280                 4_mission_earth_agent_terrorist   \n",
       "6       5    252                   5_school_haunted_high_teacher   \n",
       "7       6    231                      6_soccer_dance_team_dancer   \n",
       "8       7    196                 7_animals_sea_documentary_shark   \n",
       "9       8    117                          8_martial_arts_fu_kung   \n",
       "10      9    114                      9_bheem_rangers_power_evil   \n",
       "11     10     83                            10_nazi_war_ii_world   \n",
       "12     11     58            11_zombie_survivors_virus_earthquake   \n",
       "13     12     57                    12_drug_mexican_pablo_mexico   \n",
       "14     13     32  13_politician_political_journalists_corruption   \n",
       "15     14     21               14_science_infants_scientist_from   \n",
       "16     15     20                 15_beirut_lebanese_war_lebanons   \n",
       "17     16     18              16_riots_police_racial_documentary   \n",
       "18     17     12               17_missing_cryptic_report_husband   \n",
       "19     18     12                  18_monty_python_pythons_troupe   \n",
       "\n",
       "                                       Representation  \\\n",
       "0   [young, life, when, family, after, love, new, ...   \n",
       "1   [standup, comedian, comedy, special, documenta...   \n",
       "2   [love, woman, young, family, life, new, when, ...   \n",
       "3   [murder, detective, crime, police, daughter, p...   \n",
       "4   [christmas, dog, holiday, friends, santa, adve...   \n",
       "5   [mission, earth, agent, terrorist, space, plan...   \n",
       "6   [school, haunted, high, teacher, horror, new, ...   \n",
       "7   [soccer, dance, team, dancer, compete, win, co...   \n",
       "8   [animals, sea, documentary, shark, ocean, crea...   \n",
       "9   [martial, arts, fu, kung, boxer, master, fight...   \n",
       "10  [bheem, rangers, power, evil, kingdom, king, n...   \n",
       "11  [nazi, war, ii, world, this, documentary, jewi...   \n",
       "12  [zombie, survivors, virus, earthquake, outbrea...   \n",
       "13  [drug, mexican, pablo, mexico, spanish, cartel...   \n",
       "14  [politician, political, journalists, corruptio...   \n",
       "15  [science, infants, scientist, from, lab, nurtu...   \n",
       "16  [beirut, lebanese, war, lebanons, syrian, syri...   \n",
       "17  [riots, police, racial, documentary, movement,...   \n",
       "18  [missing, cryptic, report, husband, husbands, ...   \n",
       "19  [monty, python, pythons, troupe, sketches, com...   \n",
       "\n",
       "                                  Representative_Docs  \n",
       "0   [Married two women – unaware – man finds doubl...  \n",
       "1   [Members comedy group Na Stojáka take stage mi...  \n",
       "2   [1979, single bohemian mom Dorothea, hoping he...  \n",
       "3   [reporter must hunt truth behind strange murde...  \n",
       "4   [When Santa crash-lands junkyard Christmas Eve...  \n",
       "5   [government agent wrongly accused crime gets s...  \n",
       "6   [After one high school students attacks him, d...  \n",
       "7   [This drama series follows young dancers Next ...  \n",
       "8   [Octonauts expand exploration beyond sea — ont...  \n",
       "9   [Martial arts master Ip springs action son's s...  \n",
       "10  [Bheem King Indraverma travel Rome trading ven...  \n",
       "11  [1943, staff Berlin's Charité hospital struggl...  \n",
       "12  [When finally encounters two survivors, woman ...  \n",
       "13  [true story Colombia's infamously violent powe...  \n",
       "14  [After accepting colossal bribe, powerful TV c...  \n",
       "15  [From breakthrough science boundaries morality...  \n",
       "16  [Abducted Lebanese Civil War 50s, Ramez finall...  \n",
       "17  [Roger Guenveur Smith gives voice man center b...  \n",
       "18  [Multiple women report husbands missing appear...  \n",
       "19  [Discover six seemingly ordinary supremely tal...  "
      ]
     },
     "execution_count": 19,
     "metadata": {},
     "output_type": "execute_result"
    }
   ],
   "source": [
    "updated_topic_model = BERTopic(nr_topics=20)\n",
    "topics, probabilities = updated_topic_model.fit_transform(processed_descriptions)\n",
    "updated_topic_model.get_topic_info()"
   ]
  },
  {
   "cell_type": "code",
   "execution_count": 20,
   "metadata": {},
   "outputs": [
    {
     "data": {
      "text/html": [
       "<div>\n",
       "<style scoped>\n",
       "    .dataframe tbody tr th:only-of-type {\n",
       "        vertical-align: middle;\n",
       "    }\n",
       "\n",
       "    .dataframe tbody tr th {\n",
       "        vertical-align: top;\n",
       "    }\n",
       "\n",
       "    .dataframe thead th {\n",
       "        text-align: right;\n",
       "    }\n",
       "</style>\n",
       "<table border=\"1\" class=\"dataframe\">\n",
       "  <thead>\n",
       "    <tr style=\"text-align: right;\">\n",
       "      <th></th>\n",
       "      <th>Topic</th>\n",
       "      <th>Count</th>\n",
       "      <th>Name</th>\n",
       "      <th>Representation</th>\n",
       "      <th>Representative_Docs</th>\n",
       "    </tr>\n",
       "  </thead>\n",
       "  <tbody>\n",
       "    <tr>\n",
       "      <th>0</th>\n",
       "      <td>-1</td>\n",
       "      <td>4971</td>\n",
       "      <td>-1_life_young_family_love</td>\n",
       "      <td>[life, young, family, love, woman, man, new, f...</td>\n",
       "      <td>[sex-obsessed young man tries put past behind ...</td>\n",
       "    </tr>\n",
       "    <tr>\n",
       "      <th>1</th>\n",
       "      <td>0</td>\n",
       "      <td>376</td>\n",
       "      <td>0_standup_comedian_comedy_special</td>\n",
       "      <td>[standup, comedian, comedy, special, comic, hu...</td>\n",
       "      <td>[uproarious tirade modern behavior decorum, po...</td>\n",
       "    </tr>\n",
       "    <tr>\n",
       "      <th>2</th>\n",
       "      <td>1</td>\n",
       "      <td>279</td>\n",
       "      <td>1_music_band_documentary_singer</td>\n",
       "      <td>[music, band, documentary, singer, concert, mu...</td>\n",
       "      <td>[Featuring mix film footage special performanc...</td>\n",
       "    </tr>\n",
       "    <tr>\n",
       "      <th>3</th>\n",
       "      <td>2</td>\n",
       "      <td>173</td>\n",
       "      <td>2_dog_cat_adventures_animal</td>\n",
       "      <td>[dog, cat, adventures, animal, fun, friends, f...</td>\n",
       "      <td>[rough tough police dog must go undercover FBI...</td>\n",
       "    </tr>\n",
       "    <tr>\n",
       "      <th>4</th>\n",
       "      <td>3</td>\n",
       "      <td>155</td>\n",
       "      <td>3_agent_terrorist_cia_mission</td>\n",
       "      <td>[agent, terrorist, cia, mission, government, a...</td>\n",
       "      <td>[When imprisoned terrorist cell hijacks high-s...</td>\n",
       "    </tr>\n",
       "    <tr>\n",
       "      <th>...</th>\n",
       "      <td>...</td>\n",
       "      <td>...</td>\n",
       "      <td>...</td>\n",
       "      <td>...</td>\n",
       "      <td>...</td>\n",
       "    </tr>\n",
       "    <tr>\n",
       "      <th>91</th>\n",
       "      <td>90</td>\n",
       "      <td>10</td>\n",
       "      <td>90_zombies_zombie_spooky_dorky</td>\n",
       "      <td>[zombies, zombie, spooky, dorky, raimis, voorh...</td>\n",
       "      <td>[Zack Snyder \"Army Dead\" team dive film's wild...</td>\n",
       "    </tr>\n",
       "    <tr>\n",
       "      <th>92</th>\n",
       "      <td>91</td>\n",
       "      <td>10</td>\n",
       "      <td>91_ashar_marry_differences_bachelor</td>\n",
       "      <td>[ashar, marry, differences, bachelor, khirad, ...</td>\n",
       "      <td>[1953, women Wellesley College measured well m...</td>\n",
       "    </tr>\n",
       "    <tr>\n",
       "      <th>93</th>\n",
       "      <td>92</td>\n",
       "      <td>10</td>\n",
       "      <td>92_stash_drug_dea_weed</td>\n",
       "      <td>[stash, drug, dea, weed, undercover, agents, w...</td>\n",
       "      <td>[logger defends family group murderous drug tr...</td>\n",
       "    </tr>\n",
       "    <tr>\n",
       "      <th>94</th>\n",
       "      <td>93</td>\n",
       "      <td>10</td>\n",
       "      <td>93_deity_seven_demons_escaping</td>\n",
       "      <td>[deity, seven, demons, escaping, spirited, dem...</td>\n",
       "      <td>[Seven Deadly Sins aid Sky People powerful gro...</td>\n",
       "    </tr>\n",
       "    <tr>\n",
       "      <th>95</th>\n",
       "      <td>94</td>\n",
       "      <td>10</td>\n",
       "      <td>94_assassin_ruthless_retirement_plots</td>\n",
       "      <td>[assassin, ruthless, retirement, plots, relaxi...</td>\n",
       "      <td>[assassin shot ruthless employer, Bill, member...</td>\n",
       "    </tr>\n",
       "  </tbody>\n",
       "</table>\n",
       "<p>96 rows × 5 columns</p>\n",
       "</div>"
      ],
      "text/plain": [
       "    Topic  Count                                   Name  \\\n",
       "0      -1   4971              -1_life_young_family_love   \n",
       "1       0    376      0_standup_comedian_comedy_special   \n",
       "2       1    279        1_music_band_documentary_singer   \n",
       "3       2    173            2_dog_cat_adventures_animal   \n",
       "4       3    155          3_agent_terrorist_cia_mission   \n",
       "..    ...    ...                                    ...   \n",
       "91     90     10         90_zombies_zombie_spooky_dorky   \n",
       "92     91     10    91_ashar_marry_differences_bachelor   \n",
       "93     92     10                 92_stash_drug_dea_weed   \n",
       "94     93     10         93_deity_seven_demons_escaping   \n",
       "95     94     10  94_assassin_ruthless_retirement_plots   \n",
       "\n",
       "                                       Representation  \\\n",
       "0   [life, young, family, love, woman, man, new, f...   \n",
       "1   [standup, comedian, comedy, special, comic, hu...   \n",
       "2   [music, band, documentary, singer, concert, mu...   \n",
       "3   [dog, cat, adventures, animal, fun, friends, f...   \n",
       "4   [agent, terrorist, cia, mission, government, a...   \n",
       "..                                                ...   \n",
       "91  [zombies, zombie, spooky, dorky, raimis, voorh...   \n",
       "92  [ashar, marry, differences, bachelor, khirad, ...   \n",
       "93  [stash, drug, dea, weed, undercover, agents, w...   \n",
       "94  [deity, seven, demons, escaping, spirited, dem...   \n",
       "95  [assassin, ruthless, retirement, plots, relaxi...   \n",
       "\n",
       "                                  Representative_Docs  \n",
       "0   [sex-obsessed young man tries put past behind ...  \n",
       "1   [uproarious tirade modern behavior decorum, po...  \n",
       "2   [Featuring mix film footage special performanc...  \n",
       "3   [rough tough police dog must go undercover FBI...  \n",
       "4   [When imprisoned terrorist cell hijacks high-s...  \n",
       "..                                                ...  \n",
       "91  [Zack Snyder \"Army Dead\" team dive film's wild...  \n",
       "92  [1953, women Wellesley College measured well m...  \n",
       "93  [logger defends family group murderous drug tr...  \n",
       "94  [Seven Deadly Sins aid Sky People powerful gro...  \n",
       "95  [assassin shot ruthless employer, Bill, member...  \n",
       "\n",
       "[96 rows x 5 columns]"
      ]
     },
     "execution_count": 20,
     "metadata": {},
     "output_type": "execute_result"
    }
   ],
   "source": [
    "from sklearn.feature_extraction.text import CountVectorizer\n",
    "\n",
    "topic_multilabel = BERTopic(vectorizer_model = CountVectorizer(stop_words=\"english\")\n",
    ")\n",
    "topic_multilabel.fit(processed_descriptions)\n",
    "topic_multilabel.get_topic_info()"
   ]
  },
  {
   "cell_type": "code",
   "execution_count": 21,
   "metadata": {},
   "outputs": [],
   "source": [
    "#an array with the probability of it being each topic \n",
    "topic_distr, _ = topic_multilabel.approximate_distribution(processed_descriptions)"
   ]
  },
  {
   "cell_type": "code",
   "execution_count": 22,
   "metadata": {},
   "outputs": [
    {
     "data": {
      "application/vnd.plotly.v1+json": {
       "config": {
        "plotlyServerURL": "https://plot.ly"
       },
       "data": [
        {
         "marker": {
          "color": "#C8D2D7",
          "line": {
           "color": "#6E8484",
           "width": 1
          }
         },
         "orientation": "h",
         "type": "bar",
         "x": [
          0.2610319159131724,
          0.7389680840868276
         ],
         "y": [
          "<b>Topic 5</b>: school_teacher_students_...",
          "<b>Topic 28</b>: friends_college_friends..."
         ]
        }
       ],
       "layout": {
        "height": 600,
        "hoverlabel": {
         "bgcolor": "white",
         "font": {
          "family": "Rockwell",
          "size": 16
         }
        },
        "template": {
         "data": {
          "bar": [
           {
            "error_x": {
             "color": "rgb(36,36,36)"
            },
            "error_y": {
             "color": "rgb(36,36,36)"
            },
            "marker": {
             "line": {
              "color": "white",
              "width": 0.5
             },
             "pattern": {
              "fillmode": "overlay",
              "size": 10,
              "solidity": 0.2
             }
            },
            "type": "bar"
           }
          ],
          "barpolar": [
           {
            "marker": {
             "line": {
              "color": "white",
              "width": 0.5
             },
             "pattern": {
              "fillmode": "overlay",
              "size": 10,
              "solidity": 0.2
             }
            },
            "type": "barpolar"
           }
          ],
          "carpet": [
           {
            "aaxis": {
             "endlinecolor": "rgb(36,36,36)",
             "gridcolor": "white",
             "linecolor": "white",
             "minorgridcolor": "white",
             "startlinecolor": "rgb(36,36,36)"
            },
            "baxis": {
             "endlinecolor": "rgb(36,36,36)",
             "gridcolor": "white",
             "linecolor": "white",
             "minorgridcolor": "white",
             "startlinecolor": "rgb(36,36,36)"
            },
            "type": "carpet"
           }
          ],
          "choropleth": [
           {
            "colorbar": {
             "outlinewidth": 1,
             "tickcolor": "rgb(36,36,36)",
             "ticks": "outside"
            },
            "type": "choropleth"
           }
          ],
          "contour": [
           {
            "colorbar": {
             "outlinewidth": 1,
             "tickcolor": "rgb(36,36,36)",
             "ticks": "outside"
            },
            "colorscale": [
             [
              0,
              "#440154"
             ],
             [
              0.1111111111111111,
              "#482878"
             ],
             [
              0.2222222222222222,
              "#3e4989"
             ],
             [
              0.3333333333333333,
              "#31688e"
             ],
             [
              0.4444444444444444,
              "#26828e"
             ],
             [
              0.5555555555555556,
              "#1f9e89"
             ],
             [
              0.6666666666666666,
              "#35b779"
             ],
             [
              0.7777777777777778,
              "#6ece58"
             ],
             [
              0.8888888888888888,
              "#b5de2b"
             ],
             [
              1,
              "#fde725"
             ]
            ],
            "type": "contour"
           }
          ],
          "contourcarpet": [
           {
            "colorbar": {
             "outlinewidth": 1,
             "tickcolor": "rgb(36,36,36)",
             "ticks": "outside"
            },
            "type": "contourcarpet"
           }
          ],
          "heatmap": [
           {
            "colorbar": {
             "outlinewidth": 1,
             "tickcolor": "rgb(36,36,36)",
             "ticks": "outside"
            },
            "colorscale": [
             [
              0,
              "#440154"
             ],
             [
              0.1111111111111111,
              "#482878"
             ],
             [
              0.2222222222222222,
              "#3e4989"
             ],
             [
              0.3333333333333333,
              "#31688e"
             ],
             [
              0.4444444444444444,
              "#26828e"
             ],
             [
              0.5555555555555556,
              "#1f9e89"
             ],
             [
              0.6666666666666666,
              "#35b779"
             ],
             [
              0.7777777777777778,
              "#6ece58"
             ],
             [
              0.8888888888888888,
              "#b5de2b"
             ],
             [
              1,
              "#fde725"
             ]
            ],
            "type": "heatmap"
           }
          ],
          "heatmapgl": [
           {
            "colorbar": {
             "outlinewidth": 1,
             "tickcolor": "rgb(36,36,36)",
             "ticks": "outside"
            },
            "colorscale": [
             [
              0,
              "#440154"
             ],
             [
              0.1111111111111111,
              "#482878"
             ],
             [
              0.2222222222222222,
              "#3e4989"
             ],
             [
              0.3333333333333333,
              "#31688e"
             ],
             [
              0.4444444444444444,
              "#26828e"
             ],
             [
              0.5555555555555556,
              "#1f9e89"
             ],
             [
              0.6666666666666666,
              "#35b779"
             ],
             [
              0.7777777777777778,
              "#6ece58"
             ],
             [
              0.8888888888888888,
              "#b5de2b"
             ],
             [
              1,
              "#fde725"
             ]
            ],
            "type": "heatmapgl"
           }
          ],
          "histogram": [
           {
            "marker": {
             "line": {
              "color": "white",
              "width": 0.6
             }
            },
            "type": "histogram"
           }
          ],
          "histogram2d": [
           {
            "colorbar": {
             "outlinewidth": 1,
             "tickcolor": "rgb(36,36,36)",
             "ticks": "outside"
            },
            "colorscale": [
             [
              0,
              "#440154"
             ],
             [
              0.1111111111111111,
              "#482878"
             ],
             [
              0.2222222222222222,
              "#3e4989"
             ],
             [
              0.3333333333333333,
              "#31688e"
             ],
             [
              0.4444444444444444,
              "#26828e"
             ],
             [
              0.5555555555555556,
              "#1f9e89"
             ],
             [
              0.6666666666666666,
              "#35b779"
             ],
             [
              0.7777777777777778,
              "#6ece58"
             ],
             [
              0.8888888888888888,
              "#b5de2b"
             ],
             [
              1,
              "#fde725"
             ]
            ],
            "type": "histogram2d"
           }
          ],
          "histogram2dcontour": [
           {
            "colorbar": {
             "outlinewidth": 1,
             "tickcolor": "rgb(36,36,36)",
             "ticks": "outside"
            },
            "colorscale": [
             [
              0,
              "#440154"
             ],
             [
              0.1111111111111111,
              "#482878"
             ],
             [
              0.2222222222222222,
              "#3e4989"
             ],
             [
              0.3333333333333333,
              "#31688e"
             ],
             [
              0.4444444444444444,
              "#26828e"
             ],
             [
              0.5555555555555556,
              "#1f9e89"
             ],
             [
              0.6666666666666666,
              "#35b779"
             ],
             [
              0.7777777777777778,
              "#6ece58"
             ],
             [
              0.8888888888888888,
              "#b5de2b"
             ],
             [
              1,
              "#fde725"
             ]
            ],
            "type": "histogram2dcontour"
           }
          ],
          "mesh3d": [
           {
            "colorbar": {
             "outlinewidth": 1,
             "tickcolor": "rgb(36,36,36)",
             "ticks": "outside"
            },
            "type": "mesh3d"
           }
          ],
          "parcoords": [
           {
            "line": {
             "colorbar": {
              "outlinewidth": 1,
              "tickcolor": "rgb(36,36,36)",
              "ticks": "outside"
             }
            },
            "type": "parcoords"
           }
          ],
          "pie": [
           {
            "automargin": true,
            "type": "pie"
           }
          ],
          "scatter": [
           {
            "fillpattern": {
             "fillmode": "overlay",
             "size": 10,
             "solidity": 0.2
            },
            "type": "scatter"
           }
          ],
          "scatter3d": [
           {
            "line": {
             "colorbar": {
              "outlinewidth": 1,
              "tickcolor": "rgb(36,36,36)",
              "ticks": "outside"
             }
            },
            "marker": {
             "colorbar": {
              "outlinewidth": 1,
              "tickcolor": "rgb(36,36,36)",
              "ticks": "outside"
             }
            },
            "type": "scatter3d"
           }
          ],
          "scattercarpet": [
           {
            "marker": {
             "colorbar": {
              "outlinewidth": 1,
              "tickcolor": "rgb(36,36,36)",
              "ticks": "outside"
             }
            },
            "type": "scattercarpet"
           }
          ],
          "scattergeo": [
           {
            "marker": {
             "colorbar": {
              "outlinewidth": 1,
              "tickcolor": "rgb(36,36,36)",
              "ticks": "outside"
             }
            },
            "type": "scattergeo"
           }
          ],
          "scattergl": [
           {
            "marker": {
             "colorbar": {
              "outlinewidth": 1,
              "tickcolor": "rgb(36,36,36)",
              "ticks": "outside"
             }
            },
            "type": "scattergl"
           }
          ],
          "scattermapbox": [
           {
            "marker": {
             "colorbar": {
              "outlinewidth": 1,
              "tickcolor": "rgb(36,36,36)",
              "ticks": "outside"
             }
            },
            "type": "scattermapbox"
           }
          ],
          "scatterpolar": [
           {
            "marker": {
             "colorbar": {
              "outlinewidth": 1,
              "tickcolor": "rgb(36,36,36)",
              "ticks": "outside"
             }
            },
            "type": "scatterpolar"
           }
          ],
          "scatterpolargl": [
           {
            "marker": {
             "colorbar": {
              "outlinewidth": 1,
              "tickcolor": "rgb(36,36,36)",
              "ticks": "outside"
             }
            },
            "type": "scatterpolargl"
           }
          ],
          "scatterternary": [
           {
            "marker": {
             "colorbar": {
              "outlinewidth": 1,
              "tickcolor": "rgb(36,36,36)",
              "ticks": "outside"
             }
            },
            "type": "scatterternary"
           }
          ],
          "surface": [
           {
            "colorbar": {
             "outlinewidth": 1,
             "tickcolor": "rgb(36,36,36)",
             "ticks": "outside"
            },
            "colorscale": [
             [
              0,
              "#440154"
             ],
             [
              0.1111111111111111,
              "#482878"
             ],
             [
              0.2222222222222222,
              "#3e4989"
             ],
             [
              0.3333333333333333,
              "#31688e"
             ],
             [
              0.4444444444444444,
              "#26828e"
             ],
             [
              0.5555555555555556,
              "#1f9e89"
             ],
             [
              0.6666666666666666,
              "#35b779"
             ],
             [
              0.7777777777777778,
              "#6ece58"
             ],
             [
              0.8888888888888888,
              "#b5de2b"
             ],
             [
              1,
              "#fde725"
             ]
            ],
            "type": "surface"
           }
          ],
          "table": [
           {
            "cells": {
             "fill": {
              "color": "rgb(237,237,237)"
             },
             "line": {
              "color": "white"
             }
            },
            "header": {
             "fill": {
              "color": "rgb(217,217,217)"
             },
             "line": {
              "color": "white"
             }
            },
            "type": "table"
           }
          ]
         },
         "layout": {
          "annotationdefaults": {
           "arrowhead": 0,
           "arrowwidth": 1
          },
          "autotypenumbers": "strict",
          "coloraxis": {
           "colorbar": {
            "outlinewidth": 1,
            "tickcolor": "rgb(36,36,36)",
            "ticks": "outside"
           }
          },
          "colorscale": {
           "diverging": [
            [
             0,
             "rgb(103,0,31)"
            ],
            [
             0.1,
             "rgb(178,24,43)"
            ],
            [
             0.2,
             "rgb(214,96,77)"
            ],
            [
             0.3,
             "rgb(244,165,130)"
            ],
            [
             0.4,
             "rgb(253,219,199)"
            ],
            [
             0.5,
             "rgb(247,247,247)"
            ],
            [
             0.6,
             "rgb(209,229,240)"
            ],
            [
             0.7,
             "rgb(146,197,222)"
            ],
            [
             0.8,
             "rgb(67,147,195)"
            ],
            [
             0.9,
             "rgb(33,102,172)"
            ],
            [
             1,
             "rgb(5,48,97)"
            ]
           ],
           "sequential": [
            [
             0,
             "#440154"
            ],
            [
             0.1111111111111111,
             "#482878"
            ],
            [
             0.2222222222222222,
             "#3e4989"
            ],
            [
             0.3333333333333333,
             "#31688e"
            ],
            [
             0.4444444444444444,
             "#26828e"
            ],
            [
             0.5555555555555556,
             "#1f9e89"
            ],
            [
             0.6666666666666666,
             "#35b779"
            ],
            [
             0.7777777777777778,
             "#6ece58"
            ],
            [
             0.8888888888888888,
             "#b5de2b"
            ],
            [
             1,
             "#fde725"
            ]
           ],
           "sequentialminus": [
            [
             0,
             "#440154"
            ],
            [
             0.1111111111111111,
             "#482878"
            ],
            [
             0.2222222222222222,
             "#3e4989"
            ],
            [
             0.3333333333333333,
             "#31688e"
            ],
            [
             0.4444444444444444,
             "#26828e"
            ],
            [
             0.5555555555555556,
             "#1f9e89"
            ],
            [
             0.6666666666666666,
             "#35b779"
            ],
            [
             0.7777777777777778,
             "#6ece58"
            ],
            [
             0.8888888888888888,
             "#b5de2b"
            ],
            [
             1,
             "#fde725"
            ]
           ]
          },
          "colorway": [
           "#1F77B4",
           "#FF7F0E",
           "#2CA02C",
           "#D62728",
           "#9467BD",
           "#8C564B",
           "#E377C2",
           "#7F7F7F",
           "#BCBD22",
           "#17BECF"
          ],
          "font": {
           "color": "rgb(36,36,36)"
          },
          "geo": {
           "bgcolor": "white",
           "lakecolor": "white",
           "landcolor": "white",
           "showlakes": true,
           "showland": true,
           "subunitcolor": "white"
          },
          "hoverlabel": {
           "align": "left"
          },
          "hovermode": "closest",
          "mapbox": {
           "style": "light"
          },
          "paper_bgcolor": "white",
          "plot_bgcolor": "white",
          "polar": {
           "angularaxis": {
            "gridcolor": "rgb(232,232,232)",
            "linecolor": "rgb(36,36,36)",
            "showgrid": false,
            "showline": true,
            "ticks": "outside"
           },
           "bgcolor": "white",
           "radialaxis": {
            "gridcolor": "rgb(232,232,232)",
            "linecolor": "rgb(36,36,36)",
            "showgrid": false,
            "showline": true,
            "ticks": "outside"
           }
          },
          "scene": {
           "xaxis": {
            "backgroundcolor": "white",
            "gridcolor": "rgb(232,232,232)",
            "gridwidth": 2,
            "linecolor": "rgb(36,36,36)",
            "showbackground": true,
            "showgrid": false,
            "showline": true,
            "ticks": "outside",
            "zeroline": false,
            "zerolinecolor": "rgb(36,36,36)"
           },
           "yaxis": {
            "backgroundcolor": "white",
            "gridcolor": "rgb(232,232,232)",
            "gridwidth": 2,
            "linecolor": "rgb(36,36,36)",
            "showbackground": true,
            "showgrid": false,
            "showline": true,
            "ticks": "outside",
            "zeroline": false,
            "zerolinecolor": "rgb(36,36,36)"
           },
           "zaxis": {
            "backgroundcolor": "white",
            "gridcolor": "rgb(232,232,232)",
            "gridwidth": 2,
            "linecolor": "rgb(36,36,36)",
            "showbackground": true,
            "showgrid": false,
            "showline": true,
            "ticks": "outside",
            "zeroline": false,
            "zerolinecolor": "rgb(36,36,36)"
           }
          },
          "shapedefaults": {
           "fillcolor": "black",
           "line": {
            "width": 0
           },
           "opacity": 0.3
          },
          "ternary": {
           "aaxis": {
            "gridcolor": "rgb(232,232,232)",
            "linecolor": "rgb(36,36,36)",
            "showgrid": false,
            "showline": true,
            "ticks": "outside"
           },
           "baxis": {
            "gridcolor": "rgb(232,232,232)",
            "linecolor": "rgb(36,36,36)",
            "showgrid": false,
            "showline": true,
            "ticks": "outside"
           },
           "bgcolor": "white",
           "caxis": {
            "gridcolor": "rgb(232,232,232)",
            "linecolor": "rgb(36,36,36)",
            "showgrid": false,
            "showline": true,
            "ticks": "outside"
           }
          },
          "title": {
           "x": 0.05
          },
          "xaxis": {
           "automargin": true,
           "gridcolor": "rgb(232,232,232)",
           "linecolor": "rgb(36,36,36)",
           "showgrid": false,
           "showline": true,
           "ticks": "outside",
           "title": {
            "standoff": 15
           },
           "zeroline": false,
           "zerolinecolor": "rgb(36,36,36)"
          },
          "yaxis": {
           "automargin": true,
           "gridcolor": "rgb(232,232,232)",
           "linecolor": "rgb(36,36,36)",
           "showgrid": false,
           "showline": true,
           "ticks": "outside",
           "title": {
            "standoff": 15
           },
           "zeroline": false,
           "zerolinecolor": "rgb(36,36,36)"
          }
         }
        },
        "title": {
         "font": {
          "color": "Black",
          "size": 22
         },
         "text": "<b>Topic Probability Distribution</b>",
         "x": 0.5,
         "xanchor": "center",
         "y": 0.95,
         "yanchor": "top"
        },
        "width": 800,
        "xaxis": {
         "title": {
          "text": "Probability"
         }
        }
       }
      }
     },
     "metadata": {},
     "output_type": "display_data"
    }
   ],
   "source": [
    "topic_multilabel.visualize_distribution(topic_distr[4])"
   ]
  },
  {
   "cell_type": "code",
   "execution_count": 23,
   "metadata": {},
   "outputs": [],
   "source": [
    "#automodal causal from pretrained (use path , dont need to download)\n",
    "def generate_topic_name(list_of_words):\n",
    "\n",
    "    llm = CTransformers(model='TheBloke/Llama-2-7B-Chat-GGUF',\n",
    "                        model_type='llama',\n",
    "                        config={'max_new_tokens': 256,\n",
    "                                'temperature': 0.01})\n",
    "\n",
    "    words = ', '.join([i for i in list_of_words])\n",
    "\n",
    "    template = \"\"\"\n",
    "Given the following words that describe a genre of Netflix shows\\films, return a one to two word name for the genre. Your response\n",
    "should be one to two words with no other text:\\n\\\"{words}\\\"\n",
    "    \"\"\"\n",
    "\n",
    "    prompt = PromptTemplate(input_variables = ['words'], template=template)\n",
    "\n",
    "    response = llm(prompt.format(words=words))\n",
    "\n",
    "    return response\n"
   ]
  },
  {
   "cell_type": "code",
   "execution_count": 24,
   "metadata": {},
   "outputs": [
    {
     "name": "stderr",
     "output_type": "stream",
     "text": [
      "Fetching 1 files: 100%|██████████| 1/1 [00:00<00:00, 8192.00it/s]\n",
      "Fetching 1 files: 100%|██████████| 1/1 [00:00<00:00, 1721.09it/s]\n",
      "Fetching 1 files: 100%|██████████| 1/1 [00:00<00:00, 20867.18it/s]\n",
      "Fetching 1 files: 100%|██████████| 1/1 [00:00<00:00, 7096.96it/s]\n",
      "Fetching 1 files: 100%|██████████| 1/1 [00:00<00:00, 20360.70it/s]\n",
      "Fetching 1 files: 100%|██████████| 1/1 [00:00<00:00, 8192.00it/s]\n",
      "Fetching 1 files: 100%|██████████| 1/1 [00:00<00:00, 22192.08it/s]\n",
      "Fetching 1 files: 100%|██████████| 1/1 [00:00<00:00, 9425.40it/s]\n",
      "Fetching 1 files: 100%|██████████| 1/1 [00:00<00:00, 16710.37it/s]\n",
      "Fetching 1 files: 100%|██████████| 1/1 [00:00<00:00, 9039.45it/s]\n",
      "Fetching 1 files: 100%|██████████| 1/1 [00:00<00:00, 15592.21it/s]\n",
      "Fetching 1 files: 100%|██████████| 1/1 [00:00<00:00, 472.81it/s]\n",
      "Fetching 1 files: 100%|██████████| 1/1 [00:00<00:00, 20460.02it/s]\n",
      "Fetching 1 files: 100%|██████████| 1/1 [00:00<00:00, 7133.17it/s]\n",
      "Fetching 1 files: 100%|██████████| 1/1 [00:00<00:00, 14513.16it/s]\n",
      "Fetching 1 files: 100%|██████████| 1/1 [00:00<00:00, 1588.75it/s]\n",
      "Fetching 1 files: 100%|██████████| 1/1 [00:00<00:00, 22795.13it/s]\n",
      "Fetching 1 files: 100%|██████████| 1/1 [00:00<00:00, 510.26it/s]\n",
      "Fetching 1 files: 100%|██████████| 1/1 [00:00<00:00, 17848.10it/s]\n",
      "Fetching 1 files: 100%|██████████| 1/1 [00:00<00:00, 756.41it/s]\n",
      "Fetching 1 files: 100%|██████████| 1/1 [00:00<00:00, 27235.74it/s]\n",
      "Fetching 1 files: 100%|██████████| 1/1 [00:00<00:00, 1984.06it/s]\n",
      "Fetching 1 files: 100%|██████████| 1/1 [00:00<00:00, 19599.55it/s]\n",
      "Fetching 1 files: 100%|██████████| 1/1 [00:00<00:00, 11155.06it/s]\n",
      "Fetching 1 files: 100%|██████████| 1/1 [00:00<00:00, 5447.15it/s]\n",
      "Fetching 1 files: 100%|██████████| 1/1 [00:00<00:00, 3172.70it/s]\n",
      "Fetching 1 files: 100%|██████████| 1/1 [00:00<00:00, 21732.15it/s]\n",
      "Fetching 1 files: 100%|██████████| 1/1 [00:00<00:00, 1291.75it/s]\n",
      "Fetching 1 files: 100%|██████████| 1/1 [00:00<00:00, 18893.26it/s]\n",
      "Fetching 1 files: 100%|██████████| 1/1 [00:00<00:00, 4755.45it/s]\n",
      "Fetching 1 files: 100%|██████████| 1/1 [00:00<00:00, 22795.13it/s]\n",
      "Fetching 1 files: 100%|██████████| 1/1 [00:00<00:00, 6754.11it/s]\n",
      "Fetching 1 files: 100%|██████████| 1/1 [00:00<00:00, 14315.03it/s]\n",
      "Fetching 1 files: 100%|██████████| 1/1 [00:00<00:00, 26886.56it/s]\n",
      "Fetching 1 files: 100%|██████████| 1/1 [00:00<00:00, 21732.15it/s]\n",
      "Fetching 1 files: 100%|██████████| 1/1 [00:00<00:00, 5315.97it/s]\n",
      "Fetching 1 files: 100%|██████████| 1/1 [00:00<00:00, 21732.15it/s]\n",
      "Fetching 1 files: 100%|██████████| 1/1 [00:00<00:00, 2142.14it/s]\n",
      "Fetching 1 files: 100%|██████████| 1/1 [00:00<00:00, 21183.35it/s]\n",
      "Fetching 1 files: 100%|██████████| 1/1 [00:00<00:00, 5683.34it/s]\n",
      "Fetching 1 files: 100%|██████████| 1/1 [00:00<00:00, 20068.44it/s]\n",
      "Fetching 1 files: 100%|██████████| 1/1 [00:00<00:00, 6335.81it/s]\n",
      "Fetching 1 files: 100%|██████████| 1/1 [00:00<00:00, 2353.71it/s]\n",
      "Fetching 1 files: 100%|██████████| 1/1 [00:00<00:00, 4675.92it/s]\n",
      "Fetching 1 files: 100%|██████████| 1/1 [00:00<00:00, 12052.60it/s]\n",
      "Fetching 1 files: 100%|██████████| 1/1 [00:00<00:00, 2611.65it/s]\n",
      "Fetching 1 files: 100%|██████████| 1/1 [00:00<00:00, 21732.15it/s]\n",
      "Fetching 1 files: 100%|██████████| 1/1 [00:00<00:00, 5915.80it/s]\n",
      "Fetching 1 files: 100%|██████████| 1/1 [00:00<00:00, 19239.93it/s]\n",
      "Fetching 1 files: 100%|██████████| 1/1 [00:00<00:00, 2637.93it/s]\n",
      "Fetching 1 files: 100%|██████████| 1/1 [00:00<00:00, 20763.88it/s]\n",
      "Fetching 1 files: 100%|██████████| 1/1 [00:00<00:00, 7463.17it/s]\n",
      "Fetching 1 files: 100%|██████████| 1/1 [00:00<00:00, 22795.13it/s]\n",
      "Fetching 1 files: 100%|██████████| 1/1 [00:00<00:00, 24385.49it/s]\n",
      "Fetching 1 files: 100%|██████████| 1/1 [00:00<00:00, 4733.98it/s]\n",
      "Fetching 1 files: 100%|██████████| 1/1 [00:00<00:00, 8701.88it/s]\n",
      "Fetching 1 files: 100%|██████████| 1/1 [00:00<00:00, 7463.17it/s]\n",
      "Fetching 1 files: 100%|██████████| 1/1 [00:00<00:00, 3379.78it/s]\n",
      "Fetching 1 files: 100%|██████████| 1/1 [00:00<00:00, 19691.57it/s]\n",
      "Fetching 1 files: 100%|██████████| 1/1 [00:00<00:00, 5370.43it/s]\n",
      "Fetching 1 files: 100%|██████████| 1/1 [00:00<00:00, 15827.56it/s]\n",
      "Fetching 1 files: 100%|██████████| 1/1 [00:00<00:00, 4112.06it/s]\n",
      "Fetching 1 files: 100%|██████████| 1/1 [00:00<00:00, 14716.86it/s]\n",
      "Fetching 1 files: 100%|██████████| 1/1 [00:00<00:00, 12985.46it/s]\n",
      "Fetching 1 files: 100%|██████████| 1/1 [00:00<00:00, 2156.45it/s]\n",
      "Fetching 1 files: 100%|██████████| 1/1 [00:00<00:00, 12865.96it/s]\n",
      "Fetching 1 files: 100%|██████████| 1/1 [00:00<00:00, 17848.10it/s]\n",
      "Fetching 1 files: 100%|██████████| 1/1 [00:00<00:00, 7681.88it/s]\n",
      "Fetching 1 files: 100%|██████████| 1/1 [00:00<00:00, 21732.15it/s]\n",
      "Fetching 1 files: 100%|██████████| 1/1 [00:00<00:00, 4048.56it/s]\n",
      "Fetching 1 files: 100%|██████████| 1/1 [00:00<00:00, 20460.02it/s]\n",
      "Fetching 1 files: 100%|██████████| 1/1 [00:00<00:00, 3104.59it/s]\n",
      "Fetching 1 files: 100%|██████████| 1/1 [00:00<00:00, 22192.08it/s]\n",
      "Fetching 1 files: 100%|██████████| 1/1 [00:00<00:00, 3269.14it/s]\n",
      "Fetching 1 files: 100%|██████████| 1/1 [00:00<00:00, 21620.12it/s]\n",
      "Fetching 1 files: 100%|██████████| 1/1 [00:00<00:00, 1195.98it/s]\n",
      "Fetching 1 files: 100%|██████████| 1/1 [00:00<00:00, 21399.51it/s]\n",
      "Fetching 1 files: 100%|██████████| 1/1 [00:00<00:00, 1089.15it/s]\n",
      "Fetching 1 files: 100%|██████████| 1/1 [00:00<00:00, 19599.55it/s]\n",
      "Fetching 1 files: 100%|██████████| 1/1 [00:00<00:00, 12483.05it/s]\n",
      "Fetching 1 files: 100%|██████████| 1/1 [00:00<00:00, 25115.59it/s]\n",
      "Fetching 1 files: 100%|██████████| 1/1 [00:00<00:00, 5777.28it/s]\n",
      "Fetching 1 files: 100%|██████████| 1/1 [00:00<00:00, 3310.42it/s]\n",
      "Fetching 1 files: 100%|██████████| 1/1 [00:00<00:00, 263.51it/s]\n",
      "Fetching 1 files: 100%|██████████| 1/1 [00:00<00:00, 21732.15it/s]\n",
      "Fetching 1 files: 100%|██████████| 1/1 [00:00<00:00, 11881.88it/s]\n",
      "Fetching 1 files: 100%|██████████| 1/1 [00:00<00:00, 9915.61it/s]\n",
      "Fetching 1 files: 100%|██████████| 1/1 [00:00<00:00, 6574.14it/s]\n",
      "Fetching 1 files: 100%|██████████| 1/1 [00:00<00:00, 10407.70it/s]\n",
      "Fetching 1 files: 100%|██████████| 1/1 [00:00<00:00, 15650.39it/s]\n",
      "Fetching 1 files: 100%|██████████| 1/1 [00:00<00:00, 22671.91it/s]\n",
      "Fetching 1 files: 100%|██████████| 1/1 [00:00<00:00, 1700.85it/s]\n",
      "Fetching 1 files: 100%|██████████| 1/1 [00:00<00:00, 18558.87it/s]\n",
      "Fetching 1 files: 100%|██████████| 1/1 [00:00<00:00, 5882.61it/s]\n",
      "Fetching 1 files: 100%|██████████| 1/1 [00:00<00:00, 11096.04it/s]\n",
      "Fetching 1 files: 100%|██████████| 1/1 [00:00<00:00, 10754.63it/s]\n",
      "Fetching 1 files: 100%|██████████| 1/1 [00:00<00:00, 26379.27it/s]\n",
      "Fetching 1 files: 100%|██████████| 1/1 [00:00<00:00, 8473.34it/s]\n",
      "Fetching 1 files: 100%|██████████| 1/1 [00:00<00:00, 27962.03it/s]\n",
      "Fetching 1 files: 100%|██████████| 1/1 [00:00<00:00, 11096.04it/s]\n",
      "Fetching 1 files: 100%|██████████| 1/1 [00:00<00:00, 3744.91it/s]\n",
      "Fetching 1 files: 100%|██████████| 1/1 [00:00<00:00, 11491.24it/s]\n",
      "Fetching 1 files: 100%|██████████| 1/1 [00:00<00:00, 21845.33it/s]\n",
      "Fetching 1 files: 100%|██████████| 1/1 [00:00<00:00, 2543.54it/s]\n",
      "Fetching 1 files: 100%|██████████| 1/1 [00:00<00:00, 1358.26it/s]\n",
      "Fetching 1 files: 100%|██████████| 1/1 [00:00<00:00, 10727.12it/s]\n",
      "Fetching 1 files: 100%|██████████| 1/1 [00:00<00:00, 5683.34it/s]\n",
      "Fetching 1 files: 100%|██████████| 1/1 [00:00<00:00, 5289.16it/s]\n",
      "Fetching 1 files: 100%|██████████| 1/1 [00:00<00:00, 33288.13it/s]\n",
      "Fetching 1 files: 100%|██████████| 1/1 [00:00<00:00, 282.08it/s]\n",
      "Fetching 1 files: 100%|██████████| 1/1 [00:00<00:00, 15650.39it/s]\n",
      "Fetching 1 files: 100%|██████████| 1/1 [00:00<00:00, 703.15it/s]\n",
      "Fetching 1 files: 100%|██████████| 1/1 [00:00<00:00, 8559.80it/s]\n",
      "Fetching 1 files: 100%|██████████| 1/1 [00:00<00:00, 3323.54it/s]\n",
      "Fetching 1 files: 100%|██████████| 1/1 [00:00<00:00, 2087.76it/s]\n",
      "Fetching 1 files: 100%|██████████| 1/1 [00:00<00:00, 21845.33it/s]\n",
      "Fetching 1 files: 100%|██████████| 1/1 [00:00<00:00, 13530.01it/s]\n",
      "Fetching 1 files: 100%|██████████| 1/1 [00:00<00:00, 4084.04it/s]\n",
      "Fetching 1 files: 100%|██████████| 1/1 [00:00<00:00, 20068.44it/s]\n",
      "Fetching 1 files: 100%|██████████| 1/1 [00:00<00:00, 232.89it/s]\n",
      "Fetching 1 files: 100%|██████████| 1/1 [00:00<00:00, 19691.57it/s]\n",
      "Fetching 1 files: 100%|██████████| 1/1 [00:00<00:00, 5745.62it/s]\n",
      "Fetching 1 files: 100%|██████████| 1/1 [00:00<00:00, 6061.13it/s]\n",
      "Fetching 1 files: 100%|██████████| 1/1 [00:00<00:00, 9177.91it/s]\n",
      "Fetching 1 files: 100%|██████████| 1/1 [00:00<00:00, 20763.88it/s]\n",
      "Fetching 1 files: 100%|██████████| 1/1 [00:00<00:00, 2309.64it/s]\n",
      "Fetching 1 files: 100%|██████████| 1/1 [00:00<00:00, 20460.02it/s]\n",
      "Fetching 1 files: 100%|██████████| 1/1 [00:00<00:00, 3125.41it/s]\n",
      "Fetching 1 files: 100%|██████████| 1/1 [00:00<00:00, 20460.02it/s]\n",
      "Fetching 1 files: 100%|██████████| 1/1 [00:00<00:00, 2335.36it/s]\n",
      "Fetching 1 files: 100%|██████████| 1/1 [00:00<00:00, 14716.86it/s]\n",
      "Fetching 1 files: 100%|██████████| 1/1 [00:00<00:00, 8144.28it/s]\n",
      "Fetching 1 files: 100%|██████████| 1/1 [00:00<00:00, 18893.26it/s]\n",
      "Fetching 1 files: 100%|██████████| 1/1 [00:00<00:00, 9642.08it/s]\n",
      "Fetching 1 files: 100%|██████████| 1/1 [00:00<00:00, 15141.89it/s]\n",
      "Fetching 1 files: 100%|██████████| 1/1 [00:00<00:00, 3908.95it/s]\n",
      "Fetching 1 files: 100%|██████████| 1/1 [00:00<00:00, 22192.08it/s]\n",
      "Fetching 1 files: 100%|██████████| 1/1 [00:00<00:00, 9799.78it/s]\n",
      "Fetching 1 files: 100%|██████████| 1/1 [00:00<00:00, 13530.01it/s]\n",
      "Fetching 1 files: 100%|██████████| 1/1 [00:00<00:00, 6797.90it/s]\n",
      "Fetching 1 files: 100%|██████████| 1/1 [00:00<00:00, 19878.22it/s]\n",
      "Fetching 1 files: 100%|██████████| 1/1 [00:00<00:00, 9642.08it/s]\n",
      "Fetching 1 files: 100%|██████████| 1/1 [00:00<00:00, 6364.65it/s]\n",
      "Fetching 1 files: 100%|██████████| 1/1 [00:00<00:00, 10082.46it/s]\n",
      "Fetching 1 files: 100%|██████████| 1/1 [00:00<00:00, 17189.77it/s]\n",
      "Fetching 1 files: 100%|██████████| 1/1 [00:00<00:00, 6808.94it/s]\n",
      "Fetching 1 files: 100%|██████████| 1/1 [00:00<00:00, 6543.38it/s]\n",
      "Fetching 1 files: 100%|██████████| 1/1 [00:00<00:00, 6710.89it/s]\n",
      "Fetching 1 files: 100%|██████████| 1/1 [00:00<00:00, 19239.93it/s]\n",
      "Fetching 1 files: 100%|██████████| 1/1 [00:00<00:00, 5991.86it/s]\n",
      "Fetching 1 files: 100%|██████████| 1/1 [00:00<00:00, 19599.55it/s]\n",
      "Fetching 1 files: 100%|██████████| 1/1 [00:00<00:00, 13530.01it/s]\n",
      "Fetching 1 files: 100%|██████████| 1/1 [00:00<00:00, 20360.70it/s]\n",
      "Fetching 1 files: 100%|██████████| 1/1 [00:00<00:00, 6502.80it/s]\n",
      "Fetching 1 files: 100%|██████████| 1/1 [00:00<00:00, 20460.02it/s]\n",
      "Fetching 1 files: 100%|██████████| 1/1 [00:00<00:00, 11618.57it/s]\n",
      "Fetching 1 files: 100%|██████████| 1/1 [00:00<00:00, 6808.94it/s]\n",
      "Fetching 1 files: 100%|██████████| 1/1 [00:00<00:00, 7037.42it/s]\n",
      "Fetching 1 files: 100%|██████████| 1/1 [00:00<00:00, 9709.04it/s]\n",
      "Fetching 1 files: 100%|██████████| 1/1 [00:00<00:00, 10645.44it/s]\n",
      "Fetching 1 files: 100%|██████████| 1/1 [00:00<00:00, 21732.15it/s]\n",
      "Fetching 1 files: 100%|██████████| 1/1 [00:00<00:00, 8322.03it/s]\n",
      "Fetching 1 files: 100%|██████████| 1/1 [00:00<00:00, 16710.37it/s]\n",
      "Fetching 1 files: 100%|██████████| 1/1 [00:00<00:00, 2457.12it/s]\n",
      "Fetching 1 files: 100%|██████████| 1/1 [00:00<00:00, 22192.08it/s]\n",
      "Fetching 1 files: 100%|██████████| 1/1 [00:00<00:00, 3816.47it/s]\n",
      "Fetching 1 files: 100%|██████████| 1/1 [00:00<00:00, 12052.60it/s]\n",
      "Fetching 1 files: 100%|██████████| 1/1 [00:00<00:00, 9000.65it/s]\n",
      "Fetching 1 files: 100%|██████████| 1/1 [00:00<00:00, 18477.11it/s]\n",
      "Fetching 1 files: 100%|██████████| 1/1 [00:00<00:00, 7626.01it/s]\n",
      "Fetching 1 files: 100%|██████████| 1/1 [00:00<00:00, 16384.00it/s]\n",
      "Fetching 1 files: 100%|██████████| 1/1 [00:00<00:00, 2202.89it/s]\n",
      "Fetching 1 files: 100%|██████████| 1/1 [00:00<00:00, 21845.33it/s]\n",
      "Fetching 1 files: 100%|██████████| 1/1 [00:00<00:00, 9425.40it/s]\n",
      "Fetching 1 files: 100%|██████████| 1/1 [00:00<00:00, 21183.35it/s]\n",
      "Fetching 1 files: 100%|██████████| 1/1 [00:00<00:00, 2725.34it/s]\n",
      "Fetching 1 files: 100%|██████████| 1/1 [00:00<00:00, 20867.18it/s]\n",
      "Fetching 1 files: 100%|██████████| 1/1 [00:00<00:00, 2299.51it/s]\n",
      "Fetching 1 files: 100%|██████████| 1/1 [00:00<00:00, 14074.85it/s]\n",
      "Fetching 1 files: 100%|██████████| 1/1 [00:00<00:00, 6626.07it/s]\n",
      "Fetching 1 files: 100%|██████████| 1/1 [00:00<00:00, 21620.12it/s]\n",
      "Fetching 1 files: 100%|██████████| 1/1 [00:00<00:00, 8405.42it/s]\n",
      "Fetching 1 files: 100%|██████████| 1/1 [00:00<00:00, 17476.27it/s]\n",
      "Fetching 1 files: 100%|██████████| 1/1 [00:00<00:00, 6250.83it/s]\n",
      "Fetching 1 files: 100%|██████████| 1/1 [00:00<00:00, 3509.88it/s]\n",
      "Fetching 1 files: 100%|██████████| 1/1 [00:00<00:00, 2353.71it/s]\n",
      "Fetching 1 files: 100%|██████████| 1/1 [00:00<00:00, 17848.10it/s]\n",
      "Fetching 1 files: 100%|██████████| 1/1 [00:00<00:00, 1685.81it/s]\n",
      "Fetching 1 files: 100%|██████████| 1/1 [00:00<00:00, 2741.38it/s]\n",
      "Fetching 1 files: 100%|██████████| 1/1 [00:00<00:00, 2900.63it/s]\n"
     ]
    }
   ],
   "source": [
    "topic_names = []\n",
    "all_topics = topic_multilabel.get_topics()\n",
    "for i in range(len(all_topics) - 1):\n",
    "    list_of_words = []\n",
    "    for word in all_topics[i]:\n",
    "        list_of_words.append(word[0])\n",
    "    topic_names.append(generate_topic_name(list_of_words))"
   ]
  },
  {
   "cell_type": "code",
   "execution_count": 25,
   "metadata": {},
   "outputs": [
    {
     "data": {
      "text/plain": [
       "'1. Stand-up\\n    2. Comedy'"
      ]
     },
     "execution_count": 25,
     "metadata": {},
     "output_type": "execute_result"
    }
   ],
   "source": [
    "topic_names[0]"
   ]
  },
  {
   "cell_type": "code",
   "execution_count": 27,
   "metadata": {},
   "outputs": [
    {
     "name": "stdout",
     "output_type": "stream",
     "text": [
      "['1. Stand-up\\n    2. Comedy',\n",
      " '1. Rock\\n'\n",
      " '    2. Musical\\n'\n",
      " '    3. Documentary\\n'\n",
      " '    4. Singer\\n'\n",
      " '    5. Concert\\n'\n",
      " '    6. Band\\n'\n",
      " '    7. Tour\\n'\n",
      " '    8. Songs',\n",
      " '1. Funny\\n    2. Animals\\n    3. Adventure',\n",
      " ' Please let me know if you need any additional information or clarification.',\n",
      " ' \"thriller, suspense, crime, mystery, detective, murder, violence, action\"\\n'\n",
      " '     \"romance, love, relationships, drama, passion, kiss, hug, wedding\"\\n'\n",
      " '     \"comedy, funny, humor, laughter, slapstick, parody, satire\"\\n'\n",
      " '     \"drama, emotional, intense, character, development, plot, twists\"\\n'\n",
      " '     \"horror, scary, spooky, ghost, monster, supernatural\"\\n'\n",
      " 'Please let me know if you need any additional information.',\n",
      " '1. Drama\\n'\n",
      " '    2. Comedy\\n'\n",
      " '    3. Romance\\n'\n",
      " '    4. Thriller\\n'\n",
      " '    5. Horror\\n'\n",
      " '    6. Sci-Fi\\n'\n",
      " '    7. Fantasy\\n'\n",
      " '    8. Crime\\n'\n",
      " '    9. Mystery\\n'\n",
      " '    10. Adventure',\n",
      " '1. Sci-Fi\\n'\n",
      " '2. Space Opera\\n'\n",
      " '3. Action Adventure\\n'\n",
      " '4. Thriller\\n'\n",
      " '5. Drama\\n'\n",
      " '6. Mystery\\n'\n",
      " '7. Comedy\\n'\n",
      " '8. Fantasy\\n'\n",
      " '9. Horror\\n'\n",
      " '10. Romance',\n",
      " '1. Wildlife\\n    2. Nature Doc',\n",
      " '1. Horror\\n    2. Supernatural\\n    3. Thriller',\n",
      " '1. Film\\n    2. Documentary\\n    3. Women\\n    4. Career\\n    5. Director']\n"
     ]
    }
   ],
   "source": [
    "import pprint\n",
    "pprint.pprint(topic_names[0:10])"
   ]
  },
  {
   "cell_type": "code",
   "execution_count": 28,
   "metadata": {},
   "outputs": [
    {
     "data": {
      "text/plain": [
       "['1. Stand-up\\n    2. Comedy',\n",
       " '1. Rock\\n    2. Musical\\n    3. Documentary\\n    4. Singer\\n    5. Concert\\n    6. Band\\n    7. Tour\\n    8. Songs',\n",
       " '1. Funny\\n    2. Animals\\n    3. Adventure',\n",
       " ' Please let me know if you need any additional information or clarification.',\n",
       " ' \"thriller, suspense, crime, mystery, detective, murder, violence, action\"\\n     \"romance, love, relationships, drama, passion, kiss, hug, wedding\"\\n     \"comedy, funny, humor, laughter, slapstick, parody, satire\"\\n     \"drama, emotional, intense, character, development, plot, twists\"\\n     \"horror, scary, spooky, ghost, monster, supernatural\"\\nPlease let me know if you need any additional information.',\n",
       " '1. Drama\\n    2. Comedy\\n    3. Romance\\n    4. Thriller\\n    5. Horror\\n    6. Sci-Fi\\n    7. Fantasy\\n    8. Crime\\n    9. Mystery\\n    10. Adventure',\n",
       " '1. Sci-Fi\\n2. Space Opera\\n3. Action Adventure\\n4. Thriller\\n5. Drama\\n6. Mystery\\n7. Comedy\\n8. Fantasy\\n9. Horror\\n10. Romance',\n",
       " '1. Wildlife\\n    2. Nature Doc',\n",
       " '1. Horror\\n    2. Supernatural\\n    3. Thriller',\n",
       " '1. Film\\n    2. Documentary\\n    3. Women\\n    4. Career\\n    5. Director',\n",
       " '1. Christmas\\n    2. Holiday',\n",
       " '1. Thriller\\n    2. Drama\\n    3. Action\\n    4. Crime\\n    5. Mystery\\n    6. Romance\\n    7. Horror\\n    8. Adventure\\nPlease let me know if you need any additional information or clarification.',\n",
       " '\\n\\nName of the genre:  Crime Drama',\n",
       " ' \"thriller, crime, mystery, detective, police, violence, action, suspense\"\\n     \"romance, love, relationship, heartbreak, kissing, wedding, honeymoon\"\\n     \"comedy, funny, humor, laughter, slapstick, parody, satire\"\\n     \"drama, emotion, feelings, family, relationships, trauma, grief\"\\nPlease let me know if you need any additional information.',\n",
       " '\\n\\nI would suggest the following genres:\\n\\n* Action\\n* Martial Arts\\n* Adventure\\n* Drama\\n* Fantasy\\n* Historical Drama\\n* Romance\\n* Thriller',\n",
       " \"1. Adventure\\n    2. Children's\\n    3. Animated\\n    4. Fantasy\\n    5. Family-Friendly\\n    6. Underwater\\n    7. Nature-Documentary\\n    8. Comedy\\n    9. Educational\\n    10. Reality-TV\",\n",
       " '1. Art\\n    2. Photographer\\n    3. Painter\\n    4. Inspiration\\n    5. Gallery\\n    6. Beauty\\n    7. Calendar\\n    8. Velvet\\n    9. Artist\\n    10. Chances',\n",
       " '1. Horror\\n    2. Thriller\\n    3. Drama\\n    4. Fantasy\\n    5. Comedy\\n    6. Romance\\n    7. Mystery\\n    8. Sci-Fi\\nPlease let me know if you need any additional information or clarification.',\n",
       " '\\n\\nThe genre of Netflix shows is... (two words)\\n1. Crime Drama\\n2. Thriller',\n",
       " ' at 10/23/20 10:47 AM (GMT-05:00)\\n\\n\\nAnswer: Crime',\n",
       " '1. Ballet\\n    2. Dance',\n",
       " '1. Romance\\n    2. Drama\\n    3. Comedy\\n    4. Thriller\\n    5. Horror\\n    6. Sci-Fi\\n    7. Fantasy\\n    8. Mystery',\n",
       " '1. Crime\\n    2. Thriller\\n    3. Action\\n    4. Drama\\n    5. Comedy\\n    6. Adventure\\n    7. Mystery\\n    8. Suspense\\nPlease let me know if you need anything else!',\n",
       " '\\n\\nAnswer:\\nHistorical Drama',\n",
       " '\\n\\nName: Sports Docu-Drama',\n",
       " '1. Drama\\n    2. Comedy\\n    3. Romance\\n    4. Thriller\\n    5. Family\\n    6. Teen\\n    7. Mystery\\n    8. Crime\\n    9. Fantasy\\n    10. Sci-Fi',\n",
       " '1. Thriller\\n    2. Drama\\n    3. Comedy\\n    4. Crime\\n    5. Romance\\n    6. Horror\\n    7. Sci-Fi\\n    8. Fantasy\\n    9. Mystery\\n    10. Adventure',\n",
       " '1. Sports\\n    2. Drama\\n    3. Action\\n    4. Comedy\\n    5. Romance\\n    6. Thriller\\n    7. Horror\\n    8. Sci-Fi\\n    9. Fantasy\\n    10. Mystery',\n",
       " '1. Chick Flick\\n2. Teen Drama\\n3. Coming of Age\\n4. Romantic Comedy\\n5. Dramedy\\n6. Friendship Flicks\\n7. Young Adult\\n8. Heartwarming Films\\n9. Life Lessons\\n10. College Kids ',\n",
       " '1. Superhero\\n    2. Marvel',\n",
       " '1. Romance\\n    2. Reality\\n    3. Comedy\\n    4. Drama\\n    5. Lifestyle\\n    6. Relationship\\nPlease let me know if you need anything else!',\n",
       " '\\nThe genre of Netflix shows is \"competition\".',\n",
       " '1. Thriller\\n2. Drama\\n3. Mystery\\n4. Romance\\n5. Comedy\\n6. Crime\\n7. Action\\n8. Adventure',\n",
       " '1. Thriller\\n2. Mystery\\n3. Drama\\n4. Crime\\n5. Romance\\n6. Family\\n7. Adventure\\n8. Comedy\\n9. Horror\\n10. Sci-Fi',\n",
       " '1. Epic\\n    2. Fantasy\\n    3. Adventure\\n    4. Drama\\n    5. Historical\\n    6. Romance\\n    7. Comedy\\n    8. Horror\\n    9. Sci-Fi\\n    10. Thriller',\n",
       " ' Documentary Riot Activists',\n",
       " '1. Bollywood\\n    2. Indian Drama\\n    3. Hindi Film\\n    4. South Asian\\n    5. Village Life\\n    6. Indian Culture\\n    7. Business Drama\\n    8. Foremost Flicks',\n",
       " '\\nThe genre of Netflix shows is: Adventure',\n",
       " '1. Romance\\n    2. Drama\\n    3. Comedy\\n    4. Thriller\\n    5. Action\\n    6. Fantasy\\n    7. Horror\\n    8. Sci-Fi',\n",
       " '1. Sports\\n    2. Teen Drama',\n",
       " '1. Thriller\\n2. Crime Drama\\n3. Legal Drama\\n4. Mystery\\n5. Suspense\\n6. Courtroom Drama',\n",
       " '1. Romance\\n    2. Drama\\n    3. Comedy\\n    4. Thriller\\n    5. Horror\\n    6. Mystery\\n    7. Sci-Fi\\n    8. Fantasy\\n    9. Crime\\n    10. Family',\n",
       " '1. Drama\\n    2. Thriller\\n    3. Comedy\\n    4. Romance\\n    5. Horror\\n    6. Mystery\\n    7. Sci-Fi\\n    8. Fantasy\\n    9. Action\\n    10. Adventure',\n",
       " '1. Boxing\\n    2. Action\\n    3. Sports\\n    4. Drama\\n    5. Thriller\\n    6. Adventure\\n    7. Biopic\\n    8. Comedy\\n    9. Romance\\n    10. Family\\nPlease let me know if you need anything else!',\n",
       " '1. Horror\\n    2. Anthology',\n",
       " '1. Drama\\n    2. Romance\\n    3. Comedy\\n    4. Thriller\\n    5. Action\\n    6. Crime\\n    7. Mystery\\n    8. Sci-Fi\\n    9. Fantasy\\n    10. Horror',\n",
       " '1. Action\\n    2. Adventure\\n    3. Fantasy\\n    4. Anime\\n    5. Martial Arts\\n    6. Supernatural\\n    7. Comedy\\n    8. Romance\\n    9. Drama\\n    10. Mystery',\n",
       " '1. Business\\n    2. Bar\\n    3. Hotel',\n",
       " '1. Bollywood\\n2. Indian Cinema\\n3. South Asian\\n4. Folk Tales\\n5. Classical Indian\\n6. Regional Focus\\n7. International Co-Production\\n8. Cultural Diversity\\n9. Nostalgic Viewing\\n10. Art House',\n",
       " '1. Doco\\n    2. Cultural Explore\\n    3. Decade Deep\\n    4. Cash Cow\\n    5. Focused Impact\\n    6. Spent Series',\n",
       " '1. Action\\n    2. Adventure\\n    3. Comedy\\n    4. Drama\\n    5. Fantasy\\n    6. Historical\\n    7. Horror\\n    8. Mystery\\n    9. Romance\\n    10. Sci-Fi',\n",
       " '\\n\\nThe genre of Netflix shows is... (one to two words)',\n",
       " '\\n\\nI would call it \"Race Flix\"',\n",
       " '1. Rom-Com\\n    2. Dating Shows\\n    3. Love Stories\\n    4. Matchmaking\\n    5. Single Life\\n    6. Romantic Comedies\\n    7. Date Nights\\n    8. Woman-Centric\\nPlease let me know if you need anything else!',\n",
       " '1. Biology\\n    2. Marvels\\n    3. Mysteries',\n",
       " '1. Romance\\n    2. Drama\\n    3. Comedy\\n    4. Thriller\\n    5. Horror\\n    6. Sci-Fi\\n    7. Fantasy\\n    8. Crime\\n    9. Mystery\\n    10. Family\\nPlease let me know if you need any additional information or clarification.',\n",
       " \"1. Rom-Com\\n    2. Action Flicks\\n    3. Drama Queens\\n    4. International Intrigue\\n    5. Lusty Adventures\\n    6. Women's Empowerment\\n    7. Hong Kong Heroes\\n    8. Korean K-Town\\n    9. Fantasy Favorites\\n    10. Family Fun\",\n",
       " '1. Horror\\n    2. Thriller\\n    3. Drama\\n    4. Sci-Fi\\n    5. Action\\n    6. Comedy\\n    7. Romance\\n    8. Mystery\\nPlease let me know if you need anything else!',\n",
       " '\\n\\nThe genres are:\\n\\n1. Thriller\\n2. Drama\\n3. Romance\\n4. Horror\\n5. Comedy\\n6. Crime\\n7. Historical Drama\\n8. Mystery\\n9. Sci-Fi\\n10. Fantasy',\n",
       " '1. War\\n    2. Nostalgic\\n    3. Lebanese\\n    4. Syrian\\n    5. Beirut\\n    6. Revolt\\n    7. Nations',\n",
       " '1. Vampire\\n    2. Supernatural\\n    3. Fantasy\\n    4. Romance\\n    5. Horror\\n    6. Adventure\\n    7. Drama\\n    8. Mystery\\n    9. Comedy\\n    10. Sci-Fi',\n",
       " '1. Political Drama\\n    2. Thriller\\n    3. Comedy\\n    4. Crime Drama\\n    5. Satire\\n    6. Historical Drama\\n    7. Action Thriller\\n    8. Dark Comedy\\n    9. Legal Drama\\n    10. Espionage Thriller',\n",
       " '1. Action\\n    2. Drama\\n    3. Thriller\\n    4. Crime\\n    5. Mystery\\n    6. Romance\\n    7. Comedy\\n    8. Horror\\nPlease let me know if you need any additional information or have any questions.',\n",
       " '1. Thriller\\n    2. Dark\\n    3. Obsession\\n    4. Rest\\n    5. Hold\\n    6. Twisted\\n    7. Act\\n    8. Cop',\n",
       " '1. Civil War\\n    2. Western\\n    3. Frontier',\n",
       " \"1. Kids' Show\\n2. Musical Comedy\\n3. Educational Program\\n4. Animation Genre\\n5. Children's Favorites\",\n",
       " '1. creature feature\\n    2. sci-fi\\n    3. horror\\n    4. action\\n    5. adventure\\n    6. comedy\\n    7. drama\\n    8. fantasy\\n    9. thriller\\n    10. romance',\n",
       " '1. Action\\n    2. Adventure\\n    3. Fantasy\\n    4. Science Fiction\\n    5. Martial Arts\\n    6. Superhero\\nPlease let me know if you need any additional information or have any questions.',\n",
       " '1. Crime Drama\\n    2. True Crime\\n    3. Documentary',\n",
       " '1. Action\\n    2. Drama\\n    3. Fantasy\\n    4. Adventure\\n    5. Thriller\\n    6. Historical\\n    7. Romance\\n    8. Horror\\n    9. Sci-Fi\\n    10. Mystery',\n",
       " '\\nThe genre of Netflix shows is:\\nWAR DRAMA',\n",
       " '1. Romance\\n    2. Drama\\n    3. Comedy\\n    4. Thriller\\n    5. Horror\\n    6. Mystery\\n    7. Family\\n    8. Adventure\\n    9. Fantasy\\n    10. Sci-Fi',\n",
       " '1. Historical Drama\\n    2. Royalty Drama\\n    3. Period Drama\\n    4. Lavish Production\\n    5. Biographical Drama',\n",
       " '1. Horror\\n2. Fantasy\\n3. Comedy\\n4. Drama\\n5. Thriller\\n6. Adventure\\n7. Romance\\n8. Sci-Fi\\n9. Mystery\\n10. Family',\n",
       " '1. Supernatural\\n    2. Teen Drama\\n    3. Fantasy\\n    4. Horror\\n    5. Science Fiction\\n    6. Comedy\\n    7. Thriller\\n    8. Mystery\\n    9. Adventure\\n    10. Romance',\n",
       " '1. Drama\\n    2. Romance\\n    3. Comedy\\n    4. Thriller\\n    5. Horror\\n    6. Action\\n    7. Mystery\\n    8. Sci-Fi\\n    9. Fantasy\\n    10. Documentary',\n",
       " \"\\nThe genre of Netflix shows is...\\n(Spoiler alert: I'm just an AI and don't have access to any real-time information)\",\n",
       " '1. Gamer\\n    2. Prize\\n    3. Loop\\n    4. Compete\\n    5. Tournament\\n    6. Contest\\n    7. Championship\\n    8. High-stakes\\n    9. Thrown\\n    10. Win',\n",
       " '1. Thriller\\n2. Drama\\n3. Mystery\\n4. Romance\\n5. Comedy\\n6. Horror\\n7. Sci-Fi\\n8. Fantasy\\n9. Crime\\n10. Adventure',\n",
       " '1. Rainbow\\n    2. Kingdom',\n",
       " '1. Romance\\n    2. Drama\\n    3. Action\\n    4. Historical\\n    5. Comedy\\n    6. Thriller\\n    7. Fantasy\\n    8. Horror\\nPlease let me know if you need anything else!',\n",
       " '1. Animated\\n    2. Princess\\n    3. Summer\\n    4. Royal',\n",
       " '\\n\\nThe genre of Netflix shows is... (one to two words)',\n",
       " '1. Horror\\n    2. Sci-Fi\\n    3. Fantasy\\n    4. Adventure\\n    5. Thriller\\n    6. Mystery\\n    7. Drama\\n    8. Romance\\nPlease let me know if you need anything else!',\n",
       " '1. Historical Drama\\n    2. Period Drama\\n    3. Costume Drama\\n    4. Historical Fiction\\n    5. Genre Fusion\\nPlease let me know if you need any additional information or clarification.',\n",
       " '1. Monty Python\\n    2. Sketch Comedy',\n",
       " '1. War\\n    2. Documentary',\n",
       " '1. Drama\\n    2. Romance\\n    3. Comedy\\n    4. Thriller\\n    5. Horror\\n    6. Mystery\\n    7. Sci-Fi\\n    8. Fantasy\\nPlease let me know if you need any additional information or clarification.',\n",
       " '1. Psychological Thriller\\n    2. Horror Movie\\n    3. Drama Series\\n    4. Comedy Film\\n    5. Action Flick\\n    6. Mystery Box\\n    7. Romantic Comedy\\n    8. Sci-Fi Epic\\n    9. Historical Drama\\n    10. Animated Adventure',\n",
       " \"1. Post-Disaster Drama\\n2. Alien Invasion Thriller\\n3. Once Fruitful World\\n4. Adult Survival Drama\\n5. Foreboding Mars Expedition\\n6. Devolved Civilization\\n7. Earth's Last Stand\",\n",
       " '1. Zom - 2\\n    2. Hor - 2\\n    3. Fan - 1\\n    4. Thr - 2\\n    5. Slash - 2\\n    6. Splat - 1\\n    7. Killer - 1\\n    8. Monster - 1\\n    9. Bloody - 1\\n    10. Gore - 1',\n",
       " '1. Romantic\\n    2. Drama\\n    3. Thriller\\n    4. Comedy\\n    5. Action\\n    6. Horror\\n    7. Sci-Fi\\n    8. Fantasy\\n    9. Crime\\n    10. Mystery',\n",
       " '1. Stash\\n    2. Drug\\n    3. Dea\\n    4. Weed\\n    5. Undercover\\n    6. Agents\\n    7. Weekends\\n    8. Upstart\\n    9. Potfueled\\n    10. Stylin',\n",
       " '1. Psychological Thriller\\n    2. Supernatural Drama\\n    3. Fantasy Adventure\\n    4. Horror Comedy\\n    5. Sci-Fi Action\\n    6. Teen Drama\\n    7. Historical Drama\\n    8. Animated Series\\n    9. Crime Drama\\n    10. Romantic Comedy',\n",
       " '1. Action\\n    2. Thriller\\n    3. Drama\\n    4. Comedy\\n    5. Crime\\n    6. Adventure\\n    7. Mystery\\n    8. Romance\\n    9. Horror\\n    10. Sci-Fi']"
      ]
     },
     "execution_count": 28,
     "metadata": {},
     "output_type": "execute_result"
    }
   ],
   "source": [
    "topic_names"
   ]
  },
  {
   "cell_type": "code",
   "execution_count": null,
   "metadata": {},
   "outputs": [],
   "source": []
  }
 ],
 "metadata": {
  "kernelspec": {
   "display_name": ".venv",
   "language": "python",
   "name": "python3"
  },
  "language_info": {
   "codemirror_mode": {
    "name": "ipython",
    "version": 3
   },
   "file_extension": ".py",
   "mimetype": "text/x-python",
   "name": "python",
   "nbconvert_exporter": "python",
   "pygments_lexer": "ipython3",
   "version": "3.9.6"
  }
 },
 "nbformat": 4,
 "nbformat_minor": 2
}
