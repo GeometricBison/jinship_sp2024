{
 "cells": [
  {
   "cell_type": "code",
   "execution_count": null,
   "metadata": {},
   "outputs": [],
   "source": [
    "!pip install datasets\n",
    "!pip install bertopic\n",
    "!pip install langchain\n",
    "!pip install ctransformers\n",
    "!pip install nltk"
   ]
  },
  {
   "cell_type": "markdown",
   "metadata": {},
   "source": [
    "# Pulled from Anish's Branch Bert Topic Modeling "
   ]
  },
  {
   "cell_type": "code",
   "execution_count": 2,
   "metadata": {},
   "outputs": [
    {
     "name": "stderr",
     "output_type": "stream",
     "text": [
      "/Users/ayushjain/Development/DisruptionLab/jinship_sp2024/.venv/lib/python3.9/site-packages/urllib3/__init__.py:35: NotOpenSSLWarning: urllib3 v2 only supports OpenSSL 1.1.1+, currently the 'ssl' module is compiled with 'LibreSSL 2.8.3'. See: https://github.com/urllib3/urllib3/issues/3020\n",
      "  warnings.warn(\n",
      "/Users/ayushjain/Development/DisruptionLab/jinship_sp2024/.venv/lib/python3.9/site-packages/tqdm/auto.py:21: TqdmWarning: IProgress not found. Please update jupyter and ipywidgets. See https://ipywidgets.readthedocs.io/en/stable/user_install.html\n",
      "  from .autonotebook import tqdm as notebook_tqdm\n"
     ]
    }
   ],
   "source": [
    "from datasets import load_dataset\n",
    "from bertopic import BERTopic\n",
    "from langchain.prompts import PromptTemplate\n",
    "from langchain.llms import CTransformers\n",
    "\n",
    "dataset = load_dataset(\"hugginglearners/netflix-shows\", split=\"train\")"
   ]
  },
  {
   "cell_type": "code",
   "execution_count": 3,
   "metadata": {},
   "outputs": [],
   "source": [
    "topic_model = BERTopic(nr_topics=20)\n",
    "topics, probabilities = topic_model.fit_transform(dataset['description'])"
   ]
  },
  {
   "cell_type": "code",
   "execution_count": 4,
   "metadata": {},
   "outputs": [
    {
     "data": {
      "text/html": [
       "<div>\n",
       "<style scoped>\n",
       "    .dataframe tbody tr th:only-of-type {\n",
       "        vertical-align: middle;\n",
       "    }\n",
       "\n",
       "    .dataframe tbody tr th {\n",
       "        vertical-align: top;\n",
       "    }\n",
       "\n",
       "    .dataframe thead th {\n",
       "        text-align: right;\n",
       "    }\n",
       "</style>\n",
       "<table border=\"1\" class=\"dataframe\">\n",
       "  <thead>\n",
       "    <tr style=\"text-align: right;\">\n",
       "      <th></th>\n",
       "      <th>Topic</th>\n",
       "      <th>Count</th>\n",
       "      <th>Name</th>\n",
       "      <th>Representation</th>\n",
       "      <th>Representative_Docs</th>\n",
       "    </tr>\n",
       "  </thead>\n",
       "  <tbody>\n",
       "    <tr>\n",
       "      <th>0</th>\n",
       "      <td>-1</td>\n",
       "      <td>4666</td>\n",
       "      <td>-1_the_to_and_of</td>\n",
       "      <td>[the, to, and, of, in, his, her, with, an, for]</td>\n",
       "      <td>[When an aspiring musician falls for a carefre...</td>\n",
       "    </tr>\n",
       "    <tr>\n",
       "      <th>1</th>\n",
       "      <td>0</td>\n",
       "      <td>880</td>\n",
       "      <td>0_and_in_standup_the</td>\n",
       "      <td>[and, in, standup, the, comedian, his, of, com...</td>\n",
       "      <td>[Members of the comedy group Na Stojáka take t...</td>\n",
       "    </tr>\n",
       "    <tr>\n",
       "      <th>2</th>\n",
       "      <td>1</td>\n",
       "      <td>618</td>\n",
       "      <td>1_to_his_the_of</td>\n",
       "      <td>[to, his, the, of, in, and, with, an, detectiv...</td>\n",
       "      <td>[A world-weary detective is forced to team up ...</td>\n",
       "    </tr>\n",
       "    <tr>\n",
       "      <th>3</th>\n",
       "      <td>2</td>\n",
       "      <td>334</td>\n",
       "      <td>2_her_to_their_and</td>\n",
       "      <td>[her, to, their, and, his, father, family, in,...</td>\n",
       "      <td>[After running away from her abusive mother, a...</td>\n",
       "    </tr>\n",
       "    <tr>\n",
       "      <th>4</th>\n",
       "      <td>3</td>\n",
       "      <td>285</td>\n",
       "      <td>3_and_christmas_the_to</td>\n",
       "      <td>[and, christmas, the, to, of, dog, friends, ad...</td>\n",
       "      <td>[A new pack of Pup Star pooches stumbles upon ...</td>\n",
       "    </tr>\n",
       "    <tr>\n",
       "      <th>5</th>\n",
       "      <td>4</td>\n",
       "      <td>264</td>\n",
       "      <td>4_school_high_to_student</td>\n",
       "      <td>[school, high, to, student, of, and, friends, ...</td>\n",
       "      <td>[A quirk of fate sends an ordinary, sweet-natu...</td>\n",
       "    </tr>\n",
       "    <tr>\n",
       "      <th>6</th>\n",
       "      <td>5</td>\n",
       "      <td>240</td>\n",
       "      <td>5_the_to_of_and</td>\n",
       "      <td>[the, to, of, and, in, by, her, their, haunted...</td>\n",
       "      <td>[A couple and their young daughter are haunted...</td>\n",
       "    </tr>\n",
       "    <tr>\n",
       "      <th>7</th>\n",
       "      <td>6</td>\n",
       "      <td>194</td>\n",
       "      <td>6_the_to_bheem_rangers</td>\n",
       "      <td>[the, to, bheem, rangers, from, and, of, his, ...</td>\n",
       "      <td>[When Dholakpur’s princess is kidnapped, Bheem...</td>\n",
       "    </tr>\n",
       "    <tr>\n",
       "      <th>8</th>\n",
       "      <td>7</td>\n",
       "      <td>194</td>\n",
       "      <td>7_and_the_music_of</td>\n",
       "      <td>[and, the, music, of, this, dance, band, dance...</td>\n",
       "      <td>[In addition to concert scenes and studio reco...</td>\n",
       "    </tr>\n",
       "    <tr>\n",
       "      <th>9</th>\n",
       "      <td>8</td>\n",
       "      <td>193</td>\n",
       "      <td>8_the_to_terrorist_agent</td>\n",
       "      <td>[the, to, terrorist, agent, of, war, in, an, c...</td>\n",
       "      <td>[Following the death of his wife and daughter ...</td>\n",
       "    </tr>\n",
       "    <tr>\n",
       "      <th>10</th>\n",
       "      <td>9</td>\n",
       "      <td>147</td>\n",
       "      <td>9_the_of_this_and</td>\n",
       "      <td>[the, of, this, and, to, documentary, in, sea,...</td>\n",
       "      <td>[Collecting highlights from the epic documenta...</td>\n",
       "    </tr>\n",
       "    <tr>\n",
       "      <th>11</th>\n",
       "      <td>10</td>\n",
       "      <td>134</td>\n",
       "      <td>10_chef_food_and_the</td>\n",
       "      <td>[chef, food, and, the, chefs, cooking, of, to,...</td>\n",
       "      <td>[A female food blogger is hired as a personal ...</td>\n",
       "    </tr>\n",
       "    <tr>\n",
       "      <th>12</th>\n",
       "      <td>11</td>\n",
       "      <td>130</td>\n",
       "      <td>11_soccer_the_team_player</td>\n",
       "      <td>[soccer, the, team, player, football, of, athl...</td>\n",
       "      <td>[A young soccer player sets out to prove he ca...</td>\n",
       "    </tr>\n",
       "    <tr>\n",
       "      <th>13</th>\n",
       "      <td>12</td>\n",
       "      <td>102</td>\n",
       "      <td>12_earth_the_planet_to</td>\n",
       "      <td>[earth, the, planet, to, space, and, alien, on...</td>\n",
       "      <td>[When a lost and lonely alien crash-lands on E...</td>\n",
       "    </tr>\n",
       "    <tr>\n",
       "      <th>14</th>\n",
       "      <td>13</td>\n",
       "      <td>88</td>\n",
       "      <td>13_drug_the_of_and</td>\n",
       "      <td>[drug, the, of, and, in, marijuana, this, mexi...</td>\n",
       "      <td>[Three films chronicle the cocaine trade's swe...</td>\n",
       "    </tr>\n",
       "    <tr>\n",
       "      <th>15</th>\n",
       "      <td>14</td>\n",
       "      <td>85</td>\n",
       "      <td>14_documentary_this_of_the</td>\n",
       "      <td>[documentary, this, of, the, series, in, war, ...</td>\n",
       "      <td>[This reality series recounts true stories of ...</td>\n",
       "    </tr>\n",
       "    <tr>\n",
       "      <th>16</th>\n",
       "      <td>15</td>\n",
       "      <td>83</td>\n",
       "      <td>15_martial_arts_boxer_to</td>\n",
       "      <td>[martial, arts, boxer, to, the, his, kung, fu,...</td>\n",
       "      <td>[Martial arts master Ip springs into action wh...</td>\n",
       "    </tr>\n",
       "    <tr>\n",
       "      <th>17</th>\n",
       "      <td>16</td>\n",
       "      <td>73</td>\n",
       "      <td>16_doctor_patients_medical_hospital</td>\n",
       "      <td>[doctor, patients, medical, hospital, cancer, ...</td>\n",
       "      <td>[Four doctors at New York's storied Lenox Hill...</td>\n",
       "    </tr>\n",
       "    <tr>\n",
       "      <th>18</th>\n",
       "      <td>17</td>\n",
       "      <td>55</td>\n",
       "      <td>17_game_contestants_competition_compete</td>\n",
       "      <td>[game, contestants, competition, compete, this...</td>\n",
       "      <td>[In this karaoke competition hosted by Palina ...</td>\n",
       "    </tr>\n",
       "    <tr>\n",
       "      <th>19</th>\n",
       "      <td>18</td>\n",
       "      <td>42</td>\n",
       "      <td>18_the_racing_bus_cars</td>\n",
       "      <td>[the, racing, bus, cars, and, drivers, cory, o...</td>\n",
       "      <td>[Cory, Chrissy and Freddie are on the hunt for...</td>\n",
       "    </tr>\n",
       "  </tbody>\n",
       "</table>\n",
       "</div>"
      ],
      "text/plain": [
       "    Topic  Count                                     Name  \\\n",
       "0      -1   4666                         -1_the_to_and_of   \n",
       "1       0    880                     0_and_in_standup_the   \n",
       "2       1    618                          1_to_his_the_of   \n",
       "3       2    334                       2_her_to_their_and   \n",
       "4       3    285                   3_and_christmas_the_to   \n",
       "5       4    264                 4_school_high_to_student   \n",
       "6       5    240                          5_the_to_of_and   \n",
       "7       6    194                   6_the_to_bheem_rangers   \n",
       "8       7    194                       7_and_the_music_of   \n",
       "9       8    193                 8_the_to_terrorist_agent   \n",
       "10      9    147                        9_the_of_this_and   \n",
       "11     10    134                     10_chef_food_and_the   \n",
       "12     11    130                11_soccer_the_team_player   \n",
       "13     12    102                   12_earth_the_planet_to   \n",
       "14     13     88                       13_drug_the_of_and   \n",
       "15     14     85               14_documentary_this_of_the   \n",
       "16     15     83                 15_martial_arts_boxer_to   \n",
       "17     16     73      16_doctor_patients_medical_hospital   \n",
       "18     17     55  17_game_contestants_competition_compete   \n",
       "19     18     42                   18_the_racing_bus_cars   \n",
       "\n",
       "                                       Representation  \\\n",
       "0     [the, to, and, of, in, his, her, with, an, for]   \n",
       "1   [and, in, standup, the, comedian, his, of, com...   \n",
       "2   [to, his, the, of, in, and, with, an, detectiv...   \n",
       "3   [her, to, their, and, his, father, family, in,...   \n",
       "4   [and, christmas, the, to, of, dog, friends, ad...   \n",
       "5   [school, high, to, student, of, and, friends, ...   \n",
       "6   [the, to, of, and, in, by, her, their, haunted...   \n",
       "7   [the, to, bheem, rangers, from, and, of, his, ...   \n",
       "8   [and, the, music, of, this, dance, band, dance...   \n",
       "9   [the, to, terrorist, agent, of, war, in, an, c...   \n",
       "10  [the, of, this, and, to, documentary, in, sea,...   \n",
       "11  [chef, food, and, the, chefs, cooking, of, to,...   \n",
       "12  [soccer, the, team, player, football, of, athl...   \n",
       "13  [earth, the, planet, to, space, and, alien, on...   \n",
       "14  [drug, the, of, and, in, marijuana, this, mexi...   \n",
       "15  [documentary, this, of, the, series, in, war, ...   \n",
       "16  [martial, arts, boxer, to, the, his, kung, fu,...   \n",
       "17  [doctor, patients, medical, hospital, cancer, ...   \n",
       "18  [game, contestants, competition, compete, this...   \n",
       "19  [the, racing, bus, cars, and, drivers, cory, o...   \n",
       "\n",
       "                                  Representative_Docs  \n",
       "0   [When an aspiring musician falls for a carefre...  \n",
       "1   [Members of the comedy group Na Stojáka take t...  \n",
       "2   [A world-weary detective is forced to team up ...  \n",
       "3   [After running away from her abusive mother, a...  \n",
       "4   [A new pack of Pup Star pooches stumbles upon ...  \n",
       "5   [A quirk of fate sends an ordinary, sweet-natu...  \n",
       "6   [A couple and their young daughter are haunted...  \n",
       "7   [When Dholakpur’s princess is kidnapped, Bheem...  \n",
       "8   [In addition to concert scenes and studio reco...  \n",
       "9   [Following the death of his wife and daughter ...  \n",
       "10  [Collecting highlights from the epic documenta...  \n",
       "11  [A female food blogger is hired as a personal ...  \n",
       "12  [A young soccer player sets out to prove he ca...  \n",
       "13  [When a lost and lonely alien crash-lands on E...  \n",
       "14  [Three films chronicle the cocaine trade's swe...  \n",
       "15  [This reality series recounts true stories of ...  \n",
       "16  [Martial arts master Ip springs into action wh...  \n",
       "17  [Four doctors at New York's storied Lenox Hill...  \n",
       "18  [In this karaoke competition hosted by Palina ...  \n",
       "19  [Cory, Chrissy and Freddie are on the hunt for...  "
      ]
     },
     "execution_count": 4,
     "metadata": {},
     "output_type": "execute_result"
    }
   ],
   "source": [
    "topic_model.get_topic_info()"
   ]
  },
  {
   "cell_type": "code",
   "execution_count": 10,
   "metadata": {},
   "outputs": [
    {
     "name": "stderr",
     "output_type": "stream",
     "text": [
      "[nltk_data] Downloading package stopwords to\n",
      "[nltk_data]     /Users/ayushjain/nltk_data...\n",
      "[nltk_data]   Unzipping corpora/stopwords.zip.\n"
     ]
    },
    {
     "data": {
      "text/plain": [
       "['father nears end life, filmmaker Kirsten Johnson stages death inventive comical ways help face inevitable.',\n",
       " 'After crossing paths party, Cape Town teen sets prove whether private-school swimming star sister abducted birth.',\n",
       " 'protect family powerful drug lord, skilled thief Mehdi expert team robbers pulled violent deadly turf war.',\n",
       " 'Feuds, flirtations toilet talk go among incarcerated women Orleans Justice Center New Orleans gritty reality series.',\n",
       " 'city coaching centers known train India’s finest collegiate minds, earnest unexceptional student friends navigate campus life.',\n",
       " 'arrival charismatic young priest brings glorious miracles, ominous mysteries renewed religious fervor dying town desperate believe.',\n",
       " \"Equestria's divided. But bright-eyed hero believes Earth Ponies, Pegasi Unicorns pals — and, hoof heart, she’s determined prove it.\",\n",
       " 'On photo shoot Ghana, American model slips back time, becomes enslaved plantation bears witness agony ancestral past.',\n",
       " \"talented batch amateur bakers face 10-week competition, whipping best dishes hopes named U.K.'s best.\",\n",
       " \"woman adjusting life loss contends feisty bird that's taken garden — husband who's struggling find way forward.\"]"
      ]
     },
     "execution_count": 10,
     "metadata": {},
     "output_type": "execute_result"
    }
   ],
   "source": [
    "import nltk\n",
    "from nltk.corpus import stopwords\n",
    "nltk.download('stopwords')\n",
    "\n",
    "stopwords = stopwords.words('english')\n",
    "stopwords.append('the')\n",
    "stopwords.append('and')\n",
    "stopwords.append('to')\n",
    "stopwords.append('of')\n",
    "stopwords.append('in')\n",
    "stopwords.append('with')\n",
    "stopwords.append('an')\n",
    "stopwords.append('The')\n",
    "stopwords.append('And')\n",
    "stopwords.append('To')\n",
    "stopwords.append('Of')\n",
    "stopwords.append('In')\n",
    "stopwords.append('With')\n",
    "stopwords.append('An')\n",
    "stopwords.append('A')\n",
    "stopwords.append('As')\n",
    "stopwords.append('as')\n",
    "\n",
    "descriptions = dataset['description']\n",
    "\n",
    "def remove_stopwords(text):\n",
    "    output= ' '.join([i for i in text.split() if i not in stopwords])\n",
    "    return output\n",
    "\n",
    "processed_descriptions = [remove_stopwords(text) for text in descriptions]\n",
    "processed_descriptions[:10]"
   ]
  },
  {
   "cell_type": "code",
   "execution_count": 51,
   "metadata": {},
   "outputs": [
    {
     "data": {
      "text/html": [
       "<div>\n",
       "<style scoped>\n",
       "    .dataframe tbody tr th:only-of-type {\n",
       "        vertical-align: middle;\n",
       "    }\n",
       "\n",
       "    .dataframe tbody tr th {\n",
       "        vertical-align: top;\n",
       "    }\n",
       "\n",
       "    .dataframe thead th {\n",
       "        text-align: right;\n",
       "    }\n",
       "</style>\n",
       "<table border=\"1\" class=\"dataframe\">\n",
       "  <thead>\n",
       "    <tr style=\"text-align: right;\">\n",
       "      <th></th>\n",
       "      <th>Topic</th>\n",
       "      <th>Count</th>\n",
       "      <th>Name</th>\n",
       "      <th>Representation</th>\n",
       "      <th>Representative_Docs</th>\n",
       "    </tr>\n",
       "  </thead>\n",
       "  <tbody>\n",
       "    <tr>\n",
       "      <th>0</th>\n",
       "      <td>-1</td>\n",
       "      <td>4781</td>\n",
       "      <td>-1_life_young_when_family</td>\n",
       "      <td>[life, young, when, family, new, after, love, ...</td>\n",
       "      <td>[young journalist forced life crime save fathe...</td>\n",
       "    </tr>\n",
       "    <tr>\n",
       "      <th>1</th>\n",
       "      <td>0</td>\n",
       "      <td>750</td>\n",
       "      <td>0_standup_comedian_comedy_special</td>\n",
       "      <td>[standup, comedian, comedy, special, music, co...</td>\n",
       "      <td>[John Mulaney kid pals tackle existential topi...</td>\n",
       "    </tr>\n",
       "    <tr>\n",
       "      <th>2</th>\n",
       "      <td>1</td>\n",
       "      <td>680</td>\n",
       "      <td>1_school_love_friends_high</td>\n",
       "      <td>[school, love, friends, high, young, new, marr...</td>\n",
       "      <td>[Pining high school crush years, young man put...</td>\n",
       "    </tr>\n",
       "    <tr>\n",
       "      <th>3</th>\n",
       "      <td>2</td>\n",
       "      <td>579</td>\n",
       "      <td>2_murder_detective_agent_crime</td>\n",
       "      <td>[murder, detective, agent, crime, criminal, ca...</td>\n",
       "      <td>[detective investigating rock star's brutal mu...</td>\n",
       "    </tr>\n",
       "    <tr>\n",
       "      <th>4</th>\n",
       "      <td>3</td>\n",
       "      <td>281</td>\n",
       "      <td>3_christmas_dog_holiday_friends</td>\n",
       "      <td>[christmas, dog, holiday, friends, santa, adve...</td>\n",
       "      <td>[When Santa crash-lands junkyard Christmas Eve...</td>\n",
       "    </tr>\n",
       "    <tr>\n",
       "      <th>5</th>\n",
       "      <td>4</td>\n",
       "      <td>253</td>\n",
       "      <td>4_haunted_paranormal_vampire_horror</td>\n",
       "      <td>[haunted, paranormal, vampire, horror, home, e...</td>\n",
       "      <td>[Paranormal activity lush, abandoned property ...</td>\n",
       "    </tr>\n",
       "    <tr>\n",
       "      <th>6</th>\n",
       "      <td>5</td>\n",
       "      <td>221</td>\n",
       "      <td>5_documentary_animals_this_sea</td>\n",
       "      <td>[documentary, animals, this, sea, shark, wildl...</td>\n",
       "      <td>[Octonauts expand exploration beyond sea — ont...</td>\n",
       "    </tr>\n",
       "    <tr>\n",
       "      <th>7</th>\n",
       "      <td>6</td>\n",
       "      <td>189</td>\n",
       "      <td>6_father_missing_pregnant_two</td>\n",
       "      <td>[father, missing, pregnant, two, woman, daught...</td>\n",
       "      <td>[Pregnant alone city Kolkata, woman begins rel...</td>\n",
       "    </tr>\n",
       "    <tr>\n",
       "      <th>8</th>\n",
       "      <td>7</td>\n",
       "      <td>170</td>\n",
       "      <td>7_soccer_team_athletes_football</td>\n",
       "      <td>[soccer, team, athletes, football, game, compe...</td>\n",
       "      <td>[intense obstacle course series, elite athlete...</td>\n",
       "    </tr>\n",
       "    <tr>\n",
       "      <th>9</th>\n",
       "      <td>8</td>\n",
       "      <td>140</td>\n",
       "      <td>8_rangers_bheem_evil_power</td>\n",
       "      <td>[rangers, bheem, evil, power, save, kingdom, n...</td>\n",
       "      <td>[mysterious \"time master\" future unites unlike...</td>\n",
       "    </tr>\n",
       "    <tr>\n",
       "      <th>10</th>\n",
       "      <td>9</td>\n",
       "      <td>133</td>\n",
       "      <td>9_film_indian_documentary_this</td>\n",
       "      <td>[film, indian, documentary, this, india, actor...</td>\n",
       "      <td>[This third installment documentary series exa...</td>\n",
       "    </tr>\n",
       "    <tr>\n",
       "      <th>11</th>\n",
       "      <td>10</td>\n",
       "      <td>110</td>\n",
       "      <td>10_martial_arts_kung_fu</td>\n",
       "      <td>[martial, arts, kung, fu, boxer, master, fight...</td>\n",
       "      <td>[Recruited British agent, Shaolin master Lee i...</td>\n",
       "    </tr>\n",
       "    <tr>\n",
       "      <th>12</th>\n",
       "      <td>11</td>\n",
       "      <td>107</td>\n",
       "      <td>11_drug_mexican_mexico_trafficking</td>\n",
       "      <td>[drug, mexican, mexico, trafficking, pablo, ca...</td>\n",
       "      <td>[Witness birth Mexican drug war 1980s gritty n...</td>\n",
       "    </tr>\n",
       "    <tr>\n",
       "      <th>13</th>\n",
       "      <td>12</td>\n",
       "      <td>90</td>\n",
       "      <td>12_chef_food_cooking_chefs</td>\n",
       "      <td>[chef, food, cooking, chefs, dishes, restauran...</td>\n",
       "      <td>[Chef food writer Samin Nosrat travels world e...</td>\n",
       "    </tr>\n",
       "    <tr>\n",
       "      <th>14</th>\n",
       "      <td>13</td>\n",
       "      <td>87</td>\n",
       "      <td>13_earth_space_planet_alien</td>\n",
       "      <td>[earth, space, planet, alien, mission, crew, m...</td>\n",
       "      <td>[Applying laws life Earth rest galaxy, series ...</td>\n",
       "    </tr>\n",
       "    <tr>\n",
       "      <th>15</th>\n",
       "      <td>14</td>\n",
       "      <td>81</td>\n",
       "      <td>14_nazi_war_ii_world</td>\n",
       "      <td>[nazi, war, ii, world, this, nazis, documentar...</td>\n",
       "      <td>[During World War II, British forces launch at...</td>\n",
       "    </tr>\n",
       "    <tr>\n",
       "      <th>16</th>\n",
       "      <td>15</td>\n",
       "      <td>73</td>\n",
       "      <td>15_cancer_doctor_medical_hospital</td>\n",
       "      <td>[cancer, doctor, medical, hospital, patients, ...</td>\n",
       "      <td>[search aliens, young woman's road trip become...</td>\n",
       "    </tr>\n",
       "    <tr>\n",
       "      <th>17</th>\n",
       "      <td>16</td>\n",
       "      <td>41</td>\n",
       "      <td>16_beirut_documentary_this_follows</td>\n",
       "      <td>[beirut, documentary, this, follows, lebanese,...</td>\n",
       "      <td>[Powered activists leaders, documentary follow...</td>\n",
       "    </tr>\n",
       "    <tr>\n",
       "      <th>18</th>\n",
       "      <td>17</td>\n",
       "      <td>30</td>\n",
       "      <td>17_politician_political_president_politics</td>\n",
       "      <td>[politician, political, president, politics, c...</td>\n",
       "      <td>[Rising disadvantage become state leader, tena...</td>\n",
       "    </tr>\n",
       "    <tr>\n",
       "      <th>19</th>\n",
       "      <td>18</td>\n",
       "      <td>11</td>\n",
       "      <td>18_monty_python_pythons_troupe</td>\n",
       "      <td>[monty, python, pythons, troupe, sketches, com...</td>\n",
       "      <td>[Discover six seemingly ordinary supremely tal...</td>\n",
       "    </tr>\n",
       "  </tbody>\n",
       "</table>\n",
       "</div>"
      ],
      "text/plain": [
       "    Topic  Count                                        Name  \\\n",
       "0      -1   4781                   -1_life_young_when_family   \n",
       "1       0    750           0_standup_comedian_comedy_special   \n",
       "2       1    680                  1_school_love_friends_high   \n",
       "3       2    579              2_murder_detective_agent_crime   \n",
       "4       3    281             3_christmas_dog_holiday_friends   \n",
       "5       4    253         4_haunted_paranormal_vampire_horror   \n",
       "6       5    221              5_documentary_animals_this_sea   \n",
       "7       6    189               6_father_missing_pregnant_two   \n",
       "8       7    170             7_soccer_team_athletes_football   \n",
       "9       8    140                  8_rangers_bheem_evil_power   \n",
       "10      9    133              9_film_indian_documentary_this   \n",
       "11     10    110                     10_martial_arts_kung_fu   \n",
       "12     11    107          11_drug_mexican_mexico_trafficking   \n",
       "13     12     90                  12_chef_food_cooking_chefs   \n",
       "14     13     87                 13_earth_space_planet_alien   \n",
       "15     14     81                        14_nazi_war_ii_world   \n",
       "16     15     73           15_cancer_doctor_medical_hospital   \n",
       "17     16     41          16_beirut_documentary_this_follows   \n",
       "18     17     30  17_politician_political_president_politics   \n",
       "19     18     11              18_monty_python_pythons_troupe   \n",
       "\n",
       "                                       Representation  \\\n",
       "0   [life, young, when, family, new, after, love, ...   \n",
       "1   [standup, comedian, comedy, special, music, co...   \n",
       "2   [school, love, friends, high, young, new, marr...   \n",
       "3   [murder, detective, agent, crime, criminal, ca...   \n",
       "4   [christmas, dog, holiday, friends, santa, adve...   \n",
       "5   [haunted, paranormal, vampire, horror, home, e...   \n",
       "6   [documentary, animals, this, sea, shark, wildl...   \n",
       "7   [father, missing, pregnant, two, woman, daught...   \n",
       "8   [soccer, team, athletes, football, game, compe...   \n",
       "9   [rangers, bheem, evil, power, save, kingdom, n...   \n",
       "10  [film, indian, documentary, this, india, actor...   \n",
       "11  [martial, arts, kung, fu, boxer, master, fight...   \n",
       "12  [drug, mexican, mexico, trafficking, pablo, ca...   \n",
       "13  [chef, food, cooking, chefs, dishes, restauran...   \n",
       "14  [earth, space, planet, alien, mission, crew, m...   \n",
       "15  [nazi, war, ii, world, this, nazis, documentar...   \n",
       "16  [cancer, doctor, medical, hospital, patients, ...   \n",
       "17  [beirut, documentary, this, follows, lebanese,...   \n",
       "18  [politician, political, president, politics, c...   \n",
       "19  [monty, python, pythons, troupe, sketches, com...   \n",
       "\n",
       "                                  Representative_Docs  \n",
       "0   [young journalist forced life crime save fathe...  \n",
       "1   [John Mulaney kid pals tackle existential topi...  \n",
       "2   [Pining high school crush years, young man put...  \n",
       "3   [detective investigating rock star's brutal mu...  \n",
       "4   [When Santa crash-lands junkyard Christmas Eve...  \n",
       "5   [Paranormal activity lush, abandoned property ...  \n",
       "6   [Octonauts expand exploration beyond sea — ont...  \n",
       "7   [Pregnant alone city Kolkata, woman begins rel...  \n",
       "8   [intense obstacle course series, elite athlete...  \n",
       "9   [mysterious \"time master\" future unites unlike...  \n",
       "10  [This third installment documentary series exa...  \n",
       "11  [Recruited British agent, Shaolin master Lee i...  \n",
       "12  [Witness birth Mexican drug war 1980s gritty n...  \n",
       "13  [Chef food writer Samin Nosrat travels world e...  \n",
       "14  [Applying laws life Earth rest galaxy, series ...  \n",
       "15  [During World War II, British forces launch at...  \n",
       "16  [search aliens, young woman's road trip become...  \n",
       "17  [Powered activists leaders, documentary follow...  \n",
       "18  [Rising disadvantage become state leader, tena...  \n",
       "19  [Discover six seemingly ordinary supremely tal...  "
      ]
     },
     "execution_count": 51,
     "metadata": {},
     "output_type": "execute_result"
    }
   ],
   "source": [
    "updated_topic_model = BERTopic(nr_topics=20)\n",
    "topics, probabilities = updated_topic_model.fit_transform(processed_descriptions)\n",
    "updated_topic_model.get_topic_info()"
   ]
  },
  {
   "cell_type": "code",
   "execution_count": 53,
   "metadata": {},
   "outputs": [
    {
     "data": {
      "text/html": [
       "<div>\n",
       "<style scoped>\n",
       "    .dataframe tbody tr th:only-of-type {\n",
       "        vertical-align: middle;\n",
       "    }\n",
       "\n",
       "    .dataframe tbody tr th {\n",
       "        vertical-align: top;\n",
       "    }\n",
       "\n",
       "    .dataframe thead th {\n",
       "        text-align: right;\n",
       "    }\n",
       "</style>\n",
       "<table border=\"1\" class=\"dataframe\">\n",
       "  <thead>\n",
       "    <tr style=\"text-align: right;\">\n",
       "      <th></th>\n",
       "      <th>Topic</th>\n",
       "      <th>Count</th>\n",
       "      <th>Name</th>\n",
       "      <th>Representation</th>\n",
       "      <th>Representative_Docs</th>\n",
       "    </tr>\n",
       "  </thead>\n",
       "  <tbody>\n",
       "    <tr>\n",
       "      <th>0</th>\n",
       "      <td>-1</td>\n",
       "      <td>4678</td>\n",
       "      <td>-1_young_life_family_love</td>\n",
       "      <td>[young, life, family, love, man, woman, new, f...</td>\n",
       "      <td>[Seven years vanishing home, young woman retur...</td>\n",
       "    </tr>\n",
       "    <tr>\n",
       "      <th>1</th>\n",
       "      <td>0</td>\n",
       "      <td>459</td>\n",
       "      <td>0_standup_comedian_comedy_special</td>\n",
       "      <td>[standup, comedian, comedy, special, comic, st...</td>\n",
       "      <td>[Members comedy group Na Stojáka take stage mi...</td>\n",
       "    </tr>\n",
       "    <tr>\n",
       "      <th>2</th>\n",
       "      <td>1</td>\n",
       "      <td>310</td>\n",
       "      <td>1_music_musical_band_documentary</td>\n",
       "      <td>[music, musical, band, documentary, singer, co...</td>\n",
       "      <td>[concert film, Indian musical maestro A.R. Rah...</td>\n",
       "    </tr>\n",
       "    <tr>\n",
       "      <th>3</th>\n",
       "      <td>2</td>\n",
       "      <td>196</td>\n",
       "      <td>2_soccer_football_team_player</td>\n",
       "      <td>[soccer, football, team, player, athletes, hoc...</td>\n",
       "      <td>[development professional soccer worldwide owe...</td>\n",
       "    </tr>\n",
       "    <tr>\n",
       "      <th>4</th>\n",
       "      <td>3</td>\n",
       "      <td>178</td>\n",
       "      <td>3_dog_cat_adventures_animal</td>\n",
       "      <td>[dog, cat, adventures, animal, fun, friends, a...</td>\n",
       "      <td>[magical Little Kingdom, friends Ben Elf fairy...</td>\n",
       "    </tr>\n",
       "    <tr>\n",
       "      <th>...</th>\n",
       "      <td>...</td>\n",
       "      <td>...</td>\n",
       "      <td>...</td>\n",
       "      <td>...</td>\n",
       "      <td>...</td>\n",
       "    </tr>\n",
       "    <tr>\n",
       "      <th>83</th>\n",
       "      <td>82</td>\n",
       "      <td>11</td>\n",
       "      <td>82_volcanoes_deadliest_eruption_volcano</td>\n",
       "      <td>[volcanoes, deadliest, eruption, volcano, hurr...</td>\n",
       "      <td>[catastrophic eruption subglacial volcano Katl...</td>\n",
       "    </tr>\n",
       "    <tr>\n",
       "      <th>84</th>\n",
       "      <td>83</td>\n",
       "      <td>10</td>\n",
       "      <td>83_traumas_woman_traumatic_technology</td>\n",
       "      <td>[traumas, woman, traumatic, technology, indefi...</td>\n",
       "      <td>[loss child plunges Sade suicidal depression, ...</td>\n",
       "    </tr>\n",
       "    <tr>\n",
       "      <th>85</th>\n",
       "      <td>84</td>\n",
       "      <td>10</td>\n",
       "      <td>84_sexual_harassment_allegations_docuseries</td>\n",
       "      <td>[sexual, harassment, allegations, docuseries, ...</td>\n",
       "      <td>[Nevenka Fernández, plaintiff Spain's first su...</td>\n",
       "    </tr>\n",
       "    <tr>\n",
       "      <th>86</th>\n",
       "      <td>85</td>\n",
       "      <td>10</td>\n",
       "      <td>85_presence_abortions_malevolent_child</td>\n",
       "      <td>[presence, abortions, malevolent, child, paran...</td>\n",
       "      <td>[face painter Theyyam rituals disfigured conce...</td>\n",
       "    </tr>\n",
       "    <tr>\n",
       "      <th>87</th>\n",
       "      <td>86</td>\n",
       "      <td>10</td>\n",
       "      <td>86_village_poor_grows_indias</td>\n",
       "      <td>[village, poor, grows, indias, hiralal, tiwari...</td>\n",
       "      <td>[remote village colonial India, old man grands...</td>\n",
       "    </tr>\n",
       "  </tbody>\n",
       "</table>\n",
       "<p>88 rows × 5 columns</p>\n",
       "</div>"
      ],
      "text/plain": [
       "    Topic  Count                                         Name  \\\n",
       "0      -1   4678                    -1_young_life_family_love   \n",
       "1       0    459            0_standup_comedian_comedy_special   \n",
       "2       1    310             1_music_musical_band_documentary   \n",
       "3       2    196                2_soccer_football_team_player   \n",
       "4       3    178                  3_dog_cat_adventures_animal   \n",
       "..    ...    ...                                          ...   \n",
       "83     82     11      82_volcanoes_deadliest_eruption_volcano   \n",
       "84     83     10        83_traumas_woman_traumatic_technology   \n",
       "85     84     10  84_sexual_harassment_allegations_docuseries   \n",
       "86     85     10       85_presence_abortions_malevolent_child   \n",
       "87     86     10                 86_village_poor_grows_indias   \n",
       "\n",
       "                                       Representation  \\\n",
       "0   [young, life, family, love, man, woman, new, f...   \n",
       "1   [standup, comedian, comedy, special, comic, st...   \n",
       "2   [music, musical, band, documentary, singer, co...   \n",
       "3   [soccer, football, team, player, athletes, hoc...   \n",
       "4   [dog, cat, adventures, animal, fun, friends, a...   \n",
       "..                                                ...   \n",
       "83  [volcanoes, deadliest, eruption, volcano, hurr...   \n",
       "84  [traumas, woman, traumatic, technology, indefi...   \n",
       "85  [sexual, harassment, allegations, docuseries, ...   \n",
       "86  [presence, abortions, malevolent, child, paran...   \n",
       "87  [village, poor, grows, indias, hiralal, tiwari...   \n",
       "\n",
       "                                  Representative_Docs  \n",
       "0   [Seven years vanishing home, young woman retur...  \n",
       "1   [Members comedy group Na Stojáka take stage mi...  \n",
       "2   [concert film, Indian musical maestro A.R. Rah...  \n",
       "3   [development professional soccer worldwide owe...  \n",
       "4   [magical Little Kingdom, friends Ben Elf fairy...  \n",
       "..                                                ...  \n",
       "83  [catastrophic eruption subglacial volcano Katl...  \n",
       "84  [loss child plunges Sade suicidal depression, ...  \n",
       "85  [Nevenka Fernández, plaintiff Spain's first su...  \n",
       "86  [face painter Theyyam rituals disfigured conce...  \n",
       "87  [remote village colonial India, old man grands...  \n",
       "\n",
       "[88 rows x 5 columns]"
      ]
     },
     "execution_count": 53,
     "metadata": {},
     "output_type": "execute_result"
    }
   ],
   "source": [
    "from sklearn.feature_extraction.text import CountVectorizer\n",
    "\n",
    "topic_multilabel = BERTopic(vectorizer_model = CountVectorizer(stop_words=\"english\")\n",
    ").fit(processed_descriptions)\n",
    "topic_multilabel.get_topic_info()"
   ]
  },
  {
   "cell_type": "code",
   "execution_count": 52,
   "metadata": {},
   "outputs": [
    {
     "data": {
      "text/plain": [
       "array([0.        , 0.        , 0.        , 0.        , 0.        ,\n",
       "       0.        , 0.        , 0.        , 0.        , 0.36207626,\n",
       "       0.        , 0.        , 0.        , 0.        , 0.        ,\n",
       "       0.        , 0.        , 0.        , 0.        , 0.        ,\n",
       "       0.        , 0.        , 0.        , 0.        , 0.        ,\n",
       "       0.        , 0.        , 0.        , 0.        , 0.        ,\n",
       "       0.        , 0.        , 0.        , 0.        , 0.        ,\n",
       "       0.        , 0.63792374, 0.        , 0.        , 0.        ,\n",
       "       0.        , 0.        , 0.        , 0.        , 0.        ,\n",
       "       0.        , 0.        , 0.        , 0.        , 0.        ,\n",
       "       0.        , 0.        , 0.        , 0.        , 0.        ,\n",
       "       0.        , 0.        , 0.        , 0.        , 0.        ,\n",
       "       0.        , 0.        , 0.        , 0.        , 0.        ,\n",
       "       0.        , 0.        , 0.        , 0.        , 0.        ,\n",
       "       0.        , 0.        , 0.        , 0.        , 0.        ,\n",
       "       0.        , 0.        , 0.        , 0.        , 0.        ,\n",
       "       0.        , 0.        , 0.        , 0.        , 0.        ,\n",
       "       0.        , 0.        , 0.        , 0.        , 0.        ,\n",
       "       0.        , 0.        , 0.        , 0.        ])"
      ]
     },
     "execution_count": 52,
     "metadata": {},
     "output_type": "execute_result"
    }
   ],
   "source": [
    "#an array with the probability of it being each topic \n",
    "topic_distr, _ = topic_multilabel.approximate_distribution(processed_descriptions)"
   ]
  },
  {
   "cell_type": "code",
   "execution_count": 50,
   "metadata": {},
   "outputs": [
    {
     "data": {
      "application/vnd.plotly.v1+json": {
       "config": {
        "plotlyServerURL": "https://plot.ly"
       },
       "data": [
        {
         "marker": {
          "color": "#C8D2D7",
          "line": {
           "color": "#6E8484",
           "width": 1
          }
         },
         "orientation": "h",
         "type": "bar",
         "x": [
          0.3620762576318453,
          0.6379237423681546
         ],
         "y": [
          "<b>Topic 9</b>: school_teacher_high_stud...",
          "<b>Topic 36</b>: friends_college_student..."
         ]
        }
       ],
       "layout": {
        "height": 600,
        "hoverlabel": {
         "bgcolor": "white",
         "font": {
          "family": "Rockwell",
          "size": 16
         }
        },
        "template": {
         "data": {
          "bar": [
           {
            "error_x": {
             "color": "rgb(36,36,36)"
            },
            "error_y": {
             "color": "rgb(36,36,36)"
            },
            "marker": {
             "line": {
              "color": "white",
              "width": 0.5
             },
             "pattern": {
              "fillmode": "overlay",
              "size": 10,
              "solidity": 0.2
             }
            },
            "type": "bar"
           }
          ],
          "barpolar": [
           {
            "marker": {
             "line": {
              "color": "white",
              "width": 0.5
             },
             "pattern": {
              "fillmode": "overlay",
              "size": 10,
              "solidity": 0.2
             }
            },
            "type": "barpolar"
           }
          ],
          "carpet": [
           {
            "aaxis": {
             "endlinecolor": "rgb(36,36,36)",
             "gridcolor": "white",
             "linecolor": "white",
             "minorgridcolor": "white",
             "startlinecolor": "rgb(36,36,36)"
            },
            "baxis": {
             "endlinecolor": "rgb(36,36,36)",
             "gridcolor": "white",
             "linecolor": "white",
             "minorgridcolor": "white",
             "startlinecolor": "rgb(36,36,36)"
            },
            "type": "carpet"
           }
          ],
          "choropleth": [
           {
            "colorbar": {
             "outlinewidth": 1,
             "tickcolor": "rgb(36,36,36)",
             "ticks": "outside"
            },
            "type": "choropleth"
           }
          ],
          "contour": [
           {
            "colorbar": {
             "outlinewidth": 1,
             "tickcolor": "rgb(36,36,36)",
             "ticks": "outside"
            },
            "colorscale": [
             [
              0,
              "#440154"
             ],
             [
              0.1111111111111111,
              "#482878"
             ],
             [
              0.2222222222222222,
              "#3e4989"
             ],
             [
              0.3333333333333333,
              "#31688e"
             ],
             [
              0.4444444444444444,
              "#26828e"
             ],
             [
              0.5555555555555556,
              "#1f9e89"
             ],
             [
              0.6666666666666666,
              "#35b779"
             ],
             [
              0.7777777777777778,
              "#6ece58"
             ],
             [
              0.8888888888888888,
              "#b5de2b"
             ],
             [
              1,
              "#fde725"
             ]
            ],
            "type": "contour"
           }
          ],
          "contourcarpet": [
           {
            "colorbar": {
             "outlinewidth": 1,
             "tickcolor": "rgb(36,36,36)",
             "ticks": "outside"
            },
            "type": "contourcarpet"
           }
          ],
          "heatmap": [
           {
            "colorbar": {
             "outlinewidth": 1,
             "tickcolor": "rgb(36,36,36)",
             "ticks": "outside"
            },
            "colorscale": [
             [
              0,
              "#440154"
             ],
             [
              0.1111111111111111,
              "#482878"
             ],
             [
              0.2222222222222222,
              "#3e4989"
             ],
             [
              0.3333333333333333,
              "#31688e"
             ],
             [
              0.4444444444444444,
              "#26828e"
             ],
             [
              0.5555555555555556,
              "#1f9e89"
             ],
             [
              0.6666666666666666,
              "#35b779"
             ],
             [
              0.7777777777777778,
              "#6ece58"
             ],
             [
              0.8888888888888888,
              "#b5de2b"
             ],
             [
              1,
              "#fde725"
             ]
            ],
            "type": "heatmap"
           }
          ],
          "heatmapgl": [
           {
            "colorbar": {
             "outlinewidth": 1,
             "tickcolor": "rgb(36,36,36)",
             "ticks": "outside"
            },
            "colorscale": [
             [
              0,
              "#440154"
             ],
             [
              0.1111111111111111,
              "#482878"
             ],
             [
              0.2222222222222222,
              "#3e4989"
             ],
             [
              0.3333333333333333,
              "#31688e"
             ],
             [
              0.4444444444444444,
              "#26828e"
             ],
             [
              0.5555555555555556,
              "#1f9e89"
             ],
             [
              0.6666666666666666,
              "#35b779"
             ],
             [
              0.7777777777777778,
              "#6ece58"
             ],
             [
              0.8888888888888888,
              "#b5de2b"
             ],
             [
              1,
              "#fde725"
             ]
            ],
            "type": "heatmapgl"
           }
          ],
          "histogram": [
           {
            "marker": {
             "line": {
              "color": "white",
              "width": 0.6
             }
            },
            "type": "histogram"
           }
          ],
          "histogram2d": [
           {
            "colorbar": {
             "outlinewidth": 1,
             "tickcolor": "rgb(36,36,36)",
             "ticks": "outside"
            },
            "colorscale": [
             [
              0,
              "#440154"
             ],
             [
              0.1111111111111111,
              "#482878"
             ],
             [
              0.2222222222222222,
              "#3e4989"
             ],
             [
              0.3333333333333333,
              "#31688e"
             ],
             [
              0.4444444444444444,
              "#26828e"
             ],
             [
              0.5555555555555556,
              "#1f9e89"
             ],
             [
              0.6666666666666666,
              "#35b779"
             ],
             [
              0.7777777777777778,
              "#6ece58"
             ],
             [
              0.8888888888888888,
              "#b5de2b"
             ],
             [
              1,
              "#fde725"
             ]
            ],
            "type": "histogram2d"
           }
          ],
          "histogram2dcontour": [
           {
            "colorbar": {
             "outlinewidth": 1,
             "tickcolor": "rgb(36,36,36)",
             "ticks": "outside"
            },
            "colorscale": [
             [
              0,
              "#440154"
             ],
             [
              0.1111111111111111,
              "#482878"
             ],
             [
              0.2222222222222222,
              "#3e4989"
             ],
             [
              0.3333333333333333,
              "#31688e"
             ],
             [
              0.4444444444444444,
              "#26828e"
             ],
             [
              0.5555555555555556,
              "#1f9e89"
             ],
             [
              0.6666666666666666,
              "#35b779"
             ],
             [
              0.7777777777777778,
              "#6ece58"
             ],
             [
              0.8888888888888888,
              "#b5de2b"
             ],
             [
              1,
              "#fde725"
             ]
            ],
            "type": "histogram2dcontour"
           }
          ],
          "mesh3d": [
           {
            "colorbar": {
             "outlinewidth": 1,
             "tickcolor": "rgb(36,36,36)",
             "ticks": "outside"
            },
            "type": "mesh3d"
           }
          ],
          "parcoords": [
           {
            "line": {
             "colorbar": {
              "outlinewidth": 1,
              "tickcolor": "rgb(36,36,36)",
              "ticks": "outside"
             }
            },
            "type": "parcoords"
           }
          ],
          "pie": [
           {
            "automargin": true,
            "type": "pie"
           }
          ],
          "scatter": [
           {
            "fillpattern": {
             "fillmode": "overlay",
             "size": 10,
             "solidity": 0.2
            },
            "type": "scatter"
           }
          ],
          "scatter3d": [
           {
            "line": {
             "colorbar": {
              "outlinewidth": 1,
              "tickcolor": "rgb(36,36,36)",
              "ticks": "outside"
             }
            },
            "marker": {
             "colorbar": {
              "outlinewidth": 1,
              "tickcolor": "rgb(36,36,36)",
              "ticks": "outside"
             }
            },
            "type": "scatter3d"
           }
          ],
          "scattercarpet": [
           {
            "marker": {
             "colorbar": {
              "outlinewidth": 1,
              "tickcolor": "rgb(36,36,36)",
              "ticks": "outside"
             }
            },
            "type": "scattercarpet"
           }
          ],
          "scattergeo": [
           {
            "marker": {
             "colorbar": {
              "outlinewidth": 1,
              "tickcolor": "rgb(36,36,36)",
              "ticks": "outside"
             }
            },
            "type": "scattergeo"
           }
          ],
          "scattergl": [
           {
            "marker": {
             "colorbar": {
              "outlinewidth": 1,
              "tickcolor": "rgb(36,36,36)",
              "ticks": "outside"
             }
            },
            "type": "scattergl"
           }
          ],
          "scattermapbox": [
           {
            "marker": {
             "colorbar": {
              "outlinewidth": 1,
              "tickcolor": "rgb(36,36,36)",
              "ticks": "outside"
             }
            },
            "type": "scattermapbox"
           }
          ],
          "scatterpolar": [
           {
            "marker": {
             "colorbar": {
              "outlinewidth": 1,
              "tickcolor": "rgb(36,36,36)",
              "ticks": "outside"
             }
            },
            "type": "scatterpolar"
           }
          ],
          "scatterpolargl": [
           {
            "marker": {
             "colorbar": {
              "outlinewidth": 1,
              "tickcolor": "rgb(36,36,36)",
              "ticks": "outside"
             }
            },
            "type": "scatterpolargl"
           }
          ],
          "scatterternary": [
           {
            "marker": {
             "colorbar": {
              "outlinewidth": 1,
              "tickcolor": "rgb(36,36,36)",
              "ticks": "outside"
             }
            },
            "type": "scatterternary"
           }
          ],
          "surface": [
           {
            "colorbar": {
             "outlinewidth": 1,
             "tickcolor": "rgb(36,36,36)",
             "ticks": "outside"
            },
            "colorscale": [
             [
              0,
              "#440154"
             ],
             [
              0.1111111111111111,
              "#482878"
             ],
             [
              0.2222222222222222,
              "#3e4989"
             ],
             [
              0.3333333333333333,
              "#31688e"
             ],
             [
              0.4444444444444444,
              "#26828e"
             ],
             [
              0.5555555555555556,
              "#1f9e89"
             ],
             [
              0.6666666666666666,
              "#35b779"
             ],
             [
              0.7777777777777778,
              "#6ece58"
             ],
             [
              0.8888888888888888,
              "#b5de2b"
             ],
             [
              1,
              "#fde725"
             ]
            ],
            "type": "surface"
           }
          ],
          "table": [
           {
            "cells": {
             "fill": {
              "color": "rgb(237,237,237)"
             },
             "line": {
              "color": "white"
             }
            },
            "header": {
             "fill": {
              "color": "rgb(217,217,217)"
             },
             "line": {
              "color": "white"
             }
            },
            "type": "table"
           }
          ]
         },
         "layout": {
          "annotationdefaults": {
           "arrowhead": 0,
           "arrowwidth": 1
          },
          "autotypenumbers": "strict",
          "coloraxis": {
           "colorbar": {
            "outlinewidth": 1,
            "tickcolor": "rgb(36,36,36)",
            "ticks": "outside"
           }
          },
          "colorscale": {
           "diverging": [
            [
             0,
             "rgb(103,0,31)"
            ],
            [
             0.1,
             "rgb(178,24,43)"
            ],
            [
             0.2,
             "rgb(214,96,77)"
            ],
            [
             0.3,
             "rgb(244,165,130)"
            ],
            [
             0.4,
             "rgb(253,219,199)"
            ],
            [
             0.5,
             "rgb(247,247,247)"
            ],
            [
             0.6,
             "rgb(209,229,240)"
            ],
            [
             0.7,
             "rgb(146,197,222)"
            ],
            [
             0.8,
             "rgb(67,147,195)"
            ],
            [
             0.9,
             "rgb(33,102,172)"
            ],
            [
             1,
             "rgb(5,48,97)"
            ]
           ],
           "sequential": [
            [
             0,
             "#440154"
            ],
            [
             0.1111111111111111,
             "#482878"
            ],
            [
             0.2222222222222222,
             "#3e4989"
            ],
            [
             0.3333333333333333,
             "#31688e"
            ],
            [
             0.4444444444444444,
             "#26828e"
            ],
            [
             0.5555555555555556,
             "#1f9e89"
            ],
            [
             0.6666666666666666,
             "#35b779"
            ],
            [
             0.7777777777777778,
             "#6ece58"
            ],
            [
             0.8888888888888888,
             "#b5de2b"
            ],
            [
             1,
             "#fde725"
            ]
           ],
           "sequentialminus": [
            [
             0,
             "#440154"
            ],
            [
             0.1111111111111111,
             "#482878"
            ],
            [
             0.2222222222222222,
             "#3e4989"
            ],
            [
             0.3333333333333333,
             "#31688e"
            ],
            [
             0.4444444444444444,
             "#26828e"
            ],
            [
             0.5555555555555556,
             "#1f9e89"
            ],
            [
             0.6666666666666666,
             "#35b779"
            ],
            [
             0.7777777777777778,
             "#6ece58"
            ],
            [
             0.8888888888888888,
             "#b5de2b"
            ],
            [
             1,
             "#fde725"
            ]
           ]
          },
          "colorway": [
           "#1F77B4",
           "#FF7F0E",
           "#2CA02C",
           "#D62728",
           "#9467BD",
           "#8C564B",
           "#E377C2",
           "#7F7F7F",
           "#BCBD22",
           "#17BECF"
          ],
          "font": {
           "color": "rgb(36,36,36)"
          },
          "geo": {
           "bgcolor": "white",
           "lakecolor": "white",
           "landcolor": "white",
           "showlakes": true,
           "showland": true,
           "subunitcolor": "white"
          },
          "hoverlabel": {
           "align": "left"
          },
          "hovermode": "closest",
          "mapbox": {
           "style": "light"
          },
          "paper_bgcolor": "white",
          "plot_bgcolor": "white",
          "polar": {
           "angularaxis": {
            "gridcolor": "rgb(232,232,232)",
            "linecolor": "rgb(36,36,36)",
            "showgrid": false,
            "showline": true,
            "ticks": "outside"
           },
           "bgcolor": "white",
           "radialaxis": {
            "gridcolor": "rgb(232,232,232)",
            "linecolor": "rgb(36,36,36)",
            "showgrid": false,
            "showline": true,
            "ticks": "outside"
           }
          },
          "scene": {
           "xaxis": {
            "backgroundcolor": "white",
            "gridcolor": "rgb(232,232,232)",
            "gridwidth": 2,
            "linecolor": "rgb(36,36,36)",
            "showbackground": true,
            "showgrid": false,
            "showline": true,
            "ticks": "outside",
            "zeroline": false,
            "zerolinecolor": "rgb(36,36,36)"
           },
           "yaxis": {
            "backgroundcolor": "white",
            "gridcolor": "rgb(232,232,232)",
            "gridwidth": 2,
            "linecolor": "rgb(36,36,36)",
            "showbackground": true,
            "showgrid": false,
            "showline": true,
            "ticks": "outside",
            "zeroline": false,
            "zerolinecolor": "rgb(36,36,36)"
           },
           "zaxis": {
            "backgroundcolor": "white",
            "gridcolor": "rgb(232,232,232)",
            "gridwidth": 2,
            "linecolor": "rgb(36,36,36)",
            "showbackground": true,
            "showgrid": false,
            "showline": true,
            "ticks": "outside",
            "zeroline": false,
            "zerolinecolor": "rgb(36,36,36)"
           }
          },
          "shapedefaults": {
           "fillcolor": "black",
           "line": {
            "width": 0
           },
           "opacity": 0.3
          },
          "ternary": {
           "aaxis": {
            "gridcolor": "rgb(232,232,232)",
            "linecolor": "rgb(36,36,36)",
            "showgrid": false,
            "showline": true,
            "ticks": "outside"
           },
           "baxis": {
            "gridcolor": "rgb(232,232,232)",
            "linecolor": "rgb(36,36,36)",
            "showgrid": false,
            "showline": true,
            "ticks": "outside"
           },
           "bgcolor": "white",
           "caxis": {
            "gridcolor": "rgb(232,232,232)",
            "linecolor": "rgb(36,36,36)",
            "showgrid": false,
            "showline": true,
            "ticks": "outside"
           }
          },
          "title": {
           "x": 0.05
          },
          "xaxis": {
           "automargin": true,
           "gridcolor": "rgb(232,232,232)",
           "linecolor": "rgb(36,36,36)",
           "showgrid": false,
           "showline": true,
           "ticks": "outside",
           "title": {
            "standoff": 15
           },
           "zeroline": false,
           "zerolinecolor": "rgb(36,36,36)"
          },
          "yaxis": {
           "automargin": true,
           "gridcolor": "rgb(232,232,232)",
           "linecolor": "rgb(36,36,36)",
           "showgrid": false,
           "showline": true,
           "ticks": "outside",
           "title": {
            "standoff": 15
           },
           "zeroline": false,
           "zerolinecolor": "rgb(36,36,36)"
          }
         }
        },
        "title": {
         "font": {
          "color": "Black",
          "size": 22
         },
         "text": "<b>Topic Probability Distribution</b>",
         "x": 0.5,
         "xanchor": "center",
         "y": 0.95,
         "yanchor": "top"
        },
        "width": 800,
        "xaxis": {
         "title": {
          "text": "Probability"
         }
        }
       }
      }
     },
     "metadata": {},
     "output_type": "display_data"
    }
   ],
   "source": [
    "topic_multilabel.visualize_distribution(topic_distr[4])"
   ]
  },
  {
   "cell_type": "code",
   "execution_count": 55,
   "metadata": {},
   "outputs": [],
   "source": [
    "\n",
    "def generate_topic_name(list_of_words):\n",
    "\n",
    "    llm = CTransformers(model='models\\llama-2-7b-chat.ggmlv3.q8_0.bin',\n",
    "                        model_type='llama',\n",
    "                        config={'max_new_tokens': 256,\n",
    "                                'temperature': 0.01})\n",
    "\n",
    "    words = ', '.join([i for i in list_of_words])\n",
    "\n",
    "    template = \"\"\"\n",
    "Given the following words that describe a genre of Netflix shows\\films, return a one to two word name for the genre. Your response\n",
    "should be one to two words with no other text:\\n\\\"{words}\\\"\n",
    "    \"\"\"\n",
    "\n",
    "    prompt = PromptTemplate(input_variables = ['words'], template=template)\n",
    "\n",
    "    response = llm(prompt.format(words=words))\n",
    "\n",
    "    return response\n"
   ]
  },
  {
   "cell_type": "code",
   "execution_count": 56,
   "metadata": {},
   "outputs": [
    {
     "ename": "ValidationError",
     "evalue": "1 validation error for CTransformers\n__root__\n  Model path 'models\\llama-2-7b-chat.ggmlv3.q8_0.bin' doesn't exist. (type=value_error)",
     "output_type": "error",
     "traceback": [
      "\u001b[0;31m---------------------------------------------------------------------------\u001b[0m",
      "\u001b[0;31mValidationError\u001b[0m                           Traceback (most recent call last)",
      "Cell \u001b[0;32mIn[56], line 7\u001b[0m\n\u001b[1;32m      5\u001b[0m \u001b[38;5;28;01mfor\u001b[39;00m word \u001b[38;5;129;01min\u001b[39;00m all_topics[i]:\n\u001b[1;32m      6\u001b[0m     list_of_words\u001b[38;5;241m.\u001b[39mappend(word[\u001b[38;5;241m0\u001b[39m])\n\u001b[0;32m----> 7\u001b[0m topic_names\u001b[38;5;241m.\u001b[39mappend(\u001b[43mgenerate_topic_name\u001b[49m\u001b[43m(\u001b[49m\u001b[43mlist_of_words\u001b[49m\u001b[43m)\u001b[49m)\n",
      "Cell \u001b[0;32mIn[55], line 3\u001b[0m, in \u001b[0;36mgenerate_topic_name\u001b[0;34m(list_of_words)\u001b[0m\n\u001b[1;32m      1\u001b[0m \u001b[38;5;28;01mdef\u001b[39;00m \u001b[38;5;21mgenerate_topic_name\u001b[39m(list_of_words):\n\u001b[0;32m----> 3\u001b[0m     llm \u001b[38;5;241m=\u001b[39m \u001b[43mCTransformers\u001b[49m\u001b[43m(\u001b[49m\u001b[43mmodel\u001b[49m\u001b[38;5;241;43m=\u001b[39;49m\u001b[38;5;124;43m'\u001b[39;49m\u001b[38;5;124;43mmodels\u001b[39;49m\u001b[38;5;124;43m\\\u001b[39;49m\u001b[38;5;124;43mllama-2-7b-chat.ggmlv3.q8_0.bin\u001b[39;49m\u001b[38;5;124;43m'\u001b[39;49m\u001b[43m,\u001b[49m\n\u001b[1;32m      4\u001b[0m \u001b[43m                        \u001b[49m\u001b[43mmodel_type\u001b[49m\u001b[38;5;241;43m=\u001b[39;49m\u001b[38;5;124;43m'\u001b[39;49m\u001b[38;5;124;43mllama\u001b[39;49m\u001b[38;5;124;43m'\u001b[39;49m\u001b[43m,\u001b[49m\n\u001b[1;32m      5\u001b[0m \u001b[43m                        \u001b[49m\u001b[43mconfig\u001b[49m\u001b[38;5;241;43m=\u001b[39;49m\u001b[43m{\u001b[49m\u001b[38;5;124;43m'\u001b[39;49m\u001b[38;5;124;43mmax_new_tokens\u001b[39;49m\u001b[38;5;124;43m'\u001b[39;49m\u001b[43m:\u001b[49m\u001b[43m \u001b[49m\u001b[38;5;241;43m256\u001b[39;49m\u001b[43m,\u001b[49m\n\u001b[1;32m      6\u001b[0m \u001b[43m                                \u001b[49m\u001b[38;5;124;43m'\u001b[39;49m\u001b[38;5;124;43mtemperature\u001b[39;49m\u001b[38;5;124;43m'\u001b[39;49m\u001b[43m:\u001b[49m\u001b[43m \u001b[49m\u001b[38;5;241;43m0.01\u001b[39;49m\u001b[43m}\u001b[49m\u001b[43m)\u001b[49m\n\u001b[1;32m      8\u001b[0m     words \u001b[38;5;241m=\u001b[39m \u001b[38;5;124m'\u001b[39m\u001b[38;5;124m, \u001b[39m\u001b[38;5;124m'\u001b[39m\u001b[38;5;241m.\u001b[39mjoin([i \u001b[38;5;28;01mfor\u001b[39;00m i \u001b[38;5;129;01min\u001b[39;00m list_of_words])\n\u001b[1;32m     10\u001b[0m     template \u001b[38;5;241m=\u001b[39m \u001b[38;5;124m\"\"\"\u001b[39m\n\u001b[1;32m     11\u001b[0m \u001b[38;5;124mGiven the following words that describe a genre of Netflix shows\u001b[39m\u001b[38;5;130;01m\\f\u001b[39;00m\u001b[38;5;124milms, return a one to two word name for the genre. Your response\u001b[39m\n\u001b[1;32m     12\u001b[0m \u001b[38;5;124mshould be one to two words with no other text:\u001b[39m\u001b[38;5;130;01m\\n\u001b[39;00m\u001b[38;5;130;01m\\\"\u001b[39;00m\u001b[38;5;132;01m{words}\u001b[39;00m\u001b[38;5;130;01m\\\"\u001b[39;00m\n\u001b[1;32m     13\u001b[0m \u001b[38;5;124m    \u001b[39m\u001b[38;5;124m\"\"\"\u001b[39m\n",
      "File \u001b[0;32m~/Development/DisruptionLab/jinship_sp2024/.venv/lib/python3.9/site-packages/langchain_core/load/serializable.py:120\u001b[0m, in \u001b[0;36mSerializable.__init__\u001b[0;34m(self, **kwargs)\u001b[0m\n\u001b[1;32m    119\u001b[0m \u001b[38;5;28;01mdef\u001b[39;00m \u001b[38;5;21m__init__\u001b[39m(\u001b[38;5;28mself\u001b[39m, \u001b[38;5;241m*\u001b[39m\u001b[38;5;241m*\u001b[39mkwargs: Any) \u001b[38;5;241m-\u001b[39m\u001b[38;5;241m>\u001b[39m \u001b[38;5;28;01mNone\u001b[39;00m:\n\u001b[0;32m--> 120\u001b[0m     \u001b[38;5;28;43msuper\u001b[39;49m\u001b[43m(\u001b[49m\u001b[43m)\u001b[49m\u001b[38;5;241;43m.\u001b[39;49m\u001b[38;5;21;43m__init__\u001b[39;49m\u001b[43m(\u001b[49m\u001b[38;5;241;43m*\u001b[39;49m\u001b[38;5;241;43m*\u001b[39;49m\u001b[43mkwargs\u001b[49m\u001b[43m)\u001b[49m\n\u001b[1;32m    121\u001b[0m     \u001b[38;5;28mself\u001b[39m\u001b[38;5;241m.\u001b[39m_lc_kwargs \u001b[38;5;241m=\u001b[39m kwargs\n",
      "File \u001b[0;32m~/Development/DisruptionLab/jinship_sp2024/.venv/lib/python3.9/site-packages/pydantic/v1/main.py:341\u001b[0m, in \u001b[0;36mBaseModel.__init__\u001b[0;34m(__pydantic_self__, **data)\u001b[0m\n\u001b[1;32m    339\u001b[0m values, fields_set, validation_error \u001b[38;5;241m=\u001b[39m validate_model(__pydantic_self__\u001b[38;5;241m.\u001b[39m\u001b[38;5;18m__class__\u001b[39m, data)\n\u001b[1;32m    340\u001b[0m \u001b[38;5;28;01mif\u001b[39;00m validation_error:\n\u001b[0;32m--> 341\u001b[0m     \u001b[38;5;28;01mraise\u001b[39;00m validation_error\n\u001b[1;32m    342\u001b[0m \u001b[38;5;28;01mtry\u001b[39;00m:\n\u001b[1;32m    343\u001b[0m     object_setattr(__pydantic_self__, \u001b[38;5;124m'\u001b[39m\u001b[38;5;124m__dict__\u001b[39m\u001b[38;5;124m'\u001b[39m, values)\n",
      "\u001b[0;31mValidationError\u001b[0m: 1 validation error for CTransformers\n__root__\n  Model path 'models\\llama-2-7b-chat.ggmlv3.q8_0.bin' doesn't exist. (type=value_error)"
     ]
    }
   ],
   "source": [
    "topic_names = []\n",
    "all_topics = topic_model.get_topics()\n",
    "for i in range(len(all_topics) - 1):\n",
    "    list_of_words = []\n",
    "    for word in all_topics[i]:\n",
    "        list_of_words.append(word[0])\n",
    "    topic_names.append(generate_topic_name(list_of_words))"
   ]
  },
  {
   "cell_type": "code",
   "execution_count": null,
   "metadata": {},
   "outputs": [],
   "source": []
  }
 ],
 "metadata": {
  "kernelspec": {
   "display_name": ".venv",
   "language": "python",
   "name": "python3"
  },
  "language_info": {
   "codemirror_mode": {
    "name": "ipython",
    "version": 3
   },
   "file_extension": ".py",
   "mimetype": "text/x-python",
   "name": "python",
   "nbconvert_exporter": "python",
   "pygments_lexer": "ipython3",
   "version": "3.9.6"
  }
 },
 "nbformat": 4,
 "nbformat_minor": 2
}
