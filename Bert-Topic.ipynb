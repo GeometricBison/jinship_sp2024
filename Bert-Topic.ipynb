{
 "cells": [
  {
   "cell_type": "code",
   "execution_count": 4,
   "metadata": {},
   "outputs": [
    {
     "name": "stdout",
     "output_type": "stream",
     "text": [
      "Requirement already satisfied: datasets in ./.venv/lib/python3.9/site-packages (2.17.1)\n",
      "Requirement already satisfied: filelock in ./.venv/lib/python3.9/site-packages (from datasets) (3.13.1)\n",
      "Requirement already satisfied: numpy>=1.17 in ./.venv/lib/python3.9/site-packages (from datasets) (1.26.4)\n",
      "Requirement already satisfied: pyarrow>=12.0.0 in ./.venv/lib/python3.9/site-packages (from datasets) (15.0.0)\n",
      "Requirement already satisfied: pyarrow-hotfix in ./.venv/lib/python3.9/site-packages (from datasets) (0.6)\n",
      "Requirement already satisfied: dill<0.3.9,>=0.3.0 in ./.venv/lib/python3.9/site-packages (from datasets) (0.3.8)\n",
      "Requirement already satisfied: pandas in ./.venv/lib/python3.9/site-packages (from datasets) (2.2.1)\n",
      "Requirement already satisfied: requests>=2.19.0 in ./.venv/lib/python3.9/site-packages (from datasets) (2.31.0)\n",
      "Requirement already satisfied: tqdm>=4.62.1 in ./.venv/lib/python3.9/site-packages (from datasets) (4.66.2)\n",
      "Requirement already satisfied: xxhash in ./.venv/lib/python3.9/site-packages (from datasets) (3.4.1)\n",
      "Requirement already satisfied: multiprocess in ./.venv/lib/python3.9/site-packages (from datasets) (0.70.16)\n",
      "Requirement already satisfied: fsspec<=2023.10.0,>=2023.1.0 in ./.venv/lib/python3.9/site-packages (from fsspec[http]<=2023.10.0,>=2023.1.0->datasets) (2023.10.0)\n",
      "Requirement already satisfied: aiohttp in ./.venv/lib/python3.9/site-packages (from datasets) (3.9.3)\n",
      "Requirement already satisfied: huggingface-hub>=0.19.4 in ./.venv/lib/python3.9/site-packages (from datasets) (0.20.3)\n",
      "Requirement already satisfied: packaging in ./.venv/lib/python3.9/site-packages (from datasets) (23.2)\n",
      "Requirement already satisfied: pyyaml>=5.1 in ./.venv/lib/python3.9/site-packages (from datasets) (6.0.1)\n",
      "Requirement already satisfied: aiosignal>=1.1.2 in ./.venv/lib/python3.9/site-packages (from aiohttp->datasets) (1.3.1)\n",
      "Requirement already satisfied: attrs>=17.3.0 in ./.venv/lib/python3.9/site-packages (from aiohttp->datasets) (23.2.0)\n",
      "Requirement already satisfied: frozenlist>=1.1.1 in ./.venv/lib/python3.9/site-packages (from aiohttp->datasets) (1.4.1)\n",
      "Requirement already satisfied: multidict<7.0,>=4.5 in ./.venv/lib/python3.9/site-packages (from aiohttp->datasets) (6.0.5)\n",
      "Requirement already satisfied: yarl<2.0,>=1.0 in ./.venv/lib/python3.9/site-packages (from aiohttp->datasets) (1.9.4)\n",
      "Requirement already satisfied: async-timeout<5.0,>=4.0 in ./.venv/lib/python3.9/site-packages (from aiohttp->datasets) (4.0.3)\n",
      "Requirement already satisfied: typing-extensions>=3.7.4.3 in ./.venv/lib/python3.9/site-packages (from huggingface-hub>=0.19.4->datasets) (4.10.0)\n",
      "Requirement already satisfied: charset-normalizer<4,>=2 in ./.venv/lib/python3.9/site-packages (from requests>=2.19.0->datasets) (3.3.2)\n",
      "Requirement already satisfied: idna<4,>=2.5 in ./.venv/lib/python3.9/site-packages (from requests>=2.19.0->datasets) (3.6)\n",
      "Requirement already satisfied: urllib3<3,>=1.21.1 in ./.venv/lib/python3.9/site-packages (from requests>=2.19.0->datasets) (2.2.1)\n",
      "Requirement already satisfied: certifi>=2017.4.17 in ./.venv/lib/python3.9/site-packages (from requests>=2.19.0->datasets) (2024.2.2)\n",
      "Requirement already satisfied: python-dateutil>=2.8.2 in ./.venv/lib/python3.9/site-packages (from pandas->datasets) (2.8.2)\n",
      "Requirement already satisfied: pytz>=2020.1 in ./.venv/lib/python3.9/site-packages (from pandas->datasets) (2024.1)\n",
      "Requirement already satisfied: tzdata>=2022.7 in ./.venv/lib/python3.9/site-packages (from pandas->datasets) (2024.1)\n",
      "Requirement already satisfied: six>=1.5 in ./.venv/lib/python3.9/site-packages (from python-dateutil>=2.8.2->pandas->datasets) (1.16.0)\n",
      "Requirement already satisfied: bertopic in ./.venv/lib/python3.9/site-packages (0.16.0)\n",
      "Requirement already satisfied: numpy>=1.20.0 in ./.venv/lib/python3.9/site-packages (from bertopic) (1.26.4)\n",
      "Requirement already satisfied: hdbscan>=0.8.29 in ./.venv/lib/python3.9/site-packages (from bertopic) (0.8.33)\n",
      "Requirement already satisfied: umap-learn>=0.5.0 in ./.venv/lib/python3.9/site-packages (from bertopic) (0.5.5)\n",
      "Requirement already satisfied: pandas>=1.1.5 in ./.venv/lib/python3.9/site-packages (from bertopic) (2.2.1)\n",
      "Requirement already satisfied: scikit-learn>=0.22.2.post1 in ./.venv/lib/python3.9/site-packages (from bertopic) (1.4.1.post1)\n",
      "Requirement already satisfied: tqdm>=4.41.1 in ./.venv/lib/python3.9/site-packages (from bertopic) (4.66.2)\n",
      "Requirement already satisfied: sentence-transformers>=0.4.1 in ./.venv/lib/python3.9/site-packages (from bertopic) (2.4.0)\n",
      "Requirement already satisfied: plotly>=4.7.0 in ./.venv/lib/python3.9/site-packages (from bertopic) (5.19.0)\n",
      "Requirement already satisfied: cython<3,>=0.27 in ./.venv/lib/python3.9/site-packages (from hdbscan>=0.8.29->bertopic) (0.29.37)\n",
      "Requirement already satisfied: scipy>=1.0 in ./.venv/lib/python3.9/site-packages (from hdbscan>=0.8.29->bertopic) (1.12.0)\n",
      "Requirement already satisfied: joblib>=1.0 in ./.venv/lib/python3.9/site-packages (from hdbscan>=0.8.29->bertopic) (1.3.2)\n",
      "Requirement already satisfied: python-dateutil>=2.8.2 in ./.venv/lib/python3.9/site-packages (from pandas>=1.1.5->bertopic) (2.8.2)\n",
      "Requirement already satisfied: pytz>=2020.1 in ./.venv/lib/python3.9/site-packages (from pandas>=1.1.5->bertopic) (2024.1)\n",
      "Requirement already satisfied: tzdata>=2022.7 in ./.venv/lib/python3.9/site-packages (from pandas>=1.1.5->bertopic) (2024.1)\n",
      "Requirement already satisfied: tenacity>=6.2.0 in ./.venv/lib/python3.9/site-packages (from plotly>=4.7.0->bertopic) (8.2.3)\n",
      "Requirement already satisfied: packaging in ./.venv/lib/python3.9/site-packages (from plotly>=4.7.0->bertopic) (23.2)\n",
      "Requirement already satisfied: threadpoolctl>=2.0.0 in ./.venv/lib/python3.9/site-packages (from scikit-learn>=0.22.2.post1->bertopic) (3.3.0)\n",
      "Requirement already satisfied: transformers<5.0.0,>=4.32.0 in ./.venv/lib/python3.9/site-packages (from sentence-transformers>=0.4.1->bertopic) (4.38.1)\n",
      "Requirement already satisfied: torch>=1.11.0 in ./.venv/lib/python3.9/site-packages (from sentence-transformers>=0.4.1->bertopic) (2.2.1)\n",
      "Requirement already satisfied: huggingface-hub>=0.15.1 in ./.venv/lib/python3.9/site-packages (from sentence-transformers>=0.4.1->bertopic) (0.20.3)\n",
      "Requirement already satisfied: Pillow in ./.venv/lib/python3.9/site-packages (from sentence-transformers>=0.4.1->bertopic) (10.2.0)\n",
      "Requirement already satisfied: numba>=0.51.2 in ./.venv/lib/python3.9/site-packages (from umap-learn>=0.5.0->bertopic) (0.59.0)\n",
      "Requirement already satisfied: pynndescent>=0.5 in ./.venv/lib/python3.9/site-packages (from umap-learn>=0.5.0->bertopic) (0.5.11)\n",
      "Requirement already satisfied: filelock in ./.venv/lib/python3.9/site-packages (from huggingface-hub>=0.15.1->sentence-transformers>=0.4.1->bertopic) (3.13.1)\n",
      "Requirement already satisfied: fsspec>=2023.5.0 in ./.venv/lib/python3.9/site-packages (from huggingface-hub>=0.15.1->sentence-transformers>=0.4.1->bertopic) (2023.10.0)\n",
      "Requirement already satisfied: requests in ./.venv/lib/python3.9/site-packages (from huggingface-hub>=0.15.1->sentence-transformers>=0.4.1->bertopic) (2.31.0)\n",
      "Requirement already satisfied: pyyaml>=5.1 in ./.venv/lib/python3.9/site-packages (from huggingface-hub>=0.15.1->sentence-transformers>=0.4.1->bertopic) (6.0.1)\n",
      "Requirement already satisfied: typing-extensions>=3.7.4.3 in ./.venv/lib/python3.9/site-packages (from huggingface-hub>=0.15.1->sentence-transformers>=0.4.1->bertopic) (4.10.0)\n",
      "Requirement already satisfied: llvmlite<0.43,>=0.42.0dev0 in ./.venv/lib/python3.9/site-packages (from numba>=0.51.2->umap-learn>=0.5.0->bertopic) (0.42.0)\n",
      "Requirement already satisfied: six>=1.5 in ./.venv/lib/python3.9/site-packages (from python-dateutil>=2.8.2->pandas>=1.1.5->bertopic) (1.16.0)\n",
      "Requirement already satisfied: sympy in ./.venv/lib/python3.9/site-packages (from torch>=1.11.0->sentence-transformers>=0.4.1->bertopic) (1.12)\n",
      "Requirement already satisfied: networkx in ./.venv/lib/python3.9/site-packages (from torch>=1.11.0->sentence-transformers>=0.4.1->bertopic) (3.2.1)\n",
      "Requirement already satisfied: jinja2 in ./.venv/lib/python3.9/site-packages (from torch>=1.11.0->sentence-transformers>=0.4.1->bertopic) (3.1.3)\n",
      "Requirement already satisfied: regex!=2019.12.17 in ./.venv/lib/python3.9/site-packages (from transformers<5.0.0,>=4.32.0->sentence-transformers>=0.4.1->bertopic) (2023.12.25)\n",
      "Requirement already satisfied: tokenizers<0.19,>=0.14 in ./.venv/lib/python3.9/site-packages (from transformers<5.0.0,>=4.32.0->sentence-transformers>=0.4.1->bertopic) (0.15.2)\n",
      "Requirement already satisfied: safetensors>=0.4.1 in ./.venv/lib/python3.9/site-packages (from transformers<5.0.0,>=4.32.0->sentence-transformers>=0.4.1->bertopic) (0.4.2)\n",
      "Requirement already satisfied: MarkupSafe>=2.0 in ./.venv/lib/python3.9/site-packages (from jinja2->torch>=1.11.0->sentence-transformers>=0.4.1->bertopic) (2.1.5)\n",
      "Requirement already satisfied: charset-normalizer<4,>=2 in ./.venv/lib/python3.9/site-packages (from requests->huggingface-hub>=0.15.1->sentence-transformers>=0.4.1->bertopic) (3.3.2)\n",
      "Requirement already satisfied: idna<4,>=2.5 in ./.venv/lib/python3.9/site-packages (from requests->huggingface-hub>=0.15.1->sentence-transformers>=0.4.1->bertopic) (3.6)\n",
      "Requirement already satisfied: urllib3<3,>=1.21.1 in ./.venv/lib/python3.9/site-packages (from requests->huggingface-hub>=0.15.1->sentence-transformers>=0.4.1->bertopic) (2.2.1)\n",
      "Requirement already satisfied: certifi>=2017.4.17 in ./.venv/lib/python3.9/site-packages (from requests->huggingface-hub>=0.15.1->sentence-transformers>=0.4.1->bertopic) (2024.2.2)\n",
      "Requirement already satisfied: mpmath>=0.19 in ./.venv/lib/python3.9/site-packages (from sympy->torch>=1.11.0->sentence-transformers>=0.4.1->bertopic) (1.3.0)\n",
      "Requirement already satisfied: langchain in ./.venv/lib/python3.9/site-packages (0.1.9)\n",
      "Requirement already satisfied: PyYAML>=5.3 in ./.venv/lib/python3.9/site-packages (from langchain) (6.0.1)\n",
      "Requirement already satisfied: SQLAlchemy<3,>=1.4 in ./.venv/lib/python3.9/site-packages (from langchain) (2.0.27)\n",
      "Requirement already satisfied: aiohttp<4.0.0,>=3.8.3 in ./.venv/lib/python3.9/site-packages (from langchain) (3.9.3)\n",
      "Requirement already satisfied: async-timeout<5.0.0,>=4.0.0 in ./.venv/lib/python3.9/site-packages (from langchain) (4.0.3)\n",
      "Requirement already satisfied: dataclasses-json<0.7,>=0.5.7 in ./.venv/lib/python3.9/site-packages (from langchain) (0.6.4)\n",
      "Requirement already satisfied: jsonpatch<2.0,>=1.33 in ./.venv/lib/python3.9/site-packages (from langchain) (1.33)\n",
      "Requirement already satisfied: langchain-community<0.1,>=0.0.21 in ./.venv/lib/python3.9/site-packages (from langchain) (0.0.24)\n",
      "Requirement already satisfied: langchain-core<0.2,>=0.1.26 in ./.venv/lib/python3.9/site-packages (from langchain) (0.1.27)\n",
      "Requirement already satisfied: langsmith<0.2.0,>=0.1.0 in ./.venv/lib/python3.9/site-packages (from langchain) (0.1.10)\n",
      "Requirement already satisfied: numpy<2,>=1 in ./.venv/lib/python3.9/site-packages (from langchain) (1.26.4)\n",
      "Requirement already satisfied: pydantic<3,>=1 in ./.venv/lib/python3.9/site-packages (from langchain) (2.6.2)\n",
      "Requirement already satisfied: requests<3,>=2 in ./.venv/lib/python3.9/site-packages (from langchain) (2.31.0)\n",
      "Requirement already satisfied: tenacity<9.0.0,>=8.1.0 in ./.venv/lib/python3.9/site-packages (from langchain) (8.2.3)\n",
      "Requirement already satisfied: aiosignal>=1.1.2 in ./.venv/lib/python3.9/site-packages (from aiohttp<4.0.0,>=3.8.3->langchain) (1.3.1)\n",
      "Requirement already satisfied: attrs>=17.3.0 in ./.venv/lib/python3.9/site-packages (from aiohttp<4.0.0,>=3.8.3->langchain) (23.2.0)\n",
      "Requirement already satisfied: frozenlist>=1.1.1 in ./.venv/lib/python3.9/site-packages (from aiohttp<4.0.0,>=3.8.3->langchain) (1.4.1)\n",
      "Requirement already satisfied: multidict<7.0,>=4.5 in ./.venv/lib/python3.9/site-packages (from aiohttp<4.0.0,>=3.8.3->langchain) (6.0.5)\n",
      "Requirement already satisfied: yarl<2.0,>=1.0 in ./.venv/lib/python3.9/site-packages (from aiohttp<4.0.0,>=3.8.3->langchain) (1.9.4)\n",
      "Requirement already satisfied: marshmallow<4.0.0,>=3.18.0 in ./.venv/lib/python3.9/site-packages (from dataclasses-json<0.7,>=0.5.7->langchain) (3.21.0)\n",
      "Requirement already satisfied: typing-inspect<1,>=0.4.0 in ./.venv/lib/python3.9/site-packages (from dataclasses-json<0.7,>=0.5.7->langchain) (0.9.0)\n",
      "Requirement already satisfied: jsonpointer>=1.9 in ./.venv/lib/python3.9/site-packages (from jsonpatch<2.0,>=1.33->langchain) (2.4)\n",
      "Requirement already satisfied: anyio<5,>=3 in ./.venv/lib/python3.9/site-packages (from langchain-core<0.2,>=0.1.26->langchain) (4.3.0)\n",
      "Requirement already satisfied: packaging<24.0,>=23.2 in ./.venv/lib/python3.9/site-packages (from langchain-core<0.2,>=0.1.26->langchain) (23.2)\n",
      "Requirement already satisfied: orjson<4.0.0,>=3.9.14 in ./.venv/lib/python3.9/site-packages (from langsmith<0.2.0,>=0.1.0->langchain) (3.9.15)\n",
      "Requirement already satisfied: annotated-types>=0.4.0 in ./.venv/lib/python3.9/site-packages (from pydantic<3,>=1->langchain) (0.6.0)\n",
      "Requirement already satisfied: pydantic-core==2.16.3 in ./.venv/lib/python3.9/site-packages (from pydantic<3,>=1->langchain) (2.16.3)\n",
      "Requirement already satisfied: typing-extensions>=4.6.1 in ./.venv/lib/python3.9/site-packages (from pydantic<3,>=1->langchain) (4.10.0)\n",
      "Requirement already satisfied: charset-normalizer<4,>=2 in ./.venv/lib/python3.9/site-packages (from requests<3,>=2->langchain) (3.3.2)\n",
      "Requirement already satisfied: idna<4,>=2.5 in ./.venv/lib/python3.9/site-packages (from requests<3,>=2->langchain) (3.6)\n",
      "Requirement already satisfied: urllib3<3,>=1.21.1 in ./.venv/lib/python3.9/site-packages (from requests<3,>=2->langchain) (2.2.1)\n",
      "Requirement already satisfied: certifi>=2017.4.17 in ./.venv/lib/python3.9/site-packages (from requests<3,>=2->langchain) (2024.2.2)\n",
      "Requirement already satisfied: sniffio>=1.1 in ./.venv/lib/python3.9/site-packages (from anyio<5,>=3->langchain-core<0.2,>=0.1.26->langchain) (1.3.1)\n",
      "Requirement already satisfied: exceptiongroup>=1.0.2 in ./.venv/lib/python3.9/site-packages (from anyio<5,>=3->langchain-core<0.2,>=0.1.26->langchain) (1.2.0)\n",
      "Requirement already satisfied: mypy-extensions>=0.3.0 in ./.venv/lib/python3.9/site-packages (from typing-inspect<1,>=0.4.0->dataclasses-json<0.7,>=0.5.7->langchain) (1.0.0)\n",
      "Requirement already satisfied: ctransformers in ./.venv/lib/python3.9/site-packages (0.2.27)\n",
      "Requirement already satisfied: huggingface-hub in ./.venv/lib/python3.9/site-packages (from ctransformers) (0.20.3)\n",
      "Requirement already satisfied: py-cpuinfo<10.0.0,>=9.0.0 in ./.venv/lib/python3.9/site-packages (from ctransformers) (9.0.0)\n",
      "Requirement already satisfied: filelock in ./.venv/lib/python3.9/site-packages (from huggingface-hub->ctransformers) (3.13.1)\n",
      "Requirement already satisfied: fsspec>=2023.5.0 in ./.venv/lib/python3.9/site-packages (from huggingface-hub->ctransformers) (2023.10.0)\n",
      "Requirement already satisfied: requests in ./.venv/lib/python3.9/site-packages (from huggingface-hub->ctransformers) (2.31.0)\n",
      "Requirement already satisfied: tqdm>=4.42.1 in ./.venv/lib/python3.9/site-packages (from huggingface-hub->ctransformers) (4.66.2)\n",
      "Requirement already satisfied: pyyaml>=5.1 in ./.venv/lib/python3.9/site-packages (from huggingface-hub->ctransformers) (6.0.1)\n",
      "Requirement already satisfied: typing-extensions>=3.7.4.3 in ./.venv/lib/python3.9/site-packages (from huggingface-hub->ctransformers) (4.10.0)\n",
      "Requirement already satisfied: packaging>=20.9 in ./.venv/lib/python3.9/site-packages (from huggingface-hub->ctransformers) (23.2)\n",
      "Requirement already satisfied: charset-normalizer<4,>=2 in ./.venv/lib/python3.9/site-packages (from requests->huggingface-hub->ctransformers) (3.3.2)\n",
      "Requirement already satisfied: idna<4,>=2.5 in ./.venv/lib/python3.9/site-packages (from requests->huggingface-hub->ctransformers) (3.6)\n",
      "Requirement already satisfied: urllib3<3,>=1.21.1 in ./.venv/lib/python3.9/site-packages (from requests->huggingface-hub->ctransformers) (2.2.1)\n",
      "Requirement already satisfied: certifi>=2017.4.17 in ./.venv/lib/python3.9/site-packages (from requests->huggingface-hub->ctransformers) (2024.2.2)\n",
      "Requirement already satisfied: nltk in ./.venv/lib/python3.9/site-packages (3.8.1)\n",
      "Requirement already satisfied: click in ./.venv/lib/python3.9/site-packages (from nltk) (8.1.7)\n",
      "Requirement already satisfied: joblib in ./.venv/lib/python3.9/site-packages (from nltk) (1.3.2)\n",
      "Requirement already satisfied: regex>=2021.8.3 in ./.venv/lib/python3.9/site-packages (from nltk) (2023.12.25)\n",
      "Requirement already satisfied: tqdm in ./.venv/lib/python3.9/site-packages (from nltk) (4.66.2)\n"
     ]
    }
   ],
   "source": [
    "!pip install datasets\n",
    "!pip install bertopic\n",
    "!pip install langchain\n",
    "!pip install ctransformers\n",
    "!pip install nltk"
   ]
  },
  {
   "cell_type": "markdown",
   "metadata": {},
   "source": [
    "# Pulled from Anish's Branch Bert Topic Modeling "
   ]
  },
  {
   "cell_type": "code",
   "execution_count": 5,
   "metadata": {},
   "outputs": [
    {
     "name": "stderr",
     "output_type": "stream",
     "text": [
      "/Users/ayushjain/Development/DisruptionLab/jinship_sp2024/.venv/lib/python3.9/site-packages/urllib3/__init__.py:35: NotOpenSSLWarning: urllib3 v2 only supports OpenSSL 1.1.1+, currently the 'ssl' module is compiled with 'LibreSSL 2.8.3'. See: https://github.com/urllib3/urllib3/issues/3020\n",
      "  warnings.warn(\n",
      "/Users/ayushjain/Development/DisruptionLab/jinship_sp2024/.venv/lib/python3.9/site-packages/tqdm/auto.py:21: TqdmWarning: IProgress not found. Please update jupyter and ipywidgets. See https://ipywidgets.readthedocs.io/en/stable/user_install.html\n",
      "  from .autonotebook import tqdm as notebook_tqdm\n"
     ]
    }
   ],
   "source": [
    "from datasets import load_dataset\n",
    "from bertopic import BERTopic\n",
    "from langchain.llms import CTransformers\n",
    "from langchain.prompts import PromptTemplate\n",
    "\n",
    "dataset = load_dataset(\"hugginglearners/netflix-shows\", split=\"train\")"
   ]
  },
  {
   "cell_type": "code",
   "execution_count": 6,
   "metadata": {},
   "outputs": [],
   "source": [
    "topic_model = BERTopic(nr_topics=20)\n",
    "topics, probabilities = topic_model.fit_transform(dataset['description'])"
   ]
  },
  {
   "cell_type": "code",
   "execution_count": 7,
   "metadata": {},
   "outputs": [
    {
     "data": {
      "text/html": [
       "<div>\n",
       "<style scoped>\n",
       "    .dataframe tbody tr th:only-of-type {\n",
       "        vertical-align: middle;\n",
       "    }\n",
       "\n",
       "    .dataframe tbody tr th {\n",
       "        vertical-align: top;\n",
       "    }\n",
       "\n",
       "    .dataframe thead th {\n",
       "        text-align: right;\n",
       "    }\n",
       "</style>\n",
       "<table border=\"1\" class=\"dataframe\">\n",
       "  <thead>\n",
       "    <tr style=\"text-align: right;\">\n",
       "      <th></th>\n",
       "      <th>Topic</th>\n",
       "      <th>Count</th>\n",
       "      <th>Name</th>\n",
       "      <th>Representation</th>\n",
       "      <th>Representative_Docs</th>\n",
       "    </tr>\n",
       "  </thead>\n",
       "  <tbody>\n",
       "    <tr>\n",
       "      <th>0</th>\n",
       "      <td>-1</td>\n",
       "      <td>4657</td>\n",
       "      <td>-1_the_to_and_of</td>\n",
       "      <td>[the, to, and, of, in, his, her, with, an, for]</td>\n",
       "      <td>[In Colombia in 1821, a white orphan is taken ...</td>\n",
       "    </tr>\n",
       "    <tr>\n",
       "      <th>1</th>\n",
       "      <td>0</td>\n",
       "      <td>693</td>\n",
       "      <td>0_and_standup_comedian_in</td>\n",
       "      <td>[and, standup, comedian, in, comedy, the, spec...</td>\n",
       "      <td>[Stand-up comedy star Kevin Hart delivers his ...</td>\n",
       "    </tr>\n",
       "    <tr>\n",
       "      <th>2</th>\n",
       "      <td>1</td>\n",
       "      <td>615</td>\n",
       "      <td>1_his_to_her_and</td>\n",
       "      <td>[his, to, her, and, the, with, in, an, when, of]</td>\n",
       "      <td>[Hüseyin has found his father, and now has one...</td>\n",
       "    </tr>\n",
       "    <tr>\n",
       "      <th>3</th>\n",
       "      <td>2</td>\n",
       "      <td>549</td>\n",
       "      <td>2_the_of_to_murder</td>\n",
       "      <td>[the, of, to, murder, in, his, detective, and,...</td>\n",
       "      <td>[A gifted detective takes a job in a small tow...</td>\n",
       "    </tr>\n",
       "    <tr>\n",
       "      <th>4</th>\n",
       "      <td>3</td>\n",
       "      <td>450</td>\n",
       "      <td>3_their_school_to_and</td>\n",
       "      <td>[their, school, to, and, high, of, the, when, ...</td>\n",
       "      <td>[A grieving teen finds an unexpected connectio...</td>\n",
       "    </tr>\n",
       "    <tr>\n",
       "      <th>5</th>\n",
       "      <td>4</td>\n",
       "      <td>331</td>\n",
       "      <td>4_the_to_in_of</td>\n",
       "      <td>[the, to, in, of, and, her, by, an, with, is]</td>\n",
       "      <td>[Paranormal activity at a lush, abandoned prop...</td>\n",
       "    </tr>\n",
       "    <tr>\n",
       "      <th>6</th>\n",
       "      <td>5</td>\n",
       "      <td>309</td>\n",
       "      <td>5_and_the_christmas_to</td>\n",
       "      <td>[and, the, christmas, to, of, with, friends, i...</td>\n",
       "      <td>[An elite team of elves – and their furry fox ...</td>\n",
       "    </tr>\n",
       "    <tr>\n",
       "      <th>7</th>\n",
       "      <td>6</td>\n",
       "      <td>261</td>\n",
       "      <td>6_the_to_bheem_and</td>\n",
       "      <td>[the, to, bheem, and, his, rangers, from, of, ...</td>\n",
       "      <td>[Centuries after the end of a conqueror's rule...</td>\n",
       "    </tr>\n",
       "    <tr>\n",
       "      <th>8</th>\n",
       "      <td>7</td>\n",
       "      <td>198</td>\n",
       "      <td>7_war_the_of_to</td>\n",
       "      <td>[war, the, of, to, terrorist, ii, agent, in, c...</td>\n",
       "      <td>[During World War II, British forces launch an...</td>\n",
       "    </tr>\n",
       "    <tr>\n",
       "      <th>9</th>\n",
       "      <td>8</td>\n",
       "      <td>145</td>\n",
       "      <td>8_the_and_music_this</td>\n",
       "      <td>[the, and, music, this, documentary, of, band,...</td>\n",
       "      <td>[In addition to concert scenes and studio reco...</td>\n",
       "    </tr>\n",
       "    <tr>\n",
       "      <th>10</th>\n",
       "      <td>9</td>\n",
       "      <td>129</td>\n",
       "      <td>9_the_this_of_and</td>\n",
       "      <td>[the, this, of, and, documentary, to, in, sea,...</td>\n",
       "      <td>[Collecting highlights from the epic documenta...</td>\n",
       "    </tr>\n",
       "    <tr>\n",
       "      <th>11</th>\n",
       "      <td>10</td>\n",
       "      <td>117</td>\n",
       "      <td>10_soccer_the_football_of</td>\n",
       "      <td>[soccer, the, football, of, and, boxer, athlet...</td>\n",
       "      <td>[A washed-up, former soccer star attempts to r...</td>\n",
       "    </tr>\n",
       "    <tr>\n",
       "      <th>12</th>\n",
       "      <td>11</td>\n",
       "      <td>103</td>\n",
       "      <td>11_drug_the_of_in</td>\n",
       "      <td>[drug, the, of, in, and, this, mexican, mariju...</td>\n",
       "      <td>[On the run from the police, an Arizona man cr...</td>\n",
       "    </tr>\n",
       "    <tr>\n",
       "      <th>13</th>\n",
       "      <td>12</td>\n",
       "      <td>55</td>\n",
       "      <td>12_dance_dancer_barbie_her</td>\n",
       "      <td>[dance, dancer, barbie, her, ballet, to, danci...</td>\n",
       "      <td>[When a ballroom dancer’s shot at a crucial to...</td>\n",
       "    </tr>\n",
       "    <tr>\n",
       "      <th>14</th>\n",
       "      <td>13</td>\n",
       "      <td>48</td>\n",
       "      <td>13_documentary_this_the_of</td>\n",
       "      <td>[documentary, this, the, of, and, film, filmma...</td>\n",
       "      <td>[Inspired by classic and contemporary literatu...</td>\n",
       "    </tr>\n",
       "    <tr>\n",
       "      <th>15</th>\n",
       "      <td>14</td>\n",
       "      <td>44</td>\n",
       "      <td>14_earth_crew_the_space</td>\n",
       "      <td>[earth, crew, the, space, on, to, planet, mars...</td>\n",
       "      <td>[Two astronauts attempt to brave a life in Ear...</td>\n",
       "    </tr>\n",
       "    <tr>\n",
       "      <th>16</th>\n",
       "      <td>15</td>\n",
       "      <td>34</td>\n",
       "      <td>15_the_cars_bus_racing</td>\n",
       "      <td>[the, cars, bus, racing, ms, and, train, drive...</td>\n",
       "      <td>[Join Ms. Frizzle as the Magic School Bus trav...</td>\n",
       "    </tr>\n",
       "    <tr>\n",
       "      <th>17</th>\n",
       "      <td>16</td>\n",
       "      <td>30</td>\n",
       "      <td>16_politician_political_president_donald</td>\n",
       "      <td>[politician, political, president, donald, can...</td>\n",
       "      <td>[The personal barber to the president, as well...</td>\n",
       "    </tr>\n",
       "    <tr>\n",
       "      <th>18</th>\n",
       "      <td>17</td>\n",
       "      <td>26</td>\n",
       "      <td>17_of_the_russian_royal</td>\n",
       "      <td>[of, the, russian, royal, and, this, queen, tu...</td>\n",
       "      <td>[A blend of the royal family's intimate recoll...</td>\n",
       "    </tr>\n",
       "    <tr>\n",
       "      <th>19</th>\n",
       "      <td>18</td>\n",
       "      <td>13</td>\n",
       "      <td>18_missing_report_cryptic_husbands</td>\n",
       "      <td>[missing, report, cryptic, husbands, police, a...</td>\n",
       "      <td>[Multiple women report their husbands as missi...</td>\n",
       "    </tr>\n",
       "  </tbody>\n",
       "</table>\n",
       "</div>"
      ],
      "text/plain": [
       "    Topic  Count                                      Name  \\\n",
       "0      -1   4657                          -1_the_to_and_of   \n",
       "1       0    693                 0_and_standup_comedian_in   \n",
       "2       1    615                          1_his_to_her_and   \n",
       "3       2    549                        2_the_of_to_murder   \n",
       "4       3    450                     3_their_school_to_and   \n",
       "5       4    331                            4_the_to_in_of   \n",
       "6       5    309                    5_and_the_christmas_to   \n",
       "7       6    261                        6_the_to_bheem_and   \n",
       "8       7    198                           7_war_the_of_to   \n",
       "9       8    145                      8_the_and_music_this   \n",
       "10      9    129                         9_the_this_of_and   \n",
       "11     10    117                 10_soccer_the_football_of   \n",
       "12     11    103                         11_drug_the_of_in   \n",
       "13     12     55                12_dance_dancer_barbie_her   \n",
       "14     13     48                13_documentary_this_the_of   \n",
       "15     14     44                   14_earth_crew_the_space   \n",
       "16     15     34                    15_the_cars_bus_racing   \n",
       "17     16     30  16_politician_political_president_donald   \n",
       "18     17     26                   17_of_the_russian_royal   \n",
       "19     18     13        18_missing_report_cryptic_husbands   \n",
       "\n",
       "                                       Representation  \\\n",
       "0     [the, to, and, of, in, his, her, with, an, for]   \n",
       "1   [and, standup, comedian, in, comedy, the, spec...   \n",
       "2    [his, to, her, and, the, with, in, an, when, of]   \n",
       "3   [the, of, to, murder, in, his, detective, and,...   \n",
       "4   [their, school, to, and, high, of, the, when, ...   \n",
       "5       [the, to, in, of, and, her, by, an, with, is]   \n",
       "6   [and, the, christmas, to, of, with, friends, i...   \n",
       "7   [the, to, bheem, and, his, rangers, from, of, ...   \n",
       "8   [war, the, of, to, terrorist, ii, agent, in, c...   \n",
       "9   [the, and, music, this, documentary, of, band,...   \n",
       "10  [the, this, of, and, documentary, to, in, sea,...   \n",
       "11  [soccer, the, football, of, and, boxer, athlet...   \n",
       "12  [drug, the, of, in, and, this, mexican, mariju...   \n",
       "13  [dance, dancer, barbie, her, ballet, to, danci...   \n",
       "14  [documentary, this, the, of, and, film, filmma...   \n",
       "15  [earth, crew, the, space, on, to, planet, mars...   \n",
       "16  [the, cars, bus, racing, ms, and, train, drive...   \n",
       "17  [politician, political, president, donald, can...   \n",
       "18  [of, the, russian, royal, and, this, queen, tu...   \n",
       "19  [missing, report, cryptic, husbands, police, a...   \n",
       "\n",
       "                                  Representative_Docs  \n",
       "0   [In Colombia in 1821, a white orphan is taken ...  \n",
       "1   [Stand-up comedy star Kevin Hart delivers his ...  \n",
       "2   [Hüseyin has found his father, and now has one...  \n",
       "3   [A gifted detective takes a job in a small tow...  \n",
       "4   [A grieving teen finds an unexpected connectio...  \n",
       "5   [Paranormal activity at a lush, abandoned prop...  \n",
       "6   [An elite team of elves – and their furry fox ...  \n",
       "7   [Centuries after the end of a conqueror's rule...  \n",
       "8   [During World War II, British forces launch an...  \n",
       "9   [In addition to concert scenes and studio reco...  \n",
       "10  [Collecting highlights from the epic documenta...  \n",
       "11  [A washed-up, former soccer star attempts to r...  \n",
       "12  [On the run from the police, an Arizona man cr...  \n",
       "13  [When a ballroom dancer’s shot at a crucial to...  \n",
       "14  [Inspired by classic and contemporary literatu...  \n",
       "15  [Two astronauts attempt to brave a life in Ear...  \n",
       "16  [Join Ms. Frizzle as the Magic School Bus trav...  \n",
       "17  [The personal barber to the president, as well...  \n",
       "18  [A blend of the royal family's intimate recoll...  \n",
       "19  [Multiple women report their husbands as missi...  "
      ]
     },
     "execution_count": 7,
     "metadata": {},
     "output_type": "execute_result"
    }
   ],
   "source": [
    "topic_model.get_topic_info()"
   ]
  },
  {
   "cell_type": "code",
   "execution_count": 8,
   "metadata": {},
   "outputs": [
    {
     "name": "stderr",
     "output_type": "stream",
     "text": [
      "[nltk_data] Downloading package stopwords to\n",
      "[nltk_data]     /Users/ayushjain/nltk_data...\n",
      "[nltk_data]   Package stopwords is already up-to-date!\n"
     ]
    },
    {
     "data": {
      "text/plain": [
       "['father nears end life, filmmaker Kirsten Johnson stages death inventive comical ways help face inevitable.',\n",
       " 'After crossing paths party, Cape Town teen sets prove whether private-school swimming star sister abducted birth.',\n",
       " 'protect family powerful drug lord, skilled thief Mehdi expert team robbers pulled violent deadly turf war.',\n",
       " 'Feuds, flirtations toilet talk go among incarcerated women Orleans Justice Center New Orleans gritty reality series.',\n",
       " 'city coaching centers known train India’s finest collegiate minds, earnest unexceptional student friends navigate campus life.',\n",
       " 'arrival charismatic young priest brings glorious miracles, ominous mysteries renewed religious fervor dying town desperate believe.',\n",
       " \"Equestria's divided. But bright-eyed hero believes Earth Ponies, Pegasi Unicorns pals — and, hoof heart, she’s determined prove it.\",\n",
       " 'On photo shoot Ghana, American model slips back time, becomes enslaved plantation bears witness agony ancestral past.',\n",
       " \"talented batch amateur bakers face 10-week competition, whipping best dishes hopes named U.K.'s best.\",\n",
       " \"woman adjusting life loss contends feisty bird that's taken garden — husband who's struggling find way forward.\"]"
      ]
     },
     "execution_count": 8,
     "metadata": {},
     "output_type": "execute_result"
    }
   ],
   "source": [
    "import nltk\n",
    "from nltk.corpus import stopwords\n",
    "nltk.download('stopwords')\n",
    "\n",
    "stopwords = stopwords.words('english')\n",
    "stopwords.append('the')\n",
    "stopwords.append('and')\n",
    "stopwords.append('to')\n",
    "stopwords.append('of')\n",
    "stopwords.append('in')\n",
    "stopwords.append('with')\n",
    "stopwords.append('an')\n",
    "stopwords.append('The')\n",
    "stopwords.append('And')\n",
    "stopwords.append('To')\n",
    "stopwords.append('Of')\n",
    "stopwords.append('In')\n",
    "stopwords.append('With')\n",
    "stopwords.append('An')\n",
    "stopwords.append('A')\n",
    "stopwords.append('As')\n",
    "stopwords.append('as')\n",
    "\n",
    "descriptions = dataset['description']\n",
    "\n",
    "def remove_stopwords(text):\n",
    "    output= ' '.join([i for i in text.split() if i not in stopwords])\n",
    "    return output\n",
    "\n",
    "processed_descriptions = [remove_stopwords(text) for text in descriptions]\n",
    "processed_descriptions[:10]"
   ]
  },
  {
   "cell_type": "code",
   "execution_count": 9,
   "metadata": {},
   "outputs": [
    {
     "data": {
      "text/html": [
       "<div>\n",
       "<style scoped>\n",
       "    .dataframe tbody tr th:only-of-type {\n",
       "        vertical-align: middle;\n",
       "    }\n",
       "\n",
       "    .dataframe tbody tr th {\n",
       "        vertical-align: top;\n",
       "    }\n",
       "\n",
       "    .dataframe thead th {\n",
       "        text-align: right;\n",
       "    }\n",
       "</style>\n",
       "<table border=\"1\" class=\"dataframe\">\n",
       "  <thead>\n",
       "    <tr style=\"text-align: right;\">\n",
       "      <th></th>\n",
       "      <th>Topic</th>\n",
       "      <th>Count</th>\n",
       "      <th>Name</th>\n",
       "      <th>Representation</th>\n",
       "      <th>Representative_Docs</th>\n",
       "    </tr>\n",
       "  </thead>\n",
       "  <tbody>\n",
       "    <tr>\n",
       "      <th>0</th>\n",
       "      <td>-1</td>\n",
       "      <td>4805</td>\n",
       "      <td>-1_life_when_young_new</td>\n",
       "      <td>[life, when, young, new, family, after, love, ...</td>\n",
       "      <td>[young man foster care finds voice underground...</td>\n",
       "    </tr>\n",
       "    <tr>\n",
       "      <th>1</th>\n",
       "      <td>0</td>\n",
       "      <td>1021</td>\n",
       "      <td>0_standup_comedy_comedian_special</td>\n",
       "      <td>[standup, comedy, comedian, special, show, com...</td>\n",
       "      <td>[New York comedian Colin Quinn writes stars li...</td>\n",
       "    </tr>\n",
       "    <tr>\n",
       "      <th>2</th>\n",
       "      <td>1</td>\n",
       "      <td>501</td>\n",
       "      <td>1_school_love_high_friends</td>\n",
       "      <td>[school, love, high, friends, student, marriag...</td>\n",
       "      <td>[After Adam graduates college age 14, heads ba...</td>\n",
       "    </tr>\n",
       "    <tr>\n",
       "      <th>3</th>\n",
       "      <td>2</td>\n",
       "      <td>467</td>\n",
       "      <td>2_murder_detective_crime_case</td>\n",
       "      <td>[murder, detective, crime, case, criminal, cop...</td>\n",
       "      <td>[deft detective whose wife killed serial murde...</td>\n",
       "    </tr>\n",
       "    <tr>\n",
       "      <th>4</th>\n",
       "      <td>3</td>\n",
       "      <td>392</td>\n",
       "      <td>3_mission_earth_agent_terrorist</td>\n",
       "      <td>[mission, earth, agent, terrorist, team, evil,...</td>\n",
       "      <td>[alien ordered colonize Earth abandons mission...</td>\n",
       "    </tr>\n",
       "    <tr>\n",
       "      <th>5</th>\n",
       "      <td>4</td>\n",
       "      <td>299</td>\n",
       "      <td>4_father_family_young_woman</td>\n",
       "      <td>[father, family, young, woman, home, estranged...</td>\n",
       "      <td>[After becoming separated family, young girl f...</td>\n",
       "    </tr>\n",
       "    <tr>\n",
       "      <th>6</th>\n",
       "      <td>5</td>\n",
       "      <td>273</td>\n",
       "      <td>5_soccer_team_player_martial</td>\n",
       "      <td>[soccer, team, player, martial, football, arts...</td>\n",
       "      <td>[Wishing settle old score, promising soccer pl...</td>\n",
       "    </tr>\n",
       "    <tr>\n",
       "      <th>7</th>\n",
       "      <td>6</td>\n",
       "      <td>244</td>\n",
       "      <td>6_dog_animal_documentary_this</td>\n",
       "      <td>[dog, animal, documentary, this, animals, sea,...</td>\n",
       "      <td>[Look behind scenes wildlife documentary serie...</td>\n",
       "    </tr>\n",
       "    <tr>\n",
       "      <th>8</th>\n",
       "      <td>7</td>\n",
       "      <td>186</td>\n",
       "      <td>7_haunted_vampire_horror_monsters</td>\n",
       "      <td>[haunted, vampire, horror, monsters, zombie, p...</td>\n",
       "      <td>[Paranormal activity lush, abandoned property ...</td>\n",
       "    </tr>\n",
       "    <tr>\n",
       "      <th>9</th>\n",
       "      <td>8</td>\n",
       "      <td>180</td>\n",
       "      <td>8_drug_war_mexican_civil</td>\n",
       "      <td>[drug, war, mexican, civil, mexico, documentar...</td>\n",
       "      <td>[Wealthy, beautiful Valentina falls love, real...</td>\n",
       "    </tr>\n",
       "    <tr>\n",
       "      <th>10</th>\n",
       "      <td>9</td>\n",
       "      <td>107</td>\n",
       "      <td>9_cancer_hospital_patients_medical</td>\n",
       "      <td>[cancer, hospital, patients, medical, doctors,...</td>\n",
       "      <td>[Witness wrenching emotions accompany end-of-l...</td>\n",
       "    </tr>\n",
       "    <tr>\n",
       "      <th>11</th>\n",
       "      <td>10</td>\n",
       "      <td>88</td>\n",
       "      <td>10_christmas_holiday_santa_claus</td>\n",
       "      <td>[christmas, holiday, santa, claus, pole, rainb...</td>\n",
       "      <td>[warm-hearted tale, young boy's faith holiday ...</td>\n",
       "    </tr>\n",
       "    <tr>\n",
       "      <th>12</th>\n",
       "      <td>11</td>\n",
       "      <td>79</td>\n",
       "      <td>11_nazi_war_ii_world</td>\n",
       "      <td>[nazi, war, ii, world, nazis, this, documentar...</td>\n",
       "      <td>[During World War II, British forces launch at...</td>\n",
       "    </tr>\n",
       "    <tr>\n",
       "      <th>13</th>\n",
       "      <td>12</td>\n",
       "      <td>39</td>\n",
       "      <td>12_russian_royal_queen_elizabeth</td>\n",
       "      <td>[russian, royal, queen, elizabeth, revolution,...</td>\n",
       "      <td>[blend royal family's intimate recollections r...</td>\n",
       "    </tr>\n",
       "    <tr>\n",
       "      <th>14</th>\n",
       "      <td>13</td>\n",
       "      <td>36</td>\n",
       "      <td>13_barbie_nursery_fun_rhymes</td>\n",
       "      <td>[barbie, nursery, fun, rhymes, sing, rhyme, an...</td>\n",
       "      <td>[This educational series tiny tots features to...</td>\n",
       "    </tr>\n",
       "    <tr>\n",
       "      <th>15</th>\n",
       "      <td>14</td>\n",
       "      <td>30</td>\n",
       "      <td>14_drivers_cars_racing_race</td>\n",
       "      <td>[drivers, cars, racing, race, crew, highways, ...</td>\n",
       "      <td>[Drivers, managers team owners live life fast ...</td>\n",
       "    </tr>\n",
       "    <tr>\n",
       "      <th>16</th>\n",
       "      <td>15</td>\n",
       "      <td>27</td>\n",
       "      <td>15_treasure_tomb_cave_treasures</td>\n",
       "      <td>[treasure, tomb, cave, treasures, history, tho...</td>\n",
       "      <td>[Amidst Italy's ancient sites hidden treasures...</td>\n",
       "    </tr>\n",
       "    <tr>\n",
       "      <th>17</th>\n",
       "      <td>16</td>\n",
       "      <td>13</td>\n",
       "      <td>16_politician_interfere_devious_crooked</td>\n",
       "      <td>[politician, interfere, devious, crooked, rank...</td>\n",
       "      <td>[Rising disadvantage become state leader, tena...</td>\n",
       "    </tr>\n",
       "    <tr>\n",
       "      <th>18</th>\n",
       "      <td>17</td>\n",
       "      <td>10</td>\n",
       "      <td>17_horse_ranch_colt_compete</td>\n",
       "      <td>[horse, ranch, colt, compete, joey, bond, aflo...</td>\n",
       "      <td>[During World War I, bond young Englishman loy...</td>\n",
       "    </tr>\n",
       "    <tr>\n",
       "      <th>19</th>\n",
       "      <td>18</td>\n",
       "      <td>10</td>\n",
       "      <td>18_education_village_indias_foremost</td>\n",
       "      <td>[education, village, indias, foremost, hindu, ...</td>\n",
       "      <td>[child whose innocence devotion set apart chil...</td>\n",
       "    </tr>\n",
       "  </tbody>\n",
       "</table>\n",
       "</div>"
      ],
      "text/plain": [
       "    Topic  Count                                     Name  \\\n",
       "0      -1   4805                   -1_life_when_young_new   \n",
       "1       0   1021        0_standup_comedy_comedian_special   \n",
       "2       1    501               1_school_love_high_friends   \n",
       "3       2    467            2_murder_detective_crime_case   \n",
       "4       3    392          3_mission_earth_agent_terrorist   \n",
       "5       4    299              4_father_family_young_woman   \n",
       "6       5    273             5_soccer_team_player_martial   \n",
       "7       6    244            6_dog_animal_documentary_this   \n",
       "8       7    186        7_haunted_vampire_horror_monsters   \n",
       "9       8    180                 8_drug_war_mexican_civil   \n",
       "10      9    107       9_cancer_hospital_patients_medical   \n",
       "11     10     88         10_christmas_holiday_santa_claus   \n",
       "12     11     79                     11_nazi_war_ii_world   \n",
       "13     12     39         12_russian_royal_queen_elizabeth   \n",
       "14     13     36             13_barbie_nursery_fun_rhymes   \n",
       "15     14     30              14_drivers_cars_racing_race   \n",
       "16     15     27          15_treasure_tomb_cave_treasures   \n",
       "17     16     13  16_politician_interfere_devious_crooked   \n",
       "18     17     10              17_horse_ranch_colt_compete   \n",
       "19     18     10     18_education_village_indias_foremost   \n",
       "\n",
       "                                       Representation  \\\n",
       "0   [life, when, young, new, family, after, love, ...   \n",
       "1   [standup, comedy, comedian, special, show, com...   \n",
       "2   [school, love, high, friends, student, marriag...   \n",
       "3   [murder, detective, crime, case, criminal, cop...   \n",
       "4   [mission, earth, agent, terrorist, team, evil,...   \n",
       "5   [father, family, young, woman, home, estranged...   \n",
       "6   [soccer, team, player, martial, football, arts...   \n",
       "7   [dog, animal, documentary, this, animals, sea,...   \n",
       "8   [haunted, vampire, horror, monsters, zombie, p...   \n",
       "9   [drug, war, mexican, civil, mexico, documentar...   \n",
       "10  [cancer, hospital, patients, medical, doctors,...   \n",
       "11  [christmas, holiday, santa, claus, pole, rainb...   \n",
       "12  [nazi, war, ii, world, nazis, this, documentar...   \n",
       "13  [russian, royal, queen, elizabeth, revolution,...   \n",
       "14  [barbie, nursery, fun, rhymes, sing, rhyme, an...   \n",
       "15  [drivers, cars, racing, race, crew, highways, ...   \n",
       "16  [treasure, tomb, cave, treasures, history, tho...   \n",
       "17  [politician, interfere, devious, crooked, rank...   \n",
       "18  [horse, ranch, colt, compete, joey, bond, aflo...   \n",
       "19  [education, village, indias, foremost, hindu, ...   \n",
       "\n",
       "                                  Representative_Docs  \n",
       "0   [young man foster care finds voice underground...  \n",
       "1   [New York comedian Colin Quinn writes stars li...  \n",
       "2   [After Adam graduates college age 14, heads ba...  \n",
       "3   [deft detective whose wife killed serial murde...  \n",
       "4   [alien ordered colonize Earth abandons mission...  \n",
       "5   [After becoming separated family, young girl f...  \n",
       "6   [Wishing settle old score, promising soccer pl...  \n",
       "7   [Look behind scenes wildlife documentary serie...  \n",
       "8   [Paranormal activity lush, abandoned property ...  \n",
       "9   [Wealthy, beautiful Valentina falls love, real...  \n",
       "10  [Witness wrenching emotions accompany end-of-l...  \n",
       "11  [warm-hearted tale, young boy's faith holiday ...  \n",
       "12  [During World War II, British forces launch at...  \n",
       "13  [blend royal family's intimate recollections r...  \n",
       "14  [This educational series tiny tots features to...  \n",
       "15  [Drivers, managers team owners live life fast ...  \n",
       "16  [Amidst Italy's ancient sites hidden treasures...  \n",
       "17  [Rising disadvantage become state leader, tena...  \n",
       "18  [During World War I, bond young Englishman loy...  \n",
       "19  [child whose innocence devotion set apart chil...  "
      ]
     },
     "execution_count": 9,
     "metadata": {},
     "output_type": "execute_result"
    }
   ],
   "source": [
    "updated_topic_model = BERTopic(nr_topics=20)\n",
    "topics, probabilities = updated_topic_model.fit_transform(processed_descriptions)\n",
    "updated_topic_model.get_topic_info()"
   ]
  },
  {
   "cell_type": "code",
   "execution_count": 10,
   "metadata": {},
   "outputs": [
    {
     "data": {
      "text/html": [
       "<div>\n",
       "<style scoped>\n",
       "    .dataframe tbody tr th:only-of-type {\n",
       "        vertical-align: middle;\n",
       "    }\n",
       "\n",
       "    .dataframe tbody tr th {\n",
       "        vertical-align: top;\n",
       "    }\n",
       "\n",
       "    .dataframe thead th {\n",
       "        text-align: right;\n",
       "    }\n",
       "</style>\n",
       "<table border=\"1\" class=\"dataframe\">\n",
       "  <thead>\n",
       "    <tr style=\"text-align: right;\">\n",
       "      <th></th>\n",
       "      <th>Topic</th>\n",
       "      <th>Count</th>\n",
       "      <th>Name</th>\n",
       "      <th>Representation</th>\n",
       "      <th>Representative_Docs</th>\n",
       "    </tr>\n",
       "  </thead>\n",
       "  <tbody>\n",
       "    <tr>\n",
       "      <th>0</th>\n",
       "      <td>-1</td>\n",
       "      <td>4806</td>\n",
       "      <td>-1_young_life_family_man</td>\n",
       "      <td>[young, life, family, man, love, woman, new, f...</td>\n",
       "      <td>[When lost lonely alien crash-lands Earth, new...</td>\n",
       "    </tr>\n",
       "    <tr>\n",
       "      <th>1</th>\n",
       "      <td>0</td>\n",
       "      <td>391</td>\n",
       "      <td>0_standup_comedian_comedy_special</td>\n",
       "      <td>[standup, comedian, comedy, special, comic, st...</td>\n",
       "      <td>[John Mulaney kid pals tackle existential topi...</td>\n",
       "    </tr>\n",
       "    <tr>\n",
       "      <th>2</th>\n",
       "      <td>1</td>\n",
       "      <td>339</td>\n",
       "      <td>1_marriage_couple_couples_wedding</td>\n",
       "      <td>[marriage, couple, couples, wedding, relations...</td>\n",
       "      <td>[Bored happy marriage, couple decides spice th...</td>\n",
       "    </tr>\n",
       "    <tr>\n",
       "      <th>3</th>\n",
       "      <td>2</td>\n",
       "      <td>288</td>\n",
       "      <td>2_music_band_singer_musical</td>\n",
       "      <td>[music, band, singer, musical, documentary, ro...</td>\n",
       "      <td>[Featuring mix film footage special performanc...</td>\n",
       "    </tr>\n",
       "    <tr>\n",
       "      <th>4</th>\n",
       "      <td>3</td>\n",
       "      <td>183</td>\n",
       "      <td>3_soccer_football_team_player</td>\n",
       "      <td>[soccer, football, team, player, athletes, coa...</td>\n",
       "      <td>[development professional soccer worldwide owe...</td>\n",
       "    </tr>\n",
       "    <tr>\n",
       "      <th>...</th>\n",
       "      <td>...</td>\n",
       "      <td>...</td>\n",
       "      <td>...</td>\n",
       "      <td>...</td>\n",
       "      <td>...</td>\n",
       "    </tr>\n",
       "    <tr>\n",
       "      <th>83</th>\n",
       "      <td>82</td>\n",
       "      <td>11</td>\n",
       "      <td>82_dark_grisly_hold_twisted</td>\n",
       "      <td>[dark, grisly, hold, twisted, killer, aguazul,...</td>\n",
       "      <td>[twisted criminal's gruesome videos drive grou...</td>\n",
       "    </tr>\n",
       "    <tr>\n",
       "      <th>84</th>\n",
       "      <td>83</td>\n",
       "      <td>11</td>\n",
       "      <td>83_deportation_custody_legal_newly</td>\n",
       "      <td>[deportation, custody, legal, newly, grayhaire...</td>\n",
       "      <td>[When legal system declares unfit parent, fath...</td>\n",
       "    </tr>\n",
       "    <tr>\n",
       "      <th>85</th>\n",
       "      <td>84</td>\n",
       "      <td>10</td>\n",
       "      <td>84_hades_dragon_warrior_hachiko</td>\n",
       "      <td>[hades, dragon, warrior, hachiko, vigil, arise...</td>\n",
       "      <td>[This anime adventure follows battle saint Ath...</td>\n",
       "    </tr>\n",
       "    <tr>\n",
       "      <th>86</th>\n",
       "      <td>85</td>\n",
       "      <td>10</td>\n",
       "      <td>85_spy_secret_agents_skills</td>\n",
       "      <td>[spy, secret, agents, skills, saving, schooler...</td>\n",
       "      <td>[Teenage spy McKeyla teams three super-smart g...</td>\n",
       "    </tr>\n",
       "    <tr>\n",
       "      <th>87</th>\n",
       "      <td>86</td>\n",
       "      <td>10</td>\n",
       "      <td>86_explores_footage_technology_documentary</td>\n",
       "      <td>[explores, footage, technology, documentary, c...</td>\n",
       "      <td>[This documentary series explores stories behi...</td>\n",
       "    </tr>\n",
       "  </tbody>\n",
       "</table>\n",
       "<p>88 rows × 5 columns</p>\n",
       "</div>"
      ],
      "text/plain": [
       "    Topic  Count                                        Name  \\\n",
       "0      -1   4806                    -1_young_life_family_man   \n",
       "1       0    391           0_standup_comedian_comedy_special   \n",
       "2       1    339           1_marriage_couple_couples_wedding   \n",
       "3       2    288                 2_music_band_singer_musical   \n",
       "4       3    183               3_soccer_football_team_player   \n",
       "..    ...    ...                                         ...   \n",
       "83     82     11                 82_dark_grisly_hold_twisted   \n",
       "84     83     11          83_deportation_custody_legal_newly   \n",
       "85     84     10             84_hades_dragon_warrior_hachiko   \n",
       "86     85     10                 85_spy_secret_agents_skills   \n",
       "87     86     10  86_explores_footage_technology_documentary   \n",
       "\n",
       "                                       Representation  \\\n",
       "0   [young, life, family, man, love, woman, new, f...   \n",
       "1   [standup, comedian, comedy, special, comic, st...   \n",
       "2   [marriage, couple, couples, wedding, relations...   \n",
       "3   [music, band, singer, musical, documentary, ro...   \n",
       "4   [soccer, football, team, player, athletes, coa...   \n",
       "..                                                ...   \n",
       "83  [dark, grisly, hold, twisted, killer, aguazul,...   \n",
       "84  [deportation, custody, legal, newly, grayhaire...   \n",
       "85  [hades, dragon, warrior, hachiko, vigil, arise...   \n",
       "86  [spy, secret, agents, skills, saving, schooler...   \n",
       "87  [explores, footage, technology, documentary, c...   \n",
       "\n",
       "                                  Representative_Docs  \n",
       "0   [When lost lonely alien crash-lands Earth, new...  \n",
       "1   [John Mulaney kid pals tackle existential topi...  \n",
       "2   [Bored happy marriage, couple decides spice th...  \n",
       "3   [Featuring mix film footage special performanc...  \n",
       "4   [development professional soccer worldwide owe...  \n",
       "..                                                ...  \n",
       "83  [twisted criminal's gruesome videos drive grou...  \n",
       "84  [When legal system declares unfit parent, fath...  \n",
       "85  [This anime adventure follows battle saint Ath...  \n",
       "86  [Teenage spy McKeyla teams three super-smart g...  \n",
       "87  [This documentary series explores stories behi...  \n",
       "\n",
       "[88 rows x 5 columns]"
      ]
     },
     "execution_count": 10,
     "metadata": {},
     "output_type": "execute_result"
    }
   ],
   "source": [
    "from sklearn.feature_extraction.text import CountVectorizer\n",
    "\n",
    "topic_multilabel = BERTopic(vectorizer_model = CountVectorizer(stop_words=\"english\")\n",
    ")\n",
    "topic_multilabel.fit(processed_descriptions)\n",
    "topic_multilabel.get_topic_info()"
   ]
  },
  {
   "cell_type": "code",
   "execution_count": 11,
   "metadata": {},
   "outputs": [],
   "source": [
    "#an array with the probability of it being each topic \n",
    "topic_distr, _ = topic_multilabel.approximate_distribution(processed_descriptions)"
   ]
  },
  {
   "cell_type": "code",
   "execution_count": 12,
   "metadata": {},
   "outputs": [
    {
     "data": {
      "application/vnd.plotly.v1+json": {
       "config": {
        "plotlyServerURL": "https://plot.ly"
       },
       "data": [
        {
         "marker": {
          "color": "#C8D2D7",
          "line": {
           "color": "#6E8484",
           "width": 1
          }
         },
         "orientation": "h",
         "type": "bar",
         "x": [
          0.20443995911262086,
          0.2058505940925505,
          0.5897094467948286
         ],
         "y": [
          "<b>Topic 9</b>: school_teacher_student_s...",
          "<b>Topic 13</b>: high_school_crush_best_...",
          "<b>Topic 24</b>: friends_college_friends..."
         ]
        }
       ],
       "layout": {
        "height": 600,
        "hoverlabel": {
         "bgcolor": "white",
         "font": {
          "family": "Rockwell",
          "size": 16
         }
        },
        "template": {
         "data": {
          "bar": [
           {
            "error_x": {
             "color": "rgb(36,36,36)"
            },
            "error_y": {
             "color": "rgb(36,36,36)"
            },
            "marker": {
             "line": {
              "color": "white",
              "width": 0.5
             },
             "pattern": {
              "fillmode": "overlay",
              "size": 10,
              "solidity": 0.2
             }
            },
            "type": "bar"
           }
          ],
          "barpolar": [
           {
            "marker": {
             "line": {
              "color": "white",
              "width": 0.5
             },
             "pattern": {
              "fillmode": "overlay",
              "size": 10,
              "solidity": 0.2
             }
            },
            "type": "barpolar"
           }
          ],
          "carpet": [
           {
            "aaxis": {
             "endlinecolor": "rgb(36,36,36)",
             "gridcolor": "white",
             "linecolor": "white",
             "minorgridcolor": "white",
             "startlinecolor": "rgb(36,36,36)"
            },
            "baxis": {
             "endlinecolor": "rgb(36,36,36)",
             "gridcolor": "white",
             "linecolor": "white",
             "minorgridcolor": "white",
             "startlinecolor": "rgb(36,36,36)"
            },
            "type": "carpet"
           }
          ],
          "choropleth": [
           {
            "colorbar": {
             "outlinewidth": 1,
             "tickcolor": "rgb(36,36,36)",
             "ticks": "outside"
            },
            "type": "choropleth"
           }
          ],
          "contour": [
           {
            "colorbar": {
             "outlinewidth": 1,
             "tickcolor": "rgb(36,36,36)",
             "ticks": "outside"
            },
            "colorscale": [
             [
              0,
              "#440154"
             ],
             [
              0.1111111111111111,
              "#482878"
             ],
             [
              0.2222222222222222,
              "#3e4989"
             ],
             [
              0.3333333333333333,
              "#31688e"
             ],
             [
              0.4444444444444444,
              "#26828e"
             ],
             [
              0.5555555555555556,
              "#1f9e89"
             ],
             [
              0.6666666666666666,
              "#35b779"
             ],
             [
              0.7777777777777778,
              "#6ece58"
             ],
             [
              0.8888888888888888,
              "#b5de2b"
             ],
             [
              1,
              "#fde725"
             ]
            ],
            "type": "contour"
           }
          ],
          "contourcarpet": [
           {
            "colorbar": {
             "outlinewidth": 1,
             "tickcolor": "rgb(36,36,36)",
             "ticks": "outside"
            },
            "type": "contourcarpet"
           }
          ],
          "heatmap": [
           {
            "colorbar": {
             "outlinewidth": 1,
             "tickcolor": "rgb(36,36,36)",
             "ticks": "outside"
            },
            "colorscale": [
             [
              0,
              "#440154"
             ],
             [
              0.1111111111111111,
              "#482878"
             ],
             [
              0.2222222222222222,
              "#3e4989"
             ],
             [
              0.3333333333333333,
              "#31688e"
             ],
             [
              0.4444444444444444,
              "#26828e"
             ],
             [
              0.5555555555555556,
              "#1f9e89"
             ],
             [
              0.6666666666666666,
              "#35b779"
             ],
             [
              0.7777777777777778,
              "#6ece58"
             ],
             [
              0.8888888888888888,
              "#b5de2b"
             ],
             [
              1,
              "#fde725"
             ]
            ],
            "type": "heatmap"
           }
          ],
          "heatmapgl": [
           {
            "colorbar": {
             "outlinewidth": 1,
             "tickcolor": "rgb(36,36,36)",
             "ticks": "outside"
            },
            "colorscale": [
             [
              0,
              "#440154"
             ],
             [
              0.1111111111111111,
              "#482878"
             ],
             [
              0.2222222222222222,
              "#3e4989"
             ],
             [
              0.3333333333333333,
              "#31688e"
             ],
             [
              0.4444444444444444,
              "#26828e"
             ],
             [
              0.5555555555555556,
              "#1f9e89"
             ],
             [
              0.6666666666666666,
              "#35b779"
             ],
             [
              0.7777777777777778,
              "#6ece58"
             ],
             [
              0.8888888888888888,
              "#b5de2b"
             ],
             [
              1,
              "#fde725"
             ]
            ],
            "type": "heatmapgl"
           }
          ],
          "histogram": [
           {
            "marker": {
             "line": {
              "color": "white",
              "width": 0.6
             }
            },
            "type": "histogram"
           }
          ],
          "histogram2d": [
           {
            "colorbar": {
             "outlinewidth": 1,
             "tickcolor": "rgb(36,36,36)",
             "ticks": "outside"
            },
            "colorscale": [
             [
              0,
              "#440154"
             ],
             [
              0.1111111111111111,
              "#482878"
             ],
             [
              0.2222222222222222,
              "#3e4989"
             ],
             [
              0.3333333333333333,
              "#31688e"
             ],
             [
              0.4444444444444444,
              "#26828e"
             ],
             [
              0.5555555555555556,
              "#1f9e89"
             ],
             [
              0.6666666666666666,
              "#35b779"
             ],
             [
              0.7777777777777778,
              "#6ece58"
             ],
             [
              0.8888888888888888,
              "#b5de2b"
             ],
             [
              1,
              "#fde725"
             ]
            ],
            "type": "histogram2d"
           }
          ],
          "histogram2dcontour": [
           {
            "colorbar": {
             "outlinewidth": 1,
             "tickcolor": "rgb(36,36,36)",
             "ticks": "outside"
            },
            "colorscale": [
             [
              0,
              "#440154"
             ],
             [
              0.1111111111111111,
              "#482878"
             ],
             [
              0.2222222222222222,
              "#3e4989"
             ],
             [
              0.3333333333333333,
              "#31688e"
             ],
             [
              0.4444444444444444,
              "#26828e"
             ],
             [
              0.5555555555555556,
              "#1f9e89"
             ],
             [
              0.6666666666666666,
              "#35b779"
             ],
             [
              0.7777777777777778,
              "#6ece58"
             ],
             [
              0.8888888888888888,
              "#b5de2b"
             ],
             [
              1,
              "#fde725"
             ]
            ],
            "type": "histogram2dcontour"
           }
          ],
          "mesh3d": [
           {
            "colorbar": {
             "outlinewidth": 1,
             "tickcolor": "rgb(36,36,36)",
             "ticks": "outside"
            },
            "type": "mesh3d"
           }
          ],
          "parcoords": [
           {
            "line": {
             "colorbar": {
              "outlinewidth": 1,
              "tickcolor": "rgb(36,36,36)",
              "ticks": "outside"
             }
            },
            "type": "parcoords"
           }
          ],
          "pie": [
           {
            "automargin": true,
            "type": "pie"
           }
          ],
          "scatter": [
           {
            "fillpattern": {
             "fillmode": "overlay",
             "size": 10,
             "solidity": 0.2
            },
            "type": "scatter"
           }
          ],
          "scatter3d": [
           {
            "line": {
             "colorbar": {
              "outlinewidth": 1,
              "tickcolor": "rgb(36,36,36)",
              "ticks": "outside"
             }
            },
            "marker": {
             "colorbar": {
              "outlinewidth": 1,
              "tickcolor": "rgb(36,36,36)",
              "ticks": "outside"
             }
            },
            "type": "scatter3d"
           }
          ],
          "scattercarpet": [
           {
            "marker": {
             "colorbar": {
              "outlinewidth": 1,
              "tickcolor": "rgb(36,36,36)",
              "ticks": "outside"
             }
            },
            "type": "scattercarpet"
           }
          ],
          "scattergeo": [
           {
            "marker": {
             "colorbar": {
              "outlinewidth": 1,
              "tickcolor": "rgb(36,36,36)",
              "ticks": "outside"
             }
            },
            "type": "scattergeo"
           }
          ],
          "scattergl": [
           {
            "marker": {
             "colorbar": {
              "outlinewidth": 1,
              "tickcolor": "rgb(36,36,36)",
              "ticks": "outside"
             }
            },
            "type": "scattergl"
           }
          ],
          "scattermapbox": [
           {
            "marker": {
             "colorbar": {
              "outlinewidth": 1,
              "tickcolor": "rgb(36,36,36)",
              "ticks": "outside"
             }
            },
            "type": "scattermapbox"
           }
          ],
          "scatterpolar": [
           {
            "marker": {
             "colorbar": {
              "outlinewidth": 1,
              "tickcolor": "rgb(36,36,36)",
              "ticks": "outside"
             }
            },
            "type": "scatterpolar"
           }
          ],
          "scatterpolargl": [
           {
            "marker": {
             "colorbar": {
              "outlinewidth": 1,
              "tickcolor": "rgb(36,36,36)",
              "ticks": "outside"
             }
            },
            "type": "scatterpolargl"
           }
          ],
          "scatterternary": [
           {
            "marker": {
             "colorbar": {
              "outlinewidth": 1,
              "tickcolor": "rgb(36,36,36)",
              "ticks": "outside"
             }
            },
            "type": "scatterternary"
           }
          ],
          "surface": [
           {
            "colorbar": {
             "outlinewidth": 1,
             "tickcolor": "rgb(36,36,36)",
             "ticks": "outside"
            },
            "colorscale": [
             [
              0,
              "#440154"
             ],
             [
              0.1111111111111111,
              "#482878"
             ],
             [
              0.2222222222222222,
              "#3e4989"
             ],
             [
              0.3333333333333333,
              "#31688e"
             ],
             [
              0.4444444444444444,
              "#26828e"
             ],
             [
              0.5555555555555556,
              "#1f9e89"
             ],
             [
              0.6666666666666666,
              "#35b779"
             ],
             [
              0.7777777777777778,
              "#6ece58"
             ],
             [
              0.8888888888888888,
              "#b5de2b"
             ],
             [
              1,
              "#fde725"
             ]
            ],
            "type": "surface"
           }
          ],
          "table": [
           {
            "cells": {
             "fill": {
              "color": "rgb(237,237,237)"
             },
             "line": {
              "color": "white"
             }
            },
            "header": {
             "fill": {
              "color": "rgb(217,217,217)"
             },
             "line": {
              "color": "white"
             }
            },
            "type": "table"
           }
          ]
         },
         "layout": {
          "annotationdefaults": {
           "arrowhead": 0,
           "arrowwidth": 1
          },
          "autotypenumbers": "strict",
          "coloraxis": {
           "colorbar": {
            "outlinewidth": 1,
            "tickcolor": "rgb(36,36,36)",
            "ticks": "outside"
           }
          },
          "colorscale": {
           "diverging": [
            [
             0,
             "rgb(103,0,31)"
            ],
            [
             0.1,
             "rgb(178,24,43)"
            ],
            [
             0.2,
             "rgb(214,96,77)"
            ],
            [
             0.3,
             "rgb(244,165,130)"
            ],
            [
             0.4,
             "rgb(253,219,199)"
            ],
            [
             0.5,
             "rgb(247,247,247)"
            ],
            [
             0.6,
             "rgb(209,229,240)"
            ],
            [
             0.7,
             "rgb(146,197,222)"
            ],
            [
             0.8,
             "rgb(67,147,195)"
            ],
            [
             0.9,
             "rgb(33,102,172)"
            ],
            [
             1,
             "rgb(5,48,97)"
            ]
           ],
           "sequential": [
            [
             0,
             "#440154"
            ],
            [
             0.1111111111111111,
             "#482878"
            ],
            [
             0.2222222222222222,
             "#3e4989"
            ],
            [
             0.3333333333333333,
             "#31688e"
            ],
            [
             0.4444444444444444,
             "#26828e"
            ],
            [
             0.5555555555555556,
             "#1f9e89"
            ],
            [
             0.6666666666666666,
             "#35b779"
            ],
            [
             0.7777777777777778,
             "#6ece58"
            ],
            [
             0.8888888888888888,
             "#b5de2b"
            ],
            [
             1,
             "#fde725"
            ]
           ],
           "sequentialminus": [
            [
             0,
             "#440154"
            ],
            [
             0.1111111111111111,
             "#482878"
            ],
            [
             0.2222222222222222,
             "#3e4989"
            ],
            [
             0.3333333333333333,
             "#31688e"
            ],
            [
             0.4444444444444444,
             "#26828e"
            ],
            [
             0.5555555555555556,
             "#1f9e89"
            ],
            [
             0.6666666666666666,
             "#35b779"
            ],
            [
             0.7777777777777778,
             "#6ece58"
            ],
            [
             0.8888888888888888,
             "#b5de2b"
            ],
            [
             1,
             "#fde725"
            ]
           ]
          },
          "colorway": [
           "#1F77B4",
           "#FF7F0E",
           "#2CA02C",
           "#D62728",
           "#9467BD",
           "#8C564B",
           "#E377C2",
           "#7F7F7F",
           "#BCBD22",
           "#17BECF"
          ],
          "font": {
           "color": "rgb(36,36,36)"
          },
          "geo": {
           "bgcolor": "white",
           "lakecolor": "white",
           "landcolor": "white",
           "showlakes": true,
           "showland": true,
           "subunitcolor": "white"
          },
          "hoverlabel": {
           "align": "left"
          },
          "hovermode": "closest",
          "mapbox": {
           "style": "light"
          },
          "paper_bgcolor": "white",
          "plot_bgcolor": "white",
          "polar": {
           "angularaxis": {
            "gridcolor": "rgb(232,232,232)",
            "linecolor": "rgb(36,36,36)",
            "showgrid": false,
            "showline": true,
            "ticks": "outside"
           },
           "bgcolor": "white",
           "radialaxis": {
            "gridcolor": "rgb(232,232,232)",
            "linecolor": "rgb(36,36,36)",
            "showgrid": false,
            "showline": true,
            "ticks": "outside"
           }
          },
          "scene": {
           "xaxis": {
            "backgroundcolor": "white",
            "gridcolor": "rgb(232,232,232)",
            "gridwidth": 2,
            "linecolor": "rgb(36,36,36)",
            "showbackground": true,
            "showgrid": false,
            "showline": true,
            "ticks": "outside",
            "zeroline": false,
            "zerolinecolor": "rgb(36,36,36)"
           },
           "yaxis": {
            "backgroundcolor": "white",
            "gridcolor": "rgb(232,232,232)",
            "gridwidth": 2,
            "linecolor": "rgb(36,36,36)",
            "showbackground": true,
            "showgrid": false,
            "showline": true,
            "ticks": "outside",
            "zeroline": false,
            "zerolinecolor": "rgb(36,36,36)"
           },
           "zaxis": {
            "backgroundcolor": "white",
            "gridcolor": "rgb(232,232,232)",
            "gridwidth": 2,
            "linecolor": "rgb(36,36,36)",
            "showbackground": true,
            "showgrid": false,
            "showline": true,
            "ticks": "outside",
            "zeroline": false,
            "zerolinecolor": "rgb(36,36,36)"
           }
          },
          "shapedefaults": {
           "fillcolor": "black",
           "line": {
            "width": 0
           },
           "opacity": 0.3
          },
          "ternary": {
           "aaxis": {
            "gridcolor": "rgb(232,232,232)",
            "linecolor": "rgb(36,36,36)",
            "showgrid": false,
            "showline": true,
            "ticks": "outside"
           },
           "baxis": {
            "gridcolor": "rgb(232,232,232)",
            "linecolor": "rgb(36,36,36)",
            "showgrid": false,
            "showline": true,
            "ticks": "outside"
           },
           "bgcolor": "white",
           "caxis": {
            "gridcolor": "rgb(232,232,232)",
            "linecolor": "rgb(36,36,36)",
            "showgrid": false,
            "showline": true,
            "ticks": "outside"
           }
          },
          "title": {
           "x": 0.05
          },
          "xaxis": {
           "automargin": true,
           "gridcolor": "rgb(232,232,232)",
           "linecolor": "rgb(36,36,36)",
           "showgrid": false,
           "showline": true,
           "ticks": "outside",
           "title": {
            "standoff": 15
           },
           "zeroline": false,
           "zerolinecolor": "rgb(36,36,36)"
          },
          "yaxis": {
           "automargin": true,
           "gridcolor": "rgb(232,232,232)",
           "linecolor": "rgb(36,36,36)",
           "showgrid": false,
           "showline": true,
           "ticks": "outside",
           "title": {
            "standoff": 15
           },
           "zeroline": false,
           "zerolinecolor": "rgb(36,36,36)"
          }
         }
        },
        "title": {
         "font": {
          "color": "Black",
          "size": 22
         },
         "text": "<b>Topic Probability Distribution</b>",
         "x": 0.5,
         "xanchor": "center",
         "y": 0.95,
         "yanchor": "top"
        },
        "width": 800,
        "xaxis": {
         "title": {
          "text": "Probability"
         }
        }
       }
      }
     },
     "metadata": {},
     "output_type": "display_data"
    }
   ],
   "source": [
    "topic_multilabel.visualize_distribution(topic_distr[4])"
   ]
  },
  {
   "cell_type": "code",
   "execution_count": 13,
   "metadata": {},
   "outputs": [],
   "source": [
    "#automodal causal from pretrained (use path , dont need to download)\n",
    "def generate_topic_name(list_of_words):\n",
    "\n",
    "    llm = CTransformers(model='TheBloke/Llama-2-7B-Chat-GGUF',\n",
    "                        model_type='llama',\n",
    "                        config={'max_new_tokens': 256,\n",
    "                                'temperature': 0.01})\n",
    "\n",
    "    words = ', '.join([i for i in list_of_words])\n",
    "\n",
    "    template = \"\"\"\n",
    "Given the following words that describe a genre of Netflix shows\\films, return a one to two word name for the genre. Your response\n",
    "should be one to two words with no other text:\\n\\\"{words}\\\"\n",
    "    \"\"\"\n",
    "\n",
    "    prompt = PromptTemplate(input_variables = ['words'], template=template)\n",
    "\n",
    "    response = llm(prompt.format(words=words))\n",
    "\n",
    "    return response\n"
   ]
  },
  {
   "cell_type": "code",
   "execution_count": 14,
   "metadata": {},
   "outputs": [
    {
     "name": "stderr",
     "output_type": "stream",
     "text": [
      "Fetching 1 files: 100%|██████████| 1/1 [00:00<00:00, 18477.11it/s]\n",
      "llama-2-7b-chat.Q2_K.gguf: 100%|██████████| 2.83G/2.83G [01:11<00:00, 39.7MB/s]\n",
      "Fetching 1 files: 100%|██████████| 1/1 [01:11<00:00, 71.42s/it]\n",
      "/Users/ayushjain/Development/DisruptionLab/jinship_sp2024/.venv/lib/python3.9/site-packages/langchain_core/_api/deprecation.py:117: LangChainDeprecationWarning:\n",
      "\n",
      "The function `__call__` was deprecated in LangChain 0.1.7 and will be removed in 0.2.0. Use invoke instead.\n",
      "\n",
      "Fetching 1 files: 100%|██████████| 1/1 [00:00<00:00, 11008.67it/s]\n",
      "Fetching 1 files: 100%|██████████| 1/1 [00:00<00:00, 8405.42it/s]\n",
      "Fetching 1 files: 100%|██████████| 1/1 [00:00<00:00, 17260.51it/s]\n",
      "Fetching 1 files: 100%|██████████| 1/1 [00:00<00:00, 9098.27it/s]\n",
      "Fetching 1 files: 100%|██████████| 1/1 [00:00<00:00, 9425.40it/s]\n",
      "Fetching 1 files: 100%|██████████| 1/1 [00:00<00:00, 10305.42it/s]\n",
      "Fetching 1 files: 100%|██████████| 1/1 [00:00<00:00, 15363.75it/s]\n",
      "Fetching 1 files: 100%|██████████| 1/1 [00:00<00:00, 8848.74it/s]\n",
      "Fetching 1 files: 100%|██████████| 1/1 [00:00<00:00, 21399.51it/s]\n",
      "Fetching 1 files: 100%|██████████| 1/1 [00:00<00:00, 7626.01it/s]\n",
      "Fetching 1 files: 100%|██████████| 1/1 [00:00<00:00, 18558.87it/s]\n",
      "Fetching 1 files: 100%|██████████| 1/1 [00:00<00:00, 16644.06it/s]\n",
      "Fetching 1 files: 100%|██████████| 1/1 [00:00<00:00, 10645.44it/s]\n",
      "Fetching 1 files: 100%|██████████| 1/1 [00:00<00:00, 15141.89it/s]\n",
      "Fetching 1 files: 100%|██████████| 1/1 [00:00<00:00, 10230.01it/s]\n",
      "Fetching 1 files: 100%|██████████| 1/1 [00:00<00:00, 7516.67it/s]\n",
      "Fetching 1 files: 100%|██████████| 1/1 [00:00<00:00, 18558.87it/s]\n",
      "Fetching 1 files: 100%|██████████| 1/1 [00:00<00:00, 5683.34it/s]\n",
      "Fetching 1 files: 100%|██████████| 1/1 [00:00<00:00, 19152.07it/s]\n",
      "Fetching 1 files: 100%|██████████| 1/1 [00:00<00:00, 4462.03it/s]\n",
      "Fetching 1 files: 100%|██████████| 1/1 [00:00<00:00, 13148.29it/s]\n",
      "Fetching 1 files: 100%|██████████| 1/1 [00:00<00:00, 8322.03it/s]\n",
      "Fetching 1 files: 100%|██████████| 1/1 [00:00<00:00, 17924.38it/s]\n",
      "Fetching 1 files: 100%|██████████| 1/1 [00:00<00:00, 6017.65it/s]\n",
      "Fetching 1 files: 100%|██████████| 1/1 [00:00<00:00, 24385.49it/s]\n",
      "Fetching 1 files: 100%|██████████| 1/1 [00:00<00:00, 6241.52it/s]\n",
      "Fetching 1 files: 100%|██████████| 1/1 [00:00<00:00, 24385.49it/s]\n",
      "Fetching 1 files: 100%|██████████| 1/1 [00:00<00:00, 30174.85it/s]\n",
      "Fetching 1 files: 100%|██████████| 1/1 [00:00<00:00, 18236.10it/s]\n",
      "Fetching 1 files: 100%|██████████| 1/1 [00:00<00:00, 335.33it/s]\n",
      "Fetching 1 files: 100%|██████████| 1/1 [00:00<00:00, 14463.12it/s]\n",
      "Fetching 1 files: 100%|██████████| 1/1 [00:00<00:00, 9510.89it/s]\n",
      "Fetching 1 files: 100%|██████████| 1/1 [00:00<00:00, 13530.01it/s]\n",
      "Fetching 1 files: 100%|██████████| 1/1 [00:00<00:00, 1956.30it/s]\n",
      "Fetching 1 files: 100%|██████████| 1/1 [00:00<00:00, 21732.15it/s]\n",
      "Fetching 1 files: 100%|██████████| 1/1 [00:00<00:00, 15592.21it/s]\n",
      "Fetching 1 files: 100%|██████████| 1/1 [00:00<00:00, 16384.00it/s]\n",
      "Fetching 1 files: 100%|██████████| 1/1 [00:00<00:00, 8542.37it/s]\n",
      "Fetching 1 files: 100%|██████████| 1/1 [00:00<00:00, 12520.31it/s]\n",
      "Fetching 1 files: 100%|██████████| 1/1 [00:00<00:00, 550.29it/s]\n",
      "Fetching 1 files: 100%|██████████| 1/1 [00:00<00:00, 10205.12it/s]\n",
      "Fetching 1 files: 100%|██████████| 1/1 [00:00<00:00, 6668.21it/s]\n",
      "Fetching 1 files: 100%|██████████| 1/1 [00:00<00:00, 7738.57it/s]\n",
      "Fetching 1 files: 100%|██████████| 1/1 [00:00<00:00, 5882.61it/s]\n",
      "Fetching 1 files: 100%|██████████| 1/1 [00:00<00:00, 20763.88it/s]\n",
      "Fetching 1 files: 100%|██████████| 1/1 [00:00<00:00, 2874.78it/s]\n",
      "Fetching 1 files: 100%|██████████| 1/1 [00:00<00:00, 7639.90it/s]\n",
      "Fetching 1 files: 100%|██████████| 1/1 [00:00<00:00, 7294.44it/s]\n",
      "Fetching 1 files: 100%|██████████| 1/1 [00:00<00:00, 19599.55it/s]\n",
      "Fetching 1 files: 100%|██████████| 1/1 [00:00<00:00, 12671.61it/s]\n",
      "Fetching 1 files: 100%|██████████| 1/1 [00:00<00:00, 13706.88it/s]\n",
      "Fetching 1 files: 100%|██████████| 1/1 [00:00<00:00, 12787.51it/s]\n",
      "Fetching 1 files: 100%|██████████| 1/1 [00:00<00:00, 23831.27it/s]\n",
      "Fetching 1 files: 100%|██████████| 1/1 [00:00<00:00, 10512.04it/s]\n",
      "Fetching 1 files: 100%|██████████| 1/1 [00:00<00:00, 13486.51it/s]\n",
      "Fetching 1 files: 100%|██████████| 1/1 [00:00<00:00, 9078.58it/s]\n",
      "Fetching 1 files: 100%|██████████| 1/1 [00:00<00:00, 11618.57it/s]\n",
      "Fetching 1 files: 100%|██████████| 1/1 [00:00<00:00, 15420.24it/s]\n",
      "Fetching 1 files: 100%|██████████| 1/1 [00:00<00:00, 12192.74it/s]\n",
      "Fetching 1 files: 100%|██████████| 1/1 [00:00<00:00, 13706.88it/s]\n",
      "Fetching 1 files: 100%|██████████| 1/1 [00:00<00:00, 22192.08it/s]\n",
      "Fetching 1 files: 100%|██████████| 1/1 [00:00<00:00, 13357.66it/s]\n",
      "Fetching 1 files: 100%|██████████| 1/1 [00:00<00:00, 16131.94it/s]\n",
      "Fetching 1 files: 100%|██████████| 1/1 [00:00<00:00, 10979.85it/s]\n",
      "Fetching 1 files: 100%|██████████| 1/1 [00:00<00:00, 9915.61it/s]\n",
      "Fetching 1 files: 100%|██████████| 1/1 [00:00<00:00, 14315.03it/s]\n",
      "Fetching 1 files: 100%|██████████| 1/1 [00:00<00:00, 8256.50it/s]\n",
      "Fetching 1 files: 100%|██████████| 1/1 [00:00<00:00, 10180.35it/s]\n",
      "Fetching 1 files: 100%|██████████| 1/1 [00:00<00:00, 8144.28it/s]\n",
      "Fetching 1 files: 100%|██████████| 1/1 [00:00<00:00, 11244.78it/s]\n",
      "Fetching 1 files: 100%|██████████| 1/1 [00:00<00:00, 18157.16it/s]\n",
      "Fetching 1 files: 100%|██████████| 1/1 [00:00<00:00, 13888.42it/s]\n",
      "Fetching 1 files: 100%|██████████| 1/1 [00:00<00:00, 3387.97it/s]\n",
      "Fetching 1 files: 100%|██████████| 1/1 [00:00<00:00, 11618.57it/s]\n",
      "Fetching 1 files: 100%|██████████| 1/1 [00:00<00:00, 22671.91it/s]\n",
      "Fetching 1 files: 100%|██████████| 1/1 [00:00<00:00, 13530.01it/s]\n",
      "Fetching 1 files: 100%|██████████| 1/1 [00:00<00:00, 17848.10it/s]\n",
      "Fetching 1 files: 100%|██████████| 1/1 [00:00<00:00, 11881.88it/s]\n",
      "Fetching 1 files: 100%|██████████| 1/1 [00:00<00:00, 5370.43it/s]\n",
      "Fetching 1 files: 100%|██████████| 1/1 [00:00<00:00, 12865.96it/s]\n",
      "Fetching 1 files: 100%|██████████| 1/1 [00:00<00:00, 8943.08it/s]\n",
      "Fetching 1 files: 100%|██████████| 1/1 [00:00<00:00, 9709.04it/s]\n",
      "Fetching 1 files: 100%|██████████| 1/1 [00:00<00:00, 19239.93it/s]\n",
      "Fetching 1 files: 100%|██████████| 1/1 [00:00<00:00, 12192.74it/s]\n",
      "Fetching 1 files: 100%|██████████| 1/1 [00:00<00:00, 16131.94it/s]\n",
      "Fetching 1 files: 100%|██████████| 1/1 [00:00<00:00, 13530.01it/s]\n",
      "Fetching 1 files: 100%|██████████| 1/1 [00:00<00:00, 11214.72it/s]\n",
      "Fetching 1 files: 100%|██████████| 1/1 [00:00<00:00, 10205.12it/s]\n",
      "Fetching 1 files: 100%|██████████| 1/1 [00:00<00:00, 25575.02it/s]\n",
      "Fetching 1 files: 100%|██████████| 1/1 [00:00<00:00, 12826.62it/s]\n",
      "Fetching 1 files: 100%|██████████| 1/1 [00:00<00:00, 23301.69it/s]\n",
      "Fetching 1 files: 100%|██████████| 1/1 [00:00<00:00, 11244.78it/s]\n",
      "Fetching 1 files: 100%|██████████| 1/1 [00:00<00:00, 25115.59it/s]\n",
      "Fetching 1 files: 100%|██████████| 1/1 [00:00<00:00, 25731.93it/s]\n",
      "Fetching 1 files: 100%|██████████| 1/1 [00:00<00:00, 10837.99it/s]\n",
      "Fetching 1 files: 100%|██████████| 1/1 [00:00<00:00, 19599.55it/s]\n",
      "Fetching 1 files: 100%|██████████| 1/1 [00:00<00:00, 18236.10it/s]\n",
      "Fetching 1 files: 100%|██████████| 1/1 [00:00<00:00, 12985.46it/s]\n",
      "Fetching 1 files: 100%|██████████| 1/1 [00:00<00:00, 13315.25it/s]\n",
      "Fetching 1 files: 100%|██████████| 1/1 [00:00<00:00, 18477.11it/s]\n",
      "Fetching 1 files: 100%|██████████| 1/1 [00:00<00:00, 7194.35it/s]\n",
      "Fetching 1 files: 100%|██████████| 1/1 [00:00<00:00, 9341.43it/s]\n",
      "Fetching 1 files: 100%|██████████| 1/1 [00:00<00:00, 23696.63it/s]\n",
      "Fetching 1 files: 100%|██████████| 1/1 [00:00<00:00, 13530.01it/s]\n",
      "Fetching 1 files: 100%|██████████| 1/1 [00:00<00:00, 22795.13it/s]\n",
      "Fetching 1 files: 100%|██████████| 1/1 [00:00<00:00, 11881.88it/s]\n",
      "Fetching 1 files: 100%|██████████| 1/1 [00:00<00:00, 20763.88it/s]\n",
      "Fetching 1 files: 100%|██████████| 1/1 [00:00<00:00, 17189.77it/s]\n",
      "Fetching 1 files: 100%|██████████| 1/1 [00:00<00:00, 11275.01it/s]\n",
      "Fetching 1 files: 100%|██████████| 1/1 [00:00<00:00, 10082.46it/s]\n",
      "Fetching 1 files: 100%|██████████| 1/1 [00:00<00:00, 21732.15it/s]\n",
      "Fetching 1 files: 100%|██████████| 1/1 [00:00<00:00, 12671.61it/s]\n",
      "Fetching 1 files: 100%|██████████| 1/1 [00:00<00:00, 18893.26it/s]\n",
      "Fetching 1 files: 100%|██████████| 1/1 [00:00<00:00, 16131.94it/s]\n",
      "Fetching 1 files: 100%|██████████| 1/1 [00:00<00:00, 22671.91it/s]\n",
      "Fetching 1 files: 100%|██████████| 1/1 [00:00<00:00, 16320.25it/s]\n",
      "Fetching 1 files: 100%|██████████| 1/1 [00:00<00:00, 16644.06it/s]\n",
      "Fetching 1 files: 100%|██████████| 1/1 [00:00<00:00, 16578.28it/s]\n",
      "Fetching 1 files: 100%|██████████| 1/1 [00:00<00:00, 18477.11it/s]\n",
      "Fetching 1 files: 100%|██████████| 1/1 [00:00<00:00, 14665.40it/s]\n",
      "Fetching 1 files: 100%|██████████| 1/1 [00:00<00:00, 11915.64it/s]\n",
      "Fetching 1 files: 100%|██████████| 1/1 [00:00<00:00, 23831.27it/s]\n",
      "Fetching 1 files: 100%|██████████| 1/1 [00:00<00:00, 11781.75it/s]\n",
      "Fetching 1 files: 100%|██████████| 1/1 [00:00<00:00, 12985.46it/s]\n",
      "Fetching 1 files: 100%|██████████| 1/1 [00:00<00:00, 17189.77it/s]\n",
      "Fetching 1 files: 100%|██████████| 1/1 [00:00<00:00, 7516.67it/s]\n",
      "Fetching 1 files: 100%|██████████| 1/1 [00:00<00:00, 10979.85it/s]\n",
      "Fetching 1 files: 100%|██████████| 1/1 [00:00<00:00, 12157.40it/s]\n",
      "Fetching 1 files: 100%|██████████| 1/1 [00:00<00:00, 15887.52it/s]\n",
      "Fetching 1 files: 100%|██████████| 1/1 [00:00<00:00, 16912.52it/s]\n",
      "Fetching 1 files: 100%|██████████| 1/1 [00:00<00:00, 25420.02it/s]\n",
      "Fetching 1 files: 100%|██████████| 1/1 [00:00<00:00, 14315.03it/s]\n",
      "Fetching 1 files: 100%|██████████| 1/1 [00:00<00:00, 15887.52it/s]\n",
      "Fetching 1 files: 100%|██████████| 1/1 [00:00<00:00, 9198.04it/s]\n",
      "Fetching 1 files: 100%|██████████| 1/1 [00:00<00:00, 12483.05it/s]\n",
      "Fetching 1 files: 100%|██████████| 1/1 [00:00<00:00, 11491.24it/s]\n",
      "Fetching 1 files: 100%|██████████| 1/1 [00:00<00:00, 21290.88it/s]\n",
      "Fetching 1 files: 100%|██████████| 1/1 [00:00<00:00, 10356.31it/s]\n",
      "Fetching 1 files: 100%|██████████| 1/1 [00:00<00:00, 21845.33it/s]\n",
      "Fetching 1 files: 100%|██████████| 1/1 [00:00<00:00, 13842.59it/s]\n",
      "Fetching 1 files: 100%|██████████| 1/1 [00:00<00:00, 9822.73it/s]\n",
      "Fetching 1 files: 100%|██████████| 1/1 [00:00<00:00, 9020.01it/s]\n",
      "Fetching 1 files: 100%|██████████| 1/1 [00:00<00:00, 13706.88it/s]\n",
      "Fetching 1 files: 100%|██████████| 1/1 [00:00<00:00, 17189.77it/s]\n",
      "Fetching 1 files: 100%|██████████| 1/1 [00:00<00:00, 9892.23it/s]\n",
      "Fetching 1 files: 100%|██████████| 1/1 [00:00<00:00, 14463.12it/s]\n",
      "Fetching 1 files: 100%|██████████| 1/1 [00:00<00:00, 21732.15it/s]\n",
      "Fetching 1 files: 100%|██████████| 1/1 [00:00<00:00, 11618.57it/s]\n",
      "Fetching 1 files: 100%|██████████| 1/1 [00:00<00:00, 19599.55it/s]\n",
      "Fetching 1 files: 100%|██████████| 1/1 [00:00<00:00, 17848.10it/s]\n",
      "Fetching 1 files: 100%|██████████| 1/1 [00:00<00:00, 22671.91it/s]\n",
      "Fetching 1 files: 100%|██████████| 1/1 [00:00<00:00, 12018.06it/s]\n",
      "Fetching 1 files: 100%|██████████| 1/1 [00:00<00:00, 9341.43it/s]\n",
      "Fetching 1 files: 100%|██████████| 1/1 [00:00<00:00, 12633.45it/s]\n",
      "Fetching 1 files: 100%|██████████| 1/1 [00:00<00:00, 19691.57it/s]\n",
      "Fetching 1 files: 100%|██████████| 1/1 [00:00<00:00, 13486.51it/s]\n",
      "Fetching 1 files: 100%|██████████| 1/1 [00:00<00:00, 15592.21it/s]\n",
      "Fetching 1 files: 100%|██████████| 1/1 [00:00<00:00, 11618.57it/s]\n",
      "Fetching 1 files: 100%|██████████| 1/1 [00:00<00:00, 9776.93it/s]\n",
      "Fetching 1 files: 100%|██████████| 1/1 [00:00<00:00, 25731.93it/s]\n",
      "Fetching 1 files: 100%|██████████| 1/1 [00:00<00:00, 10407.70it/s]\n",
      "Fetching 1 files: 100%|██████████| 1/1 [00:00<00:00, 13888.42it/s]\n",
      "Fetching 1 files: 100%|██████████| 1/1 [00:00<00:00, 24385.49it/s]\n",
      "Fetching 1 files: 100%|██████████| 1/1 [00:00<00:00, 2011.66it/s]\n",
      "Fetching 1 files: 100%|██████████| 1/1 [00:00<00:00, 18558.87it/s]\n",
      "Fetching 1 files: 100%|██████████| 1/1 [00:00<00:00, 17924.38it/s]\n",
      "Fetching 1 files: 100%|██████████| 1/1 [00:00<00:00, 12671.61it/s]\n",
      "Fetching 1 files: 100%|██████████| 1/1 [00:00<00:00, 18315.74it/s]\n",
      "Fetching 1 files: 100%|██████████| 1/1 [00:00<00:00, 9986.44it/s]\n",
      "Fetching 1 files: 100%|██████████| 1/1 [00:00<00:00, 8256.50it/s]\n",
      "Fetching 1 files: 100%|██████████| 1/1 [00:00<00:00, 12710.01it/s]\n",
      "Fetching 1 files: 100%|██████████| 1/1 [00:00<00:00, 10407.70it/s]\n"
     ]
    }
   ],
   "source": [
    "topic_names = []\n",
    "all_topics = topic_multilabel.get_topics()\n",
    "for i in range(len(all_topics) - 1):\n",
    "    list_of_words = []\n",
    "    for word in all_topics[i]:\n",
    "        list_of_words.append(word[0])\n",
    "    topic_names.append(generate_topic_name(list_of_words))"
   ]
  },
  {
   "cell_type": "code",
   "execution_count": 17,
   "metadata": {},
   "outputs": [
    {
     "data": {
      "text/plain": [
       "['1. Stand-up\\n    2. Comedy',\n",
       " '1. Romance\\n    2. Drama\\n    3. Comedy\\n    4. Thriller\\n    5. Horror\\n    6. Action\\n    7. Adventure\\n    8. Fantasy',\n",
       " '\\n\\nName: ______ (2 words)',\n",
       " '\\n\\nPlease let me know if you need any additional information or clarification.',\n",
       " '1. \"Adventure\"\\n    2. \"Furry Friends\"\\n    3. \"Magic Pals\"\\n    4. \"Funny Felines\"\\n    5. \"Bearly Magic\"\\nPlease let me know if you need anything else!',\n",
       " '1. Action\\n    2. Thriller\\n    3. Espionage\\n    4. Crime\\n    5. Drama\\n    6. Suspense\\n    7. Adventure\\n    8. Mystery\\nPlease let me know if you need any additional information or have any questions.',\n",
       " ' \"thriller, suspense, crime, mystery, detective, police, violence, action\"\\n     \"romance, love, relationships, drama, passion, kiss, hug\"\\n     \"comedy, funny, humor, laughter, slapstick, parody\"\\n     \"drama, emotional, intense, characters, storyline, plot\"\\n     \"horror, scary, spooky, frightening, ghosts, monsters\"\\nPlease let me know if you need any additional information.',\n",
       " '1. Wildlife Documentary\\n    2. Nature Exploration',\n",
       " '1. Drama\\n    2. Romance\\n    3. Comedy\\n    4. Thriller\\n    5. Horror\\n    6. Mystery\\n    7. Sci-Fi\\n    8. Fantasy\\n    9. Crime\\n    10. Adventure',\n",
       " '1. \"Teacher\"\\n    2. \"Student\"',\n",
       " '1. Horror\\n2. Thriller\\n3. Supernatural',\n",
       " '1. Sci-Fi\\n2. Space Opera\\n3. Alien Invasion\\n4. Planetary Adventure\\n5. Space Exploration\\n6. Time Travel\\n7. Superhero\\n8. Post-Apocalyptic\\n9. Dystopian Future\\n10. Alternate Reality',\n",
       " '1. Christmas\\n    2. Holiday',\n",
       " '1. Rom-Com\\n    2. Teen Drama\\n    3. Comedy\\n    4. Drama\\n    5. Romance\\n    6. Friendship\\n    7. High School\\n    8. Love Story\\nPlease let me know if you need anything else!',\n",
       " '1. actor\\n    2. hollywood\\n    3. documentary\\n    4. directors\\n    5. filming\\n    6. stars\\n    7. directors\\nPlease let me know if you have any other questions!',\n",
       " ' \"crime drama, crime thriller, detective, police, action, suspense, tension\"\\n     \"mystery, suspense, intrigue, spy, espionage, secrets, deception\"\\n     \"romance, love, relationships, dating, heartbreak, passion\"\\n     \"horror, scary, frightening, supernatural, ghost, monster\"\\n     \"comedy, funny, humorous, laughs, humor, wit\"\\n     \"drama, emotional, intense, character study, psychological\"\\n     \"fantasy, magical, mythical, magic, dragons, wizards\"\\nPlease let me know if you need any additional information.',\n",
       " '\\n\\nI would suggest the following genres:\\n\\n* Action\\n* Martial Arts\\n* Adventure\\n* Drama\\n* Fantasy\\n* Historical Drama\\n* Romance\\n* Thriller',\n",
       " '1. Action/Adventure\\n    2. Thriller/Suspense\\n    3. Crime Drama\\n    4. Romantic Comedy\\n    5. Superhero\\n    6. Historical Drama\\n    7. Horror/Thriller\\n    8. Sci-Fi/Fantasy\\n    9. Teen Drama\\n    10. Documentary\\nPlease let me know if you need any additional information or clarification.',\n",
       " '1. Crime\\n    2. Thriller\\n    3. Mystery\\n    4. Drama\\n    5. Suspense\\n    6. Action\\n    7. Adventure\\n    8. Comedy\\nPlease let me know if you need anything else!',\n",
       " '1. Shark\\n    2. Mermaid\\n    3. Underwater\\n    4. Sea\\n    5. Ocean',\n",
       " '1. Ballet\\n    2. Dance',\n",
       " '1. Historical Drama\\n    2. War Drama\\n    3. Thriller\\n    4. Crime Drama\\n    5. Biographical Drama\\n    6. Period Drama\\nPlease let me know if you need any additional information or have any questions.',\n",
       " '\\n\\nThe genre of Netflix shows is... (one to two words)',\n",
       " ' \"crime, detective, police, murder, mystery, thriller, violence\"\\n     \"romance, love, relationships, dating, marriage, heartbreak, happily ever after\"\\n     \"fantasy, magic, dragons, elves, wizards, adventure, quests\"\\n     \"comedy, funny, humor, laughs, slapstick, parody\"\\n     \"horror, scary, spooky, ghosts, monsters, fear\"\\nPlease let me know if you need any additional information.',\n",
       " '\\n\\nAnswer:\\nFRIENDS',\n",
       " '1. Drama\\n    2. Thriller\\n    3. Comedy\\n    4. Romance\\n    5. Family\\n    6. Mystery\\n    7. Crime\\n    8. Fantasy\\n    9. Sci-Fi\\n    10. Horror',\n",
       " '\\n\\nPlease let me know if you need any additional information or clarification.',\n",
       " '1. Horror\\n    2. Thriller\\n    3. Drama\\n    4. Comedy\\n    5. Action\\n    6. Adventure\\n    7. Fantasy\\n    8. Mystery\\nPlease let me know if you need anything else!',\n",
       " '\\n\\nThe genre of Netflix shows is... (two words)\\n1. Horror\\n2. Thriller',\n",
       " '\\n\\nThe genre of Netflix shows is... (type one to two words)',\n",
       " ' \"action, adventure, drama, fantasy, horror, mystery, romance, sci-fi, thriller\"',\n",
       " '\\nThe genre of Netflix shows is \"Documentary Riot Movement\".',\n",
       " '\\nThe genre of Netflix shows is...\\n(Suddenly, the lights in the room flicker and dim.)\\nNetflix Genre: Reality TV',\n",
       " '1. Romance\\n    2. Drama\\n    3. Comedy\\n    4. Thriller\\n    5. Sci-Fi\\n    6. Horror\\n    7. Action\\n    8. Adventure\\n    9. Mystery\\n    10. Family',\n",
       " '1. Action\\n    2. Drama\\n    3. Sports\\n    4. Thriller\\n    5. Adventure\\n    6. Romance\\n    7. Comedy\\n    8. Horror\\n    9. Sci-Fi\\n    10. Fantasy',\n",
       " '1. Thriller\\n2. Drama\\n3. Mystery\\n4. Family\\n5. Crime\\n6. Suspense\\n7. Adventure\\n8. Fantasy',\n",
       " '1. Bollywood\\n    2. Indian Cinema\\n    3. Tagorean Drama\\n    4. Mumbai Movies\\n    5. South Asian Flicks\\n    6. Regional Reels\\nPlease let me know if you need anything else!',\n",
       " '1. Sci-Fi\\n    2. Thriller\\n    3. Drama\\n    4. Comedy\\n    5. Horror\\n    6. Romance\\n    7. Action\\n    8. Adventure\\n    9. Mystery\\n    10. Fantasy',\n",
       " '1. Drama\\n    2. Thriller\\n    3. Comedy\\n    4. Romance\\n    5. Horror\\n    6. Sci-Fi\\n    7. Fantasy\\n    8. Crime\\n    9. Mystery\\n    10. Adventure',\n",
       " '1. Action\\n    2. Adventure\\n    3. Comedy\\n    4. Drama\\n    5. Fantasy\\n    6. Historical\\n    7. Horror\\n    8. Mystery\\n    9. Romance\\n    10. Sci-Fi',\n",
       " '1. Action\\n    2. Adventure\\n    3. Anime\\n    4. Fantasy\\n    5. Martial Arts\\n    6. Mystery\\n    7. Supernatural\\n    8. Thriller\\n    9. Sci-Fi\\n    10. Horror',\n",
       " ' \"mystery, detective, crime, suspense, thriller, murder, investigation, clues, puzzle\"\\n     \"sci-fi, space, aliens, technology, future, robots, artificial intelligence\"\\n     \"romance, love, relationships, drama, passion, heartbreak, happily ever after\"\\n     \"comedy, funny, humor, laughter, silliness, ridiculousness\"\\nPlease let me know if you need any additional information.',\n",
       " '1. Prison Drama\\n    2. Incarceration Dramas\\n    3. Redemption Arcs',\n",
       " '1. RomCom\\n    2. Drama\\n    3. Action\\n    4. Adventure\\n    5. Thriller\\n    6. Comedy\\n    7. Fantasy\\n    8. Horror\\n    9. Mystery\\n    10. SciFi',\n",
       " '1. Thriller\\n2. Drama\\n3. Action\\n4. Crime\\n5. Horror\\n6. Mystery\\n7. Romance\\n8. Comedy\\n9. Sci-Fi\\n10. Fantasy',\n",
       " '1. Thriller\\n2. Mystery\\n3. Crime Drama\\n4. Suspense\\n5. Detective\\n6. Noir\\n7. Psychological\\n8. Neo-Noir\\n9. Dark Comedy\\n10. Supernatural ',\n",
       " '1. Romance\\n    2. Drama\\n    3. Comedy\\n    4. Thriller\\n    5. Horror\\n    6. Sci-Fi\\n    7. Fantasy\\n    8. Crime\\n    9. Mystery\\n    10. Family\\nPlease let me know if you need any additional information or clarification.',\n",
       " '1. Vampire\\n    2. Supernatural\\n    3. Fantasy\\n    4. Romance\\n    5. Adventure\\n    6. Horror\\n    7. Superhero\\n    8. Sci-Fi\\nPlease let me know if you need anything else!',\n",
       " '\\n\\nThe genre of Netflix shows is... (one to two words)',\n",
       " '1. Crime\\n    2. Drama\\n    3. Thriller\\n    4. Action\\n    5. Mystery\\n    6. Suspense\\n    7. Adventure\\n    8. Fantasy\\n    9. Horror\\n    10. Romance',\n",
       " '1. Action\\n    2. Crime\\n    3. Drama\\n    4. Thriller\\n    5. Adventure\\n    6. Comedy\\n    7. Romance\\n    8. Horror\\n    9. Sci-Fi\\n    10. Fantasy',\n",
       " '1. War\\n    2. Military\\n    3. Drama',\n",
       " '1. Drama\\n    2. Thriller\\n    3. Family\\n    4. Crime\\n    5. Romance\\n    6. Comedy\\n    7. Horror\\n    8. Sci-Fi\\n    9. Fantasy\\n    10. Mystery',\n",
       " \"1. Kids' Shows\\n2. Family-Friendly\\n3. Children's Programming\",\n",
       " '1. Action\\n    2. Adventure\\n    3. Fantasy\\n    4. Science Fiction\\n    5. Horror\\n    6. Superhero\\n    7. Martial Arts\\n    8. Historical Drama\\n    9. Mystery\\n    10. Romance',\n",
       " '1. Action\\n    2. Historical Drama\\n    3. Romantic Comedy\\n    4. Crime Thriller\\n    5. Fantasy Adventure\\n    6. Period Drama\\n    7. Superhero\\n    8. Teen Drama\\n    9. Horror\\n    10. Sci-Fi\\nPlease let me know if you need any additional information or have any questions.',\n",
       " '1. Drug War\\n    2. Cartel Thriller\\n    3. Crime Drama\\n    4. Smuggling Saga\\n    5. Police Procedural\\n    6. Global Drug Trade\\n    7. South American Underworld\\n    8. Criminal Network\\n    9. Netflix Binge\\n    10. International Intrigue',\n",
       " '1. Bollywood\\n    2. Indian Drama\\n    3. Social Commentary\\n    4. Rural Dramedy\\n    5. Cultural Exploration\\n    6. Poverty Drama\\n    7. Hindu Focus\\n    8. Education Theme\\n    9. Muslim Representation\\n    10. Indian Culture',\n",
       " '1. Action\\n    2. Drama\\n    3. Thriller\\n    4. Romance\\n    5. Comedy\\n    6. Horror\\n    7. Sci-Fi\\n    8. Fantasy\\n    9. Crime\\n    10. Mystery',\n",
       " '1. Horror\\n    2. Superhero\\n    3. Halloween\\n    4. Monster\\n    5. Spooky\\n    6. Muertos\\n    7. Vida\\n    8. Pitchfork',\n",
       " '1. Romance\\n    2. Drama\\n    3. Thriller\\n    4. Comedy\\n    5. Horror\\n    6. Action\\n    7. Mystery\\n    8. Sci-Fi\\n    9. Fantasy\\n    10. Documentary',\n",
       " '\\n\\nThe genre of Netflix shows is... (two words)\\n\\n\\n\\n\\n\\n',\n",
       " '1. Historical Drama\\n2. Biographical Drama\\n3. Period Drama\\n4. Royal Drama\\n5. Historical Fiction\\n6. Biographical Fiction\\n7. Royal Fiction\\n8. Epic Drama',\n",
       " '1. War\\n    2. Nostalgia\\n    3. Nations\\n    4. Civil',\n",
       " '1. Political Drama\\n    2. Thriller/Suspense',\n",
       " '1. Thriller\\n    2. Crime Drama\\n    3. True Crime\\n    4. Docudrama',\n",
       " '1. Action/Adventure\\n    2. Sci-Fi\\n    3. Horror\\n    4. Comedy\\n    5. Drama\\n    6. Thriller\\n    7. Fantasy\\n    8. Mystery\\nPlease let me know if you need any additional information or have any questions.',\n",
       " '1. Thriller\\n2. Drama\\n3. Medical\\n4. Mystery\\n5. Horror',\n",
       " '1. War films\\n2. Historical dramas\\n3. Documentaries\\n4. Action movies\\n5. Thrillers',\n",
       " '1. Sci-Fi\\n    2. Fantasy\\n    3. Adventure\\n    4. Game Show\\n    5. Drama\\n    6. Comedy\\n    7. Thriller\\n    8. Mystery\\nPlease let me know if you need anything else!',\n",
       " '1. Architect\\n    2. Executive\\n    3. Triangle',\n",
       " '1. Horror\\n    2. Anthology',\n",
       " \"1. Cartoon\\n    2. Teen Drama\\n    3. Romantic Comedy\\n    4. Fantasy Adventure\\n    5. Historical Drama\\n    6. Animated Children's Show\\n    7. Royal Drama\\n    8. Emoji Comedy\\nPlease let me know if you need any additional information or clarification.\",\n",
       " '1. Crime\\n    2. Mafia\\n    3. Gang\\n    4. Leones\\n    5. Antimafia',\n",
       " '1. LGBTQ+\\n    2. Dance\\n    3. Drama\\n    4. Activism\\n    5. Fiction\\n    6. Romance\\nPlease let me know if you need any additional information or clarification.',\n",
       " '1. Stoner Comedy\\n    2. Drug Drama\\n    3. Indoor Adventure\\n    4. Pro-Legalization Drama\\n    5. Hardcore Fiction\\n    6. Cannabis Chronicles\\nPlease let me know if you need any additional information or have any questions.',\n",
       " '1. Thriller\\n2. Drama\\n3. Mystery\\n4. Romance\\n5. Comedy\\n6. Horror\\n7. Sci-Fi\\n8. Fantasy\\n9. Crime\\n10. Adventure',\n",
       " '1. Rainbow\\n    2. Kingdom\\n    3. True\\n    4. Wishes\\n    5. Save\\n    6. Day',\n",
       " '1. Historical Drama\\n2. Political Thriller\\n3. Period Drama\\n4. Adventure Epic\\n5. Historical Fiction\\n6. Biographical Drama',\n",
       " '1. Comedy Sketch\\n2. Monty Python\\n3. German Television\\n4. All Time Classics\\n5. Sketch Comedy\\n6. Television Gold\\n7. Classic TV Shows\\n8. Timeless Humor\\n9. Netflix Favorites\\n10. Instant Laughs',\n",
       " '1. Travel\\n    2. Drama\\n    3. History\\n    4. Romance\\n    5. Comedy\\n    6. Documentary\\n    7. Thriller\\n    8. Horror\\nPlease let me know if you need anything else!',\n",
       " '1. Disaster\\n    2. Thriller',\n",
       " '1. Thriller\\n    2. Horror\\n    3. Crime\\n    4. Drama\\n    5. Comedy\\n    6. Romance\\n    7. Sci-Fi\\n    8. Fantasy\\nPlease let me know if you need any additional information or clarification.',\n",
       " '1. Drama\\n    2. Thriller\\n    3. Comedy\\n    4. Romance\\n    5. Crime\\n    6. Family\\n    7. Fantasy\\n    8. Horror\\n    9. Sci-Fi\\n    10. Documentary',\n",
       " '1. Action\\n    2. Fantasy\\n    3. Adventure\\n    4. Drama\\n    5. Horror\\n    6. Mystery\\n    7. Romance\\n    8. Sci-Fi\\n    9. Thriller\\n    10. Superhero\\nPlease let me know if you need anything else!',\n",
       " '1. Action\\n    2. Superhero\\n    3. Thriller\\n    4. Comedy\\n    5. Drama\\n    6. Adventure\\n    7. Mystery\\nPlease let me know if you need anything else!',\n",
       " '1. Documentary\\n2. Drama\\n3. Comedy\\n4. Thriller\\n5. Sci-Fi']"
      ]
     },
     "execution_count": 17,
     "metadata": {},
     "output_type": "execute_result"
    }
   ],
   "source": [
    "topic_names"
   ]
  }
 ],
 "metadata": {
  "kernelspec": {
   "display_name": ".venv",
   "language": "python",
   "name": "python3"
  },
  "language_info": {
   "codemirror_mode": {
    "name": "ipython",
    "version": 3
   },
   "file_extension": ".py",
   "mimetype": "text/x-python",
   "name": "python",
   "nbconvert_exporter": "python",
   "pygments_lexer": "ipython3",
   "version": "3.9.6"
  }
 },
 "nbformat": 4,
 "nbformat_minor": 2
}
