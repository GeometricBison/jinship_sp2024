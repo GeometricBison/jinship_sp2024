{
 "cells": [
  {
   "cell_type": "code",
   "execution_count": 14,
   "metadata": {},
   "outputs": [],
   "source": [
    "from transformers import pipeline"
   ]
  },
  {
   "cell_type": "code",
   "execution_count": 15,
   "metadata": {},
   "outputs": [],
   "source": [
    "#model for question answering \n",
    "pipe = pipeline(\"question-answering\", model=\"deepset/roberta-base-squad2\")"
   ]
  },
  {
   "cell_type": "code",
   "execution_count": 16,
   "metadata": {},
   "outputs": [],
   "source": [
    "# reading in csvs\n",
    "import csv\n",
    "import chromadb\n",
    "\n",
    "title_ids = []\n",
    "genres = []\n",
    "description = []\n",
    "\n",
    "#read in genres and descriptions automagically\n",
    "with open('shows.csv', 'r') as file:\n",
    "  reader = csv.DictReader(file)\n",
    "  #only first 100 items\n",
    "  for i, row in enumerate(reader):\n",
    "      if i >= 100:\n",
    "          break\n",
    "      genres.append(row['listed_in'])\n",
    "      description.append(row['description'])\n",
    "      title_ids.append(row['show_id'])    "
   ]
  },
  {
   "cell_type": "code",
   "execution_count": 17,
   "metadata": {},
   "outputs": [],
   "source": [
    "client = chromadb.PersistentClient(path='./')"
   ]
  },
  {
   "cell_type": "code",
   "execution_count": 18,
   "metadata": {},
   "outputs": [],
   "source": [
    "#database chroma\n",
    "shows_vs = client.get_or_create_collection(name=\"netflix\")"
   ]
  },
  {
   "cell_type": "code",
   "execution_count": 19,
   "metadata": {},
   "outputs": [],
   "source": [
    "# #load netflix shows into the vectorstore \n",
    "# shows_vs.upsert(\n",
    "#   documents=description,\n",
    "#   metadatas = [{'source': genre} for genre in genres],\n",
    "#   ids=title_ids\n",
    "# )"
   ]
  },
  {
   "cell_type": "code",
   "execution_count": 20,
   "metadata": {},
   "outputs": [],
   "source": [
    "shows_vs.query(query_texts=description[0], n_results=5)\n",
    "\n",
    "#structure of a query return\n",
    "return_query_example = {'ids': [['s1', 's25', 's13', 's92', 's74']],\n",
    " 'distances': [[0.0,\n",
    "   1.2635724544525146,\n",
    "   1.3824687004089355,\n",
    "   1.406484842300415,\n",
    "   1.4076160192489624]],\n",
    " 'metadatas': [[{'source': 'Documentaries'},\n",
    "   {'source': 'Comedies, International Movies, Romantic Movies'},\n",
    "   {'source': 'Dramas, International Movies'},\n",
    "   {'source': 'Documentaries, International Movies'},\n",
    "   {'source': 'Dramas, International Movies'}]],\n",
    " 'embeddings': None,\n",
    " 'documents': [['As her father nears the end of his life, filmmaker Kirsten Johnson stages his death in inventive and comical ways to help them both face the inevitable.',\n",
    "   'When the father of the man she loves insists that his twin sons marry twin sisters, a woman creates an alter ego that might be a bit too convincing.',\n",
    "   'After most of her family is murdered in a terrorist bombing, a young woman is unknowingly lured into joining the very group that killed them.',\n",
    "   \"This documentary traces the capture of serial killer Guy Georges through the tireless work of two women: a police chief and a victim's mother.\",\n",
    "   'When a powerful businesswoman’s political ambitions are threatened by her underworld connections, the ensuing power struggle could cost her everything.']],\n",
    " 'uris': None,\n",
    " 'data': None}"
   ]
  },
  {
   "cell_type": "code",
   "execution_count": 21,
   "metadata": {},
   "outputs": [],
   "source": [
    "genres_vs = client.get_or_create_collection(name=\"genre_store\")"
   ]
  },
  {
   "cell_type": "code",
   "execution_count": 22,
   "metadata": {},
   "outputs": [],
   "source": [
    "import uuid\n",
    "groups = {} #map of descriptions to genre\n",
    "\n",
    "return_gpt_query = {'score': 0.8608009219169617, 'start': 6, 'end': 12, 'answer': '3.1415'}\n",
    "#generate a tag and compare that tag to other generated tags OR do a call back\n",
    "\n",
    "first_desc = description[0]\n",
    "qa_return = pipe(question=\"What is a good set of genres for this tag\", context=first_desc)\n",
    "\n",
    "#add to the map \n",
    "groups[first_desc] = qa_return['answer']\n",
    "#add to the genre_vs\n",
    "genres_vs.upsert(   \n",
    "  documents=[qa_return['answer']],\n",
    "  metadatas = [{'source': first_desc}],\n",
    "  ids=str(uuid.uuid4())\n",
    ")"
   ]
  },
  {
   "cell_type": "code",
   "execution_count": 27,
   "metadata": {},
   "outputs": [
    {
     "data": {
      "text/plain": [
       "{'ids': [['d75bc75a-f2b9-4126-a369-3f790ace9686']],\n",
       " 'distances': [[1.6926115262590287]],\n",
       " 'metadatas': [[{'source': 'As her father nears the end of his life, filmmaker Kirsten Johnson stages his death in inventive and comical ways to help them both face the inevitable.'}]],\n",
       " 'embeddings': None,\n",
       " 'documents': [['comical']],\n",
       " 'uris': None,\n",
       " 'data': None}"
      ]
     },
     "execution_count": 27,
     "metadata": {},
     "output_type": "execute_result"
    }
   ],
   "source": [
    "genres_vs_return = genres_vs.query(query_texts=first_desc, n_results=1)\n",
    "genres_vs_return"
   ]
  },
  {
   "cell_type": "code",
   "execution_count": 38,
   "metadata": {},
   "outputs": [],
   "source": [
    "#iterate through each description\n",
    "for desc in description[1:]:\n",
    "  #check if the description has a topic that is it is familiar to \n",
    "  genres_vs_return = genres_vs.query(query_texts=desc, n_results=1)\n",
    "  distance = genres_vs_return['distances'][0][0]\n",
    "  \n",
    "  #if distance is less than 0.5 then set its genre to the found genre \n",
    "  if distance < 0.5:\n",
    "    groups[desc] = genres_vs_return['documents'][0][0]\n",
    "  else:\n",
    "    #generate a tag with llama\n",
    "    #compare that tag to previous tags \n",
    "    #otherwise keep it going along \n",
    "    qa_return = pipe(question=\"What is a good set of genres for this tag\", context=desc)\n",
    "    #simliarity search the answer \n",
    "    genres_vs_return = genres_vs.query(query_texts=qa_return['answer'], n_results=1)\n",
    "    distance = genres_vs_return['distances'][0][0]\n",
    "    #check if distance less than 0.5\n",
    "    if distance < 0.5:\n",
    "      #if it is less than 0.5 then add it to the genre \n",
    "      groups[desc] = genres_vs_return['documents'][0][0]\n",
    "    else:\n",
    "      groups[desc] = qa_return['answer']\n",
    "      #add new genre to genrevs\n",
    "      genres_vs.upsert(   \n",
    "        documents=[qa_return['answer']],\n",
    "        metadatas = [{'source': desc}],\n",
    "        ids=str(uuid.uuid4())\n",
    "      )"
   ]
  },
  {
   "cell_type": "code",
   "execution_count": 39,
   "metadata": {},
   "outputs": [
    {
     "name": "stdout",
     "output_type": "stream",
     "text": [
      "{'As her father nears the end of his life, filmmaker Kirsten Johnson stages his death in inventive and comical ways to help them both face the inevitable.': 'comical', 'After crossing paths at a party, a Cape Town teen sets out to prove whether a private-school swimming star is her sister who was abducted at birth.': 'swimming', 'To protect his family from a powerful drug lord, skilled thief Mehdi and his expert team of robbers are pulled into a violent and deadly turf war.': 'drug lord, skilled thief', 'Feuds, flirtations and toilet talk go down among the incarcerated women at the Orleans Justice Center in New Orleans on this gritty reality series.': 'Feuds, flirtations and toilet talk', 'In a city of coaching centers known to train India’s finest collegiate minds, an earnest but unexceptional student and his friends navigate campus life.': 'collegiate', 'The arrival of a charismatic young priest brings glorious miracles, ominous mysteries and renewed religious fervor to a dying town desperate to believe.': 'glorious miracles, ominous mysteries and renewed religious fervor', \"Equestria's divided. But a bright-eyed hero believes Earth Ponies, Pegasi and Unicorns should be pals — and, hoof to heart, she’s determined to prove it.\": 'Earth Ponies, Pegasi and Unicorns', 'On a photo shoot in Ghana, an American model slips back in time, becomes enslaved on a plantation and bears witness to the agony of her ancestral past.': 'model', \"A talented batch of amateur bakers face off in a 10-week competition, whipping up their best dishes in the hopes of being named the U.K.'s best.\": 'amateur bakers', \"A woman adjusting to life after a loss contends with a feisty bird that's taken over her garden — and a husband who's struggling to find a way forward.\": \"a husband who's struggling to find a way forward.\", 'Sicily boasts a bold \"Anti-Mafia\" coalition. But what happens when those trying to bring down organized crime are accused of being criminals themselves?': 'Anti-Mafia', 'Struggling to earn a living in Bangkok, a man joins an emergency rescue service and realizes he must unravel a citywide conspiracy.': 'Bangkok', 'After most of her family is murdered in a terrorist bombing, a young woman is unknowingly lured into joining the very group that killed them.': 'young woman is unknowingly lured into joining the very group that killed them.', \"When the clever but socially-awkward Tetê joins a new school, she'll do anything to fit in. But the queen bee among her classmates has other ideas.\": 'Tetê', 'Cameras following Bengaluru police on the job offer a rare glimpse into the complex and challenging inner workings of four major crime investigations.': 'Cameras', 'Students of color navigate the daily slights and slippery politics of life at an Ivy League college that\\'s not nearly as \"post-racial\" as it thinks.': 'post-racial', 'Declassified documents reveal the post-WWII life of Otto Skorzeny, a close Hitler ally who escaped to Spain and became an adviser to world presidents.': 'Declassified documents reveal the post-WWII', 'Strangers Diego and Isabel flee their home in Mexico and pretend to be a married couple to escape his drug-dealing enemies and her abusive husband.': 'Strangers', 'After a deadly home invasion at a couple’s new dream house, the traumatized wife searches for answers — and learns the real danger is just beginning.': 'wife searches for answers — and learns the real danger is just beginning.', 'In the 1960s, a Holocaust survivor joins a group of self-trained spies who seek justice against Nazis fleeing to Spain to hide after WWII.': 'spies', 'In the late 1970s, an accused serial rapist claims multiple personalities control his behavior, setting off a legal odyssey that captivates America.': 'serial rapist claims multiple personalities', \"When a good deed unwittingly endangers his clan, a 13th-century Turkish warrior agrees to fight a sultan's enemies in exchange for new tribal land.\": 'Turkish warrior', 'Newly divorced and denied visitation rights with his daughter, a doting father disguises himself as a gray-haired nanny in order to spend time with her.': 'gray-haired nanny in order to spend time with her.', 'From arcade games to sled days and hiccup cures, Cory Carson’s curious little sister Chrissy speeds off on her own for fun and adventure all over town!': 'arcade games to sled days and hiccup cures', 'When the father of the man she loves insists that his twin sons marry twin sisters, a woman creates an alter ego that might be a bit too convincing.': 'twin sisters', 'Finding love can be hard for anyone. For young adults on the autism spectrum, exploring the unpredictable world of dating is even more complicated.': 'dating', 'A tangled love triangle ensues when a man falls for a woman studying to become a nun — and she falls for the friend he enlists to help him pursue her.': 'love triangle', 'Mourning the loss of their beloved junior high basketball coach, five middle-aged pals reunite at a lake house and rediscover the joys of being a kid.': 'junior high basketball', 'A family’s idyllic suburban life shatters when an alien force invades their home, and as they struggle to convince others of the deadly threat.': 'alien', \"Blackmailed by his company's CEO, a low-level employee finds himself forced to spy on the boss's rival and former mentor.\": \"spy on the boss's rival and former mentor.\", 'As big city life buzzes around them, lonely souls discover surprising sources of connection and companionship in three tales of love, loss and longing.': 'love, loss and longing', 'Chicago Party Aunt Diane is an idolized troublemaker with a talent for avoiding adulthood — and a soft spot for her soul-searching nephew.': 'Chicago Party', 'Insecure Otis has all the answers when it comes to sex advice, thanks to his therapist mom. So rebel Maeve proposes a school sex-therapy clinic.': 'Insecure', \"Hundreds of cash-strapped players accept a strange invitation to compete in children's games. Inside, a tempting prize awaits — with deadly high stakes.\": \"children's games\", 'Tayo speeds into an adventure when his friends get kidnapped by evil magicians invading their city in search of a magical gemstone.': 'Tayo', 'When his son goes missing during a snowy hike in the mountains, a retired intelligence officer will stop at nothing — and risk everything — to find him.': 'intelligence officer will stop at nothing — and risk everything — to find him.', 'Tired of the small-time grind, three Marseille cops get a chance to bust a major drug network. But lines blur when a key informant makes a big ask.': 'cops', 'Birds Red, Chuck and their feathered friends have lots of adventures while guarding eggs in their nest that pesky pigs keep trying to steal.': 'Birds Red, Chuck and their feathered friends', 'A young Bruce Lee angers kung fu traditionalists by teaching outsiders, leading to a showdown with a Shaolin master in this film based on real events.': 'kung fu', 'A brave, energetic little boy with superhuman powers leads his friends on exciting adventures to guard their fellow Dholakpur villagers from evil.': 'Dholakpur', 'Mighty teen Adam and his heroic squad of misfits discover the legendary power of Grayskull — and their destiny to defend Eternia from sinister Skeletor.': 'Grayskull', 'When an insatiable great white shark terrorizes Amity Island, a police chief, an oceanographer and a grizzled shark hunter seek to destroy the beast.': 'a police chief, an oceanographer and a grizzled shark hunter', 'Four years after the last deadly shark attacks, police chief Martin Brody fights to protect Amity Island from another killer great white.': 'shark', 'After the staff of a marine theme park try to capture a young great white shark, they discover its mother has invaded the enclosure and is out for blood.': 'marine theme park try to capture a young great white shark', 'After another deadly shark attack, Ellen Brody has had enough of Amity Island and moves to the Caribbean – but a great white shark follows her there.': 'Ellen Brody has had enough of Amity Island and moves to the Caribbean', \"Robin Wiltshire's painful childhood was rescued by Westerns. Now he lives on the frontier of his dreams, training the horses he loves for the big screen.\": 'Westerns', \"Young CIA operative Matt Weston must get a dangerous criminal out of an agency safe house that's come under attack and get him to a securer location.\": 'CIA', \"Five glamorous millennials strive for success as they juggle careers, finances, love and friendships. Based on Arese Ugwu's 2016 best-selling novel.\": 'glamorous millennials', \"A rookie cop with one day to prove himself to a veteran LAPD narcotics officer receives a crash course in his mentor's questionable brand of justice.\": \"narcotics officer receives a crash course in his mentor's questionable brand of justice\", 'A pair of high-powered, successful lawyers find themselves defending opposite interests of the justice system, causing a strain on their happy marriage.': 'lawyers', \"After the ancient Great War, the god Chitragupta oversees a trial to determine who were the battle's true heroes and villains.\": 'heroes and villains', 'With their biggest foe seemingly defeated, InuYasha and his friends return to everyday life. But the peace is soon shattered by an emerging new enemy.': 'InuYasha', 'The Great Dog Demon beaqueathed one of the Three Swords of the Fang to each of his two sons. Now the evil power of the third sword has been awakened.': 'Three Swords of the Fang', 'Ai, a young half-demon who has escaped from Horai Island to try to help her people, returns with potential saviors InuYasha, Sesshomaru and Kikyo.': 'InuYasha', \"A powerful demon has been sealed away for 200 years. But when the demon's son is awakened, the fate of the world is in jeopardy.\": 'demon has been sealed away for 200 years.', \"Home bakers with a terrible track record take a crack at re-creating edible masterpieces for a $10,000 prize. It's part reality contest, part hot mess.\": 'hot mess', 'Mistakenly accused of an attack on the Fourth Raikage, ninja Naruto is imprisoned in the impenetrable Hozuki Castle and his powers are sealed.': 'ninja Naruto', \"When strange ninjas ambush the village of Konohagakure, it's up to adolescent ninja Naruto and his long-missing pal, Sasuke, to save the planet.\": 'ninja Naruto', 'When four out of five ninja villages are destroyed, the leader of the one spared tries to find the true culprit and protect his land.': 'ninja Naruto', \"The adventures of adolescent ninja Naruto Uzumaki continue as he's tasked with protecting a priestess from a demon – but to do so, he must die.\": 'ninja Naruto', 'When Naruto is sent to recover a missing nin, the rogue manages to send him 20 years into the past, where he unites with his father to battle evil.': 'ninja Naruto', 'While on a mission to return a missing pet, Naruto and two fellow ninjas are ambushed by brutal knights led by the enigmatic Temujin.': 'ninja Naruto', 'Exuberant ninja Naruto teams up with his pals Sakura and Kakashi to escort Prince Michiru and his son, Hikaru, to the Crescent Moon kingdom.': 'ninja Naruto', \"Naruto, Sasuke and Sakura learn they'll be protecting an actress from being hurt while making her next film, but it turns out she's a princess.\": 'princess', \"Scary story fan Alex must tell a spine-tingling tale every night — or stay trapped with his new friend in a wicked witch's magical apartment forever.\": 'Scary story', 'In a place called Numberland, math adds up to tons of fun when a group of cheerful blocks work, play and sing together.': 'math', 'Explore the history and flavors of regional Indian cuisine, from traditional Kashmiri feasts to the vegetarian dishes of Gujarat.': 'regional Indian cuisine', 'From middle school to college, best friends Zack, Kelly, Slater, Jessie, Screech and Lisa take on the highs and lows of life together in this hit series.': 'middle school to college', 'Through exclusive interviews and archival footage, this documentary traces an intimate portrait of seven-time Formula 1 champion Michael Schumacher.': 'documentary', 'The writings of Nobel Prize winner Rabindranath Tagore come to life in this collection of tales set in early-20th-century Bengal.': 'tales', 'On this reality show, singles from Latin America and Spain are challenged to give up sex. But here, abstinence comes with a silver lining: US$100,000.': 'Latin America and Spain', \"Join the StoryBots and the space travelers of the historic Inspiration4 mission as they search for answers to kids' questions about space.\": 'StoryBots', 'Jovial comic Jack Whitehall invites his stuffy father, Michael, to travel with him through Southeast Asia in an attempt to strengthen their bond.': 'Jovial comic', 'When a powerful businesswoman’s political ambitions are threatened by her underworld connections, the ensuing power struggle could cost her everything.': 'underworld connections, the ensuing power struggle could cost her everything.', 'With an eye for every budget, three travelers visit vacation rentals around the globe and share their expert tips and tricks in this reality series.': 'reality series', 'After a plane crash leaves Bear with amnesia, he must make choices to save the missing pilot and survive in this high-stakes interactive adventure.': 'interactive', 'A timid, anime-loving teen gets drawn into a school cycling club, where his new friends help him face tough challenges to develop his racing talent.': 'anime', 'Kid cop Little Singham loses all his superpowers while trying to stop the demon Kaal’s new evil plans! Can his inner strength help him defeat the enemy?': 'Kid cop', 'A budding politician has devious plans to rise in the ranks — until an unexpected new presence begins to interfere with his every crooked move.': 'politician', 'When his home is threatened by humans, a young dragon summons the courage to seek a mythical paradise where dragons can live in peace and fly free.': 'dragon', 'Slipped a fatal poison on her final job, a ruthless assassin working in Tokyo has less than 24 hours to find out who ordered the hit and exact revenge.': 'assassin', 'Bored with being the Lord of Hell, the devil relocates to Los Angeles, where he opens a nightclub and forms a connection with a homicide detective.': 'Lord of Hell', 'On this competition show, a group of metal artists torch, cut and weld epic, badass creations from hardened steel. Only one will win a $50,000 prize.': 'metal', 'Twins are reunited as a good-hearted female gangster and her uptight rich sister take on family, crime, cops and all of the trouble that follows them.': 'Twins are reunited as a good-hearted female gangster', \"As Ash battles his way through the World Coronation Series, Goh continues his quest to catch every Pokémon. Together, they're on a journey to adventure!\": 'World Coronation Series', 'A hiking trip into the wild turns into a desperate bid for survival for five friends on the run from a mysterious shooter.': 'hiking trip into the wild', \"Titipo the train is out to prove that he's got what it takes to help the folks of Train Village ride the rails safely and reliably.\": 'Titipo the train', \"From a chance meeting to a tragic fallout, Malcolm X and Muhammad Ali's extraordinary bond cracks under the weight of distrust and shifting ideals.\": 'Malcolm X and Muhammad Ali', 'Born with superhuman abilities, young Raju wants to use his powers to make the world a better place — but that will mean facing plenty of challenges!': 'Raju', 'Uma wakes up in a lush tropical facility designed to turn willful girls into perfect ladies. That’s bad enough, but its real purpose is even worse.': 'perfect ladies', \"This documentary traces the capture of serial killer Guy Georges through the tireless work of two women: a police chief and a victim's mother.\": 'documentary', 'Passengers and crew aboard a hijacked overnight flight scramble to outrace the sun as a mysterious cosmic event wreaks havoc on the world below.': 'cosmic event wreaks havoc on the world below.', 'Elisabeth and John-John live in the same city, but they inhabit different worlds. Can a passionate first love break through class and cultural barriers?': 'passionate first love', 'A rough and tough police dog must go undercover with an FBI agent as a prim and proper pet at a dog show to save a baby panda from an illegal sale.': 'A rough and tough police dog', 'Status and strategy collide in this social experiment and competition show where online players flirt, befriend and catfish their way toward $100,000.': 'Status and strategy', 'Using interviews and archival footage, this documentary charts the story of the legendary Southern rockers with a focus on front man Ronnie Van Zant.': 'Southern rockers', \"A boy's superhero dreams come true when he finds five powerful cosmic stones. But saving the day is harder than he imagined — and he can't do it alone.\": 'superhero', \"The Octonauts expand their exploration beyond the sea —\\xa0and onto land! With new rides and new friends, they'll protect any habitats and animals at risk.\": 'Octonauts', 'Four women — a chef, a single mom, an heiress and a job seeker — dig into love and work, with a generous side of midlife crises, in pre-pandemic LA.': 'love and work'}\n"
     ]
    }
   ],
   "source": [
    "print(groups)"
   ]
  },
  {
   "cell_type": "code",
   "execution_count": 40,
   "metadata": {},
   "outputs": [
    {
     "name": "stdout",
     "output_type": "stream",
     "text": [
      "0.0\n"
     ]
    }
   ],
   "source": [
    "#Accuracy tester \n",
    "\n",
    "#iterates over each description\n",
    "#find its expected_genre\n",
    "#match with its actual genre \n",
    "#count successes \n",
    "successes = 0\n",
    "\n",
    "for i, desc in enumerate(description):\n",
    "  actual_genre = genres[i] \n",
    "  expected_genre = groups[desc]\n",
    "\n",
    "  if(actual_genre == expected_genre):\n",
    "    successes += 1\n",
    "\n",
    "print(successes/len(actual_genre))"
   ]
  },
  {
   "cell_type": "code",
   "execution_count": null,
   "metadata": {},
   "outputs": [],
   "source": []
  }
 ],
 "metadata": {
  "kernelspec": {
   "display_name": ".venv",
   "language": "python",
   "name": "python3"
  },
  "language_info": {
   "codemirror_mode": {
    "name": "ipython",
    "version": 3
   },
   "file_extension": ".py",
   "mimetype": "text/x-python",
   "name": "python",
   "nbconvert_exporter": "python",
   "pygments_lexer": "ipython3",
   "version": "3.9.6"
  }
 },
 "nbformat": 4,
 "nbformat_minor": 2
}
