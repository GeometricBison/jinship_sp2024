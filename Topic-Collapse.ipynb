{
 "cells": [
  {
   "cell_type": "code",
   "execution_count": 14,
   "metadata": {},
   "outputs": [],
   "source": [
    "from transformers import pipeline"
   ]
  },
  {
   "cell_type": "code",
   "execution_count": 15,
   "metadata": {},
   "outputs": [],
   "source": [
    "#model for question answering \n",
    "pipe = pipeline(\"question-answering\", model=\"deepset/roberta-base-squad2\")"
   ]
  },
  {
   "cell_type": "code",
   "execution_count": 16,
   "metadata": {},
   "outputs": [],
   "source": [
    "# reading in csvs\n",
    "import csv\n",
    "import chromadb\n",
    "\n",
    "title_ids = []\n",
    "genres = []\n",
    "description = []\n",
    "\n",
    "#read in genres and descriptions automagically\n",
    "with open('shows.csv', 'r') as file:\n",
    "  reader = csv.DictReader(file)\n",
    "  #only first 100 items\n",
    "  for i, row in enumerate(reader):\n",
    "      if i >= 100:\n",
    "          break\n",
    "      genres.append(row['listed_in'])\n",
    "      description.append(row['description'])\n",
    "      title_ids.append(row['show_id'])    "
   ]
  },
  {
   "cell_type": "code",
   "execution_count": 17,
   "metadata": {},
   "outputs": [],
   "source": [
    "client = chromadb.PersistentClient(path='./')"
   ]
  },
  {
   "cell_type": "code",
   "execution_count": 18,
   "metadata": {},
   "outputs": [],
   "source": [
    "#database chroma\n",
    "shows_vs = client.get_or_create_collection(name=\"netflix\")"
   ]
  },
  {
   "cell_type": "code",
   "execution_count": 19,
   "metadata": {},
   "outputs": [],
   "source": [
    "# #load netflix shows into the vectorstore \n",
    "# shows_vs.upsert(\n",
    "#   documents=description,\n",
    "#   metadatas = [{'source': genre} for genre in genres],\n",
    "#   ids=title_ids\n",
    "# )"
   ]
  },
  {
   "cell_type": "code",
   "execution_count": 20,
   "metadata": {},
   "outputs": [],
   "source": [
    "shows_vs.query(query_texts=description[0], n_results=5)\n",
    "\n",
    "#structure of a query return\n",
    "return_query_example = {'ids': [['s1', 's25', 's13', 's92', 's74']],\n",
    " 'distances': [[0.0,\n",
    "   1.2635724544525146,\n",
    "   1.3824687004089355,\n",
    "   1.406484842300415,\n",
    "   1.4076160192489624]],\n",
    " 'metadatas': [[{'source': 'Documentaries'},\n",
    "   {'source': 'Comedies, International Movies, Romantic Movies'},\n",
    "   {'source': 'Dramas, International Movies'},\n",
    "   {'source': 'Documentaries, International Movies'},\n",
    "   {'source': 'Dramas, International Movies'}]],\n",
    " 'embeddings': None,\n",
    " 'documents': [['As her father nears the end of his life, filmmaker Kirsten Johnson stages his death in inventive and comical ways to help them both face the inevitable.',\n",
    "   'When the father of the man she loves insists that his twin sons marry twin sisters, a woman creates an alter ego that might be a bit too convincing.',\n",
    "   'After most of her family is murdered in a terrorist bombing, a young woman is unknowingly lured into joining the very group that killed them.',\n",
    "   \"This documentary traces the capture of serial killer Guy Georges through the tireless work of two women: a police chief and a victim's mother.\",\n",
    "   'When a powerful businesswoman’s political ambitions are threatened by her underworld connections, the ensuing power struggle could cost her everything.']],\n",
    " 'uris': None,\n",
    " 'data': None}"
   ]
  },
  {
   "cell_type": "code",
   "execution_count": 21,
   "metadata": {},
   "outputs": [],
   "source": [
    "genres_vs = client.get_or_create_collection(name=\"genre_store\")"
   ]
  },
  {
   "cell_type": "code",
   "execution_count": 22,
   "metadata": {},
   "outputs": [],
   "source": [
    "import uuid\n",
    "groups = {} #map of descriptions to genre\n",
    "\n",
    "return_gpt_query = {'score': 0.8608009219169617, 'start': 6, 'end': 12, 'answer': '3.1415'}\n",
    "#generate a tag and compare that tag to other generated tags OR do a call back\n",
    "\n",
    "first_desc = description[0]\n",
    "qa_return = pipe(question=\"What is a good set of genres for this tag\", context=first_desc)\n",
    "\n",
    "#add to the map \n",
    "groups[first_desc] = qa_return['answer']\n",
    "#add to the genre_vs\n",
    "genres_vs.upsert(   \n",
    "  documents=[qa_return['answer']],\n",
    "  metadatas = [{'source': first_desc}],\n",
    "  ids=str(uuid.uuid4())\n",
    ")"
   ]
  },
  {
   "cell_type": "code",
   "execution_count": 27,
   "metadata": {},
   "outputs": [
    {
     "data": {
      "text/plain": [
       "{'ids': [['d75bc75a-f2b9-4126-a369-3f790ace9686']],\n",
       " 'distances': [[1.6926115262590287]],\n",
       " 'metadatas': [[{'source': 'As her father nears the end of his life, filmmaker Kirsten Johnson stages his death in inventive and comical ways to help them both face the inevitable.'}]],\n",
       " 'embeddings': None,\n",
       " 'documents': [['comical']],\n",
       " 'uris': None,\n",
       " 'data': None}"
      ]
     },
     "execution_count": 27,
     "metadata": {},
     "output_type": "execute_result"
    }
   ],
   "source": [
    "genres_vs_return = genres_vs.query(query_texts=first_desc, n_results=1)\n",
    "genres_vs_return"
   ]
  },
  {
   "cell_type": "code",
   "execution_count": 33,
   "metadata": {},
   "outputs": [],
   "source": [
    "#iterate through each description\n",
    "for desc in description[1:10]:\n",
    "  #check if the description has a topic that is it is familiar to \n",
    "  genres_vs_return = genres_vs.query(query_texts=desc, n_results=1)\n",
    "  distance = genres_vs_return['distances'][0][0]\n",
    "  \n",
    "  #if distance is less than 0.5 then set its genre to the found genre \n",
    "  if distance < 0.5:\n",
    "    groups[desc] = genres_vs_return['documents'][0][0]\n",
    "  else:\n",
    "    #generate a tag with llama\n",
    "    #compare that tag to previous tags \n",
    "    #otherwise keep it going along \n",
    "    qa_return = pipe(question=\"What is a good set of genres for this tag\", context=desc)\n",
    "    #simliarity search the answer \n",
    "    genres_vs_return = genres_vs.query(query_texts=qa_return['answer'], n_results=1)\n",
    "    distance = genres_vs_return['distances'][0][0]\n",
    "    #check if distance less than 0.5\n",
    "    if distance < 0.5:\n",
    "      #if it is less than 0.5 then add it to the genre \n",
    "      groups[desc] = genres_vs_return['documents'][0][0]\n",
    "    else:\n",
    "      groups[desc] = qa_return['answer']\n",
    "      #add new genre to genrevs\n",
    "      genres_vs.upsert(   \n",
    "        documents=[qa_return['answer']],\n",
    "        metadatas = [{'source': desc}],\n",
    "        ids=str(uuid.uuid4())\n",
    "      )"
   ]
  },
  {
   "cell_type": "code",
   "execution_count": 34,
   "metadata": {},
   "outputs": [
    {
     "name": "stdout",
     "output_type": "stream",
     "text": [
      "{'As her father nears the end of his life, filmmaker Kirsten Johnson stages his death in inventive and comical ways to help them both face the inevitable.': 'comical', 'After crossing paths at a party, a Cape Town teen sets out to prove whether a private-school swimming star is her sister who was abducted at birth.': 'swimming', 'To protect his family from a powerful drug lord, skilled thief Mehdi and his expert team of robbers are pulled into a violent and deadly turf war.': 'drug lord, skilled thief', 'Feuds, flirtations and toilet talk go down among the incarcerated women at the Orleans Justice Center in New Orleans on this gritty reality series.': 'Feuds, flirtations and toilet talk', 'In a city of coaching centers known to train India’s finest collegiate minds, an earnest but unexceptional student and his friends navigate campus life.': 'collegiate', 'The arrival of a charismatic young priest brings glorious miracles, ominous mysteries and renewed religious fervor to a dying town desperate to believe.': 'glorious miracles, ominous mysteries and renewed religious fervor', \"Equestria's divided. But a bright-eyed hero believes Earth Ponies, Pegasi and Unicorns should be pals — and, hoof to heart, she’s determined to prove it.\": 'Earth Ponies, Pegasi and Unicorns', 'On a photo shoot in Ghana, an American model slips back in time, becomes enslaved on a plantation and bears witness to the agony of her ancestral past.': 'model', \"A talented batch of amateur bakers face off in a 10-week competition, whipping up their best dishes in the hopes of being named the U.K.'s best.\": 'amateur bakers', \"A woman adjusting to life after a loss contends with a feisty bird that's taken over her garden — and a husband who's struggling to find a way forward.\": \"a husband who's struggling to find a way forward.\"}\n"
     ]
    }
   ],
   "source": [
    "print(groups)"
   ]
  },
  {
   "cell_type": "code",
   "execution_count": null,
   "metadata": {},
   "outputs": [],
   "source": []
  }
 ],
 "metadata": {
  "kernelspec": {
   "display_name": ".venv",
   "language": "python",
   "name": "python3"
  },
  "language_info": {
   "codemirror_mode": {
    "name": "ipython",
    "version": 3
   },
   "file_extension": ".py",
   "mimetype": "text/x-python",
   "name": "python",
   "nbconvert_exporter": "python",
   "pygments_lexer": "ipython3",
   "version": "3.9.6"
  }
 },
 "nbformat": 4,
 "nbformat_minor": 2
}
