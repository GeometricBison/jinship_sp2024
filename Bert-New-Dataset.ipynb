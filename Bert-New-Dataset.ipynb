{
 "cells": [
  {
   "cell_type": "code",
   "execution_count": 2,
   "metadata": {},
   "outputs": [
    {
     "name": "stdout",
     "output_type": "stream",
     "text": [
      "Requirement already satisfied: datasets in ./.venv/lib/python3.9/site-packages (2.17.1)\n",
      "Requirement already satisfied: filelock in ./.venv/lib/python3.9/site-packages (from datasets) (3.13.1)\n",
      "Requirement already satisfied: numpy>=1.17 in ./.venv/lib/python3.9/site-packages (from datasets) (1.26.4)\n",
      "Requirement already satisfied: pyarrow>=12.0.0 in ./.venv/lib/python3.9/site-packages (from datasets) (15.0.0)\n",
      "Requirement already satisfied: pyarrow-hotfix in ./.venv/lib/python3.9/site-packages (from datasets) (0.6)\n",
      "Requirement already satisfied: dill<0.3.9,>=0.3.0 in ./.venv/lib/python3.9/site-packages (from datasets) (0.3.8)\n",
      "Requirement already satisfied: pandas in ./.venv/lib/python3.9/site-packages (from datasets) (2.2.1)\n",
      "Requirement already satisfied: requests>=2.19.0 in ./.venv/lib/python3.9/site-packages (from datasets) (2.31.0)\n",
      "Requirement already satisfied: tqdm>=4.62.1 in ./.venv/lib/python3.9/site-packages (from datasets) (4.66.2)\n",
      "Requirement already satisfied: xxhash in ./.venv/lib/python3.9/site-packages (from datasets) (3.4.1)\n",
      "Requirement already satisfied: multiprocess in ./.venv/lib/python3.9/site-packages (from datasets) (0.70.16)\n",
      "Requirement already satisfied: fsspec<=2023.10.0,>=2023.1.0 in ./.venv/lib/python3.9/site-packages (from fsspec[http]<=2023.10.0,>=2023.1.0->datasets) (2023.10.0)\n",
      "Requirement already satisfied: aiohttp in ./.venv/lib/python3.9/site-packages (from datasets) (3.9.3)\n",
      "Requirement already satisfied: huggingface-hub>=0.19.4 in ./.venv/lib/python3.9/site-packages (from datasets) (0.20.3)\n",
      "Requirement already satisfied: packaging in ./.venv/lib/python3.9/site-packages (from datasets) (23.2)\n",
      "Requirement already satisfied: pyyaml>=5.1 in ./.venv/lib/python3.9/site-packages (from datasets) (6.0.1)\n",
      "Requirement already satisfied: aiosignal>=1.1.2 in ./.venv/lib/python3.9/site-packages (from aiohttp->datasets) (1.3.1)\n",
      "Requirement already satisfied: attrs>=17.3.0 in ./.venv/lib/python3.9/site-packages (from aiohttp->datasets) (23.2.0)\n",
      "Requirement already satisfied: frozenlist>=1.1.1 in ./.venv/lib/python3.9/site-packages (from aiohttp->datasets) (1.4.1)\n",
      "Requirement already satisfied: multidict<7.0,>=4.5 in ./.venv/lib/python3.9/site-packages (from aiohttp->datasets) (6.0.5)\n",
      "Requirement already satisfied: yarl<2.0,>=1.0 in ./.venv/lib/python3.9/site-packages (from aiohttp->datasets) (1.9.4)\n",
      "Requirement already satisfied: async-timeout<5.0,>=4.0 in ./.venv/lib/python3.9/site-packages (from aiohttp->datasets) (4.0.3)\n",
      "Requirement already satisfied: typing-extensions>=3.7.4.3 in ./.venv/lib/python3.9/site-packages (from huggingface-hub>=0.19.4->datasets) (4.10.0)\n",
      "Requirement already satisfied: charset-normalizer<4,>=2 in ./.venv/lib/python3.9/site-packages (from requests>=2.19.0->datasets) (3.3.2)\n",
      "Requirement already satisfied: idna<4,>=2.5 in ./.venv/lib/python3.9/site-packages (from requests>=2.19.0->datasets) (3.6)\n",
      "Requirement already satisfied: urllib3<3,>=1.21.1 in ./.venv/lib/python3.9/site-packages (from requests>=2.19.0->datasets) (2.2.1)\n",
      "Requirement already satisfied: certifi>=2017.4.17 in ./.venv/lib/python3.9/site-packages (from requests>=2.19.0->datasets) (2024.2.2)\n",
      "Requirement already satisfied: python-dateutil>=2.8.2 in ./.venv/lib/python3.9/site-packages (from pandas->datasets) (2.8.2)\n",
      "Requirement already satisfied: pytz>=2020.1 in ./.venv/lib/python3.9/site-packages (from pandas->datasets) (2024.1)\n",
      "Requirement already satisfied: tzdata>=2022.7 in ./.venv/lib/python3.9/site-packages (from pandas->datasets) (2024.1)\n",
      "Requirement already satisfied: six>=1.5 in ./.venv/lib/python3.9/site-packages (from python-dateutil>=2.8.2->pandas->datasets) (1.16.0)\n",
      "Requirement already satisfied: bertopic in ./.venv/lib/python3.9/site-packages (0.16.0)\n",
      "Requirement already satisfied: numpy>=1.20.0 in ./.venv/lib/python3.9/site-packages (from bertopic) (1.26.4)\n",
      "Requirement already satisfied: hdbscan>=0.8.29 in ./.venv/lib/python3.9/site-packages (from bertopic) (0.8.33)\n",
      "Requirement already satisfied: umap-learn>=0.5.0 in ./.venv/lib/python3.9/site-packages (from bertopic) (0.5.5)\n",
      "Requirement already satisfied: pandas>=1.1.5 in ./.venv/lib/python3.9/site-packages (from bertopic) (2.2.1)\n",
      "Requirement already satisfied: scikit-learn>=0.22.2.post1 in ./.venv/lib/python3.9/site-packages (from bertopic) (1.4.1.post1)\n",
      "Requirement already satisfied: tqdm>=4.41.1 in ./.venv/lib/python3.9/site-packages (from bertopic) (4.66.2)\n",
      "Requirement already satisfied: sentence-transformers>=0.4.1 in ./.venv/lib/python3.9/site-packages (from bertopic) (2.4.0)\n",
      "Requirement already satisfied: plotly>=4.7.0 in ./.venv/lib/python3.9/site-packages (from bertopic) (5.19.0)\n",
      "Requirement already satisfied: cython<3,>=0.27 in ./.venv/lib/python3.9/site-packages (from hdbscan>=0.8.29->bertopic) (0.29.37)\n",
      "Requirement already satisfied: scipy>=1.0 in ./.venv/lib/python3.9/site-packages (from hdbscan>=0.8.29->bertopic) (1.12.0)\n",
      "Requirement already satisfied: joblib>=1.0 in ./.venv/lib/python3.9/site-packages (from hdbscan>=0.8.29->bertopic) (1.3.2)\n",
      "Requirement already satisfied: python-dateutil>=2.8.2 in ./.venv/lib/python3.9/site-packages (from pandas>=1.1.5->bertopic) (2.8.2)\n",
      "Requirement already satisfied: pytz>=2020.1 in ./.venv/lib/python3.9/site-packages (from pandas>=1.1.5->bertopic) (2024.1)\n",
      "Requirement already satisfied: tzdata>=2022.7 in ./.venv/lib/python3.9/site-packages (from pandas>=1.1.5->bertopic) (2024.1)\n",
      "Requirement already satisfied: tenacity>=6.2.0 in ./.venv/lib/python3.9/site-packages (from plotly>=4.7.0->bertopic) (8.2.3)\n",
      "Requirement already satisfied: packaging in ./.venv/lib/python3.9/site-packages (from plotly>=4.7.0->bertopic) (23.2)\n",
      "Requirement already satisfied: threadpoolctl>=2.0.0 in ./.venv/lib/python3.9/site-packages (from scikit-learn>=0.22.2.post1->bertopic) (3.3.0)\n",
      "Requirement already satisfied: transformers<5.0.0,>=4.32.0 in ./.venv/lib/python3.9/site-packages (from sentence-transformers>=0.4.1->bertopic) (4.38.1)\n",
      "Requirement already satisfied: torch>=1.11.0 in ./.venv/lib/python3.9/site-packages (from sentence-transformers>=0.4.1->bertopic) (2.2.1)\n",
      "Requirement already satisfied: huggingface-hub>=0.15.1 in ./.venv/lib/python3.9/site-packages (from sentence-transformers>=0.4.1->bertopic) (0.20.3)\n",
      "Requirement already satisfied: Pillow in ./.venv/lib/python3.9/site-packages (from sentence-transformers>=0.4.1->bertopic) (10.2.0)\n",
      "Requirement already satisfied: numba>=0.51.2 in ./.venv/lib/python3.9/site-packages (from umap-learn>=0.5.0->bertopic) (0.59.0)\n",
      "Requirement already satisfied: pynndescent>=0.5 in ./.venv/lib/python3.9/site-packages (from umap-learn>=0.5.0->bertopic) (0.5.11)\n",
      "Requirement already satisfied: filelock in ./.venv/lib/python3.9/site-packages (from huggingface-hub>=0.15.1->sentence-transformers>=0.4.1->bertopic) (3.13.1)\n",
      "Requirement already satisfied: fsspec>=2023.5.0 in ./.venv/lib/python3.9/site-packages (from huggingface-hub>=0.15.1->sentence-transformers>=0.4.1->bertopic) (2023.10.0)\n",
      "Requirement already satisfied: requests in ./.venv/lib/python3.9/site-packages (from huggingface-hub>=0.15.1->sentence-transformers>=0.4.1->bertopic) (2.31.0)\n",
      "Requirement already satisfied: pyyaml>=5.1 in ./.venv/lib/python3.9/site-packages (from huggingface-hub>=0.15.1->sentence-transformers>=0.4.1->bertopic) (6.0.1)\n",
      "Requirement already satisfied: typing-extensions>=3.7.4.3 in ./.venv/lib/python3.9/site-packages (from huggingface-hub>=0.15.1->sentence-transformers>=0.4.1->bertopic) (4.10.0)\n",
      "Requirement already satisfied: llvmlite<0.43,>=0.42.0dev0 in ./.venv/lib/python3.9/site-packages (from numba>=0.51.2->umap-learn>=0.5.0->bertopic) (0.42.0)\n",
      "Requirement already satisfied: six>=1.5 in ./.venv/lib/python3.9/site-packages (from python-dateutil>=2.8.2->pandas>=1.1.5->bertopic) (1.16.0)\n",
      "Requirement already satisfied: sympy in ./.venv/lib/python3.9/site-packages (from torch>=1.11.0->sentence-transformers>=0.4.1->bertopic) (1.12)\n",
      "Requirement already satisfied: networkx in ./.venv/lib/python3.9/site-packages (from torch>=1.11.0->sentence-transformers>=0.4.1->bertopic) (3.2.1)\n",
      "Requirement already satisfied: jinja2 in ./.venv/lib/python3.9/site-packages (from torch>=1.11.0->sentence-transformers>=0.4.1->bertopic) (3.1.3)\n",
      "Requirement already satisfied: regex!=2019.12.17 in ./.venv/lib/python3.9/site-packages (from transformers<5.0.0,>=4.32.0->sentence-transformers>=0.4.1->bertopic) (2023.12.25)\n",
      "Requirement already satisfied: tokenizers<0.19,>=0.14 in ./.venv/lib/python3.9/site-packages (from transformers<5.0.0,>=4.32.0->sentence-transformers>=0.4.1->bertopic) (0.15.2)\n",
      "Requirement already satisfied: safetensors>=0.4.1 in ./.venv/lib/python3.9/site-packages (from transformers<5.0.0,>=4.32.0->sentence-transformers>=0.4.1->bertopic) (0.4.2)\n",
      "Requirement already satisfied: MarkupSafe>=2.0 in ./.venv/lib/python3.9/site-packages (from jinja2->torch>=1.11.0->sentence-transformers>=0.4.1->bertopic) (2.1.5)\n",
      "Requirement already satisfied: charset-normalizer<4,>=2 in ./.venv/lib/python3.9/site-packages (from requests->huggingface-hub>=0.15.1->sentence-transformers>=0.4.1->bertopic) (3.3.2)\n",
      "Requirement already satisfied: idna<4,>=2.5 in ./.venv/lib/python3.9/site-packages (from requests->huggingface-hub>=0.15.1->sentence-transformers>=0.4.1->bertopic) (3.6)\n",
      "Requirement already satisfied: urllib3<3,>=1.21.1 in ./.venv/lib/python3.9/site-packages (from requests->huggingface-hub>=0.15.1->sentence-transformers>=0.4.1->bertopic) (2.2.1)\n",
      "Requirement already satisfied: certifi>=2017.4.17 in ./.venv/lib/python3.9/site-packages (from requests->huggingface-hub>=0.15.1->sentence-transformers>=0.4.1->bertopic) (2024.2.2)\n",
      "Requirement already satisfied: mpmath>=0.19 in ./.venv/lib/python3.9/site-packages (from sympy->torch>=1.11.0->sentence-transformers>=0.4.1->bertopic) (1.3.0)\n",
      "Requirement already satisfied: langchain in ./.venv/lib/python3.9/site-packages (0.1.9)\n",
      "Requirement already satisfied: PyYAML>=5.3 in ./.venv/lib/python3.9/site-packages (from langchain) (6.0.1)\n",
      "Requirement already satisfied: SQLAlchemy<3,>=1.4 in ./.venv/lib/python3.9/site-packages (from langchain) (2.0.27)\n",
      "Requirement already satisfied: aiohttp<4.0.0,>=3.8.3 in ./.venv/lib/python3.9/site-packages (from langchain) (3.9.3)\n",
      "Requirement already satisfied: async-timeout<5.0.0,>=4.0.0 in ./.venv/lib/python3.9/site-packages (from langchain) (4.0.3)\n",
      "Requirement already satisfied: dataclasses-json<0.7,>=0.5.7 in ./.venv/lib/python3.9/site-packages (from langchain) (0.6.4)\n",
      "Requirement already satisfied: jsonpatch<2.0,>=1.33 in ./.venv/lib/python3.9/site-packages (from langchain) (1.33)\n",
      "Requirement already satisfied: langchain-community<0.1,>=0.0.21 in ./.venv/lib/python3.9/site-packages (from langchain) (0.0.24)\n",
      "Requirement already satisfied: langchain-core<0.2,>=0.1.26 in ./.venv/lib/python3.9/site-packages (from langchain) (0.1.27)\n",
      "Requirement already satisfied: langsmith<0.2.0,>=0.1.0 in ./.venv/lib/python3.9/site-packages (from langchain) (0.1.10)\n",
      "Requirement already satisfied: numpy<2,>=1 in ./.venv/lib/python3.9/site-packages (from langchain) (1.26.4)\n",
      "Requirement already satisfied: pydantic<3,>=1 in ./.venv/lib/python3.9/site-packages (from langchain) (2.6.2)\n",
      "Requirement already satisfied: requests<3,>=2 in ./.venv/lib/python3.9/site-packages (from langchain) (2.31.0)\n",
      "Requirement already satisfied: tenacity<9.0.0,>=8.1.0 in ./.venv/lib/python3.9/site-packages (from langchain) (8.2.3)\n",
      "Requirement already satisfied: aiosignal>=1.1.2 in ./.venv/lib/python3.9/site-packages (from aiohttp<4.0.0,>=3.8.3->langchain) (1.3.1)\n",
      "Requirement already satisfied: attrs>=17.3.0 in ./.venv/lib/python3.9/site-packages (from aiohttp<4.0.0,>=3.8.3->langchain) (23.2.0)\n",
      "Requirement already satisfied: frozenlist>=1.1.1 in ./.venv/lib/python3.9/site-packages (from aiohttp<4.0.0,>=3.8.3->langchain) (1.4.1)\n",
      "Requirement already satisfied: multidict<7.0,>=4.5 in ./.venv/lib/python3.9/site-packages (from aiohttp<4.0.0,>=3.8.3->langchain) (6.0.5)\n",
      "Requirement already satisfied: yarl<2.0,>=1.0 in ./.venv/lib/python3.9/site-packages (from aiohttp<4.0.0,>=3.8.3->langchain) (1.9.4)\n",
      "Requirement already satisfied: marshmallow<4.0.0,>=3.18.0 in ./.venv/lib/python3.9/site-packages (from dataclasses-json<0.7,>=0.5.7->langchain) (3.21.0)\n",
      "Requirement already satisfied: typing-inspect<1,>=0.4.0 in ./.venv/lib/python3.9/site-packages (from dataclasses-json<0.7,>=0.5.7->langchain) (0.9.0)\n",
      "Requirement already satisfied: jsonpointer>=1.9 in ./.venv/lib/python3.9/site-packages (from jsonpatch<2.0,>=1.33->langchain) (2.4)\n",
      "Requirement already satisfied: anyio<5,>=3 in ./.venv/lib/python3.9/site-packages (from langchain-core<0.2,>=0.1.26->langchain) (4.3.0)\n",
      "Requirement already satisfied: packaging<24.0,>=23.2 in ./.venv/lib/python3.9/site-packages (from langchain-core<0.2,>=0.1.26->langchain) (23.2)\n",
      "Requirement already satisfied: orjson<4.0.0,>=3.9.14 in ./.venv/lib/python3.9/site-packages (from langsmith<0.2.0,>=0.1.0->langchain) (3.9.15)\n",
      "Requirement already satisfied: annotated-types>=0.4.0 in ./.venv/lib/python3.9/site-packages (from pydantic<3,>=1->langchain) (0.6.0)\n",
      "Requirement already satisfied: pydantic-core==2.16.3 in ./.venv/lib/python3.9/site-packages (from pydantic<3,>=1->langchain) (2.16.3)\n",
      "Requirement already satisfied: typing-extensions>=4.6.1 in ./.venv/lib/python3.9/site-packages (from pydantic<3,>=1->langchain) (4.10.0)\n",
      "Requirement already satisfied: charset-normalizer<4,>=2 in ./.venv/lib/python3.9/site-packages (from requests<3,>=2->langchain) (3.3.2)\n",
      "Requirement already satisfied: idna<4,>=2.5 in ./.venv/lib/python3.9/site-packages (from requests<3,>=2->langchain) (3.6)\n",
      "Requirement already satisfied: urllib3<3,>=1.21.1 in ./.venv/lib/python3.9/site-packages (from requests<3,>=2->langchain) (2.2.1)\n",
      "Requirement already satisfied: certifi>=2017.4.17 in ./.venv/lib/python3.9/site-packages (from requests<3,>=2->langchain) (2024.2.2)\n",
      "Requirement already satisfied: sniffio>=1.1 in ./.venv/lib/python3.9/site-packages (from anyio<5,>=3->langchain-core<0.2,>=0.1.26->langchain) (1.3.1)\n",
      "Requirement already satisfied: exceptiongroup>=1.0.2 in ./.venv/lib/python3.9/site-packages (from anyio<5,>=3->langchain-core<0.2,>=0.1.26->langchain) (1.2.0)\n",
      "Requirement already satisfied: mypy-extensions>=0.3.0 in ./.venv/lib/python3.9/site-packages (from typing-inspect<1,>=0.4.0->dataclasses-json<0.7,>=0.5.7->langchain) (1.0.0)\n",
      "Requirement already satisfied: ctransformers in ./.venv/lib/python3.9/site-packages (0.2.27)\n",
      "Requirement already satisfied: huggingface-hub in ./.venv/lib/python3.9/site-packages (from ctransformers) (0.20.3)\n",
      "Requirement already satisfied: py-cpuinfo<10.0.0,>=9.0.0 in ./.venv/lib/python3.9/site-packages (from ctransformers) (9.0.0)\n",
      "Requirement already satisfied: filelock in ./.venv/lib/python3.9/site-packages (from huggingface-hub->ctransformers) (3.13.1)\n",
      "Requirement already satisfied: fsspec>=2023.5.0 in ./.venv/lib/python3.9/site-packages (from huggingface-hub->ctransformers) (2023.10.0)\n",
      "Requirement already satisfied: requests in ./.venv/lib/python3.9/site-packages (from huggingface-hub->ctransformers) (2.31.0)\n",
      "Requirement already satisfied: tqdm>=4.42.1 in ./.venv/lib/python3.9/site-packages (from huggingface-hub->ctransformers) (4.66.2)\n",
      "Requirement already satisfied: pyyaml>=5.1 in ./.venv/lib/python3.9/site-packages (from huggingface-hub->ctransformers) (6.0.1)\n",
      "Requirement already satisfied: typing-extensions>=3.7.4.3 in ./.venv/lib/python3.9/site-packages (from huggingface-hub->ctransformers) (4.10.0)\n",
      "Requirement already satisfied: packaging>=20.9 in ./.venv/lib/python3.9/site-packages (from huggingface-hub->ctransformers) (23.2)\n",
      "Requirement already satisfied: charset-normalizer<4,>=2 in ./.venv/lib/python3.9/site-packages (from requests->huggingface-hub->ctransformers) (3.3.2)\n",
      "Requirement already satisfied: idna<4,>=2.5 in ./.venv/lib/python3.9/site-packages (from requests->huggingface-hub->ctransformers) (3.6)\n",
      "Requirement already satisfied: urllib3<3,>=1.21.1 in ./.venv/lib/python3.9/site-packages (from requests->huggingface-hub->ctransformers) (2.2.1)\n",
      "Requirement already satisfied: certifi>=2017.4.17 in ./.venv/lib/python3.9/site-packages (from requests->huggingface-hub->ctransformers) (2024.2.2)\n",
      "Requirement already satisfied: nltk in ./.venv/lib/python3.9/site-packages (3.8.1)\n",
      "Requirement already satisfied: click in ./.venv/lib/python3.9/site-packages (from nltk) (8.1.7)\n",
      "Requirement already satisfied: joblib in ./.venv/lib/python3.9/site-packages (from nltk) (1.3.2)\n",
      "Requirement already satisfied: regex>=2021.8.3 in ./.venv/lib/python3.9/site-packages (from nltk) (2023.12.25)\n",
      "Requirement already satisfied: tqdm in ./.venv/lib/python3.9/site-packages (from nltk) (4.66.2)\n",
      "Requirement already satisfied: sentencepiece in ./.venv/lib/python3.9/site-packages (0.2.0)\n"
     ]
    }
   ],
   "source": [
    "!pip install datasets\n",
    "!pip install bertopic\n",
    "!pip install langchain\n",
    "!pip install ctransformers\n",
    "!pip install nltk\n",
    "!pip install sentencepiece"
   ]
  },
  {
   "cell_type": "markdown",
   "metadata": {},
   "source": [
    "## Topic Modeling with Wiki-Dataset\n",
    "\n",
    "# Goals\n",
    "- Match each description to its list of topics \n",
    "- Clean up list of topics to remove hallucinations\n",
    "  - Use Vicuna and/or Mistral-Instruct\n",
    "  - Can mess with top_k \n",
    "  - Can mess with temperature=0 to ask gpt to perform cleaning\n",
    "- Clean Up Method #2\n",
    "  - Find most common tags\n",
    "  - For outlier tags send it to a model to see if the list of most common tags correlates to the provided tag\n",
    "    - Need to find a method to distinguish between bad and good outlier "
   ]
  },
  {
   "cell_type": "code",
   "execution_count": 4,
   "metadata": {},
   "outputs": [],
   "source": [
    "from datasets import load_dataset\n",
    "from bertopic import BERTopic \n",
    "from langchain.prompts import PromptTemplate\n",
    "from langchain.llms import CTransformers #use a better method \n",
    "\n",
    "from sklearn.feature_extraction.text import CountVectorizer"
   ]
  },
  {
   "cell_type": "markdown",
   "metadata": {},
   "source": [
    "DatasetDict({\n",
    "    train: Dataset({\n",
    "        features: ['article_text', 'topic'],\n",
    "        num_rows: 22463\n",
    "    })\n",
    "})"
   ]
  },
  {
   "cell_type": "code",
   "execution_count": 5,
   "metadata": {},
   "outputs": [
    {
     "data": {
      "text/plain": [
       "Dataset({\n",
       "    features: ['article_text', 'topic'],\n",
       "    num_rows: 22463\n",
       "})"
      ]
     },
     "execution_count": 5,
     "metadata": {},
     "output_type": "execute_result"
    }
   ],
   "source": [
    "#load in dataset\n",
    "dataset = load_dataset(\"valurank/Topic_Classification\", split='train')\n",
    "dataset"
   ]
  },
  {
   "cell_type": "code",
   "execution_count": 6,
   "metadata": {},
   "outputs": [
    {
     "data": {
      "text/plain": [
       "['NEWYou can now listen to Fox News articles! The Mercedes-Benz S-Class has always been a special car.Before it started using that name in 1972, brand’s top model was known as the Sonderklasse, which is German for \"Special Class,\" denoting its position as the flagship of the fleet.It’s been used as a showcase for the latest technologies including new engines, airbags, anti-lock brakes and traction control, and the newest \"S\" follows in that tradition.Not the redesigned S-Class that launched last year, but the EQS sedan that’s now in showrooms and is Mercedes-Benz’s first purpose-built electric car. The EQS is the first purpose-built electric car from Mercedes-Benz (Mercedes-Benz)The automaker has made other electric vehicles, but on platforms shared with internal combustion engine models. The EQS is the first built on a dedicated EV chassis that will spawn other lines in the years to come.The EQS starts at $103,360, and no one would call that cheap, but it is around $9,000 less than the lowest-priced S-Class, and that’s before factoring in the $7,500 federal tax credit it qualifies for. An annual estimated fuel savings of $2,700 for a typical driver just keeps racking up the savings. You\\'ve got to have money to make money, as they say. The EQS starts at $103,360. (Mercedes-Benz)The two cars are similar in size, which is enormous, but the EQS has an entirely different look. It features a ‘cab-forward\" design with a low sleek nose that flows into the windshield and over the roof to a hatchback rear end. The somewhat aquatic shape gives the EQS the lowest drag coefficient of any vehicle on sale today.Aerodynamic efficiency is particularly important for electric cars as they need to stretch their electrons as far as they will go, due to how long it takes to recharge, even at the most powerful public stations. The EQS is a four-door hatchback. (Mercedes-Benz)The EQS does do it quicker than many and can charge its 107-kilowatt-hour battery from 10% to 80% in as few as 31 minutes. All fast chargers slow down above 80% to avoid stressing the batteries too much, which can reduce their lifespan. A full charge on a 240-volt charger, like those used at home, is an 11-hour affair.Filled to the brim, the entry-level 329 hp rear-wheel-drive EQS 450+ has an EPA rated range of 350 miles, while the 516 hp all-wheel-drive EQS 580 4Matic can make it 340 miles between charging stops at the equivalent of 95 mpg. My real-world test of the EQS 580 4Matic suggested the figures are fairly accurate, and anything above 300 miles per charge reduces \"range anxiety\" significantly.CLICK HERE FOR MORE FOX NEWS CAR REVIEWSThe EQS comes standard with an adaptive air suspension that gives it an almost eerily smooth ride on rough city streets plus a four-wheel-steering system that can turn the rear wheels up to 10 degrees in the opposite direction as the fronts at low speeds. This effectively \"shrinks\" the car by allowing it to make turns as tightly as a compact Mercedes-Benz A-Class. On the highway, the lane-centering radar cruise control locks the vehicle within the middle of the lines, but requires you to keep a hand touching the wheel. The EQS is equipped with four-wheel steering. (Fox News Autos)Despite its three-ton weight, the EQS 450+ can accelerate to 60 mph in six seconds and the EQS 580 4Matic needs just four. Holes in traffic are instantly filled when you hit the accelerator, which is accompanied by a choice of two computer-generated motor noises. One sounds more like a combustion engine, the other like a spaceship. Such enhancements are often unconvincing and annoying in many electric cars, but I never felt the need to look for an \"off\" button in the EQS. That’s good, because there isn’t one. The Hyperscreen covers three digital displays. (Mercedes-Benz)The EQS also debuts Mercedes-Benz’s new Hyperscreen instrument panel. It’s a door-to-door single pane of glass that covers three digital displays. There’s the gauge cluster, a central touchscreen infotainment system and a secondary screen in front of the passenger that allows them to control several functions without having to reach all the way over to the middle of the dashboard.HERE\\'S WHY A MERCEDES-BENZ SOLD FOR A RECORD $143 MILLIONIt is a stretch as the EQS is as spacious as a concert hall. All outboard passengers are provided with heated and cooled reclining seats and there\\'s a removable tablet in the fold-down rear center armrest that can be used to adjust the temperature, volume and do a couple of other things. The EQS is as spacious as an S-Class. (Mercedes-Benz)The Hyperscreen generally works pretty well, but it and the other touch-sensitive controls on the front armrest and steering wheel are occasionally finicky to operate. The interior is also dressed in miles of LED strips and ambient lights that can be adjusted to any color or set to cycle through all of them, putting on a show worthy of an EDM festival, especially when the 15-speaker Burmeister surround sound audio system is cranked up.Mercedes-Benz really went out of its way to make the EQS feel like the future and succeeded in creating a dazzling alternative to the sportier, but smaller Tesla Model S. You probably can’t afford one, but if history is any guide, a lot of what it has to offer will find its way into more affordable vehicles in the coming years.CLICK HERE TO GET THE FOX NEWS APPIn the meantime, considering the aggressive price point compared to the S-Class, and the fact that many of those are used as limousines and never stray too far from home, I think you can expect to see a lot of people who can afford it cruising around your downtown financial and nightlife districts in the EQS sooner than that.----------2022 Mercedes-Benz EQSBase price: $103,360Type: 5-passenger, 4-door, all-wheel-drive hatchbackDrivetrain: Dual electric motorsPower: 516 hp/631 lb-ftTransmission: single-speed automaticMPGe: 95 combined Gary Gastelu is FoxNews.com\\'s Automotive Editor covering the car industry and racing @foxnewsautos',\n",
       " \"A second Love Island star has already exited the villa in a savage recoupling twist. It follows on from Liam Llewellyn's exit from the ITV2 show earlier this weekA second Love Island star has already exited the villa in a savage recoupling twist. It follows on from Liam Llewellyn's exit from the ITV2 show earlier this week Another Love Island star has already left the villa in a huge recoupling twist. It has been reported that one more contestant has said goodbye to the ITV2 show, with the dramatic exit reportedly set to air on Tuesday night's show. It comes hot off the heels of Liam Llewellyn's exit from the programme after he decided he just wasn't able to be himself during his time in the Majorcan villa. We'll be bringing you the latest updates on this breaking showbiz news story. Please check back regularly for updates on this developing story HERE . Get email updates on the day’s biggest stories straight to your inbox by signing up for our newsletters . Get all the big headlines, pictures, analysis, opinion and video on the stories that matter to you by following The Mirror every time you see our name. Follow The Mirror on Google News - CLICK HERE and click the star Follow The Mirror on Apple News - CLICK HERE available on Apple devices Follow The Mirror on Flipboard - CLICK HERE and click follow You can sign up for Twitter alerts for breaking news here @MirrorBreaking_ and follow us @MirrorCeleb for all the latest updates. Keep up-to-date with your must-see news, features, videos and pictures throughout the day by following us on Facebook at facebook.com/MirrorCeleb See all our social accounts you can follow here: mirror.co.uk/social\",\n",
       " 'Lord Lloyd-Webber received boos on the closing night of his West End production of Cinderella as audience members responded to a letter read out on his behalf.Lloyd-Webber did not attend the final performance at the Gillian Lynne Theatre on Sunday evening, but sent a message in which he described the production as “a costly mistake”.The composer’s letter was read to the audience by Laurence Connor, director of the show, which ran for less than a year.“I am hugely sorry not to be able to be with you today, but I want to thank everyone from our fabulous cast, crew and musicians, the superb creative team, Laurence,” Lloyd-Webber said in the letter. “I keep thinking if only we had opened three months later,',\n",
       " 'Ozzy Osbourne, 73, to undergo major surgery that could \\'determine the rest of his life\\', says wife Sharon as she jets to Los Angeles to be by his sideOzzy was last publicly seen in May with the frail singer leaning on a cane as he walked The rocker has Parkinson\\'s disease and previously suffered a nasty fall and dislodged metal rods placed in his spine following a quad-bike accident in 2003 Ozzy previously opened up about his Parkinson’s diagnosis in a candid interview on US TV, in which he admitted the condition is \\'just another thing on my plate\\'He said: \\'Well the one question from me was, \"Is it a terminal illness?\", and the guy says, \"No, but life is\" Published: 19:10 EDT, 12 June 2022 | Updated: 08:25 EDT, 13 June 2022 Ozzy Osbourne is having major surgery on Monday, which will \\'determine the rest of his life\\'.The Dreamer hitmaker\\'s wife Sharon revealed her plans to head back to Los Angeles from London to be there for her spouse as he undergoes the life-changing operation. The 73-year-old rocker, who was diagnosed with Parkinson\\'s disease in 2019, was last publicly seen in May - with the frail singer leaning on a cane as he walked.Speaking on the UK\\'s The Talk on TalkTV, Sharon said: \\'[Ozzy] has a very major operation on Monday, and I have to be there. Medical attention: Ozzy Osbourne, 73, is having major surgery on Monday, which will \\'determine the rest of his life\\' (pictured May 2022)\\'It’s really going to determine the rest of his life.\\'MailOnline has contacted a representative for Ozzy for comment. During her show Sharon, 69, added that the star still had plenty to look forward to after his operation as their son Jack’s baby daughter with fiancée Aree Gearheart is due ‘in about three weeks’.Meanwhile, the music manager and Ozzy will be celebrating their 40th wedding anniversary on July 1.  Couple: The Dreamer hitmaker\\'s wife Sharon has revealed she is heading back to Los Angeles from London to be there for her spouse as he undergoes the life-changing operation next week (pictured January 2020) Honest: Speaking on the UK\\'s The Talk on TalkTV, she said: \\'[Ozzy] has a very major operation on Monday, and I have to be there\\' Ozzy revealed in January 2020 that he had been diagnosed with Parkin 2 - a form of Parkinson\\'s which he said is the cause of nerve pain and leaves his legs cold. The No More Tears hitmaker\\'s operation comes after the musician previously suffered a nasty fall and dislodged metal rods placed in his spine following a quad-bike accident in 2003.However, it was already known that he was due to undergo one more surgery. In April, Piers Morgan asked pal Sharon on Piers Morgan Uncensored on TalkTV: \\'How is Ozzy, my great man? Born to perform: Ozzy, pictured here on stage with Black Sabbath in 1978, was fired from the band in 1979 due to alcohol and drug problems Making music: Ozzy went on to have a successful solo career, releasing 12 studio albums, and has since reunited with Black Sabbath on numerous occasions (pictured 2010)\\'He is just one of my favourite people in the world. Been through the health wars a bit, how’s he doing?\\' PARKINSON\\'S: THE INCURABLE NERVE DISEASE THAT AFFECTS MILLIONS Parkinson’s disease affects one million Americans a year. It causes muscle stiffness, slowness of movement, tremors, sleep disturbance, chronic fatigue, an impaired quality of life and can lead to severe disability.It is a progressive neurological condition that destroys cells in the part of the brain that controls movement.Sufferers are known to have diminished supplies of dopamine because nerve cells that make it have died.There is currently no cure and no way of stopping the progression of the disease, but hundreds of scientific trials are underway to try and change that. In the US, physicians consider it largely one type of condition with various stages; young onset Parkinson\\'s or atypical Parkinson\\'s. In Europe, some doctors and researchers specify different types of the condition. Treatment is mostly made up of medication. In some cases, doctors perform Deep Brain Stimulation surgery to try to hit the nerves more directly.   Sharon said the Black Sabbath rocker is keen to move back to England after his latest surgery.She replied: \\'He’s doing okay, he sends you his love. He’s got one more operation left to do and then he’s dying to come back home.\\'Sharon\\'s Ozzy health update comes after it was reported that they\\'ve applied for permission to build a rehab wing at their home in the UK.The Crazy Train hitmaker lodged an application requesting the green light for renovations at his Buckinghamshire mansion.The extension will feature a self-contained nurse’s flat as well as \\'discreet grab rails and aids\\' and \\'an abundance of stopping and sitting spaces\\'.The plans also include a \\'health and exercise studio\\' as well as a \\'pool house orangery\\' and \\'garden room\\'.Architect Lynne Walker wrote in the plans: \\'It is the ambition that the design creates a transition of flowing inside outside garden spaces, largely lit by natural light with folding doors opening up views.\\'A spokesperson for the Paranoid hitmaker has yet to comment on the renovation reports, but confirmed Ozzy - who was badly injured following his fall at home three years ago - is gearing up for another surgery on his \\'back or neck\\'.Sharon recently admitted she now has to care for Ozzy \\'a lot\\' because of his health issues.She said: \\'It’s very difficult, because the combination of the Parkinson’s and his accident, you go, well, which one is this? Why’s this happening? Why’s that happening?\\'Ozzy previously opened up about his Parkinson’s diagnosis in a candid interview on US TV, in which he admitted the condition is \\'just another thing on my plate\\'.He said: \\'Well the one question from me was, \"Is it a terminal illness?\", and the guy says, \"No, but life is\".\\'It’s just another thing on my plate I have got to deal with. I’m not in the slightest worried about it. I’ve not got any secrets. The initial shock is I’ve got Parkinson’s.\\'Nobody knows what the f*** it is. I didn’t know anything about it apart from the name.\\'Ozzy was previously diagnosed with Parkin Syndrome in 2005. It has similar symptoms to Parkinson\\'s. Making changes: Sharon, 69, said the Black Sabbath rocker is keen to move back to England after his latest surgery (pictured with daughter Kelly in January 2020) Advertisement',\n",
       " 'NEWYou can now listen to Fox News articles! Joe Maddon reportedly had an idea to ease the tension in the Los Angeles Angels’ dugout amid the team’s 12-game losing streak – change up his hairstyle.Maddon was going to show up last Tuesday with a mohawk in hopes of sparking the team’s turnaround, ESPN reported Sunday. But he was fired before he could show it off.CLICK HERE FOR MORE SPORTS COVERAGE ON FOXNEWS.COM Joe Maddon of the Los Angeles Angels reacts during the fifth inning against the Phillies at Citizens Bank Park on June 5, 2022, in Philadelphia. (Tim Nwachukwu/Getty Images)\"After consecutive loss number 12, Maddon got a mohawk haircut to try to awaken his team,\" ESPN’s Tim Kurkjian said during the \"Sunday Night Baseball\" telecast. \"But the players never saw it, he was fired.\"Angels general manager Perry Minasian recommended making the move to team owner Arte Moreno and then drove to Maddon’s home to deliver the news. Los Angeles third base coach Phil Nevin was named the interim manager. Joe Maddon of the Los Angeles Angels watches during the Texas Rangers game at Globe Life Field on May 16, 2022, in Arlington, Texas. (Richard Rodriguez/Getty Images)YANKEES\\' KYLE HIGASHIOKA TEES OFF ON 35 MPH PITCH, NEW YORK RAILROADS CUBS\"Looking at the last couple of days is really when I started thinking about making a change. And I’m trying not to make emotional decisions. I’ll be honest, I’ve been emotional the past couple of days. There have been some really tough losses,\" Minasian said.Los Angeles was on a 14-game losing streak before snapping it against the Boston Red Sox Thursday. The team also defeated the New York Mets on Saturday. Los Angeles Angels manager Joe Maddon during batting practice prior to the Phillies game on June 5, 2022, at Citizens Bank Park in Philadelphia. (Rich Graessle/Icon Sportswire via Getty Images)CLICK HERE TO GET THE FOX NEWS APPMaddon was 157-172 in more than two seasons with the Angels. He was fired in 2020 after five seasons with the Chicago Cubs, which included a World Series title.The Associated Press contributed to this report. Ryan Gaydos is the sports editor for Fox News and Fox Business. Story tips can be sent to Ryan.Gaydos@fox.com.',\n",
       " 'Double Take: Is there something to be learned from this latest dip into the stretched-thin world of IP, \"tennis ball tension,\" and \"Spielberg porn\"? This past weekend saw the release of Colin Trevorrow’s final chapter in the “Jurassic World” trilogy. While the film earned nearly $150 million at the domestic box office this weekend, reviews weren’t kind (including IndieWire’s own) and the film currently sits at a dismal 30 percent on Rotten Tomatoes (the lowest of any film in this trilogy or the previous one). While the return of the original trilogy’s core trio delighted plenty of audience members, fans and critics alike balked at the film’s convoluted story, its resistance to digging into more dino-centric action, and a truly bizarre choice to make some other creepy animal its main baddie. \\nBoth IndieWire executive editor and VP of editorial strategy Eric Kohn and executive editor, film Kate Erbland emerged from the latest jaunt to the underworld of dino DNA gone wild feeling increasingly worried about the current state of blockbusters. But is there something to be learned from this latest dip into the stretched-thin world of IP, “tennis ball tension,” and “Spielberg porn”? ERIC KOHN: There’s an excellent new movie in theaters that confronts difficult questions about what happens when humankind exploits technology to change the natural course of evolution. It’s called “Crimes of the Future,” and everyone should see it. And then there’s “Jurassic World: Dominion,” a movie that reduces those same questions to blockbuster putty of the worst kind.\\nI know we agree with the general consensus that “Dominion” is a dud, the worst entry in the second trilogy of a franchise that never came close to matching the appeal of the original “Jurassic Park.” Director Colin Trevorrow has assembled an ambitious ensemble of new and old faces to weave together nearly 30 years of dinosaur survival stories, the result is a mess of ridiculous plot twists and cheeky fan service with an overabundance of monster movie CGI.\\nThe failings of “Dominion” shouldn’t come as a surprise. All three entries of the “Jurassic World” trilogy swap awe for kitsch and make the original Steven Spielberg movie look downright subtle. To me, however, this outcome is also a historic inevitability for a few reasons. A decade ago, Trevorrow was among the notable Sundance breakouts catapulted the low-budget arena to the studios after a single well-received feature, the quirky Mark Duplass time travel comedy “Safety Not Guaranteed.”\\n“Jurassic World: Dominion”Universal Pictures\\nI have lambasted this tendency many times over the years, because most filmmakers aren’t Taika Waititi and don’t flourish creatively within the confines of the studio system. Trevorrow may not have flourished creatively anywhere, judging by his confounding “Jurassic World” follow-up “The Book of Henry,” and a parting with Lucasfilm over a gig to direct the third “Star Wars” movie. But “Safety Not Guaranteed” remains a sweet and innovative genre blend that in theory could have led to further original riffs on existing storytelling tropes. But that impulse was never going to blossom within the context of the “Jurassic World” franchise.\\nThough J.A. Bayona’s “Jurassic World: Fallen Kingdom” at least upped the ante for outrageous action sequences, overall, you could probably invent a more cohesive franchise cash-grab with magnetic poetry. Clones, bioweapons, theme parks, oh my! “Dominion” is overflowing with attempts to rejuvenate the ideas of the original, lacing it all together with obvious callbacks to Spielberg’s direction that reduce it to an algorithm.\\nAnd that includes the return of mighty dino-fighting trio Jeff Goldblum, Sam Neill, and of course Laura Dern, who would work wonders on a podcast together but here look as puzzled to be wandering around a cheap imitation of “Jurassic Park” as we are. Then again, Goldblum’s Dr. Ian Malcolm has cashed in on his fame that came out of the first “Jurassic Park” fiasco, which is probably on-target self-criticism by this movie even if it wasn’t intended this way.\\nLet’s find a constructive way through this. What’s your take on the failings of “Dominion”? Has the writing been on the compound walls all this time or were you expecting better?\\nKATE ERBLAND: More than anything, I walked away from “Jurassic World: Dominion” feeling depressed. I’m an infamously enthusiastic movie-goer, just as excited about the possibilities of a new Marvel joint or the latest film from Jane Campion, and while I’ve seen, understood, and acknowledged that bone-deep “is this what movies are now?” feeling that many other film fans have experienced through the past few years of the studio-sanctioned, spreadsheet-created, cookie-cutter franchise boom, I’ve never quite felt it so acutely.\\n“Jurassic World: Dominion” made me sad, because it’s stuffed to the brim with all the worst tendencies of blockbuster filmmaking: endless callbacks, dumb-bunny winks, moments that seem to hold specifically for an audience to cheer or at least sigh “I recognize that reference,” made all the worse by occasional good ideas and intermittently interesting questions.\\nI might have felt better about the entire thing if the whole movie was such a bomb, but again, there’s some good stuff here — when you see an animatronic dinosaur, your brain knows it, recognizes it as somehow “real,” delights in it! But the CGI? Call it tennis ball tension, because I am sick to death of watching massive set pieces in which you just know the stars are doing nothing but reacting to tennis balls on poles. Your brain knows that too, and mine is done with it (does it only hurt that “Top Gun: Maverick,” a genuinely great blockbuster also out now, eschews such tendencies? yes).\\n“Jurassic World: Dominion”Universal Pictures\\nBut that breach between the “real” and the “movie magic” feels even worse within the context of this franchise, which started with a film filled with genuine wonder. And while the subsequent films in the original franchise never, ever matched that joy and actual magic that Spielberg and company conjured up so expertly, I was hoping this new trilogy would somehow find its way back there. “Jurassic World” wasn’t horrible, but it was just retread, and despite all the big ideas it presented — and the possibility of turning wonder into terror — they’ve never been fully fleshed out in a way that screams, “this is a movie to see!” Also disheartening: Colin Trevorrow’s stance on not simply presenting a film in which dinosaurs — now free! — run roughshod on the human population does actually feel scientifically sound. I totally understand his viewpoint and logic. But none of that adds up to an entertaining film, or even a franchise, worthy of the “Jurassic” name.\\nOr, put more plainly: what do you think of the film’s real bad guys, THE GIANT LOCUSTS?!\\nKOHN: The locusts looked like goth grasshoppers. “Tennis ball tension” is a great term that should be taped to the walls of VFX studios everywhere, because it’s a reminder of the contradiction tied to this kind of technologically-based spectacle: The more you can spend to make something look real, the faker it gets. You can practically see the pixels sparkling in the sunlight when those giant bugs speed through Texas. Film scholar Tom Gunning coined the term “cinema of attractions” to describe the kind of movie that delights or thrills us more than it tries to tell a cohesive story, but that potential is squandered when we can see the cracks in the design.\\nThe only sequence that held mild intrigue for me was an action-packed showdown between most of the main cast and a giant dino that finds them climbing a ladder and teaming up to deter the attacks. There’s genuine choreography energized by a deft blend of camerawork and editing, even if it transforms Goldblum’s character into a macho action star out of nowhere. But so much of “Dominion” and its precedents hark back to Ian Malcolm’s ominous decree in the original about the people in charge being “so preoccupied with whether they could, they didn’t stop to think if they should.”\\n“Jurassic World: Dominion”Universal Pictures\\nLook, none of this is surprising to me. I have rolled my eyes through a lot of bad blockbusters over the years. They come and go with the cold efficiency of tax season: Painful in the moment but easy enough to forget when they aren’t staring you in the face. Anyone remember “Prince of Persia”? “The Mummy”? But “Dominion” frustrates because it arrives at a moment when the global film industry needs every type of movie that contributes to the broader ecosystem to thrive, and instead it provides a reminder of why the system keeps shooting itself in the foot.\\nI watched this movie in the midst of making my way through the latest season of “Stranger Things,” which reportedly cost $30 million per episode. You can see the money on the screen, but not the substance, which is stretched out like silly putty to feature length in almost every episode. As long as we’ve had cinema, we’ve had special effects, and the potential to amaze audiences with narratives built around them. But at some point, this potential was equated with costliness, and the ability to throw money at the screen mucks up any question — or concern — about what’s being put there in the first place. Fix it in post, or don’t fix it all…who cares! The whole enterprise of modern blockbuster filmmaking reeks of indifference. Georges Melies spent $10,000 francs on “A Trip to the Moon” in 1902 and we’re still talking about it 120 years later. I wouldn’t begin to predict what sort of moving image experience we’ll be talking about in 2142, but I reckon it won’t be “Jurassic World: Dominion.”\\nERBLAND: Jeez, I hope it won’t be! As you mention, the timing on this is maybe the worst part, because yes, the global box office needs every hit it can find, and I am doubting that “Dominion” will follow in the steps of (again!) my current favorite, “Top Gun: Maverick,” and keep a happy and healthy second-week audience. People need to be reminded of the magic of the movies, but this film only reminded me of the facetiousness of them. I’m all for spectacle and whiz-bang, but that’s in short supply here, all whiz, no bang.\\n“Jurassic Park”\\nPart of that might be due to the last couple of years of in-home viewing, during which I’ve caught way back up on some of the wacky hits of the ‘80s and ‘90s, where CGI wasn’t de rigeur and real stunts reigned. My eyes changed, or maybe they just returned to the childlike wonder the movies used to inspire in me as but a tiny child. Whatever the case is, I’m tapped out on the fake stuff and, as so often happens in “Dominion,” when that’s paired with lacking emotion or coherency, I’m all the way done.\\nThere is still absolutely a place for large-scale movies at the multiplex, hell, that might be the only place for them right now, but that shouldn’t mean that Hollywood should keep making the mistakes of “Dominion” and its ilk. As we’ve learned with every subsequent “Jurassic” film, even the most well-meaning of creative exercises can forever change the equilibrium of the world, and not for the better.\\nA Universal Pictures release, “Jurassic World: Dominion” is now in theaters. Sign Up: Stay on top of the latest breaking film and TV news! Sign up for our Email Newsletters here.',\n",
       " 'By Steffan PowellGaming reporterPublished4 hours agocommentsCommentsImage source, BethesdaImage caption, Starfield will be released next year, although no exact release date has been announcedMore than 35 new experiences for the Xbox have been announced as Microsoft brought a busy period of console gaming news conferences to an end.Gameplay footage of Starfield, a space exploration game from the creators of Fallout and Skyrim, was finally shown.The game was announced in 2018 and its release recently delayed until 2023 - so this was the first time the public have been able to see it in action.Its developers have described it as \"Nasa meets Indiana Jones\".Players will be able to craft their own spaceships and explore over 1,000 planets in the game.Image source, MicrosoftImage caption, Minecraft Legends will be the next instalment in the hugely popular game seriesMicrosoft also revealed a new child-friendly action strategy game made by Swedish developer Mojang called Minecraft Legends.Sunday\\'s 90-minute showcase showcase focused only on titles that will be playable in the next 12 months - although no exact release date was given for Starfield or Minecraft Legends.The latter invites gamers to \"inspire their allies and lead them in strategy battles to save the Overworld\" following a Piglin invasion.Ok just a few more months to finish up every other game so I can dedicate my life to Starfield— Cadaea (@sophiekeen) June 12, 2022\\nThe BBC is not responsible for the content of external sites.View original tweet on TwitterMeanwhile, new strategic partnerships with developers like League of Legends creators Riot Games and Kojima Productions were also unveiled.It follows a similar virtual conference held earlier this month by Sony and the Summer Games Fest - an event that saw a variety of different game developers make announcements. In the gaming industry calendar, June has become the month where big announcements are often made. That is because they have historically tied in with the annual E3 games event. Although some companies have stopped taking part in E3 in recent years, and despite the convention\\'s cancellation this year, companies have still decided to make June the time to show off what they\\'re working on. In its 30-minute event earlier this month, Sony showcased unseen footage for forthcoming titles, banking on a string of well-established franchises to encourage gamers to buy consoles as availability of the PlayStation 5 improves.Street Fighter 6 is set to be playable in 2023, with legendary characters Ryu and Chun-Li taking centre stage for the next iteration of the fighting game franchise. Less clear is whether a new game mode based on exploration and character development will be as popular as the traditional button-bashing elements.Starfield looked better in concept form somehow. Just wasn\\'t blown away. Very choppy, ps3/xbox 360 Era facial animation. Looked like fallout in space.— oti (@Oti09280470) June 12, 2022\\nThe BBC is not responsible for the content of external sites.View original tweet on TwitterResident Evil 4, originally released in 2005, is the latest title form the horror franchise to be remade for modern devices. And the gameplay showcased in the trailer for Final Fantasy 16 showed a focus more on action set-pieces than the roleplaying elements that the franchise is famous for.Those titles won\\'t hit the shelves until 2023, which will frustrate some as there has been a criticism that the latest PlayStation console is still light on the number of games designed exclusively for its unique technology.Microsoft used its showcase to reveal footage from a variety of experiences - , to driving simulator Forza Motorsport, the latest in the realistic car racing series. Image source, MicrosoftImage caption, Forza Motorsport is due to be released next springBy announcing so many experiences in one night, Microsoft tried to tackle the traditional criticism labelled against its consoles - that there are not enough exclusive titles to play on Xbox machines.As well as a long list of new games, there were partnership announcements. A deal with Riot Games sees League of Legends content coming to Microsoft\\'s subscription game service Gamepass. Both companies will hope the deal introduces new gamers to their products.While there were no details of what legendary games designer Hideo Kojima is working on with Microsoft, to have struck a deal with someone so closely associated with Sony in the past is a coup for Xbox. As ever with big gaming conferences, there are always those disappointed by what was left out. Sony\\'s State of Play event didn\\'t include any more information about the sequel to 2018 smash hit God of War, which is due to be released this year. The lack of an update on the latest game in the Fable franchise of role-playing adventures was the elephant in room during the Xbox showcase. In 2020, Microsoft bought games studio Bethesda, the studio behind Starfield and the creators of some of the most popular games of all time.For the first time, the two companies shared the same platform, and the first title on display was Bethesda\\'s co-operative survival shooting game Redfall, which kicked off the event with frantic, fast-paced, first-person action gameplay.For Harvey Smith, studio director of its developer Arkane Austin, being part of an event where many games are showcased is \"exciting\", but there\\'s \"always a lot of pressure\".Redfall\\'s multiplayer vampire slaying is a metaphor for the world\\'s inequalities, he said. \"A tiny percentage of people in the world have all the power.\"In order to live like they live, they need others to be incredibly poor. They have drained the resources, the life and a joy from other people to accrue their wealth - so that they can live in the clouds. \"Vampires are always metaphors - it\\'s something that you choose to become. Because of the way that you want to live, it\\'s incredibly selfish, but that is super compelling to me.\"Like video games? Listen to Press X to Continue - the BBC Sounds gaming Podcast',\n",
       " 'SAN FRANCISCO — How do you become an elite rebounder when two of your teammates are among the NBA’s best shooters ever?\\nKevon Looney is showing how in these playoffs and now the NBA Finals.\\n“I’ve kind of got it down to a science,” Looney said ahead of Monday’s Game 5 against the Celtics.\\nThanks to years of up-close viewing when Steph Curry and Klay Thompson shoot, Looney’s learned how to position his body, use his strengths and anticipate how the ball might bounce his way. “It’s from getting used to where Steph’s going to shoot it from, where Klay’s going to shoot it from, and how their misses are going to come off (the rim),” Looney said. “It definitely comes from experience, just playing with them for such a long time, knowing what spots they like to get to.”\\nHow Curry and Thompson shoot likely will determine if the Warriors will win their fourth NBA championship. How Looney rebounds their misses — and those of the Celtics and other Warriors — is also greatly factoring into the equation.\\nLooney is coming off an 11-rebound effort in the Warriors’ Game 4 win Friday in Boston, where the series got even at 2-2.\\nHe came through with 18 rebounds in Game 5 of the Western Conference finals, when the Warriors finished off the Dallas Mavericks at Chase Center.\\nAnd he had 22 rebounds there when the Warriors eliminated the Memphis Grizzlies in Game 6 of the conference semis. Looney’s career ascent has been a hot topic, and he’s been arguably the best supporting actor in this playoff cast, where Curry remains the marquee headliner and Thompson the sentimental, comeback hero.\\nLooney’s 6-foot-9 frame has shown a propensity to anticipate where their shots and others might veer off the mark.\\n“They’re some of the greatest shooters ever, so they’re not going to have a lot of bad misses,” Looney said. “So it’s just knowing where their misses are going to go to, knowing when Steph is going to drive and shoot a step-back.\\n“You just learn from watching and playing with them. You get a great feel for how things are going to go. It helps me with offensive rebounds and knowing when I should attack.”\\nWhat’s it like to know when Curry is dead-on accurate, like his 43-point barrage in Friday’s Game 4 win at Boston?\\n“I know Steph’s going to make it so I don’t have to go (to the boards) some time,” Looney added. “A lot of times he gives you a hint, because he just turns around before it goes in. Usually when he does that, it goes in.”\\nLooney has played in every game on the schedule, a total of 102 that leads all NBA players this season.\\nKerr wouldn’t say if Looney will start or come off the bench for more grunt work Monday night.\\n“Part of this series for us, and part of the whole playoffs, frankly, has been trying to figure out rotations,” Kerr said. “We didn’t have our whole team together until Game 1 of the Denver series, and then Gary (Payton) got hurt. Andre (Iguodala) got hurt. So it feels like almost every series, we have had to search a little bit for combinations and for substitution patterns.”\\nThe Celtics are looking to go 8-0 following a loss in these playoffs.\\nLooney is expecting another physical battle in the paint.\\n“It’s physical down there,” Looney said. “I usually hit first. But a lot of times this series I’ve been getting hit first. They do a great job. Sometimes I’ve got the ball and the guards come in and dig it out. It’s been real physical.”\\n“… We are both great teams, and I think we both have been showing that all year, that whenever you lose or get punched in the mouth, we always come back and impose our will. We have to protect home court, and we know what they are built of and made of. We know they are not going to lay down.”\\nYou know what else Looney knows? Where the ball might go when it isn’t bouncing the Warriors’ way through the net in case Curry or Thompson, you know, miss.',\n",
       " '1.6 billion stars. 11.4 million galaxies. 158,000 asteroids. One spacecraft. The European Space Agency’s Gaia space observatory, which launched in 2013, has long surpassed its goal of charting more than a billion stars in the Milky Way (SN: 10/15/16). On June 13, the mission extended that map into new dimensions, releasing more detailed measurements of hundreds of millions of stars, plus — for the first time — asteroids, galaxies and the dusty medium between stars. Sign Up For the Latest from Science News Headlines and summaries of the latest Science News articles, delivered to your inbox “Suddenly you have a flood of data,” says Laurent Eyer, an astrophysicist at the University of Geneva who has worked on Gaia for years. For some topics in astronomy, the new results effectively replace all the observations that were taken before, Eyer says. “The data is better. It’s amazing.” Data in the new survey, which were collected from 2014 to 2017, are already leading to some discoveries — including the presence of surprisingly massive  “starquakes” on the surfaces of thousands of stars (SN: 8/2/19). But more than anything, the release is a new tool for astronomers, one that will aid their efforts to understand how stars, planets and entire galaxies form and evolve. Here are a few of the long-standing puzzles the data could help solve.  Asteroid mishmash The asteroid belt between Mars and Jupiter is a mess of history. After the Earth and other planets formed, the rocky building blocks that were left over smashed into each other, leaving behind jumbled fragments. But if scientists know enough about individual asteroids, they can reconstruct when and where they came from (SN: 4/13/19). And that can provide a peek into the solar system’s earliest days. Using new Gaia data, astronomers plotted the June 13, 2022, positions of 156,000 asteroids. The trails show their orbits for the last 10 days, and the colors mark different groups of asteroids based on their location (blue, inner solar system; green, the main asteroid belt between Mars and Jupiter; orange, the Trojan asteroids near Jupiter).DPAC/Gaia/ESA, CC BY-SA 3.0 IGO Gaia’s massive new dataset may help solve this puzzle, says Federica Spoto, an astrophysicist at the Harvard-Smithsonian Center for Astrophysics in Cambridge, Mass. It includes data on the chemical makeup of over 60,000 asteroids — six times more than researchers had such details on before using other tools. That information can be essential for tracing asteroids back to their shattering origins. “You can go back in time and try to understand all the formation and evolution of the solar system,” says Spoto, a Gaia collaborator. “That’s something huge that before Gaia we couldn’t even think about.”  Asteroids aren’t just pieces of the past, though; they’re also dangerous. The new data could reveal asteroids that are next to impossible to spot from Earth because they orbit too close to the sun, says Thomas Burbine, a planetary scientist at Mount Holyoke College in South Hadley, Mass., who is not involved with the mission (SN: 2/15/20). Since these asteroids would have originally come from farther out (say, the asteroid belt), they can tell us about the rocks going past Earth that can potentially hit us. “We’ll know our neighborhood better,” Burbine says. Dating a star It is notoriously difficult to measure the age of stars (SN: 7/23/21). “It’s not uncommon to have uncertainty of more than a billion years,” says Alessandro Savino, an astrophysicist at the University of California, Berkeley who is not involved with Gaia. Unlike brightness or location, age is not directly visible. Astronomers have to rely on theories of how stars evolve to predict ages from what they can measure. If past versions of the Gaia survey were like a photograph of stars, the new release is like shifting the photograph from black and white to color. It provides a deeper look at hundreds of millions of stars by measuring their temperature, gravity and chemistry. “You imagine the star as this point in space, but then they have so many properties,” Spoto says. “That’s what Gaia is giving you.” Although these kinds of measurements are far from new, they have never been collected in the Milky Way on such a scale before. Those data could provide more insight into how stars evolve. “We can improve the resolution of our clocks,” Savino says.  Milky Way snacks Though it may seem unchanging, the Milky Way is actually gorging on a steady diet of smaller galaxies —it’s even in the process of eating one right now. But for decades, predictions of when and how these cosmic mergers happen have been at odds with evidence from our galaxy, says Bertrand Goldman, an astrophysicist at the International Space University in Strasbourg, France, who is not involved in the Gaia data release.  “That has been controversial for a long time,” Goldman says, “but I think that Gaia will certainly shed light.” The key is to be able to pick apart different structures in the Milky Way and see how old they are (SN: 1/10/20). Gaia’s latest release helps in two ways: By mapping the chemistry of stars and by measuring their motion. Previous versions of the survey described how millions of stars were moving, but mostly in two dimensions. The new catalog quadruples the number of stars with full 3-D trajectories from 7 million to 33 million.  This has implications beyond our neighborhood. Most of the mass in the universe is contained in galaxies like the Milky Way, so knowing how our own galaxy works goes a long way to understanding space on the largest scales. And the more scientists understand the parts of galaxies they can see, the more they can learn about dark matter, the mysterious substance that exerts gravity but doesn’t interact with light (SN: 6/25/21). Even as astronomers mine this latest dataset, they are already looking ahead to future treasure hunts. The next round is years off, but it is expected to enable the discovery of thousands of exoplanets, produce rare measurements of black holes and help astronomers clock how fast the universe is expanding. In part, this is because Gaia is designed to track the motion of objects in space, and that gets easier as more time passes. So Gaia’s observations can only get more powerful. “Like good wine, they age very, very well,” Savino says.',\n",
       " 'NEWYou can now listen to Fox News articles! Los Angeles Angels star Mike Trout talked about the fantasy football \"confusion\" during ESPN’s broadcast Sunday night as his team was playing the New York Mets.Trout had been thrust into the middle of a controversy between Cincinnati Reds outfielder Tommy Pham and San Francisco Giants outfielder Joc Pederson. The two players got into a pregame altercation last month that ended with Pham slapping Pederson across the face.CLICK HERE FOR MORE SPORTS COVERAGE ON FOXNEWS.COM Los Angeles Angels designated hitter Mike Trout hits a run-scoring single against the New York Mets in Anaheim, California, Sunday, June 12, 2022. (AP Photo/Alex Gallardo)It was later revealed the incident was over an issue with fantasy football and Trout was the commissioner of their league. He was asked Sunday whether they were playing an ESPN league.\"I think that’s what we ran,\" Trout said. \"Yeah, I think that’s what we ran. I think that’s why there was some confusion. Because that website wasn’t… Ah, I can’t say that right now it’s an ESPN game.\"Trout appeared to save himself from going off on the ESPN fantasy game during the broadcast.The Angels star said Houston Astros third baseman Alex Bregman won his fantasy football league. He said there were 12 people in the league. Los Angeles Angels\\' Mike Trout celebrates with Shohei Ohtani after hitting a two-run homer against the New York Mets Saturday, June 11, 2022, in Anaheim, California. (AP Photo/Mark J. Terrill)WHITE SOX FANS CALL FOR TONY LA RUSSA\\'S FIRING DURING LOSS TO RANGERS\"I\\'ll tell ya right now, probably gettin\\' another commissioner,\" Trout said.Pederson said last month the slap from Pham was over fantasy football.\"He kinda came up and said, \\'You remember from last year?’ And I was like, ‘fantasy football?’ and he was like, ‘Yeah.’\" He added: \"We were in a fantasy league together. I put somebody – a player – on the injured reserve when they were listed as out and added another player. And then there was a text message in the group saying that I was cheating because I was stashing players on the bench.\" Tommy Pham of the Cincinnati Reds runs out an RBI single against the Guardians at Progressive Field on May 17, 2022, in Cleveland, Ohio. (Jason Miller/Getty Images)Pham said the slap was about more than just the fantasy games. He said Pederson texted him some \"disrespectful s---\" and he called him out on it.CLICK HERE TO GET THE FOX NEWS APPPham was suspended three games for the slapping incident.Fox News’ Paulina Dedaj contributed to this report. Ryan Gaydos is the sports editor for Fox News and Fox Business. Story tips can be sent to Ryan.Gaydos@fox.com.']"
      ]
     },
     "execution_count": 6,
     "metadata": {},
     "output_type": "execute_result"
    }
   ],
   "source": [
    "descriptions = dataset['article_text']\n",
    "descriptions[:10]"
   ]
  },
  {
   "cell_type": "markdown",
   "metadata": {},
   "source": [
    "#Attributes\n",
    "1. Use CountVectorizer to remove stop_words\n",
    "2. Used [Bert Mult-Label](https://maartengr.github.io/BERTopic/getting_started/distribution/distribution.html#example)"
   ]
  },
  {
   "cell_type": "code",
   "execution_count": 7,
   "metadata": {},
   "outputs": [],
   "source": [
    "topic_model = BERTopic(vectorizer_model=CountVectorizer(stop_words=\"english\"))"
   ]
  },
  {
   "cell_type": "code",
   "execution_count": 8,
   "metadata": {},
   "outputs": [
    {
     "data": {
      "text/plain": [
       "<bertopic._bertopic.BERTopic at 0x171e76970>"
      ]
     },
     "execution_count": 8,
     "metadata": {},
     "output_type": "execute_result"
    }
   ],
   "source": [
    "topic_model.fit(descriptions[:1000])"
   ]
  },
  {
   "cell_type": "code",
   "execution_count": 9,
   "metadata": {},
   "outputs": [
    {
     "data": {
      "text/html": [
       "<div>\n",
       "<style scoped>\n",
       "    .dataframe tbody tr th:only-of-type {\n",
       "        vertical-align: middle;\n",
       "    }\n",
       "\n",
       "    .dataframe tbody tr th {\n",
       "        vertical-align: top;\n",
       "    }\n",
       "\n",
       "    .dataframe thead th {\n",
       "        text-align: right;\n",
       "    }\n",
       "</style>\n",
       "<table border=\"1\" class=\"dataframe\">\n",
       "  <thead>\n",
       "    <tr style=\"text-align: right;\">\n",
       "      <th></th>\n",
       "      <th>Topic</th>\n",
       "      <th>Count</th>\n",
       "      <th>Name</th>\n",
       "      <th>Representation</th>\n",
       "      <th>Representative_Docs</th>\n",
       "    </tr>\n",
       "  </thead>\n",
       "  <tbody>\n",
       "    <tr>\n",
       "      <th>0</th>\n",
       "      <td>-1</td>\n",
       "      <td>123</td>\n",
       "      <td>-1_like_said_just_song</td>\n",
       "      <td>[like, said, just, song, people, im, time, mus...</td>\n",
       "      <td>[By Mark SavageBBC Music CorrespondentImage ca...</td>\n",
       "    </tr>\n",
       "    <tr>\n",
       "      <th>1</th>\n",
       "      <td>0</td>\n",
       "      <td>110</td>\n",
       "      <td>0_film_million_films_like</td>\n",
       "      <td>[film, million, films, like, barbie, movie, st...</td>\n",
       "      <td>[There’s finally been some movement on the liv...</td>\n",
       "    </tr>\n",
       "    <tr>\n",
       "      <th>2</th>\n",
       "      <td>1</td>\n",
       "      <td>88</td>\n",
       "      <td>1_england_cup_world_final</td>\n",
       "      <td>[england, cup, world, final, match, socceroos,...</td>\n",
       "      <td>[Socceroos coach Graham Arnold has called on P...</td>\n",
       "    </tr>\n",
       "    <tr>\n",
       "      <th>3</th>\n",
       "      <td>2</td>\n",
       "      <td>70</td>\n",
       "      <td>2_warriors_celtics_game_curry</td>\n",
       "      <td>[warriors, celtics, game, curry, nba, finals, ...</td>\n",
       "      <td>[After a resounding victory in Game 3 at TD Ga...</td>\n",
       "    </tr>\n",
       "    <tr>\n",
       "      <th>4</th>\n",
       "      <td>3</td>\n",
       "      <td>66</td>\n",
       "      <td>3_data_vehicles_crashes_systems</td>\n",
       "      <td>[data, vehicles, crashes, systems, stars, mars...</td>\n",
       "      <td>[A Tesla logo is seen in Los Angeles, Californ...</td>\n",
       "    </tr>\n",
       "    <tr>\n",
       "      <th>5</th>\n",
       "      <td>4</td>\n",
       "      <td>49</td>\n",
       "      <td>4_heard_depp_trial_amber</td>\n",
       "      <td>[heard, depp, trial, amber, jury, johnny, inte...</td>\n",
       "      <td>[Topline\\nAmber Heard said she does not “blame...</td>\n",
       "    </tr>\n",
       "    <tr>\n",
       "      <th>6</th>\n",
       "      <td>5</td>\n",
       "      <td>42</td>\n",
       "      <td>5_sox_rangers_inning_innings</td>\n",
       "      <td>[sox, rangers, inning, innings, game, said, ru...</td>\n",
       "      <td>[Published June 15, 2022 4:23AM Updated 9:28AM...</td>\n",
       "    </tr>\n",
       "    <tr>\n",
       "      <th>7</th>\n",
       "      <td>6</td>\n",
       "      <td>35</td>\n",
       "      <td>6_open_golf_pga_liv</td>\n",
       "      <td>[open, golf, pga, liv, tour, country, mickelso...</td>\n",
       "      <td>[NEWYou can now listen to Fox News articles! R...</td>\n",
       "    </tr>\n",
       "    <tr>\n",
       "      <th>8</th>\n",
       "      <td>7</td>\n",
       "      <td>33</td>\n",
       "      <td>7_lightyear_buzz_evans_disney</td>\n",
       "      <td>[lightyear, buzz, evans, disney, toy, story, f...</td>\n",
       "      <td>[Register now for FREE unlimited access to Reu...</td>\n",
       "    </tr>\n",
       "    <tr>\n",
       "      <th>9</th>\n",
       "      <td>8</td>\n",
       "      <td>29</td>\n",
       "      <td>8_pete_davidson_women_ed</td>\n",
       "      <td>[pete, davidson, women, ed, images, like, gett...</td>\n",
       "      <td>[CelebrityPete DavidsonFor every person admitt...</td>\n",
       "    </tr>\n",
       "    <tr>\n",
       "      <th>10</th>\n",
       "      <td>9</td>\n",
       "      <td>29</td>\n",
       "      <td>9_griner_team_gantriis_teri</td>\n",
       "      <td>[griner, team, gantriis, teri, brittney, women...</td>\n",
       "      <td>[NEWYou can now listen to Fox News articles! T...</td>\n",
       "    </tr>\n",
       "    <tr>\n",
       "      <th>11</th>\n",
       "      <td>10</td>\n",
       "      <td>27</td>\n",
       "      <td>10_spacey_sexual_assault_court</td>\n",
       "      <td>[spacey, sexual, assault, court, charges, lond...</td>\n",
       "      <td>[Kevin Spacey has appeared at a court in Londo...</td>\n",
       "    </tr>\n",
       "    <tr>\n",
       "      <th>12</th>\n",
       "      <td>11</td>\n",
       "      <td>25</td>\n",
       "      <td>11_bts_kpop_group_korean</td>\n",
       "      <td>[bts, kpop, group, korean, band, solo, music, ...</td>\n",
       "      <td>[Global superstars BTS said they are taking ti...</td>\n",
       "    </tr>\n",
       "    <tr>\n",
       "      <th>13</th>\n",
       "      <td>12</td>\n",
       "      <td>22</td>\n",
       "      <td>12_spears_britney_alexander_wedding</td>\n",
       "      <td>[spears, britney, alexander, wedding, asghari,...</td>\n",
       "      <td>[Image source, Getty ImagesA man once married ...</td>\n",
       "    </tr>\n",
       "    <tr>\n",
       "      <th>14</th>\n",
       "      <td>13</td>\n",
       "      <td>22</td>\n",
       "      <td>13_hardy_aew_arrested_dui</td>\n",
       "      <td>[hardy, aew, arrested, dui, cops, margera, jef...</td>\n",
       "      <td>[NEWYou can now listen to Fox News articles! A...</td>\n",
       "    </tr>\n",
       "    <tr>\n",
       "      <th>15</th>\n",
       "      <td>14</td>\n",
       "      <td>20</td>\n",
       "      <td>14_music_album_like_pop</td>\n",
       "      <td>[music, album, like, pop, baltin, songs, song,...</td>\n",
       "      <td>[Peter Blake’s wife, Chrissy, is lovingly prot...</td>\n",
       "    </tr>\n",
       "    <tr>\n",
       "      <th>16</th>\n",
       "      <td>15</td>\n",
       "      <td>20</td>\n",
       "      <td>15_ai_lamda_language_google</td>\n",
       "      <td>[ai, lamda, language, google, lemoine, sentien...</td>\n",
       "      <td>[By Davey Alba | Bloomberg\\nA Google software ...</td>\n",
       "    </tr>\n",
       "    <tr>\n",
       "      <th>17</th>\n",
       "      <td>16</td>\n",
       "      <td>19</td>\n",
       "      <td>16_musical_tony_hudson_best</td>\n",
       "      <td>[musical, tony, hudson, best, awards, egot, wo...</td>\n",
       "      <td>[\"A Strange Loop,\" an irreverent, sexually fra...</td>\n",
       "    </tr>\n",
       "    <tr>\n",
       "      <th>18</th>\n",
       "      <td>17</td>\n",
       "      <td>19</td>\n",
       "      <td>17_stones_mick_jagger_rolling</td>\n",
       "      <td>[stones, mick, jagger, rolling, amsterdam, con...</td>\n",
       "      <td>[AMSTERDAM (AP) — The Rolling Stones canceled ...</td>\n",
       "    </tr>\n",
       "    <tr>\n",
       "      <th>19</th>\n",
       "      <td>18</td>\n",
       "      <td>19</td>\n",
       "      <td>18_moon_strawberry_supermoon_rises</td>\n",
       "      <td>[moon, strawberry, supermoon, rises, june, tue...</td>\n",
       "      <td>[Tuesday night’s full moon was at its closest ...</td>\n",
       "    </tr>\n",
       "    <tr>\n",
       "      <th>20</th>\n",
       "      <td>19</td>\n",
       "      <td>18</td>\n",
       "      <td>19_mls_matches_league_apple</td>\n",
       "      <td>[mls, matches, league, apple, cup, soccer, dea...</td>\n",
       "      <td>[Apple’s foray into live sports took a big ste...</td>\n",
       "    </tr>\n",
       "    <tr>\n",
       "      <th>21</th>\n",
       "      <td>20</td>\n",
       "      <td>18</td>\n",
       "      <td>20_ozzy_surgery_sharon_parkinsons</td>\n",
       "      <td>[ozzy, surgery, sharon, parkinsons, osbourne, ...</td>\n",
       "      <td>[Ozzy Osbourne has confirmed that he is 'recup...</td>\n",
       "    </tr>\n",
       "    <tr>\n",
       "      <th>22</th>\n",
       "      <td>21</td>\n",
       "      <td>17</td>\n",
       "      <td>21_rebel_wilson_herald_hornery</td>\n",
       "      <td>[rebel, wilson, herald, hornery, sydney, relat...</td>\n",
       "      <td>[CelebrityRebel WilsonThe Sydney Morning Heral...</td>\n",
       "    </tr>\n",
       "    <tr>\n",
       "      <th>23</th>\n",
       "      <td>22</td>\n",
       "      <td>15</td>\n",
       "      <td>22_festival_wayne_uk_lil</td>\n",
       "      <td>[festival, wayne, uk, lil, denver, garrett, ev...</td>\n",
       "      <td>[Lil Wayne will no longer appear at a music fe...</td>\n",
       "    </tr>\n",
       "    <tr>\n",
       "      <th>24</th>\n",
       "      <td>23</td>\n",
       "      <td>15</td>\n",
       "      <td>23_lopez_documentary_halftime_shakira</td>\n",
       "      <td>[lopez, documentary, halftime, shakira, bowl, ...</td>\n",
       "      <td>[“I want something real. I want something that...</td>\n",
       "    </tr>\n",
       "    <tr>\n",
       "      <th>25</th>\n",
       "      <td>24</td>\n",
       "      <td>15</td>\n",
       "      <td>24_hall_died_seinfeld_anderson</td>\n",
       "      <td>[hall, died, seinfeld, anderson, philip, baker...</td>\n",
       "      <td>[NEWYou can now listen to Fox News articles! P...</td>\n",
       "    </tr>\n",
       "    <tr>\n",
       "      <th>26</th>\n",
       "      <td>25</td>\n",
       "      <td>14</td>\n",
       "      <td>25_francis_tyson_heavyweight_security</td>\n",
       "      <td>[francis, tyson, heavyweight, security, klitsc...</td>\n",
       "      <td>[Ex-Boxer Julius Francis Not Arrested Over Str...</td>\n",
       "    </tr>\n",
       "    <tr>\n",
       "      <th>27</th>\n",
       "      <td>26</td>\n",
       "      <td>11</td>\n",
       "      <td>26_avalanche_lightning_colorado_tampa</td>\n",
       "      <td>[avalanche, lightning, colorado, tampa, bay, s...</td>\n",
       "      <td>[The Dallas Stars’ season came to an end one m...</td>\n",
       "    </tr>\n",
       "    <tr>\n",
       "      <th>28</th>\n",
       "      <td>27</td>\n",
       "      <td>10</td>\n",
       "      <td>27_tennis_wimbledon_players_open</td>\n",
       "      <td>[tennis, wimbledon, players, open, ukraine, ru...</td>\n",
       "      <td>[The U.S. Open will allow tennis players from ...</td>\n",
       "    </tr>\n",
       "  </tbody>\n",
       "</table>\n",
       "</div>"
      ],
      "text/plain": [
       "    Topic  Count                                   Name  \\\n",
       "0      -1    123                 -1_like_said_just_song   \n",
       "1       0    110              0_film_million_films_like   \n",
       "2       1     88              1_england_cup_world_final   \n",
       "3       2     70          2_warriors_celtics_game_curry   \n",
       "4       3     66        3_data_vehicles_crashes_systems   \n",
       "5       4     49               4_heard_depp_trial_amber   \n",
       "6       5     42           5_sox_rangers_inning_innings   \n",
       "7       6     35                    6_open_golf_pga_liv   \n",
       "8       7     33          7_lightyear_buzz_evans_disney   \n",
       "9       8     29               8_pete_davidson_women_ed   \n",
       "10      9     29            9_griner_team_gantriis_teri   \n",
       "11     10     27         10_spacey_sexual_assault_court   \n",
       "12     11     25               11_bts_kpop_group_korean   \n",
       "13     12     22    12_spears_britney_alexander_wedding   \n",
       "14     13     22              13_hardy_aew_arrested_dui   \n",
       "15     14     20                14_music_album_like_pop   \n",
       "16     15     20            15_ai_lamda_language_google   \n",
       "17     16     19            16_musical_tony_hudson_best   \n",
       "18     17     19          17_stones_mick_jagger_rolling   \n",
       "19     18     19     18_moon_strawberry_supermoon_rises   \n",
       "20     19     18            19_mls_matches_league_apple   \n",
       "21     20     18      20_ozzy_surgery_sharon_parkinsons   \n",
       "22     21     17         21_rebel_wilson_herald_hornery   \n",
       "23     22     15               22_festival_wayne_uk_lil   \n",
       "24     23     15  23_lopez_documentary_halftime_shakira   \n",
       "25     24     15         24_hall_died_seinfeld_anderson   \n",
       "26     25     14  25_francis_tyson_heavyweight_security   \n",
       "27     26     11  26_avalanche_lightning_colorado_tampa   \n",
       "28     27     10       27_tennis_wimbledon_players_open   \n",
       "\n",
       "                                       Representation  \\\n",
       "0   [like, said, just, song, people, im, time, mus...   \n",
       "1   [film, million, films, like, barbie, movie, st...   \n",
       "2   [england, cup, world, final, match, socceroos,...   \n",
       "3   [warriors, celtics, game, curry, nba, finals, ...   \n",
       "4   [data, vehicles, crashes, systems, stars, mars...   \n",
       "5   [heard, depp, trial, amber, jury, johnny, inte...   \n",
       "6   [sox, rangers, inning, innings, game, said, ru...   \n",
       "7   [open, golf, pga, liv, tour, country, mickelso...   \n",
       "8   [lightyear, buzz, evans, disney, toy, story, f...   \n",
       "9   [pete, davidson, women, ed, images, like, gett...   \n",
       "10  [griner, team, gantriis, teri, brittney, women...   \n",
       "11  [spacey, sexual, assault, court, charges, lond...   \n",
       "12  [bts, kpop, group, korean, band, solo, music, ...   \n",
       "13  [spears, britney, alexander, wedding, asghari,...   \n",
       "14  [hardy, aew, arrested, dui, cops, margera, jef...   \n",
       "15  [music, album, like, pop, baltin, songs, song,...   \n",
       "16  [ai, lamda, language, google, lemoine, sentien...   \n",
       "17  [musical, tony, hudson, best, awards, egot, wo...   \n",
       "18  [stones, mick, jagger, rolling, amsterdam, con...   \n",
       "19  [moon, strawberry, supermoon, rises, june, tue...   \n",
       "20  [mls, matches, league, apple, cup, soccer, dea...   \n",
       "21  [ozzy, surgery, sharon, parkinsons, osbourne, ...   \n",
       "22  [rebel, wilson, herald, hornery, sydney, relat...   \n",
       "23  [festival, wayne, uk, lil, denver, garrett, ev...   \n",
       "24  [lopez, documentary, halftime, shakira, bowl, ...   \n",
       "25  [hall, died, seinfeld, anderson, philip, baker...   \n",
       "26  [francis, tyson, heavyweight, security, klitsc...   \n",
       "27  [avalanche, lightning, colorado, tampa, bay, s...   \n",
       "28  [tennis, wimbledon, players, open, ukraine, ru...   \n",
       "\n",
       "                                  Representative_Docs  \n",
       "0   [By Mark SavageBBC Music CorrespondentImage ca...  \n",
       "1   [There’s finally been some movement on the liv...  \n",
       "2   [Socceroos coach Graham Arnold has called on P...  \n",
       "3   [After a resounding victory in Game 3 at TD Ga...  \n",
       "4   [A Tesla logo is seen in Los Angeles, Californ...  \n",
       "5   [Topline\\nAmber Heard said she does not “blame...  \n",
       "6   [Published June 15, 2022 4:23AM Updated 9:28AM...  \n",
       "7   [NEWYou can now listen to Fox News articles! R...  \n",
       "8   [Register now for FREE unlimited access to Reu...  \n",
       "9   [CelebrityPete DavidsonFor every person admitt...  \n",
       "10  [NEWYou can now listen to Fox News articles! T...  \n",
       "11  [Kevin Spacey has appeared at a court in Londo...  \n",
       "12  [Global superstars BTS said they are taking ti...  \n",
       "13  [Image source, Getty ImagesA man once married ...  \n",
       "14  [NEWYou can now listen to Fox News articles! A...  \n",
       "15  [Peter Blake’s wife, Chrissy, is lovingly prot...  \n",
       "16  [By Davey Alba | Bloomberg\\nA Google software ...  \n",
       "17  [\"A Strange Loop,\" an irreverent, sexually fra...  \n",
       "18  [AMSTERDAM (AP) — The Rolling Stones canceled ...  \n",
       "19  [Tuesday night’s full moon was at its closest ...  \n",
       "20  [Apple’s foray into live sports took a big ste...  \n",
       "21  [Ozzy Osbourne has confirmed that he is 'recup...  \n",
       "22  [CelebrityRebel WilsonThe Sydney Morning Heral...  \n",
       "23  [Lil Wayne will no longer appear at a music fe...  \n",
       "24  [“I want something real. I want something that...  \n",
       "25  [NEWYou can now listen to Fox News articles! P...  \n",
       "26  [Ex-Boxer Julius Francis Not Arrested Over Str...  \n",
       "27  [The Dallas Stars’ season came to an end one m...  \n",
       "28  [The U.S. Open will allow tennis players from ...  "
      ]
     },
     "execution_count": 9,
     "metadata": {},
     "output_type": "execute_result"
    }
   ],
   "source": [
    "topic_model.get_topic_info()"
   ]
  },
  {
   "cell_type": "code",
   "execution_count": 10,
   "metadata": {},
   "outputs": [
    {
     "data": {
      "text/plain": [
       "1000"
      ]
     },
     "execution_count": 10,
     "metadata": {},
     "output_type": "execute_result"
    }
   ],
   "source": [
    "topic_distr, _ = topic_model.approximate_distribution(descriptions[:1000])\n",
    "len(topic_distr)"
   ]
  },
  {
   "cell_type": "code",
   "execution_count": 11,
   "metadata": {},
   "outputs": [
    {
     "data": {
      "application/vnd.plotly.v1+json": {
       "config": {
        "plotlyServerURL": "https://plot.ly"
       },
       "data": [
        {
         "marker": {
          "color": "#C8D2D7",
          "line": {
           "color": "#6E8484",
           "width": 1
          }
         },
         "orientation": "h",
         "type": "bar",
         "x": [
          0.03615061333239034,
          0.03537866358524333,
          0.2121965660194261,
          0.18813544751132621,
          0.08644006086860248,
          0.39899358157283876,
          0.04270506711017276
         ],
         "y": [
          "<b>Topic 4</b>: heard_depp_trial_amber_j...",
          "<b>Topic 7</b>: lightyear_buzz_evans_dis...",
          "<b>Topic 11</b>: bts_kpop_group_korean_b...",
          "<b>Topic 15</b>: ai_lamda_language_googl...",
          "<b>Topic 18</b>: moon_strawberry_supermo...",
          "<b>Topic 19</b>: mls_matches_league_appl...",
          "<b>Topic 21</b>: rebel_wilson_herald_hor..."
         ]
        }
       ],
       "layout": {
        "height": 600,
        "hoverlabel": {
         "bgcolor": "white",
         "font": {
          "family": "Rockwell",
          "size": 16
         }
        },
        "template": {
         "data": {
          "bar": [
           {
            "error_x": {
             "color": "rgb(36,36,36)"
            },
            "error_y": {
             "color": "rgb(36,36,36)"
            },
            "marker": {
             "line": {
              "color": "white",
              "width": 0.5
             },
             "pattern": {
              "fillmode": "overlay",
              "size": 10,
              "solidity": 0.2
             }
            },
            "type": "bar"
           }
          ],
          "barpolar": [
           {
            "marker": {
             "line": {
              "color": "white",
              "width": 0.5
             },
             "pattern": {
              "fillmode": "overlay",
              "size": 10,
              "solidity": 0.2
             }
            },
            "type": "barpolar"
           }
          ],
          "carpet": [
           {
            "aaxis": {
             "endlinecolor": "rgb(36,36,36)",
             "gridcolor": "white",
             "linecolor": "white",
             "minorgridcolor": "white",
             "startlinecolor": "rgb(36,36,36)"
            },
            "baxis": {
             "endlinecolor": "rgb(36,36,36)",
             "gridcolor": "white",
             "linecolor": "white",
             "minorgridcolor": "white",
             "startlinecolor": "rgb(36,36,36)"
            },
            "type": "carpet"
           }
          ],
          "choropleth": [
           {
            "colorbar": {
             "outlinewidth": 1,
             "tickcolor": "rgb(36,36,36)",
             "ticks": "outside"
            },
            "type": "choropleth"
           }
          ],
          "contour": [
           {
            "colorbar": {
             "outlinewidth": 1,
             "tickcolor": "rgb(36,36,36)",
             "ticks": "outside"
            },
            "colorscale": [
             [
              0,
              "#440154"
             ],
             [
              0.1111111111111111,
              "#482878"
             ],
             [
              0.2222222222222222,
              "#3e4989"
             ],
             [
              0.3333333333333333,
              "#31688e"
             ],
             [
              0.4444444444444444,
              "#26828e"
             ],
             [
              0.5555555555555556,
              "#1f9e89"
             ],
             [
              0.6666666666666666,
              "#35b779"
             ],
             [
              0.7777777777777778,
              "#6ece58"
             ],
             [
              0.8888888888888888,
              "#b5de2b"
             ],
             [
              1,
              "#fde725"
             ]
            ],
            "type": "contour"
           }
          ],
          "contourcarpet": [
           {
            "colorbar": {
             "outlinewidth": 1,
             "tickcolor": "rgb(36,36,36)",
             "ticks": "outside"
            },
            "type": "contourcarpet"
           }
          ],
          "heatmap": [
           {
            "colorbar": {
             "outlinewidth": 1,
             "tickcolor": "rgb(36,36,36)",
             "ticks": "outside"
            },
            "colorscale": [
             [
              0,
              "#440154"
             ],
             [
              0.1111111111111111,
              "#482878"
             ],
             [
              0.2222222222222222,
              "#3e4989"
             ],
             [
              0.3333333333333333,
              "#31688e"
             ],
             [
              0.4444444444444444,
              "#26828e"
             ],
             [
              0.5555555555555556,
              "#1f9e89"
             ],
             [
              0.6666666666666666,
              "#35b779"
             ],
             [
              0.7777777777777778,
              "#6ece58"
             ],
             [
              0.8888888888888888,
              "#b5de2b"
             ],
             [
              1,
              "#fde725"
             ]
            ],
            "type": "heatmap"
           }
          ],
          "heatmapgl": [
           {
            "colorbar": {
             "outlinewidth": 1,
             "tickcolor": "rgb(36,36,36)",
             "ticks": "outside"
            },
            "colorscale": [
             [
              0,
              "#440154"
             ],
             [
              0.1111111111111111,
              "#482878"
             ],
             [
              0.2222222222222222,
              "#3e4989"
             ],
             [
              0.3333333333333333,
              "#31688e"
             ],
             [
              0.4444444444444444,
              "#26828e"
             ],
             [
              0.5555555555555556,
              "#1f9e89"
             ],
             [
              0.6666666666666666,
              "#35b779"
             ],
             [
              0.7777777777777778,
              "#6ece58"
             ],
             [
              0.8888888888888888,
              "#b5de2b"
             ],
             [
              1,
              "#fde725"
             ]
            ],
            "type": "heatmapgl"
           }
          ],
          "histogram": [
           {
            "marker": {
             "line": {
              "color": "white",
              "width": 0.6
             }
            },
            "type": "histogram"
           }
          ],
          "histogram2d": [
           {
            "colorbar": {
             "outlinewidth": 1,
             "tickcolor": "rgb(36,36,36)",
             "ticks": "outside"
            },
            "colorscale": [
             [
              0,
              "#440154"
             ],
             [
              0.1111111111111111,
              "#482878"
             ],
             [
              0.2222222222222222,
              "#3e4989"
             ],
             [
              0.3333333333333333,
              "#31688e"
             ],
             [
              0.4444444444444444,
              "#26828e"
             ],
             [
              0.5555555555555556,
              "#1f9e89"
             ],
             [
              0.6666666666666666,
              "#35b779"
             ],
             [
              0.7777777777777778,
              "#6ece58"
             ],
             [
              0.8888888888888888,
              "#b5de2b"
             ],
             [
              1,
              "#fde725"
             ]
            ],
            "type": "histogram2d"
           }
          ],
          "histogram2dcontour": [
           {
            "colorbar": {
             "outlinewidth": 1,
             "tickcolor": "rgb(36,36,36)",
             "ticks": "outside"
            },
            "colorscale": [
             [
              0,
              "#440154"
             ],
             [
              0.1111111111111111,
              "#482878"
             ],
             [
              0.2222222222222222,
              "#3e4989"
             ],
             [
              0.3333333333333333,
              "#31688e"
             ],
             [
              0.4444444444444444,
              "#26828e"
             ],
             [
              0.5555555555555556,
              "#1f9e89"
             ],
             [
              0.6666666666666666,
              "#35b779"
             ],
             [
              0.7777777777777778,
              "#6ece58"
             ],
             [
              0.8888888888888888,
              "#b5de2b"
             ],
             [
              1,
              "#fde725"
             ]
            ],
            "type": "histogram2dcontour"
           }
          ],
          "mesh3d": [
           {
            "colorbar": {
             "outlinewidth": 1,
             "tickcolor": "rgb(36,36,36)",
             "ticks": "outside"
            },
            "type": "mesh3d"
           }
          ],
          "parcoords": [
           {
            "line": {
             "colorbar": {
              "outlinewidth": 1,
              "tickcolor": "rgb(36,36,36)",
              "ticks": "outside"
             }
            },
            "type": "parcoords"
           }
          ],
          "pie": [
           {
            "automargin": true,
            "type": "pie"
           }
          ],
          "scatter": [
           {
            "fillpattern": {
             "fillmode": "overlay",
             "size": 10,
             "solidity": 0.2
            },
            "type": "scatter"
           }
          ],
          "scatter3d": [
           {
            "line": {
             "colorbar": {
              "outlinewidth": 1,
              "tickcolor": "rgb(36,36,36)",
              "ticks": "outside"
             }
            },
            "marker": {
             "colorbar": {
              "outlinewidth": 1,
              "tickcolor": "rgb(36,36,36)",
              "ticks": "outside"
             }
            },
            "type": "scatter3d"
           }
          ],
          "scattercarpet": [
           {
            "marker": {
             "colorbar": {
              "outlinewidth": 1,
              "tickcolor": "rgb(36,36,36)",
              "ticks": "outside"
             }
            },
            "type": "scattercarpet"
           }
          ],
          "scattergeo": [
           {
            "marker": {
             "colorbar": {
              "outlinewidth": 1,
              "tickcolor": "rgb(36,36,36)",
              "ticks": "outside"
             }
            },
            "type": "scattergeo"
           }
          ],
          "scattergl": [
           {
            "marker": {
             "colorbar": {
              "outlinewidth": 1,
              "tickcolor": "rgb(36,36,36)",
              "ticks": "outside"
             }
            },
            "type": "scattergl"
           }
          ],
          "scattermapbox": [
           {
            "marker": {
             "colorbar": {
              "outlinewidth": 1,
              "tickcolor": "rgb(36,36,36)",
              "ticks": "outside"
             }
            },
            "type": "scattermapbox"
           }
          ],
          "scatterpolar": [
           {
            "marker": {
             "colorbar": {
              "outlinewidth": 1,
              "tickcolor": "rgb(36,36,36)",
              "ticks": "outside"
             }
            },
            "type": "scatterpolar"
           }
          ],
          "scatterpolargl": [
           {
            "marker": {
             "colorbar": {
              "outlinewidth": 1,
              "tickcolor": "rgb(36,36,36)",
              "ticks": "outside"
             }
            },
            "type": "scatterpolargl"
           }
          ],
          "scatterternary": [
           {
            "marker": {
             "colorbar": {
              "outlinewidth": 1,
              "tickcolor": "rgb(36,36,36)",
              "ticks": "outside"
             }
            },
            "type": "scatterternary"
           }
          ],
          "surface": [
           {
            "colorbar": {
             "outlinewidth": 1,
             "tickcolor": "rgb(36,36,36)",
             "ticks": "outside"
            },
            "colorscale": [
             [
              0,
              "#440154"
             ],
             [
              0.1111111111111111,
              "#482878"
             ],
             [
              0.2222222222222222,
              "#3e4989"
             ],
             [
              0.3333333333333333,
              "#31688e"
             ],
             [
              0.4444444444444444,
              "#26828e"
             ],
             [
              0.5555555555555556,
              "#1f9e89"
             ],
             [
              0.6666666666666666,
              "#35b779"
             ],
             [
              0.7777777777777778,
              "#6ece58"
             ],
             [
              0.8888888888888888,
              "#b5de2b"
             ],
             [
              1,
              "#fde725"
             ]
            ],
            "type": "surface"
           }
          ],
          "table": [
           {
            "cells": {
             "fill": {
              "color": "rgb(237,237,237)"
             },
             "line": {
              "color": "white"
             }
            },
            "header": {
             "fill": {
              "color": "rgb(217,217,217)"
             },
             "line": {
              "color": "white"
             }
            },
            "type": "table"
           }
          ]
         },
         "layout": {
          "annotationdefaults": {
           "arrowhead": 0,
           "arrowwidth": 1
          },
          "autotypenumbers": "strict",
          "coloraxis": {
           "colorbar": {
            "outlinewidth": 1,
            "tickcolor": "rgb(36,36,36)",
            "ticks": "outside"
           }
          },
          "colorscale": {
           "diverging": [
            [
             0,
             "rgb(103,0,31)"
            ],
            [
             0.1,
             "rgb(178,24,43)"
            ],
            [
             0.2,
             "rgb(214,96,77)"
            ],
            [
             0.3,
             "rgb(244,165,130)"
            ],
            [
             0.4,
             "rgb(253,219,199)"
            ],
            [
             0.5,
             "rgb(247,247,247)"
            ],
            [
             0.6,
             "rgb(209,229,240)"
            ],
            [
             0.7,
             "rgb(146,197,222)"
            ],
            [
             0.8,
             "rgb(67,147,195)"
            ],
            [
             0.9,
             "rgb(33,102,172)"
            ],
            [
             1,
             "rgb(5,48,97)"
            ]
           ],
           "sequential": [
            [
             0,
             "#440154"
            ],
            [
             0.1111111111111111,
             "#482878"
            ],
            [
             0.2222222222222222,
             "#3e4989"
            ],
            [
             0.3333333333333333,
             "#31688e"
            ],
            [
             0.4444444444444444,
             "#26828e"
            ],
            [
             0.5555555555555556,
             "#1f9e89"
            ],
            [
             0.6666666666666666,
             "#35b779"
            ],
            [
             0.7777777777777778,
             "#6ece58"
            ],
            [
             0.8888888888888888,
             "#b5de2b"
            ],
            [
             1,
             "#fde725"
            ]
           ],
           "sequentialminus": [
            [
             0,
             "#440154"
            ],
            [
             0.1111111111111111,
             "#482878"
            ],
            [
             0.2222222222222222,
             "#3e4989"
            ],
            [
             0.3333333333333333,
             "#31688e"
            ],
            [
             0.4444444444444444,
             "#26828e"
            ],
            [
             0.5555555555555556,
             "#1f9e89"
            ],
            [
             0.6666666666666666,
             "#35b779"
            ],
            [
             0.7777777777777778,
             "#6ece58"
            ],
            [
             0.8888888888888888,
             "#b5de2b"
            ],
            [
             1,
             "#fde725"
            ]
           ]
          },
          "colorway": [
           "#1F77B4",
           "#FF7F0E",
           "#2CA02C",
           "#D62728",
           "#9467BD",
           "#8C564B",
           "#E377C2",
           "#7F7F7F",
           "#BCBD22",
           "#17BECF"
          ],
          "font": {
           "color": "rgb(36,36,36)"
          },
          "geo": {
           "bgcolor": "white",
           "lakecolor": "white",
           "landcolor": "white",
           "showlakes": true,
           "showland": true,
           "subunitcolor": "white"
          },
          "hoverlabel": {
           "align": "left"
          },
          "hovermode": "closest",
          "mapbox": {
           "style": "light"
          },
          "paper_bgcolor": "white",
          "plot_bgcolor": "white",
          "polar": {
           "angularaxis": {
            "gridcolor": "rgb(232,232,232)",
            "linecolor": "rgb(36,36,36)",
            "showgrid": false,
            "showline": true,
            "ticks": "outside"
           },
           "bgcolor": "white",
           "radialaxis": {
            "gridcolor": "rgb(232,232,232)",
            "linecolor": "rgb(36,36,36)",
            "showgrid": false,
            "showline": true,
            "ticks": "outside"
           }
          },
          "scene": {
           "xaxis": {
            "backgroundcolor": "white",
            "gridcolor": "rgb(232,232,232)",
            "gridwidth": 2,
            "linecolor": "rgb(36,36,36)",
            "showbackground": true,
            "showgrid": false,
            "showline": true,
            "ticks": "outside",
            "zeroline": false,
            "zerolinecolor": "rgb(36,36,36)"
           },
           "yaxis": {
            "backgroundcolor": "white",
            "gridcolor": "rgb(232,232,232)",
            "gridwidth": 2,
            "linecolor": "rgb(36,36,36)",
            "showbackground": true,
            "showgrid": false,
            "showline": true,
            "ticks": "outside",
            "zeroline": false,
            "zerolinecolor": "rgb(36,36,36)"
           },
           "zaxis": {
            "backgroundcolor": "white",
            "gridcolor": "rgb(232,232,232)",
            "gridwidth": 2,
            "linecolor": "rgb(36,36,36)",
            "showbackground": true,
            "showgrid": false,
            "showline": true,
            "ticks": "outside",
            "zeroline": false,
            "zerolinecolor": "rgb(36,36,36)"
           }
          },
          "shapedefaults": {
           "fillcolor": "black",
           "line": {
            "width": 0
           },
           "opacity": 0.3
          },
          "ternary": {
           "aaxis": {
            "gridcolor": "rgb(232,232,232)",
            "linecolor": "rgb(36,36,36)",
            "showgrid": false,
            "showline": true,
            "ticks": "outside"
           },
           "baxis": {
            "gridcolor": "rgb(232,232,232)",
            "linecolor": "rgb(36,36,36)",
            "showgrid": false,
            "showline": true,
            "ticks": "outside"
           },
           "bgcolor": "white",
           "caxis": {
            "gridcolor": "rgb(232,232,232)",
            "linecolor": "rgb(36,36,36)",
            "showgrid": false,
            "showline": true,
            "ticks": "outside"
           }
          },
          "title": {
           "x": 0.05
          },
          "xaxis": {
           "automargin": true,
           "gridcolor": "rgb(232,232,232)",
           "linecolor": "rgb(36,36,36)",
           "showgrid": false,
           "showline": true,
           "ticks": "outside",
           "title": {
            "standoff": 15
           },
           "zeroline": false,
           "zerolinecolor": "rgb(36,36,36)"
          },
          "yaxis": {
           "automargin": true,
           "gridcolor": "rgb(232,232,232)",
           "linecolor": "rgb(36,36,36)",
           "showgrid": false,
           "showline": true,
           "ticks": "outside",
           "title": {
            "standoff": 15
           },
           "zeroline": false,
           "zerolinecolor": "rgb(36,36,36)"
          }
         }
        },
        "title": {
         "font": {
          "color": "Black",
          "size": 22
         },
         "text": "<b>Topic Probability Distribution</b>",
         "x": 0.5,
         "xanchor": "center",
         "y": 0.95,
         "yanchor": "top"
        },
        "width": 800,
        "xaxis": {
         "title": {
          "text": "Probability"
         }
        }
       }
      }
     },
     "metadata": {},
     "output_type": "display_data"
    }
   ],
   "source": [
    "topic_model.visualize_distribution(topic_distr[1])"
   ]
  },
  {
   "cell_type": "markdown",
   "metadata": {},
   "source": [
    "# Topic Generation\n",
    "- This code uses the word bags from each topic and passes them into an llm to parse out a topic \n",
    "\n",
    "Prompt: \n",
    "\n",
    "['england', 'cup', 'world', 'final', 'match', 'win', 'socceroos', 'league', 'players', 'group']\n",
    "\n",
    "Given this set of word return a one concept classification of the article\n"
   ]
  },
  {
   "cell_type": "code",
   "execution_count": 12,
   "metadata": {},
   "outputs": [],
   "source": [
    "from transformers import pipeline\n",
    "\n",
    "pipe = pipeline(\"text2text-generation\", model=\"google/flan-t5-large\")"
   ]
  },
  {
   "cell_type": "code",
   "execution_count": 13,
   "metadata": {},
   "outputs": [],
   "source": [
    "def generate_topic_name(list_of_words):\n",
    "  words = ', '.join([i for i in list_of_words])\n",
    "\n",
    "  prompt = f\"\"\"Given the following set of words {words}, return at most three words that describe the generic topic of the article\"\"\"\n",
    "  return pipe(prompt)[0]\n",
    "  "
   ]
  },
  {
   "cell_type": "code",
   "execution_count": 15,
   "metadata": {},
   "outputs": [
    {
     "name": "stdout",
     "output_type": "stream",
     "text": [
      "['film', 'million', 'films', 'like', 'barbie', 'movie', 'star', 'new', 'world', 'story']\n",
      "['england', 'cup', 'world', 'final', 'match', 'socceroos', 'league', 'win', 'players', 'play']\n",
      "['warriors', 'celtics', 'game', 'curry', 'nba', 'finals', 'boston', 'golden', 'quarter', 'wiggins']\n",
      "['data', 'vehicles', 'crashes', 'systems', 'stars', 'mars', 'space', 'new', 'nhtsa', 'tesla']\n",
      "['heard', 'depp', 'trial', 'amber', 'jury', 'johnny', 'interview', 'said', 'defamation', 'guthrie']\n",
      "['sox', 'rangers', 'inning', 'innings', 'game', 'said', 'runs', 'pitch', 'cubs', 'season']\n",
      "['open', 'golf', 'pga', 'liv', 'tour', 'country', 'mickelson', 'club', 'mcilroy', 'said']\n",
      "['lightyear', 'buzz', 'evans', 'disney', 'toy', 'story', 'film', 'movie', 'pixar', 'character']\n",
      "['pete', 'davidson', 'women', 'ed', 'images', 'like', 'getty', 'love', 'cherry', 'life']\n",
      "['griner', 'team', 'gantriis', 'teri', 'brittney', 'womens', 'detention', 'wnba', 'department', 'russian']\n",
      "['spacey', 'sexual', 'assault', 'court', 'charges', 'london', 'actor', 'kevin', 'charged', 'counts']\n",
      "['bts', 'kpop', 'group', 'korean', 'band', 'solo', 'music', 'hiatus', 'members', 'rm']\n",
      "['spears', 'britney', 'alexander', 'wedding', 'asghari', 'sam', 'crypto', 'bitcoin', 'married', 'adult']\n",
      "['hardy', 'aew', 'arrested', 'dui', 'cops', 'margera', 'jeff', 'spence', 'bam', 'driving']\n",
      "['music', 'album', 'like', 'pop', 'baltin', 'songs', 'song', 'lavigne', 'artists', 'just']\n",
      "['ai', 'lamda', 'language', 'google', 'lemoine', 'sentient', 'models', 'intelligence', 'researchers', 'sentience']\n",
      "['musical', 'tony', 'hudson', 'best', 'awards', 'egot', 'won', 'emmy', 'oscar', 'music']\n",
      "['stones', 'mick', 'jagger', 'rolling', 'amsterdam', 'concert', 'band', 'positive', 'tested', 'stadium']\n",
      "['moon', 'strawberry', 'supermoon', 'rises', 'june', 'tuesday', '14', 'earth', '2022', 'horizon']\n",
      "['mls', 'matches', 'league', 'apple', 'cup', 'soccer', 'deal', 'sports', 'world', 'dallas']\n"
     ]
    }
   ],
   "source": [
    "topic_names = []\n",
    "all_topics = topic_model.get_topics()\n",
    "for i in range(20):\n",
    "    list_of_words = []\n",
    "    for word in all_topics[i]:\n",
    "        list_of_words.append(word[0])\n",
    "    topic_names.append(generate_topic_name(list_of_words))\n",
    "    print(list_of_words)"
   ]
  },
  {
   "cell_type": "code",
   "execution_count": null,
   "metadata": {},
   "outputs": [
    {
     "data": {
      "text/plain": [
       "[('warriors', 0.05565827089185594),\n",
       " ('celtics', 0.05456474815460534),\n",
       " ('game', 0.05168682827867708),\n",
       " ('curry', 0.035194949183678846),\n",
       " ('nba', 0.03387182432461687),\n",
       " ('finals', 0.03130945639182676),\n",
       " ('boston', 0.024335312243513048),\n",
       " ('golden', 0.021601180188983285),\n",
       " ('quarter', 0.021157467494892414),\n",
       " ('wiggins', 0.020912720345473555)]"
      ]
     },
     "execution_count": 15,
     "metadata": {},
     "output_type": "execute_result"
    }
   ],
   "source": [
    "all_topics[1]"
   ]
  },
  {
   "cell_type": "markdown",
   "metadata": {},
   "source": [
    "Attach Topic Tags to Each Description based on the topics it contains"
   ]
  },
  {
   "cell_type": "code",
   "execution_count": null,
   "metadata": {},
   "outputs": [],
   "source": [
    "#iterate through each description\n",
    "#pull the tags that it is most familiar with"
   ]
  },
  {
   "cell_type": "code",
   "execution_count": 16,
   "metadata": {},
   "outputs": [
    {
     "data": {
      "text/plain": [
       "[{'generated_text': 'barbie in a new world starring a new generation of stars and a new'},\n",
       " {'generated_text': 'australian rules football team socceroos players play in a match against engl'},\n",
       " {'generated_text': 'boston celtics vs. nba warriors in the quarterfinals'},\n",
       " {'generated_text': 'new nhtsa vehicle crashes into space'},\n",
       " {'generated_text': 'johnny depp said he was defamed by amber gut'},\n",
       " {'generated_text': 'cubs said they will not pitch to the sox in the first inning of their'},\n",
       " {'generated_text': 'rory mcilroy said he was disappointed with mickelson after'},\n",
       " {'generated_text': 'buzz lightyear and friends disney animated feature film and animated shorts'},\n",
       " {'generated_text': 'ed scott davidson and his wife getty getty cherry'},\n",
       " {'generated_text': 'brittney grener wnba team russian detention'},\n",
       " {'generated_text': 'actor kevin spacey charged with sexual assault and rape in london'},\n",
       " {'generated_text': 'bts rm'},\n",
       " {'generated_text': 'sam and britney spears at a wedding with alexander and'},\n",
       " {'generated_text': 'jeff spence arrested for driving under the influence of drugs and alcohol'},\n",
       " {'generated_text': 'just like that song by lavigne and annie osmond from her album'},\n",
       " {'generated_text': 'google ai lemoine ai linguistics and artificial intelligence'},\n",
       " {'generated_text': 'egot won best musical for hudson river egot'},\n",
       " {'generated_text': 'rolling stones - positive feedback from fans at a concert in amsterdam'},\n",
       " {'generated_text': 'supermoon rising on tuesday the 14th of june'},\n",
       " {'generated_text': 'football mls match between dallas cowboys and san fr'}]"
      ]
     },
     "execution_count": 16,
     "metadata": {},
     "output_type": "execute_result"
    }
   ],
   "source": [
    "topic_names"
   ]
  },
  {
   "cell_type": "code",
   "execution_count": null,
   "metadata": {},
   "outputs": [],
   "source": []
  }
 ],
 "metadata": {
  "kernelspec": {
   "display_name": ".venv",
   "language": "python",
   "name": "python3"
  },
  "language_info": {
   "codemirror_mode": {
    "name": "ipython",
    "version": 3
   },
   "file_extension": ".py",
   "mimetype": "text/x-python",
   "name": "python",
   "nbconvert_exporter": "python",
   "pygments_lexer": "ipython3",
   "version": "3.9.6"
  }
 },
 "nbformat": 4,
 "nbformat_minor": 2
}
