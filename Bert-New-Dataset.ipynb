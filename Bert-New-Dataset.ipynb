{
 "cells": [
  {
   "cell_type": "code",
   "execution_count": 1,
   "metadata": {},
   "outputs": [
    {
     "name": "stdout",
     "output_type": "stream",
     "text": [
      "Defaulting to user installation because normal site-packages is not writeable\n",
      "Requirement already satisfied: datasets in /Users/ayushjain/Library/Python/3.9/lib/python/site-packages (2.18.0)\n",
      "Requirement already satisfied: filelock in /Users/ayushjain/Library/Python/3.9/lib/python/site-packages (from datasets) (3.13.1)\n",
      "Requirement already satisfied: numpy>=1.17 in /Users/ayushjain/Library/Python/3.9/lib/python/site-packages (from datasets) (1.26.4)\n",
      "Requirement already satisfied: pyarrow>=12.0.0 in /Users/ayushjain/Library/Python/3.9/lib/python/site-packages (from datasets) (15.0.0)\n",
      "Requirement already satisfied: pyarrow-hotfix in /Users/ayushjain/Library/Python/3.9/lib/python/site-packages (from datasets) (0.6)\n",
      "Requirement already satisfied: dill<0.3.9,>=0.3.0 in /Users/ayushjain/Library/Python/3.9/lib/python/site-packages (from datasets) (0.3.8)\n",
      "Requirement already satisfied: pandas in /Users/ayushjain/Library/Python/3.9/lib/python/site-packages (from datasets) (2.2.1)\n",
      "Requirement already satisfied: requests>=2.19.0 in /Users/ayushjain/Library/Python/3.9/lib/python/site-packages (from datasets) (2.31.0)\n",
      "Requirement already satisfied: tqdm>=4.62.1 in /Users/ayushjain/Library/Python/3.9/lib/python/site-packages (from datasets) (4.66.2)\n",
      "Requirement already satisfied: xxhash in /Users/ayushjain/Library/Python/3.9/lib/python/site-packages (from datasets) (3.4.1)\n",
      "Requirement already satisfied: multiprocess in /Users/ayushjain/Library/Python/3.9/lib/python/site-packages (from datasets) (0.70.16)\n",
      "Requirement already satisfied: fsspec<=2024.2.0,>=2023.1.0 in /Users/ayushjain/Library/Python/3.9/lib/python/site-packages (from fsspec[http]<=2024.2.0,>=2023.1.0->datasets) (2024.2.0)\n",
      "Requirement already satisfied: aiohttp in /Users/ayushjain/Library/Python/3.9/lib/python/site-packages (from datasets) (3.9.3)\n",
      "Requirement already satisfied: huggingface-hub>=0.19.4 in /Users/ayushjain/Library/Python/3.9/lib/python/site-packages (from datasets) (0.21.3)\n",
      "Requirement already satisfied: packaging in /Users/ayushjain/Library/Python/3.9/lib/python/site-packages (from datasets) (23.2)\n",
      "Requirement already satisfied: pyyaml>=5.1 in /Users/ayushjain/Library/Python/3.9/lib/python/site-packages (from datasets) (6.0.1)\n",
      "Requirement already satisfied: aiosignal>=1.1.2 in /Users/ayushjain/Library/Python/3.9/lib/python/site-packages (from aiohttp->datasets) (1.3.1)\n",
      "Requirement already satisfied: attrs>=17.3.0 in /Users/ayushjain/Library/Python/3.9/lib/python/site-packages (from aiohttp->datasets) (23.2.0)\n",
      "Requirement already satisfied: frozenlist>=1.1.1 in /Users/ayushjain/Library/Python/3.9/lib/python/site-packages (from aiohttp->datasets) (1.4.1)\n",
      "Requirement already satisfied: multidict<7.0,>=4.5 in /Users/ayushjain/Library/Python/3.9/lib/python/site-packages (from aiohttp->datasets) (6.0.5)\n",
      "Requirement already satisfied: yarl<2.0,>=1.0 in /Users/ayushjain/Library/Python/3.9/lib/python/site-packages (from aiohttp->datasets) (1.9.4)\n",
      "Requirement already satisfied: async-timeout<5.0,>=4.0 in /Users/ayushjain/Library/Python/3.9/lib/python/site-packages (from aiohttp->datasets) (4.0.3)\n",
      "Requirement already satisfied: typing-extensions>=3.7.4.3 in /Users/ayushjain/Library/Python/3.9/lib/python/site-packages (from huggingface-hub>=0.19.4->datasets) (4.9.0)\n",
      "Requirement already satisfied: charset-normalizer<4,>=2 in /Users/ayushjain/Library/Python/3.9/lib/python/site-packages (from requests>=2.19.0->datasets) (3.3.2)\n",
      "Requirement already satisfied: idna<4,>=2.5 in /Users/ayushjain/Library/Python/3.9/lib/python/site-packages (from requests>=2.19.0->datasets) (3.6)\n",
      "Requirement already satisfied: urllib3<3,>=1.21.1 in /Users/ayushjain/Library/Python/3.9/lib/python/site-packages (from requests>=2.19.0->datasets) (2.2.1)\n",
      "Requirement already satisfied: certifi>=2017.4.17 in /Users/ayushjain/Library/Python/3.9/lib/python/site-packages (from requests>=2.19.0->datasets) (2024.2.2)\n",
      "Requirement already satisfied: python-dateutil>=2.8.2 in /Users/ayushjain/Library/Python/3.9/lib/python/site-packages (from pandas->datasets) (2.9.0.post0)\n",
      "Requirement already satisfied: pytz>=2020.1 in /Users/ayushjain/Library/Python/3.9/lib/python/site-packages (from pandas->datasets) (2024.1)\n",
      "Requirement already satisfied: tzdata>=2022.7 in /Users/ayushjain/Library/Python/3.9/lib/python/site-packages (from pandas->datasets) (2024.1)\n",
      "Requirement already satisfied: six>=1.5 in /Library/Developer/CommandLineTools/Library/Frameworks/Python3.framework/Versions/3.9/lib/python3.9/site-packages (from python-dateutil>=2.8.2->pandas->datasets) (1.15.0)\n",
      "Defaulting to user installation because normal site-packages is not writeable\n",
      "Collecting bertopic\n",
      "  Using cached bertopic-0.16.0-py2.py3-none-any.whl.metadata (21 kB)\n",
      "Requirement already satisfied: numpy>=1.20.0 in /Users/ayushjain/Library/Python/3.9/lib/python/site-packages (from bertopic) (1.26.4)\n",
      "Collecting hdbscan>=0.8.29 (from bertopic)\n",
      "  Using cached hdbscan-0.8.33-cp39-cp39-macosx_10_9_universal2.whl\n",
      "Collecting umap-learn>=0.5.0 (from bertopic)\n",
      "  Using cached umap-learn-0.5.5.tar.gz (90 kB)\n",
      "  Preparing metadata (setup.py) ... \u001b[?25ldone\n",
      "\u001b[?25hRequirement already satisfied: pandas>=1.1.5 in /Users/ayushjain/Library/Python/3.9/lib/python/site-packages (from bertopic) (2.2.1)\n",
      "Collecting scikit-learn>=0.22.2.post1 (from bertopic)\n",
      "  Using cached scikit_learn-1.4.1.post1-cp39-cp39-macosx_12_0_arm64.whl.metadata (11 kB)\n",
      "Requirement already satisfied: tqdm>=4.41.1 in /Users/ayushjain/Library/Python/3.9/lib/python/site-packages (from bertopic) (4.66.2)\n",
      "Collecting sentence-transformers>=0.4.1 (from bertopic)\n",
      "  Using cached sentence_transformers-2.5.1-py3-none-any.whl.metadata (11 kB)\n",
      "Collecting plotly>=4.7.0 (from bertopic)\n",
      "  Using cached plotly-5.19.0-py3-none-any.whl.metadata (7.0 kB)\n",
      "Collecting cython<3,>=0.27 (from hdbscan>=0.8.29->bertopic)\n",
      "  Using cached Cython-0.29.37-py2.py3-none-any.whl.metadata (3.1 kB)\n",
      "Requirement already satisfied: scipy>=1.0 in /Users/ayushjain/Library/Python/3.9/lib/python/site-packages (from hdbscan>=0.8.29->bertopic) (1.12.0)\n",
      "Collecting joblib>=1.0 (from hdbscan>=0.8.29->bertopic)\n",
      "  Using cached joblib-1.3.2-py3-none-any.whl.metadata (5.4 kB)\n",
      "Requirement already satisfied: python-dateutil>=2.8.2 in /Users/ayushjain/Library/Python/3.9/lib/python/site-packages (from pandas>=1.1.5->bertopic) (2.9.0.post0)\n",
      "Requirement already satisfied: pytz>=2020.1 in /Users/ayushjain/Library/Python/3.9/lib/python/site-packages (from pandas>=1.1.5->bertopic) (2024.1)\n",
      "Requirement already satisfied: tzdata>=2022.7 in /Users/ayushjain/Library/Python/3.9/lib/python/site-packages (from pandas>=1.1.5->bertopic) (2024.1)\n",
      "Collecting tenacity>=6.2.0 (from plotly>=4.7.0->bertopic)\n",
      "  Using cached tenacity-8.2.3-py3-none-any.whl.metadata (1.0 kB)\n",
      "Requirement already satisfied: packaging in /Users/ayushjain/Library/Python/3.9/lib/python/site-packages (from plotly>=4.7.0->bertopic) (23.2)\n",
      "Collecting threadpoolctl>=2.0.0 (from scikit-learn>=0.22.2.post1->bertopic)\n",
      "  Using cached threadpoolctl-3.3.0-py3-none-any.whl.metadata (13 kB)\n",
      "Collecting transformers<5.0.0,>=4.32.0 (from sentence-transformers>=0.4.1->bertopic)\n",
      "  Using cached transformers-4.38.2-py3-none-any.whl.metadata (130 kB)\n",
      "Collecting torch>=1.11.0 (from sentence-transformers>=0.4.1->bertopic)\n",
      "  Using cached torch-2.2.1-cp39-none-macosx_11_0_arm64.whl.metadata (25 kB)\n",
      "Requirement already satisfied: huggingface-hub>=0.15.1 in /Users/ayushjain/Library/Python/3.9/lib/python/site-packages (from sentence-transformers>=0.4.1->bertopic) (0.21.3)\n",
      "Requirement already satisfied: Pillow in /Users/ayushjain/Library/Python/3.9/lib/python/site-packages (from sentence-transformers>=0.4.1->bertopic) (10.2.0)\n",
      "Collecting numba>=0.51.2 (from umap-learn>=0.5.0->bertopic)\n",
      "  Using cached numba-0.59.0-cp39-cp39-macosx_11_0_arm64.whl.metadata (2.7 kB)\n",
      "Collecting pynndescent>=0.5 (from umap-learn>=0.5.0->bertopic)\n",
      "  Using cached pynndescent-0.5.11-py3-none-any.whl.metadata (6.8 kB)\n",
      "Requirement already satisfied: filelock in /Users/ayushjain/Library/Python/3.9/lib/python/site-packages (from huggingface-hub>=0.15.1->sentence-transformers>=0.4.1->bertopic) (3.13.1)\n",
      "Requirement already satisfied: fsspec>=2023.5.0 in /Users/ayushjain/Library/Python/3.9/lib/python/site-packages (from huggingface-hub>=0.15.1->sentence-transformers>=0.4.1->bertopic) (2024.2.0)\n",
      "Requirement already satisfied: requests in /Users/ayushjain/Library/Python/3.9/lib/python/site-packages (from huggingface-hub>=0.15.1->sentence-transformers>=0.4.1->bertopic) (2.31.0)\n",
      "Requirement already satisfied: pyyaml>=5.1 in /Users/ayushjain/Library/Python/3.9/lib/python/site-packages (from huggingface-hub>=0.15.1->sentence-transformers>=0.4.1->bertopic) (6.0.1)\n",
      "Requirement already satisfied: typing-extensions>=3.7.4.3 in /Users/ayushjain/Library/Python/3.9/lib/python/site-packages (from huggingface-hub>=0.15.1->sentence-transformers>=0.4.1->bertopic) (4.9.0)\n",
      "Collecting llvmlite<0.43,>=0.42.0dev0 (from numba>=0.51.2->umap-learn>=0.5.0->bertopic)\n",
      "  Downloading llvmlite-0.42.0-cp39-cp39-macosx_11_0_arm64.whl.metadata (4.8 kB)\n",
      "Requirement already satisfied: six>=1.5 in /Library/Developer/CommandLineTools/Library/Frameworks/Python3.framework/Versions/3.9/lib/python3.9/site-packages (from python-dateutil>=2.8.2->pandas>=1.1.5->bertopic) (1.15.0)\n",
      "Collecting sympy (from torch>=1.11.0->sentence-transformers>=0.4.1->bertopic)\n",
      "  Downloading sympy-1.12-py3-none-any.whl.metadata (12 kB)\n",
      "Collecting networkx (from torch>=1.11.0->sentence-transformers>=0.4.1->bertopic)\n",
      "  Downloading networkx-3.2.1-py3-none-any.whl.metadata (5.2 kB)\n",
      "Collecting jinja2 (from torch>=1.11.0->sentence-transformers>=0.4.1->bertopic)\n",
      "  Downloading Jinja2-3.1.3-py3-none-any.whl.metadata (3.3 kB)\n",
      "Collecting regex!=2019.12.17 (from transformers<5.0.0,>=4.32.0->sentence-transformers>=0.4.1->bertopic)\n",
      "  Downloading regex-2023.12.25-cp39-cp39-macosx_11_0_arm64.whl.metadata (40 kB)\n",
      "\u001b[2K     \u001b[90m━━━━━━━━━━━━━━━━━━━━━━━━━━━━━━━━━━━━━━━━\u001b[0m \u001b[32m40.9/40.9 kB\u001b[0m \u001b[31m2.3 MB/s\u001b[0m eta \u001b[36m0:00:00\u001b[0m\n",
      "\u001b[?25hCollecting tokenizers<0.19,>=0.14 (from transformers<5.0.0,>=4.32.0->sentence-transformers>=0.4.1->bertopic)\n",
      "  Downloading tokenizers-0.15.2-cp39-cp39-macosx_11_0_arm64.whl.metadata (6.7 kB)\n",
      "Collecting safetensors>=0.4.1 (from transformers<5.0.0,>=4.32.0->sentence-transformers>=0.4.1->bertopic)\n",
      "  Downloading safetensors-0.4.2-cp39-cp39-macosx_11_0_arm64.whl.metadata (3.8 kB)\n",
      "Requirement already satisfied: MarkupSafe>=2.0 in /Users/ayushjain/Library/Python/3.9/lib/python/site-packages (from jinja2->torch>=1.11.0->sentence-transformers>=0.4.1->bertopic) (2.1.5)\n",
      "Requirement already satisfied: charset-normalizer<4,>=2 in /Users/ayushjain/Library/Python/3.9/lib/python/site-packages (from requests->huggingface-hub>=0.15.1->sentence-transformers>=0.4.1->bertopic) (3.3.2)\n",
      "Requirement already satisfied: idna<4,>=2.5 in /Users/ayushjain/Library/Python/3.9/lib/python/site-packages (from requests->huggingface-hub>=0.15.1->sentence-transformers>=0.4.1->bertopic) (3.6)\n",
      "Requirement already satisfied: urllib3<3,>=1.21.1 in /Users/ayushjain/Library/Python/3.9/lib/python/site-packages (from requests->huggingface-hub>=0.15.1->sentence-transformers>=0.4.1->bertopic) (2.2.1)\n",
      "Requirement already satisfied: certifi>=2017.4.17 in /Users/ayushjain/Library/Python/3.9/lib/python/site-packages (from requests->huggingface-hub>=0.15.1->sentence-transformers>=0.4.1->bertopic) (2024.2.2)\n",
      "Collecting mpmath>=0.19 (from sympy->torch>=1.11.0->sentence-transformers>=0.4.1->bertopic)\n",
      "  Downloading mpmath-1.3.0-py3-none-any.whl.metadata (8.6 kB)\n",
      "Downloading bertopic-0.16.0-py2.py3-none-any.whl (154 kB)\n",
      "\u001b[2K   \u001b[90m━━━━━━━━━━━━━━━━━━━━━━━━━━━━━━━━━━━━━━━━\u001b[0m \u001b[32m154.1/154.1 kB\u001b[0m \u001b[31m4.5 MB/s\u001b[0m eta \u001b[36m0:00:00\u001b[0m\n",
      "\u001b[?25hDownloading plotly-5.19.0-py3-none-any.whl (15.7 MB)\n",
      "\u001b[2K   \u001b[90m━━━━━━━━━━━━━━━━━━━━━━━━━━━━━━━━━━━━━━━━\u001b[0m \u001b[32m15.7/15.7 MB\u001b[0m \u001b[31m19.5 MB/s\u001b[0m eta \u001b[36m0:00:00\u001b[0m00:01\u001b[0m00:01\u001b[0m\n",
      "\u001b[?25hDownloading scikit_learn-1.4.1.post1-cp39-cp39-macosx_12_0_arm64.whl (10.5 MB)\n",
      "\u001b[2K   \u001b[90m━━━━━━━━━━━━━━━━━━━━━━━━━━━━━━━━━━━━━━━━\u001b[0m \u001b[32m10.5/10.5 MB\u001b[0m \u001b[31m18.6 MB/s\u001b[0m eta \u001b[36m0:00:00\u001b[0ma \u001b[36m0:00:01\u001b[0m\n",
      "\u001b[?25hDownloading sentence_transformers-2.5.1-py3-none-any.whl (156 kB)\n",
      "\u001b[2K   \u001b[90m━━━━━━━━━━━━━━━━━━━━━━━━━━━━━━━━━━━━━━━━\u001b[0m \u001b[32m156.5/156.5 kB\u001b[0m \u001b[31m10.3 MB/s\u001b[0m eta \u001b[36m0:00:00\u001b[0m\n",
      "\u001b[?25hDownloading Cython-0.29.37-py2.py3-none-any.whl (989 kB)\n",
      "\u001b[2K   \u001b[90m━━━━━━━━━━━━━━━━━━━━━━━━━━━━━━━━━━━━━━━━\u001b[0m \u001b[32m989.5/989.5 kB\u001b[0m \u001b[31m17.9 MB/s\u001b[0m eta \u001b[36m0:00:00\u001b[0ma \u001b[36m0:00:01\u001b[0m\n",
      "\u001b[?25hDownloading joblib-1.3.2-py3-none-any.whl (302 kB)\n",
      "\u001b[2K   \u001b[90m━━━━━━━━━━━━━━━━━━━━━━━━━━━━━━━━━━━━━━━━\u001b[0m \u001b[32m302.2/302.2 kB\u001b[0m \u001b[31m19.0 MB/s\u001b[0m eta \u001b[36m0:00:00\u001b[0m\n",
      "\u001b[?25hDownloading numba-0.59.0-cp39-cp39-macosx_11_0_arm64.whl (2.6 MB)\n",
      "\u001b[2K   \u001b[90m━━━━━━━━━━━━━━━━━━━━━━━━━━━━━━━━━━━━━━━━\u001b[0m \u001b[32m2.6/2.6 MB\u001b[0m \u001b[31m21.9 MB/s\u001b[0m eta \u001b[36m0:00:00\u001b[0m00:01\u001b[0m00:01\u001b[0m\n",
      "\u001b[?25hDownloading pynndescent-0.5.11-py3-none-any.whl (55 kB)\n",
      "\u001b[2K   \u001b[90m━━━━━━━━━━━━━━━━━━━━━━━━━━━━━━━━━━━━━━━━\u001b[0m \u001b[32m55.8/55.8 kB\u001b[0m \u001b[31m4.8 MB/s\u001b[0m eta \u001b[36m0:00:00\u001b[0m\n",
      "\u001b[?25hDownloading tenacity-8.2.3-py3-none-any.whl (24 kB)\n",
      "Downloading threadpoolctl-3.3.0-py3-none-any.whl (17 kB)\n",
      "Downloading torch-2.2.1-cp39-none-macosx_11_0_arm64.whl (59.7 MB)\n",
      "\u001b[2K   \u001b[90m━━━━━━━━━━━━━━━━━━━━━━━━━━━━━━━━━━━━━━━━\u001b[0m \u001b[32m59.7/59.7 MB\u001b[0m \u001b[31m16.6 MB/s\u001b[0m eta \u001b[36m0:00:00\u001b[0m00:01\u001b[0m00:01\u001b[0m\n",
      "\u001b[?25hDownloading transformers-4.38.2-py3-none-any.whl (8.5 MB)\n",
      "\u001b[2K   \u001b[90m━━━━━━━━━━━━━━━━━━━━━━━━━━━━━━━━━━━━━━━━\u001b[0m \u001b[32m8.5/8.5 MB\u001b[0m \u001b[31m16.6 MB/s\u001b[0m eta \u001b[36m0:00:00\u001b[0ma \u001b[36m0:00:01\u001b[0m\n",
      "\u001b[?25hDownloading llvmlite-0.42.0-cp39-cp39-macosx_11_0_arm64.whl (28.8 MB)\n",
      "\u001b[2K   \u001b[90m━━━━━━━━━━━━━━━━━━━━━━━━━━━━━━━━━━━━━━━━\u001b[0m \u001b[32m28.8/28.8 MB\u001b[0m \u001b[31m16.7 MB/s\u001b[0m eta \u001b[36m0:00:00\u001b[0m00:01\u001b[0m00:01\u001b[0m\n",
      "\u001b[?25hDownloading regex-2023.12.25-cp39-cp39-macosx_11_0_arm64.whl (291 kB)\n",
      "\u001b[2K   \u001b[90m━━━━━━━━━━━━━━━━━━━━━━━━━━━━━━━━━━━━━━━━\u001b[0m \u001b[32m291.0/291.0 kB\u001b[0m \u001b[31m18.5 MB/s\u001b[0m eta \u001b[36m0:00:00\u001b[0m\n",
      "\u001b[?25hDownloading safetensors-0.4.2-cp39-cp39-macosx_11_0_arm64.whl (394 kB)\n",
      "\u001b[2K   \u001b[90m━━━━━━━━━━━━━━━━━━━━━━━━━━━━━━━━━━━━━━━━\u001b[0m \u001b[32m394.9/394.9 kB\u001b[0m \u001b[31m10.6 MB/s\u001b[0m eta \u001b[36m0:00:00\u001b[0m\n",
      "\u001b[?25hDownloading tokenizers-0.15.2-cp39-cp39-macosx_11_0_arm64.whl (2.4 MB)\n",
      "\u001b[2K   \u001b[90m━━━━━━━━━━━━━━━━━━━━━━━━━━━━━━━━━━━━━━━━\u001b[0m \u001b[32m2.4/2.4 MB\u001b[0m \u001b[31m17.9 MB/s\u001b[0m eta \u001b[36m0:00:00\u001b[0ma \u001b[36m0:00:01\u001b[0m\n",
      "\u001b[?25hDownloading Jinja2-3.1.3-py3-none-any.whl (133 kB)\n",
      "\u001b[2K   \u001b[90m━━━━━━━━━━━━━━━━━━━━━━━━━━━━━━━━━━━━━━━━\u001b[0m \u001b[32m133.2/133.2 kB\u001b[0m \u001b[31m10.2 MB/s\u001b[0m eta \u001b[36m0:00:00\u001b[0m\n",
      "\u001b[?25hDownloading networkx-3.2.1-py3-none-any.whl (1.6 MB)\n",
      "\u001b[2K   \u001b[90m━━━━━━━━━━━━━━━━━━━━━━━━━━━━━━━━━━━━━━━━\u001b[0m \u001b[32m1.6/1.6 MB\u001b[0m \u001b[31m22.4 MB/s\u001b[0m eta \u001b[36m0:00:00\u001b[0ma \u001b[36m0:00:01\u001b[0m\n",
      "\u001b[?25hDownloading sympy-1.12-py3-none-any.whl (5.7 MB)\n",
      "\u001b[2K   \u001b[90m━━━━━━━━━━━━━━━━━━━━━━━━━━━━━━━━━━━━━━━━\u001b[0m \u001b[32m5.7/5.7 MB\u001b[0m \u001b[31m15.1 MB/s\u001b[0m eta \u001b[36m0:00:00\u001b[0ma \u001b[36m0:00:01\u001b[0m\n",
      "\u001b[?25hDownloading mpmath-1.3.0-py3-none-any.whl (536 kB)\n",
      "\u001b[2K   \u001b[90m━━━━━━━━━━━━━━━━━━━━━━━━━━━━━━━━━━━━━━━━\u001b[0m \u001b[32m536.2/536.2 kB\u001b[0m \u001b[31m18.7 MB/s\u001b[0m eta \u001b[36m0:00:00\u001b[0m\n",
      "\u001b[?25hBuilding wheels for collected packages: umap-learn\n",
      "  Building wheel for umap-learn (setup.py) ... \u001b[?25ldone\n",
      "\u001b[?25h  Created wheel for umap-learn: filename=umap_learn-0.5.5-py3-none-any.whl size=86854 sha256=221939ad66b34a5bd1ce0e9d68299eafbf1eac8850ddd537efe8232c618f8cbc\n",
      "  Stored in directory: /Users/ayushjain/Library/Caches/pip/wheels/0f/01/17/26951217a11fb724b7027c6dd5b620b6d368104f7e6d4171fc\n",
      "Successfully built umap-learn\n",
      "Installing collected packages: mpmath, threadpoolctl, tenacity, sympy, safetensors, regex, networkx, llvmlite, joblib, jinja2, cython, torch, scikit-learn, plotly, numba, tokenizers, pynndescent, hdbscan, umap-learn, transformers, sentence-transformers, bertopic\n",
      "Successfully installed bertopic-0.16.0 cython-0.29.37 hdbscan-0.8.33 jinja2-3.1.3 joblib-1.3.2 llvmlite-0.42.0 mpmath-1.3.0 networkx-3.2.1 numba-0.59.0 plotly-5.19.0 pynndescent-0.5.11 regex-2023.12.25 safetensors-0.4.2 scikit-learn-1.4.1.post1 sentence-transformers-2.5.1 sympy-1.12 tenacity-8.2.3 threadpoolctl-3.3.0 tokenizers-0.15.2 torch-2.2.1 transformers-4.38.2 umap-learn-0.5.5\n",
      "Defaulting to user installation because normal site-packages is not writeable\n",
      "Collecting langchain\n",
      "  Downloading langchain-0.1.10-py3-none-any.whl.metadata (13 kB)\n",
      "Requirement already satisfied: PyYAML>=5.3 in /Users/ayushjain/Library/Python/3.9/lib/python/site-packages (from langchain) (6.0.1)\n",
      "Collecting SQLAlchemy<3,>=1.4 (from langchain)\n",
      "  Downloading SQLAlchemy-2.0.28-cp39-cp39-macosx_11_0_arm64.whl.metadata (9.6 kB)\n",
      "Requirement already satisfied: aiohttp<4.0.0,>=3.8.3 in /Users/ayushjain/Library/Python/3.9/lib/python/site-packages (from langchain) (3.9.3)\n",
      "Requirement already satisfied: async-timeout<5.0.0,>=4.0.0 in /Users/ayushjain/Library/Python/3.9/lib/python/site-packages (from langchain) (4.0.3)\n",
      "Collecting dataclasses-json<0.7,>=0.5.7 (from langchain)\n",
      "  Using cached dataclasses_json-0.6.4-py3-none-any.whl.metadata (25 kB)\n",
      "Collecting jsonpatch<2.0,>=1.33 (from langchain)\n",
      "  Using cached jsonpatch-1.33-py2.py3-none-any.whl.metadata (3.0 kB)\n",
      "Collecting langchain-community<0.1,>=0.0.25 (from langchain)\n",
      "  Downloading langchain_community-0.0.25-py3-none-any.whl.metadata (8.1 kB)\n",
      "Collecting langchain-core<0.2,>=0.1.28 (from langchain)\n",
      "  Downloading langchain_core-0.1.28-py3-none-any.whl.metadata (6.0 kB)\n",
      "Collecting langchain-text-splitters<0.1,>=0.0.1 (from langchain)\n",
      "  Downloading langchain_text_splitters-0.0.1-py3-none-any.whl.metadata (2.0 kB)\n",
      "Collecting langsmith<0.2.0,>=0.1.0 (from langchain)\n",
      "  Downloading langsmith-0.1.14-py3-none-any.whl.metadata (13 kB)\n",
      "Requirement already satisfied: numpy<2,>=1 in /Users/ayushjain/Library/Python/3.9/lib/python/site-packages (from langchain) (1.26.4)\n",
      "Collecting pydantic<3,>=1 (from langchain)\n",
      "  Downloading pydantic-2.6.3-py3-none-any.whl.metadata (84 kB)\n",
      "\u001b[2K     \u001b[90m━━━━━━━━━━━━━━━━━━━━━━━━━━━━━━━━━━━━━━━━\u001b[0m \u001b[32m84.4/84.4 kB\u001b[0m \u001b[31m2.3 MB/s\u001b[0m eta \u001b[36m0:00:00\u001b[0ma \u001b[36m0:00:01\u001b[0m\n",
      "\u001b[?25hRequirement already satisfied: requests<3,>=2 in /Users/ayushjain/Library/Python/3.9/lib/python/site-packages (from langchain) (2.31.0)\n",
      "Requirement already satisfied: tenacity<9.0.0,>=8.1.0 in /Users/ayushjain/Library/Python/3.9/lib/python/site-packages (from langchain) (8.2.3)\n",
      "Requirement already satisfied: aiosignal>=1.1.2 in /Users/ayushjain/Library/Python/3.9/lib/python/site-packages (from aiohttp<4.0.0,>=3.8.3->langchain) (1.3.1)\n",
      "Requirement already satisfied: attrs>=17.3.0 in /Users/ayushjain/Library/Python/3.9/lib/python/site-packages (from aiohttp<4.0.0,>=3.8.3->langchain) (23.2.0)\n",
      "Requirement already satisfied: frozenlist>=1.1.1 in /Users/ayushjain/Library/Python/3.9/lib/python/site-packages (from aiohttp<4.0.0,>=3.8.3->langchain) (1.4.1)\n",
      "Requirement already satisfied: multidict<7.0,>=4.5 in /Users/ayushjain/Library/Python/3.9/lib/python/site-packages (from aiohttp<4.0.0,>=3.8.3->langchain) (6.0.5)\n",
      "Requirement already satisfied: yarl<2.0,>=1.0 in /Users/ayushjain/Library/Python/3.9/lib/python/site-packages (from aiohttp<4.0.0,>=3.8.3->langchain) (1.9.4)\n",
      "Collecting marshmallow<4.0.0,>=3.18.0 (from dataclasses-json<0.7,>=0.5.7->langchain)\n",
      "  Using cached marshmallow-3.21.0-py3-none-any.whl.metadata (7.2 kB)\n",
      "Collecting typing-inspect<1,>=0.4.0 (from dataclasses-json<0.7,>=0.5.7->langchain)\n",
      "  Using cached typing_inspect-0.9.0-py3-none-any.whl.metadata (1.5 kB)\n",
      "Collecting jsonpointer>=1.9 (from jsonpatch<2.0,>=1.33->langchain)\n",
      "  Using cached jsonpointer-2.4-py2.py3-none-any.whl.metadata (2.5 kB)\n",
      "Collecting anyio<5,>=3 (from langchain-core<0.2,>=0.1.28->langchain)\n",
      "  Downloading anyio-4.3.0-py3-none-any.whl.metadata (4.6 kB)\n",
      "Requirement already satisfied: packaging<24.0,>=23.2 in /Users/ayushjain/Library/Python/3.9/lib/python/site-packages (from langchain-core<0.2,>=0.1.28->langchain) (23.2)\n",
      "Collecting orjson<4.0.0,>=3.9.14 (from langsmith<0.2.0,>=0.1.0->langchain)\n",
      "  Downloading orjson-3.9.15-cp39-cp39-macosx_10_15_x86_64.macosx_11_0_arm64.macosx_10_15_universal2.whl.metadata (49 kB)\n",
      "\u001b[2K     \u001b[90m━━━━━━━━━━━━━━━━━━━━━━━━━━━━━━━━━━━━━━━━\u001b[0m \u001b[32m49.5/49.5 kB\u001b[0m \u001b[31m5.3 MB/s\u001b[0m eta \u001b[36m0:00:00\u001b[0m\n",
      "\u001b[?25hCollecting annotated-types>=0.4.0 (from pydantic<3,>=1->langchain)\n",
      "  Downloading annotated_types-0.6.0-py3-none-any.whl.metadata (12 kB)\n",
      "Collecting pydantic-core==2.16.3 (from pydantic<3,>=1->langchain)\n",
      "  Downloading pydantic_core-2.16.3-cp39-cp39-macosx_11_0_arm64.whl.metadata (6.5 kB)\n",
      "Requirement already satisfied: typing-extensions>=4.6.1 in /Users/ayushjain/Library/Python/3.9/lib/python/site-packages (from pydantic<3,>=1->langchain) (4.9.0)\n",
      "Requirement already satisfied: charset-normalizer<4,>=2 in /Users/ayushjain/Library/Python/3.9/lib/python/site-packages (from requests<3,>=2->langchain) (3.3.2)\n",
      "Requirement already satisfied: idna<4,>=2.5 in /Users/ayushjain/Library/Python/3.9/lib/python/site-packages (from requests<3,>=2->langchain) (3.6)\n",
      "Requirement already satisfied: urllib3<3,>=1.21.1 in /Users/ayushjain/Library/Python/3.9/lib/python/site-packages (from requests<3,>=2->langchain) (2.2.1)\n",
      "Requirement already satisfied: certifi>=2017.4.17 in /Users/ayushjain/Library/Python/3.9/lib/python/site-packages (from requests<3,>=2->langchain) (2024.2.2)\n",
      "Collecting sniffio>=1.1 (from anyio<5,>=3->langchain-core<0.2,>=0.1.28->langchain)\n",
      "  Downloading sniffio-1.3.1-py3-none-any.whl.metadata (3.9 kB)\n",
      "Requirement already satisfied: exceptiongroup>=1.0.2 in /Users/ayushjain/Library/Python/3.9/lib/python/site-packages (from anyio<5,>=3->langchain-core<0.2,>=0.1.28->langchain) (1.2.0)\n",
      "Collecting mypy-extensions>=0.3.0 (from typing-inspect<1,>=0.4.0->dataclasses-json<0.7,>=0.5.7->langchain)\n",
      "  Using cached mypy_extensions-1.0.0-py3-none-any.whl.metadata (1.1 kB)\n",
      "Downloading langchain-0.1.10-py3-none-any.whl (806 kB)\n",
      "\u001b[2K   \u001b[90m━━━━━━━━━━━━━━━━━━━━━━━━━━━━━━━━━━━━━━━━\u001b[0m \u001b[32m806.2/806.2 kB\u001b[0m \u001b[31m10.4 MB/s\u001b[0m eta \u001b[36m0:00:00\u001b[0m \u001b[36m0:00:01\u001b[0m\n",
      "\u001b[?25hUsing cached dataclasses_json-0.6.4-py3-none-any.whl (28 kB)\n",
      "Using cached jsonpatch-1.33-py2.py3-none-any.whl (12 kB)\n",
      "Downloading langchain_community-0.0.25-py3-none-any.whl (1.8 MB)\n",
      "\u001b[2K   \u001b[90m━━━━━━━━━━━━━━━━━━━━━━━━━━━━━━━━━━━━━━━━\u001b[0m \u001b[32m1.8/1.8 MB\u001b[0m \u001b[31m9.4 MB/s\u001b[0m eta \u001b[36m0:00:00\u001b[0m:00:01\u001b[0m00:01\u001b[0m\n",
      "\u001b[?25hDownloading langchain_core-0.1.28-py3-none-any.whl (252 kB)\n",
      "\u001b[2K   \u001b[90m━━━━━━━━━━━━━━━━━━━━━━━━━━━━━━━━━━━━━━━━\u001b[0m \u001b[32m252.4/252.4 kB\u001b[0m \u001b[31m9.2 MB/s\u001b[0m eta \u001b[36m0:00:00\u001b[0m\n",
      "\u001b[?25hDownloading langchain_text_splitters-0.0.1-py3-none-any.whl (21 kB)\n",
      "Downloading langsmith-0.1.14-py3-none-any.whl (64 kB)\n",
      "\u001b[2K   \u001b[90m━━━━━━━━━━━━━━━━━━━━━━━━━━━━━━━━━━━━━━━━\u001b[0m \u001b[32m64.5/64.5 kB\u001b[0m \u001b[31m5.4 MB/s\u001b[0m eta \u001b[36m0:00:00\u001b[0m\n",
      "\u001b[?25hDownloading pydantic-2.6.3-py3-none-any.whl (395 kB)\n",
      "\u001b[2K   \u001b[90m━━━━━━━━━━━━━━━━━━━━━━━━━━━━━━━━━━━━━━━━\u001b[0m \u001b[32m395.2/395.2 kB\u001b[0m \u001b[31m17.5 MB/s\u001b[0m eta \u001b[36m0:00:00\u001b[0m\n",
      "\u001b[?25hDownloading pydantic_core-2.16.3-cp39-cp39-macosx_11_0_arm64.whl (1.8 MB)\n",
      "\u001b[2K   \u001b[90m━━━━━━━━━━━━━━━━━━━━━━━━━━━━━━━━━━━━━━━━\u001b[0m \u001b[32m1.8/1.8 MB\u001b[0m \u001b[31m19.0 MB/s\u001b[0m eta \u001b[36m0:00:00\u001b[0ma \u001b[36m0:00:01\u001b[0m\n",
      "\u001b[?25hDownloading SQLAlchemy-2.0.28-cp39-cp39-macosx_11_0_arm64.whl (2.1 MB)\n",
      "\u001b[2K   \u001b[90m━━━━━━━━━━━━━━━━━━━━━━━━━━━━━━━━━━━━━━━━\u001b[0m \u001b[32m2.1/2.1 MB\u001b[0m \u001b[31m24.3 MB/s\u001b[0m eta \u001b[36m0:00:00\u001b[0m00:01\u001b[0m00:01\u001b[0m\n",
      "\u001b[?25hDownloading annotated_types-0.6.0-py3-none-any.whl (12 kB)\n",
      "Downloading anyio-4.3.0-py3-none-any.whl (85 kB)\n",
      "\u001b[2K   \u001b[90m━━━━━━━━━━━━━━━━━━━━━━━━━━━━━━━━━━━━━━━━\u001b[0m \u001b[32m85.6/85.6 kB\u001b[0m \u001b[31m6.1 MB/s\u001b[0m eta \u001b[36m0:00:00\u001b[0m\n",
      "\u001b[?25hUsing cached jsonpointer-2.4-py2.py3-none-any.whl (7.8 kB)\n",
      "Using cached marshmallow-3.21.0-py3-none-any.whl (49 kB)\n",
      "Downloading orjson-3.9.15-cp39-cp39-macosx_10_15_x86_64.macosx_11_0_arm64.macosx_10_15_universal2.whl (248 kB)\n",
      "\u001b[2K   \u001b[90m━━━━━━━━━━━━━━━━━━━━━━━━━━━━━━━━━━━━━━━━\u001b[0m \u001b[32m248.2/248.2 kB\u001b[0m \u001b[31m10.8 MB/s\u001b[0m eta \u001b[36m0:00:00\u001b[0m\n",
      "\u001b[?25hUsing cached typing_inspect-0.9.0-py3-none-any.whl (8.8 kB)\n",
      "Using cached mypy_extensions-1.0.0-py3-none-any.whl (4.7 kB)\n",
      "Downloading sniffio-1.3.1-py3-none-any.whl (10 kB)\n",
      "Installing collected packages: SQLAlchemy, sniffio, pydantic-core, orjson, mypy-extensions, marshmallow, jsonpointer, annotated-types, typing-inspect, pydantic, jsonpatch, anyio, langsmith, dataclasses-json, langchain-core, langchain-text-splitters, langchain-community, langchain\n",
      "Successfully installed SQLAlchemy-2.0.28 annotated-types-0.6.0 anyio-4.3.0 dataclasses-json-0.6.4 jsonpatch-1.33 jsonpointer-2.4 langchain-0.1.10 langchain-community-0.0.25 langchain-core-0.1.28 langchain-text-splitters-0.0.1 langsmith-0.1.14 marshmallow-3.21.0 mypy-extensions-1.0.0 orjson-3.9.15 pydantic-2.6.3 pydantic-core-2.16.3 sniffio-1.3.1 typing-inspect-0.9.0\n",
      "Defaulting to user installation because normal site-packages is not writeable\n",
      "Requirement already satisfied: ctransformers in /Users/ayushjain/Library/Python/3.9/lib/python/site-packages (0.2.27)\n",
      "Requirement already satisfied: huggingface-hub in /Users/ayushjain/Library/Python/3.9/lib/python/site-packages (from ctransformers) (0.21.3)\n",
      "Requirement already satisfied: py-cpuinfo<10.0.0,>=9.0.0 in /Users/ayushjain/Library/Python/3.9/lib/python/site-packages (from ctransformers) (9.0.0)\n",
      "Requirement already satisfied: filelock in /Users/ayushjain/Library/Python/3.9/lib/python/site-packages (from huggingface-hub->ctransformers) (3.13.1)\n",
      "Requirement already satisfied: fsspec>=2023.5.0 in /Users/ayushjain/Library/Python/3.9/lib/python/site-packages (from huggingface-hub->ctransformers) (2024.2.0)\n",
      "Requirement already satisfied: requests in /Users/ayushjain/Library/Python/3.9/lib/python/site-packages (from huggingface-hub->ctransformers) (2.31.0)\n",
      "Requirement already satisfied: tqdm>=4.42.1 in /Users/ayushjain/Library/Python/3.9/lib/python/site-packages (from huggingface-hub->ctransformers) (4.66.2)\n",
      "Requirement already satisfied: pyyaml>=5.1 in /Users/ayushjain/Library/Python/3.9/lib/python/site-packages (from huggingface-hub->ctransformers) (6.0.1)\n",
      "Requirement already satisfied: typing-extensions>=3.7.4.3 in /Users/ayushjain/Library/Python/3.9/lib/python/site-packages (from huggingface-hub->ctransformers) (4.9.0)\n",
      "Requirement already satisfied: packaging>=20.9 in /Users/ayushjain/Library/Python/3.9/lib/python/site-packages (from huggingface-hub->ctransformers) (23.2)\n",
      "Requirement already satisfied: charset-normalizer<4,>=2 in /Users/ayushjain/Library/Python/3.9/lib/python/site-packages (from requests->huggingface-hub->ctransformers) (3.3.2)\n",
      "Requirement already satisfied: idna<4,>=2.5 in /Users/ayushjain/Library/Python/3.9/lib/python/site-packages (from requests->huggingface-hub->ctransformers) (3.6)\n",
      "Requirement already satisfied: urllib3<3,>=1.21.1 in /Users/ayushjain/Library/Python/3.9/lib/python/site-packages (from requests->huggingface-hub->ctransformers) (2.2.1)\n",
      "Requirement already satisfied: certifi>=2017.4.17 in /Users/ayushjain/Library/Python/3.9/lib/python/site-packages (from requests->huggingface-hub->ctransformers) (2024.2.2)\n",
      "Defaulting to user installation because normal site-packages is not writeable\n",
      "Collecting nltk\n",
      "  Using cached nltk-3.8.1-py3-none-any.whl.metadata (2.8 kB)\n",
      "Collecting click (from nltk)\n",
      "  Downloading click-8.1.7-py3-none-any.whl.metadata (3.0 kB)\n",
      "Requirement already satisfied: joblib in /Users/ayushjain/Library/Python/3.9/lib/python/site-packages (from nltk) (1.3.2)\n",
      "Requirement already satisfied: regex>=2021.8.3 in /Users/ayushjain/Library/Python/3.9/lib/python/site-packages (from nltk) (2023.12.25)\n",
      "Requirement already satisfied: tqdm in /Users/ayushjain/Library/Python/3.9/lib/python/site-packages (from nltk) (4.66.2)\n",
      "Using cached nltk-3.8.1-py3-none-any.whl (1.5 MB)\n",
      "Downloading click-8.1.7-py3-none-any.whl (97 kB)\n",
      "\u001b[2K   \u001b[90m━━━━━━━━━━━━━━━━━━━━━━━━━━━━━━━━━━━━━━━━\u001b[0m \u001b[32m97.9/97.9 kB\u001b[0m \u001b[31m2.9 MB/s\u001b[0m eta \u001b[36m0:00:00\u001b[0m\n",
      "\u001b[?25hInstalling collected packages: click, nltk\n",
      "Successfully installed click-8.1.7 nltk-3.8.1\n",
      "Defaulting to user installation because normal site-packages is not writeable\n",
      "Collecting sentencepiece\n",
      "  Using cached sentencepiece-0.2.0-cp39-cp39-macosx_11_0_arm64.whl.metadata (7.7 kB)\n",
      "Using cached sentencepiece-0.2.0-cp39-cp39-macosx_11_0_arm64.whl (1.2 MB)\n",
      "Installing collected packages: sentencepiece\n",
      "Successfully installed sentencepiece-0.2.0\n"
     ]
    }
   ],
   "source": [
    "!pip install datasets\n",
    "!pip install bertopic\n",
    "!pip install langchain\n",
    "!pip install ctransformers\n",
    "!pip install nltk\n",
    "!pip install sentencepiece"
   ]
  },
  {
   "cell_type": "markdown",
   "metadata": {},
   "source": [
    "## Topic Modeling with Wiki-Dataset\n",
    "\n",
    "# Goals\n",
    "- Match each description to its list of topics \n",
    "- Clean up list of topics to remove hallucinations\n",
    "  - Use Vicuna and/or Mistral-Instruct\n",
    "  - Can mess with top_k \n",
    "  - Can mess with temperature=0 to ask gpt to perform cleaning\n",
    "- Clean Up Method #2\n",
    "  - Find most common tags\n",
    "  - For outlier tags send it to a model to see if the list of most common tags correlates to the provided tag\n",
    "    - Need to find a method to distinguish between bad and good outlier "
   ]
  },
  {
   "cell_type": "code",
   "execution_count": 2,
   "metadata": {},
   "outputs": [
    {
     "name": "stderr",
     "output_type": "stream",
     "text": [
      "/Users/ayushjain/Library/Python/3.9/lib/python/site-packages/urllib3/__init__.py:35: NotOpenSSLWarning: urllib3 v2 only supports OpenSSL 1.1.1+, currently the 'ssl' module is compiled with 'LibreSSL 2.8.3'. See: https://github.com/urllib3/urllib3/issues/3020\n",
      "  warnings.warn(\n",
      "/Users/ayushjain/Library/Python/3.9/lib/python/site-packages/tqdm/auto.py:21: TqdmWarning: IProgress not found. Please update jupyter and ipywidgets. See https://ipywidgets.readthedocs.io/en/stable/user_install.html\n",
      "  from .autonotebook import tqdm as notebook_tqdm\n"
     ]
    }
   ],
   "source": [
    "from datasets import load_dataset\n",
    "from bertopic import BERTopic \n",
    "from langchain.prompts import PromptTemplate\n",
    "from langchain.llms import CTransformers #use a better method \n",
    "\n",
    "from sklearn.feature_extraction.text import CountVectorizer"
   ]
  },
  {
   "cell_type": "markdown",
   "metadata": {},
   "source": [
    "DatasetDict({\n",
    "    train: Dataset({\n",
    "        features: ['article_text', 'topic'],\n",
    "        num_rows: 22463\n",
    "    })\n",
    "})"
   ]
  },
  {
   "cell_type": "code",
   "execution_count": 3,
   "metadata": {},
   "outputs": [
    {
     "data": {
      "text/plain": [
       "Dataset({\n",
       "    features: ['article_text', 'topic'],\n",
       "    num_rows: 22463\n",
       "})"
      ]
     },
     "execution_count": 3,
     "metadata": {},
     "output_type": "execute_result"
    }
   ],
   "source": [
    "#load in dataset\n",
    "dataset = load_dataset(\"valurank/Topic_Classification\", split='train')\n",
    "dataset"
   ]
  },
  {
   "cell_type": "code",
   "execution_count": 4,
   "metadata": {},
   "outputs": [
    {
     "data": {
      "text/plain": [
       "['NEWYou can now listen to Fox News articles! The Mercedes-Benz S-Class has always been a special car.Before it started using that name in 1972, brand’s top model was known as the Sonderklasse, which is German for \"Special Class,\" denoting its position as the flagship of the fleet.It’s been used as a showcase for the latest technologies including new engines, airbags, anti-lock brakes and traction control, and the newest \"S\" follows in that tradition.Not the redesigned S-Class that launched last year, but the EQS sedan that’s now in showrooms and is Mercedes-Benz’s first purpose-built electric car. The EQS is the first purpose-built electric car from Mercedes-Benz (Mercedes-Benz)The automaker has made other electric vehicles, but on platforms shared with internal combustion engine models. The EQS is the first built on a dedicated EV chassis that will spawn other lines in the years to come.The EQS starts at $103,360, and no one would call that cheap, but it is around $9,000 less than the lowest-priced S-Class, and that’s before factoring in the $7,500 federal tax credit it qualifies for. An annual estimated fuel savings of $2,700 for a typical driver just keeps racking up the savings. You\\'ve got to have money to make money, as they say. The EQS starts at $103,360. (Mercedes-Benz)The two cars are similar in size, which is enormous, but the EQS has an entirely different look. It features a ‘cab-forward\" design with a low sleek nose that flows into the windshield and over the roof to a hatchback rear end. The somewhat aquatic shape gives the EQS the lowest drag coefficient of any vehicle on sale today.Aerodynamic efficiency is particularly important for electric cars as they need to stretch their electrons as far as they will go, due to how long it takes to recharge, even at the most powerful public stations. The EQS is a four-door hatchback. (Mercedes-Benz)The EQS does do it quicker than many and can charge its 107-kilowatt-hour battery from 10% to 80% in as few as 31 minutes. All fast chargers slow down above 80% to avoid stressing the batteries too much, which can reduce their lifespan. A full charge on a 240-volt charger, like those used at home, is an 11-hour affair.Filled to the brim, the entry-level 329 hp rear-wheel-drive EQS 450+ has an EPA rated range of 350 miles, while the 516 hp all-wheel-drive EQS 580 4Matic can make it 340 miles between charging stops at the equivalent of 95 mpg. My real-world test of the EQS 580 4Matic suggested the figures are fairly accurate, and anything above 300 miles per charge reduces \"range anxiety\" significantly.CLICK HERE FOR MORE FOX NEWS CAR REVIEWSThe EQS comes standard with an adaptive air suspension that gives it an almost eerily smooth ride on rough city streets plus a four-wheel-steering system that can turn the rear wheels up to 10 degrees in the opposite direction as the fronts at low speeds. This effectively \"shrinks\" the car by allowing it to make turns as tightly as a compact Mercedes-Benz A-Class. On the highway, the lane-centering radar cruise control locks the vehicle within the middle of the lines, but requires you to keep a hand touching the wheel. The EQS is equipped with four-wheel steering. (Fox News Autos)Despite its three-ton weight, the EQS 450+ can accelerate to 60 mph in six seconds and the EQS 580 4Matic needs just four. Holes in traffic are instantly filled when you hit the accelerator, which is accompanied by a choice of two computer-generated motor noises. One sounds more like a combustion engine, the other like a spaceship. Such enhancements are often unconvincing and annoying in many electric cars, but I never felt the need to look for an \"off\" button in the EQS. That’s good, because there isn’t one. The Hyperscreen covers three digital displays. (Mercedes-Benz)The EQS also debuts Mercedes-Benz’s new Hyperscreen instrument panel. It’s a door-to-door single pane of glass that covers three digital displays. There’s the gauge cluster, a central touchscreen infotainment system and a secondary screen in front of the passenger that allows them to control several functions without having to reach all the way over to the middle of the dashboard.HERE\\'S WHY A MERCEDES-BENZ SOLD FOR A RECORD $143 MILLIONIt is a stretch as the EQS is as spacious as a concert hall. All outboard passengers are provided with heated and cooled reclining seats and there\\'s a removable tablet in the fold-down rear center armrest that can be used to adjust the temperature, volume and do a couple of other things. The EQS is as spacious as an S-Class. (Mercedes-Benz)The Hyperscreen generally works pretty well, but it and the other touch-sensitive controls on the front armrest and steering wheel are occasionally finicky to operate. The interior is also dressed in miles of LED strips and ambient lights that can be adjusted to any color or set to cycle through all of them, putting on a show worthy of an EDM festival, especially when the 15-speaker Burmeister surround sound audio system is cranked up.Mercedes-Benz really went out of its way to make the EQS feel like the future and succeeded in creating a dazzling alternative to the sportier, but smaller Tesla Model S. You probably can’t afford one, but if history is any guide, a lot of what it has to offer will find its way into more affordable vehicles in the coming years.CLICK HERE TO GET THE FOX NEWS APPIn the meantime, considering the aggressive price point compared to the S-Class, and the fact that many of those are used as limousines and never stray too far from home, I think you can expect to see a lot of people who can afford it cruising around your downtown financial and nightlife districts in the EQS sooner than that.----------2022 Mercedes-Benz EQSBase price: $103,360Type: 5-passenger, 4-door, all-wheel-drive hatchbackDrivetrain: Dual electric motorsPower: 516 hp/631 lb-ftTransmission: single-speed automaticMPGe: 95 combined Gary Gastelu is FoxNews.com\\'s Automotive Editor covering the car industry and racing @foxnewsautos',\n",
       " \"A second Love Island star has already exited the villa in a savage recoupling twist. It follows on from Liam Llewellyn's exit from the ITV2 show earlier this weekA second Love Island star has already exited the villa in a savage recoupling twist. It follows on from Liam Llewellyn's exit from the ITV2 show earlier this week Another Love Island star has already left the villa in a huge recoupling twist. It has been reported that one more contestant has said goodbye to the ITV2 show, with the dramatic exit reportedly set to air on Tuesday night's show. It comes hot off the heels of Liam Llewellyn's exit from the programme after he decided he just wasn't able to be himself during his time in the Majorcan villa. We'll be bringing you the latest updates on this breaking showbiz news story. Please check back regularly for updates on this developing story HERE . Get email updates on the day’s biggest stories straight to your inbox by signing up for our newsletters . Get all the big headlines, pictures, analysis, opinion and video on the stories that matter to you by following The Mirror every time you see our name. Follow The Mirror on Google News - CLICK HERE and click the star Follow The Mirror on Apple News - CLICK HERE available on Apple devices Follow The Mirror on Flipboard - CLICK HERE and click follow You can sign up for Twitter alerts for breaking news here @MirrorBreaking_ and follow us @MirrorCeleb for all the latest updates. Keep up-to-date with your must-see news, features, videos and pictures throughout the day by following us on Facebook at facebook.com/MirrorCeleb See all our social accounts you can follow here: mirror.co.uk/social\",\n",
       " 'Lord Lloyd-Webber received boos on the closing night of his West End production of Cinderella as audience members responded to a letter read out on his behalf.Lloyd-Webber did not attend the final performance at the Gillian Lynne Theatre on Sunday evening, but sent a message in which he described the production as “a costly mistake”.The composer’s letter was read to the audience by Laurence Connor, director of the show, which ran for less than a year.“I am hugely sorry not to be able to be with you today, but I want to thank everyone from our fabulous cast, crew and musicians, the superb creative team, Laurence,” Lloyd-Webber said in the letter. “I keep thinking if only we had opened three months later,',\n",
       " 'Ozzy Osbourne, 73, to undergo major surgery that could \\'determine the rest of his life\\', says wife Sharon as she jets to Los Angeles to be by his sideOzzy was last publicly seen in May with the frail singer leaning on a cane as he walked The rocker has Parkinson\\'s disease and previously suffered a nasty fall and dislodged metal rods placed in his spine following a quad-bike accident in 2003 Ozzy previously opened up about his Parkinson’s diagnosis in a candid interview on US TV, in which he admitted the condition is \\'just another thing on my plate\\'He said: \\'Well the one question from me was, \"Is it a terminal illness?\", and the guy says, \"No, but life is\" Published: 19:10 EDT, 12 June 2022 | Updated: 08:25 EDT, 13 June 2022 Ozzy Osbourne is having major surgery on Monday, which will \\'determine the rest of his life\\'.The Dreamer hitmaker\\'s wife Sharon revealed her plans to head back to Los Angeles from London to be there for her spouse as he undergoes the life-changing operation. The 73-year-old rocker, who was diagnosed with Parkinson\\'s disease in 2019, was last publicly seen in May - with the frail singer leaning on a cane as he walked.Speaking on the UK\\'s The Talk on TalkTV, Sharon said: \\'[Ozzy] has a very major operation on Monday, and I have to be there. Medical attention: Ozzy Osbourne, 73, is having major surgery on Monday, which will \\'determine the rest of his life\\' (pictured May 2022)\\'It’s really going to determine the rest of his life.\\'MailOnline has contacted a representative for Ozzy for comment. During her show Sharon, 69, added that the star still had plenty to look forward to after his operation as their son Jack’s baby daughter with fiancée Aree Gearheart is due ‘in about three weeks’.Meanwhile, the music manager and Ozzy will be celebrating their 40th wedding anniversary on July 1.  Couple: The Dreamer hitmaker\\'s wife Sharon has revealed she is heading back to Los Angeles from London to be there for her spouse as he undergoes the life-changing operation next week (pictured January 2020) Honest: Speaking on the UK\\'s The Talk on TalkTV, she said: \\'[Ozzy] has a very major operation on Monday, and I have to be there\\' Ozzy revealed in January 2020 that he had been diagnosed with Parkin 2 - a form of Parkinson\\'s which he said is the cause of nerve pain and leaves his legs cold. The No More Tears hitmaker\\'s operation comes after the musician previously suffered a nasty fall and dislodged metal rods placed in his spine following a quad-bike accident in 2003.However, it was already known that he was due to undergo one more surgery. In April, Piers Morgan asked pal Sharon on Piers Morgan Uncensored on TalkTV: \\'How is Ozzy, my great man? Born to perform: Ozzy, pictured here on stage with Black Sabbath in 1978, was fired from the band in 1979 due to alcohol and drug problems Making music: Ozzy went on to have a successful solo career, releasing 12 studio albums, and has since reunited with Black Sabbath on numerous occasions (pictured 2010)\\'He is just one of my favourite people in the world. Been through the health wars a bit, how’s he doing?\\' PARKINSON\\'S: THE INCURABLE NERVE DISEASE THAT AFFECTS MILLIONS Parkinson’s disease affects one million Americans a year. It causes muscle stiffness, slowness of movement, tremors, sleep disturbance, chronic fatigue, an impaired quality of life and can lead to severe disability.It is a progressive neurological condition that destroys cells in the part of the brain that controls movement.Sufferers are known to have diminished supplies of dopamine because nerve cells that make it have died.There is currently no cure and no way of stopping the progression of the disease, but hundreds of scientific trials are underway to try and change that. In the US, physicians consider it largely one type of condition with various stages; young onset Parkinson\\'s or atypical Parkinson\\'s. In Europe, some doctors and researchers specify different types of the condition. Treatment is mostly made up of medication. In some cases, doctors perform Deep Brain Stimulation surgery to try to hit the nerves more directly.   Sharon said the Black Sabbath rocker is keen to move back to England after his latest surgery.She replied: \\'He’s doing okay, he sends you his love. He’s got one more operation left to do and then he’s dying to come back home.\\'Sharon\\'s Ozzy health update comes after it was reported that they\\'ve applied for permission to build a rehab wing at their home in the UK.The Crazy Train hitmaker lodged an application requesting the green light for renovations at his Buckinghamshire mansion.The extension will feature a self-contained nurse’s flat as well as \\'discreet grab rails and aids\\' and \\'an abundance of stopping and sitting spaces\\'.The plans also include a \\'health and exercise studio\\' as well as a \\'pool house orangery\\' and \\'garden room\\'.Architect Lynne Walker wrote in the plans: \\'It is the ambition that the design creates a transition of flowing inside outside garden spaces, largely lit by natural light with folding doors opening up views.\\'A spokesperson for the Paranoid hitmaker has yet to comment on the renovation reports, but confirmed Ozzy - who was badly injured following his fall at home three years ago - is gearing up for another surgery on his \\'back or neck\\'.Sharon recently admitted she now has to care for Ozzy \\'a lot\\' because of his health issues.She said: \\'It’s very difficult, because the combination of the Parkinson’s and his accident, you go, well, which one is this? Why’s this happening? Why’s that happening?\\'Ozzy previously opened up about his Parkinson’s diagnosis in a candid interview on US TV, in which he admitted the condition is \\'just another thing on my plate\\'.He said: \\'Well the one question from me was, \"Is it a terminal illness?\", and the guy says, \"No, but life is\".\\'It’s just another thing on my plate I have got to deal with. I’m not in the slightest worried about it. I’ve not got any secrets. The initial shock is I’ve got Parkinson’s.\\'Nobody knows what the f*** it is. I didn’t know anything about it apart from the name.\\'Ozzy was previously diagnosed with Parkin Syndrome in 2005. It has similar symptoms to Parkinson\\'s. Making changes: Sharon, 69, said the Black Sabbath rocker is keen to move back to England after his latest surgery (pictured with daughter Kelly in January 2020) Advertisement',\n",
       " 'NEWYou can now listen to Fox News articles! Joe Maddon reportedly had an idea to ease the tension in the Los Angeles Angels’ dugout amid the team’s 12-game losing streak – change up his hairstyle.Maddon was going to show up last Tuesday with a mohawk in hopes of sparking the team’s turnaround, ESPN reported Sunday. But he was fired before he could show it off.CLICK HERE FOR MORE SPORTS COVERAGE ON FOXNEWS.COM Joe Maddon of the Los Angeles Angels reacts during the fifth inning against the Phillies at Citizens Bank Park on June 5, 2022, in Philadelphia. (Tim Nwachukwu/Getty Images)\"After consecutive loss number 12, Maddon got a mohawk haircut to try to awaken his team,\" ESPN’s Tim Kurkjian said during the \"Sunday Night Baseball\" telecast. \"But the players never saw it, he was fired.\"Angels general manager Perry Minasian recommended making the move to team owner Arte Moreno and then drove to Maddon’s home to deliver the news. Los Angeles third base coach Phil Nevin was named the interim manager. Joe Maddon of the Los Angeles Angels watches during the Texas Rangers game at Globe Life Field on May 16, 2022, in Arlington, Texas. (Richard Rodriguez/Getty Images)YANKEES\\' KYLE HIGASHIOKA TEES OFF ON 35 MPH PITCH, NEW YORK RAILROADS CUBS\"Looking at the last couple of days is really when I started thinking about making a change. And I’m trying not to make emotional decisions. I’ll be honest, I’ve been emotional the past couple of days. There have been some really tough losses,\" Minasian said.Los Angeles was on a 14-game losing streak before snapping it against the Boston Red Sox Thursday. The team also defeated the New York Mets on Saturday. Los Angeles Angels manager Joe Maddon during batting practice prior to the Phillies game on June 5, 2022, at Citizens Bank Park in Philadelphia. (Rich Graessle/Icon Sportswire via Getty Images)CLICK HERE TO GET THE FOX NEWS APPMaddon was 157-172 in more than two seasons with the Angels. He was fired in 2020 after five seasons with the Chicago Cubs, which included a World Series title.The Associated Press contributed to this report. Ryan Gaydos is the sports editor for Fox News and Fox Business. Story tips can be sent to Ryan.Gaydos@fox.com.',\n",
       " 'Double Take: Is there something to be learned from this latest dip into the stretched-thin world of IP, \"tennis ball tension,\" and \"Spielberg porn\"? This past weekend saw the release of Colin Trevorrow’s final chapter in the “Jurassic World” trilogy. While the film earned nearly $150 million at the domestic box office this weekend, reviews weren’t kind (including IndieWire’s own) and the film currently sits at a dismal 30 percent on Rotten Tomatoes (the lowest of any film in this trilogy or the previous one). While the return of the original trilogy’s core trio delighted plenty of audience members, fans and critics alike balked at the film’s convoluted story, its resistance to digging into more dino-centric action, and a truly bizarre choice to make some other creepy animal its main baddie. \\nBoth IndieWire executive editor and VP of editorial strategy Eric Kohn and executive editor, film Kate Erbland emerged from the latest jaunt to the underworld of dino DNA gone wild feeling increasingly worried about the current state of blockbusters. But is there something to be learned from this latest dip into the stretched-thin world of IP, “tennis ball tension,” and “Spielberg porn”? ERIC KOHN: There’s an excellent new movie in theaters that confronts difficult questions about what happens when humankind exploits technology to change the natural course of evolution. It’s called “Crimes of the Future,” and everyone should see it. And then there’s “Jurassic World: Dominion,” a movie that reduces those same questions to blockbuster putty of the worst kind.\\nI know we agree with the general consensus that “Dominion” is a dud, the worst entry in the second trilogy of a franchise that never came close to matching the appeal of the original “Jurassic Park.” Director Colin Trevorrow has assembled an ambitious ensemble of new and old faces to weave together nearly 30 years of dinosaur survival stories, the result is a mess of ridiculous plot twists and cheeky fan service with an overabundance of monster movie CGI.\\nThe failings of “Dominion” shouldn’t come as a surprise. All three entries of the “Jurassic World” trilogy swap awe for kitsch and make the original Steven Spielberg movie look downright subtle. To me, however, this outcome is also a historic inevitability for a few reasons. A decade ago, Trevorrow was among the notable Sundance breakouts catapulted the low-budget arena to the studios after a single well-received feature, the quirky Mark Duplass time travel comedy “Safety Not Guaranteed.”\\n“Jurassic World: Dominion”Universal Pictures\\nI have lambasted this tendency many times over the years, because most filmmakers aren’t Taika Waititi and don’t flourish creatively within the confines of the studio system. Trevorrow may not have flourished creatively anywhere, judging by his confounding “Jurassic World” follow-up “The Book of Henry,” and a parting with Lucasfilm over a gig to direct the third “Star Wars” movie. But “Safety Not Guaranteed” remains a sweet and innovative genre blend that in theory could have led to further original riffs on existing storytelling tropes. But that impulse was never going to blossom within the context of the “Jurassic World” franchise.\\nThough J.A. Bayona’s “Jurassic World: Fallen Kingdom” at least upped the ante for outrageous action sequences, overall, you could probably invent a more cohesive franchise cash-grab with magnetic poetry. Clones, bioweapons, theme parks, oh my! “Dominion” is overflowing with attempts to rejuvenate the ideas of the original, lacing it all together with obvious callbacks to Spielberg’s direction that reduce it to an algorithm.\\nAnd that includes the return of mighty dino-fighting trio Jeff Goldblum, Sam Neill, and of course Laura Dern, who would work wonders on a podcast together but here look as puzzled to be wandering around a cheap imitation of “Jurassic Park” as we are. Then again, Goldblum’s Dr. Ian Malcolm has cashed in on his fame that came out of the first “Jurassic Park” fiasco, which is probably on-target self-criticism by this movie even if it wasn’t intended this way.\\nLet’s find a constructive way through this. What’s your take on the failings of “Dominion”? Has the writing been on the compound walls all this time or were you expecting better?\\nKATE ERBLAND: More than anything, I walked away from “Jurassic World: Dominion” feeling depressed. I’m an infamously enthusiastic movie-goer, just as excited about the possibilities of a new Marvel joint or the latest film from Jane Campion, and while I’ve seen, understood, and acknowledged that bone-deep “is this what movies are now?” feeling that many other film fans have experienced through the past few years of the studio-sanctioned, spreadsheet-created, cookie-cutter franchise boom, I’ve never quite felt it so acutely.\\n“Jurassic World: Dominion” made me sad, because it’s stuffed to the brim with all the worst tendencies of blockbuster filmmaking: endless callbacks, dumb-bunny winks, moments that seem to hold specifically for an audience to cheer or at least sigh “I recognize that reference,” made all the worse by occasional good ideas and intermittently interesting questions.\\nI might have felt better about the entire thing if the whole movie was such a bomb, but again, there’s some good stuff here — when you see an animatronic dinosaur, your brain knows it, recognizes it as somehow “real,” delights in it! But the CGI? Call it tennis ball tension, because I am sick to death of watching massive set pieces in which you just know the stars are doing nothing but reacting to tennis balls on poles. Your brain knows that too, and mine is done with it (does it only hurt that “Top Gun: Maverick,” a genuinely great blockbuster also out now, eschews such tendencies? yes).\\n“Jurassic World: Dominion”Universal Pictures\\nBut that breach between the “real” and the “movie magic” feels even worse within the context of this franchise, which started with a film filled with genuine wonder. And while the subsequent films in the original franchise never, ever matched that joy and actual magic that Spielberg and company conjured up so expertly, I was hoping this new trilogy would somehow find its way back there. “Jurassic World” wasn’t horrible, but it was just retread, and despite all the big ideas it presented — and the possibility of turning wonder into terror — they’ve never been fully fleshed out in a way that screams, “this is a movie to see!” Also disheartening: Colin Trevorrow’s stance on not simply presenting a film in which dinosaurs — now free! — run roughshod on the human population does actually feel scientifically sound. I totally understand his viewpoint and logic. But none of that adds up to an entertaining film, or even a franchise, worthy of the “Jurassic” name.\\nOr, put more plainly: what do you think of the film’s real bad guys, THE GIANT LOCUSTS?!\\nKOHN: The locusts looked like goth grasshoppers. “Tennis ball tension” is a great term that should be taped to the walls of VFX studios everywhere, because it’s a reminder of the contradiction tied to this kind of technologically-based spectacle: The more you can spend to make something look real, the faker it gets. You can practically see the pixels sparkling in the sunlight when those giant bugs speed through Texas. Film scholar Tom Gunning coined the term “cinema of attractions” to describe the kind of movie that delights or thrills us more than it tries to tell a cohesive story, but that potential is squandered when we can see the cracks in the design.\\nThe only sequence that held mild intrigue for me was an action-packed showdown between most of the main cast and a giant dino that finds them climbing a ladder and teaming up to deter the attacks. There’s genuine choreography energized by a deft blend of camerawork and editing, even if it transforms Goldblum’s character into a macho action star out of nowhere. But so much of “Dominion” and its precedents hark back to Ian Malcolm’s ominous decree in the original about the people in charge being “so preoccupied with whether they could, they didn’t stop to think if they should.”\\n“Jurassic World: Dominion”Universal Pictures\\nLook, none of this is surprising to me. I have rolled my eyes through a lot of bad blockbusters over the years. They come and go with the cold efficiency of tax season: Painful in the moment but easy enough to forget when they aren’t staring you in the face. Anyone remember “Prince of Persia”? “The Mummy”? But “Dominion” frustrates because it arrives at a moment when the global film industry needs every type of movie that contributes to the broader ecosystem to thrive, and instead it provides a reminder of why the system keeps shooting itself in the foot.\\nI watched this movie in the midst of making my way through the latest season of “Stranger Things,” which reportedly cost $30 million per episode. You can see the money on the screen, but not the substance, which is stretched out like silly putty to feature length in almost every episode. As long as we’ve had cinema, we’ve had special effects, and the potential to amaze audiences with narratives built around them. But at some point, this potential was equated with costliness, and the ability to throw money at the screen mucks up any question — or concern — about what’s being put there in the first place. Fix it in post, or don’t fix it all…who cares! The whole enterprise of modern blockbuster filmmaking reeks of indifference. Georges Melies spent $10,000 francs on “A Trip to the Moon” in 1902 and we’re still talking about it 120 years later. I wouldn’t begin to predict what sort of moving image experience we’ll be talking about in 2142, but I reckon it won’t be “Jurassic World: Dominion.”\\nERBLAND: Jeez, I hope it won’t be! As you mention, the timing on this is maybe the worst part, because yes, the global box office needs every hit it can find, and I am doubting that “Dominion” will follow in the steps of (again!) my current favorite, “Top Gun: Maverick,” and keep a happy and healthy second-week audience. People need to be reminded of the magic of the movies, but this film only reminded me of the facetiousness of them. I’m all for spectacle and whiz-bang, but that’s in short supply here, all whiz, no bang.\\n“Jurassic Park”\\nPart of that might be due to the last couple of years of in-home viewing, during which I’ve caught way back up on some of the wacky hits of the ‘80s and ‘90s, where CGI wasn’t de rigeur and real stunts reigned. My eyes changed, or maybe they just returned to the childlike wonder the movies used to inspire in me as but a tiny child. Whatever the case is, I’m tapped out on the fake stuff and, as so often happens in “Dominion,” when that’s paired with lacking emotion or coherency, I’m all the way done.\\nThere is still absolutely a place for large-scale movies at the multiplex, hell, that might be the only place for them right now, but that shouldn’t mean that Hollywood should keep making the mistakes of “Dominion” and its ilk. As we’ve learned with every subsequent “Jurassic” film, even the most well-meaning of creative exercises can forever change the equilibrium of the world, and not for the better.\\nA Universal Pictures release, “Jurassic World: Dominion” is now in theaters. Sign Up: Stay on top of the latest breaking film and TV news! Sign up for our Email Newsletters here.',\n",
       " 'By Steffan PowellGaming reporterPublished4 hours agocommentsCommentsImage source, BethesdaImage caption, Starfield will be released next year, although no exact release date has been announcedMore than 35 new experiences for the Xbox have been announced as Microsoft brought a busy period of console gaming news conferences to an end.Gameplay footage of Starfield, a space exploration game from the creators of Fallout and Skyrim, was finally shown.The game was announced in 2018 and its release recently delayed until 2023 - so this was the first time the public have been able to see it in action.Its developers have described it as \"Nasa meets Indiana Jones\".Players will be able to craft their own spaceships and explore over 1,000 planets in the game.Image source, MicrosoftImage caption, Minecraft Legends will be the next instalment in the hugely popular game seriesMicrosoft also revealed a new child-friendly action strategy game made by Swedish developer Mojang called Minecraft Legends.Sunday\\'s 90-minute showcase showcase focused only on titles that will be playable in the next 12 months - although no exact release date was given for Starfield or Minecraft Legends.The latter invites gamers to \"inspire their allies and lead them in strategy battles to save the Overworld\" following a Piglin invasion.Ok just a few more months to finish up every other game so I can dedicate my life to Starfield— Cadaea (@sophiekeen) June 12, 2022\\nThe BBC is not responsible for the content of external sites.View original tweet on TwitterMeanwhile, new strategic partnerships with developers like League of Legends creators Riot Games and Kojima Productions were also unveiled.It follows a similar virtual conference held earlier this month by Sony and the Summer Games Fest - an event that saw a variety of different game developers make announcements. In the gaming industry calendar, June has become the month where big announcements are often made. That is because they have historically tied in with the annual E3 games event. Although some companies have stopped taking part in E3 in recent years, and despite the convention\\'s cancellation this year, companies have still decided to make June the time to show off what they\\'re working on. In its 30-minute event earlier this month, Sony showcased unseen footage for forthcoming titles, banking on a string of well-established franchises to encourage gamers to buy consoles as availability of the PlayStation 5 improves.Street Fighter 6 is set to be playable in 2023, with legendary characters Ryu and Chun-Li taking centre stage for the next iteration of the fighting game franchise. Less clear is whether a new game mode based on exploration and character development will be as popular as the traditional button-bashing elements.Starfield looked better in concept form somehow. Just wasn\\'t blown away. Very choppy, ps3/xbox 360 Era facial animation. Looked like fallout in space.— oti (@Oti09280470) June 12, 2022\\nThe BBC is not responsible for the content of external sites.View original tweet on TwitterResident Evil 4, originally released in 2005, is the latest title form the horror franchise to be remade for modern devices. And the gameplay showcased in the trailer for Final Fantasy 16 showed a focus more on action set-pieces than the roleplaying elements that the franchise is famous for.Those titles won\\'t hit the shelves until 2023, which will frustrate some as there has been a criticism that the latest PlayStation console is still light on the number of games designed exclusively for its unique technology.Microsoft used its showcase to reveal footage from a variety of experiences - , to driving simulator Forza Motorsport, the latest in the realistic car racing series. Image source, MicrosoftImage caption, Forza Motorsport is due to be released next springBy announcing so many experiences in one night, Microsoft tried to tackle the traditional criticism labelled against its consoles - that there are not enough exclusive titles to play on Xbox machines.As well as a long list of new games, there were partnership announcements. A deal with Riot Games sees League of Legends content coming to Microsoft\\'s subscription game service Gamepass. Both companies will hope the deal introduces new gamers to their products.While there were no details of what legendary games designer Hideo Kojima is working on with Microsoft, to have struck a deal with someone so closely associated with Sony in the past is a coup for Xbox. As ever with big gaming conferences, there are always those disappointed by what was left out. Sony\\'s State of Play event didn\\'t include any more information about the sequel to 2018 smash hit God of War, which is due to be released this year. The lack of an update on the latest game in the Fable franchise of role-playing adventures was the elephant in room during the Xbox showcase. In 2020, Microsoft bought games studio Bethesda, the studio behind Starfield and the creators of some of the most popular games of all time.For the first time, the two companies shared the same platform, and the first title on display was Bethesda\\'s co-operative survival shooting game Redfall, which kicked off the event with frantic, fast-paced, first-person action gameplay.For Harvey Smith, studio director of its developer Arkane Austin, being part of an event where many games are showcased is \"exciting\", but there\\'s \"always a lot of pressure\".Redfall\\'s multiplayer vampire slaying is a metaphor for the world\\'s inequalities, he said. \"A tiny percentage of people in the world have all the power.\"In order to live like they live, they need others to be incredibly poor. They have drained the resources, the life and a joy from other people to accrue their wealth - so that they can live in the clouds. \"Vampires are always metaphors - it\\'s something that you choose to become. Because of the way that you want to live, it\\'s incredibly selfish, but that is super compelling to me.\"Like video games? Listen to Press X to Continue - the BBC Sounds gaming Podcast',\n",
       " 'SAN FRANCISCO — How do you become an elite rebounder when two of your teammates are among the NBA’s best shooters ever?\\nKevon Looney is showing how in these playoffs and now the NBA Finals.\\n“I’ve kind of got it down to a science,” Looney said ahead of Monday’s Game 5 against the Celtics.\\nThanks to years of up-close viewing when Steph Curry and Klay Thompson shoot, Looney’s learned how to position his body, use his strengths and anticipate how the ball might bounce his way. “It’s from getting used to where Steph’s going to shoot it from, where Klay’s going to shoot it from, and how their misses are going to come off (the rim),” Looney said. “It definitely comes from experience, just playing with them for such a long time, knowing what spots they like to get to.”\\nHow Curry and Thompson shoot likely will determine if the Warriors will win their fourth NBA championship. How Looney rebounds their misses — and those of the Celtics and other Warriors — is also greatly factoring into the equation.\\nLooney is coming off an 11-rebound effort in the Warriors’ Game 4 win Friday in Boston, where the series got even at 2-2.\\nHe came through with 18 rebounds in Game 5 of the Western Conference finals, when the Warriors finished off the Dallas Mavericks at Chase Center.\\nAnd he had 22 rebounds there when the Warriors eliminated the Memphis Grizzlies in Game 6 of the conference semis. Looney’s career ascent has been a hot topic, and he’s been arguably the best supporting actor in this playoff cast, where Curry remains the marquee headliner and Thompson the sentimental, comeback hero.\\nLooney’s 6-foot-9 frame has shown a propensity to anticipate where their shots and others might veer off the mark.\\n“They’re some of the greatest shooters ever, so they’re not going to have a lot of bad misses,” Looney said. “So it’s just knowing where their misses are going to go to, knowing when Steph is going to drive and shoot a step-back.\\n“You just learn from watching and playing with them. You get a great feel for how things are going to go. It helps me with offensive rebounds and knowing when I should attack.”\\nWhat’s it like to know when Curry is dead-on accurate, like his 43-point barrage in Friday’s Game 4 win at Boston?\\n“I know Steph’s going to make it so I don’t have to go (to the boards) some time,” Looney added. “A lot of times he gives you a hint, because he just turns around before it goes in. Usually when he does that, it goes in.”\\nLooney has played in every game on the schedule, a total of 102 that leads all NBA players this season.\\nKerr wouldn’t say if Looney will start or come off the bench for more grunt work Monday night.\\n“Part of this series for us, and part of the whole playoffs, frankly, has been trying to figure out rotations,” Kerr said. “We didn’t have our whole team together until Game 1 of the Denver series, and then Gary (Payton) got hurt. Andre (Iguodala) got hurt. So it feels like almost every series, we have had to search a little bit for combinations and for substitution patterns.”\\nThe Celtics are looking to go 8-0 following a loss in these playoffs.\\nLooney is expecting another physical battle in the paint.\\n“It’s physical down there,” Looney said. “I usually hit first. But a lot of times this series I’ve been getting hit first. They do a great job. Sometimes I’ve got the ball and the guards come in and dig it out. It’s been real physical.”\\n“… We are both great teams, and I think we both have been showing that all year, that whenever you lose or get punched in the mouth, we always come back and impose our will. We have to protect home court, and we know what they are built of and made of. We know they are not going to lay down.”\\nYou know what else Looney knows? Where the ball might go when it isn’t bouncing the Warriors’ way through the net in case Curry or Thompson, you know, miss.',\n",
       " '1.6 billion stars. 11.4 million galaxies. 158,000 asteroids. One spacecraft. The European Space Agency’s Gaia space observatory, which launched in 2013, has long surpassed its goal of charting more than a billion stars in the Milky Way (SN: 10/15/16). On June 13, the mission extended that map into new dimensions, releasing more detailed measurements of hundreds of millions of stars, plus — for the first time — asteroids, galaxies and the dusty medium between stars. Sign Up For the Latest from Science News Headlines and summaries of the latest Science News articles, delivered to your inbox “Suddenly you have a flood of data,” says Laurent Eyer, an astrophysicist at the University of Geneva who has worked on Gaia for years. For some topics in astronomy, the new results effectively replace all the observations that were taken before, Eyer says. “The data is better. It’s amazing.” Data in the new survey, which were collected from 2014 to 2017, are already leading to some discoveries — including the presence of surprisingly massive  “starquakes” on the surfaces of thousands of stars (SN: 8/2/19). But more than anything, the release is a new tool for astronomers, one that will aid their efforts to understand how stars, planets and entire galaxies form and evolve. Here are a few of the long-standing puzzles the data could help solve.  Asteroid mishmash The asteroid belt between Mars and Jupiter is a mess of history. After the Earth and other planets formed, the rocky building blocks that were left over smashed into each other, leaving behind jumbled fragments. But if scientists know enough about individual asteroids, they can reconstruct when and where they came from (SN: 4/13/19). And that can provide a peek into the solar system’s earliest days. Using new Gaia data, astronomers plotted the June 13, 2022, positions of 156,000 asteroids. The trails show their orbits for the last 10 days, and the colors mark different groups of asteroids based on their location (blue, inner solar system; green, the main asteroid belt between Mars and Jupiter; orange, the Trojan asteroids near Jupiter).DPAC/Gaia/ESA, CC BY-SA 3.0 IGO Gaia’s massive new dataset may help solve this puzzle, says Federica Spoto, an astrophysicist at the Harvard-Smithsonian Center for Astrophysics in Cambridge, Mass. It includes data on the chemical makeup of over 60,000 asteroids — six times more than researchers had such details on before using other tools. That information can be essential for tracing asteroids back to their shattering origins. “You can go back in time and try to understand all the formation and evolution of the solar system,” says Spoto, a Gaia collaborator. “That’s something huge that before Gaia we couldn’t even think about.”  Asteroids aren’t just pieces of the past, though; they’re also dangerous. The new data could reveal asteroids that are next to impossible to spot from Earth because they orbit too close to the sun, says Thomas Burbine, a planetary scientist at Mount Holyoke College in South Hadley, Mass., who is not involved with the mission (SN: 2/15/20). Since these asteroids would have originally come from farther out (say, the asteroid belt), they can tell us about the rocks going past Earth that can potentially hit us. “We’ll know our neighborhood better,” Burbine says. Dating a star It is notoriously difficult to measure the age of stars (SN: 7/23/21). “It’s not uncommon to have uncertainty of more than a billion years,” says Alessandro Savino, an astrophysicist at the University of California, Berkeley who is not involved with Gaia. Unlike brightness or location, age is not directly visible. Astronomers have to rely on theories of how stars evolve to predict ages from what they can measure. If past versions of the Gaia survey were like a photograph of stars, the new release is like shifting the photograph from black and white to color. It provides a deeper look at hundreds of millions of stars by measuring their temperature, gravity and chemistry. “You imagine the star as this point in space, but then they have so many properties,” Spoto says. “That’s what Gaia is giving you.” Although these kinds of measurements are far from new, they have never been collected in the Milky Way on such a scale before. Those data could provide more insight into how stars evolve. “We can improve the resolution of our clocks,” Savino says.  Milky Way snacks Though it may seem unchanging, the Milky Way is actually gorging on a steady diet of smaller galaxies —it’s even in the process of eating one right now. But for decades, predictions of when and how these cosmic mergers happen have been at odds with evidence from our galaxy, says Bertrand Goldman, an astrophysicist at the International Space University in Strasbourg, France, who is not involved in the Gaia data release.  “That has been controversial for a long time,” Goldman says, “but I think that Gaia will certainly shed light.” The key is to be able to pick apart different structures in the Milky Way and see how old they are (SN: 1/10/20). Gaia’s latest release helps in two ways: By mapping the chemistry of stars and by measuring their motion. Previous versions of the survey described how millions of stars were moving, but mostly in two dimensions. The new catalog quadruples the number of stars with full 3-D trajectories from 7 million to 33 million.  This has implications beyond our neighborhood. Most of the mass in the universe is contained in galaxies like the Milky Way, so knowing how our own galaxy works goes a long way to understanding space on the largest scales. And the more scientists understand the parts of galaxies they can see, the more they can learn about dark matter, the mysterious substance that exerts gravity but doesn’t interact with light (SN: 6/25/21). Even as astronomers mine this latest dataset, they are already looking ahead to future treasure hunts. The next round is years off, but it is expected to enable the discovery of thousands of exoplanets, produce rare measurements of black holes and help astronomers clock how fast the universe is expanding. In part, this is because Gaia is designed to track the motion of objects in space, and that gets easier as more time passes. So Gaia’s observations can only get more powerful. “Like good wine, they age very, very well,” Savino says.',\n",
       " 'NEWYou can now listen to Fox News articles! Los Angeles Angels star Mike Trout talked about the fantasy football \"confusion\" during ESPN’s broadcast Sunday night as his team was playing the New York Mets.Trout had been thrust into the middle of a controversy between Cincinnati Reds outfielder Tommy Pham and San Francisco Giants outfielder Joc Pederson. The two players got into a pregame altercation last month that ended with Pham slapping Pederson across the face.CLICK HERE FOR MORE SPORTS COVERAGE ON FOXNEWS.COM Los Angeles Angels designated hitter Mike Trout hits a run-scoring single against the New York Mets in Anaheim, California, Sunday, June 12, 2022. (AP Photo/Alex Gallardo)It was later revealed the incident was over an issue with fantasy football and Trout was the commissioner of their league. He was asked Sunday whether they were playing an ESPN league.\"I think that’s what we ran,\" Trout said. \"Yeah, I think that’s what we ran. I think that’s why there was some confusion. Because that website wasn’t… Ah, I can’t say that right now it’s an ESPN game.\"Trout appeared to save himself from going off on the ESPN fantasy game during the broadcast.The Angels star said Houston Astros third baseman Alex Bregman won his fantasy football league. He said there were 12 people in the league. Los Angeles Angels\\' Mike Trout celebrates with Shohei Ohtani after hitting a two-run homer against the New York Mets Saturday, June 11, 2022, in Anaheim, California. (AP Photo/Mark J. Terrill)WHITE SOX FANS CALL FOR TONY LA RUSSA\\'S FIRING DURING LOSS TO RANGERS\"I\\'ll tell ya right now, probably gettin\\' another commissioner,\" Trout said.Pederson said last month the slap from Pham was over fantasy football.\"He kinda came up and said, \\'You remember from last year?’ And I was like, ‘fantasy football?’ and he was like, ‘Yeah.’\" He added: \"We were in a fantasy league together. I put somebody – a player – on the injured reserve when they were listed as out and added another player. And then there was a text message in the group saying that I was cheating because I was stashing players on the bench.\" Tommy Pham of the Cincinnati Reds runs out an RBI single against the Guardians at Progressive Field on May 17, 2022, in Cleveland, Ohio. (Jason Miller/Getty Images)Pham said the slap was about more than just the fantasy games. He said Pederson texted him some \"disrespectful s---\" and he called him out on it.CLICK HERE TO GET THE FOX NEWS APPPham was suspended three games for the slapping incident.Fox News’ Paulina Dedaj contributed to this report. Ryan Gaydos is the sports editor for Fox News and Fox Business. Story tips can be sent to Ryan.Gaydos@fox.com.']"
      ]
     },
     "execution_count": 4,
     "metadata": {},
     "output_type": "execute_result"
    }
   ],
   "source": [
    "descriptions = dataset['article_text']\n",
    "descriptions[:10]"
   ]
  },
  {
   "cell_type": "markdown",
   "metadata": {},
   "source": [
    "#Attributes\n",
    "1. Use CountVectorizer to remove stop_words\n",
    "2. Used [Bert Mult-Label](https://maartengr.github.io/BERTopic/getting_started/distribution/distribution.html#example)"
   ]
  },
  {
   "cell_type": "code",
   "execution_count": 5,
   "metadata": {},
   "outputs": [],
   "source": [
    "topic_model = BERTopic(vectorizer_model=CountVectorizer(stop_words=\"english\"))"
   ]
  },
  {
   "cell_type": "code",
   "execution_count": 6,
   "metadata": {},
   "outputs": [
    {
     "data": {
      "text/plain": [
       "<bertopic._bertopic.BERTopic at 0x103c1f190>"
      ]
     },
     "execution_count": 6,
     "metadata": {},
     "output_type": "execute_result"
    }
   ],
   "source": [
    "topic_model.fit(descriptions[:1000])"
   ]
  },
  {
   "cell_type": "code",
   "execution_count": 7,
   "metadata": {},
   "outputs": [
    {
     "data": {
      "text/html": [
       "<div>\n",
       "<style scoped>\n",
       "    .dataframe tbody tr th:only-of-type {\n",
       "        vertical-align: middle;\n",
       "    }\n",
       "\n",
       "    .dataframe tbody tr th {\n",
       "        vertical-align: top;\n",
       "    }\n",
       "\n",
       "    .dataframe thead th {\n",
       "        text-align: right;\n",
       "    }\n",
       "</style>\n",
       "<table border=\"1\" class=\"dataframe\">\n",
       "  <thead>\n",
       "    <tr style=\"text-align: right;\">\n",
       "      <th></th>\n",
       "      <th>Topic</th>\n",
       "      <th>Count</th>\n",
       "      <th>Name</th>\n",
       "      <th>Representation</th>\n",
       "      <th>Representative_Docs</th>\n",
       "    </tr>\n",
       "  </thead>\n",
       "  <tbody>\n",
       "    <tr>\n",
       "      <th>0</th>\n",
       "      <td>-1</td>\n",
       "      <td>121</td>\n",
       "      <td>-1_said_like_song_just</td>\n",
       "      <td>[said, like, song, just, new, music, im, peopl...</td>\n",
       "      <td>[By Mark SavageBBC Music CorrespondentImage ca...</td>\n",
       "    </tr>\n",
       "    <tr>\n",
       "      <th>1</th>\n",
       "      <td>0</td>\n",
       "      <td>112</td>\n",
       "      <td>0_film_million_films_like</td>\n",
       "      <td>[film, million, films, like, barbie, movie, st...</td>\n",
       "      <td>[There’s finally been some movement on the liv...</td>\n",
       "    </tr>\n",
       "    <tr>\n",
       "      <th>2</th>\n",
       "      <td>1</td>\n",
       "      <td>94</td>\n",
       "      <td>1_england_cup_world_final</td>\n",
       "      <td>[england, cup, world, final, win, match, socce...</td>\n",
       "      <td>[Socceroos coach Graham Arnold has called on P...</td>\n",
       "    </tr>\n",
       "    <tr>\n",
       "      <th>3</th>\n",
       "      <td>2</td>\n",
       "      <td>70</td>\n",
       "      <td>2_warriors_celtics_game_curry</td>\n",
       "      <td>[warriors, celtics, game, curry, nba, finals, ...</td>\n",
       "      <td>[After a resounding victory in Game 3 at TD Ga...</td>\n",
       "    </tr>\n",
       "    <tr>\n",
       "      <th>4</th>\n",
       "      <td>3</td>\n",
       "      <td>47</td>\n",
       "      <td>3_heard_depp_trial_amber</td>\n",
       "      <td>[heard, depp, trial, amber, jury, johnny, inte...</td>\n",
       "      <td>[Topline\\nAmber Heard said she does not “blame...</td>\n",
       "    </tr>\n",
       "    <tr>\n",
       "      <th>5</th>\n",
       "      <td>4</td>\n",
       "      <td>42</td>\n",
       "      <td>4_sox_rangers_inning_innings</td>\n",
       "      <td>[sox, rangers, inning, innings, game, said, ru...</td>\n",
       "      <td>[Published June 15, 2022 4:23AM Updated 9:28AM...</td>\n",
       "    </tr>\n",
       "    <tr>\n",
       "      <th>6</th>\n",
       "      <td>5</td>\n",
       "      <td>36</td>\n",
       "      <td>5_open_golf_pga_liv</td>\n",
       "      <td>[open, golf, pga, liv, tour, country, mickelso...</td>\n",
       "      <td>[NEWYou can now listen to Fox News articles! R...</td>\n",
       "    </tr>\n",
       "    <tr>\n",
       "      <th>7</th>\n",
       "      <td>6</td>\n",
       "      <td>36</td>\n",
       "      <td>6_music_album_like_song</td>\n",
       "      <td>[music, album, like, song, songs, people, fest...</td>\n",
       "      <td>[Tauren Wells, who releases, his new album, 'J...</td>\n",
       "    </tr>\n",
       "    <tr>\n",
       "      <th>8</th>\n",
       "      <td>7</td>\n",
       "      <td>33</td>\n",
       "      <td>7_griner_gantriis_team_said</td>\n",
       "      <td>[griner, gantriis, team, said, brittney, teri,...</td>\n",
       "      <td>[NEWYou can now listen to Fox News articles! T...</td>\n",
       "    </tr>\n",
       "    <tr>\n",
       "      <th>9</th>\n",
       "      <td>8</td>\n",
       "      <td>33</td>\n",
       "      <td>8_lightyear_buzz_evans_disney</td>\n",
       "      <td>[lightyear, buzz, evans, disney, toy, story, f...</td>\n",
       "      <td>[Register now for FREE unlimited access to Reu...</td>\n",
       "    </tr>\n",
       "    <tr>\n",
       "      <th>10</th>\n",
       "      <td>9</td>\n",
       "      <td>31</td>\n",
       "      <td>9_pete_davidson_women_like</td>\n",
       "      <td>[pete, davidson, women, like, ed, images, gett...</td>\n",
       "      <td>[CelebrityPete DavidsonFor every person admitt...</td>\n",
       "    </tr>\n",
       "    <tr>\n",
       "      <th>11</th>\n",
       "      <td>10</td>\n",
       "      <td>27</td>\n",
       "      <td>10_spacey_sexual_assault_court</td>\n",
       "      <td>[spacey, sexual, assault, court, charges, lond...</td>\n",
       "      <td>[Kevin Spacey has appeared at a court in Londo...</td>\n",
       "    </tr>\n",
       "    <tr>\n",
       "      <th>12</th>\n",
       "      <td>11</td>\n",
       "      <td>26</td>\n",
       "      <td>11_hardy_wwe_aew_arrested</td>\n",
       "      <td>[hardy, wwe, aew, arrested, dui, cops, margera...</td>\n",
       "      <td>[NEWYou can now listen to Fox News articles! A...</td>\n",
       "    </tr>\n",
       "    <tr>\n",
       "      <th>13</th>\n",
       "      <td>12</td>\n",
       "      <td>25</td>\n",
       "      <td>12_stars_mars_gaia_data</td>\n",
       "      <td>[stars, mars, gaia, data, milky, nasa, space, ...</td>\n",
       "      <td>[BERLIN (AP) — The European Space Agency has r...</td>\n",
       "    </tr>\n",
       "    <tr>\n",
       "      <th>14</th>\n",
       "      <td>13</td>\n",
       "      <td>25</td>\n",
       "      <td>13_bts_kpop_group_korean</td>\n",
       "      <td>[bts, kpop, group, korean, band, solo, music, ...</td>\n",
       "      <td>[Global superstars BTS said they are taking ti...</td>\n",
       "    </tr>\n",
       "    <tr>\n",
       "      <th>15</th>\n",
       "      <td>14</td>\n",
       "      <td>22</td>\n",
       "      <td>14_spears_britney_alexander_wedding</td>\n",
       "      <td>[spears, britney, alexander, wedding, asghari,...</td>\n",
       "      <td>[Image source, Getty ImagesA man once married ...</td>\n",
       "    </tr>\n",
       "    <tr>\n",
       "      <th>16</th>\n",
       "      <td>15</td>\n",
       "      <td>21</td>\n",
       "      <td>15_ai_lamda_language_google</td>\n",
       "      <td>[ai, lamda, language, google, lemoine, sentien...</td>\n",
       "      <td>[By Davey Alba | Bloomberg\\nA Google software ...</td>\n",
       "    </tr>\n",
       "    <tr>\n",
       "      <th>17</th>\n",
       "      <td>16</td>\n",
       "      <td>19</td>\n",
       "      <td>16_stones_mick_jagger_rolling</td>\n",
       "      <td>[stones, mick, jagger, rolling, amsterdam, con...</td>\n",
       "      <td>[AMSTERDAM (AP) — The Rolling Stones canceled ...</td>\n",
       "    </tr>\n",
       "    <tr>\n",
       "      <th>18</th>\n",
       "      <td>17</td>\n",
       "      <td>19</td>\n",
       "      <td>17_moon_strawberry_supermoon_rises</td>\n",
       "      <td>[moon, strawberry, supermoon, rises, june, tue...</td>\n",
       "      <td>[Tuesday night’s full moon was at its closest ...</td>\n",
       "    </tr>\n",
       "    <tr>\n",
       "      <th>19</th>\n",
       "      <td>18</td>\n",
       "      <td>18</td>\n",
       "      <td>18_rebel_wilson_herald_hornery</td>\n",
       "      <td>[rebel, wilson, herald, hornery, sydney, relat...</td>\n",
       "      <td>[CelebrityRebel WilsonThe Sydney Morning Heral...</td>\n",
       "    </tr>\n",
       "    <tr>\n",
       "      <th>20</th>\n",
       "      <td>19</td>\n",
       "      <td>18</td>\n",
       "      <td>19_mls_matches_league_apple</td>\n",
       "      <td>[mls, matches, league, apple, cup, soccer, dea...</td>\n",
       "      <td>[Apple’s foray into live sports took a big ste...</td>\n",
       "    </tr>\n",
       "    <tr>\n",
       "      <th>21</th>\n",
       "      <td>20</td>\n",
       "      <td>18</td>\n",
       "      <td>20_ozzy_surgery_sharon_parkinsons</td>\n",
       "      <td>[ozzy, surgery, sharon, parkinsons, osbourne, ...</td>\n",
       "      <td>[Ozzy Osbourne has confirmed that he is 'recup...</td>\n",
       "    </tr>\n",
       "    <tr>\n",
       "      <th>22</th>\n",
       "      <td>21</td>\n",
       "      <td>18</td>\n",
       "      <td>21_musical_tony_hudson_best</td>\n",
       "      <td>[musical, tony, hudson, best, awards, egot, wo...</td>\n",
       "      <td>[\"A Strange Loop,\" an irreverent, sexually fra...</td>\n",
       "    </tr>\n",
       "    <tr>\n",
       "      <th>23</th>\n",
       "      <td>22</td>\n",
       "      <td>15</td>\n",
       "      <td>22_hall_died_seinfeld_anderson</td>\n",
       "      <td>[hall, died, seinfeld, anderson, philip, baker...</td>\n",
       "      <td>[NEWYou can now listen to Fox News articles! P...</td>\n",
       "    </tr>\n",
       "    <tr>\n",
       "      <th>24</th>\n",
       "      <td>23</td>\n",
       "      <td>15</td>\n",
       "      <td>23_crashes_vehicles_systems_data</td>\n",
       "      <td>[crashes, vehicles, systems, data, nhtsa, tesl...</td>\n",
       "      <td>[A Tesla logo is seen in Los Angeles, Californ...</td>\n",
       "    </tr>\n",
       "    <tr>\n",
       "      <th>25</th>\n",
       "      <td>24</td>\n",
       "      <td>14</td>\n",
       "      <td>24_lopez_documentary_halftime_shakira</td>\n",
       "      <td>[lopez, documentary, halftime, shakira, bowl, ...</td>\n",
       "      <td>[“I want something real. I want something that...</td>\n",
       "    </tr>\n",
       "    <tr>\n",
       "      <th>26</th>\n",
       "      <td>25</td>\n",
       "      <td>13</td>\n",
       "      <td>25_francis_tyson_heavyweight_security</td>\n",
       "      <td>[francis, tyson, heavyweight, security, klitsc...</td>\n",
       "      <td>[Ex-Boxer Julius Francis Not Arrested Over Str...</td>\n",
       "    </tr>\n",
       "    <tr>\n",
       "      <th>27</th>\n",
       "      <td>26</td>\n",
       "      <td>11</td>\n",
       "      <td>26_avalanche_lightning_tampa_colorado</td>\n",
       "      <td>[avalanche, lightning, tampa, colorado, bay, s...</td>\n",
       "      <td>[The Dallas Stars’ season came to an end one m...</td>\n",
       "    </tr>\n",
       "    <tr>\n",
       "      <th>28</th>\n",
       "      <td>27</td>\n",
       "      <td>11</td>\n",
       "      <td>27_electric_krokcnet_27_eqs</td>\n",
       "      <td>[electric, krokcnet, 27, eqs, car, 4x4, andrew...</td>\n",
       "      <td>[NEW YORK -- The sleek four-wheeled carts look...</td>\n",
       "    </tr>\n",
       "    <tr>\n",
       "      <th>29</th>\n",
       "      <td>28</td>\n",
       "      <td>10</td>\n",
       "      <td>28_tennis_wimbledon_players_open</td>\n",
       "      <td>[tennis, wimbledon, players, open, ukraine, ru...</td>\n",
       "      <td>[The U.S. Open will allow tennis players from ...</td>\n",
       "    </tr>\n",
       "  </tbody>\n",
       "</table>\n",
       "</div>"
      ],
      "text/plain": [
       "    Topic  Count                                   Name  \\\n",
       "0      -1    121                 -1_said_like_song_just   \n",
       "1       0    112              0_film_million_films_like   \n",
       "2       1     94              1_england_cup_world_final   \n",
       "3       2     70          2_warriors_celtics_game_curry   \n",
       "4       3     47               3_heard_depp_trial_amber   \n",
       "5       4     42           4_sox_rangers_inning_innings   \n",
       "6       5     36                    5_open_golf_pga_liv   \n",
       "7       6     36                6_music_album_like_song   \n",
       "8       7     33            7_griner_gantriis_team_said   \n",
       "9       8     33          8_lightyear_buzz_evans_disney   \n",
       "10      9     31             9_pete_davidson_women_like   \n",
       "11     10     27         10_spacey_sexual_assault_court   \n",
       "12     11     26              11_hardy_wwe_aew_arrested   \n",
       "13     12     25                12_stars_mars_gaia_data   \n",
       "14     13     25               13_bts_kpop_group_korean   \n",
       "15     14     22    14_spears_britney_alexander_wedding   \n",
       "16     15     21            15_ai_lamda_language_google   \n",
       "17     16     19          16_stones_mick_jagger_rolling   \n",
       "18     17     19     17_moon_strawberry_supermoon_rises   \n",
       "19     18     18         18_rebel_wilson_herald_hornery   \n",
       "20     19     18            19_mls_matches_league_apple   \n",
       "21     20     18      20_ozzy_surgery_sharon_parkinsons   \n",
       "22     21     18            21_musical_tony_hudson_best   \n",
       "23     22     15         22_hall_died_seinfeld_anderson   \n",
       "24     23     15       23_crashes_vehicles_systems_data   \n",
       "25     24     14  24_lopez_documentary_halftime_shakira   \n",
       "26     25     13  25_francis_tyson_heavyweight_security   \n",
       "27     26     11  26_avalanche_lightning_tampa_colorado   \n",
       "28     27     11            27_electric_krokcnet_27_eqs   \n",
       "29     28     10       28_tennis_wimbledon_players_open   \n",
       "\n",
       "                                       Representation  \\\n",
       "0   [said, like, song, just, new, music, im, peopl...   \n",
       "1   [film, million, films, like, barbie, movie, st...   \n",
       "2   [england, cup, world, final, win, match, socce...   \n",
       "3   [warriors, celtics, game, curry, nba, finals, ...   \n",
       "4   [heard, depp, trial, amber, jury, johnny, inte...   \n",
       "5   [sox, rangers, inning, innings, game, said, ru...   \n",
       "6   [open, golf, pga, liv, tour, country, mickelso...   \n",
       "7   [music, album, like, song, songs, people, fest...   \n",
       "8   [griner, gantriis, team, said, brittney, teri,...   \n",
       "9   [lightyear, buzz, evans, disney, toy, story, f...   \n",
       "10  [pete, davidson, women, like, ed, images, gett...   \n",
       "11  [spacey, sexual, assault, court, charges, lond...   \n",
       "12  [hardy, wwe, aew, arrested, dui, cops, margera...   \n",
       "13  [stars, mars, gaia, data, milky, nasa, space, ...   \n",
       "14  [bts, kpop, group, korean, band, solo, music, ...   \n",
       "15  [spears, britney, alexander, wedding, asghari,...   \n",
       "16  [ai, lamda, language, google, lemoine, sentien...   \n",
       "17  [stones, mick, jagger, rolling, amsterdam, con...   \n",
       "18  [moon, strawberry, supermoon, rises, june, tue...   \n",
       "19  [rebel, wilson, herald, hornery, sydney, relat...   \n",
       "20  [mls, matches, league, apple, cup, soccer, dea...   \n",
       "21  [ozzy, surgery, sharon, parkinsons, osbourne, ...   \n",
       "22  [musical, tony, hudson, best, awards, egot, wo...   \n",
       "23  [hall, died, seinfeld, anderson, philip, baker...   \n",
       "24  [crashes, vehicles, systems, data, nhtsa, tesl...   \n",
       "25  [lopez, documentary, halftime, shakira, bowl, ...   \n",
       "26  [francis, tyson, heavyweight, security, klitsc...   \n",
       "27  [avalanche, lightning, tampa, colorado, bay, s...   \n",
       "28  [electric, krokcnet, 27, eqs, car, 4x4, andrew...   \n",
       "29  [tennis, wimbledon, players, open, ukraine, ru...   \n",
       "\n",
       "                                  Representative_Docs  \n",
       "0   [By Mark SavageBBC Music CorrespondentImage ca...  \n",
       "1   [There’s finally been some movement on the liv...  \n",
       "2   [Socceroos coach Graham Arnold has called on P...  \n",
       "3   [After a resounding victory in Game 3 at TD Ga...  \n",
       "4   [Topline\\nAmber Heard said she does not “blame...  \n",
       "5   [Published June 15, 2022 4:23AM Updated 9:28AM...  \n",
       "6   [NEWYou can now listen to Fox News articles! R...  \n",
       "7   [Tauren Wells, who releases, his new album, 'J...  \n",
       "8   [NEWYou can now listen to Fox News articles! T...  \n",
       "9   [Register now for FREE unlimited access to Reu...  \n",
       "10  [CelebrityPete DavidsonFor every person admitt...  \n",
       "11  [Kevin Spacey has appeared at a court in Londo...  \n",
       "12  [NEWYou can now listen to Fox News articles! A...  \n",
       "13  [BERLIN (AP) — The European Space Agency has r...  \n",
       "14  [Global superstars BTS said they are taking ti...  \n",
       "15  [Image source, Getty ImagesA man once married ...  \n",
       "16  [By Davey Alba | Bloomberg\\nA Google software ...  \n",
       "17  [AMSTERDAM (AP) — The Rolling Stones canceled ...  \n",
       "18  [Tuesday night’s full moon was at its closest ...  \n",
       "19  [CelebrityRebel WilsonThe Sydney Morning Heral...  \n",
       "20  [Apple’s foray into live sports took a big ste...  \n",
       "21  [Ozzy Osbourne has confirmed that he is 'recup...  \n",
       "22  [\"A Strange Loop,\" an irreverent, sexually fra...  \n",
       "23  [NEWYou can now listen to Fox News articles! P...  \n",
       "24  [A Tesla logo is seen in Los Angeles, Californ...  \n",
       "25  [“I want something real. I want something that...  \n",
       "26  [Ex-Boxer Julius Francis Not Arrested Over Str...  \n",
       "27  [The Dallas Stars’ season came to an end one m...  \n",
       "28  [NEW YORK -- The sleek four-wheeled carts look...  \n",
       "29  [The U.S. Open will allow tennis players from ...  "
      ]
     },
     "execution_count": 7,
     "metadata": {},
     "output_type": "execute_result"
    }
   ],
   "source": [
    "topic_model.get_topic_info()"
   ]
  },
  {
   "cell_type": "code",
   "execution_count": 8,
   "metadata": {},
   "outputs": [
    {
     "data": {
      "text/plain": [
       "1000"
      ]
     },
     "execution_count": 8,
     "metadata": {},
     "output_type": "execute_result"
    }
   ],
   "source": [
    "topic_distr, _ = topic_model.approximate_distribution(descriptions[:1000])\n",
    "len(topic_distr)"
   ]
  },
  {
   "cell_type": "code",
   "execution_count": 9,
   "metadata": {},
   "outputs": [
    {
     "ename": "ValueError",
     "evalue": "Mime type rendering requires nbformat>=4.2.0 but it is not installed",
     "output_type": "error",
     "traceback": [
      "\u001b[0;31m---------------------------------------------------------------------------\u001b[0m",
      "\u001b[0;31mValueError\u001b[0m                                Traceback (most recent call last)",
      "File \u001b[0;32m~/Library/Python/3.9/lib/python/site-packages/IPython/core/formatters.py:922\u001b[0m, in \u001b[0;36mIPythonDisplayFormatter.__call__\u001b[0;34m(self, obj)\u001b[0m\n\u001b[1;32m    920\u001b[0m method \u001b[38;5;241m=\u001b[39m get_real_method(obj, \u001b[38;5;28mself\u001b[39m\u001b[38;5;241m.\u001b[39mprint_method)\n\u001b[1;32m    921\u001b[0m \u001b[38;5;28;01mif\u001b[39;00m method \u001b[38;5;129;01mis\u001b[39;00m \u001b[38;5;129;01mnot\u001b[39;00m \u001b[38;5;28;01mNone\u001b[39;00m:\n\u001b[0;32m--> 922\u001b[0m     \u001b[43mmethod\u001b[49m\u001b[43m(\u001b[49m\u001b[43m)\u001b[49m\n\u001b[1;32m    923\u001b[0m     \u001b[38;5;28;01mreturn\u001b[39;00m \u001b[38;5;28;01mTrue\u001b[39;00m\n",
      "File \u001b[0;32m~/Library/Python/3.9/lib/python/site-packages/plotly/basedatatypes.py:832\u001b[0m, in \u001b[0;36mBaseFigure._ipython_display_\u001b[0;34m(self)\u001b[0m\n\u001b[1;32m    829\u001b[0m \u001b[38;5;28;01mimport\u001b[39;00m \u001b[38;5;21;01mplotly\u001b[39;00m\u001b[38;5;21;01m.\u001b[39;00m\u001b[38;5;21;01mio\u001b[39;00m \u001b[38;5;28;01mas\u001b[39;00m \u001b[38;5;21;01mpio\u001b[39;00m\n\u001b[1;32m    831\u001b[0m \u001b[38;5;28;01mif\u001b[39;00m pio\u001b[38;5;241m.\u001b[39mrenderers\u001b[38;5;241m.\u001b[39mrender_on_display \u001b[38;5;129;01mand\u001b[39;00m pio\u001b[38;5;241m.\u001b[39mrenderers\u001b[38;5;241m.\u001b[39mdefault:\n\u001b[0;32m--> 832\u001b[0m     \u001b[43mpio\u001b[49m\u001b[38;5;241;43m.\u001b[39;49m\u001b[43mshow\u001b[49m\u001b[43m(\u001b[49m\u001b[38;5;28;43mself\u001b[39;49m\u001b[43m)\u001b[49m\n\u001b[1;32m    833\u001b[0m \u001b[38;5;28;01melse\u001b[39;00m:\n\u001b[1;32m    834\u001b[0m     \u001b[38;5;28mprint\u001b[39m(\u001b[38;5;28mrepr\u001b[39m(\u001b[38;5;28mself\u001b[39m))\n",
      "File \u001b[0;32m~/Library/Python/3.9/lib/python/site-packages/plotly/io/_renderers.py:394\u001b[0m, in \u001b[0;36mshow\u001b[0;34m(fig, renderer, validate, **kwargs)\u001b[0m\n\u001b[1;32m    389\u001b[0m         \u001b[38;5;28;01mraise\u001b[39;00m \u001b[38;5;167;01mValueError\u001b[39;00m(\n\u001b[1;32m    390\u001b[0m             \u001b[38;5;124m\"\u001b[39m\u001b[38;5;124mMime type rendering requires ipython but it is not installed\u001b[39m\u001b[38;5;124m\"\u001b[39m\n\u001b[1;32m    391\u001b[0m         )\n\u001b[1;32m    393\u001b[0m     \u001b[38;5;28;01mif\u001b[39;00m \u001b[38;5;129;01mnot\u001b[39;00m nbformat \u001b[38;5;129;01mor\u001b[39;00m Version(nbformat\u001b[38;5;241m.\u001b[39m__version__) \u001b[38;5;241m<\u001b[39m Version(\u001b[38;5;124m\"\u001b[39m\u001b[38;5;124m4.2.0\u001b[39m\u001b[38;5;124m\"\u001b[39m):\n\u001b[0;32m--> 394\u001b[0m         \u001b[38;5;28;01mraise\u001b[39;00m \u001b[38;5;167;01mValueError\u001b[39;00m(\n\u001b[1;32m    395\u001b[0m             \u001b[38;5;124m\"\u001b[39m\u001b[38;5;124mMime type rendering requires nbformat>=4.2.0 but it is not installed\u001b[39m\u001b[38;5;124m\"\u001b[39m\n\u001b[1;32m    396\u001b[0m         )\n\u001b[1;32m    398\u001b[0m     ipython_display\u001b[38;5;241m.\u001b[39mdisplay(bundle, raw\u001b[38;5;241m=\u001b[39m\u001b[38;5;28;01mTrue\u001b[39;00m)\n\u001b[1;32m    400\u001b[0m \u001b[38;5;66;03m# external renderers\u001b[39;00m\n",
      "\u001b[0;31mValueError\u001b[0m: Mime type rendering requires nbformat>=4.2.0 but it is not installed"
     ]
    },
    {
     "data": {
      "application/vnd.plotly.v1+json": {
       "config": {
        "plotlyServerURL": "https://plot.ly"
       },
       "data": [
        {
         "marker": {
          "color": "#C8D2D7",
          "line": {
           "color": "#6E8484",
           "width": 1
          }
         },
         "orientation": "h",
         "type": "bar",
         "x": [
          0.029148430273768993,
          0.028066132979301855,
          0.17621030501175888,
          0.15048075289541543,
          0.06881379110390963,
          0.03327900535074752,
          0.3180774232802122,
          0.19592415910488548
         ],
         "y": [
          "<b>Topic 3</b>: heard_depp_trial_amber_j...",
          "<b>Topic 8</b>: lightyear_buzz_evans_dis...",
          "<b>Topic 13</b>: bts_kpop_group_korean_b...",
          "<b>Topic 15</b>: ai_lamda_language_googl...",
          "<b>Topic 17</b>: moon_strawberry_supermo...",
          "<b>Topic 18</b>: rebel_wilson_herald_hor...",
          "<b>Topic 19</b>: mls_matches_league_appl...",
          "<b>Topic 23</b>: crashes_vehicles_system..."
         ]
        }
       ],
       "layout": {
        "height": 600,
        "hoverlabel": {
         "bgcolor": "white",
         "font": {
          "family": "Rockwell",
          "size": 16
         }
        },
        "template": {
         "data": {
          "bar": [
           {
            "error_x": {
             "color": "rgb(36,36,36)"
            },
            "error_y": {
             "color": "rgb(36,36,36)"
            },
            "marker": {
             "line": {
              "color": "white",
              "width": 0.5
             },
             "pattern": {
              "fillmode": "overlay",
              "size": 10,
              "solidity": 0.2
             }
            },
            "type": "bar"
           }
          ],
          "barpolar": [
           {
            "marker": {
             "line": {
              "color": "white",
              "width": 0.5
             },
             "pattern": {
              "fillmode": "overlay",
              "size": 10,
              "solidity": 0.2
             }
            },
            "type": "barpolar"
           }
          ],
          "carpet": [
           {
            "aaxis": {
             "endlinecolor": "rgb(36,36,36)",
             "gridcolor": "white",
             "linecolor": "white",
             "minorgridcolor": "white",
             "startlinecolor": "rgb(36,36,36)"
            },
            "baxis": {
             "endlinecolor": "rgb(36,36,36)",
             "gridcolor": "white",
             "linecolor": "white",
             "minorgridcolor": "white",
             "startlinecolor": "rgb(36,36,36)"
            },
            "type": "carpet"
           }
          ],
          "choropleth": [
           {
            "colorbar": {
             "outlinewidth": 1,
             "tickcolor": "rgb(36,36,36)",
             "ticks": "outside"
            },
            "type": "choropleth"
           }
          ],
          "contour": [
           {
            "colorbar": {
             "outlinewidth": 1,
             "tickcolor": "rgb(36,36,36)",
             "ticks": "outside"
            },
            "colorscale": [
             [
              0,
              "#440154"
             ],
             [
              0.1111111111111111,
              "#482878"
             ],
             [
              0.2222222222222222,
              "#3e4989"
             ],
             [
              0.3333333333333333,
              "#31688e"
             ],
             [
              0.4444444444444444,
              "#26828e"
             ],
             [
              0.5555555555555556,
              "#1f9e89"
             ],
             [
              0.6666666666666666,
              "#35b779"
             ],
             [
              0.7777777777777778,
              "#6ece58"
             ],
             [
              0.8888888888888888,
              "#b5de2b"
             ],
             [
              1,
              "#fde725"
             ]
            ],
            "type": "contour"
           }
          ],
          "contourcarpet": [
           {
            "colorbar": {
             "outlinewidth": 1,
             "tickcolor": "rgb(36,36,36)",
             "ticks": "outside"
            },
            "type": "contourcarpet"
           }
          ],
          "heatmap": [
           {
            "colorbar": {
             "outlinewidth": 1,
             "tickcolor": "rgb(36,36,36)",
             "ticks": "outside"
            },
            "colorscale": [
             [
              0,
              "#440154"
             ],
             [
              0.1111111111111111,
              "#482878"
             ],
             [
              0.2222222222222222,
              "#3e4989"
             ],
             [
              0.3333333333333333,
              "#31688e"
             ],
             [
              0.4444444444444444,
              "#26828e"
             ],
             [
              0.5555555555555556,
              "#1f9e89"
             ],
             [
              0.6666666666666666,
              "#35b779"
             ],
             [
              0.7777777777777778,
              "#6ece58"
             ],
             [
              0.8888888888888888,
              "#b5de2b"
             ],
             [
              1,
              "#fde725"
             ]
            ],
            "type": "heatmap"
           }
          ],
          "heatmapgl": [
           {
            "colorbar": {
             "outlinewidth": 1,
             "tickcolor": "rgb(36,36,36)",
             "ticks": "outside"
            },
            "colorscale": [
             [
              0,
              "#440154"
             ],
             [
              0.1111111111111111,
              "#482878"
             ],
             [
              0.2222222222222222,
              "#3e4989"
             ],
             [
              0.3333333333333333,
              "#31688e"
             ],
             [
              0.4444444444444444,
              "#26828e"
             ],
             [
              0.5555555555555556,
              "#1f9e89"
             ],
             [
              0.6666666666666666,
              "#35b779"
             ],
             [
              0.7777777777777778,
              "#6ece58"
             ],
             [
              0.8888888888888888,
              "#b5de2b"
             ],
             [
              1,
              "#fde725"
             ]
            ],
            "type": "heatmapgl"
           }
          ],
          "histogram": [
           {
            "marker": {
             "line": {
              "color": "white",
              "width": 0.6
             }
            },
            "type": "histogram"
           }
          ],
          "histogram2d": [
           {
            "colorbar": {
             "outlinewidth": 1,
             "tickcolor": "rgb(36,36,36)",
             "ticks": "outside"
            },
            "colorscale": [
             [
              0,
              "#440154"
             ],
             [
              0.1111111111111111,
              "#482878"
             ],
             [
              0.2222222222222222,
              "#3e4989"
             ],
             [
              0.3333333333333333,
              "#31688e"
             ],
             [
              0.4444444444444444,
              "#26828e"
             ],
             [
              0.5555555555555556,
              "#1f9e89"
             ],
             [
              0.6666666666666666,
              "#35b779"
             ],
             [
              0.7777777777777778,
              "#6ece58"
             ],
             [
              0.8888888888888888,
              "#b5de2b"
             ],
             [
              1,
              "#fde725"
             ]
            ],
            "type": "histogram2d"
           }
          ],
          "histogram2dcontour": [
           {
            "colorbar": {
             "outlinewidth": 1,
             "tickcolor": "rgb(36,36,36)",
             "ticks": "outside"
            },
            "colorscale": [
             [
              0,
              "#440154"
             ],
             [
              0.1111111111111111,
              "#482878"
             ],
             [
              0.2222222222222222,
              "#3e4989"
             ],
             [
              0.3333333333333333,
              "#31688e"
             ],
             [
              0.4444444444444444,
              "#26828e"
             ],
             [
              0.5555555555555556,
              "#1f9e89"
             ],
             [
              0.6666666666666666,
              "#35b779"
             ],
             [
              0.7777777777777778,
              "#6ece58"
             ],
             [
              0.8888888888888888,
              "#b5de2b"
             ],
             [
              1,
              "#fde725"
             ]
            ],
            "type": "histogram2dcontour"
           }
          ],
          "mesh3d": [
           {
            "colorbar": {
             "outlinewidth": 1,
             "tickcolor": "rgb(36,36,36)",
             "ticks": "outside"
            },
            "type": "mesh3d"
           }
          ],
          "parcoords": [
           {
            "line": {
             "colorbar": {
              "outlinewidth": 1,
              "tickcolor": "rgb(36,36,36)",
              "ticks": "outside"
             }
            },
            "type": "parcoords"
           }
          ],
          "pie": [
           {
            "automargin": true,
            "type": "pie"
           }
          ],
          "scatter": [
           {
            "fillpattern": {
             "fillmode": "overlay",
             "size": 10,
             "solidity": 0.2
            },
            "type": "scatter"
           }
          ],
          "scatter3d": [
           {
            "line": {
             "colorbar": {
              "outlinewidth": 1,
              "tickcolor": "rgb(36,36,36)",
              "ticks": "outside"
             }
            },
            "marker": {
             "colorbar": {
              "outlinewidth": 1,
              "tickcolor": "rgb(36,36,36)",
              "ticks": "outside"
             }
            },
            "type": "scatter3d"
           }
          ],
          "scattercarpet": [
           {
            "marker": {
             "colorbar": {
              "outlinewidth": 1,
              "tickcolor": "rgb(36,36,36)",
              "ticks": "outside"
             }
            },
            "type": "scattercarpet"
           }
          ],
          "scattergeo": [
           {
            "marker": {
             "colorbar": {
              "outlinewidth": 1,
              "tickcolor": "rgb(36,36,36)",
              "ticks": "outside"
             }
            },
            "type": "scattergeo"
           }
          ],
          "scattergl": [
           {
            "marker": {
             "colorbar": {
              "outlinewidth": 1,
              "tickcolor": "rgb(36,36,36)",
              "ticks": "outside"
             }
            },
            "type": "scattergl"
           }
          ],
          "scattermapbox": [
           {
            "marker": {
             "colorbar": {
              "outlinewidth": 1,
              "tickcolor": "rgb(36,36,36)",
              "ticks": "outside"
             }
            },
            "type": "scattermapbox"
           }
          ],
          "scatterpolar": [
           {
            "marker": {
             "colorbar": {
              "outlinewidth": 1,
              "tickcolor": "rgb(36,36,36)",
              "ticks": "outside"
             }
            },
            "type": "scatterpolar"
           }
          ],
          "scatterpolargl": [
           {
            "marker": {
             "colorbar": {
              "outlinewidth": 1,
              "tickcolor": "rgb(36,36,36)",
              "ticks": "outside"
             }
            },
            "type": "scatterpolargl"
           }
          ],
          "scatterternary": [
           {
            "marker": {
             "colorbar": {
              "outlinewidth": 1,
              "tickcolor": "rgb(36,36,36)",
              "ticks": "outside"
             }
            },
            "type": "scatterternary"
           }
          ],
          "surface": [
           {
            "colorbar": {
             "outlinewidth": 1,
             "tickcolor": "rgb(36,36,36)",
             "ticks": "outside"
            },
            "colorscale": [
             [
              0,
              "#440154"
             ],
             [
              0.1111111111111111,
              "#482878"
             ],
             [
              0.2222222222222222,
              "#3e4989"
             ],
             [
              0.3333333333333333,
              "#31688e"
             ],
             [
              0.4444444444444444,
              "#26828e"
             ],
             [
              0.5555555555555556,
              "#1f9e89"
             ],
             [
              0.6666666666666666,
              "#35b779"
             ],
             [
              0.7777777777777778,
              "#6ece58"
             ],
             [
              0.8888888888888888,
              "#b5de2b"
             ],
             [
              1,
              "#fde725"
             ]
            ],
            "type": "surface"
           }
          ],
          "table": [
           {
            "cells": {
             "fill": {
              "color": "rgb(237,237,237)"
             },
             "line": {
              "color": "white"
             }
            },
            "header": {
             "fill": {
              "color": "rgb(217,217,217)"
             },
             "line": {
              "color": "white"
             }
            },
            "type": "table"
           }
          ]
         },
         "layout": {
          "annotationdefaults": {
           "arrowhead": 0,
           "arrowwidth": 1
          },
          "autotypenumbers": "strict",
          "coloraxis": {
           "colorbar": {
            "outlinewidth": 1,
            "tickcolor": "rgb(36,36,36)",
            "ticks": "outside"
           }
          },
          "colorscale": {
           "diverging": [
            [
             0,
             "rgb(103,0,31)"
            ],
            [
             0.1,
             "rgb(178,24,43)"
            ],
            [
             0.2,
             "rgb(214,96,77)"
            ],
            [
             0.3,
             "rgb(244,165,130)"
            ],
            [
             0.4,
             "rgb(253,219,199)"
            ],
            [
             0.5,
             "rgb(247,247,247)"
            ],
            [
             0.6,
             "rgb(209,229,240)"
            ],
            [
             0.7,
             "rgb(146,197,222)"
            ],
            [
             0.8,
             "rgb(67,147,195)"
            ],
            [
             0.9,
             "rgb(33,102,172)"
            ],
            [
             1,
             "rgb(5,48,97)"
            ]
           ],
           "sequential": [
            [
             0,
             "#440154"
            ],
            [
             0.1111111111111111,
             "#482878"
            ],
            [
             0.2222222222222222,
             "#3e4989"
            ],
            [
             0.3333333333333333,
             "#31688e"
            ],
            [
             0.4444444444444444,
             "#26828e"
            ],
            [
             0.5555555555555556,
             "#1f9e89"
            ],
            [
             0.6666666666666666,
             "#35b779"
            ],
            [
             0.7777777777777778,
             "#6ece58"
            ],
            [
             0.8888888888888888,
             "#b5de2b"
            ],
            [
             1,
             "#fde725"
            ]
           ],
           "sequentialminus": [
            [
             0,
             "#440154"
            ],
            [
             0.1111111111111111,
             "#482878"
            ],
            [
             0.2222222222222222,
             "#3e4989"
            ],
            [
             0.3333333333333333,
             "#31688e"
            ],
            [
             0.4444444444444444,
             "#26828e"
            ],
            [
             0.5555555555555556,
             "#1f9e89"
            ],
            [
             0.6666666666666666,
             "#35b779"
            ],
            [
             0.7777777777777778,
             "#6ece58"
            ],
            [
             0.8888888888888888,
             "#b5de2b"
            ],
            [
             1,
             "#fde725"
            ]
           ]
          },
          "colorway": [
           "#1F77B4",
           "#FF7F0E",
           "#2CA02C",
           "#D62728",
           "#9467BD",
           "#8C564B",
           "#E377C2",
           "#7F7F7F",
           "#BCBD22",
           "#17BECF"
          ],
          "font": {
           "color": "rgb(36,36,36)"
          },
          "geo": {
           "bgcolor": "white",
           "lakecolor": "white",
           "landcolor": "white",
           "showlakes": true,
           "showland": true,
           "subunitcolor": "white"
          },
          "hoverlabel": {
           "align": "left"
          },
          "hovermode": "closest",
          "mapbox": {
           "style": "light"
          },
          "paper_bgcolor": "white",
          "plot_bgcolor": "white",
          "polar": {
           "angularaxis": {
            "gridcolor": "rgb(232,232,232)",
            "linecolor": "rgb(36,36,36)",
            "showgrid": false,
            "showline": true,
            "ticks": "outside"
           },
           "bgcolor": "white",
           "radialaxis": {
            "gridcolor": "rgb(232,232,232)",
            "linecolor": "rgb(36,36,36)",
            "showgrid": false,
            "showline": true,
            "ticks": "outside"
           }
          },
          "scene": {
           "xaxis": {
            "backgroundcolor": "white",
            "gridcolor": "rgb(232,232,232)",
            "gridwidth": 2,
            "linecolor": "rgb(36,36,36)",
            "showbackground": true,
            "showgrid": false,
            "showline": true,
            "ticks": "outside",
            "zeroline": false,
            "zerolinecolor": "rgb(36,36,36)"
           },
           "yaxis": {
            "backgroundcolor": "white",
            "gridcolor": "rgb(232,232,232)",
            "gridwidth": 2,
            "linecolor": "rgb(36,36,36)",
            "showbackground": true,
            "showgrid": false,
            "showline": true,
            "ticks": "outside",
            "zeroline": false,
            "zerolinecolor": "rgb(36,36,36)"
           },
           "zaxis": {
            "backgroundcolor": "white",
            "gridcolor": "rgb(232,232,232)",
            "gridwidth": 2,
            "linecolor": "rgb(36,36,36)",
            "showbackground": true,
            "showgrid": false,
            "showline": true,
            "ticks": "outside",
            "zeroline": false,
            "zerolinecolor": "rgb(36,36,36)"
           }
          },
          "shapedefaults": {
           "fillcolor": "black",
           "line": {
            "width": 0
           },
           "opacity": 0.3
          },
          "ternary": {
           "aaxis": {
            "gridcolor": "rgb(232,232,232)",
            "linecolor": "rgb(36,36,36)",
            "showgrid": false,
            "showline": true,
            "ticks": "outside"
           },
           "baxis": {
            "gridcolor": "rgb(232,232,232)",
            "linecolor": "rgb(36,36,36)",
            "showgrid": false,
            "showline": true,
            "ticks": "outside"
           },
           "bgcolor": "white",
           "caxis": {
            "gridcolor": "rgb(232,232,232)",
            "linecolor": "rgb(36,36,36)",
            "showgrid": false,
            "showline": true,
            "ticks": "outside"
           }
          },
          "title": {
           "x": 0.05
          },
          "xaxis": {
           "automargin": true,
           "gridcolor": "rgb(232,232,232)",
           "linecolor": "rgb(36,36,36)",
           "showgrid": false,
           "showline": true,
           "ticks": "outside",
           "title": {
            "standoff": 15
           },
           "zeroline": false,
           "zerolinecolor": "rgb(36,36,36)"
          },
          "yaxis": {
           "automargin": true,
           "gridcolor": "rgb(232,232,232)",
           "linecolor": "rgb(36,36,36)",
           "showgrid": false,
           "showline": true,
           "ticks": "outside",
           "title": {
            "standoff": 15
           },
           "zeroline": false,
           "zerolinecolor": "rgb(36,36,36)"
          }
         }
        },
        "title": {
         "font": {
          "color": "Black",
          "size": 22
         },
         "text": "<b>Topic Probability Distribution</b>",
         "x": 0.5,
         "xanchor": "center",
         "y": 0.95,
         "yanchor": "top"
        },
        "width": 800,
        "xaxis": {
         "title": {
          "text": "Probability"
         }
        }
       }
      },
      "text/html": [
       "<div>                        <script type=\"text/javascript\">window.PlotlyConfig = {MathJaxConfig: 'local'};</script>\n",
       "        <script charset=\"utf-8\" src=\"https://cdn.plot.ly/plotly-2.29.1.min.js\"></script>                <div id=\"8b55ce3b-0362-4042-92a0-7675a7151e20\" class=\"plotly-graph-div\" style=\"height:600px; width:800px;\"></div>            <script type=\"text/javascript\">                                    window.PLOTLYENV=window.PLOTLYENV || {};                                    if (document.getElementById(\"8b55ce3b-0362-4042-92a0-7675a7151e20\")) {                    Plotly.newPlot(                        \"8b55ce3b-0362-4042-92a0-7675a7151e20\",                        [{\"marker\":{\"color\":\"#C8D2D7\",\"line\":{\"color\":\"#6E8484\",\"width\":1}},\"orientation\":\"h\",\"x\":[0.029148430273768993,0.028066132979301855,0.17621030501175888,0.15048075289541543,0.06881379110390963,0.03327900535074752,0.3180774232802122,0.19592415910488548],\"y\":[\"\\u003cb\\u003eTopic 3\\u003c\\u002fb\\u003e: heard_depp_trial_amber_j...\",\"\\u003cb\\u003eTopic 8\\u003c\\u002fb\\u003e: lightyear_buzz_evans_dis...\",\"\\u003cb\\u003eTopic 13\\u003c\\u002fb\\u003e: bts_kpop_group_korean_b...\",\"\\u003cb\\u003eTopic 15\\u003c\\u002fb\\u003e: ai_lamda_language_googl...\",\"\\u003cb\\u003eTopic 17\\u003c\\u002fb\\u003e: moon_strawberry_supermo...\",\"\\u003cb\\u003eTopic 18\\u003c\\u002fb\\u003e: rebel_wilson_herald_hor...\",\"\\u003cb\\u003eTopic 19\\u003c\\u002fb\\u003e: mls_matches_league_appl...\",\"\\u003cb\\u003eTopic 23\\u003c\\u002fb\\u003e: crashes_vehicles_system...\"],\"type\":\"bar\"}],                        {\"template\":{\"data\":{\"barpolar\":[{\"marker\":{\"line\":{\"color\":\"white\",\"width\":0.5},\"pattern\":{\"fillmode\":\"overlay\",\"size\":10,\"solidity\":0.2}},\"type\":\"barpolar\"}],\"bar\":[{\"error_x\":{\"color\":\"rgb(36,36,36)\"},\"error_y\":{\"color\":\"rgb(36,36,36)\"},\"marker\":{\"line\":{\"color\":\"white\",\"width\":0.5},\"pattern\":{\"fillmode\":\"overlay\",\"size\":10,\"solidity\":0.2}},\"type\":\"bar\"}],\"carpet\":[{\"aaxis\":{\"endlinecolor\":\"rgb(36,36,36)\",\"gridcolor\":\"white\",\"linecolor\":\"white\",\"minorgridcolor\":\"white\",\"startlinecolor\":\"rgb(36,36,36)\"},\"baxis\":{\"endlinecolor\":\"rgb(36,36,36)\",\"gridcolor\":\"white\",\"linecolor\":\"white\",\"minorgridcolor\":\"white\",\"startlinecolor\":\"rgb(36,36,36)\"},\"type\":\"carpet\"}],\"choropleth\":[{\"colorbar\":{\"outlinewidth\":1,\"tickcolor\":\"rgb(36,36,36)\",\"ticks\":\"outside\"},\"type\":\"choropleth\"}],\"contourcarpet\":[{\"colorbar\":{\"outlinewidth\":1,\"tickcolor\":\"rgb(36,36,36)\",\"ticks\":\"outside\"},\"type\":\"contourcarpet\"}],\"contour\":[{\"colorbar\":{\"outlinewidth\":1,\"tickcolor\":\"rgb(36,36,36)\",\"ticks\":\"outside\"},\"colorscale\":[[0.0,\"#440154\"],[0.1111111111111111,\"#482878\"],[0.2222222222222222,\"#3e4989\"],[0.3333333333333333,\"#31688e\"],[0.4444444444444444,\"#26828e\"],[0.5555555555555556,\"#1f9e89\"],[0.6666666666666666,\"#35b779\"],[0.7777777777777778,\"#6ece58\"],[0.8888888888888888,\"#b5de2b\"],[1.0,\"#fde725\"]],\"type\":\"contour\"}],\"heatmapgl\":[{\"colorbar\":{\"outlinewidth\":1,\"tickcolor\":\"rgb(36,36,36)\",\"ticks\":\"outside\"},\"colorscale\":[[0.0,\"#440154\"],[0.1111111111111111,\"#482878\"],[0.2222222222222222,\"#3e4989\"],[0.3333333333333333,\"#31688e\"],[0.4444444444444444,\"#26828e\"],[0.5555555555555556,\"#1f9e89\"],[0.6666666666666666,\"#35b779\"],[0.7777777777777778,\"#6ece58\"],[0.8888888888888888,\"#b5de2b\"],[1.0,\"#fde725\"]],\"type\":\"heatmapgl\"}],\"heatmap\":[{\"colorbar\":{\"outlinewidth\":1,\"tickcolor\":\"rgb(36,36,36)\",\"ticks\":\"outside\"},\"colorscale\":[[0.0,\"#440154\"],[0.1111111111111111,\"#482878\"],[0.2222222222222222,\"#3e4989\"],[0.3333333333333333,\"#31688e\"],[0.4444444444444444,\"#26828e\"],[0.5555555555555556,\"#1f9e89\"],[0.6666666666666666,\"#35b779\"],[0.7777777777777778,\"#6ece58\"],[0.8888888888888888,\"#b5de2b\"],[1.0,\"#fde725\"]],\"type\":\"heatmap\"}],\"histogram2dcontour\":[{\"colorbar\":{\"outlinewidth\":1,\"tickcolor\":\"rgb(36,36,36)\",\"ticks\":\"outside\"},\"colorscale\":[[0.0,\"#440154\"],[0.1111111111111111,\"#482878\"],[0.2222222222222222,\"#3e4989\"],[0.3333333333333333,\"#31688e\"],[0.4444444444444444,\"#26828e\"],[0.5555555555555556,\"#1f9e89\"],[0.6666666666666666,\"#35b779\"],[0.7777777777777778,\"#6ece58\"],[0.8888888888888888,\"#b5de2b\"],[1.0,\"#fde725\"]],\"type\":\"histogram2dcontour\"}],\"histogram2d\":[{\"colorbar\":{\"outlinewidth\":1,\"tickcolor\":\"rgb(36,36,36)\",\"ticks\":\"outside\"},\"colorscale\":[[0.0,\"#440154\"],[0.1111111111111111,\"#482878\"],[0.2222222222222222,\"#3e4989\"],[0.3333333333333333,\"#31688e\"],[0.4444444444444444,\"#26828e\"],[0.5555555555555556,\"#1f9e89\"],[0.6666666666666666,\"#35b779\"],[0.7777777777777778,\"#6ece58\"],[0.8888888888888888,\"#b5de2b\"],[1.0,\"#fde725\"]],\"type\":\"histogram2d\"}],\"histogram\":[{\"marker\":{\"line\":{\"color\":\"white\",\"width\":0.6}},\"type\":\"histogram\"}],\"mesh3d\":[{\"colorbar\":{\"outlinewidth\":1,\"tickcolor\":\"rgb(36,36,36)\",\"ticks\":\"outside\"},\"type\":\"mesh3d\"}],\"parcoords\":[{\"line\":{\"colorbar\":{\"outlinewidth\":1,\"tickcolor\":\"rgb(36,36,36)\",\"ticks\":\"outside\"}},\"type\":\"parcoords\"}],\"pie\":[{\"automargin\":true,\"type\":\"pie\"}],\"scatter3d\":[{\"line\":{\"colorbar\":{\"outlinewidth\":1,\"tickcolor\":\"rgb(36,36,36)\",\"ticks\":\"outside\"}},\"marker\":{\"colorbar\":{\"outlinewidth\":1,\"tickcolor\":\"rgb(36,36,36)\",\"ticks\":\"outside\"}},\"type\":\"scatter3d\"}],\"scattercarpet\":[{\"marker\":{\"colorbar\":{\"outlinewidth\":1,\"tickcolor\":\"rgb(36,36,36)\",\"ticks\":\"outside\"}},\"type\":\"scattercarpet\"}],\"scattergeo\":[{\"marker\":{\"colorbar\":{\"outlinewidth\":1,\"tickcolor\":\"rgb(36,36,36)\",\"ticks\":\"outside\"}},\"type\":\"scattergeo\"}],\"scattergl\":[{\"marker\":{\"colorbar\":{\"outlinewidth\":1,\"tickcolor\":\"rgb(36,36,36)\",\"ticks\":\"outside\"}},\"type\":\"scattergl\"}],\"scattermapbox\":[{\"marker\":{\"colorbar\":{\"outlinewidth\":1,\"tickcolor\":\"rgb(36,36,36)\",\"ticks\":\"outside\"}},\"type\":\"scattermapbox\"}],\"scatterpolargl\":[{\"marker\":{\"colorbar\":{\"outlinewidth\":1,\"tickcolor\":\"rgb(36,36,36)\",\"ticks\":\"outside\"}},\"type\":\"scatterpolargl\"}],\"scatterpolar\":[{\"marker\":{\"colorbar\":{\"outlinewidth\":1,\"tickcolor\":\"rgb(36,36,36)\",\"ticks\":\"outside\"}},\"type\":\"scatterpolar\"}],\"scatter\":[{\"fillpattern\":{\"fillmode\":\"overlay\",\"size\":10,\"solidity\":0.2},\"type\":\"scatter\"}],\"scatterternary\":[{\"marker\":{\"colorbar\":{\"outlinewidth\":1,\"tickcolor\":\"rgb(36,36,36)\",\"ticks\":\"outside\"}},\"type\":\"scatterternary\"}],\"surface\":[{\"colorbar\":{\"outlinewidth\":1,\"tickcolor\":\"rgb(36,36,36)\",\"ticks\":\"outside\"},\"colorscale\":[[0.0,\"#440154\"],[0.1111111111111111,\"#482878\"],[0.2222222222222222,\"#3e4989\"],[0.3333333333333333,\"#31688e\"],[0.4444444444444444,\"#26828e\"],[0.5555555555555556,\"#1f9e89\"],[0.6666666666666666,\"#35b779\"],[0.7777777777777778,\"#6ece58\"],[0.8888888888888888,\"#b5de2b\"],[1.0,\"#fde725\"]],\"type\":\"surface\"}],\"table\":[{\"cells\":{\"fill\":{\"color\":\"rgb(237,237,237)\"},\"line\":{\"color\":\"white\"}},\"header\":{\"fill\":{\"color\":\"rgb(217,217,217)\"},\"line\":{\"color\":\"white\"}},\"type\":\"table\"}]},\"layout\":{\"annotationdefaults\":{\"arrowhead\":0,\"arrowwidth\":1},\"autotypenumbers\":\"strict\",\"coloraxis\":{\"colorbar\":{\"outlinewidth\":1,\"tickcolor\":\"rgb(36,36,36)\",\"ticks\":\"outside\"}},\"colorscale\":{\"diverging\":[[0.0,\"rgb(103,0,31)\"],[0.1,\"rgb(178,24,43)\"],[0.2,\"rgb(214,96,77)\"],[0.3,\"rgb(244,165,130)\"],[0.4,\"rgb(253,219,199)\"],[0.5,\"rgb(247,247,247)\"],[0.6,\"rgb(209,229,240)\"],[0.7,\"rgb(146,197,222)\"],[0.8,\"rgb(67,147,195)\"],[0.9,\"rgb(33,102,172)\"],[1.0,\"rgb(5,48,97)\"]],\"sequential\":[[0.0,\"#440154\"],[0.1111111111111111,\"#482878\"],[0.2222222222222222,\"#3e4989\"],[0.3333333333333333,\"#31688e\"],[0.4444444444444444,\"#26828e\"],[0.5555555555555556,\"#1f9e89\"],[0.6666666666666666,\"#35b779\"],[0.7777777777777778,\"#6ece58\"],[0.8888888888888888,\"#b5de2b\"],[1.0,\"#fde725\"]],\"sequentialminus\":[[0.0,\"#440154\"],[0.1111111111111111,\"#482878\"],[0.2222222222222222,\"#3e4989\"],[0.3333333333333333,\"#31688e\"],[0.4444444444444444,\"#26828e\"],[0.5555555555555556,\"#1f9e89\"],[0.6666666666666666,\"#35b779\"],[0.7777777777777778,\"#6ece58\"],[0.8888888888888888,\"#b5de2b\"],[1.0,\"#fde725\"]]},\"colorway\":[\"#1F77B4\",\"#FF7F0E\",\"#2CA02C\",\"#D62728\",\"#9467BD\",\"#8C564B\",\"#E377C2\",\"#7F7F7F\",\"#BCBD22\",\"#17BECF\"],\"font\":{\"color\":\"rgb(36,36,36)\"},\"geo\":{\"bgcolor\":\"white\",\"lakecolor\":\"white\",\"landcolor\":\"white\",\"showlakes\":true,\"showland\":true,\"subunitcolor\":\"white\"},\"hoverlabel\":{\"align\":\"left\"},\"hovermode\":\"closest\",\"mapbox\":{\"style\":\"light\"},\"paper_bgcolor\":\"white\",\"plot_bgcolor\":\"white\",\"polar\":{\"angularaxis\":{\"gridcolor\":\"rgb(232,232,232)\",\"linecolor\":\"rgb(36,36,36)\",\"showgrid\":false,\"showline\":true,\"ticks\":\"outside\"},\"bgcolor\":\"white\",\"radialaxis\":{\"gridcolor\":\"rgb(232,232,232)\",\"linecolor\":\"rgb(36,36,36)\",\"showgrid\":false,\"showline\":true,\"ticks\":\"outside\"}},\"scene\":{\"xaxis\":{\"backgroundcolor\":\"white\",\"gridcolor\":\"rgb(232,232,232)\",\"gridwidth\":2,\"linecolor\":\"rgb(36,36,36)\",\"showbackground\":true,\"showgrid\":false,\"showline\":true,\"ticks\":\"outside\",\"zeroline\":false,\"zerolinecolor\":\"rgb(36,36,36)\"},\"yaxis\":{\"backgroundcolor\":\"white\",\"gridcolor\":\"rgb(232,232,232)\",\"gridwidth\":2,\"linecolor\":\"rgb(36,36,36)\",\"showbackground\":true,\"showgrid\":false,\"showline\":true,\"ticks\":\"outside\",\"zeroline\":false,\"zerolinecolor\":\"rgb(36,36,36)\"},\"zaxis\":{\"backgroundcolor\":\"white\",\"gridcolor\":\"rgb(232,232,232)\",\"gridwidth\":2,\"linecolor\":\"rgb(36,36,36)\",\"showbackground\":true,\"showgrid\":false,\"showline\":true,\"ticks\":\"outside\",\"zeroline\":false,\"zerolinecolor\":\"rgb(36,36,36)\"}},\"shapedefaults\":{\"fillcolor\":\"black\",\"line\":{\"width\":0},\"opacity\":0.3},\"ternary\":{\"aaxis\":{\"gridcolor\":\"rgb(232,232,232)\",\"linecolor\":\"rgb(36,36,36)\",\"showgrid\":false,\"showline\":true,\"ticks\":\"outside\"},\"baxis\":{\"gridcolor\":\"rgb(232,232,232)\",\"linecolor\":\"rgb(36,36,36)\",\"showgrid\":false,\"showline\":true,\"ticks\":\"outside\"},\"bgcolor\":\"white\",\"caxis\":{\"gridcolor\":\"rgb(232,232,232)\",\"linecolor\":\"rgb(36,36,36)\",\"showgrid\":false,\"showline\":true,\"ticks\":\"outside\"}},\"title\":{\"x\":0.05},\"xaxis\":{\"automargin\":true,\"gridcolor\":\"rgb(232,232,232)\",\"linecolor\":\"rgb(36,36,36)\",\"showgrid\":false,\"showline\":true,\"ticks\":\"outside\",\"title\":{\"standoff\":15},\"zeroline\":false,\"zerolinecolor\":\"rgb(36,36,36)\"},\"yaxis\":{\"automargin\":true,\"gridcolor\":\"rgb(232,232,232)\",\"linecolor\":\"rgb(36,36,36)\",\"showgrid\":false,\"showline\":true,\"ticks\":\"outside\",\"title\":{\"standoff\":15},\"zeroline\":false,\"zerolinecolor\":\"rgb(36,36,36)\"}}},\"title\":{\"font\":{\"size\":22,\"color\":\"Black\"},\"text\":\"\\u003cb\\u003eTopic Probability Distribution\\u003c\\u002fb\\u003e\",\"y\":0.95,\"x\":0.5,\"xanchor\":\"center\",\"yanchor\":\"top\"},\"hoverlabel\":{\"font\":{\"size\":16,\"family\":\"Rockwell\"},\"bgcolor\":\"white\"},\"xaxis\":{\"title\":{\"text\":\"Probability\"}},\"width\":800,\"height\":600},                        {\"responsive\": true}                    )                };                            </script>        </div>"
      ],
      "text/plain": [
       "Figure({\n",
       "    'data': [{'marker': {'color': '#C8D2D7', 'line': {'color': '#6E8484', 'width': 1}},\n",
       "              'orientation': 'h',\n",
       "              'type': 'bar',\n",
       "              'x': [0.029148430273768993, 0.028066132979301855,\n",
       "                    0.17621030501175888, 0.15048075289541543, 0.06881379110390963,\n",
       "                    0.03327900535074752, 0.3180774232802122, 0.19592415910488548],\n",
       "              'y': [<b>Topic 3</b>: heard_depp_trial_amber_j..., <b>Topic 8</b>:\n",
       "                    lightyear_buzz_evans_dis..., <b>Topic 13</b>:\n",
       "                    bts_kpop_group_korean_b..., <b>Topic 15</b>:\n",
       "                    ai_lamda_language_googl..., <b>Topic 17</b>:\n",
       "                    moon_strawberry_supermo..., <b>Topic 18</b>:\n",
       "                    rebel_wilson_herald_hor..., <b>Topic 19</b>:\n",
       "                    mls_matches_league_appl..., <b>Topic 23</b>:\n",
       "                    crashes_vehicles_system...]}],\n",
       "    'layout': {'height': 600,\n",
       "               'hoverlabel': {'bgcolor': 'white', 'font': {'family': 'Rockwell', 'size': 16}},\n",
       "               'template': '...',\n",
       "               'title': {'font': {'color': 'Black', 'size': 22},\n",
       "                         'text': '<b>Topic Probability Distribution</b>',\n",
       "                         'x': 0.5,\n",
       "                         'xanchor': 'center',\n",
       "                         'y': 0.95,\n",
       "                         'yanchor': 'top'},\n",
       "               'width': 800,\n",
       "               'xaxis': {'title': {'text': 'Probability'}}}\n",
       "})"
      ]
     },
     "execution_count": 9,
     "metadata": {},
     "output_type": "execute_result"
    }
   ],
   "source": [
    "topic_model.visualize_distribution(topic_distr[1])"
   ]
  },
  {
   "cell_type": "markdown",
   "metadata": {},
   "source": [
    "# Topic Generation\n",
    "- This code uses the word bags from each topic and passes them into an llm to parse out a topic \n",
    "\n",
    "Prompt: \n",
    "\n",
    "['england', 'cup', 'world', 'final', 'match', 'win', 'socceroos', 'league', 'players', 'group']\n",
    "\n",
    "Given this set of word return a one concept classification of the article\n"
   ]
  },
  {
   "cell_type": "code",
   "execution_count": 16,
   "metadata": {},
   "outputs": [
    {
     "name": "stderr",
     "output_type": "stream",
     "text": [
      "Loading checkpoint shards: 100%|██████████| 2/2 [00:47<00:00, 23.69s/it]\n"
     ]
    }
   ],
   "source": [
    "from transformers import pipeline\n",
    "\n",
    "pipe = pipeline(model=\"meta-llama/llama-2-7b-chat-hf\")"
   ]
  },
  {
   "cell_type": "code",
   "execution_count": 17,
   "metadata": {},
   "outputs": [],
   "source": [
    "def generate_topic_name(list_of_words):\n",
    "  words = ', '.join([i for i in list_of_words])\n",
    "\n",
    "  prompt = f\"\"\"Given the following set of words {words}, return at most three words that describe the generic topic of the article\"\"\"\n",
    "  return pipe(prompt)[0]\n",
    "  "
   ]
  },
  {
   "cell_type": "code",
   "execution_count": 23,
   "metadata": {},
   "outputs": [
    {
     "name": "stdout",
     "output_type": "stream",
     "text": [
      "['england', 'cup', 'world', 'final', 'win', 'match', 'socceroos', 'league', 'players', 'group']\n"
     ]
    },
    {
     "ename": "KeyboardInterrupt",
     "evalue": "",
     "output_type": "error",
     "traceback": [
      "\u001b[0;31m---------------------------------------------------------------------------\u001b[0m",
      "\u001b[0;31mKeyboardInterrupt\u001b[0m                         Traceback (most recent call last)",
      "Cell \u001b[0;32mIn[23], line 7\u001b[0m\n\u001b[1;32m      5\u001b[0m \u001b[38;5;28;01mfor\u001b[39;00m word \u001b[38;5;129;01min\u001b[39;00m all_topics[i]:\n\u001b[1;32m      6\u001b[0m     list_of_words\u001b[38;5;241m.\u001b[39mappend(word[\u001b[38;5;241m0\u001b[39m])\n\u001b[0;32m----> 7\u001b[0m topic_names\u001b[38;5;241m.\u001b[39mappend(\u001b[43mgenerate_topic_name\u001b[49m\u001b[43m(\u001b[49m\u001b[43mlist_of_words\u001b[49m\u001b[43m)\u001b[49m)\n\u001b[1;32m      8\u001b[0m \u001b[38;5;28mprint\u001b[39m(list_of_words)\n",
      "Cell \u001b[0;32mIn[17], line 5\u001b[0m, in \u001b[0;36mgenerate_topic_name\u001b[0;34m(list_of_words)\u001b[0m\n\u001b[1;32m      2\u001b[0m words \u001b[38;5;241m=\u001b[39m \u001b[38;5;124m'\u001b[39m\u001b[38;5;124m, \u001b[39m\u001b[38;5;124m'\u001b[39m\u001b[38;5;241m.\u001b[39mjoin([i \u001b[38;5;28;01mfor\u001b[39;00m i \u001b[38;5;129;01min\u001b[39;00m list_of_words])\n\u001b[1;32m      4\u001b[0m prompt \u001b[38;5;241m=\u001b[39m \u001b[38;5;124mf\u001b[39m\u001b[38;5;124m\"\"\"\u001b[39m\u001b[38;5;124mGiven the following set of words \u001b[39m\u001b[38;5;132;01m{\u001b[39;00mwords\u001b[38;5;132;01m}\u001b[39;00m\u001b[38;5;124m, return at most three words that describe the generic topic of the article\u001b[39m\u001b[38;5;124m\"\"\"\u001b[39m\n\u001b[0;32m----> 5\u001b[0m \u001b[38;5;28;01mreturn\u001b[39;00m \u001b[43mpipe\u001b[49m\u001b[43m(\u001b[49m\u001b[43mprompt\u001b[49m\u001b[43m)\u001b[49m[\u001b[38;5;241m0\u001b[39m]\n",
      "File \u001b[0;32m~/Library/Python/3.9/lib/python/site-packages/transformers/pipelines/text_generation.py:241\u001b[0m, in \u001b[0;36mTextGenerationPipeline.__call__\u001b[0;34m(self, text_inputs, **kwargs)\u001b[0m\n\u001b[1;32m    239\u001b[0m         \u001b[38;5;28;01mreturn\u001b[39;00m \u001b[38;5;28msuper\u001b[39m()\u001b[38;5;241m.\u001b[39m\u001b[38;5;21m__call__\u001b[39m(chats, \u001b[38;5;241m*\u001b[39m\u001b[38;5;241m*\u001b[39mkwargs)\n\u001b[1;32m    240\u001b[0m \u001b[38;5;28;01melse\u001b[39;00m:\n\u001b[0;32m--> 241\u001b[0m     \u001b[38;5;28;01mreturn\u001b[39;00m \u001b[38;5;28;43msuper\u001b[39;49m\u001b[43m(\u001b[49m\u001b[43m)\u001b[49m\u001b[38;5;241;43m.\u001b[39;49m\u001b[38;5;21;43m__call__\u001b[39;49m\u001b[43m(\u001b[49m\u001b[43mtext_inputs\u001b[49m\u001b[43m,\u001b[49m\u001b[43m \u001b[49m\u001b[38;5;241;43m*\u001b[39;49m\u001b[38;5;241;43m*\u001b[39;49m\u001b[43mkwargs\u001b[49m\u001b[43m)\u001b[49m\n",
      "File \u001b[0;32m~/Library/Python/3.9/lib/python/site-packages/transformers/pipelines/base.py:1196\u001b[0m, in \u001b[0;36mPipeline.__call__\u001b[0;34m(self, inputs, num_workers, batch_size, *args, **kwargs)\u001b[0m\n\u001b[1;32m   1188\u001b[0m     \u001b[38;5;28;01mreturn\u001b[39;00m \u001b[38;5;28mnext\u001b[39m(\n\u001b[1;32m   1189\u001b[0m         \u001b[38;5;28miter\u001b[39m(\n\u001b[1;32m   1190\u001b[0m             \u001b[38;5;28mself\u001b[39m\u001b[38;5;241m.\u001b[39mget_iterator(\n\u001b[0;32m   (...)\u001b[0m\n\u001b[1;32m   1193\u001b[0m         )\n\u001b[1;32m   1194\u001b[0m     )\n\u001b[1;32m   1195\u001b[0m \u001b[38;5;28;01melse\u001b[39;00m:\n\u001b[0;32m-> 1196\u001b[0m     \u001b[38;5;28;01mreturn\u001b[39;00m \u001b[38;5;28;43mself\u001b[39;49m\u001b[38;5;241;43m.\u001b[39;49m\u001b[43mrun_single\u001b[49m\u001b[43m(\u001b[49m\u001b[43minputs\u001b[49m\u001b[43m,\u001b[49m\u001b[43m \u001b[49m\u001b[43mpreprocess_params\u001b[49m\u001b[43m,\u001b[49m\u001b[43m \u001b[49m\u001b[43mforward_params\u001b[49m\u001b[43m,\u001b[49m\u001b[43m \u001b[49m\u001b[43mpostprocess_params\u001b[49m\u001b[43m)\u001b[49m\n",
      "File \u001b[0;32m~/Library/Python/3.9/lib/python/site-packages/transformers/pipelines/base.py:1203\u001b[0m, in \u001b[0;36mPipeline.run_single\u001b[0;34m(self, inputs, preprocess_params, forward_params, postprocess_params)\u001b[0m\n\u001b[1;32m   1201\u001b[0m \u001b[38;5;28;01mdef\u001b[39;00m \u001b[38;5;21mrun_single\u001b[39m(\u001b[38;5;28mself\u001b[39m, inputs, preprocess_params, forward_params, postprocess_params):\n\u001b[1;32m   1202\u001b[0m     model_inputs \u001b[38;5;241m=\u001b[39m \u001b[38;5;28mself\u001b[39m\u001b[38;5;241m.\u001b[39mpreprocess(inputs, \u001b[38;5;241m*\u001b[39m\u001b[38;5;241m*\u001b[39mpreprocess_params)\n\u001b[0;32m-> 1203\u001b[0m     model_outputs \u001b[38;5;241m=\u001b[39m \u001b[38;5;28;43mself\u001b[39;49m\u001b[38;5;241;43m.\u001b[39;49m\u001b[43mforward\u001b[49m\u001b[43m(\u001b[49m\u001b[43mmodel_inputs\u001b[49m\u001b[43m,\u001b[49m\u001b[43m \u001b[49m\u001b[38;5;241;43m*\u001b[39;49m\u001b[38;5;241;43m*\u001b[39;49m\u001b[43mforward_params\u001b[49m\u001b[43m)\u001b[49m\n\u001b[1;32m   1204\u001b[0m     outputs \u001b[38;5;241m=\u001b[39m \u001b[38;5;28mself\u001b[39m\u001b[38;5;241m.\u001b[39mpostprocess(model_outputs, \u001b[38;5;241m*\u001b[39m\u001b[38;5;241m*\u001b[39mpostprocess_params)\n\u001b[1;32m   1205\u001b[0m     \u001b[38;5;28;01mreturn\u001b[39;00m outputs\n",
      "File \u001b[0;32m~/Library/Python/3.9/lib/python/site-packages/transformers/pipelines/base.py:1102\u001b[0m, in \u001b[0;36mPipeline.forward\u001b[0;34m(self, model_inputs, **forward_params)\u001b[0m\n\u001b[1;32m   1100\u001b[0m     \u001b[38;5;28;01mwith\u001b[39;00m inference_context():\n\u001b[1;32m   1101\u001b[0m         model_inputs \u001b[38;5;241m=\u001b[39m \u001b[38;5;28mself\u001b[39m\u001b[38;5;241m.\u001b[39m_ensure_tensor_on_device(model_inputs, device\u001b[38;5;241m=\u001b[39m\u001b[38;5;28mself\u001b[39m\u001b[38;5;241m.\u001b[39mdevice)\n\u001b[0;32m-> 1102\u001b[0m         model_outputs \u001b[38;5;241m=\u001b[39m \u001b[38;5;28;43mself\u001b[39;49m\u001b[38;5;241;43m.\u001b[39;49m\u001b[43m_forward\u001b[49m\u001b[43m(\u001b[49m\u001b[43mmodel_inputs\u001b[49m\u001b[43m,\u001b[49m\u001b[43m \u001b[49m\u001b[38;5;241;43m*\u001b[39;49m\u001b[38;5;241;43m*\u001b[39;49m\u001b[43mforward_params\u001b[49m\u001b[43m)\u001b[49m\n\u001b[1;32m   1103\u001b[0m         model_outputs \u001b[38;5;241m=\u001b[39m \u001b[38;5;28mself\u001b[39m\u001b[38;5;241m.\u001b[39m_ensure_tensor_on_device(model_outputs, device\u001b[38;5;241m=\u001b[39mtorch\u001b[38;5;241m.\u001b[39mdevice(\u001b[38;5;124m\"\u001b[39m\u001b[38;5;124mcpu\u001b[39m\u001b[38;5;124m\"\u001b[39m))\n\u001b[1;32m   1104\u001b[0m \u001b[38;5;28;01melse\u001b[39;00m:\n",
      "File \u001b[0;32m~/Library/Python/3.9/lib/python/site-packages/transformers/pipelines/text_generation.py:328\u001b[0m, in \u001b[0;36mTextGenerationPipeline._forward\u001b[0;34m(self, model_inputs, **generate_kwargs)\u001b[0m\n\u001b[1;32m    325\u001b[0m         generate_kwargs[\u001b[38;5;124m\"\u001b[39m\u001b[38;5;124mmin_length\u001b[39m\u001b[38;5;124m\"\u001b[39m] \u001b[38;5;241m+\u001b[39m\u001b[38;5;241m=\u001b[39m prefix_length\n\u001b[1;32m    327\u001b[0m \u001b[38;5;66;03m# BS x SL\u001b[39;00m\n\u001b[0;32m--> 328\u001b[0m generated_sequence \u001b[38;5;241m=\u001b[39m \u001b[38;5;28;43mself\u001b[39;49m\u001b[38;5;241;43m.\u001b[39;49m\u001b[43mmodel\u001b[49m\u001b[38;5;241;43m.\u001b[39;49m\u001b[43mgenerate\u001b[49m\u001b[43m(\u001b[49m\u001b[43minput_ids\u001b[49m\u001b[38;5;241;43m=\u001b[39;49m\u001b[43minput_ids\u001b[49m\u001b[43m,\u001b[49m\u001b[43m \u001b[49m\u001b[43mattention_mask\u001b[49m\u001b[38;5;241;43m=\u001b[39;49m\u001b[43mattention_mask\u001b[49m\u001b[43m,\u001b[49m\u001b[43m \u001b[49m\u001b[38;5;241;43m*\u001b[39;49m\u001b[38;5;241;43m*\u001b[39;49m\u001b[43mgenerate_kwargs\u001b[49m\u001b[43m)\u001b[49m\n\u001b[1;32m    329\u001b[0m out_b \u001b[38;5;241m=\u001b[39m generated_sequence\u001b[38;5;241m.\u001b[39mshape[\u001b[38;5;241m0\u001b[39m]\n\u001b[1;32m    330\u001b[0m \u001b[38;5;28;01mif\u001b[39;00m \u001b[38;5;28mself\u001b[39m\u001b[38;5;241m.\u001b[39mframework \u001b[38;5;241m==\u001b[39m \u001b[38;5;124m\"\u001b[39m\u001b[38;5;124mpt\u001b[39m\u001b[38;5;124m\"\u001b[39m:\n",
      "File \u001b[0;32m~/Library/Python/3.9/lib/python/site-packages/torch/utils/_contextlib.py:115\u001b[0m, in \u001b[0;36mcontext_decorator.<locals>.decorate_context\u001b[0;34m(*args, **kwargs)\u001b[0m\n\u001b[1;32m    112\u001b[0m \u001b[38;5;129m@functools\u001b[39m\u001b[38;5;241m.\u001b[39mwraps(func)\n\u001b[1;32m    113\u001b[0m \u001b[38;5;28;01mdef\u001b[39;00m \u001b[38;5;21mdecorate_context\u001b[39m(\u001b[38;5;241m*\u001b[39margs, \u001b[38;5;241m*\u001b[39m\u001b[38;5;241m*\u001b[39mkwargs):\n\u001b[1;32m    114\u001b[0m     \u001b[38;5;28;01mwith\u001b[39;00m ctx_factory():\n\u001b[0;32m--> 115\u001b[0m         \u001b[38;5;28;01mreturn\u001b[39;00m \u001b[43mfunc\u001b[49m\u001b[43m(\u001b[49m\u001b[38;5;241;43m*\u001b[39;49m\u001b[43margs\u001b[49m\u001b[43m,\u001b[49m\u001b[43m \u001b[49m\u001b[38;5;241;43m*\u001b[39;49m\u001b[38;5;241;43m*\u001b[39;49m\u001b[43mkwargs\u001b[49m\u001b[43m)\u001b[49m\n",
      "File \u001b[0;32m~/Library/Python/3.9/lib/python/site-packages/transformers/generation/utils.py:1592\u001b[0m, in \u001b[0;36mGenerationMixin.generate\u001b[0;34m(self, inputs, generation_config, logits_processor, stopping_criteria, prefix_allowed_tokens_fn, synced_gpus, assistant_model, streamer, negative_prompt_ids, negative_prompt_attention_mask, **kwargs)\u001b[0m\n\u001b[1;32m   1584\u001b[0m     input_ids, model_kwargs \u001b[38;5;241m=\u001b[39m \u001b[38;5;28mself\u001b[39m\u001b[38;5;241m.\u001b[39m_expand_inputs_for_generation(\n\u001b[1;32m   1585\u001b[0m         input_ids\u001b[38;5;241m=\u001b[39minput_ids,\n\u001b[1;32m   1586\u001b[0m         expand_size\u001b[38;5;241m=\u001b[39mgeneration_config\u001b[38;5;241m.\u001b[39mnum_return_sequences,\n\u001b[1;32m   1587\u001b[0m         is_encoder_decoder\u001b[38;5;241m=\u001b[39m\u001b[38;5;28mself\u001b[39m\u001b[38;5;241m.\u001b[39mconfig\u001b[38;5;241m.\u001b[39mis_encoder_decoder,\n\u001b[1;32m   1588\u001b[0m         \u001b[38;5;241m*\u001b[39m\u001b[38;5;241m*\u001b[39mmodel_kwargs,\n\u001b[1;32m   1589\u001b[0m     )\n\u001b[1;32m   1591\u001b[0m     \u001b[38;5;66;03m# 13. run sample\u001b[39;00m\n\u001b[0;32m-> 1592\u001b[0m     \u001b[38;5;28;01mreturn\u001b[39;00m \u001b[38;5;28;43mself\u001b[39;49m\u001b[38;5;241;43m.\u001b[39;49m\u001b[43msample\u001b[49m\u001b[43m(\u001b[49m\n\u001b[1;32m   1593\u001b[0m \u001b[43m        \u001b[49m\u001b[43minput_ids\u001b[49m\u001b[43m,\u001b[49m\n\u001b[1;32m   1594\u001b[0m \u001b[43m        \u001b[49m\u001b[43mlogits_processor\u001b[49m\u001b[38;5;241;43m=\u001b[39;49m\u001b[43mprepared_logits_processor\u001b[49m\u001b[43m,\u001b[49m\n\u001b[1;32m   1595\u001b[0m \u001b[43m        \u001b[49m\u001b[43mlogits_warper\u001b[49m\u001b[38;5;241;43m=\u001b[39;49m\u001b[43mlogits_warper\u001b[49m\u001b[43m,\u001b[49m\n\u001b[1;32m   1596\u001b[0m \u001b[43m        \u001b[49m\u001b[43mstopping_criteria\u001b[49m\u001b[38;5;241;43m=\u001b[39;49m\u001b[43mprepared_stopping_criteria\u001b[49m\u001b[43m,\u001b[49m\n\u001b[1;32m   1597\u001b[0m \u001b[43m        \u001b[49m\u001b[43mpad_token_id\u001b[49m\u001b[38;5;241;43m=\u001b[39;49m\u001b[43mgeneration_config\u001b[49m\u001b[38;5;241;43m.\u001b[39;49m\u001b[43mpad_token_id\u001b[49m\u001b[43m,\u001b[49m\n\u001b[1;32m   1598\u001b[0m \u001b[43m        \u001b[49m\u001b[43meos_token_id\u001b[49m\u001b[38;5;241;43m=\u001b[39;49m\u001b[43mgeneration_config\u001b[49m\u001b[38;5;241;43m.\u001b[39;49m\u001b[43meos_token_id\u001b[49m\u001b[43m,\u001b[49m\n\u001b[1;32m   1599\u001b[0m \u001b[43m        \u001b[49m\u001b[43moutput_scores\u001b[49m\u001b[38;5;241;43m=\u001b[39;49m\u001b[43mgeneration_config\u001b[49m\u001b[38;5;241;43m.\u001b[39;49m\u001b[43moutput_scores\u001b[49m\u001b[43m,\u001b[49m\n\u001b[1;32m   1600\u001b[0m \u001b[43m        \u001b[49m\u001b[43moutput_logits\u001b[49m\u001b[38;5;241;43m=\u001b[39;49m\u001b[43mgeneration_config\u001b[49m\u001b[38;5;241;43m.\u001b[39;49m\u001b[43moutput_logits\u001b[49m\u001b[43m,\u001b[49m\n\u001b[1;32m   1601\u001b[0m \u001b[43m        \u001b[49m\u001b[43mreturn_dict_in_generate\u001b[49m\u001b[38;5;241;43m=\u001b[39;49m\u001b[43mgeneration_config\u001b[49m\u001b[38;5;241;43m.\u001b[39;49m\u001b[43mreturn_dict_in_generate\u001b[49m\u001b[43m,\u001b[49m\n\u001b[1;32m   1602\u001b[0m \u001b[43m        \u001b[49m\u001b[43msynced_gpus\u001b[49m\u001b[38;5;241;43m=\u001b[39;49m\u001b[43msynced_gpus\u001b[49m\u001b[43m,\u001b[49m\n\u001b[1;32m   1603\u001b[0m \u001b[43m        \u001b[49m\u001b[43mstreamer\u001b[49m\u001b[38;5;241;43m=\u001b[39;49m\u001b[43mstreamer\u001b[49m\u001b[43m,\u001b[49m\n\u001b[1;32m   1604\u001b[0m \u001b[43m        \u001b[49m\u001b[38;5;241;43m*\u001b[39;49m\u001b[38;5;241;43m*\u001b[39;49m\u001b[43mmodel_kwargs\u001b[49m\u001b[43m,\u001b[49m\n\u001b[1;32m   1605\u001b[0m \u001b[43m    \u001b[49m\u001b[43m)\u001b[49m\n\u001b[1;32m   1607\u001b[0m \u001b[38;5;28;01melif\u001b[39;00m generation_mode \u001b[38;5;241m==\u001b[39m GenerationMode\u001b[38;5;241m.\u001b[39mBEAM_SEARCH:\n\u001b[1;32m   1608\u001b[0m     \u001b[38;5;66;03m# 11. prepare beam search scorer\u001b[39;00m\n\u001b[1;32m   1609\u001b[0m     beam_scorer \u001b[38;5;241m=\u001b[39m BeamSearchScorer(\n\u001b[1;32m   1610\u001b[0m         batch_size\u001b[38;5;241m=\u001b[39mbatch_size,\n\u001b[1;32m   1611\u001b[0m         num_beams\u001b[38;5;241m=\u001b[39mgeneration_config\u001b[38;5;241m.\u001b[39mnum_beams,\n\u001b[0;32m   (...)\u001b[0m\n\u001b[1;32m   1616\u001b[0m         max_length\u001b[38;5;241m=\u001b[39mgeneration_config\u001b[38;5;241m.\u001b[39mmax_length,\n\u001b[1;32m   1617\u001b[0m     )\n",
      "File \u001b[0;32m~/Library/Python/3.9/lib/python/site-packages/transformers/generation/utils.py:2696\u001b[0m, in \u001b[0;36mGenerationMixin.sample\u001b[0;34m(self, input_ids, logits_processor, stopping_criteria, logits_warper, max_length, pad_token_id, eos_token_id, output_attentions, output_hidden_states, output_scores, output_logits, return_dict_in_generate, synced_gpus, streamer, **model_kwargs)\u001b[0m\n\u001b[1;32m   2693\u001b[0m model_inputs \u001b[38;5;241m=\u001b[39m \u001b[38;5;28mself\u001b[39m\u001b[38;5;241m.\u001b[39mprepare_inputs_for_generation(input_ids, \u001b[38;5;241m*\u001b[39m\u001b[38;5;241m*\u001b[39mmodel_kwargs)\n\u001b[1;32m   2695\u001b[0m \u001b[38;5;66;03m# forward pass to get next token\u001b[39;00m\n\u001b[0;32m-> 2696\u001b[0m outputs \u001b[38;5;241m=\u001b[39m \u001b[38;5;28;43mself\u001b[39;49m\u001b[43m(\u001b[49m\n\u001b[1;32m   2697\u001b[0m \u001b[43m    \u001b[49m\u001b[38;5;241;43m*\u001b[39;49m\u001b[38;5;241;43m*\u001b[39;49m\u001b[43mmodel_inputs\u001b[49m\u001b[43m,\u001b[49m\n\u001b[1;32m   2698\u001b[0m \u001b[43m    \u001b[49m\u001b[43mreturn_dict\u001b[49m\u001b[38;5;241;43m=\u001b[39;49m\u001b[38;5;28;43;01mTrue\u001b[39;49;00m\u001b[43m,\u001b[49m\n\u001b[1;32m   2699\u001b[0m \u001b[43m    \u001b[49m\u001b[43moutput_attentions\u001b[49m\u001b[38;5;241;43m=\u001b[39;49m\u001b[43moutput_attentions\u001b[49m\u001b[43m,\u001b[49m\n\u001b[1;32m   2700\u001b[0m \u001b[43m    \u001b[49m\u001b[43moutput_hidden_states\u001b[49m\u001b[38;5;241;43m=\u001b[39;49m\u001b[43moutput_hidden_states\u001b[49m\u001b[43m,\u001b[49m\n\u001b[1;32m   2701\u001b[0m \u001b[43m\u001b[49m\u001b[43m)\u001b[49m\n\u001b[1;32m   2703\u001b[0m \u001b[38;5;28;01mif\u001b[39;00m synced_gpus \u001b[38;5;129;01mand\u001b[39;00m this_peer_finished:\n\u001b[1;32m   2704\u001b[0m     \u001b[38;5;28;01mcontinue\u001b[39;00m  \u001b[38;5;66;03m# don't waste resources running the code we don't need\u001b[39;00m\n",
      "File \u001b[0;32m~/Library/Python/3.9/lib/python/site-packages/torch/nn/modules/module.py:1511\u001b[0m, in \u001b[0;36mModule._wrapped_call_impl\u001b[0;34m(self, *args, **kwargs)\u001b[0m\n\u001b[1;32m   1509\u001b[0m     \u001b[38;5;28;01mreturn\u001b[39;00m \u001b[38;5;28mself\u001b[39m\u001b[38;5;241m.\u001b[39m_compiled_call_impl(\u001b[38;5;241m*\u001b[39margs, \u001b[38;5;241m*\u001b[39m\u001b[38;5;241m*\u001b[39mkwargs)  \u001b[38;5;66;03m# type: ignore[misc]\u001b[39;00m\n\u001b[1;32m   1510\u001b[0m \u001b[38;5;28;01melse\u001b[39;00m:\n\u001b[0;32m-> 1511\u001b[0m     \u001b[38;5;28;01mreturn\u001b[39;00m \u001b[38;5;28;43mself\u001b[39;49m\u001b[38;5;241;43m.\u001b[39;49m\u001b[43m_call_impl\u001b[49m\u001b[43m(\u001b[49m\u001b[38;5;241;43m*\u001b[39;49m\u001b[43margs\u001b[49m\u001b[43m,\u001b[49m\u001b[43m \u001b[49m\u001b[38;5;241;43m*\u001b[39;49m\u001b[38;5;241;43m*\u001b[39;49m\u001b[43mkwargs\u001b[49m\u001b[43m)\u001b[49m\n",
      "File \u001b[0;32m~/Library/Python/3.9/lib/python/site-packages/torch/nn/modules/module.py:1520\u001b[0m, in \u001b[0;36mModule._call_impl\u001b[0;34m(self, *args, **kwargs)\u001b[0m\n\u001b[1;32m   1515\u001b[0m \u001b[38;5;66;03m# If we don't have any hooks, we want to skip the rest of the logic in\u001b[39;00m\n\u001b[1;32m   1516\u001b[0m \u001b[38;5;66;03m# this function, and just call forward.\u001b[39;00m\n\u001b[1;32m   1517\u001b[0m \u001b[38;5;28;01mif\u001b[39;00m \u001b[38;5;129;01mnot\u001b[39;00m (\u001b[38;5;28mself\u001b[39m\u001b[38;5;241m.\u001b[39m_backward_hooks \u001b[38;5;129;01mor\u001b[39;00m \u001b[38;5;28mself\u001b[39m\u001b[38;5;241m.\u001b[39m_backward_pre_hooks \u001b[38;5;129;01mor\u001b[39;00m \u001b[38;5;28mself\u001b[39m\u001b[38;5;241m.\u001b[39m_forward_hooks \u001b[38;5;129;01mor\u001b[39;00m \u001b[38;5;28mself\u001b[39m\u001b[38;5;241m.\u001b[39m_forward_pre_hooks\n\u001b[1;32m   1518\u001b[0m         \u001b[38;5;129;01mor\u001b[39;00m _global_backward_pre_hooks \u001b[38;5;129;01mor\u001b[39;00m _global_backward_hooks\n\u001b[1;32m   1519\u001b[0m         \u001b[38;5;129;01mor\u001b[39;00m _global_forward_hooks \u001b[38;5;129;01mor\u001b[39;00m _global_forward_pre_hooks):\n\u001b[0;32m-> 1520\u001b[0m     \u001b[38;5;28;01mreturn\u001b[39;00m \u001b[43mforward_call\u001b[49m\u001b[43m(\u001b[49m\u001b[38;5;241;43m*\u001b[39;49m\u001b[43margs\u001b[49m\u001b[43m,\u001b[49m\u001b[43m \u001b[49m\u001b[38;5;241;43m*\u001b[39;49m\u001b[38;5;241;43m*\u001b[39;49m\u001b[43mkwargs\u001b[49m\u001b[43m)\u001b[49m\n\u001b[1;32m   1522\u001b[0m \u001b[38;5;28;01mtry\u001b[39;00m:\n\u001b[1;32m   1523\u001b[0m     result \u001b[38;5;241m=\u001b[39m \u001b[38;5;28;01mNone\u001b[39;00m\n",
      "File \u001b[0;32m~/Library/Python/3.9/lib/python/site-packages/transformers/models/llama/modeling_llama.py:1176\u001b[0m, in \u001b[0;36mLlamaForCausalLM.forward\u001b[0;34m(self, input_ids, attention_mask, position_ids, past_key_values, inputs_embeds, labels, use_cache, output_attentions, output_hidden_states, return_dict, cache_position)\u001b[0m\n\u001b[1;32m   1173\u001b[0m return_dict \u001b[38;5;241m=\u001b[39m return_dict \u001b[38;5;28;01mif\u001b[39;00m return_dict \u001b[38;5;129;01mis\u001b[39;00m \u001b[38;5;129;01mnot\u001b[39;00m \u001b[38;5;28;01mNone\u001b[39;00m \u001b[38;5;28;01melse\u001b[39;00m \u001b[38;5;28mself\u001b[39m\u001b[38;5;241m.\u001b[39mconfig\u001b[38;5;241m.\u001b[39muse_return_dict\n\u001b[1;32m   1175\u001b[0m \u001b[38;5;66;03m# decoder outputs consists of (dec_features, layer_state, dec_hidden, dec_attn)\u001b[39;00m\n\u001b[0;32m-> 1176\u001b[0m outputs \u001b[38;5;241m=\u001b[39m \u001b[38;5;28;43mself\u001b[39;49m\u001b[38;5;241;43m.\u001b[39;49m\u001b[43mmodel\u001b[49m\u001b[43m(\u001b[49m\n\u001b[1;32m   1177\u001b[0m \u001b[43m    \u001b[49m\u001b[43minput_ids\u001b[49m\u001b[38;5;241;43m=\u001b[39;49m\u001b[43minput_ids\u001b[49m\u001b[43m,\u001b[49m\n\u001b[1;32m   1178\u001b[0m \u001b[43m    \u001b[49m\u001b[43mattention_mask\u001b[49m\u001b[38;5;241;43m=\u001b[39;49m\u001b[43mattention_mask\u001b[49m\u001b[43m,\u001b[49m\n\u001b[1;32m   1179\u001b[0m \u001b[43m    \u001b[49m\u001b[43mposition_ids\u001b[49m\u001b[38;5;241;43m=\u001b[39;49m\u001b[43mposition_ids\u001b[49m\u001b[43m,\u001b[49m\n\u001b[1;32m   1180\u001b[0m \u001b[43m    \u001b[49m\u001b[43mpast_key_values\u001b[49m\u001b[38;5;241;43m=\u001b[39;49m\u001b[43mpast_key_values\u001b[49m\u001b[43m,\u001b[49m\n\u001b[1;32m   1181\u001b[0m \u001b[43m    \u001b[49m\u001b[43minputs_embeds\u001b[49m\u001b[38;5;241;43m=\u001b[39;49m\u001b[43minputs_embeds\u001b[49m\u001b[43m,\u001b[49m\n\u001b[1;32m   1182\u001b[0m \u001b[43m    \u001b[49m\u001b[43muse_cache\u001b[49m\u001b[38;5;241;43m=\u001b[39;49m\u001b[43muse_cache\u001b[49m\u001b[43m,\u001b[49m\n\u001b[1;32m   1183\u001b[0m \u001b[43m    \u001b[49m\u001b[43moutput_attentions\u001b[49m\u001b[38;5;241;43m=\u001b[39;49m\u001b[43moutput_attentions\u001b[49m\u001b[43m,\u001b[49m\n\u001b[1;32m   1184\u001b[0m \u001b[43m    \u001b[49m\u001b[43moutput_hidden_states\u001b[49m\u001b[38;5;241;43m=\u001b[39;49m\u001b[43moutput_hidden_states\u001b[49m\u001b[43m,\u001b[49m\n\u001b[1;32m   1185\u001b[0m \u001b[43m    \u001b[49m\u001b[43mreturn_dict\u001b[49m\u001b[38;5;241;43m=\u001b[39;49m\u001b[43mreturn_dict\u001b[49m\u001b[43m,\u001b[49m\n\u001b[1;32m   1186\u001b[0m \u001b[43m    \u001b[49m\u001b[43mcache_position\u001b[49m\u001b[38;5;241;43m=\u001b[39;49m\u001b[43mcache_position\u001b[49m\u001b[43m,\u001b[49m\n\u001b[1;32m   1187\u001b[0m \u001b[43m\u001b[49m\u001b[43m)\u001b[49m\n\u001b[1;32m   1189\u001b[0m hidden_states \u001b[38;5;241m=\u001b[39m outputs[\u001b[38;5;241m0\u001b[39m]\n\u001b[1;32m   1190\u001b[0m \u001b[38;5;28;01mif\u001b[39;00m \u001b[38;5;28mself\u001b[39m\u001b[38;5;241m.\u001b[39mconfig\u001b[38;5;241m.\u001b[39mpretraining_tp \u001b[38;5;241m>\u001b[39m \u001b[38;5;241m1\u001b[39m:\n",
      "File \u001b[0;32m~/Library/Python/3.9/lib/python/site-packages/torch/nn/modules/module.py:1511\u001b[0m, in \u001b[0;36mModule._wrapped_call_impl\u001b[0;34m(self, *args, **kwargs)\u001b[0m\n\u001b[1;32m   1509\u001b[0m     \u001b[38;5;28;01mreturn\u001b[39;00m \u001b[38;5;28mself\u001b[39m\u001b[38;5;241m.\u001b[39m_compiled_call_impl(\u001b[38;5;241m*\u001b[39margs, \u001b[38;5;241m*\u001b[39m\u001b[38;5;241m*\u001b[39mkwargs)  \u001b[38;5;66;03m# type: ignore[misc]\u001b[39;00m\n\u001b[1;32m   1510\u001b[0m \u001b[38;5;28;01melse\u001b[39;00m:\n\u001b[0;32m-> 1511\u001b[0m     \u001b[38;5;28;01mreturn\u001b[39;00m \u001b[38;5;28;43mself\u001b[39;49m\u001b[38;5;241;43m.\u001b[39;49m\u001b[43m_call_impl\u001b[49m\u001b[43m(\u001b[49m\u001b[38;5;241;43m*\u001b[39;49m\u001b[43margs\u001b[49m\u001b[43m,\u001b[49m\u001b[43m \u001b[49m\u001b[38;5;241;43m*\u001b[39;49m\u001b[38;5;241;43m*\u001b[39;49m\u001b[43mkwargs\u001b[49m\u001b[43m)\u001b[49m\n",
      "File \u001b[0;32m~/Library/Python/3.9/lib/python/site-packages/torch/nn/modules/module.py:1520\u001b[0m, in \u001b[0;36mModule._call_impl\u001b[0;34m(self, *args, **kwargs)\u001b[0m\n\u001b[1;32m   1515\u001b[0m \u001b[38;5;66;03m# If we don't have any hooks, we want to skip the rest of the logic in\u001b[39;00m\n\u001b[1;32m   1516\u001b[0m \u001b[38;5;66;03m# this function, and just call forward.\u001b[39;00m\n\u001b[1;32m   1517\u001b[0m \u001b[38;5;28;01mif\u001b[39;00m \u001b[38;5;129;01mnot\u001b[39;00m (\u001b[38;5;28mself\u001b[39m\u001b[38;5;241m.\u001b[39m_backward_hooks \u001b[38;5;129;01mor\u001b[39;00m \u001b[38;5;28mself\u001b[39m\u001b[38;5;241m.\u001b[39m_backward_pre_hooks \u001b[38;5;129;01mor\u001b[39;00m \u001b[38;5;28mself\u001b[39m\u001b[38;5;241m.\u001b[39m_forward_hooks \u001b[38;5;129;01mor\u001b[39;00m \u001b[38;5;28mself\u001b[39m\u001b[38;5;241m.\u001b[39m_forward_pre_hooks\n\u001b[1;32m   1518\u001b[0m         \u001b[38;5;129;01mor\u001b[39;00m _global_backward_pre_hooks \u001b[38;5;129;01mor\u001b[39;00m _global_backward_hooks\n\u001b[1;32m   1519\u001b[0m         \u001b[38;5;129;01mor\u001b[39;00m _global_forward_hooks \u001b[38;5;129;01mor\u001b[39;00m _global_forward_pre_hooks):\n\u001b[0;32m-> 1520\u001b[0m     \u001b[38;5;28;01mreturn\u001b[39;00m \u001b[43mforward_call\u001b[49m\u001b[43m(\u001b[49m\u001b[38;5;241;43m*\u001b[39;49m\u001b[43margs\u001b[49m\u001b[43m,\u001b[49m\u001b[43m \u001b[49m\u001b[38;5;241;43m*\u001b[39;49m\u001b[38;5;241;43m*\u001b[39;49m\u001b[43mkwargs\u001b[49m\u001b[43m)\u001b[49m\n\u001b[1;32m   1522\u001b[0m \u001b[38;5;28;01mtry\u001b[39;00m:\n\u001b[1;32m   1523\u001b[0m     result \u001b[38;5;241m=\u001b[39m \u001b[38;5;28;01mNone\u001b[39;00m\n",
      "File \u001b[0;32m~/Library/Python/3.9/lib/python/site-packages/transformers/models/llama/modeling_llama.py:1019\u001b[0m, in \u001b[0;36mLlamaModel.forward\u001b[0;34m(self, input_ids, attention_mask, position_ids, past_key_values, inputs_embeds, use_cache, output_attentions, output_hidden_states, return_dict, cache_position)\u001b[0m\n\u001b[1;32m   1008\u001b[0m     layer_outputs \u001b[38;5;241m=\u001b[39m \u001b[38;5;28mself\u001b[39m\u001b[38;5;241m.\u001b[39m_gradient_checkpointing_func(\n\u001b[1;32m   1009\u001b[0m         decoder_layer\u001b[38;5;241m.\u001b[39m\u001b[38;5;21m__call__\u001b[39m,\n\u001b[1;32m   1010\u001b[0m         hidden_states,\n\u001b[0;32m   (...)\u001b[0m\n\u001b[1;32m   1016\u001b[0m         cache_position,\n\u001b[1;32m   1017\u001b[0m     )\n\u001b[1;32m   1018\u001b[0m \u001b[38;5;28;01melse\u001b[39;00m:\n\u001b[0;32m-> 1019\u001b[0m     layer_outputs \u001b[38;5;241m=\u001b[39m \u001b[43mdecoder_layer\u001b[49m\u001b[43m(\u001b[49m\n\u001b[1;32m   1020\u001b[0m \u001b[43m        \u001b[49m\u001b[43mhidden_states\u001b[49m\u001b[43m,\u001b[49m\n\u001b[1;32m   1021\u001b[0m \u001b[43m        \u001b[49m\u001b[43mattention_mask\u001b[49m\u001b[38;5;241;43m=\u001b[39;49m\u001b[43mcausal_mask\u001b[49m\u001b[43m,\u001b[49m\n\u001b[1;32m   1022\u001b[0m \u001b[43m        \u001b[49m\u001b[43mposition_ids\u001b[49m\u001b[38;5;241;43m=\u001b[39;49m\u001b[43mposition_ids\u001b[49m\u001b[43m,\u001b[49m\n\u001b[1;32m   1023\u001b[0m \u001b[43m        \u001b[49m\u001b[43mpast_key_value\u001b[49m\u001b[38;5;241;43m=\u001b[39;49m\u001b[43mpast_key_values\u001b[49m\u001b[43m,\u001b[49m\n\u001b[1;32m   1024\u001b[0m \u001b[43m        \u001b[49m\u001b[43moutput_attentions\u001b[49m\u001b[38;5;241;43m=\u001b[39;49m\u001b[43moutput_attentions\u001b[49m\u001b[43m,\u001b[49m\n\u001b[1;32m   1025\u001b[0m \u001b[43m        \u001b[49m\u001b[43muse_cache\u001b[49m\u001b[38;5;241;43m=\u001b[39;49m\u001b[43muse_cache\u001b[49m\u001b[43m,\u001b[49m\n\u001b[1;32m   1026\u001b[0m \u001b[43m        \u001b[49m\u001b[43mcache_position\u001b[49m\u001b[38;5;241;43m=\u001b[39;49m\u001b[43mcache_position\u001b[49m\u001b[43m,\u001b[49m\n\u001b[1;32m   1027\u001b[0m \u001b[43m    \u001b[49m\u001b[43m)\u001b[49m\n\u001b[1;32m   1029\u001b[0m hidden_states \u001b[38;5;241m=\u001b[39m layer_outputs[\u001b[38;5;241m0\u001b[39m]\n\u001b[1;32m   1031\u001b[0m \u001b[38;5;28;01mif\u001b[39;00m use_cache:\n",
      "File \u001b[0;32m~/Library/Python/3.9/lib/python/site-packages/torch/nn/modules/module.py:1511\u001b[0m, in \u001b[0;36mModule._wrapped_call_impl\u001b[0;34m(self, *args, **kwargs)\u001b[0m\n\u001b[1;32m   1509\u001b[0m     \u001b[38;5;28;01mreturn\u001b[39;00m \u001b[38;5;28mself\u001b[39m\u001b[38;5;241m.\u001b[39m_compiled_call_impl(\u001b[38;5;241m*\u001b[39margs, \u001b[38;5;241m*\u001b[39m\u001b[38;5;241m*\u001b[39mkwargs)  \u001b[38;5;66;03m# type: ignore[misc]\u001b[39;00m\n\u001b[1;32m   1510\u001b[0m \u001b[38;5;28;01melse\u001b[39;00m:\n\u001b[0;32m-> 1511\u001b[0m     \u001b[38;5;28;01mreturn\u001b[39;00m \u001b[38;5;28;43mself\u001b[39;49m\u001b[38;5;241;43m.\u001b[39;49m\u001b[43m_call_impl\u001b[49m\u001b[43m(\u001b[49m\u001b[38;5;241;43m*\u001b[39;49m\u001b[43margs\u001b[49m\u001b[43m,\u001b[49m\u001b[43m \u001b[49m\u001b[38;5;241;43m*\u001b[39;49m\u001b[38;5;241;43m*\u001b[39;49m\u001b[43mkwargs\u001b[49m\u001b[43m)\u001b[49m\n",
      "File \u001b[0;32m~/Library/Python/3.9/lib/python/site-packages/torch/nn/modules/module.py:1520\u001b[0m, in \u001b[0;36mModule._call_impl\u001b[0;34m(self, *args, **kwargs)\u001b[0m\n\u001b[1;32m   1515\u001b[0m \u001b[38;5;66;03m# If we don't have any hooks, we want to skip the rest of the logic in\u001b[39;00m\n\u001b[1;32m   1516\u001b[0m \u001b[38;5;66;03m# this function, and just call forward.\u001b[39;00m\n\u001b[1;32m   1517\u001b[0m \u001b[38;5;28;01mif\u001b[39;00m \u001b[38;5;129;01mnot\u001b[39;00m (\u001b[38;5;28mself\u001b[39m\u001b[38;5;241m.\u001b[39m_backward_hooks \u001b[38;5;129;01mor\u001b[39;00m \u001b[38;5;28mself\u001b[39m\u001b[38;5;241m.\u001b[39m_backward_pre_hooks \u001b[38;5;129;01mor\u001b[39;00m \u001b[38;5;28mself\u001b[39m\u001b[38;5;241m.\u001b[39m_forward_hooks \u001b[38;5;129;01mor\u001b[39;00m \u001b[38;5;28mself\u001b[39m\u001b[38;5;241m.\u001b[39m_forward_pre_hooks\n\u001b[1;32m   1518\u001b[0m         \u001b[38;5;129;01mor\u001b[39;00m _global_backward_pre_hooks \u001b[38;5;129;01mor\u001b[39;00m _global_backward_hooks\n\u001b[1;32m   1519\u001b[0m         \u001b[38;5;129;01mor\u001b[39;00m _global_forward_hooks \u001b[38;5;129;01mor\u001b[39;00m _global_forward_pre_hooks):\n\u001b[0;32m-> 1520\u001b[0m     \u001b[38;5;28;01mreturn\u001b[39;00m \u001b[43mforward_call\u001b[49m\u001b[43m(\u001b[49m\u001b[38;5;241;43m*\u001b[39;49m\u001b[43margs\u001b[49m\u001b[43m,\u001b[49m\u001b[43m \u001b[49m\u001b[38;5;241;43m*\u001b[39;49m\u001b[38;5;241;43m*\u001b[39;49m\u001b[43mkwargs\u001b[49m\u001b[43m)\u001b[49m\n\u001b[1;32m   1522\u001b[0m \u001b[38;5;28;01mtry\u001b[39;00m:\n\u001b[1;32m   1523\u001b[0m     result \u001b[38;5;241m=\u001b[39m \u001b[38;5;28;01mNone\u001b[39;00m\n",
      "File \u001b[0;32m~/Library/Python/3.9/lib/python/site-packages/transformers/models/llama/modeling_llama.py:755\u001b[0m, in \u001b[0;36mLlamaDecoderLayer.forward\u001b[0;34m(self, hidden_states, attention_mask, position_ids, past_key_value, output_attentions, use_cache, cache_position, **kwargs)\u001b[0m\n\u001b[1;32m    753\u001b[0m residual \u001b[38;5;241m=\u001b[39m hidden_states\n\u001b[1;32m    754\u001b[0m hidden_states \u001b[38;5;241m=\u001b[39m \u001b[38;5;28mself\u001b[39m\u001b[38;5;241m.\u001b[39mpost_attention_layernorm(hidden_states)\n\u001b[0;32m--> 755\u001b[0m hidden_states \u001b[38;5;241m=\u001b[39m \u001b[38;5;28;43mself\u001b[39;49m\u001b[38;5;241;43m.\u001b[39;49m\u001b[43mmlp\u001b[49m\u001b[43m(\u001b[49m\u001b[43mhidden_states\u001b[49m\u001b[43m)\u001b[49m\n\u001b[1;32m    756\u001b[0m hidden_states \u001b[38;5;241m=\u001b[39m residual \u001b[38;5;241m+\u001b[39m hidden_states\n\u001b[1;32m    758\u001b[0m outputs \u001b[38;5;241m=\u001b[39m (hidden_states,)\n",
      "File \u001b[0;32m~/Library/Python/3.9/lib/python/site-packages/torch/nn/modules/module.py:1511\u001b[0m, in \u001b[0;36mModule._wrapped_call_impl\u001b[0;34m(self, *args, **kwargs)\u001b[0m\n\u001b[1;32m   1509\u001b[0m     \u001b[38;5;28;01mreturn\u001b[39;00m \u001b[38;5;28mself\u001b[39m\u001b[38;5;241m.\u001b[39m_compiled_call_impl(\u001b[38;5;241m*\u001b[39margs, \u001b[38;5;241m*\u001b[39m\u001b[38;5;241m*\u001b[39mkwargs)  \u001b[38;5;66;03m# type: ignore[misc]\u001b[39;00m\n\u001b[1;32m   1510\u001b[0m \u001b[38;5;28;01melse\u001b[39;00m:\n\u001b[0;32m-> 1511\u001b[0m     \u001b[38;5;28;01mreturn\u001b[39;00m \u001b[38;5;28;43mself\u001b[39;49m\u001b[38;5;241;43m.\u001b[39;49m\u001b[43m_call_impl\u001b[49m\u001b[43m(\u001b[49m\u001b[38;5;241;43m*\u001b[39;49m\u001b[43margs\u001b[49m\u001b[43m,\u001b[49m\u001b[43m \u001b[49m\u001b[38;5;241;43m*\u001b[39;49m\u001b[38;5;241;43m*\u001b[39;49m\u001b[43mkwargs\u001b[49m\u001b[43m)\u001b[49m\n",
      "File \u001b[0;32m~/Library/Python/3.9/lib/python/site-packages/torch/nn/modules/module.py:1520\u001b[0m, in \u001b[0;36mModule._call_impl\u001b[0;34m(self, *args, **kwargs)\u001b[0m\n\u001b[1;32m   1515\u001b[0m \u001b[38;5;66;03m# If we don't have any hooks, we want to skip the rest of the logic in\u001b[39;00m\n\u001b[1;32m   1516\u001b[0m \u001b[38;5;66;03m# this function, and just call forward.\u001b[39;00m\n\u001b[1;32m   1517\u001b[0m \u001b[38;5;28;01mif\u001b[39;00m \u001b[38;5;129;01mnot\u001b[39;00m (\u001b[38;5;28mself\u001b[39m\u001b[38;5;241m.\u001b[39m_backward_hooks \u001b[38;5;129;01mor\u001b[39;00m \u001b[38;5;28mself\u001b[39m\u001b[38;5;241m.\u001b[39m_backward_pre_hooks \u001b[38;5;129;01mor\u001b[39;00m \u001b[38;5;28mself\u001b[39m\u001b[38;5;241m.\u001b[39m_forward_hooks \u001b[38;5;129;01mor\u001b[39;00m \u001b[38;5;28mself\u001b[39m\u001b[38;5;241m.\u001b[39m_forward_pre_hooks\n\u001b[1;32m   1518\u001b[0m         \u001b[38;5;129;01mor\u001b[39;00m _global_backward_pre_hooks \u001b[38;5;129;01mor\u001b[39;00m _global_backward_hooks\n\u001b[1;32m   1519\u001b[0m         \u001b[38;5;129;01mor\u001b[39;00m _global_forward_hooks \u001b[38;5;129;01mor\u001b[39;00m _global_forward_pre_hooks):\n\u001b[0;32m-> 1520\u001b[0m     \u001b[38;5;28;01mreturn\u001b[39;00m \u001b[43mforward_call\u001b[49m\u001b[43m(\u001b[49m\u001b[38;5;241;43m*\u001b[39;49m\u001b[43margs\u001b[49m\u001b[43m,\u001b[49m\u001b[43m \u001b[49m\u001b[38;5;241;43m*\u001b[39;49m\u001b[38;5;241;43m*\u001b[39;49m\u001b[43mkwargs\u001b[49m\u001b[43m)\u001b[49m\n\u001b[1;32m   1522\u001b[0m \u001b[38;5;28;01mtry\u001b[39;00m:\n\u001b[1;32m   1523\u001b[0m     result \u001b[38;5;241m=\u001b[39m \u001b[38;5;28;01mNone\u001b[39;00m\n",
      "File \u001b[0;32m~/Library/Python/3.9/lib/python/site-packages/transformers/models/llama/modeling_llama.py:241\u001b[0m, in \u001b[0;36mLlamaMLP.forward\u001b[0;34m(self, x)\u001b[0m\n\u001b[1;32m    239\u001b[0m     down_proj \u001b[38;5;241m=\u001b[39m \u001b[38;5;28msum\u001b[39m(down_proj)\n\u001b[1;32m    240\u001b[0m \u001b[38;5;28;01melse\u001b[39;00m:\n\u001b[0;32m--> 241\u001b[0m     down_proj \u001b[38;5;241m=\u001b[39m \u001b[38;5;28mself\u001b[39m\u001b[38;5;241m.\u001b[39mdown_proj(\u001b[38;5;28mself\u001b[39m\u001b[38;5;241m.\u001b[39mact_fn(\u001b[38;5;28;43mself\u001b[39;49m\u001b[38;5;241;43m.\u001b[39;49m\u001b[43mgate_proj\u001b[49m\u001b[43m(\u001b[49m\u001b[43mx\u001b[49m\u001b[43m)\u001b[49m) \u001b[38;5;241m*\u001b[39m \u001b[38;5;28mself\u001b[39m\u001b[38;5;241m.\u001b[39mup_proj(x))\n\u001b[1;32m    243\u001b[0m \u001b[38;5;28;01mreturn\u001b[39;00m down_proj\n",
      "File \u001b[0;32m~/Library/Python/3.9/lib/python/site-packages/torch/nn/modules/module.py:1511\u001b[0m, in \u001b[0;36mModule._wrapped_call_impl\u001b[0;34m(self, *args, **kwargs)\u001b[0m\n\u001b[1;32m   1509\u001b[0m     \u001b[38;5;28;01mreturn\u001b[39;00m \u001b[38;5;28mself\u001b[39m\u001b[38;5;241m.\u001b[39m_compiled_call_impl(\u001b[38;5;241m*\u001b[39margs, \u001b[38;5;241m*\u001b[39m\u001b[38;5;241m*\u001b[39mkwargs)  \u001b[38;5;66;03m# type: ignore[misc]\u001b[39;00m\n\u001b[1;32m   1510\u001b[0m \u001b[38;5;28;01melse\u001b[39;00m:\n\u001b[0;32m-> 1511\u001b[0m     \u001b[38;5;28;01mreturn\u001b[39;00m \u001b[38;5;28;43mself\u001b[39;49m\u001b[38;5;241;43m.\u001b[39;49m\u001b[43m_call_impl\u001b[49m\u001b[43m(\u001b[49m\u001b[38;5;241;43m*\u001b[39;49m\u001b[43margs\u001b[49m\u001b[43m,\u001b[49m\u001b[43m \u001b[49m\u001b[38;5;241;43m*\u001b[39;49m\u001b[38;5;241;43m*\u001b[39;49m\u001b[43mkwargs\u001b[49m\u001b[43m)\u001b[49m\n",
      "File \u001b[0;32m~/Library/Python/3.9/lib/python/site-packages/torch/nn/modules/module.py:1520\u001b[0m, in \u001b[0;36mModule._call_impl\u001b[0;34m(self, *args, **kwargs)\u001b[0m\n\u001b[1;32m   1515\u001b[0m \u001b[38;5;66;03m# If we don't have any hooks, we want to skip the rest of the logic in\u001b[39;00m\n\u001b[1;32m   1516\u001b[0m \u001b[38;5;66;03m# this function, and just call forward.\u001b[39;00m\n\u001b[1;32m   1517\u001b[0m \u001b[38;5;28;01mif\u001b[39;00m \u001b[38;5;129;01mnot\u001b[39;00m (\u001b[38;5;28mself\u001b[39m\u001b[38;5;241m.\u001b[39m_backward_hooks \u001b[38;5;129;01mor\u001b[39;00m \u001b[38;5;28mself\u001b[39m\u001b[38;5;241m.\u001b[39m_backward_pre_hooks \u001b[38;5;129;01mor\u001b[39;00m \u001b[38;5;28mself\u001b[39m\u001b[38;5;241m.\u001b[39m_forward_hooks \u001b[38;5;129;01mor\u001b[39;00m \u001b[38;5;28mself\u001b[39m\u001b[38;5;241m.\u001b[39m_forward_pre_hooks\n\u001b[1;32m   1518\u001b[0m         \u001b[38;5;129;01mor\u001b[39;00m _global_backward_pre_hooks \u001b[38;5;129;01mor\u001b[39;00m _global_backward_hooks\n\u001b[1;32m   1519\u001b[0m         \u001b[38;5;129;01mor\u001b[39;00m _global_forward_hooks \u001b[38;5;129;01mor\u001b[39;00m _global_forward_pre_hooks):\n\u001b[0;32m-> 1520\u001b[0m     \u001b[38;5;28;01mreturn\u001b[39;00m \u001b[43mforward_call\u001b[49m\u001b[43m(\u001b[49m\u001b[38;5;241;43m*\u001b[39;49m\u001b[43margs\u001b[49m\u001b[43m,\u001b[49m\u001b[43m \u001b[49m\u001b[38;5;241;43m*\u001b[39;49m\u001b[38;5;241;43m*\u001b[39;49m\u001b[43mkwargs\u001b[49m\u001b[43m)\u001b[49m\n\u001b[1;32m   1522\u001b[0m \u001b[38;5;28;01mtry\u001b[39;00m:\n\u001b[1;32m   1523\u001b[0m     result \u001b[38;5;241m=\u001b[39m \u001b[38;5;28;01mNone\u001b[39;00m\n",
      "File \u001b[0;32m~/Library/Python/3.9/lib/python/site-packages/torch/nn/modules/linear.py:116\u001b[0m, in \u001b[0;36mLinear.forward\u001b[0;34m(self, input)\u001b[0m\n\u001b[1;32m    115\u001b[0m \u001b[38;5;28;01mdef\u001b[39;00m \u001b[38;5;21mforward\u001b[39m(\u001b[38;5;28mself\u001b[39m, \u001b[38;5;28minput\u001b[39m: Tensor) \u001b[38;5;241m-\u001b[39m\u001b[38;5;241m>\u001b[39m Tensor:\n\u001b[0;32m--> 116\u001b[0m     \u001b[38;5;28;01mreturn\u001b[39;00m \u001b[43mF\u001b[49m\u001b[38;5;241;43m.\u001b[39;49m\u001b[43mlinear\u001b[49m\u001b[43m(\u001b[49m\u001b[38;5;28;43minput\u001b[39;49m\u001b[43m,\u001b[49m\u001b[43m \u001b[49m\u001b[38;5;28;43mself\u001b[39;49m\u001b[38;5;241;43m.\u001b[39;49m\u001b[43mweight\u001b[49m\u001b[43m,\u001b[49m\u001b[43m \u001b[49m\u001b[38;5;28;43mself\u001b[39;49m\u001b[38;5;241;43m.\u001b[39;49m\u001b[43mbias\u001b[49m\u001b[43m)\u001b[49m\n",
      "\u001b[0;31mKeyboardInterrupt\u001b[0m: "
     ]
    }
   ],
   "source": [
    "topic_names = []\n",
    "all_topics = topic_model.get_topics()\n",
    "for i in range(1,20):\n",
    "    list_of_words = []\n",
    "    for word in all_topics[i]:\n",
    "        list_of_words.append(word[0])\n",
    "    topic_names.append(generate_topic_name(list_of_words))\n",
    "    print(list_of_words)"
   ]
  },
  {
   "cell_type": "code",
   "execution_count": null,
   "metadata": {},
   "outputs": [
    {
     "data": {
      "text/plain": [
       "[('england', 0.01787814296082338),\n",
       " ('cup', 0.016965623358324484),\n",
       " ('world', 0.014833492911927709),\n",
       " ('final', 0.012123167488149015),\n",
       " ('win', 0.011648695460352404),\n",
       " ('match', 0.011584492898009687),\n",
       " ('socceroos', 0.011454175685328727),\n",
       " ('league', 0.010825269150387106),\n",
       " ('players', 0.010652916185838336),\n",
       " ('group', 0.010321853814448473)]"
      ]
     },
     "execution_count": 13,
     "metadata": {},
     "output_type": "execute_result"
    }
   ],
   "source": [
    "all_topics[1]"
   ]
  },
  {
   "cell_type": "markdown",
   "metadata": {},
   "source": [
    "Attach Topic Tags to Each Description based on the topics it contains"
   ]
  },
  {
   "cell_type": "code",
   "execution_count": 14,
   "metadata": {},
   "outputs": [],
   "source": [
    "#iterate through each description\n",
    "#pull the tags that it is most familiar with"
   ]
  },
  {
   "cell_type": "code",
   "execution_count": 24,
   "metadata": {},
   "outputs": [
    {
     "data": {
      "text/plain": [
       "[{'generated_text': 'Given the following set of words england, cup, world, final, win, match, socceroos, league, players, group, return at most three words that describe the generic topic of the article.\\n\\n1. England\\n2. Cup\\n3. World\\n4. Final\\n5. Win\\n6. Match\\n7. Socceroos\\n8. League\\n9. Players\\n10. Group\\n11. Return\\n\\nPlease select the three words that you think best describe the generic topic of the article.'}]"
      ]
     },
     "execution_count": 24,
     "metadata": {},
     "output_type": "execute_result"
    }
   ],
   "source": [
    "topic_names"
   ]
  },
  {
   "cell_type": "code",
   "execution_count": null,
   "metadata": {},
   "outputs": [],
   "source": []
  }
 ],
 "metadata": {
  "kernelspec": {
   "display_name": ".venv",
   "language": "python",
   "name": "python3"
  },
  "language_info": {
   "codemirror_mode": {
    "name": "ipython",
    "version": 3
   },
   "file_extension": ".py",
   "mimetype": "text/x-python",
   "name": "python",
   "nbconvert_exporter": "python",
   "pygments_lexer": "ipython3",
   "version": "3.9.6"
  }
 },
 "nbformat": 4,
 "nbformat_minor": 2
}
